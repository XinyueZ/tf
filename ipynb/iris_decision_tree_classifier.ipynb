{
  "nbformat": 4,
  "nbformat_minor": 0,
  "metadata": {
    "colab": {
      "name": "iris_decision_tree_classifier.ipynb",
      "version": "0.3.2",
      "provenance": [],
      "collapsed_sections": [],
      "include_colab_link": true
    },
    "kernelspec": {
      "name": "python3",
      "display_name": "Python 3"
    }
  },
  "cells": [
    {
      "cell_type": "markdown",
      "metadata": {
        "id": "view-in-github",
        "colab_type": "text"
      },
      "source": [
        "[View in Colaboratory](https://colab.research.google.com/github/XinyueZ/tf/blob/master/ipynb/iris_decision_tree_classifier.ipynb)"
      ]
    },
    {
      "metadata": {
        "id": "WIsGkMXyvCgo",
        "colab_type": "code",
        "colab": {}
      },
      "cell_type": "code",
      "source": [
        "from sklearn import tree\n",
        "from sklearn.datasets import load_iris\n"
      ],
      "execution_count": 0,
      "outputs": []
    },
    {
      "metadata": {
        "id": "gq34M84xvRzp",
        "colab_type": "code",
        "colab": {}
      },
      "cell_type": "code",
      "source": [
        "iris_dataset = load_iris()"
      ],
      "execution_count": 0,
      "outputs": []
    },
    {
      "metadata": {
        "id": "HVFKsP9HvShg",
        "colab_type": "code",
        "colab": {}
      },
      "cell_type": "code",
      "source": [
        "print(iris_dataset)"
      ],
      "execution_count": 0,
      "outputs": []
    },
    {
      "metadata": {
        "id": "3h8gVjWAz4Cl",
        "colab_type": "code",
        "colab": {}
      },
      "cell_type": "code",
      "source": [
        "CUT_DATA = .5  # Cut part of data from original.\n",
        "train_size = int(len(iris_dataset.data) * CUT_DATA)\n",
        "print(\"train.size: {}\".format(train_size))"
      ],
      "execution_count": 0,
      "outputs": []
    },
    {
      "metadata": {
        "id": "w2oQ_o7W0Cqr",
        "colab_type": "code",
        "colab": {}
      },
      "cell_type": "code",
      "source": [
        "train_data = iris_dataset.data[:train_size]\n",
        "train_labels = iris_dataset.target[:train_size]\n",
        "print(\"train.data:\\n{}\\n\\ntrain.labels:\\n{}\".format(train_data, train_labels))"
      ],
      "execution_count": 0,
      "outputs": []
    },
    {
      "metadata": {
        "id": "SBCfp1-52W88",
        "colab_type": "code",
        "colab": {}
      },
      "cell_type": "code",
      "source": [
        "test_data = iris_dataset.data[train_size:]\n",
        "test_labels = iris_dataset.target[train_size:]\n",
        "print(\"test.data:\\n{}\\n\\ntest.labels:\\n{}\".format(test_data, test_labels))"
      ],
      "execution_count": 0,
      "outputs": []
    },
    {
      "metadata": {
        "id": "NPaFWB2235sO",
        "colab_type": "code",
        "colab": {}
      },
      "cell_type": "code",
      "source": [
        "model = tree.DecisionTreeClassifier()\n",
        "model.fit(train_data, train_labels)"
      ],
      "execution_count": 0,
      "outputs": []
    },
    {
      "metadata": {
        "id": "3HnwKonl4PgW",
        "colab_type": "code",
        "colab": {}
      },
      "cell_type": "code",
      "source": [
        "predication_labels = model.predict(test_data)\n",
        "print(predication_labels)"
      ],
      "execution_count": 0,
      "outputs": []
    },
    {
      "metadata": {
        "id": "-oaKvdwh4vHf",
        "colab_type": "code",
        "colab": {}
      },
      "cell_type": "code",
      "source": [
        "from sklearn.metrics import accuracy_score"
      ],
      "execution_count": 0,
      "outputs": []
    },
    {
      "metadata": {
        "id": "Liv6iuoW5iT_",
        "colab_type": "code",
        "colab": {}
      },
      "cell_type": "code",
      "source": [
        "accuracy = accuracy_score(test_labels, predication_labels)\n",
        "print(\"Accuracy: {:.4}%\".format(accuracy * 100))"
      ],
      "execution_count": 0,
      "outputs": []
    }
  ]
}