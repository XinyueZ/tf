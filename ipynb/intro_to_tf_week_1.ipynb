{
  "nbformat": 4,
  "nbformat_minor": 0,
  "metadata": {
    "colab": {
      "name": "intro_to_tf_week_1.ipynb",
      "version": "0.3.2",
      "provenance": [],
      "include_colab_link": true
    },
    "kernelspec": {
      "name": "python3",
      "display_name": "Python 3"
    },
    "accelerator": "GPU"
  },
  "cells": [
    {
      "cell_type": "markdown",
      "metadata": {
        "id": "view-in-github",
        "colab_type": "text"
      },
      "source": [
        "[View in Colaboratory](https://colab.research.google.com/github/XinyueZ/tf/blob/master/ipynb/intro_to_tf_week_1.ipynb)"
      ]
    },
    {
      "metadata": {
        "id": "NBC5j8C9AZ2Y",
        "colab_type": "code",
        "colab": {}
      },
      "cell_type": "code",
      "source": [
        "import tensorflow as tf\n",
        "import numpy as np"
      ],
      "execution_count": 0,
      "outputs": []
    },
    {
      "metadata": {
        "id": "q5ZShQDf5Ons",
        "colab_type": "code",
        "colab": {
          "base_uri": "https://localhost:8080/",
          "height": 255
        },
        "outputId": "9d991bee-f9be-4883-88f9-272f63ae06c6"
      },
      "cell_type": "code",
      "source": [
        "!pip install --upgrade tensorflow"
      ],
      "execution_count": 79,
      "outputs": [
        {
          "output_type": "stream",
          "text": [
            "Requirement already up-to-date: tensorflow in /usr/local/lib/python3.6/dist-packages (1.10.0)\r\n",
            "Requirement already satisfied, skipping upgrade: six>=1.10.0 in /usr/local/lib/python3.6/dist-packages (from tensorflow) (1.11.0)\n",
            "Requirement already satisfied, skipping upgrade: numpy<=1.14.5,>=1.13.3 in /usr/local/lib/python3.6/dist-packages (from tensorflow) (1.14.5)\n",
            "Requirement already satisfied, skipping upgrade: astor>=0.6.0 in /usr/local/lib/python3.6/dist-packages (from tensorflow) (0.7.1)\n",
            "Requirement already satisfied, skipping upgrade: protobuf>=3.6.0 in /usr/local/lib/python3.6/dist-packages (from tensorflow) (3.6.0)\n",
            "Requirement already satisfied, skipping upgrade: tensorboard<1.11.0,>=1.10.0 in /usr/local/lib/python3.6/dist-packages (from tensorflow) (1.10.0)\n",
            "Requirement already satisfied, skipping upgrade: gast>=0.2.0 in /usr/local/lib/python3.6/dist-packages (from tensorflow) (0.2.0)\n",
            "Requirement already satisfied, skipping upgrade: setuptools<=39.1.0 in /usr/local/lib/python3.6/dist-packages (from tensorflow) (39.1.0)\n",
            "Requirement already satisfied, skipping upgrade: termcolor>=1.1.0 in /usr/local/lib/python3.6/dist-packages (from tensorflow) (1.1.0)\n",
            "Requirement already satisfied, skipping upgrade: wheel>=0.26 in /usr/local/lib/python3.6/dist-packages (from tensorflow) (0.31.1)\n",
            "Requirement already satisfied, skipping upgrade: grpcio>=1.8.6 in /usr/local/lib/python3.6/dist-packages (from tensorflow) (1.14.1)\n",
            "Requirement already satisfied, skipping upgrade: absl-py>=0.1.6 in /usr/local/lib/python3.6/dist-packages (from tensorflow) (0.3.0)\n",
            "Requirement already satisfied, skipping upgrade: werkzeug>=0.11.10 in /usr/local/lib/python3.6/dist-packages (from tensorboard<1.11.0,>=1.10.0->tensorflow) (0.14.1)\n",
            "Requirement already satisfied, skipping upgrade: markdown>=2.6.8 in /usr/local/lib/python3.6/dist-packages (from tensorboard<1.11.0,>=1.10.0->tensorflow) (2.6.11)\n"
          ],
          "name": "stdout"
        }
      ]
    },
    {
      "metadata": {
        "id": "wjkA4YbGx5JB",
        "colab_type": "code",
        "colab": {}
      },
      "cell_type": "code",
      "source": [
        "a = tf.constant([5,3,8])\n",
        "b = tf.constant([5,3,8])\n",
        "c = tf.add(a, b)"
      ],
      "execution_count": 0,
      "outputs": []
    },
    {
      "metadata": {
        "id": "f-rXrC0uCoFP",
        "colab_type": "code",
        "colab": {}
      },
      "cell_type": "code",
      "source": [
        "def forward_pass(w, x):\n",
        "  return tf.matmul(w, x)"
      ],
      "execution_count": 0,
      "outputs": []
    },
    {
      "metadata": {
        "id": "mDnX6nqxCtTY",
        "colab_type": "code",
        "colab": {}
      },
      "cell_type": "code",
      "source": [
        "def train_loop(x, niter=5):\n",
        "  with tf.variable_scope(\"model\", reuse=tf.AUTO_REUSE):\n",
        "    w = tf.get_variable(\"weights\",\n",
        "                        shape=(1,2), \n",
        "                        initializer=tf.truncated_normal_initializer(),\n",
        "                        trainable=True)\n",
        "    preds = []\n",
        "    for k in range(niter):\n",
        "      preds.append(forward_pass(w, x))\n",
        "      w = w + 0.1\n",
        "    return preds"
      ],
      "execution_count": 0,
      "outputs": []
    },
    {
      "metadata": {
        "id": "b1PgXcLSbrod",
        "colab_type": "code",
        "colab": {}
      },
      "cell_type": "code",
      "source": [
        "def do_some_sum(values):\n",
        "  x = values[:, 0]\n",
        "  print(\"x: {}\".format(x))\n",
        "  y = values[:, 1]\n",
        "  print(\"y: {}\".format(y))\n",
        "  return x + y"
      ],
      "execution_count": 0,
      "outputs": []
    },
    {
      "metadata": {
        "id": "odp6ijALyD9h",
        "colab_type": "code",
        "colab": {
          "base_uri": "https://localhost:8080/",
          "height": 187
        },
        "outputId": "761cb63d-40a2-4185-d4ca-66e54f5e970c"
      },
      "cell_type": "code",
      "source": [
        "with tf.Session() as sess:\n",
        "  with tf.summary.FileWriter(\"summary\", sess.graph) as writer:\n",
        "    print(c.eval())\n",
        "    print(type(c.eval()))\n",
        "    \n",
        "  preds = train_loop(tf.constant([[3.2, 5.1, 7.2],[4.3, 6.2, 8.3]]))\n",
        "  tf.global_variables_initializer().run()\n",
        "  for i in range(len(preds)):\n",
        "    print(\"{}:{}\".format(i, preds[i].eval()))\n",
        "  \n",
        "  # Run time\n",
        "  #some_const = tf.constant([[9,2],\n",
        "  #                          [3,4]])\n",
        "  #\n",
        "  # Dev \n",
        "  #\n",
        "  some_const = np.array([[9,2],\n",
        "                         [3,4]])\n",
        "  print(do_some_sum(some_const))"
      ],
      "execution_count": 84,
      "outputs": [
        {
          "output_type": "stream",
          "text": [
            "[10  6 16]\n",
            "<class 'numpy.ndarray'>\n",
            "0:[[1.4203702 2.4615707 3.612371 ]]\n",
            "1:[[2.1703703 3.5915706 5.1623707]]\n",
            "2:[[2.92037   4.7215705 6.712371 ]]\n",
            "3:[[3.6703703 5.8515706 8.262371 ]]\n",
            "4:[[4.4203706 6.9815707 9.812371 ]]\n",
            "x: [9 3]\n",
            "y: [2 4]\n",
            "[11  7]\n"
          ],
          "name": "stdout"
        }
      ]
    },
    {
      "metadata": {
        "id": "_BE1aNAZ4kBj",
        "colab_type": "code",
        "colab": {
          "base_uri": "https://localhost:8080/",
          "height": 153
        },
        "outputId": "8ff4e95d-471e-46d0-faf5-beecb7af316e"
      },
      "cell_type": "code",
      "source": [
        "!ls summary"
      ],
      "execution_count": 85,
      "outputs": [
        {
          "output_type": "stream",
          "text": [
            "events.out.tfevents.1533998862.1defcc01279f\r\n",
            "events.out.tfevents.1533998900.1defcc01279f\r\n",
            "events.out.tfevents.1533998922.1defcc01279f\r\n",
            "events.out.tfevents.1533999191.1defcc01279f\r\n",
            "events.out.tfevents.1533999234.1defcc01279f\r\n",
            "events.out.tfevents.1533999264.1defcc01279f\r\n",
            "events.out.tfevents.1533999278.1defcc01279f\r\n",
            "events.out.tfevents.1533999700.1defcc01279f\r\n"
          ],
          "name": "stdout"
        }
      ]
    },
    {
      "metadata": {
        "id": "N1yNkZHtbiTS",
        "colab_type": "code",
        "colab": {}
      },
      "cell_type": "code",
      "source": [
        ""
      ],
      "execution_count": 0,
      "outputs": []
    }
  ]
}