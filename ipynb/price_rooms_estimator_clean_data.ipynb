{
  "nbformat": 4,
  "nbformat_minor": 0,
  "metadata": {
    "colab": {
      "name": "price_rooms_estimator_clean_data.ipynb",
      "version": "0.3.2",
      "provenance": [],
      "collapsed_sections": [],
      "include_colab_link": true
    },
    "kernelspec": {
      "name": "python3",
      "display_name": "Python 3"
    },
    "accelerator": "GPU"
  },
  "cells": [
    {
      "cell_type": "markdown",
      "metadata": {
        "id": "view-in-github",
        "colab_type": "text"
      },
      "source": [
        "[View in Colaboratory](https://colab.research.google.com/github/XinyueZ/tf/blob/master/ipynb/price_rooms_estimator_clean_data.ipynb)"
      ]
    },
    {
      "metadata": {
        "id": "IdHWJgQ0o-4T",
        "colab_type": "text"
      },
      "cell_type": "markdown",
      "source": [
        "# This case is a ML model about the linear relationship between \"average housing area\" and \"price per housing area\"."
      ]
    },
    {
      "metadata": {
        "id": "usywsvFLF2bo",
        "colab_type": "code",
        "colab": {}
      },
      "cell_type": "code",
      "source": [
        "import tensorflow as tf\n",
        "from tensorflow.python.data import Dataset\n",
        "import sklearn\n",
        "from sklearn.preprocessing import LabelEncoder\n",
        "import numpy as np\n",
        "import pandas as pd\n",
        "\n",
        "import math\n",
        "from IPython import display\n",
        "from matplotlib import cm\n",
        "from matplotlib import gridspec\n",
        "from matplotlib import pyplot as plt"
      ],
      "execution_count": 0,
      "outputs": []
    },
    {
      "metadata": {
        "id": "_rvAbHuFjCND",
        "colab_type": "code",
        "colab": {}
      },
      "cell_type": "code",
      "source": [
        "STEPS = 5000  # Steps of train loop. \n",
        "PERIODS = 20\n",
        "STEPS_PER_PERIOD = STEPS / PERIODS\n",
        "LEARNING_RATE = 0.000001\n",
        "BINS = 150"
      ],
      "execution_count": 0,
      "outputs": []
    },
    {
      "metadata": {
        "id": "M1XjwLH4P00k",
        "colab_type": "code",
        "colab": {}
      },
      "cell_type": "code",
      "source": [
        "tf.logging.set_verbosity(tf.logging.INFO)"
      ],
      "execution_count": 0,
      "outputs": []
    },
    {
      "metadata": {
        "id": "6gRBSBTfiO1x",
        "colab_type": "code",
        "colab": {
          "base_uri": "https://localhost:8080/",
          "height": 204
        },
        "outputId": "e88e38cd-11c3-4c8d-d168-d4f81b63395f"
      },
      "cell_type": "code",
      "source": [
        "source = pd.read_csv(\"https://dl.dropbox.com/s/e2tcsgbcp2in5h5/price_rooms_area.tsv\", sep=\"\\t\")\n",
        "source.head()"
      ],
      "execution_count": 925,
      "outputs": [
        {
          "output_type": "execute_result",
          "data": {
            "text/html": [
              "<div>\n",
              "<style scoped>\n",
              "    .dataframe tbody tr th:only-of-type {\n",
              "        vertical-align: middle;\n",
              "    }\n",
              "\n",
              "    .dataframe tbody tr th {\n",
              "        vertical-align: top;\n",
              "    }\n",
              "\n",
              "    .dataframe thead th {\n",
              "        text-align: right;\n",
              "    }\n",
              "</style>\n",
              "<table border=\"1\" class=\"dataframe\">\n",
              "  <thead>\n",
              "    <tr style=\"text-align: right;\">\n",
              "      <th></th>\n",
              "      <th>PRICE</th>\n",
              "      <th>ROOMS</th>\n",
              "      <th>AREA</th>\n",
              "      <th>OBJECTCAT</th>\n",
              "      <th>MARKETINGTYPE</th>\n",
              "    </tr>\n",
              "  </thead>\n",
              "  <tbody>\n",
              "    <tr>\n",
              "      <th>0</th>\n",
              "      <td>5</td>\n",
              "      <td>0</td>\n",
              "      <td>249</td>\n",
              "      <td>Sonstiges Büro-/Praxisobjekt</td>\n",
              "      <td>Miete</td>\n",
              "    </tr>\n",
              "    <tr>\n",
              "      <th>1</th>\n",
              "      <td>595000</td>\n",
              "      <td>9</td>\n",
              "      <td>440</td>\n",
              "      <td>Besondere Immobilie</td>\n",
              "      <td>Kauf</td>\n",
              "    </tr>\n",
              "    <tr>\n",
              "      <th>2</th>\n",
              "      <td>199000</td>\n",
              "      <td>6</td>\n",
              "      <td>135,75</td>\n",
              "      <td>Stadthaus</td>\n",
              "      <td>Kauf</td>\n",
              "    </tr>\n",
              "    <tr>\n",
              "      <th>3</th>\n",
              "      <td>269000</td>\n",
              "      <td>9</td>\n",
              "      <td>203,57</td>\n",
              "      <td>Stadthaus</td>\n",
              "      <td>Kauf</td>\n",
              "    </tr>\n",
              "    <tr>\n",
              "      <th>4</th>\n",
              "      <td>562</td>\n",
              "      <td>3</td>\n",
              "      <td>63,15</td>\n",
              "      <td>Etagenwohnung</td>\n",
              "      <td>Miete</td>\n",
              "    </tr>\n",
              "  </tbody>\n",
              "</table>\n",
              "</div>"
            ],
            "text/plain": [
              "    PRICE ROOMS    AREA                     OBJECTCAT MARKETINGTYPE\n",
              "0       5     0     249  Sonstiges Büro-/Praxisobjekt         Miete\n",
              "1  595000     9     440           Besondere Immobilie          Kauf\n",
              "2  199000     6  135,75                     Stadthaus          Kauf\n",
              "3  269000     9  203,57                     Stadthaus          Kauf\n",
              "4     562     3   63,15                 Etagenwohnung         Miete"
            ]
          },
          "metadata": {
            "tags": []
          },
          "execution_count": 925
        }
      ]
    },
    {
      "metadata": {
        "id": "WohcWzXppE-B",
        "colab_type": "text"
      },
      "cell_type": "markdown",
      "source": [
        "# Clean the data-source\n",
        "- Remove rows containing *null*\n",
        "- Remove rows containing *N/A*\n",
        "- Add New data columns: \"Average housing area\" and \"per housing area price\".\n",
        "- Clean new added columns"
      ]
    },
    {
      "metadata": {
        "id": "BOmAzUQfzIvs",
        "colab_type": "code",
        "colab": {}
      },
      "cell_type": "code",
      "source": [
        "def clean_data(source):\n",
        "  df = source\n",
        "  \n",
        "  # Remove null rows\n",
        "  df = df[pd.notnull(df[\"PRICE\"])]\n",
        "  df = df[pd.notnull(df[\"ROOMS\"])]\n",
        "  df = df[pd.notnull(df[\"AREA\"])]\n",
        "  \n",
        "  # Remove useless columns\n",
        "  df = df.drop([\"OBJECTCAT\"], axis=1)\n",
        "  df = df[~df[\"MARKETINGTYPE\"].isin([\"Miete\"])]\n",
        "  df = df.drop([\"MARKETINGTYPE\"], axis=1)\n",
        "  \n",
        "  # Convert all strings to numeric\n",
        "  df = df.convert_objects(convert_numeric=True)\n",
        "  \n",
        "  # Remove rows containing a \"0\", i.e price = 0 or rooms = 0\n",
        "  df = df[~(df[[\"PRICE\", \"ROOMS\",\"AREA\"]] == 0)]\n",
        "  \n",
        "  # Remove rows containing N/A \n",
        "  df = df[pd.notna(df[\"PRICE\"])]\n",
        "  df = df[pd.notna(df[\"ROOMS\"])]\n",
        "  df = df[pd.notna(df[\"AREA\"])]\n",
        "\n",
        "  # Insert new column of \"price of pro-area\"\n",
        "  df.insert(1, \"PRICE_PRO_AREA\", df[\"PRICE\"] / df[\"AREA\"]) \n",
        "  df = df[~(df[\"PRICE_PRO_AREA\"] < 5)]\n",
        "  #df[\"PRICE_PRO_AREA\"] = df[\"PRICE_PRO_AREA\"] / 1000 #Scale -1000 for easy demo.\n",
        "  df[\"PRICE_PRO_AREA\"] = np.log(df[\"PRICE_PRO_AREA\"])\n",
        "  df = df[pd.notnull(df[\"PRICE_PRO_AREA\"])]\n",
        "  df = df[pd.notna(df[\"PRICE_PRO_AREA\"])]\n",
        "    \n",
        "  # Insert new column of \"area of each room\"\n",
        "  df.insert(4, \"AREA_PRO_ROOM\", df[\"AREA\"] / df[\"ROOMS\"]) \n",
        "  df = df[~(df[\"AREA_PRO_ROOM\"] < 1)]\n",
        "  df[\"AREA_PRO_ROOM\"] = np.log(df[\"AREA_PRO_ROOM\"])\n",
        "  df = df[pd.notnull(df[\"AREA_PRO_ROOM\"])]\n",
        "  df = df[pd.notna(df[\"AREA_PRO_ROOM\"])]\n",
        "  \n",
        "  return df"
      ],
      "execution_count": 0,
      "outputs": []
    },
    {
      "metadata": {
        "id": "59c_lb5i3aTH",
        "colab_type": "code",
        "colab": {
          "base_uri": "https://localhost:8080/",
          "height": 68
        },
        "outputId": "78af8a08-a529-4467-e09a-195384e7bab4"
      },
      "cell_type": "code",
      "source": [
        "df = clean_data(source)"
      ],
      "execution_count": 927,
      "outputs": [
        {
          "output_type": "stream",
          "text": [
            "/usr/local/lib/python3.6/dist-packages/ipykernel_launcher.py:15: FutureWarning: convert_objects is deprecated.  To re-infer data dtypes for object columns, use DataFrame.infer_objects()\n",
            "For all other conversions use the data-type specific converters pd.to_datetime, pd.to_timedelta and pd.to_numeric.\n",
            "  from ipykernel import kernelapp as app\n"
          ],
          "name": "stderr"
        }
      ]
    },
    {
      "metadata": {
        "id": "SN-xnRxjzT2T",
        "colab_type": "code",
        "colab": {
          "base_uri": "https://localhost:8080/",
          "height": 204
        },
        "outputId": "00afbaac-c70c-40ef-e212-15d9a1813c55"
      },
      "cell_type": "code",
      "source": [
        "df.head()"
      ],
      "execution_count": 928,
      "outputs": [
        {
          "output_type": "execute_result",
          "data": {
            "text/html": [
              "<div>\n",
              "<style scoped>\n",
              "    .dataframe tbody tr th:only-of-type {\n",
              "        vertical-align: middle;\n",
              "    }\n",
              "\n",
              "    .dataframe tbody tr th {\n",
              "        vertical-align: top;\n",
              "    }\n",
              "\n",
              "    .dataframe thead th {\n",
              "        text-align: right;\n",
              "    }\n",
              "</style>\n",
              "<table border=\"1\" class=\"dataframe\">\n",
              "  <thead>\n",
              "    <tr style=\"text-align: right;\">\n",
              "      <th></th>\n",
              "      <th>PRICE</th>\n",
              "      <th>PRICE_PRO_AREA</th>\n",
              "      <th>ROOMS</th>\n",
              "      <th>AREA</th>\n",
              "      <th>AREA_PRO_ROOM</th>\n",
              "    </tr>\n",
              "  </thead>\n",
              "  <tbody>\n",
              "    <tr>\n",
              "      <th>1</th>\n",
              "      <td>595000.0</td>\n",
              "      <td>7.209542</td>\n",
              "      <td>9.0</td>\n",
              "      <td>440.0</td>\n",
              "      <td>3.889550</td>\n",
              "    </tr>\n",
              "    <tr>\n",
              "      <th>5</th>\n",
              "      <td>299000.0</td>\n",
              "      <td>7.666556</td>\n",
              "      <td>5.0</td>\n",
              "      <td>140.0</td>\n",
              "      <td>3.332205</td>\n",
              "    </tr>\n",
              "    <tr>\n",
              "      <th>6</th>\n",
              "      <td>685000.0</td>\n",
              "      <td>7.497003</td>\n",
              "      <td>8.0</td>\n",
              "      <td>380.0</td>\n",
              "      <td>3.860730</td>\n",
              "    </tr>\n",
              "    <tr>\n",
              "      <th>8</th>\n",
              "      <td>206000.0</td>\n",
              "      <td>6.600842</td>\n",
              "      <td>1.0</td>\n",
              "      <td>280.0</td>\n",
              "      <td>5.634790</td>\n",
              "    </tr>\n",
              "    <tr>\n",
              "      <th>9</th>\n",
              "      <td>75000.0</td>\n",
              "      <td>7.114370</td>\n",
              "      <td>3.0</td>\n",
              "      <td>61.0</td>\n",
              "      <td>3.012262</td>\n",
              "    </tr>\n",
              "  </tbody>\n",
              "</table>\n",
              "</div>"
            ],
            "text/plain": [
              "      PRICE  PRICE_PRO_AREA  ROOMS   AREA  AREA_PRO_ROOM\n",
              "1  595000.0        7.209542    9.0  440.0       3.889550\n",
              "5  299000.0        7.666556    5.0  140.0       3.332205\n",
              "6  685000.0        7.497003    8.0  380.0       3.860730\n",
              "8  206000.0        6.600842    1.0  280.0       5.634790\n",
              "9   75000.0        7.114370    3.0   61.0       3.012262"
            ]
          },
          "metadata": {
            "tags": []
          },
          "execution_count": 928
        }
      ]
    },
    {
      "metadata": {
        "id": "B7G_QUbGL0YZ",
        "colab_type": "code",
        "colab": {
          "base_uri": "https://localhost:8080/",
          "height": 378
        },
        "outputId": "1bd1828e-5ff2-4644-ee5e-75473f4dde81"
      },
      "cell_type": "code",
      "source": [
        "df.plot.scatter(x='AREA_PRO_ROOM', y='PRICE_PRO_AREA')"
      ],
      "execution_count": 929,
      "outputs": [
        {
          "output_type": "execute_result",
          "data": {
            "text/plain": [
              "<matplotlib.axes._subplots.AxesSubplot at 0x7f0326da12e8>"
            ]
          },
          "metadata": {
            "tags": []
          },
          "execution_count": 929
        },
        {
          "output_type": "display_data",
          "data": {
            "image/png": "[encoded data removed]",
            "text/plain": [
              "<matplotlib.figure.Figure at 0x7f031a28a898>"
            ]
          },
          "metadata": {
            "tags": []
          }
        }
      ]
    },
    {
      "metadata": {
        "id": "PWk86xsBDkch",
        "colab_type": "code",
        "colab": {}
      },
      "cell_type": "code",
      "source": [
        "def make_dataset_and_labels_and_class_num(df, label_name):\n",
        "  \"\"\"This method will prepare da, labels for train, evaluation, test.\n",
        "     Args:\n",
        "      df: DataFrame format of datasource.\n",
        "      label_name: The name of column in datasource which will be as target for train.\n",
        "     Return: \n",
        "       Tuple of (ds_train, ds_eval, ds_test, label_train, label_eval, label_test)\n",
        "      \n",
        "  \"\"\"\n",
        "  target_label_col = label_name\n",
        "   \n",
        "  random_seed = None\n",
        "  np.random.seed(random_seed)\n",
        "  \n",
        "  ds_train = df.sample(frac=0.7, random_state=random_seed)\n",
        "  label_train = ds_train[[target_label_col]]\n",
        "  \n",
        "  ds_rest = df.drop(ds_train.index)\n",
        "  ds_rest = ds_rest.copy()\n",
        "  \n",
        "  ds_eval = ds_rest.sample(frac=0.7, random_state=random_seed)\n",
        "  label_eval = ds_eval[[target_label_col]]\n",
        "  \n",
        "  ds_test = ds_rest.drop(ds_eval.index)\n",
        "  label_test = ds_test[[target_label_col]]\n",
        "  \n",
        "  return ds_train[[\"AREA_PRO_ROOM\"]], ds_eval[[\"AREA_PRO_ROOM\"]], ds_test[[\"AREA_PRO_ROOM\"]], label_train, label_eval, label_test"
      ],
      "execution_count": 0,
      "outputs": []
    },
    {
      "metadata": {
        "id": "NgkHsXdun_dO",
        "colab_type": "code",
        "colab": {}
      },
      "cell_type": "code",
      "source": [
        "x_train, x_eval, x_test, y_train, y_eval, y_test = make_dataset_and_labels_and_class_num(df, \"PRICE_PRO_AREA\")"
      ],
      "execution_count": 0,
      "outputs": []
    },
    {
      "metadata": {
        "id": "mgVYA89XoHIV",
        "colab_type": "code",
        "colab": {
          "base_uri": "https://localhost:8080/",
          "height": 297
        },
        "outputId": "29c02bd9-bfa3-4000-f556-c7a3db776f08"
      },
      "cell_type": "code",
      "source": [
        "x_train.describe()"
      ],
      "execution_count": 932,
      "outputs": [
        {
          "output_type": "execute_result",
          "data": {
            "text/html": [
              "<div>\n",
              "<style scoped>\n",
              "    .dataframe tbody tr th:only-of-type {\n",
              "        vertical-align: middle;\n",
              "    }\n",
              "\n",
              "    .dataframe tbody tr th {\n",
              "        vertical-align: top;\n",
              "    }\n",
              "\n",
              "    .dataframe thead th {\n",
              "        text-align: right;\n",
              "    }\n",
              "</style>\n",
              "<table border=\"1\" class=\"dataframe\">\n",
              "  <thead>\n",
              "    <tr style=\"text-align: right;\">\n",
              "      <th></th>\n",
              "      <th>AREA_PRO_ROOM</th>\n",
              "    </tr>\n",
              "  </thead>\n",
              "  <tbody>\n",
              "    <tr>\n",
              "      <th>count</th>\n",
              "      <td>89726.000000</td>\n",
              "    </tr>\n",
              "    <tr>\n",
              "      <th>mean</th>\n",
              "      <td>3.452166</td>\n",
              "    </tr>\n",
              "    <tr>\n",
              "      <th>std</th>\n",
              "      <td>0.425583</td>\n",
              "    </tr>\n",
              "    <tr>\n",
              "      <th>min</th>\n",
              "      <td>0.000000</td>\n",
              "    </tr>\n",
              "    <tr>\n",
              "      <th>25%</th>\n",
              "      <td>3.218876</td>\n",
              "    </tr>\n",
              "    <tr>\n",
              "      <th>50%</th>\n",
              "      <td>3.394508</td>\n",
              "    </tr>\n",
              "    <tr>\n",
              "      <th>75%</th>\n",
              "      <td>3.604138</td>\n",
              "    </tr>\n",
              "    <tr>\n",
              "      <th>max</th>\n",
              "      <td>9.581904</td>\n",
              "    </tr>\n",
              "  </tbody>\n",
              "</table>\n",
              "</div>"
            ],
            "text/plain": [
              "       AREA_PRO_ROOM\n",
              "count   89726.000000\n",
              "mean        3.452166\n",
              "std         0.425583\n",
              "min         0.000000\n",
              "25%         3.218876\n",
              "50%         3.394508\n",
              "75%         3.604138\n",
              "max         9.581904"
            ]
          },
          "metadata": {
            "tags": []
          },
          "execution_count": 932
        }
      ]
    },
    {
      "metadata": {
        "id": "1TR94pSWkeyR",
        "colab_type": "code",
        "colab": {
          "base_uri": "https://localhost:8080/",
          "height": 396
        },
        "outputId": "cf3a2b9a-5ace-43c4-d49f-9e9c30792758"
      },
      "cell_type": "code",
      "source": [
        "x_train.hist(\"AREA_PRO_ROOM\", bins = BINS)"
      ],
      "execution_count": 933,
      "outputs": [
        {
          "output_type": "execute_result",
          "data": {
            "text/plain": [
              "array([[<matplotlib.axes._subplots.AxesSubplot object at 0x7f032423c6a0>]],\n",
              "      dtype=object)"
            ]
          },
          "metadata": {
            "tags": []
          },
          "execution_count": 933
        },
        {
          "output_type": "display_data",
          "data": {
            "image/png": "[encoded data removed]",
            "text/plain": [
              "<matplotlib.figure.Figure at 0x7f03186f7ef0>"
            ]
          },
          "metadata": {
            "tags": []
          }
        }
      ]
    },
    {
      "metadata": {
        "id": "rEwxanjWz1dm",
        "colab_type": "code",
        "colab": {
          "base_uri": "https://localhost:8080/",
          "height": 297
        },
        "outputId": "f7e08448-3656-4750-c7c2-63cdc8ba7789"
      },
      "cell_type": "code",
      "source": [
        "y_train.describe()"
      ],
      "execution_count": 934,
      "outputs": [
        {
          "output_type": "execute_result",
          "data": {
            "text/html": [
              "<div>\n",
              "<style scoped>\n",
              "    .dataframe tbody tr th:only-of-type {\n",
              "        vertical-align: middle;\n",
              "    }\n",
              "\n",
              "    .dataframe tbody tr th {\n",
              "        vertical-align: top;\n",
              "    }\n",
              "\n",
              "    .dataframe thead th {\n",
              "        text-align: right;\n",
              "    }\n",
              "</style>\n",
              "<table border=\"1\" class=\"dataframe\">\n",
              "  <thead>\n",
              "    <tr style=\"text-align: right;\">\n",
              "      <th></th>\n",
              "      <th>PRICE_PRO_AREA</th>\n",
              "    </tr>\n",
              "  </thead>\n",
              "  <tbody>\n",
              "    <tr>\n",
              "      <th>count</th>\n",
              "      <td>89726.000000</td>\n",
              "    </tr>\n",
              "    <tr>\n",
              "      <th>mean</th>\n",
              "      <td>7.525239</td>\n",
              "    </tr>\n",
              "    <tr>\n",
              "      <th>std</th>\n",
              "      <td>0.733379</td>\n",
              "    </tr>\n",
              "    <tr>\n",
              "      <th>min</th>\n",
              "      <td>1.629641</td>\n",
              "    </tr>\n",
              "    <tr>\n",
              "      <th>25%</th>\n",
              "      <td>7.130899</td>\n",
              "    </tr>\n",
              "    <tr>\n",
              "      <th>50%</th>\n",
              "      <td>7.561682</td>\n",
              "    </tr>\n",
              "    <tr>\n",
              "      <th>75%</th>\n",
              "      <td>7.964124</td>\n",
              "    </tr>\n",
              "    <tr>\n",
              "      <th>max</th>\n",
              "      <td>20.960654</td>\n",
              "    </tr>\n",
              "  </tbody>\n",
              "</table>\n",
              "</div>"
            ],
            "text/plain": [
              "       PRICE_PRO_AREA\n",
              "count    89726.000000\n",
              "mean         7.525239\n",
              "std          0.733379\n",
              "min          1.629641\n",
              "25%          7.130899\n",
              "50%          7.561682\n",
              "75%          7.964124\n",
              "max         20.960654"
            ]
          },
          "metadata": {
            "tags": []
          },
          "execution_count": 934
        }
      ]
    },
    {
      "metadata": {
        "id": "My61JIwfa_Sk",
        "colab_type": "code",
        "colab": {
          "base_uri": "https://localhost:8080/",
          "height": 396
        },
        "outputId": "0e56262f-54ea-4c9d-e5e4-cf2795241839"
      },
      "cell_type": "code",
      "source": [
        "y_train.hist(\"PRICE_PRO_AREA\", bins=BINS)"
      ],
      "execution_count": 935,
      "outputs": [
        {
          "output_type": "execute_result",
          "data": {
            "text/plain": [
              "array([[<matplotlib.axes._subplots.AxesSubplot object at 0x7f0314424160>]],\n",
              "      dtype=object)"
            ]
          },
          "metadata": {
            "tags": []
          },
          "execution_count": 935
        },
        {
          "output_type": "display_data",
          "data": {
            "image/png": "[encoded data removed]",
            "text/plain": [
              "<matplotlib.figure.Figure at 0x7f02e81a0b00>"
            ]
          },
          "metadata": {
            "tags": []
          }
        }
      ]
    },
    {
      "metadata": {
        "id": "ZXP4bHjfeLMW",
        "colab_type": "code",
        "colab": {
          "base_uri": "https://localhost:8080/",
          "height": 378
        },
        "outputId": "50b0aea2-8780-443b-857a-b0866919a459"
      },
      "cell_type": "code",
      "source": [
        "pd.concat([x_train, y_train], axis=1).plot.scatter(x='AREA_PRO_ROOM', y='PRICE_PRO_AREA') "
      ],
      "execution_count": 936,
      "outputs": [
        {
          "output_type": "execute_result",
          "data": {
            "text/plain": [
              "<matplotlib.axes._subplots.AxesSubplot at 0x7f030dce0908>"
            ]
          },
          "metadata": {
            "tags": []
          },
          "execution_count": 936
        },
        {
          "output_type": "display_data",
          "data": {
            "image/png": "[encoded data removed]",
            "text/plain": [
              "<matplotlib.figure.Figure at 0x7f0312684320>"
            ]
          },
          "metadata": {
            "tags": []
          }
        }
      ]
    },
    {
      "metadata": {
        "id": "oMlOOyPQoI1E",
        "colab_type": "code",
        "colab": {
          "base_uri": "https://localhost:8080/",
          "height": 297
        },
        "outputId": "60ca942c-a60e-40de-dd6d-1305c05683a8"
      },
      "cell_type": "code",
      "source": [
        "x_eval.describe()"
      ],
      "execution_count": 937,
      "outputs": [
        {
          "output_type": "execute_result",
          "data": {
            "text/html": [
              "<div>\n",
              "<style scoped>\n",
              "    .dataframe tbody tr th:only-of-type {\n",
              "        vertical-align: middle;\n",
              "    }\n",
              "\n",
              "    .dataframe tbody tr th {\n",
              "        vertical-align: top;\n",
              "    }\n",
              "\n",
              "    .dataframe thead th {\n",
              "        text-align: right;\n",
              "    }\n",
              "</style>\n",
              "<table border=\"1\" class=\"dataframe\">\n",
              "  <thead>\n",
              "    <tr style=\"text-align: right;\">\n",
              "      <th></th>\n",
              "      <th>AREA_PRO_ROOM</th>\n",
              "    </tr>\n",
              "  </thead>\n",
              "  <tbody>\n",
              "    <tr>\n",
              "      <th>count</th>\n",
              "      <td>26918.000000</td>\n",
              "    </tr>\n",
              "    <tr>\n",
              "      <th>mean</th>\n",
              "      <td>3.452510</td>\n",
              "    </tr>\n",
              "    <tr>\n",
              "      <th>std</th>\n",
              "      <td>0.431524</td>\n",
              "    </tr>\n",
              "    <tr>\n",
              "      <th>min</th>\n",
              "      <td>0.000000</td>\n",
              "    </tr>\n",
              "    <tr>\n",
              "      <th>25%</th>\n",
              "      <td>3.218876</td>\n",
              "    </tr>\n",
              "    <tr>\n",
              "      <th>50%</th>\n",
              "      <td>3.401197</td>\n",
              "    </tr>\n",
              "    <tr>\n",
              "      <th>75%</th>\n",
              "      <td>3.608042</td>\n",
              "    </tr>\n",
              "    <tr>\n",
              "      <th>max</th>\n",
              "      <td>9.903488</td>\n",
              "    </tr>\n",
              "  </tbody>\n",
              "</table>\n",
              "</div>"
            ],
            "text/plain": [
              "       AREA_PRO_ROOM\n",
              "count   26918.000000\n",
              "mean        3.452510\n",
              "std         0.431524\n",
              "min         0.000000\n",
              "25%         3.218876\n",
              "50%         3.401197\n",
              "75%         3.608042\n",
              "max         9.903488"
            ]
          },
          "metadata": {
            "tags": []
          },
          "execution_count": 937
        }
      ]
    },
    {
      "metadata": {
        "id": "tHRgt5Vyy3W1",
        "colab_type": "code",
        "colab": {
          "base_uri": "https://localhost:8080/",
          "height": 396
        },
        "outputId": "f2ec6ca7-f2f6-4354-951d-a3388627c9f2"
      },
      "cell_type": "code",
      "source": [
        "x_eval.hist(\"AREA_PRO_ROOM\", bins = BINS)"
      ],
      "execution_count": 938,
      "outputs": [
        {
          "output_type": "execute_result",
          "data": {
            "text/plain": [
              "array([[<matplotlib.axes._subplots.AxesSubplot object at 0x7f031b759908>]],\n",
              "      dtype=object)"
            ]
          },
          "metadata": {
            "tags": []
          },
          "execution_count": 938
        },
        {
          "output_type": "display_data",
          "data": {
            "image/png": "[encoded data removed]",
            "text/plain": [
              "<matplotlib.figure.Figure at 0x7f03123b42b0>"
            ]
          },
          "metadata": {
            "tags": []
          }
        }
      ]
    },
    {
      "metadata": {
        "id": "vuLSow1Sz71e",
        "colab_type": "code",
        "colab": {
          "base_uri": "https://localhost:8080/",
          "height": 297
        },
        "outputId": "a57148d0-b1e7-47fb-e7b3-c67cb2adf97b"
      },
      "cell_type": "code",
      "source": [
        "y_eval.describe()"
      ],
      "execution_count": 939,
      "outputs": [
        {
          "output_type": "execute_result",
          "data": {
            "text/html": [
              "<div>\n",
              "<style scoped>\n",
              "    .dataframe tbody tr th:only-of-type {\n",
              "        vertical-align: middle;\n",
              "    }\n",
              "\n",
              "    .dataframe tbody tr th {\n",
              "        vertical-align: top;\n",
              "    }\n",
              "\n",
              "    .dataframe thead th {\n",
              "        text-align: right;\n",
              "    }\n",
              "</style>\n",
              "<table border=\"1\" class=\"dataframe\">\n",
              "  <thead>\n",
              "    <tr style=\"text-align: right;\">\n",
              "      <th></th>\n",
              "      <th>PRICE_PRO_AREA</th>\n",
              "    </tr>\n",
              "  </thead>\n",
              "  <tbody>\n",
              "    <tr>\n",
              "      <th>count</th>\n",
              "      <td>26918.000000</td>\n",
              "    </tr>\n",
              "    <tr>\n",
              "      <th>mean</th>\n",
              "      <td>7.524879</td>\n",
              "    </tr>\n",
              "    <tr>\n",
              "      <th>std</th>\n",
              "      <td>0.739413</td>\n",
              "    </tr>\n",
              "    <tr>\n",
              "      <th>min</th>\n",
              "      <td>1.666556</td>\n",
              "    </tr>\n",
              "    <tr>\n",
              "      <th>25%</th>\n",
              "      <td>7.130899</td>\n",
              "    </tr>\n",
              "    <tr>\n",
              "      <th>50%</th>\n",
              "      <td>7.566274</td>\n",
              "    </tr>\n",
              "    <tr>\n",
              "      <th>75%</th>\n",
              "      <td>7.964774</td>\n",
              "    </tr>\n",
              "    <tr>\n",
              "      <th>max</th>\n",
              "      <td>16.762453</td>\n",
              "    </tr>\n",
              "  </tbody>\n",
              "</table>\n",
              "</div>"
            ],
            "text/plain": [
              "       PRICE_PRO_AREA\n",
              "count    26918.000000\n",
              "mean         7.524879\n",
              "std          0.739413\n",
              "min          1.666556\n",
              "25%          7.130899\n",
              "50%          7.566274\n",
              "75%          7.964774\n",
              "max         16.762453"
            ]
          },
          "metadata": {
            "tags": []
          },
          "execution_count": 939
        }
      ]
    },
    {
      "metadata": {
        "id": "AUtCzIVGdT4c",
        "colab_type": "code",
        "colab": {
          "base_uri": "https://localhost:8080/",
          "height": 396
        },
        "outputId": "06157211-e9dc-49e0-8159-efadb15ece92"
      },
      "cell_type": "code",
      "source": [
        "y_eval.hist(\"PRICE_PRO_AREA\", bins=BINS)"
      ],
      "execution_count": 940,
      "outputs": [
        {
          "output_type": "execute_result",
          "data": {
            "text/plain": [
              "array([[<matplotlib.axes._subplots.AxesSubplot object at 0x7f031918f668>]],\n",
              "      dtype=object)"
            ]
          },
          "metadata": {
            "tags": []
          },
          "execution_count": 940
        },
        {
          "output_type": "display_data",
          "data": {
            "image/png": "[encoded data removed]",
            "text/plain": [
              "<matplotlib.figure.Figure at 0x7f031919add8>"
            ]
          },
          "metadata": {
            "tags": []
          }
        }
      ]
    },
    {
      "metadata": {
        "id": "rGF9lnTPzHet",
        "colab_type": "code",
        "colab": {
          "base_uri": "https://localhost:8080/",
          "height": 378
        },
        "outputId": "68816fcb-81e8-44d9-ea4a-bb23917a0ccd"
      },
      "cell_type": "code",
      "source": [
        "pd.concat([x_eval, y_eval], axis=1).plot.scatter(x='AREA_PRO_ROOM', y='PRICE_PRO_AREA')"
      ],
      "execution_count": 941,
      "outputs": [
        {
          "output_type": "execute_result",
          "data": {
            "text/plain": [
              "<matplotlib.axes._subplots.AxesSubplot at 0x7f0311ed5978>"
            ]
          },
          "metadata": {
            "tags": []
          },
          "execution_count": 941
        },
        {
          "output_type": "display_data",
          "data": {
            "image/png": "[encoded data removed]",
            "text/plain": [
              "<matplotlib.figure.Figure at 0x7f031920b860>"
            ]
          },
          "metadata": {
            "tags": []
          }
        }
      ]
    },
    {
      "metadata": {
        "id": "xciCTqS2ageV",
        "colab_type": "code",
        "colab": {
          "base_uri": "https://localhost:8080/",
          "height": 297
        },
        "outputId": "545c8eea-9e04-4ffc-f9bd-3848b19486ef"
      },
      "cell_type": "code",
      "source": [
        "x_test.describe()"
      ],
      "execution_count": 942,
      "outputs": [
        {
          "output_type": "execute_result",
          "data": {
            "text/html": [
              "<div>\n",
              "<style scoped>\n",
              "    .dataframe tbody tr th:only-of-type {\n",
              "        vertical-align: middle;\n",
              "    }\n",
              "\n",
              "    .dataframe tbody tr th {\n",
              "        vertical-align: top;\n",
              "    }\n",
              "\n",
              "    .dataframe thead th {\n",
              "        text-align: right;\n",
              "    }\n",
              "</style>\n",
              "<table border=\"1\" class=\"dataframe\">\n",
              "  <thead>\n",
              "    <tr style=\"text-align: right;\">\n",
              "      <th></th>\n",
              "      <th>AREA_PRO_ROOM</th>\n",
              "    </tr>\n",
              "  </thead>\n",
              "  <tbody>\n",
              "    <tr>\n",
              "      <th>count</th>\n",
              "      <td>11536.000000</td>\n",
              "    </tr>\n",
              "    <tr>\n",
              "      <th>mean</th>\n",
              "      <td>3.451022</td>\n",
              "    </tr>\n",
              "    <tr>\n",
              "      <th>std</th>\n",
              "      <td>0.422136</td>\n",
              "    </tr>\n",
              "    <tr>\n",
              "      <th>min</th>\n",
              "      <td>0.000000</td>\n",
              "    </tr>\n",
              "    <tr>\n",
              "      <th>25%</th>\n",
              "      <td>3.218876</td>\n",
              "    </tr>\n",
              "    <tr>\n",
              "      <th>50%</th>\n",
              "      <td>3.389694</td>\n",
              "    </tr>\n",
              "    <tr>\n",
              "      <th>75%</th>\n",
              "      <td>3.605498</td>\n",
              "    </tr>\n",
              "    <tr>\n",
              "      <th>max</th>\n",
              "      <td>8.817076</td>\n",
              "    </tr>\n",
              "  </tbody>\n",
              "</table>\n",
              "</div>"
            ],
            "text/plain": [
              "       AREA_PRO_ROOM\n",
              "count   11536.000000\n",
              "mean        3.451022\n",
              "std         0.422136\n",
              "min         0.000000\n",
              "25%         3.218876\n",
              "50%         3.389694\n",
              "75%         3.605498\n",
              "max         8.817076"
            ]
          },
          "metadata": {
            "tags": []
          },
          "execution_count": 942
        }
      ]
    },
    {
      "metadata": {
        "id": "CFLyayPTy6X1",
        "colab_type": "code",
        "colab": {
          "base_uri": "https://localhost:8080/",
          "height": 396
        },
        "outputId": "77e61789-afb6-4e5f-c7ad-b025dc193326"
      },
      "cell_type": "code",
      "source": [
        "x_test.hist(\"AREA_PRO_ROOM\", bins=BINS)"
      ],
      "execution_count": 943,
      "outputs": [
        {
          "output_type": "execute_result",
          "data": {
            "text/plain": [
              "array([[<matplotlib.axes._subplots.AxesSubplot object at 0x7f0306ed5c88>]],\n",
              "      dtype=object)"
            ]
          },
          "metadata": {
            "tags": []
          },
          "execution_count": 943
        },
        {
          "output_type": "display_data",
          "data": {
            "image/png": "[encoded data removed]",
            "text/plain": [
              "<matplotlib.figure.Figure at 0x7f0306c5def0>"
            ]
          },
          "metadata": {
            "tags": []
          }
        }
      ]
    },
    {
      "metadata": {
        "id": "a21Zw6mGz_AN",
        "colab_type": "code",
        "colab": {
          "base_uri": "https://localhost:8080/",
          "height": 297
        },
        "outputId": "937dd1be-8436-4d2e-a04a-9828ec2a471f"
      },
      "cell_type": "code",
      "source": [
        "y_test.describe()"
      ],
      "execution_count": 944,
      "outputs": [
        {
          "output_type": "execute_result",
          "data": {
            "text/html": [
              "<div>\n",
              "<style scoped>\n",
              "    .dataframe tbody tr th:only-of-type {\n",
              "        vertical-align: middle;\n",
              "    }\n",
              "\n",
              "    .dataframe tbody tr th {\n",
              "        vertical-align: top;\n",
              "    }\n",
              "\n",
              "    .dataframe thead th {\n",
              "        text-align: right;\n",
              "    }\n",
              "</style>\n",
              "<table border=\"1\" class=\"dataframe\">\n",
              "  <thead>\n",
              "    <tr style=\"text-align: right;\">\n",
              "      <th></th>\n",
              "      <th>PRICE_PRO_AREA</th>\n",
              "    </tr>\n",
              "  </thead>\n",
              "  <tbody>\n",
              "    <tr>\n",
              "      <th>count</th>\n",
              "      <td>11536.000000</td>\n",
              "    </tr>\n",
              "    <tr>\n",
              "      <th>mean</th>\n",
              "      <td>7.513526</td>\n",
              "    </tr>\n",
              "    <tr>\n",
              "      <th>std</th>\n",
              "      <td>0.725805</td>\n",
              "    </tr>\n",
              "    <tr>\n",
              "      <th>min</th>\n",
              "      <td>1.951409</td>\n",
              "    </tr>\n",
              "    <tr>\n",
              "      <th>25%</th>\n",
              "      <td>7.120260</td>\n",
              "    </tr>\n",
              "    <tr>\n",
              "      <th>50%</th>\n",
              "      <td>7.554548</td>\n",
              "    </tr>\n",
              "    <tr>\n",
              "      <th>75%</th>\n",
              "      <td>7.957577</td>\n",
              "    </tr>\n",
              "    <tr>\n",
              "      <th>max</th>\n",
              "      <td>13.920871</td>\n",
              "    </tr>\n",
              "  </tbody>\n",
              "</table>\n",
              "</div>"
            ],
            "text/plain": [
              "       PRICE_PRO_AREA\n",
              "count    11536.000000\n",
              "mean         7.513526\n",
              "std          0.725805\n",
              "min          1.951409\n",
              "25%          7.120260\n",
              "50%          7.554548\n",
              "75%          7.957577\n",
              "max         13.920871"
            ]
          },
          "metadata": {
            "tags": []
          },
          "execution_count": 944
        }
      ]
    },
    {
      "metadata": {
        "id": "vxlju8zCd9YY",
        "colab_type": "code",
        "colab": {
          "base_uri": "https://localhost:8080/",
          "height": 396
        },
        "outputId": "86a9bd67-db9b-4623-963c-adfcdaeb9dbe"
      },
      "cell_type": "code",
      "source": [
        "y_test.hist(\"PRICE_PRO_AREA\", bins=BINS)"
      ],
      "execution_count": 945,
      "outputs": [
        {
          "output_type": "execute_result",
          "data": {
            "text/plain": [
              "array([[<matplotlib.axes._subplots.AxesSubplot object at 0x7f02fe70a7b8>]],\n",
              "      dtype=object)"
            ]
          },
          "metadata": {
            "tags": []
          },
          "execution_count": 945
        },
        {
          "output_type": "display_data",
          "data": {
            "image/png": "[encoded data removed]",
            "text/plain": [
              "<matplotlib.figure.Figure at 0x7f032bfc3b38>"
            ]
          },
          "metadata": {
            "tags": []
          }
        }
      ]
    },
    {
      "metadata": {
        "id": "_NarbG15zLXN",
        "colab_type": "code",
        "colab": {
          "base_uri": "https://localhost:8080/",
          "height": 378
        },
        "outputId": "aa31fe0c-c5ae-40b2-8fc3-aeabe2f7daea"
      },
      "cell_type": "code",
      "source": [
        "pd.concat([x_test, y_test], axis=1).plot.scatter(x='AREA_PRO_ROOM', y='PRICE_PRO_AREA')"
      ],
      "execution_count": 946,
      "outputs": [
        {
          "output_type": "execute_result",
          "data": {
            "text/plain": [
              "<matplotlib.axes._subplots.AxesSubplot at 0x7f02fed25160>"
            ]
          },
          "metadata": {
            "tags": []
          },
          "execution_count": 946
        },
        {
          "output_type": "display_data",
          "data": {
            "image/png": "[encoded data removed]",
            "text/plain": [
              "<matplotlib.figure.Figure at 0x7f0325e0dda0>"
            ]
          },
          "metadata": {
            "tags": []
          }
        }
      ]
    },
    {
      "metadata": {
        "id": "Yi1g3htco3st",
        "colab_type": "code",
        "colab": {
          "base_uri": "https://localhost:8080/",
          "height": 204
        },
        "outputId": "55adb8fe-765b-4d64-adb6-1741e7a07ae1"
      },
      "cell_type": "code",
      "source": [
        "x_train.head()"
      ],
      "execution_count": 947,
      "outputs": [
        {
          "output_type": "execute_result",
          "data": {
            "text/html": [
              "<div>\n",
              "<style scoped>\n",
              "    .dataframe tbody tr th:only-of-type {\n",
              "        vertical-align: middle;\n",
              "    }\n",
              "\n",
              "    .dataframe tbody tr th {\n",
              "        vertical-align: top;\n",
              "    }\n",
              "\n",
              "    .dataframe thead th {\n",
              "        text-align: right;\n",
              "    }\n",
              "</style>\n",
              "<table border=\"1\" class=\"dataframe\">\n",
              "  <thead>\n",
              "    <tr style=\"text-align: right;\">\n",
              "      <th></th>\n",
              "      <th>AREA_PRO_ROOM</th>\n",
              "    </tr>\n",
              "  </thead>\n",
              "  <tbody>\n",
              "    <tr>\n",
              "      <th>277111</th>\n",
              "      <td>2.890372</td>\n",
              "    </tr>\n",
              "    <tr>\n",
              "      <th>263945</th>\n",
              "      <td>3.401197</td>\n",
              "    </tr>\n",
              "    <tr>\n",
              "      <th>76539</th>\n",
              "      <td>2.674149</td>\n",
              "    </tr>\n",
              "    <tr>\n",
              "      <th>141588</th>\n",
              "      <td>2.959365</td>\n",
              "    </tr>\n",
              "    <tr>\n",
              "      <th>118596</th>\n",
              "      <td>3.028522</td>\n",
              "    </tr>\n",
              "  </tbody>\n",
              "</table>\n",
              "</div>"
            ],
            "text/plain": [
              "        AREA_PRO_ROOM\n",
              "277111       2.890372\n",
              "263945       3.401197\n",
              "76539        2.674149\n",
              "141588       2.959365\n",
              "118596       3.028522"
            ]
          },
          "metadata": {
            "tags": []
          },
          "execution_count": 947
        }
      ]
    },
    {
      "metadata": {
        "id": "6VRcJQxqpInl",
        "colab_type": "code",
        "colab": {
          "base_uri": "https://localhost:8080/",
          "height": 204
        },
        "outputId": "739ff31b-7ac0-4268-a7e6-842fa6e5b76c"
      },
      "cell_type": "code",
      "source": [
        "x_eval.head()"
      ],
      "execution_count": 948,
      "outputs": [
        {
          "output_type": "execute_result",
          "data": {
            "text/html": [
              "<div>\n",
              "<style scoped>\n",
              "    .dataframe tbody tr th:only-of-type {\n",
              "        vertical-align: middle;\n",
              "    }\n",
              "\n",
              "    .dataframe tbody tr th {\n",
              "        vertical-align: top;\n",
              "    }\n",
              "\n",
              "    .dataframe thead th {\n",
              "        text-align: right;\n",
              "    }\n",
              "</style>\n",
              "<table border=\"1\" class=\"dataframe\">\n",
              "  <thead>\n",
              "    <tr style=\"text-align: right;\">\n",
              "      <th></th>\n",
              "      <th>AREA_PRO_ROOM</th>\n",
              "    </tr>\n",
              "  </thead>\n",
              "  <tbody>\n",
              "    <tr>\n",
              "      <th>143666</th>\n",
              "      <td>3.360375</td>\n",
              "    </tr>\n",
              "    <tr>\n",
              "      <th>290835</th>\n",
              "      <td>3.178054</td>\n",
              "    </tr>\n",
              "    <tr>\n",
              "      <th>38680</th>\n",
              "      <td>3.828641</td>\n",
              "    </tr>\n",
              "    <tr>\n",
              "      <th>294022</th>\n",
              "      <td>3.044522</td>\n",
              "    </tr>\n",
              "    <tr>\n",
              "      <th>185924</th>\n",
              "      <td>3.912023</td>\n",
              "    </tr>\n",
              "  </tbody>\n",
              "</table>\n",
              "</div>"
            ],
            "text/plain": [
              "        AREA_PRO_ROOM\n",
              "143666       3.360375\n",
              "290835       3.178054\n",
              "38680        3.828641\n",
              "294022       3.044522\n",
              "185924       3.912023"
            ]
          },
          "metadata": {
            "tags": []
          },
          "execution_count": 948
        }
      ]
    },
    {
      "metadata": {
        "id": "g5fkf_HZaj2u",
        "colab_type": "code",
        "colab": {
          "base_uri": "https://localhost:8080/",
          "height": 204
        },
        "outputId": "c59d4c2f-9d2b-4b1a-8e9a-1af7d1c970a1"
      },
      "cell_type": "code",
      "source": [
        "x_test.head()"
      ],
      "execution_count": 949,
      "outputs": [
        {
          "output_type": "execute_result",
          "data": {
            "text/html": [
              "<div>\n",
              "<style scoped>\n",
              "    .dataframe tbody tr th:only-of-type {\n",
              "        vertical-align: middle;\n",
              "    }\n",
              "\n",
              "    .dataframe tbody tr th {\n",
              "        vertical-align: top;\n",
              "    }\n",
              "\n",
              "    .dataframe thead th {\n",
              "        text-align: right;\n",
              "    }\n",
              "</style>\n",
              "<table border=\"1\" class=\"dataframe\">\n",
              "  <thead>\n",
              "    <tr style=\"text-align: right;\">\n",
              "      <th></th>\n",
              "      <th>AREA_PRO_ROOM</th>\n",
              "    </tr>\n",
              "  </thead>\n",
              "  <tbody>\n",
              "    <tr>\n",
              "      <th>19</th>\n",
              "      <td>3.516508</td>\n",
              "    </tr>\n",
              "    <tr>\n",
              "      <th>42</th>\n",
              "      <td>3.308107</td>\n",
              "    </tr>\n",
              "    <tr>\n",
              "      <th>66</th>\n",
              "      <td>3.352407</td>\n",
              "    </tr>\n",
              "    <tr>\n",
              "      <th>134</th>\n",
              "      <td>3.555348</td>\n",
              "    </tr>\n",
              "    <tr>\n",
              "      <th>145</th>\n",
              "      <td>2.988564</td>\n",
              "    </tr>\n",
              "  </tbody>\n",
              "</table>\n",
              "</div>"
            ],
            "text/plain": [
              "     AREA_PRO_ROOM\n",
              "19        3.516508\n",
              "42        3.308107\n",
              "66        3.352407\n",
              "134       3.555348\n",
              "145       2.988564"
            ]
          },
          "metadata": {
            "tags": []
          },
          "execution_count": 949
        }
      ]
    },
    {
      "metadata": {
        "id": "WDyckWh7lwBT",
        "colab_type": "code",
        "colab": {
          "base_uri": "https://localhost:8080/",
          "height": 204
        },
        "outputId": "8c2a57e9-918e-4e11-e112-53e5e97e0178"
      },
      "cell_type": "code",
      "source": [
        "y_train.head()"
      ],
      "execution_count": 950,
      "outputs": [
        {
          "output_type": "execute_result",
          "data": {
            "text/html": [
              "<div>\n",
              "<style scoped>\n",
              "    .dataframe tbody tr th:only-of-type {\n",
              "        vertical-align: middle;\n",
              "    }\n",
              "\n",
              "    .dataframe tbody tr th {\n",
              "        vertical-align: top;\n",
              "    }\n",
              "\n",
              "    .dataframe thead th {\n",
              "        text-align: right;\n",
              "    }\n",
              "</style>\n",
              "<table border=\"1\" class=\"dataframe\">\n",
              "  <thead>\n",
              "    <tr style=\"text-align: right;\">\n",
              "      <th></th>\n",
              "      <th>PRICE_PRO_AREA</th>\n",
              "    </tr>\n",
              "  </thead>\n",
              "  <tbody>\n",
              "    <tr>\n",
              "      <th>277111</th>\n",
              "      <td>8.489022</td>\n",
              "    </tr>\n",
              "    <tr>\n",
              "      <th>263945</th>\n",
              "      <td>6.279147</td>\n",
              "    </tr>\n",
              "    <tr>\n",
              "      <th>76539</th>\n",
              "      <td>7.547793</td>\n",
              "    </tr>\n",
              "    <tr>\n",
              "      <th>141588</th>\n",
              "      <td>6.384507</td>\n",
              "    </tr>\n",
              "    <tr>\n",
              "      <th>118596</th>\n",
              "      <td>7.211438</td>\n",
              "    </tr>\n",
              "  </tbody>\n",
              "</table>\n",
              "</div>"
            ],
            "text/plain": [
              "        PRICE_PRO_AREA\n",
              "277111        8.489022\n",
              "263945        6.279147\n",
              "76539         7.547793\n",
              "141588        6.384507\n",
              "118596        7.211438"
            ]
          },
          "metadata": {
            "tags": []
          },
          "execution_count": 950
        }
      ]
    },
    {
      "metadata": {
        "id": "KNqPapJAlwG1",
        "colab_type": "code",
        "colab": {
          "base_uri": "https://localhost:8080/",
          "height": 204
        },
        "outputId": "c3636d88-4263-43b2-ba4b-dab042459cd2"
      },
      "cell_type": "code",
      "source": [
        "y_eval.head()"
      ],
      "execution_count": 951,
      "outputs": [
        {
          "output_type": "execute_result",
          "data": {
            "text/html": [
              "<div>\n",
              "<style scoped>\n",
              "    .dataframe tbody tr th:only-of-type {\n",
              "        vertical-align: middle;\n",
              "    }\n",
              "\n",
              "    .dataframe tbody tr th {\n",
              "        vertical-align: top;\n",
              "    }\n",
              "\n",
              "    .dataframe thead th {\n",
              "        text-align: right;\n",
              "    }\n",
              "</style>\n",
              "<table border=\"1\" class=\"dataframe\">\n",
              "  <thead>\n",
              "    <tr style=\"text-align: right;\">\n",
              "      <th></th>\n",
              "      <th>PRICE_PRO_AREA</th>\n",
              "    </tr>\n",
              "  </thead>\n",
              "  <tbody>\n",
              "    <tr>\n",
              "      <th>143666</th>\n",
              "      <td>7.049930</td>\n",
              "    </tr>\n",
              "    <tr>\n",
              "      <th>290835</th>\n",
              "      <td>7.013116</td>\n",
              "    </tr>\n",
              "    <tr>\n",
              "      <th>38680</th>\n",
              "      <td>7.237684</td>\n",
              "    </tr>\n",
              "    <tr>\n",
              "      <th>294022</th>\n",
              "      <td>7.647422</td>\n",
              "    </tr>\n",
              "    <tr>\n",
              "      <th>185924</th>\n",
              "      <td>7.185387</td>\n",
              "    </tr>\n",
              "  </tbody>\n",
              "</table>\n",
              "</div>"
            ],
            "text/plain": [
              "        PRICE_PRO_AREA\n",
              "143666        7.049930\n",
              "290835        7.013116\n",
              "38680         7.237684\n",
              "294022        7.647422\n",
              "185924        7.185387"
            ]
          },
          "metadata": {
            "tags": []
          },
          "execution_count": 951
        }
      ]
    },
    {
      "metadata": {
        "id": "4FR6Ujg1lwL6",
        "colab_type": "code",
        "colab": {
          "base_uri": "https://localhost:8080/",
          "height": 204
        },
        "outputId": "62b1c8f9-ebe2-43ec-8178-908d8bfa562e"
      },
      "cell_type": "code",
      "source": [
        "y_test.head()"
      ],
      "execution_count": 952,
      "outputs": [
        {
          "output_type": "execute_result",
          "data": {
            "text/html": [
              "<div>\n",
              "<style scoped>\n",
              "    .dataframe tbody tr th:only-of-type {\n",
              "        vertical-align: middle;\n",
              "    }\n",
              "\n",
              "    .dataframe tbody tr th {\n",
              "        vertical-align: top;\n",
              "    }\n",
              "\n",
              "    .dataframe thead th {\n",
              "        text-align: right;\n",
              "    }\n",
              "</style>\n",
              "<table border=\"1\" class=\"dataframe\">\n",
              "  <thead>\n",
              "    <tr style=\"text-align: right;\">\n",
              "      <th></th>\n",
              "      <th>PRICE_PRO_AREA</th>\n",
              "    </tr>\n",
              "  </thead>\n",
              "  <tbody>\n",
              "    <tr>\n",
              "      <th>19</th>\n",
              "      <td>7.303270</td>\n",
              "    </tr>\n",
              "    <tr>\n",
              "      <th>42</th>\n",
              "      <td>7.406311</td>\n",
              "    </tr>\n",
              "    <tr>\n",
              "      <th>66</th>\n",
              "      <td>7.803843</td>\n",
              "    </tr>\n",
              "    <tr>\n",
              "      <th>134</th>\n",
              "      <td>9.456084</td>\n",
              "    </tr>\n",
              "    <tr>\n",
              "      <th>145</th>\n",
              "      <td>7.494742</td>\n",
              "    </tr>\n",
              "  </tbody>\n",
              "</table>\n",
              "</div>"
            ],
            "text/plain": [
              "     PRICE_PRO_AREA\n",
              "19         7.303270\n",
              "42         7.406311\n",
              "66         7.803843\n",
              "134        9.456084\n",
              "145        7.494742"
            ]
          },
          "metadata": {
            "tags": []
          },
          "execution_count": 952
        }
      ]
    },
    {
      "metadata": {
        "id": "udjYU2TaCClX",
        "colab_type": "code",
        "colab": {}
      },
      "cell_type": "code",
      "source": [
        "def input_fn(features, targets, batch_size=1, shuffle=True, num_epochs=None):\n",
        "    \"\"\"Trains a linear regression model of one feature.\n",
        "  \n",
        "    Args:\n",
        "      features: pandas DataFrame of features\n",
        "      targets: pandas DataFrame of targets\n",
        "      batch_size: Size of batches to be passed to the model\n",
        "      shuffle: True or False. Whether to shuffle the data.\n",
        "      num_epochs: Number of epochs for which data should be repeated. None = repeat indefinitely\n",
        "    Returns:\n",
        "      Tuple of (features, labels) for next data batch\n",
        "    \"\"\"\n",
        " \n",
        "    # Construct a dataset, and configure batching/repeating\n",
        "    features = {key:np.array(value) for key,value in dict(features).items()} \n",
        "  \n",
        "    ds = Dataset.from_tensor_slices((features, targets))\n",
        "    ds = ds.batch(batch_size).repeat(num_epochs)\n",
        "    \n",
        "    # Shuffle the data, if specified\n",
        "    if shuffle:\n",
        "      ds = ds.shuffle(buffer_size=10000)\n",
        "    \n",
        "    # Return the next batch of data\n",
        "    features, labels = ds.make_one_shot_iterator().get_next()\n",
        "    return features, labels"
      ],
      "execution_count": 0,
      "outputs": []
    },
    {
      "metadata": {
        "id": "XauzWrcNCh0J",
        "colab_type": "code",
        "colab": {}
      },
      "cell_type": "code",
      "source": [
        "train_input_fn = lambda: input_fn(x_train, y_train)"
      ],
      "execution_count": 0,
      "outputs": []
    },
    {
      "metadata": {
        "id": "MUKqyBqocZJ_",
        "colab_type": "code",
        "colab": {}
      },
      "cell_type": "code",
      "source": [
        "train_predict_input_fn = lambda: input_fn(x_train, y_train, num_epochs=1, shuffle=False)"
      ],
      "execution_count": 0,
      "outputs": []
    },
    {
      "metadata": {
        "id": "_QCb9zcOCf3A",
        "colab_type": "code",
        "colab": {}
      },
      "cell_type": "code",
      "source": [
        "eval_predict_input_fn = lambda: input_fn(x_eval, y_eval, num_epochs=1, shuffle=False)"
      ],
      "execution_count": 0,
      "outputs": []
    },
    {
      "metadata": {
        "id": "YXjdJK8zbfW5",
        "colab_type": "code",
        "colab": {}
      },
      "cell_type": "code",
      "source": [
        "test_predict_input_fun = lambda: input_fn(x_test, y_test, num_epochs=1, shuffle=False)"
      ],
      "execution_count": 0,
      "outputs": []
    },
    {
      "metadata": {
        "id": "O4Fyeywlz4dm",
        "colab_type": "code",
        "colab": {}
      },
      "cell_type": "code",
      "source": [
        "feature_cols = [\n",
        "  tf.feature_column.numeric_column(\"AREA_PRO_ROOM\") \n",
        "]"
      ],
      "execution_count": 0,
      "outputs": []
    },
    {
      "metadata": {
        "id": "MOZGWNtE7r56",
        "colab_type": "code",
        "colab": {}
      },
      "cell_type": "code",
      "source": [
        "train_optimizer = tf.train.GradientDescentOptimizer(learning_rate=LEARNING_RATE)\n",
        "train_optimizer = tf.contrib.estimator.clip_gradients_by_norm(train_optimizer, 5.0)"
      ],
      "execution_count": 0,
      "outputs": []
    },
    {
      "metadata": {
        "id": "wR1wAHC0b8R5",
        "colab_type": "code",
        "colab": {
          "base_uri": "https://localhost:8080/",
          "height": 88
        },
        "outputId": "0932c670-df90-4a3a-9ca5-059d17dca19d"
      },
      "cell_type": "code",
      "source": [
        "model = tf.estimator.LinearRegressor(\n",
        "    feature_columns = feature_cols,\n",
        "    optimizer = train_optimizer\n",
        ")"
      ],
      "execution_count": 960,
      "outputs": [
        {
          "output_type": "stream",
          "text": [
            "INFO:tensorflow:Using default config.\n",
            "WARNING:tensorflow:Using temporary folder as model directory: /tmp/tmp_ah3hmh0\n",
            "INFO:tensorflow:Using config: {'_model_dir': '/tmp/tmp_ah3hmh0', '_tf_random_seed': None, '_save_summary_steps': 100, '_save_checkpoints_steps': None, '_save_checkpoints_secs': 600, '_session_config': None, '_keep_checkpoint_max': 5, '_keep_checkpoint_every_n_hours': 10000, '_log_step_count_steps': 100, '_train_distribute': None, '_device_fn': None, '_service': None, '_cluster_spec': <tensorflow.python.training.server_lib.ClusterSpec object at 0x7f030e0e92b0>, '_task_type': 'worker', '_task_id': 0, '_global_id_in_cluster': 0, '_master': '', '_evaluation_master': '', '_is_chief': True, '_num_ps_replicas': 0, '_num_worker_replicas': 1}\n"
          ],
          "name": "stdout"
        }
      ]
    },
    {
      "metadata": {
        "id": "xibCYiz3by1B",
        "colab_type": "code",
        "colab": {
          "base_uri": "https://localhost:8080/",
          "height": 2771
        },
        "outputId": "19c1e126-a69b-4284-edd8-2b282f539691"
      },
      "cell_type": "code",
      "source": [
        "for period in range(0, PERIODS):\n",
        "  model.train(input_fn=train_input_fn, steps=STEPS)\n",
        "  train_predict = model.predict(input_fn=train_predict_input_fn)\n",
        "  eval_predict = model.predict(input_fn=eval_predict_input_fn)\n",
        "  print(\"-\" * 100)\n",
        "  model.evaluate(steps=STEPS, input_fn=train_predict_input_fn)\n",
        "  model.evaluate(steps=STEPS, input_fn=eval_predict_input_fn) \n",
        "  print(\"-\" * 100)\n",
        "  \n",
        "  train_predict = np.array([item['predictions'][0] for item in train_predict])\n",
        "  eval_predict = np.array([item['predictions'][0] for item in eval_predict])\n",
        "  \n",
        "  # Compute loss for train and evaluation\n",
        "  train_rmse = math.sqrt(\n",
        "        sklearn.metrics.mean_squared_error(train_predict, y_train))\n",
        "  eval_rmse = math.sqrt(\n",
        "        sklearn.metrics.mean_squared_error(eval_predict, y_eval))\n",
        "  \n",
        "  print(\"*\" * 100)\n",
        "  print(\"*Period[rmse training] %02d : %0.2f\" % (period, train_rmse))\n",
        "  print(\"*Period[rmse eval] %02d : %0.2f\" % (period, eval_rmse))  \n",
        "  print(\"*\" * 100)"
      ],
      "execution_count": 0,
      "outputs": [
        {
          "output_type": "stream",
          "text": [
            "INFO:tensorflow:Calling model_fn.\n",
            "INFO:tensorflow:Done calling model_fn.\n",
            "INFO:tensorflow:Create CheckpointSaverHook.\n",
            "INFO:tensorflow:Graph was finalized.\n",
            "INFO:tensorflow:Running local_init_op.\n",
            "INFO:tensorflow:Done running local_init_op.\n",
            "INFO:tensorflow:Saving checkpoints for 0 into /tmp/tmp_ah3hmh0/model.ckpt.\n",
            "INFO:tensorflow:loss = 52.31886, step = 0\n",
            "INFO:tensorflow:global_step/sec: 381.731\n",
            "INFO:tensorflow:loss = 63.17144, step = 100 (0.266 sec)\n",
            "INFO:tensorflow:global_step/sec: 462.001\n",
            "INFO:tensorflow:loss = 48.58613, step = 200 (0.218 sec)\n",
            "INFO:tensorflow:global_step/sec: 448.041\n",
            "INFO:tensorflow:loss = 63.463947, step = 300 (0.223 sec)\n",
            "INFO:tensorflow:global_step/sec: 449.524\n",
            "INFO:tensorflow:loss = 53.613697, step = 400 (0.223 sec)\n",
            "INFO:tensorflow:global_step/sec: 396.072\n",
            "INFO:tensorflow:loss = 65.2357, step = 500 (0.252 sec)\n",
            "INFO:tensorflow:global_step/sec: 441.304\n",
            "INFO:tensorflow:loss = 79.94946, step = 600 (0.226 sec)\n",
            "INFO:tensorflow:global_step/sec: 447.867\n",
            "INFO:tensorflow:loss = 84.21967, step = 700 (0.223 sec)\n",
            "INFO:tensorflow:global_step/sec: 450.444\n",
            "INFO:tensorflow:loss = 41.888657, step = 800 (0.222 sec)\n",
            "INFO:tensorflow:global_step/sec: 440.084\n",
            "INFO:tensorflow:loss = 48.14439, step = 900 (0.227 sec)\n",
            "INFO:tensorflow:global_step/sec: 447.95\n",
            "INFO:tensorflow:loss = 63.80514, step = 1000 (0.223 sec)\n",
            "INFO:tensorflow:global_step/sec: 407.069\n",
            "INFO:tensorflow:loss = 53.421314, step = 1100 (0.245 sec)\n",
            "INFO:tensorflow:global_step/sec: 460.281\n",
            "INFO:tensorflow:loss = 63.745903, step = 1200 (0.214 sec)\n",
            "INFO:tensorflow:global_step/sec: 443.254\n",
            "INFO:tensorflow:loss = 67.93948, step = 1300 (0.226 sec)\n",
            "INFO:tensorflow:global_step/sec: 455.269\n",
            "INFO:tensorflow:loss = 59.42236, step = 1400 (0.222 sec)\n",
            "INFO:tensorflow:global_step/sec: 454.613\n",
            "INFO:tensorflow:loss = 73.902985, step = 1500 (0.221 sec)\n",
            "INFO:tensorflow:global_step/sec: 416.163\n",
            "INFO:tensorflow:loss = 43.78842, step = 1600 (0.237 sec)\n",
            "INFO:tensorflow:global_step/sec: 460.382\n",
            "INFO:tensorflow:loss = 35.814552, step = 1700 (0.220 sec)\n",
            "INFO:tensorflow:global_step/sec: 450.413\n",
            "INFO:tensorflow:loss = 65.12143, step = 1800 (0.223 sec)\n",
            "INFO:tensorflow:global_step/sec: 435.049\n",
            "INFO:tensorflow:loss = 48.136356, step = 1900 (0.230 sec)\n",
            "INFO:tensorflow:global_step/sec: 440.783\n",
            "INFO:tensorflow:loss = 45.296425, step = 2000 (0.227 sec)\n",
            "INFO:tensorflow:global_step/sec: 441.663\n",
            "INFO:tensorflow:loss = 54.11843, step = 2100 (0.225 sec)\n",
            "INFO:tensorflow:global_step/sec: 400.99\n",
            "INFO:tensorflow:loss = 85.0946, step = 2200 (0.249 sec)\n",
            "INFO:tensorflow:global_step/sec: 441.699\n",
            "INFO:tensorflow:loss = 42.86885, step = 2300 (0.228 sec)\n",
            "INFO:tensorflow:global_step/sec: 441.587\n",
            "INFO:tensorflow:loss = 52.92274, step = 2400 (0.224 sec)\n",
            "INFO:tensorflow:global_step/sec: 446.334\n",
            "INFO:tensorflow:loss = 63.209957, step = 2500 (0.222 sec)\n",
            "INFO:tensorflow:global_step/sec: 439.002\n",
            "INFO:tensorflow:loss = 74.874886, step = 2600 (0.228 sec)\n",
            "INFO:tensorflow:global_step/sec: 416.535\n",
            "INFO:tensorflow:loss = 64.153076, step = 2700 (0.243 sec)\n",
            "INFO:tensorflow:global_step/sec: 448.318\n",
            "INFO:tensorflow:loss = 46.974586, step = 2800 (0.224 sec)\n"
          ],
          "name": "stdout"
        },
        {
          "output_type": "stream",
          "text": [
            "INFO:tensorflow:global_step/sec: 444.42\n",
            "INFO:tensorflow:loss = 62.62877, step = 2900 (0.225 sec)\n",
            "INFO:tensorflow:global_step/sec: 444.424\n",
            "INFO:tensorflow:loss = 43.052307, step = 3000 (0.225 sec)\n",
            "INFO:tensorflow:global_step/sec: 446.507\n",
            "INFO:tensorflow:loss = 53.42156, step = 3100 (0.224 sec)\n",
            "INFO:tensorflow:global_step/sec: 400.29\n",
            "INFO:tensorflow:loss = 44.635864, step = 3200 (0.251 sec)\n",
            "INFO:tensorflow:global_step/sec: 410.654\n",
            "INFO:tensorflow:loss = 56.53228, step = 3300 (0.242 sec)\n",
            "INFO:tensorflow:global_step/sec: 459.555\n",
            "INFO:tensorflow:loss = 60.184196, step = 3400 (0.218 sec)\n",
            "INFO:tensorflow:global_step/sec: 442.458\n",
            "INFO:tensorflow:loss = 56.381447, step = 3500 (0.226 sec)\n",
            "INFO:tensorflow:global_step/sec: 434.62\n",
            "INFO:tensorflow:loss = 54.16626, step = 3600 (0.230 sec)\n",
            "INFO:tensorflow:global_step/sec: 444.378\n",
            "INFO:tensorflow:loss = 54.262173, step = 3700 (0.222 sec)\n",
            "INFO:tensorflow:global_step/sec: 404.974\n",
            "INFO:tensorflow:loss = 58.548862, step = 3800 (0.248 sec)\n",
            "INFO:tensorflow:global_step/sec: 444.886\n",
            "INFO:tensorflow:loss = 60.850826, step = 3900 (0.225 sec)\n",
            "INFO:tensorflow:global_step/sec: 449.074\n",
            "INFO:tensorflow:loss = 45.61409, step = 4000 (0.222 sec)\n",
            "INFO:tensorflow:global_step/sec: 446.498\n",
            "INFO:tensorflow:loss = 55.25764, step = 4100 (0.224 sec)\n",
            "INFO:tensorflow:global_step/sec: 444.195\n",
            "INFO:tensorflow:loss = 47.898533, step = 4200 (0.227 sec)\n",
            "INFO:tensorflow:global_step/sec: 414.756\n",
            "INFO:tensorflow:loss = 72.76109, step = 4300 (0.242 sec)\n",
            "INFO:tensorflow:global_step/sec: 442.469\n",
            "INFO:tensorflow:loss = 48.13077, step = 4400 (0.226 sec)\n",
            "INFO:tensorflow:global_step/sec: 445.896\n",
            "INFO:tensorflow:loss = 40.87828, step = 4500 (0.222 sec)\n",
            "INFO:tensorflow:global_step/sec: 441.542\n",
            "INFO:tensorflow:loss = 64.28096, step = 4600 (0.228 sec)\n",
            "INFO:tensorflow:global_step/sec: 438.567\n",
            "INFO:tensorflow:loss = 59.560368, step = 4700 (0.228 sec)\n",
            "INFO:tensorflow:global_step/sec: 442.087\n",
            "INFO:tensorflow:loss = 56.46958, step = 4800 (0.224 sec)\n",
            "INFO:tensorflow:global_step/sec: 412.007\n",
            "INFO:tensorflow:loss = 50.406506, step = 4900 (0.245 sec)\n",
            "INFO:tensorflow:Saving checkpoints for 5000 into /tmp/tmp_ah3hmh0/model.ckpt.\n",
            "INFO:tensorflow:Loss for final step: 58.958874.\n",
            "----------------------------------------------------------------------------------------------------\n",
            "INFO:tensorflow:Calling model_fn.\n",
            "INFO:tensorflow:Done calling model_fn.\n",
            "INFO:tensorflow:Starting evaluation at 2018-08-03-16:47:11\n",
            "INFO:tensorflow:Graph was finalized.\n",
            "INFO:tensorflow:Restoring parameters from /tmp/tmp_ah3hmh0/model.ckpt-5000\n",
            "INFO:tensorflow:Running local_init_op.\n",
            "INFO:tensorflow:Done running local_init_op.\n",
            "INFO:tensorflow:Evaluation [500/5000]\n",
            "INFO:tensorflow:Evaluation [1000/5000]\n",
            "INFO:tensorflow:Evaluation [1500/5000]\n",
            "INFO:tensorflow:Evaluation [2000/5000]\n",
            "INFO:tensorflow:Evaluation [2500/5000]\n",
            "INFO:tensorflow:Evaluation [3000/5000]\n",
            "INFO:tensorflow:Evaluation [3500/5000]\n",
            "INFO:tensorflow:Evaluation [4000/5000]\n",
            "INFO:tensorflow:Evaluation [4500/5000]\n",
            "INFO:tensorflow:Evaluation [5000/5000]\n",
            "INFO:tensorflow:Finished evaluation at 2018-08-03-16:47:19\n"
          ],
          "name": "stdout"
        },
        {
          "output_type": "stream",
          "text": [
            "INFO:tensorflow:Saving dict for global step 5000: average_loss = 55.840614, global_step = 5000, loss = 55.840614\n",
            "INFO:tensorflow:Saving 'checkpoint_path' summary for global step 5000: /tmp/tmp_ah3hmh0/model.ckpt-5000\n",
            "INFO:tensorflow:Calling model_fn.\n",
            "INFO:tensorflow:Done calling model_fn.\n",
            "INFO:tensorflow:Starting evaluation at 2018-08-03-16:47:19\n",
            "INFO:tensorflow:Graph was finalized.\n",
            "INFO:tensorflow:Restoring parameters from /tmp/tmp_ah3hmh0/model.ckpt-5000\n",
            "INFO:tensorflow:Running local_init_op.\n",
            "INFO:tensorflow:Done running local_init_op.\n",
            "INFO:tensorflow:Evaluation [500/5000]\n",
            "INFO:tensorflow:Evaluation [1000/5000]\n",
            "INFO:tensorflow:Evaluation [1500/5000]\n",
            "INFO:tensorflow:Evaluation [2000/5000]\n",
            "INFO:tensorflow:Evaluation [2500/5000]\n",
            "INFO:tensorflow:Evaluation [3000/5000]\n",
            "INFO:tensorflow:Evaluation [3500/5000]\n",
            "INFO:tensorflow:Evaluation [4000/5000]\n",
            "INFO:tensorflow:Evaluation [4500/5000]\n",
            "INFO:tensorflow:Evaluation [5000/5000]\n",
            "INFO:tensorflow:Finished evaluation at 2018-08-03-16:47:27\n",
            "INFO:tensorflow:Saving dict for global step 5000: average_loss = 55.626892, global_step = 5000, loss = 55.626892\n",
            "INFO:tensorflow:Saving 'checkpoint_path' summary for global step 5000: /tmp/tmp_ah3hmh0/model.ckpt-5000\n",
            "----------------------------------------------------------------------------------------------------\n",
            "INFO:tensorflow:Calling model_fn.\n",
            "INFO:tensorflow:Done calling model_fn.\n",
            "INFO:tensorflow:Graph was finalized.\n",
            "INFO:tensorflow:Restoring parameters from /tmp/tmp_ah3hmh0/model.ckpt-5000\n",
            "INFO:tensorflow:Running local_init_op.\n",
            "INFO:tensorflow:Done running local_init_op.\n",
            "INFO:tensorflow:Calling model_fn.\n",
            "INFO:tensorflow:Done calling model_fn.\n",
            "INFO:tensorflow:Graph was finalized.\n",
            "INFO:tensorflow:Restoring parameters from /tmp/tmp_ah3hmh0/model.ckpt-5000\n",
            "INFO:tensorflow:Running local_init_op.\n",
            "INFO:tensorflow:Done running local_init_op.\n"
          ],
          "name": "stdout"
        }
      ]
    },
    {
      "metadata": {
        "id": "-2swRvPBdXvZ",
        "colab_type": "code",
        "colab": {}
      },
      "cell_type": "code",
      "source": [
        "test_predict = model.predict(input_fn=test_predict_input_fun)\n",
        "print(\"-\" * 100)\n",
        "model.evaluate(steps=STEPS, input_fn=test_predict_input_fun)\n",
        "print(\"-\" * 100)\n",
        "test_predict = np.array([item['predictions'][0] for item in test_predict])  \n",
        "test_rmse = math.sqrt(\n",
        "        sklearn.metrics.mean_squared_error(test_predict, y_test))\n",
        "print(\"*\" * 100)\n",
        "print(\"*Final[rmse test] %02d : %0.2f\" % (period, test_rmse))\n",
        "print(\"*\" * 100)"
      ],
      "execution_count": 0,
      "outputs": []
    },
    {
      "metadata": {
        "id": "GWsXI3wpeins",
        "colab_type": "code",
        "colab": {}
      },
      "cell_type": "code",
      "source": [
        "test_predict = np.array([item[\"predictions\"][0] for item in test_predict])"
      ],
      "execution_count": 0,
      "outputs": []
    },
    {
      "metadata": {
        "id": "Pjeh9JkoXkuw",
        "colab_type": "code",
        "colab": {}
      },
      "cell_type": "code",
      "source": [
        "test_predict"
      ],
      "execution_count": 0,
      "outputs": []
    }
  ]
}