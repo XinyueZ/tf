{
  "nbformat": 4,
  "nbformat_minor": 0,
  "metadata": {
    "colab": {
      "name": "price_rooms_estimator_clean_data.ipynb",
      "version": "0.3.2",
      "provenance": [],
      "collapsed_sections": [],
      "include_colab_link": true
    },
    "kernelspec": {
      "name": "python3",
      "display_name": "Python 3"
    },
    "accelerator": "GPU"
  },
  "cells": [
    {
      "cell_type": "markdown",
      "metadata": {
        "id": "view-in-github",
        "colab_type": "text"
      },
      "source": [
        "[View in Colaboratory](https://colab.research.google.com/github/XinyueZ/tf/blob/master/ipynb/price_rooms_estimator_clean_data.ipynb)"
      ]
    },
    {
      "metadata": {
        "id": "IdHWJgQ0o-4T",
        "colab_type": "text"
      },
      "cell_type": "markdown",
      "source": [
        "# This case is a ML model about the linear relationship between \"average housing area\" and \"price per housing area\"."
      ]
    },
    {
      "metadata": {
        "id": "usywsvFLF2bo",
        "colab_type": "code",
        "colab": {}
      },
      "cell_type": "code",
      "source": [
        "import tensorflow as tf\n",
        "from tensorflow.python.data import Dataset\n",
        "import sklearn\n",
        "from sklearn.preprocessing import LabelEncoder\n",
        "import numpy as np\n",
        "import pandas as pd\n",
        "\n",
        "import math\n",
        "from IPython import display\n",
        "from matplotlib import cm\n",
        "from matplotlib import gridspec\n",
        "from matplotlib import pyplot as plt"
      ],
      "execution_count": 0,
      "outputs": []
    },
    {
      "metadata": {
        "id": "_rvAbHuFjCND",
        "colab_type": "code",
        "colab": {}
      },
      "cell_type": "code",
      "source": [
        "STEPS = 1000  # Steps of train loop. \n",
        "PERIODS = 20\n",
        "STEPS_PER_PERIOD = STEPS / PERIODS\n",
        "LEARNING_RATE = 0.000001\n",
        "BINS = 150"
      ],
      "execution_count": 0,
      "outputs": []
    },
    {
      "metadata": {
        "id": "M1XjwLH4P00k",
        "colab_type": "code",
        "colab": {}
      },
      "cell_type": "code",
      "source": [
        "tf.logging.set_verbosity(tf.logging.INFO)"
      ],
      "execution_count": 0,
      "outputs": []
    },
    {
      "metadata": {
        "id": "6gRBSBTfiO1x",
        "colab_type": "code",
        "colab": {
          "base_uri": "https://localhost:8080/",
          "height": 204
        },
        "outputId": "573237cf-e437-41f2-9bad-af459c715c0f"
      },
      "cell_type": "code",
      "source": [
        "source = pd.read_csv(\"https://dl.dropbox.com/s/e2tcsgbcp2in5h5/price_rooms_area.tsv\", sep=\"\\t\")\n",
        "source.head()"
      ],
      "execution_count": 161,
      "outputs": [
        {
          "output_type": "execute_result",
          "data": {
            "text/html": [
              "<div>\n",
              "<style scoped>\n",
              "    .dataframe tbody tr th:only-of-type {\n",
              "        vertical-align: middle;\n",
              "    }\n",
              "\n",
              "    .dataframe tbody tr th {\n",
              "        vertical-align: top;\n",
              "    }\n",
              "\n",
              "    .dataframe thead th {\n",
              "        text-align: right;\n",
              "    }\n",
              "</style>\n",
              "<table border=\"1\" class=\"dataframe\">\n",
              "  <thead>\n",
              "    <tr style=\"text-align: right;\">\n",
              "      <th></th>\n",
              "      <th>PRICE</th>\n",
              "      <th>ROOMS</th>\n",
              "      <th>AREA</th>\n",
              "      <th>OBJECTCAT</th>\n",
              "      <th>MARKETINGTYPE</th>\n",
              "    </tr>\n",
              "  </thead>\n",
              "  <tbody>\n",
              "    <tr>\n",
              "      <th>0</th>\n",
              "      <td>5</td>\n",
              "      <td>0</td>\n",
              "      <td>249</td>\n",
              "      <td>Sonstiges Büro-/Praxisobjekt</td>\n",
              "      <td>Miete</td>\n",
              "    </tr>\n",
              "    <tr>\n",
              "      <th>1</th>\n",
              "      <td>595000</td>\n",
              "      <td>9</td>\n",
              "      <td>440</td>\n",
              "      <td>Besondere Immobilie</td>\n",
              "      <td>Kauf</td>\n",
              "    </tr>\n",
              "    <tr>\n",
              "      <th>2</th>\n",
              "      <td>199000</td>\n",
              "      <td>6</td>\n",
              "      <td>135,75</td>\n",
              "      <td>Stadthaus</td>\n",
              "      <td>Kauf</td>\n",
              "    </tr>\n",
              "    <tr>\n",
              "      <th>3</th>\n",
              "      <td>269000</td>\n",
              "      <td>9</td>\n",
              "      <td>203,57</td>\n",
              "      <td>Stadthaus</td>\n",
              "      <td>Kauf</td>\n",
              "    </tr>\n",
              "    <tr>\n",
              "      <th>4</th>\n",
              "      <td>562</td>\n",
              "      <td>3</td>\n",
              "      <td>63,15</td>\n",
              "      <td>Etagenwohnung</td>\n",
              "      <td>Miete</td>\n",
              "    </tr>\n",
              "  </tbody>\n",
              "</table>\n",
              "</div>"
            ],
            "text/plain": [
              "    PRICE ROOMS    AREA                     OBJECTCAT MARKETINGTYPE\n",
              "0       5     0     249  Sonstiges Büro-/Praxisobjekt         Miete\n",
              "1  595000     9     440           Besondere Immobilie          Kauf\n",
              "2  199000     6  135,75                     Stadthaus          Kauf\n",
              "3  269000     9  203,57                     Stadthaus          Kauf\n",
              "4     562     3   63,15                 Etagenwohnung         Miete"
            ]
          },
          "metadata": {
            "tags": []
          },
          "execution_count": 161
        }
      ]
    },
    {
      "metadata": {
        "id": "WohcWzXppE-B",
        "colab_type": "text"
      },
      "cell_type": "markdown",
      "source": [
        "# Clean the data-source\n",
        "- Remove rows containing *null*\n",
        "- Remove rows containing *N/A*\n",
        "- Add New data columns: \"Average housing area\" and \"per housing area price\".\n",
        "- Clean new added columns"
      ]
    },
    {
      "metadata": {
        "id": "BOmAzUQfzIvs",
        "colab_type": "code",
        "colab": {}
      },
      "cell_type": "code",
      "source": [
        "def clean_data(source):\n",
        "  df = source\n",
        "  \n",
        "  # Remove null rows\n",
        "  df = df[pd.notnull(df[\"PRICE\"])]\n",
        "  df = df[pd.notnull(df[\"ROOMS\"])]\n",
        "  df = df[pd.notnull(df[\"AREA\"])]\n",
        "  \n",
        "  # Remove useless columns\n",
        "  df = df.drop([\"OBJECTCAT\"], axis=1)\n",
        "  df = df[~df[\"MARKETINGTYPE\"].isin([\"Miete\"])]\n",
        "  df = df.drop([\"MARKETINGTYPE\"], axis=1)\n",
        "  \n",
        "  # Convert all strings to numeric\n",
        "  df = df.convert_objects(convert_numeric=True)\n",
        "  \n",
        "  # Remove rows containing a \"0\", i.e price = 0 or rooms = 0\n",
        "  df = df[~(df[[\"PRICE\", \"ROOMS\",\"AREA\"]] == 0)]\n",
        "  \n",
        "  # Remove rows containing N/A \n",
        "  df = df[pd.notna(df[\"PRICE\"])]\n",
        "  df = df[pd.notna(df[\"ROOMS\"])]\n",
        "  df = df[pd.notna(df[\"AREA\"])]\n",
        "\n",
        "  # Insert new column of \"price of pro-area\"\n",
        "  df.insert(1, \"PRICE_PRO_AREA\", df[\"PRICE\"] / df[\"AREA\"]) \n",
        "  df = df[~(df[\"PRICE_PRO_AREA\"] < 5)]\n",
        "  #df[\"PRICE_PRO_AREA\"] = df[\"PRICE_PRO_AREA\"] / 1000 #Scale -1000 for easy demo.\n",
        "  df[\"PRICE_PRO_AREA\"] = np.log(df[\"PRICE_PRO_AREA\"])\n",
        "  df = df[pd.notnull(df[\"PRICE_PRO_AREA\"])]\n",
        "  df = df[pd.notna(df[\"PRICE_PRO_AREA\"])]\n",
        "    \n",
        "  # Insert new column of \"area of each room\"\n",
        "  df.insert(4, \"AREA_PRO_ROOM\", df[\"AREA\"] / df[\"ROOMS\"]) \n",
        "  df = df[~(df[\"AREA_PRO_ROOM\"] < 1)]\n",
        "  df[\"AREA_PRO_ROOM\"] = np.log(df[\"AREA_PRO_ROOM\"])\n",
        "  df = df[pd.notnull(df[\"AREA_PRO_ROOM\"])]\n",
        "  df = df[pd.notna(df[\"AREA_PRO_ROOM\"])]\n",
        "  \n",
        "  # Insert new column of \"room of each area\"\n",
        "  df.insert(5, \"ROOM_PRO_AREA\", df[\"ROOMS\"] / df[\"AREA\"]) \n",
        "  df[\"ROOM_PRO_AREA\"] = np.log(df[\"ROOM_PRO_AREA\"])\n",
        "  df = df[pd.notnull(df[\"ROOM_PRO_AREA\"])]\n",
        "  df = df[pd.notna(df[\"ROOM_PRO_AREA\"])]\n",
        "  \n",
        "  return df"
      ],
      "execution_count": 0,
      "outputs": []
    },
    {
      "metadata": {
        "id": "59c_lb5i3aTH",
        "colab_type": "code",
        "colab": {
          "base_uri": "https://localhost:8080/",
          "height": 68
        },
        "outputId": "b4e93e5a-6799-4b54-e1f4-d97857faa01f"
      },
      "cell_type": "code",
      "source": [
        "df = clean_data(source)"
      ],
      "execution_count": 163,
      "outputs": [
        {
          "output_type": "stream",
          "text": [
            "/usr/local/lib/python3.6/dist-packages/ipykernel_launcher.py:15: FutureWarning: convert_objects is deprecated.  To re-infer data dtypes for object columns, use DataFrame.infer_objects()\n",
            "For all other conversions use the data-type specific converters pd.to_datetime, pd.to_timedelta and pd.to_numeric.\n",
            "  from ipykernel import kernelapp as app\n"
          ],
          "name": "stderr"
        }
      ]
    },
    {
      "metadata": {
        "id": "SN-xnRxjzT2T",
        "colab_type": "code",
        "colab": {
          "base_uri": "https://localhost:8080/",
          "height": 204
        },
        "outputId": "790229f7-e546-497c-e82d-1ae8e6fc7a33"
      },
      "cell_type": "code",
      "source": [
        "df.head()"
      ],
      "execution_count": 164,
      "outputs": [
        {
          "output_type": "execute_result",
          "data": {
            "text/html": [
              "<div>\n",
              "<style scoped>\n",
              "    .dataframe tbody tr th:only-of-type {\n",
              "        vertical-align: middle;\n",
              "    }\n",
              "\n",
              "    .dataframe tbody tr th {\n",
              "        vertical-align: top;\n",
              "    }\n",
              "\n",
              "    .dataframe thead th {\n",
              "        text-align: right;\n",
              "    }\n",
              "</style>\n",
              "<table border=\"1\" class=\"dataframe\">\n",
              "  <thead>\n",
              "    <tr style=\"text-align: right;\">\n",
              "      <th></th>\n",
              "      <th>PRICE</th>\n",
              "      <th>PRICE_PRO_AREA</th>\n",
              "      <th>ROOMS</th>\n",
              "      <th>AREA</th>\n",
              "      <th>AREA_PRO_ROOM</th>\n",
              "      <th>ROOM_PRO_AREA</th>\n",
              "    </tr>\n",
              "  </thead>\n",
              "  <tbody>\n",
              "    <tr>\n",
              "      <th>1</th>\n",
              "      <td>595000.0</td>\n",
              "      <td>7.209542</td>\n",
              "      <td>9.0</td>\n",
              "      <td>440.0</td>\n",
              "      <td>3.889550</td>\n",
              "      <td>-3.889550</td>\n",
              "    </tr>\n",
              "    <tr>\n",
              "      <th>5</th>\n",
              "      <td>299000.0</td>\n",
              "      <td>7.666556</td>\n",
              "      <td>5.0</td>\n",
              "      <td>140.0</td>\n",
              "      <td>3.332205</td>\n",
              "      <td>-3.332205</td>\n",
              "    </tr>\n",
              "    <tr>\n",
              "      <th>6</th>\n",
              "      <td>685000.0</td>\n",
              "      <td>7.497003</td>\n",
              "      <td>8.0</td>\n",
              "      <td>380.0</td>\n",
              "      <td>3.860730</td>\n",
              "      <td>-3.860730</td>\n",
              "    </tr>\n",
              "    <tr>\n",
              "      <th>8</th>\n",
              "      <td>206000.0</td>\n",
              "      <td>6.600842</td>\n",
              "      <td>1.0</td>\n",
              "      <td>280.0</td>\n",
              "      <td>5.634790</td>\n",
              "      <td>-5.634790</td>\n",
              "    </tr>\n",
              "    <tr>\n",
              "      <th>9</th>\n",
              "      <td>75000.0</td>\n",
              "      <td>7.114370</td>\n",
              "      <td>3.0</td>\n",
              "      <td>61.0</td>\n",
              "      <td>3.012262</td>\n",
              "      <td>-3.012262</td>\n",
              "    </tr>\n",
              "  </tbody>\n",
              "</table>\n",
              "</div>"
            ],
            "text/plain": [
              "      PRICE  PRICE_PRO_AREA  ROOMS   AREA  AREA_PRO_ROOM  ROOM_PRO_AREA\n",
              "1  595000.0        7.209542    9.0  440.0       3.889550      -3.889550\n",
              "5  299000.0        7.666556    5.0  140.0       3.332205      -3.332205\n",
              "6  685000.0        7.497003    8.0  380.0       3.860730      -3.860730\n",
              "8  206000.0        6.600842    1.0  280.0       5.634790      -5.634790\n",
              "9   75000.0        7.114370    3.0   61.0       3.012262      -3.012262"
            ]
          },
          "metadata": {
            "tags": []
          },
          "execution_count": 164
        }
      ]
    },
    {
      "metadata": {
        "id": "KWFBPC4uFQTd",
        "colab_type": "code",
        "colab": {
          "base_uri": "https://localhost:8080/",
          "height": 297
        },
        "outputId": "ea316a26-19cd-4bfa-85c0-87d3bb2e3172"
      },
      "cell_type": "code",
      "source": [
        "df.describe()"
      ],
      "execution_count": 165,
      "outputs": [
        {
          "output_type": "execute_result",
          "data": {
            "text/html": [
              "<div>\n",
              "<style scoped>\n",
              "    .dataframe tbody tr th:only-of-type {\n",
              "        vertical-align: middle;\n",
              "    }\n",
              "\n",
              "    .dataframe tbody tr th {\n",
              "        vertical-align: top;\n",
              "    }\n",
              "\n",
              "    .dataframe thead th {\n",
              "        text-align: right;\n",
              "    }\n",
              "</style>\n",
              "<table border=\"1\" class=\"dataframe\">\n",
              "  <thead>\n",
              "    <tr style=\"text-align: right;\">\n",
              "      <th></th>\n",
              "      <th>PRICE</th>\n",
              "      <th>PRICE_PRO_AREA</th>\n",
              "      <th>ROOMS</th>\n",
              "      <th>AREA</th>\n",
              "      <th>AREA_PRO_ROOM</th>\n",
              "      <th>ROOM_PRO_AREA</th>\n",
              "    </tr>\n",
              "  </thead>\n",
              "  <tbody>\n",
              "    <tr>\n",
              "      <th>count</th>\n",
              "      <td>1.281800e+05</td>\n",
              "      <td>128180.000000</td>\n",
              "      <td>128180.000000</td>\n",
              "      <td>128180.000000</td>\n",
              "      <td>128180.000000</td>\n",
              "      <td>128180.000000</td>\n",
              "    </tr>\n",
              "    <tr>\n",
              "      <th>mean</th>\n",
              "      <td>1.054886e+06</td>\n",
              "      <td>7.524109</td>\n",
              "      <td>5.187603</td>\n",
              "      <td>183.766251</td>\n",
              "      <td>3.452136</td>\n",
              "      <td>-3.452136</td>\n",
              "    </tr>\n",
              "    <tr>\n",
              "      <th>std</th>\n",
              "      <td>2.231478e+08</td>\n",
              "      <td>0.733975</td>\n",
              "      <td>5.268999</td>\n",
              "      <td>556.929503</td>\n",
              "      <td>0.426526</td>\n",
              "      <td>0.426526</td>\n",
              "    </tr>\n",
              "    <tr>\n",
              "      <th>min</th>\n",
              "      <td>3.000000e+02</td>\n",
              "      <td>1.629641</td>\n",
              "      <td>1.000000</td>\n",
              "      <td>1.000000</td>\n",
              "      <td>0.000000</td>\n",
              "      <td>-9.903488</td>\n",
              "    </tr>\n",
              "    <tr>\n",
              "      <th>25%</th>\n",
              "      <td>1.390000e+05</td>\n",
              "      <td>7.130899</td>\n",
              "      <td>3.000000</td>\n",
              "      <td>87.000000</td>\n",
              "      <td>3.218876</td>\n",
              "      <td>-3.604138</td>\n",
              "    </tr>\n",
              "    <tr>\n",
              "      <th>50%</th>\n",
              "      <td>2.500000e+05</td>\n",
              "      <td>7.561682</td>\n",
              "      <td>4.000000</td>\n",
              "      <td>130.000000</td>\n",
              "      <td>3.394508</td>\n",
              "      <td>-3.394508</td>\n",
              "    </tr>\n",
              "    <tr>\n",
              "      <th>75%</th>\n",
              "      <td>4.250000e+05</td>\n",
              "      <td>7.963808</td>\n",
              "      <td>6.000000</td>\n",
              "      <td>200.000000</td>\n",
              "      <td>3.604138</td>\n",
              "      <td>-3.218876</td>\n",
              "    </tr>\n",
              "    <tr>\n",
              "      <th>max</th>\n",
              "      <td>7.987979e+10</td>\n",
              "      <td>20.960654</td>\n",
              "      <td>540.000000</td>\n",
              "      <td>84000.000000</td>\n",
              "      <td>9.903488</td>\n",
              "      <td>0.000000</td>\n",
              "    </tr>\n",
              "  </tbody>\n",
              "</table>\n",
              "</div>"
            ],
            "text/plain": [
              "              PRICE  PRICE_PRO_AREA          ROOMS           AREA  \\\n",
              "count  1.281800e+05   128180.000000  128180.000000  128180.000000   \n",
              "mean   1.054886e+06        7.524109       5.187603     183.766251   \n",
              "std    2.231478e+08        0.733975       5.268999     556.929503   \n",
              "min    3.000000e+02        1.629641       1.000000       1.000000   \n",
              "25%    1.390000e+05        7.130899       3.000000      87.000000   \n",
              "50%    2.500000e+05        7.561682       4.000000     130.000000   \n",
              "75%    4.250000e+05        7.963808       6.000000     200.000000   \n",
              "max    7.987979e+10       20.960654     540.000000   84000.000000   \n",
              "\n",
              "       AREA_PRO_ROOM  ROOM_PRO_AREA  \n",
              "count  128180.000000  128180.000000  \n",
              "mean        3.452136      -3.452136  \n",
              "std         0.426526       0.426526  \n",
              "min         0.000000      -9.903488  \n",
              "25%         3.218876      -3.604138  \n",
              "50%         3.394508      -3.394508  \n",
              "75%         3.604138      -3.218876  \n",
              "max         9.903488       0.000000  "
            ]
          },
          "metadata": {
            "tags": []
          },
          "execution_count": 165
        }
      ]
    },
    {
      "metadata": {
        "id": "iWczGGR1ElU-",
        "colab_type": "code",
        "colab": {
          "base_uri": "https://localhost:8080/",
          "height": 396
        },
        "outputId": "21be6917-7d06-4448-dff3-de24f7363eb3"
      },
      "cell_type": "code",
      "source": [
        "df.hist(\"AREA_PRO_ROOM\", bins=BINS)"
      ],
      "execution_count": 166,
      "outputs": [
        {
          "output_type": "execute_result",
          "data": {
            "text/plain": [
              "array([[<matplotlib.axes._subplots.AxesSubplot object at 0x7f4dd4ae2e10>]],\n",
              "      dtype=object)"
            ]
          },
          "metadata": {
            "tags": []
          },
          "execution_count": 166
        },
        {
          "output_type": "display_data",
          "data": {
            "image/png": "[encoded data removed]",
            "text/plain": [
              "<matplotlib.figure.Figure at 0x7f4dd48a3080>"
            ]
          },
          "metadata": {
            "tags": []
          }
        }
      ]
    },
    {
      "metadata": {
        "id": "AnZz6Is-qo8i",
        "colab_type": "code",
        "colab": {
          "base_uri": "https://localhost:8080/",
          "height": 396
        },
        "outputId": "4bb3d028-bc0e-4ceb-ca72-d1a90c58f662"
      },
      "cell_type": "code",
      "source": [
        "df.hist(\"ROOM_PRO_AREA\", bins=BINS)"
      ],
      "execution_count": 167,
      "outputs": [
        {
          "output_type": "execute_result",
          "data": {
            "text/plain": [
              "array([[<matplotlib.axes._subplots.AxesSubplot object at 0x7f4dd44e6cc0>]],\n",
              "      dtype=object)"
            ]
          },
          "metadata": {
            "tags": []
          },
          "execution_count": 167
        },
        {
          "output_type": "display_data",
          "data": {
            "image/png": "[encoded data removed]",
            "text/plain": [
              "<matplotlib.figure.Figure at 0x7f4dd4ac39e8>"
            ]
          },
          "metadata": {
            "tags": []
          }
        }
      ]
    },
    {
      "metadata": {
        "id": "tQlYLiSSEsmr",
        "colab_type": "code",
        "colab": {
          "base_uri": "https://localhost:8080/",
          "height": 396
        },
        "outputId": "a60abcfc-28ca-4724-a5d5-5811870f9603"
      },
      "cell_type": "code",
      "source": [
        "df.hist(\"PRICE_PRO_AREA\", bins=BINS)"
      ],
      "execution_count": 168,
      "outputs": [
        {
          "output_type": "execute_result",
          "data": {
            "text/plain": [
              "array([[<matplotlib.axes._subplots.AxesSubplot object at 0x7f4dce8f4208>]],\n",
              "      dtype=object)"
            ]
          },
          "metadata": {
            "tags": []
          },
          "execution_count": 168
        },
        {
          "output_type": "display_data",
          "data": {
            "image/png": "[encoded data removed]",
            "text/plain": [
              "<matplotlib.figure.Figure at 0x7f4dd4ac3ac8>"
            ]
          },
          "metadata": {
            "tags": []
          }
        }
      ]
    },
    {
      "metadata": {
        "id": "B7G_QUbGL0YZ",
        "colab_type": "code",
        "colab": {
          "base_uri": "https://localhost:8080/",
          "height": 378
        },
        "outputId": "06ad88e7-e25b-4e9e-db1b-88bd4c6506ed"
      },
      "cell_type": "code",
      "source": [
        "df.plot.scatter(x='AREA_PRO_ROOM', y='PRICE_PRO_AREA')"
      ],
      "execution_count": 169,
      "outputs": [
        {
          "output_type": "execute_result",
          "data": {
            "text/plain": [
              "<matplotlib.axes._subplots.AxesSubplot at 0x7f4de0395f28>"
            ]
          },
          "metadata": {
            "tags": []
          },
          "execution_count": 169
        },
        {
          "output_type": "display_data",
          "data": {
            "image/png": "[encoded data removed]",
            "text/plain": [
              "<matplotlib.figure.Figure at 0x7f4dd43824a8>"
            ]
          },
          "metadata": {
            "tags": []
          }
        }
      ]
    },
    {
      "metadata": {
        "id": "Iv6GptM8qwPh",
        "colab_type": "code",
        "colab": {
          "base_uri": "https://localhost:8080/",
          "height": 378
        },
        "outputId": "558eac0e-dc65-4a52-f2d6-505f2b4c2e00"
      },
      "cell_type": "code",
      "source": [
        "df.plot.scatter(x='ROOM_PRO_AREA', y='PRICE_PRO_AREA')"
      ],
      "execution_count": 170,
      "outputs": [
        {
          "output_type": "execute_result",
          "data": {
            "text/plain": [
              "<matplotlib.axes._subplots.AxesSubplot at 0x7f4dde780358>"
            ]
          },
          "metadata": {
            "tags": []
          },
          "execution_count": 170
        },
        {
          "output_type": "display_data",
          "data": {
            "image/png": "[encoded data removed]",
            "text/plain": [
              "<matplotlib.figure.Figure at 0x7f4dd4411390>"
            ]
          },
          "metadata": {
            "tags": []
          }
        }
      ]
    },
    {
      "metadata": {
        "id": "PWk86xsBDkch",
        "colab_type": "code",
        "colab": {}
      },
      "cell_type": "code",
      "source": [
        "def make_dataset_and_labels_and_class_num(df, label_name):\n",
        "  \"\"\"This method will prepare da, labels for train, evaluation, test.\n",
        "     Args:\n",
        "      df: DataFrame format of datasource.\n",
        "      label_name: The name of column in datasource which will be as target for train.\n",
        "     Return: \n",
        "       Tuple of (ds_train, ds_eval, ds_test, label_train, label_eval, label_test)\n",
        "      \n",
        "  \"\"\"\n",
        "  target_label_col = label_name\n",
        "   \n",
        "  random_seed = None\n",
        "  np.random.seed(random_seed)\n",
        "  \n",
        "  ds_train = df.sample(frac=0.7, random_state=random_seed)\n",
        "  label_train = ds_train[[target_label_col]]\n",
        "  \n",
        "  ds_rest = df.drop(ds_train.index)\n",
        "  ds_rest = ds_rest.copy()\n",
        "  \n",
        "  ds_eval = ds_rest.sample(frac=0.7, random_state=random_seed)\n",
        "  label_eval = ds_eval[[target_label_col]]\n",
        "  \n",
        "  ds_test = ds_rest.drop(ds_eval.index)\n",
        "  label_test = ds_test[[target_label_col]]\n",
        "  \n",
        "  return ds_train[[\"AREA_PRO_ROOM\", \"ROOM_PRO_AREA\"]], ds_eval[[\"AREA_PRO_ROOM\", \"ROOM_PRO_AREA\"]], ds_test[[\"AREA_PRO_ROOM\", \"ROOM_PRO_AREA\"]], label_train, label_eval, label_test"
      ],
      "execution_count": 0,
      "outputs": []
    },
    {
      "metadata": {
        "id": "NgkHsXdun_dO",
        "colab_type": "code",
        "colab": {}
      },
      "cell_type": "code",
      "source": [
        "x_train, x_eval, x_test, y_train, y_eval, y_test = make_dataset_and_labels_and_class_num(df, \"PRICE_PRO_AREA\")"
      ],
      "execution_count": 0,
      "outputs": []
    },
    {
      "metadata": {
        "id": "mgVYA89XoHIV",
        "colab_type": "code",
        "colab": {
          "base_uri": "https://localhost:8080/",
          "height": 297
        },
        "outputId": "0e7552d7-4362-4b2b-c6e4-98b082a7d6a2"
      },
      "cell_type": "code",
      "source": [
        "x_train.describe()"
      ],
      "execution_count": 173,
      "outputs": [
        {
          "output_type": "execute_result",
          "data": {
            "text/html": [
              "<div>\n",
              "<style scoped>\n",
              "    .dataframe tbody tr th:only-of-type {\n",
              "        vertical-align: middle;\n",
              "    }\n",
              "\n",
              "    .dataframe tbody tr th {\n",
              "        vertical-align: top;\n",
              "    }\n",
              "\n",
              "    .dataframe thead th {\n",
              "        text-align: right;\n",
              "    }\n",
              "</style>\n",
              "<table border=\"1\" class=\"dataframe\">\n",
              "  <thead>\n",
              "    <tr style=\"text-align: right;\">\n",
              "      <th></th>\n",
              "      <th>AREA_PRO_ROOM</th>\n",
              "      <th>ROOM_PRO_AREA</th>\n",
              "    </tr>\n",
              "  </thead>\n",
              "  <tbody>\n",
              "    <tr>\n",
              "      <th>count</th>\n",
              "      <td>89726.000000</td>\n",
              "      <td>89726.000000</td>\n",
              "    </tr>\n",
              "    <tr>\n",
              "      <th>mean</th>\n",
              "      <td>3.452555</td>\n",
              "      <td>-3.452555</td>\n",
              "    </tr>\n",
              "    <tr>\n",
              "      <th>std</th>\n",
              "      <td>0.428083</td>\n",
              "      <td>0.428083</td>\n",
              "    </tr>\n",
              "    <tr>\n",
              "      <th>min</th>\n",
              "      <td>0.000000</td>\n",
              "      <td>-9.903488</td>\n",
              "    </tr>\n",
              "    <tr>\n",
              "      <th>25%</th>\n",
              "      <td>3.218876</td>\n",
              "      <td>-3.605498</td>\n",
              "    </tr>\n",
              "    <tr>\n",
              "      <th>50%</th>\n",
              "      <td>3.395626</td>\n",
              "      <td>-3.395626</td>\n",
              "    </tr>\n",
              "    <tr>\n",
              "      <th>75%</th>\n",
              "      <td>3.605498</td>\n",
              "      <td>-3.218876</td>\n",
              "    </tr>\n",
              "    <tr>\n",
              "      <th>max</th>\n",
              "      <td>9.903488</td>\n",
              "      <td>0.000000</td>\n",
              "    </tr>\n",
              "  </tbody>\n",
              "</table>\n",
              "</div>"
            ],
            "text/plain": [
              "       AREA_PRO_ROOM  ROOM_PRO_AREA\n",
              "count   89726.000000   89726.000000\n",
              "mean        3.452555      -3.452555\n",
              "std         0.428083       0.428083\n",
              "min         0.000000      -9.903488\n",
              "25%         3.218876      -3.605498\n",
              "50%         3.395626      -3.395626\n",
              "75%         3.605498      -3.218876\n",
              "max         9.903488       0.000000"
            ]
          },
          "metadata": {
            "tags": []
          },
          "execution_count": 173
        }
      ]
    },
    {
      "metadata": {
        "id": "1TR94pSWkeyR",
        "colab_type": "code",
        "colab": {
          "base_uri": "https://localhost:8080/",
          "height": 396
        },
        "outputId": "07ffbcf5-72e9-4722-fc4e-d749234c37d8"
      },
      "cell_type": "code",
      "source": [
        "x_train.hist(\"AREA_PRO_ROOM\", bins = BINS)"
      ],
      "execution_count": 174,
      "outputs": [
        {
          "output_type": "execute_result",
          "data": {
            "text/plain": [
              "array([[<matplotlib.axes._subplots.AxesSubplot object at 0x7f4dd48a9390>]],\n",
              "      dtype=object)"
            ]
          },
          "metadata": {
            "tags": []
          },
          "execution_count": 174
        },
        {
          "output_type": "display_data",
          "data": {
            "image/png": "[encoded data removed]",
            "text/plain": [
              "<matplotlib.figure.Figure at 0x7f4dd49452b0>"
            ]
          },
          "metadata": {
            "tags": []
          }
        }
      ]
    },
    {
      "metadata": {
        "id": "40ciIF3_oEYq",
        "colab_type": "code",
        "colab": {
          "base_uri": "https://localhost:8080/",
          "height": 396
        },
        "outputId": "7ab0a350-1765-4055-9e09-5fb5961de252"
      },
      "cell_type": "code",
      "source": [
        "x_train.hist(\"ROOM_PRO_AREA\", bins = BINS)"
      ],
      "execution_count": 175,
      "outputs": [
        {
          "output_type": "execute_result",
          "data": {
            "text/plain": [
              "array([[<matplotlib.axes._subplots.AxesSubplot object at 0x7f4dd467ccc0>]],\n",
              "      dtype=object)"
            ]
          },
          "metadata": {
            "tags": []
          },
          "execution_count": 175
        },
        {
          "output_type": "display_data",
          "data": {
            "image/png": "[encoded data removed]",
            "text/plain": [
              "<matplotlib.figure.Figure at 0x7f4dd493e9e8>"
            ]
          },
          "metadata": {
            "tags": []
          }
        }
      ]
    },
    {
      "metadata": {
        "id": "rEwxanjWz1dm",
        "colab_type": "code",
        "colab": {
          "base_uri": "https://localhost:8080/",
          "height": 297
        },
        "outputId": "130731b6-6019-4f88-8f41-75a1cc1e32fd"
      },
      "cell_type": "code",
      "source": [
        "y_train.describe()"
      ],
      "execution_count": 176,
      "outputs": [
        {
          "output_type": "execute_result",
          "data": {
            "text/html": [
              "<div>\n",
              "<style scoped>\n",
              "    .dataframe tbody tr th:only-of-type {\n",
              "        vertical-align: middle;\n",
              "    }\n",
              "\n",
              "    .dataframe tbody tr th {\n",
              "        vertical-align: top;\n",
              "    }\n",
              "\n",
              "    .dataframe thead th {\n",
              "        text-align: right;\n",
              "    }\n",
              "</style>\n",
              "<table border=\"1\" class=\"dataframe\">\n",
              "  <thead>\n",
              "    <tr style=\"text-align: right;\">\n",
              "      <th></th>\n",
              "      <th>PRICE_PRO_AREA</th>\n",
              "    </tr>\n",
              "  </thead>\n",
              "  <tbody>\n",
              "    <tr>\n",
              "      <th>count</th>\n",
              "      <td>89726.000000</td>\n",
              "    </tr>\n",
              "    <tr>\n",
              "      <th>mean</th>\n",
              "      <td>7.524564</td>\n",
              "    </tr>\n",
              "    <tr>\n",
              "      <th>std</th>\n",
              "      <td>0.733832</td>\n",
              "    </tr>\n",
              "    <tr>\n",
              "      <th>min</th>\n",
              "      <td>1.666556</td>\n",
              "    </tr>\n",
              "    <tr>\n",
              "      <th>25%</th>\n",
              "      <td>7.130899</td>\n",
              "    </tr>\n",
              "    <tr>\n",
              "      <th>50%</th>\n",
              "      <td>7.563631</td>\n",
              "    </tr>\n",
              "    <tr>\n",
              "      <th>75%</th>\n",
              "      <td>7.962196</td>\n",
              "    </tr>\n",
              "    <tr>\n",
              "      <th>max</th>\n",
              "      <td>20.960654</td>\n",
              "    </tr>\n",
              "  </tbody>\n",
              "</table>\n",
              "</div>"
            ],
            "text/plain": [
              "       PRICE_PRO_AREA\n",
              "count    89726.000000\n",
              "mean         7.524564\n",
              "std          0.733832\n",
              "min          1.666556\n",
              "25%          7.130899\n",
              "50%          7.563631\n",
              "75%          7.962196\n",
              "max         20.960654"
            ]
          },
          "metadata": {
            "tags": []
          },
          "execution_count": 176
        }
      ]
    },
    {
      "metadata": {
        "id": "My61JIwfa_Sk",
        "colab_type": "code",
        "colab": {
          "base_uri": "https://localhost:8080/",
          "height": 396
        },
        "outputId": "6f5beba8-6a2a-402c-adeb-4f2c2d29764f"
      },
      "cell_type": "code",
      "source": [
        "y_train.hist(\"PRICE_PRO_AREA\", bins=BINS)"
      ],
      "execution_count": 177,
      "outputs": [
        {
          "output_type": "execute_result",
          "data": {
            "text/plain": [
              "array([[<matplotlib.axes._subplots.AxesSubplot object at 0x7f4dd454a630>]],\n",
              "      dtype=object)"
            ]
          },
          "metadata": {
            "tags": []
          },
          "execution_count": 177
        },
        {
          "output_type": "display_data",
          "data": {
            "image/png": "[encoded data removed]",
            "text/plain": [
              "<matplotlib.figure.Figure at 0x7f4dd46e4d30>"
            ]
          },
          "metadata": {
            "tags": []
          }
        }
      ]
    },
    {
      "metadata": {
        "id": "ZXP4bHjfeLMW",
        "colab_type": "code",
        "colab": {
          "base_uri": "https://localhost:8080/",
          "height": 378
        },
        "outputId": "d1003429-f963-47d3-850f-8513db55cbec"
      },
      "cell_type": "code",
      "source": [
        "pd.concat([x_train, y_train], axis=1).plot.scatter(x='AREA_PRO_ROOM', y='PRICE_PRO_AREA') "
      ],
      "execution_count": 178,
      "outputs": [
        {
          "output_type": "execute_result",
          "data": {
            "text/plain": [
              "<matplotlib.axes._subplots.AxesSubplot at 0x7f4dd47447f0>"
            ]
          },
          "metadata": {
            "tags": []
          },
          "execution_count": 178
        },
        {
          "output_type": "display_data",
          "data": {
            "image/png": "[encoded data removed]",
            "text/plain": [
              "<matplotlib.figure.Figure at 0x7f4dd3e1c860>"
            ]
          },
          "metadata": {
            "tags": []
          }
        }
      ]
    },
    {
      "metadata": {
        "id": "TSkXonssq4zD",
        "colab_type": "code",
        "colab": {
          "base_uri": "https://localhost:8080/",
          "height": 378
        },
        "outputId": "7b0e2c64-620c-4696-bb88-1f296d44e148"
      },
      "cell_type": "code",
      "source": [
        "pd.concat([x_train, y_train], axis=1).plot.scatter(x='ROOM_PRO_AREA', y='PRICE_PRO_AREA') "
      ],
      "execution_count": 179,
      "outputs": [
        {
          "output_type": "execute_result",
          "data": {
            "text/plain": [
              "<matplotlib.axes._subplots.AxesSubplot at 0x7f4ddc155470>"
            ]
          },
          "metadata": {
            "tags": []
          },
          "execution_count": 179
        },
        {
          "output_type": "display_data",
          "data": {
            "image/png": "[encoded data removed]",
            "text/plain": [
              "<matplotlib.figure.Figure at 0x7f4df79a9438>"
            ]
          },
          "metadata": {
            "tags": []
          }
        }
      ]
    },
    {
      "metadata": {
        "id": "oMlOOyPQoI1E",
        "colab_type": "code",
        "colab": {
          "base_uri": "https://localhost:8080/",
          "height": 297
        },
        "outputId": "3ccf961a-2708-42a4-b801-7288721d3c90"
      },
      "cell_type": "code",
      "source": [
        "x_eval.describe()"
      ],
      "execution_count": 180,
      "outputs": [
        {
          "output_type": "execute_result",
          "data": {
            "text/html": [
              "<div>\n",
              "<style scoped>\n",
              "    .dataframe tbody tr th:only-of-type {\n",
              "        vertical-align: middle;\n",
              "    }\n",
              "\n",
              "    .dataframe tbody tr th {\n",
              "        vertical-align: top;\n",
              "    }\n",
              "\n",
              "    .dataframe thead th {\n",
              "        text-align: right;\n",
              "    }\n",
              "</style>\n",
              "<table border=\"1\" class=\"dataframe\">\n",
              "  <thead>\n",
              "    <tr style=\"text-align: right;\">\n",
              "      <th></th>\n",
              "      <th>AREA_PRO_ROOM</th>\n",
              "      <th>ROOM_PRO_AREA</th>\n",
              "    </tr>\n",
              "  </thead>\n",
              "  <tbody>\n",
              "    <tr>\n",
              "      <th>count</th>\n",
              "      <td>26918.000000</td>\n",
              "      <td>26918.000000</td>\n",
              "    </tr>\n",
              "    <tr>\n",
              "      <th>mean</th>\n",
              "      <td>3.452447</td>\n",
              "      <td>-3.452447</td>\n",
              "    </tr>\n",
              "    <tr>\n",
              "      <th>std</th>\n",
              "      <td>0.427896</td>\n",
              "      <td>0.427896</td>\n",
              "    </tr>\n",
              "    <tr>\n",
              "      <th>min</th>\n",
              "      <td>0.000000</td>\n",
              "      <td>-9.305651</td>\n",
              "    </tr>\n",
              "    <tr>\n",
              "      <th>25%</th>\n",
              "      <td>3.218876</td>\n",
              "      <td>-3.601868</td>\n",
              "    </tr>\n",
              "    <tr>\n",
              "      <th>50%</th>\n",
              "      <td>3.392829</td>\n",
              "      <td>-3.392829</td>\n",
              "    </tr>\n",
              "    <tr>\n",
              "      <th>75%</th>\n",
              "      <td>3.601868</td>\n",
              "      <td>-3.218876</td>\n",
              "    </tr>\n",
              "    <tr>\n",
              "      <th>max</th>\n",
              "      <td>9.305651</td>\n",
              "      <td>0.000000</td>\n",
              "    </tr>\n",
              "  </tbody>\n",
              "</table>\n",
              "</div>"
            ],
            "text/plain": [
              "       AREA_PRO_ROOM  ROOM_PRO_AREA\n",
              "count   26918.000000   26918.000000\n",
              "mean        3.452447      -3.452447\n",
              "std         0.427896       0.427896\n",
              "min         0.000000      -9.305651\n",
              "25%         3.218876      -3.601868\n",
              "50%         3.392829      -3.392829\n",
              "75%         3.601868      -3.218876\n",
              "max         9.305651       0.000000"
            ]
          },
          "metadata": {
            "tags": []
          },
          "execution_count": 180
        }
      ]
    },
    {
      "metadata": {
        "id": "tHRgt5Vyy3W1",
        "colab_type": "code",
        "colab": {
          "base_uri": "https://localhost:8080/",
          "height": 396
        },
        "outputId": "67b48a65-3511-47d4-9ed3-200cb5eeb9dd"
      },
      "cell_type": "code",
      "source": [
        "x_eval.hist(\"AREA_PRO_ROOM\", bins = BINS)"
      ],
      "execution_count": 181,
      "outputs": [
        {
          "output_type": "execute_result",
          "data": {
            "text/plain": [
              "array([[<matplotlib.axes._subplots.AxesSubplot object at 0x7f4dce785160>]],\n",
              "      dtype=object)"
            ]
          },
          "metadata": {
            "tags": []
          },
          "execution_count": 181
        },
        {
          "output_type": "display_data",
          "data": {
            "image/png": "[encoded data removed]",
            "text/plain": [
              "<matplotlib.figure.Figure at 0x7f4dd493ae10>"
            ]
          },
          "metadata": {
            "tags": []
          }
        }
      ]
    },
    {
      "metadata": {
        "id": "TPe0uSuSoQ3G",
        "colab_type": "code",
        "colab": {
          "base_uri": "https://localhost:8080/",
          "height": 396
        },
        "outputId": "6aa5a2b9-f095-4943-9236-958a00617b85"
      },
      "cell_type": "code",
      "source": [
        "x_eval.hist(\"ROOM_PRO_AREA\", bins = BINS)"
      ],
      "execution_count": 182,
      "outputs": [
        {
          "output_type": "execute_result",
          "data": {
            "text/plain": [
              "array([[<matplotlib.axes._subplots.AxesSubplot object at 0x7f4dd3da77f0>]],\n",
              "      dtype=object)"
            ]
          },
          "metadata": {
            "tags": []
          },
          "execution_count": 182
        },
        {
          "output_type": "display_data",
          "data": {
            "image/png": "[encoded data removed]",
            "text/plain": [
              "<matplotlib.figure.Figure at 0x7f4dd47849e8>"
            ]
          },
          "metadata": {
            "tags": []
          }
        }
      ]
    },
    {
      "metadata": {
        "id": "vuLSow1Sz71e",
        "colab_type": "code",
        "colab": {
          "base_uri": "https://localhost:8080/",
          "height": 297
        },
        "outputId": "b3400fa5-10d1-4ef0-aa22-206ccd2333c1"
      },
      "cell_type": "code",
      "source": [
        "y_eval.describe()"
      ],
      "execution_count": 183,
      "outputs": [
        {
          "output_type": "execute_result",
          "data": {
            "text/html": [
              "<div>\n",
              "<style scoped>\n",
              "    .dataframe tbody tr th:only-of-type {\n",
              "        vertical-align: middle;\n",
              "    }\n",
              "\n",
              "    .dataframe tbody tr th {\n",
              "        vertical-align: top;\n",
              "    }\n",
              "\n",
              "    .dataframe thead th {\n",
              "        text-align: right;\n",
              "    }\n",
              "</style>\n",
              "<table border=\"1\" class=\"dataframe\">\n",
              "  <thead>\n",
              "    <tr style=\"text-align: right;\">\n",
              "      <th></th>\n",
              "      <th>PRICE_PRO_AREA</th>\n",
              "    </tr>\n",
              "  </thead>\n",
              "  <tbody>\n",
              "    <tr>\n",
              "      <th>count</th>\n",
              "      <td>26918.000000</td>\n",
              "    </tr>\n",
              "    <tr>\n",
              "      <th>mean</th>\n",
              "      <td>7.524095</td>\n",
              "    </tr>\n",
              "    <tr>\n",
              "      <th>std</th>\n",
              "      <td>0.736682</td>\n",
              "    </tr>\n",
              "    <tr>\n",
              "      <th>min</th>\n",
              "      <td>1.776492</td>\n",
              "    </tr>\n",
              "    <tr>\n",
              "      <th>25%</th>\n",
              "      <td>7.130899</td>\n",
              "    </tr>\n",
              "    <tr>\n",
              "      <th>50%</th>\n",
              "      <td>7.559609</td>\n",
              "    </tr>\n",
              "    <tr>\n",
              "      <th>75%</th>\n",
              "      <td>7.972812</td>\n",
              "    </tr>\n",
              "    <tr>\n",
              "      <th>max</th>\n",
              "      <td>13.920871</td>\n",
              "    </tr>\n",
              "  </tbody>\n",
              "</table>\n",
              "</div>"
            ],
            "text/plain": [
              "       PRICE_PRO_AREA\n",
              "count    26918.000000\n",
              "mean         7.524095\n",
              "std          0.736682\n",
              "min          1.776492\n",
              "25%          7.130899\n",
              "50%          7.559609\n",
              "75%          7.972812\n",
              "max         13.920871"
            ]
          },
          "metadata": {
            "tags": []
          },
          "execution_count": 183
        }
      ]
    },
    {
      "metadata": {
        "id": "AUtCzIVGdT4c",
        "colab_type": "code",
        "colab": {
          "base_uri": "https://localhost:8080/",
          "height": 396
        },
        "outputId": "82d2629b-c22e-476f-f94b-35f1d1d87a74"
      },
      "cell_type": "code",
      "source": [
        "y_eval.hist(\"PRICE_PRO_AREA\", bins=BINS)"
      ],
      "execution_count": 184,
      "outputs": [
        {
          "output_type": "execute_result",
          "data": {
            "text/plain": [
              "array([[<matplotlib.axes._subplots.AxesSubplot object at 0x7f4df78800f0>]],\n",
              "      dtype=object)"
            ]
          },
          "metadata": {
            "tags": []
          },
          "execution_count": 184
        },
        {
          "output_type": "display_data",
          "data": {
            "image/png": "[encoded data removed]",
            "text/plain": [
              "<matplotlib.figure.Figure at 0x7f4dd3c57860>"
            ]
          },
          "metadata": {
            "tags": []
          }
        }
      ]
    },
    {
      "metadata": {
        "id": "rGF9lnTPzHet",
        "colab_type": "code",
        "colab": {
          "base_uri": "https://localhost:8080/",
          "height": 378
        },
        "outputId": "5a81a55b-4247-4ea7-bf00-84bd980d4d0b"
      },
      "cell_type": "code",
      "source": [
        "pd.concat([x_eval, y_eval], axis=1).plot.scatter(x='AREA_PRO_ROOM', y='PRICE_PRO_AREA')"
      ],
      "execution_count": 185,
      "outputs": [
        {
          "output_type": "execute_result",
          "data": {
            "text/plain": [
              "<matplotlib.axes._subplots.AxesSubplot at 0x7f4dd3f23ef0>"
            ]
          },
          "metadata": {
            "tags": []
          },
          "execution_count": 185
        },
        {
          "output_type": "display_data",
          "data": {
            "image/png": "[encoded data removed]",
            "text/plain": [
              "<matplotlib.figure.Figure at 0x7f4df77079b0>"
            ]
          },
          "metadata": {
            "tags": []
          }
        }
      ]
    },
    {
      "metadata": {
        "id": "X0UrrXaWrJpT",
        "colab_type": "code",
        "colab": {
          "base_uri": "https://localhost:8080/",
          "height": 378
        },
        "outputId": "ce175fec-db71-4b66-9ffa-57e9c80baeb7"
      },
      "cell_type": "code",
      "source": [
        "pd.concat([x_eval, y_eval], axis=1).plot.scatter(x='ROOM_PRO_AREA', y='PRICE_PRO_AREA')"
      ],
      "execution_count": 186,
      "outputs": [
        {
          "output_type": "execute_result",
          "data": {
            "text/plain": [
              "<matplotlib.axes._subplots.AxesSubplot at 0x7f4dd4626ef0>"
            ]
          },
          "metadata": {
            "tags": []
          },
          "execution_count": 186
        },
        {
          "output_type": "display_data",
          "data": {
            "image/png": "[encoded data removed]",
            "text/plain": [
              "<matplotlib.figure.Figure at 0x7f4dd4655080>"
            ]
          },
          "metadata": {
            "tags": []
          }
        }
      ]
    },
    {
      "metadata": {
        "id": "xciCTqS2ageV",
        "colab_type": "code",
        "colab": {
          "base_uri": "https://localhost:8080/",
          "height": 297
        },
        "outputId": "f7dccf8c-e3f5-41ba-a4bb-937517df2f72"
      },
      "cell_type": "code",
      "source": [
        "x_test.describe()"
      ],
      "execution_count": 187,
      "outputs": [
        {
          "output_type": "execute_result",
          "data": {
            "text/html": [
              "<div>\n",
              "<style scoped>\n",
              "    .dataframe tbody tr th:only-of-type {\n",
              "        vertical-align: middle;\n",
              "    }\n",
              "\n",
              "    .dataframe tbody tr th {\n",
              "        vertical-align: top;\n",
              "    }\n",
              "\n",
              "    .dataframe thead th {\n",
              "        text-align: right;\n",
              "    }\n",
              "</style>\n",
              "<table border=\"1\" class=\"dataframe\">\n",
              "  <thead>\n",
              "    <tr style=\"text-align: right;\">\n",
              "      <th></th>\n",
              "      <th>AREA_PRO_ROOM</th>\n",
              "      <th>ROOM_PRO_AREA</th>\n",
              "    </tr>\n",
              "  </thead>\n",
              "  <tbody>\n",
              "    <tr>\n",
              "      <th>count</th>\n",
              "      <td>11536.000000</td>\n",
              "      <td>11536.000000</td>\n",
              "    </tr>\n",
              "    <tr>\n",
              "      <th>mean</th>\n",
              "      <td>3.448148</td>\n",
              "      <td>-3.448148</td>\n",
              "    </tr>\n",
              "    <tr>\n",
              "      <th>std</th>\n",
              "      <td>0.410921</td>\n",
              "      <td>0.410921</td>\n",
              "    </tr>\n",
              "    <tr>\n",
              "      <th>min</th>\n",
              "      <td>0.000000</td>\n",
              "      <td>-8.594154</td>\n",
              "    </tr>\n",
              "    <tr>\n",
              "      <th>25%</th>\n",
              "      <td>3.218876</td>\n",
              "      <td>-3.601868</td>\n",
              "    </tr>\n",
              "    <tr>\n",
              "      <th>50%</th>\n",
              "      <td>3.394508</td>\n",
              "      <td>-3.394508</td>\n",
              "    </tr>\n",
              "    <tr>\n",
              "      <th>75%</th>\n",
              "      <td>3.601868</td>\n",
              "      <td>-3.218876</td>\n",
              "    </tr>\n",
              "    <tr>\n",
              "      <th>max</th>\n",
              "      <td>8.594154</td>\n",
              "      <td>0.000000</td>\n",
              "    </tr>\n",
              "  </tbody>\n",
              "</table>\n",
              "</div>"
            ],
            "text/plain": [
              "       AREA_PRO_ROOM  ROOM_PRO_AREA\n",
              "count   11536.000000   11536.000000\n",
              "mean        3.448148      -3.448148\n",
              "std         0.410921       0.410921\n",
              "min         0.000000      -8.594154\n",
              "25%         3.218876      -3.601868\n",
              "50%         3.394508      -3.394508\n",
              "75%         3.601868      -3.218876\n",
              "max         8.594154       0.000000"
            ]
          },
          "metadata": {
            "tags": []
          },
          "execution_count": 187
        }
      ]
    },
    {
      "metadata": {
        "id": "CFLyayPTy6X1",
        "colab_type": "code",
        "colab": {
          "base_uri": "https://localhost:8080/",
          "height": 396
        },
        "outputId": "9735760d-6194-4ea9-eaba-7301a1a650ae"
      },
      "cell_type": "code",
      "source": [
        "x_test.hist(\"AREA_PRO_ROOM\", bins=BINS)"
      ],
      "execution_count": 188,
      "outputs": [
        {
          "output_type": "execute_result",
          "data": {
            "text/plain": [
              "array([[<matplotlib.axes._subplots.AxesSubplot object at 0x7f4dd3a65cc0>]],\n",
              "      dtype=object)"
            ]
          },
          "metadata": {
            "tags": []
          },
          "execution_count": 188
        },
        {
          "output_type": "display_data",
          "data": {
            "image/png": "[encoded data removed]",
            "text/plain": [
              "<matplotlib.figure.Figure at 0x7f4dd3a969e8>"
            ]
          },
          "metadata": {
            "tags": []
          }
        }
      ]
    },
    {
      "metadata": {
        "id": "VV-WOiyCoYGA",
        "colab_type": "code",
        "colab": {
          "base_uri": "https://localhost:8080/",
          "height": 396
        },
        "outputId": "ca78b9da-ab28-4444-d944-452de2f8c1cd"
      },
      "cell_type": "code",
      "source": [
        "x_test.hist(\"ROOM_PRO_AREA\", bins=BINS)"
      ],
      "execution_count": 189,
      "outputs": [
        {
          "output_type": "execute_result",
          "data": {
            "text/plain": [
              "array([[<matplotlib.axes._subplots.AxesSubplot object at 0x7f4dd15653c8>]],\n",
              "      dtype=object)"
            ]
          },
          "metadata": {
            "tags": []
          },
          "execution_count": 189
        },
        {
          "output_type": "display_data",
          "data": {
            "image/png": "[encoded data removed]",
            "text/plain": [
              "<matplotlib.figure.Figure at 0x7f4dcf753e10>"
            ]
          },
          "metadata": {
            "tags": []
          }
        }
      ]
    },
    {
      "metadata": {
        "id": "a21Zw6mGz_AN",
        "colab_type": "code",
        "colab": {
          "base_uri": "https://localhost:8080/",
          "height": 297
        },
        "outputId": "1e5d4e08-b920-4501-d324-0b6bb25e1e79"
      },
      "cell_type": "code",
      "source": [
        "y_test.describe()"
      ],
      "execution_count": 190,
      "outputs": [
        {
          "output_type": "execute_result",
          "data": {
            "text/html": [
              "<div>\n",
              "<style scoped>\n",
              "    .dataframe tbody tr th:only-of-type {\n",
              "        vertical-align: middle;\n",
              "    }\n",
              "\n",
              "    .dataframe tbody tr th {\n",
              "        vertical-align: top;\n",
              "    }\n",
              "\n",
              "    .dataframe thead th {\n",
              "        text-align: right;\n",
              "    }\n",
              "</style>\n",
              "<table border=\"1\" class=\"dataframe\">\n",
              "  <thead>\n",
              "    <tr style=\"text-align: right;\">\n",
              "      <th></th>\n",
              "      <th>PRICE_PRO_AREA</th>\n",
              "    </tr>\n",
              "  </thead>\n",
              "  <tbody>\n",
              "    <tr>\n",
              "      <th>count</th>\n",
              "      <td>11536.000000</td>\n",
              "    </tr>\n",
              "    <tr>\n",
              "      <th>mean</th>\n",
              "      <td>7.520608</td>\n",
              "    </tr>\n",
              "    <tr>\n",
              "      <th>std</th>\n",
              "      <td>0.728791</td>\n",
              "    </tr>\n",
              "    <tr>\n",
              "      <th>min</th>\n",
              "      <td>1.629641</td>\n",
              "    </tr>\n",
              "    <tr>\n",
              "      <th>25%</th>\n",
              "      <td>7.130899</td>\n",
              "    </tr>\n",
              "    <tr>\n",
              "      <th>50%</th>\n",
              "      <td>7.555400</td>\n",
              "    </tr>\n",
              "    <tr>\n",
              "      <th>75%</th>\n",
              "      <td>7.956767</td>\n",
              "    </tr>\n",
              "    <tr>\n",
              "      <th>max</th>\n",
              "      <td>15.274126</td>\n",
              "    </tr>\n",
              "  </tbody>\n",
              "</table>\n",
              "</div>"
            ],
            "text/plain": [
              "       PRICE_PRO_AREA\n",
              "count    11536.000000\n",
              "mean         7.520608\n",
              "std          0.728791\n",
              "min          1.629641\n",
              "25%          7.130899\n",
              "50%          7.555400\n",
              "75%          7.956767\n",
              "max         15.274126"
            ]
          },
          "metadata": {
            "tags": []
          },
          "execution_count": 190
        }
      ]
    },
    {
      "metadata": {
        "id": "vxlju8zCd9YY",
        "colab_type": "code",
        "colab": {
          "base_uri": "https://localhost:8080/",
          "height": 396
        },
        "outputId": "9350bf0f-d9a6-4d42-d4a7-4b1cd0458e50"
      },
      "cell_type": "code",
      "source": [
        "y_test.hist(\"PRICE_PRO_AREA\", bins=BINS)"
      ],
      "execution_count": 191,
      "outputs": [
        {
          "output_type": "execute_result",
          "data": {
            "text/plain": [
              "array([[<matplotlib.axes._subplots.AxesSubplot object at 0x7f4dd3b37f28>]],\n",
              "      dtype=object)"
            ]
          },
          "metadata": {
            "tags": []
          },
          "execution_count": 191
        },
        {
          "output_type": "display_data",
          "data": {
            "image/png": "[encoded data removed]",
            "text/plain": [
              "<matplotlib.figure.Figure at 0x7f4dd3b373c8>"
            ]
          },
          "metadata": {
            "tags": []
          }
        }
      ]
    },
    {
      "metadata": {
        "id": "_NarbG15zLXN",
        "colab_type": "code",
        "colab": {
          "base_uri": "https://localhost:8080/",
          "height": 378
        },
        "outputId": "6fe5cd61-a19c-4dde-c110-0437c39867d1"
      },
      "cell_type": "code",
      "source": [
        "pd.concat([x_test, y_test], axis=1).plot.scatter(x='AREA_PRO_ROOM', y='PRICE_PRO_AREA')"
      ],
      "execution_count": 192,
      "outputs": [
        {
          "output_type": "execute_result",
          "data": {
            "text/plain": [
              "<matplotlib.axes._subplots.AxesSubplot at 0x7f4dcf69fb70>"
            ]
          },
          "metadata": {
            "tags": []
          },
          "execution_count": 192
        },
        {
          "output_type": "display_data",
          "data": {
            "image/png": "[encoded data removed]",
            "text/plain": [
              "<matplotlib.figure.Figure at 0x7f4dd3b00b70>"
            ]
          },
          "metadata": {
            "tags": []
          }
        }
      ]
    },
    {
      "metadata": {
        "id": "U60pWkICrOAD",
        "colab_type": "code",
        "colab": {
          "base_uri": "https://localhost:8080/",
          "height": 378
        },
        "outputId": "0cc492fe-ba27-48fb-db06-9f7e2b0a6546"
      },
      "cell_type": "code",
      "source": [
        "pd.concat([x_test, y_test], axis=1).plot.scatter(x='ROOM_PRO_AREA', y='PRICE_PRO_AREA')"
      ],
      "execution_count": 193,
      "outputs": [
        {
          "output_type": "execute_result",
          "data": {
            "text/plain": [
              "<matplotlib.axes._subplots.AxesSubplot at 0x7f4dda822fd0>"
            ]
          },
          "metadata": {
            "tags": []
          },
          "execution_count": 193
        },
        {
          "output_type": "display_data",
          "data": {
            "image/png": "[encoded data removed]",
            "text/plain": [
              "<matplotlib.figure.Figure at 0x7f4dd4a78b38>"
            ]
          },
          "metadata": {
            "tags": []
          }
        }
      ]
    },
    {
      "metadata": {
        "id": "Yi1g3htco3st",
        "colab_type": "code",
        "colab": {
          "base_uri": "https://localhost:8080/",
          "height": 204
        },
        "outputId": "5e866e8f-71ce-4e84-a79f-17c5d7742620"
      },
      "cell_type": "code",
      "source": [
        "x_train.head()"
      ],
      "execution_count": 194,
      "outputs": [
        {
          "output_type": "execute_result",
          "data": {
            "text/html": [
              "<div>\n",
              "<style scoped>\n",
              "    .dataframe tbody tr th:only-of-type {\n",
              "        vertical-align: middle;\n",
              "    }\n",
              "\n",
              "    .dataframe tbody tr th {\n",
              "        vertical-align: top;\n",
              "    }\n",
              "\n",
              "    .dataframe thead th {\n",
              "        text-align: right;\n",
              "    }\n",
              "</style>\n",
              "<table border=\"1\" class=\"dataframe\">\n",
              "  <thead>\n",
              "    <tr style=\"text-align: right;\">\n",
              "      <th></th>\n",
              "      <th>AREA_PRO_ROOM</th>\n",
              "      <th>ROOM_PRO_AREA</th>\n",
              "    </tr>\n",
              "  </thead>\n",
              "  <tbody>\n",
              "    <tr>\n",
              "      <th>18511</th>\n",
              "      <td>3.871201</td>\n",
              "      <td>-3.871201</td>\n",
              "    </tr>\n",
              "    <tr>\n",
              "      <th>83096</th>\n",
              "      <td>2.995732</td>\n",
              "      <td>-2.995732</td>\n",
              "    </tr>\n",
              "    <tr>\n",
              "      <th>113204</th>\n",
              "      <td>3.044522</td>\n",
              "      <td>-3.044522</td>\n",
              "    </tr>\n",
              "    <tr>\n",
              "      <th>101665</th>\n",
              "      <td>3.401197</td>\n",
              "      <td>-3.401197</td>\n",
              "    </tr>\n",
              "    <tr>\n",
              "      <th>88123</th>\n",
              "      <td>3.912023</td>\n",
              "      <td>-3.912023</td>\n",
              "    </tr>\n",
              "  </tbody>\n",
              "</table>\n",
              "</div>"
            ],
            "text/plain": [
              "        AREA_PRO_ROOM  ROOM_PRO_AREA\n",
              "18511        3.871201      -3.871201\n",
              "83096        2.995732      -2.995732\n",
              "113204       3.044522      -3.044522\n",
              "101665       3.401197      -3.401197\n",
              "88123        3.912023      -3.912023"
            ]
          },
          "metadata": {
            "tags": []
          },
          "execution_count": 194
        }
      ]
    },
    {
      "metadata": {
        "id": "6VRcJQxqpInl",
        "colab_type": "code",
        "colab": {
          "base_uri": "https://localhost:8080/",
          "height": 204
        },
        "outputId": "798e2966-b5cd-4aa7-89f2-9f64a0aab6fb"
      },
      "cell_type": "code",
      "source": [
        "x_eval.head()"
      ],
      "execution_count": 195,
      "outputs": [
        {
          "output_type": "execute_result",
          "data": {
            "text/html": [
              "<div>\n",
              "<style scoped>\n",
              "    .dataframe tbody tr th:only-of-type {\n",
              "        vertical-align: middle;\n",
              "    }\n",
              "\n",
              "    .dataframe tbody tr th {\n",
              "        vertical-align: top;\n",
              "    }\n",
              "\n",
              "    .dataframe thead th {\n",
              "        text-align: right;\n",
              "    }\n",
              "</style>\n",
              "<table border=\"1\" class=\"dataframe\">\n",
              "  <thead>\n",
              "    <tr style=\"text-align: right;\">\n",
              "      <th></th>\n",
              "      <th>AREA_PRO_ROOM</th>\n",
              "      <th>ROOM_PRO_AREA</th>\n",
              "    </tr>\n",
              "  </thead>\n",
              "  <tbody>\n",
              "    <tr>\n",
              "      <th>50206</th>\n",
              "      <td>3.912023</td>\n",
              "      <td>-3.912023</td>\n",
              "    </tr>\n",
              "    <tr>\n",
              "      <th>153113</th>\n",
              "      <td>3.871201</td>\n",
              "      <td>-3.871201</td>\n",
              "    </tr>\n",
              "    <tr>\n",
              "      <th>110393</th>\n",
              "      <td>3.526361</td>\n",
              "      <td>-3.526361</td>\n",
              "    </tr>\n",
              "    <tr>\n",
              "      <th>202521</th>\n",
              "      <td>3.068053</td>\n",
              "      <td>-3.068053</td>\n",
              "    </tr>\n",
              "    <tr>\n",
              "      <th>143404</th>\n",
              "      <td>2.833213</td>\n",
              "      <td>-2.833213</td>\n",
              "    </tr>\n",
              "  </tbody>\n",
              "</table>\n",
              "</div>"
            ],
            "text/plain": [
              "        AREA_PRO_ROOM  ROOM_PRO_AREA\n",
              "50206        3.912023      -3.912023\n",
              "153113       3.871201      -3.871201\n",
              "110393       3.526361      -3.526361\n",
              "202521       3.068053      -3.068053\n",
              "143404       2.833213      -2.833213"
            ]
          },
          "metadata": {
            "tags": []
          },
          "execution_count": 195
        }
      ]
    },
    {
      "metadata": {
        "id": "g5fkf_HZaj2u",
        "colab_type": "code",
        "colab": {
          "base_uri": "https://localhost:8080/",
          "height": 204
        },
        "outputId": "ccc56a90-070f-4772-d2e0-7b3764523f9d"
      },
      "cell_type": "code",
      "source": [
        "x_test.head()"
      ],
      "execution_count": 196,
      "outputs": [
        {
          "output_type": "execute_result",
          "data": {
            "text/html": [
              "<div>\n",
              "<style scoped>\n",
              "    .dataframe tbody tr th:only-of-type {\n",
              "        vertical-align: middle;\n",
              "    }\n",
              "\n",
              "    .dataframe tbody tr th {\n",
              "        vertical-align: top;\n",
              "    }\n",
              "\n",
              "    .dataframe thead th {\n",
              "        text-align: right;\n",
              "    }\n",
              "</style>\n",
              "<table border=\"1\" class=\"dataframe\">\n",
              "  <thead>\n",
              "    <tr style=\"text-align: right;\">\n",
              "      <th></th>\n",
              "      <th>AREA_PRO_ROOM</th>\n",
              "      <th>ROOM_PRO_AREA</th>\n",
              "    </tr>\n",
              "  </thead>\n",
              "  <tbody>\n",
              "    <tr>\n",
              "      <th>5</th>\n",
              "      <td>3.332205</td>\n",
              "      <td>-3.332205</td>\n",
              "    </tr>\n",
              "    <tr>\n",
              "      <th>51</th>\n",
              "      <td>3.218876</td>\n",
              "      <td>-3.218876</td>\n",
              "    </tr>\n",
              "    <tr>\n",
              "      <th>80</th>\n",
              "      <td>3.149883</td>\n",
              "      <td>-3.149883</td>\n",
              "    </tr>\n",
              "    <tr>\n",
              "      <th>105</th>\n",
              "      <td>2.944439</td>\n",
              "      <td>-2.944439</td>\n",
              "    </tr>\n",
              "    <tr>\n",
              "      <th>134</th>\n",
              "      <td>3.555348</td>\n",
              "      <td>-3.555348</td>\n",
              "    </tr>\n",
              "  </tbody>\n",
              "</table>\n",
              "</div>"
            ],
            "text/plain": [
              "     AREA_PRO_ROOM  ROOM_PRO_AREA\n",
              "5         3.332205      -3.332205\n",
              "51        3.218876      -3.218876\n",
              "80        3.149883      -3.149883\n",
              "105       2.944439      -2.944439\n",
              "134       3.555348      -3.555348"
            ]
          },
          "metadata": {
            "tags": []
          },
          "execution_count": 196
        }
      ]
    },
    {
      "metadata": {
        "id": "WDyckWh7lwBT",
        "colab_type": "code",
        "colab": {
          "base_uri": "https://localhost:8080/",
          "height": 204
        },
        "outputId": "cd180265-68b7-4524-bb70-e23a1ed69076"
      },
      "cell_type": "code",
      "source": [
        "y_train.head()"
      ],
      "execution_count": 197,
      "outputs": [
        {
          "output_type": "execute_result",
          "data": {
            "text/html": [
              "<div>\n",
              "<style scoped>\n",
              "    .dataframe tbody tr th:only-of-type {\n",
              "        vertical-align: middle;\n",
              "    }\n",
              "\n",
              "    .dataframe tbody tr th {\n",
              "        vertical-align: top;\n",
              "    }\n",
              "\n",
              "    .dataframe thead th {\n",
              "        text-align: right;\n",
              "    }\n",
              "</style>\n",
              "<table border=\"1\" class=\"dataframe\">\n",
              "  <thead>\n",
              "    <tr style=\"text-align: right;\">\n",
              "      <th></th>\n",
              "      <th>PRICE_PRO_AREA</th>\n",
              "    </tr>\n",
              "  </thead>\n",
              "  <tbody>\n",
              "    <tr>\n",
              "      <th>18511</th>\n",
              "      <td>8.481854</td>\n",
              "    </tr>\n",
              "    <tr>\n",
              "      <th>83096</th>\n",
              "      <td>7.090077</td>\n",
              "    </tr>\n",
              "    <tr>\n",
              "      <th>113204</th>\n",
              "      <td>7.624433</td>\n",
              "    </tr>\n",
              "    <tr>\n",
              "      <th>101665</th>\n",
              "      <td>6.674140</td>\n",
              "    </tr>\n",
              "    <tr>\n",
              "      <th>88123</th>\n",
              "      <td>7.590852</td>\n",
              "    </tr>\n",
              "  </tbody>\n",
              "</table>\n",
              "</div>"
            ],
            "text/plain": [
              "        PRICE_PRO_AREA\n",
              "18511         8.481854\n",
              "83096         7.090077\n",
              "113204        7.624433\n",
              "101665        6.674140\n",
              "88123         7.590852"
            ]
          },
          "metadata": {
            "tags": []
          },
          "execution_count": 197
        }
      ]
    },
    {
      "metadata": {
        "id": "KNqPapJAlwG1",
        "colab_type": "code",
        "colab": {
          "base_uri": "https://localhost:8080/",
          "height": 204
        },
        "outputId": "ac9e7560-1d32-4074-ddba-55d303cf9f9d"
      },
      "cell_type": "code",
      "source": [
        "y_eval.head()"
      ],
      "execution_count": 198,
      "outputs": [
        {
          "output_type": "execute_result",
          "data": {
            "text/html": [
              "<div>\n",
              "<style scoped>\n",
              "    .dataframe tbody tr th:only-of-type {\n",
              "        vertical-align: middle;\n",
              "    }\n",
              "\n",
              "    .dataframe tbody tr th {\n",
              "        vertical-align: top;\n",
              "    }\n",
              "\n",
              "    .dataframe thead th {\n",
              "        text-align: right;\n",
              "    }\n",
              "</style>\n",
              "<table border=\"1\" class=\"dataframe\">\n",
              "  <thead>\n",
              "    <tr style=\"text-align: right;\">\n",
              "      <th></th>\n",
              "      <th>PRICE_PRO_AREA</th>\n",
              "    </tr>\n",
              "  </thead>\n",
              "  <tbody>\n",
              "    <tr>\n",
              "      <th>50206</th>\n",
              "      <td>7.130899</td>\n",
              "    </tr>\n",
              "    <tr>\n",
              "      <th>153113</th>\n",
              "      <td>8.706435</td>\n",
              "    </tr>\n",
              "    <tr>\n",
              "      <th>110393</th>\n",
              "      <td>7.428822</td>\n",
              "    </tr>\n",
              "    <tr>\n",
              "      <th>202521</th>\n",
              "      <td>7.731523</td>\n",
              "    </tr>\n",
              "    <tr>\n",
              "      <th>143404</th>\n",
              "      <td>7.293418</td>\n",
              "    </tr>\n",
              "  </tbody>\n",
              "</table>\n",
              "</div>"
            ],
            "text/plain": [
              "        PRICE_PRO_AREA\n",
              "50206         7.130899\n",
              "153113        8.706435\n",
              "110393        7.428822\n",
              "202521        7.731523\n",
              "143404        7.293418"
            ]
          },
          "metadata": {
            "tags": []
          },
          "execution_count": 198
        }
      ]
    },
    {
      "metadata": {
        "id": "4FR6Ujg1lwL6",
        "colab_type": "code",
        "colab": {
          "base_uri": "https://localhost:8080/",
          "height": 204
        },
        "outputId": "71dafad7-69c3-463f-f1a7-78c69edee787"
      },
      "cell_type": "code",
      "source": [
        "y_test.head()"
      ],
      "execution_count": 199,
      "outputs": [
        {
          "output_type": "execute_result",
          "data": {
            "text/html": [
              "<div>\n",
              "<style scoped>\n",
              "    .dataframe tbody tr th:only-of-type {\n",
              "        vertical-align: middle;\n",
              "    }\n",
              "\n",
              "    .dataframe tbody tr th {\n",
              "        vertical-align: top;\n",
              "    }\n",
              "\n",
              "    .dataframe thead th {\n",
              "        text-align: right;\n",
              "    }\n",
              "</style>\n",
              "<table border=\"1\" class=\"dataframe\">\n",
              "  <thead>\n",
              "    <tr style=\"text-align: right;\">\n",
              "      <th></th>\n",
              "      <th>PRICE_PRO_AREA</th>\n",
              "    </tr>\n",
              "  </thead>\n",
              "  <tbody>\n",
              "    <tr>\n",
              "      <th>5</th>\n",
              "      <td>7.666556</td>\n",
              "    </tr>\n",
              "    <tr>\n",
              "      <th>51</th>\n",
              "      <td>5.857933</td>\n",
              "    </tr>\n",
              "    <tr>\n",
              "      <th>80</th>\n",
              "      <td>7.539534</td>\n",
              "    </tr>\n",
              "    <tr>\n",
              "      <th>105</th>\n",
              "      <td>6.017440</td>\n",
              "    </tr>\n",
              "    <tr>\n",
              "      <th>134</th>\n",
              "      <td>9.456084</td>\n",
              "    </tr>\n",
              "  </tbody>\n",
              "</table>\n",
              "</div>"
            ],
            "text/plain": [
              "     PRICE_PRO_AREA\n",
              "5          7.666556\n",
              "51         5.857933\n",
              "80         7.539534\n",
              "105        6.017440\n",
              "134        9.456084"
            ]
          },
          "metadata": {
            "tags": []
          },
          "execution_count": 199
        }
      ]
    },
    {
      "metadata": {
        "id": "udjYU2TaCClX",
        "colab_type": "code",
        "colab": {}
      },
      "cell_type": "code",
      "source": [
        "def input_fn(features, targets, batch_size=1, shuffle=True, num_epochs=None):\n",
        "    \"\"\"Trains a linear regression model of one feature.\n",
        "  \n",
        "    Args:\n",
        "      features: pandas DataFrame of features\n",
        "      targets: pandas DataFrame of targets\n",
        "      batch_size: Size of batches to be passed to the model\n",
        "      shuffle: True or False. Whether to shuffle the data.\n",
        "      num_epochs: Number of epochs for which data should be repeated. None = repeat indefinitely\n",
        "    Returns:\n",
        "      Tuple of (features, labels) for next data batch\n",
        "    \"\"\"\n",
        " \n",
        "    # Construct a dataset, and configure batching/repeating\n",
        "    features = {key:np.array(value) for key,value in dict(features).items()} \n",
        "  \n",
        "    ds = Dataset.from_tensor_slices((features, targets))\n",
        "    ds = ds.batch(batch_size).repeat(num_epochs)\n",
        "    \n",
        "    # Shuffle the data, if specified\n",
        "    if shuffle:\n",
        "      ds = ds.shuffle(buffer_size=10000)\n",
        "    \n",
        "    # Return the next batch of data\n",
        "    features, labels = ds.make_one_shot_iterator().get_next()\n",
        "    return features, labels"
      ],
      "execution_count": 0,
      "outputs": []
    },
    {
      "metadata": {
        "id": "XauzWrcNCh0J",
        "colab_type": "code",
        "colab": {}
      },
      "cell_type": "code",
      "source": [
        "train_input_fn = lambda: input_fn(x_train, y_train)"
      ],
      "execution_count": 0,
      "outputs": []
    },
    {
      "metadata": {
        "id": "MUKqyBqocZJ_",
        "colab_type": "code",
        "colab": {}
      },
      "cell_type": "code",
      "source": [
        "train_predict_input_fn = lambda: input_fn(x_train, y_train, num_epochs=1, shuffle=False)"
      ],
      "execution_count": 0,
      "outputs": []
    },
    {
      "metadata": {
        "id": "_QCb9zcOCf3A",
        "colab_type": "code",
        "colab": {}
      },
      "cell_type": "code",
      "source": [
        "eval_predict_input_fn = lambda: input_fn(x_eval, y_eval, num_epochs=1, shuffle=False)"
      ],
      "execution_count": 0,
      "outputs": []
    },
    {
      "metadata": {
        "id": "YXjdJK8zbfW5",
        "colab_type": "code",
        "colab": {}
      },
      "cell_type": "code",
      "source": [
        "test_predict_input_fun = lambda: input_fn(x_test, y_test, num_epochs=1, shuffle=False)"
      ],
      "execution_count": 0,
      "outputs": []
    },
    {
      "metadata": {
        "id": "O4Fyeywlz4dm",
        "colab_type": "code",
        "colab": {}
      },
      "cell_type": "code",
      "source": [
        "feature_cols = [\n",
        "  tf.feature_column.numeric_column(\"AREA_PRO_ROOM\"),\n",
        "  tf.feature_column.numeric_column(\"ROOM_PRO_AREA\") \n",
        "]"
      ],
      "execution_count": 0,
      "outputs": []
    },
    {
      "metadata": {
        "id": "MOZGWNtE7r56",
        "colab_type": "code",
        "colab": {}
      },
      "cell_type": "code",
      "source": [
        "train_optimizer = tf.train.GradientDescentOptimizer(learning_rate=LEARNING_RATE)\n",
        "train_optimizer = tf.contrib.estimator.clip_gradients_by_norm(train_optimizer, 5.0)"
      ],
      "execution_count": 0,
      "outputs": []
    },
    {
      "metadata": {
        "id": "wR1wAHC0b8R5",
        "colab_type": "code",
        "colab": {
          "base_uri": "https://localhost:8080/",
          "height": 88
        },
        "outputId": "e9d760f6-3f31-4198-e38f-742f4a136dc1"
      },
      "cell_type": "code",
      "source": [
        "model = tf.estimator.LinearRegressor(\n",
        "    feature_columns = feature_cols,\n",
        "    optimizer = train_optimizer\n",
        ")"
      ],
      "execution_count": 207,
      "outputs": [
        {
          "output_type": "stream",
          "text": [
            "INFO:tensorflow:Using default config.\n",
            "WARNING:tensorflow:Using temporary folder as model directory: /tmp/tmp8n4y8apg\n",
            "INFO:tensorflow:Using config: {'_model_dir': '/tmp/tmp8n4y8apg', '_tf_random_seed': None, '_save_summary_steps': 100, '_save_checkpoints_steps': None, '_save_checkpoints_secs': 600, '_session_config': None, '_keep_checkpoint_max': 5, '_keep_checkpoint_every_n_hours': 10000, '_log_step_count_steps': 100, '_train_distribute': None, '_device_fn': None, '_service': None, '_cluster_spec': <tensorflow.python.training.server_lib.ClusterSpec object at 0x7f4dda7a5518>, '_task_type': 'worker', '_task_id': 0, '_global_id_in_cluster': 0, '_master': '', '_evaluation_master': '', '_is_chief': True, '_num_ps_replicas': 0, '_num_worker_replicas': 1}\n"
          ],
          "name": "stdout"
        }
      ]
    },
    {
      "metadata": {
        "id": "xibCYiz3by1B",
        "colab_type": "code",
        "colab": {
          "base_uri": "https://localhost:8080/",
          "height": 25500
        },
        "outputId": "3f1f1d3d-0225-4d3c-9ba0-1c45b4ca9207"
      },
      "cell_type": "code",
      "source": [
        "for period in range(0, PERIODS):\n",
        "  model.train(input_fn=train_input_fn, steps=STEPS)\n",
        "  #train_predict = model.predict(input_fn=train_predict_input_fn)\n",
        "  #eval_predict = model.predict(input_fn=eval_predict_input_fn)\n",
        "  print(\"-\" * 100)\n",
        "  metrics_train = model.evaluate(steps=STEPS, input_fn=train_predict_input_fn)\n",
        "  metrics_eval = model.evaluate(steps=STEPS, input_fn=eval_predict_input_fn) \n",
        "  print(\"-\" * 100)\n",
        "  \n",
        "  #train_predict = np.array([item['predictions'][0] for item in train_predict])\n",
        "  #eval_predict = np.array([item['predictions'][0] for item in eval_predict])\n",
        "  \n",
        "  # Compute loss for train and evaluation\n",
        "  #train_rmse = math.sqrt(\n",
        "  #      sklearn.metrics.mean_squared_error(train_predict, y_train))\n",
        "  #eval_rmse = math.sqrt(\n",
        "  #      sklearn.metrics.mean_squared_error(eval_predict, y_eval))\n",
        "  train_rmse = np.sqrt(metrics_train['average_loss'])\n",
        "  eval_rmse = np.sqrt(metrics_eval['average_loss'])\n",
        "  \n",
        "  print(\"*\" * 100)\n",
        "  print(\"*Period[rmse training] %02d : %0.2f\" % (period, train_rmse))\n",
        "  print(\"*Period[rmse eval] %02d : %0.2f\" % (period, eval_rmse))  \n",
        "  print(\"*\" * 100)"
      ],
      "execution_count": 208,
      "outputs": [
        {
          "output_type": "stream",
          "text": [
            "INFO:tensorflow:Calling model_fn.\n",
            "INFO:tensorflow:Done calling model_fn.\n",
            "INFO:tensorflow:Create CheckpointSaverHook.\n",
            "INFO:tensorflow:Graph was finalized.\n",
            "INFO:tensorflow:Running local_init_op.\n",
            "INFO:tensorflow:Done running local_init_op.\n",
            "INFO:tensorflow:Saving checkpoints for 0 into /tmp/tmp8n4y8apg/model.ckpt.\n",
            "INFO:tensorflow:loss = 63.2881, step = 0\n",
            "INFO:tensorflow:global_step/sec: 334.58\n",
            "INFO:tensorflow:loss = 64.54947, step = 100 (0.304 sec)\n",
            "INFO:tensorflow:global_step/sec: 373.549\n",
            "INFO:tensorflow:loss = 63.373177, step = 200 (0.266 sec)\n",
            "INFO:tensorflow:global_step/sec: 401.539\n",
            "INFO:tensorflow:loss = 65.37683, step = 300 (0.249 sec)\n",
            "INFO:tensorflow:global_step/sec: 415.112\n",
            "INFO:tensorflow:loss = 72.34677, step = 400 (0.243 sec)\n",
            "INFO:tensorflow:global_step/sec: 415.545\n",
            "INFO:tensorflow:loss = 52.63026, step = 500 (0.237 sec)\n",
            "INFO:tensorflow:global_step/sec: 410.032\n",
            "INFO:tensorflow:loss = 45.648254, step = 600 (0.247 sec)\n",
            "INFO:tensorflow:global_step/sec: 377.552\n",
            "INFO:tensorflow:loss = 67.35968, step = 700 (0.265 sec)\n",
            "INFO:tensorflow:global_step/sec: 404.928\n",
            "INFO:tensorflow:loss = 54.02081, step = 800 (0.248 sec)\n",
            "INFO:tensorflow:global_step/sec: 409.426\n",
            "INFO:tensorflow:loss = 45.071926, step = 900 (0.244 sec)\n",
            "INFO:tensorflow:Saving checkpoints for 1000 into /tmp/tmp8n4y8apg/model.ckpt.\n",
            "INFO:tensorflow:Loss for final step: 49.147297.\n",
            "----------------------------------------------------------------------------------------------------\n",
            "INFO:tensorflow:Calling model_fn.\n",
            "INFO:tensorflow:Done calling model_fn.\n",
            "INFO:tensorflow:Starting evaluation at 2018-08-26-19:20:28\n",
            "INFO:tensorflow:Graph was finalized.\n",
            "INFO:tensorflow:Restoring parameters from /tmp/tmp8n4y8apg/model.ckpt-1000\n",
            "INFO:tensorflow:Running local_init_op.\n",
            "INFO:tensorflow:Done running local_init_op.\n",
            "INFO:tensorflow:Evaluation [100/1000]\n",
            "INFO:tensorflow:Evaluation [200/1000]\n",
            "INFO:tensorflow:Evaluation [300/1000]\n",
            "INFO:tensorflow:Evaluation [400/1000]\n",
            "INFO:tensorflow:Evaluation [500/1000]\n",
            "INFO:tensorflow:Evaluation [600/1000]\n",
            "INFO:tensorflow:Evaluation [700/1000]\n",
            "INFO:tensorflow:Evaluation [800/1000]\n",
            "INFO:tensorflow:Evaluation [900/1000]\n",
            "INFO:tensorflow:Evaluation [1000/1000]\n",
            "INFO:tensorflow:Finished evaluation at 2018-08-26-19:20:31\n",
            "INFO:tensorflow:Saving dict for global step 1000: average_loss = 56.445686, global_step = 1000, label/mean = 7.501382, loss = 56.445686, prediction/mean = 0.024920488\n",
            "INFO:tensorflow:Saving 'checkpoint_path' summary for global step 1000: /tmp/tmp8n4y8apg/model.ckpt-1000\n",
            "INFO:tensorflow:Calling model_fn.\n",
            "INFO:tensorflow:Done calling model_fn.\n",
            "INFO:tensorflow:Starting evaluation at 2018-08-26-19:20:31\n",
            "INFO:tensorflow:Graph was finalized.\n",
            "INFO:tensorflow:Restoring parameters from /tmp/tmp8n4y8apg/model.ckpt-1000\n",
            "INFO:tensorflow:Running local_init_op.\n",
            "INFO:tensorflow:Done running local_init_op.\n",
            "INFO:tensorflow:Evaluation [100/1000]\n",
            "INFO:tensorflow:Evaluation [200/1000]\n",
            "INFO:tensorflow:Evaluation [300/1000]\n",
            "INFO:tensorflow:Evaluation [400/1000]\n",
            "INFO:tensorflow:Evaluation [500/1000]\n",
            "INFO:tensorflow:Evaluation [600/1000]\n",
            "INFO:tensorflow:Evaluation [700/1000]\n",
            "INFO:tensorflow:Evaluation [800/1000]\n",
            "INFO:tensorflow:Evaluation [900/1000]\n",
            "INFO:tensorflow:Evaluation [1000/1000]\n",
            "INFO:tensorflow:Finished evaluation at 2018-08-26-19:20:34\n",
            "INFO:tensorflow:Saving dict for global step 1000: average_loss = 57.040775, global_step = 1000, label/mean = 7.542691, loss = 57.040775, prediction/mean = 0.024837203\n",
            "INFO:tensorflow:Saving 'checkpoint_path' summary for global step 1000: /tmp/tmp8n4y8apg/model.ckpt-1000\n",
            "----------------------------------------------------------------------------------------------------\n",
            "****************************************************************************************************\n",
            "*Period[rmse training] 00 : 7.51\n",
            "*Period[rmse eval] 00 : 7.55\n",
            "****************************************************************************************************\n",
            "INFO:tensorflow:Calling model_fn.\n",
            "INFO:tensorflow:Done calling model_fn.\n",
            "INFO:tensorflow:Create CheckpointSaverHook.\n",
            "INFO:tensorflow:Graph was finalized.\n",
            "INFO:tensorflow:Restoring parameters from /tmp/tmp8n4y8apg/model.ckpt-1000\n",
            "INFO:tensorflow:Running local_init_op.\n",
            "INFO:tensorflow:Done running local_init_op.\n",
            "INFO:tensorflow:Saving checkpoints for 1000 into /tmp/tmp8n4y8apg/model.ckpt.\n",
            "INFO:tensorflow:loss = 64.28534, step = 1000\n",
            "INFO:tensorflow:global_step/sec: 340.271\n",
            "INFO:tensorflow:loss = 61.99877, step = 1100 (0.298 sec)\n",
            "INFO:tensorflow:global_step/sec: 367.174\n",
            "INFO:tensorflow:loss = 53.185577, step = 1200 (0.273 sec)\n",
            "INFO:tensorflow:global_step/sec: 408.755\n",
            "INFO:tensorflow:loss = 55.108383, step = 1300 (0.247 sec)\n",
            "INFO:tensorflow:global_step/sec: 407.296\n",
            "INFO:tensorflow:loss = 49.88787, step = 1400 (0.244 sec)\n",
            "INFO:tensorflow:global_step/sec: 393.937\n",
            "INFO:tensorflow:loss = 48.438263, step = 1500 (0.250 sec)\n",
            "INFO:tensorflow:global_step/sec: 407.552\n",
            "INFO:tensorflow:loss = 58.8211, step = 1600 (0.248 sec)\n",
            "INFO:tensorflow:global_step/sec: 381.227\n",
            "INFO:tensorflow:loss = 53.19394, step = 1700 (0.260 sec)\n",
            "INFO:tensorflow:global_step/sec: 420.504\n",
            "INFO:tensorflow:loss = 47.449577, step = 1800 (0.240 sec)\n",
            "INFO:tensorflow:global_step/sec: 412.55\n",
            "INFO:tensorflow:loss = 56.454483, step = 1900 (0.240 sec)\n",
            "INFO:tensorflow:Saving checkpoints for 2000 into /tmp/tmp8n4y8apg/model.ckpt.\n",
            "INFO:tensorflow:Loss for final step: 43.89124.\n",
            "----------------------------------------------------------------------------------------------------\n",
            "INFO:tensorflow:Calling model_fn.\n",
            "INFO:tensorflow:Done calling model_fn.\n",
            "INFO:tensorflow:Starting evaluation at 2018-08-26-19:20:39\n",
            "INFO:tensorflow:Graph was finalized.\n",
            "INFO:tensorflow:Restoring parameters from /tmp/tmp8n4y8apg/model.ckpt-2000\n",
            "INFO:tensorflow:Running local_init_op.\n",
            "INFO:tensorflow:Done running local_init_op.\n",
            "INFO:tensorflow:Evaluation [100/1000]\n",
            "INFO:tensorflow:Evaluation [200/1000]\n",
            "INFO:tensorflow:Evaluation [300/1000]\n",
            "INFO:tensorflow:Evaluation [400/1000]\n",
            "INFO:tensorflow:Evaluation [500/1000]\n",
            "INFO:tensorflow:Evaluation [600/1000]\n",
            "INFO:tensorflow:Evaluation [700/1000]\n",
            "INFO:tensorflow:Evaluation [800/1000]\n",
            "INFO:tensorflow:Evaluation [900/1000]\n",
            "INFO:tensorflow:Evaluation [1000/1000]\n",
            "INFO:tensorflow:Finished evaluation at 2018-08-26-19:20:41\n",
            "INFO:tensorflow:Saving dict for global step 2000: average_loss = 56.073433, global_step = 2000, label/mean = 7.501382, loss = 56.073433, prediction/mean = 0.04984058\n",
            "INFO:tensorflow:Saving 'checkpoint_path' summary for global step 2000: /tmp/tmp8n4y8apg/model.ckpt-2000\n",
            "INFO:tensorflow:Calling model_fn.\n",
            "INFO:tensorflow:Done calling model_fn.\n",
            "INFO:tensorflow:Starting evaluation at 2018-08-26-19:20:41\n",
            "INFO:tensorflow:Graph was finalized.\n",
            "INFO:tensorflow:Restoring parameters from /tmp/tmp8n4y8apg/model.ckpt-2000\n",
            "INFO:tensorflow:Running local_init_op.\n",
            "INFO:tensorflow:Done running local_init_op.\n",
            "INFO:tensorflow:Evaluation [100/1000]\n",
            "INFO:tensorflow:Evaluation [200/1000]\n",
            "INFO:tensorflow:Evaluation [300/1000]\n",
            "INFO:tensorflow:Evaluation [400/1000]\n",
            "INFO:tensorflow:Evaluation [500/1000]\n",
            "INFO:tensorflow:Evaluation [600/1000]\n",
            "INFO:tensorflow:Evaluation [700/1000]\n",
            "INFO:tensorflow:Evaluation [800/1000]\n",
            "INFO:tensorflow:Evaluation [900/1000]\n",
            "INFO:tensorflow:Evaluation [1000/1000]\n",
            "INFO:tensorflow:Finished evaluation at 2018-08-26-19:20:44\n",
            "INFO:tensorflow:Saving dict for global step 2000: average_loss = 56.668056, global_step = 2000, label/mean = 7.542691, loss = 56.668056, prediction/mean = 0.04967399\n",
            "INFO:tensorflow:Saving 'checkpoint_path' summary for global step 2000: /tmp/tmp8n4y8apg/model.ckpt-2000\n",
            "----------------------------------------------------------------------------------------------------\n",
            "****************************************************************************************************\n",
            "*Period[rmse training] 01 : 7.49\n",
            "*Period[rmse eval] 01 : 7.53\n",
            "****************************************************************************************************\n",
            "INFO:tensorflow:Calling model_fn.\n",
            "INFO:tensorflow:Done calling model_fn.\n",
            "INFO:tensorflow:Create CheckpointSaverHook.\n",
            "INFO:tensorflow:Graph was finalized.\n",
            "INFO:tensorflow:Restoring parameters from /tmp/tmp8n4y8apg/model.ckpt-2000\n",
            "INFO:tensorflow:Running local_init_op.\n",
            "INFO:tensorflow:Done running local_init_op.\n",
            "INFO:tensorflow:Saving checkpoints for 2000 into /tmp/tmp8n4y8apg/model.ckpt.\n",
            "INFO:tensorflow:loss = 74.76448, step = 2000\n",
            "INFO:tensorflow:global_step/sec: 339.461\n",
            "INFO:tensorflow:loss = 64.913795, step = 2100 (0.299 sec)\n",
            "INFO:tensorflow:global_step/sec: 409.747\n",
            "INFO:tensorflow:loss = 46.92042, step = 2200 (0.243 sec)\n",
            "INFO:tensorflow:global_step/sec: 367.874\n",
            "INFO:tensorflow:loss = 56.949566, step = 2300 (0.273 sec)\n",
            "INFO:tensorflow:global_step/sec: 403.022\n",
            "INFO:tensorflow:loss = 53.708553, step = 2400 (0.248 sec)\n",
            "INFO:tensorflow:global_step/sec: 409.349\n",
            "INFO:tensorflow:loss = 52.72765, step = 2500 (0.242 sec)\n",
            "INFO:tensorflow:global_step/sec: 410.077\n",
            "INFO:tensorflow:loss = 57.950092, step = 2600 (0.247 sec)\n",
            "INFO:tensorflow:global_step/sec: 406.916\n",
            "INFO:tensorflow:loss = 63.59761, step = 2700 (0.243 sec)\n",
            "INFO:tensorflow:global_step/sec: 381.264\n",
            "INFO:tensorflow:loss = 40.978302, step = 2800 (0.264 sec)\n",
            "INFO:tensorflow:global_step/sec: 412.379\n",
            "INFO:tensorflow:loss = 40.718056, step = 2900 (0.243 sec)\n",
            "INFO:tensorflow:Saving checkpoints for 3000 into /tmp/tmp8n4y8apg/model.ckpt.\n",
            "INFO:tensorflow:Loss for final step: 53.49457.\n",
            "----------------------------------------------------------------------------------------------------\n",
            "INFO:tensorflow:Calling model_fn.\n",
            "INFO:tensorflow:Done calling model_fn.\n",
            "INFO:tensorflow:Starting evaluation at 2018-08-26-19:20:48\n",
            "INFO:tensorflow:Graph was finalized.\n",
            "INFO:tensorflow:Restoring parameters from /tmp/tmp8n4y8apg/model.ckpt-3000\n",
            "INFO:tensorflow:Running local_init_op.\n",
            "INFO:tensorflow:Done running local_init_op.\n",
            "INFO:tensorflow:Evaluation [100/1000]\n",
            "INFO:tensorflow:Evaluation [200/1000]\n",
            "INFO:tensorflow:Evaluation [300/1000]\n",
            "INFO:tensorflow:Evaluation [400/1000]\n",
            "INFO:tensorflow:Evaluation [500/1000]\n",
            "INFO:tensorflow:Evaluation [600/1000]\n",
            "INFO:tensorflow:Evaluation [700/1000]\n",
            "INFO:tensorflow:Evaluation [800/1000]\n",
            "INFO:tensorflow:Evaluation [900/1000]\n",
            "INFO:tensorflow:Evaluation [1000/1000]\n",
            "INFO:tensorflow:Finished evaluation at 2018-08-26-19:20:51\n",
            "INFO:tensorflow:Saving dict for global step 3000: average_loss = 55.702423, global_step = 3000, label/mean = 7.501382, loss = 55.702423, prediction/mean = 0.07476065\n",
            "INFO:tensorflow:Saving 'checkpoint_path' summary for global step 3000: /tmp/tmp8n4y8apg/model.ckpt-3000\n",
            "INFO:tensorflow:Calling model_fn.\n",
            "INFO:tensorflow:Done calling model_fn.\n",
            "INFO:tensorflow:Starting evaluation at 2018-08-26-19:20:52\n",
            "INFO:tensorflow:Graph was finalized.\n",
            "INFO:tensorflow:Restoring parameters from /tmp/tmp8n4y8apg/model.ckpt-3000\n",
            "INFO:tensorflow:Running local_init_op.\n",
            "INFO:tensorflow:Done running local_init_op.\n",
            "INFO:tensorflow:Evaluation [100/1000]\n",
            "INFO:tensorflow:Evaluation [200/1000]\n",
            "INFO:tensorflow:Evaluation [300/1000]\n",
            "INFO:tensorflow:Evaluation [400/1000]\n",
            "INFO:tensorflow:Evaluation [500/1000]\n",
            "INFO:tensorflow:Evaluation [600/1000]\n",
            "INFO:tensorflow:Evaluation [700/1000]\n",
            "INFO:tensorflow:Evaluation [800/1000]\n",
            "INFO:tensorflow:Evaluation [900/1000]\n",
            "INFO:tensorflow:Evaluation [1000/1000]\n",
            "INFO:tensorflow:Finished evaluation at 2018-08-26-19:20:54\n",
            "INFO:tensorflow:Saving dict for global step 3000: average_loss = 56.296688, global_step = 3000, label/mean = 7.542691, loss = 56.296688, prediction/mean = 0.07451081\n",
            "INFO:tensorflow:Saving 'checkpoint_path' summary for global step 3000: /tmp/tmp8n4y8apg/model.ckpt-3000\n",
            "----------------------------------------------------------------------------------------------------\n",
            "****************************************************************************************************\n",
            "*Period[rmse training] 02 : 7.46\n",
            "*Period[rmse eval] 02 : 7.50\n",
            "****************************************************************************************************\n",
            "INFO:tensorflow:Calling model_fn.\n",
            "INFO:tensorflow:Done calling model_fn.\n",
            "INFO:tensorflow:Create CheckpointSaverHook.\n",
            "INFO:tensorflow:Graph was finalized.\n",
            "INFO:tensorflow:Restoring parameters from /tmp/tmp8n4y8apg/model.ckpt-3000\n",
            "INFO:tensorflow:Running local_init_op.\n",
            "INFO:tensorflow:Done running local_init_op.\n",
            "INFO:tensorflow:Saving checkpoints for 3000 into /tmp/tmp8n4y8apg/model.ckpt.\n",
            "INFO:tensorflow:loss = 47.48503, step = 3000\n",
            "INFO:tensorflow:global_step/sec: 348.193\n",
            "INFO:tensorflow:loss = 36.642788, step = 3100 (0.290 sec)\n",
            "INFO:tensorflow:global_step/sec: 356.822\n",
            "INFO:tensorflow:loss = 41.75775, step = 3200 (0.282 sec)\n",
            "INFO:tensorflow:global_step/sec: 413.174\n",
            "INFO:tensorflow:loss = 58.74473, step = 3300 (0.242 sec)\n",
            "INFO:tensorflow:global_step/sec: 420.676\n",
            "INFO:tensorflow:loss = 69.562744, step = 3400 (0.237 sec)\n",
            "INFO:tensorflow:global_step/sec: 407.971\n",
            "INFO:tensorflow:loss = 66.01936, step = 3500 (0.243 sec)\n",
            "INFO:tensorflow:global_step/sec: 416.535\n",
            "INFO:tensorflow:loss = 49.454506, step = 3600 (0.242 sec)\n",
            "INFO:tensorflow:global_step/sec: 384.13\n",
            "INFO:tensorflow:loss = 45.291206, step = 3700 (0.258 sec)\n",
            "INFO:tensorflow:global_step/sec: 419.092\n",
            "INFO:tensorflow:loss = 30.33298, step = 3800 (0.238 sec)\n",
            "INFO:tensorflow:global_step/sec: 413.272\n",
            "INFO:tensorflow:loss = 54.70838, step = 3900 (0.246 sec)\n",
            "INFO:tensorflow:Saving checkpoints for 4000 into /tmp/tmp8n4y8apg/model.ckpt.\n",
            "INFO:tensorflow:Loss for final step: 32.938007.\n",
            "----------------------------------------------------------------------------------------------------\n",
            "INFO:tensorflow:Calling model_fn.\n",
            "INFO:tensorflow:Done calling model_fn.\n",
            "INFO:tensorflow:Starting evaluation at 2018-08-26-19:20:59\n",
            "INFO:tensorflow:Graph was finalized.\n",
            "INFO:tensorflow:Restoring parameters from /tmp/tmp8n4y8apg/model.ckpt-4000\n",
            "INFO:tensorflow:Running local_init_op.\n",
            "INFO:tensorflow:Done running local_init_op.\n",
            "INFO:tensorflow:Evaluation [100/1000]\n",
            "INFO:tensorflow:Evaluation [200/1000]\n",
            "INFO:tensorflow:Evaluation [300/1000]\n",
            "INFO:tensorflow:Evaluation [400/1000]\n",
            "INFO:tensorflow:Evaluation [500/1000]\n",
            "INFO:tensorflow:Evaluation [600/1000]\n",
            "INFO:tensorflow:Evaluation [700/1000]\n",
            "INFO:tensorflow:Evaluation [800/1000]\n",
            "INFO:tensorflow:Evaluation [900/1000]\n",
            "INFO:tensorflow:Evaluation [1000/1000]\n",
            "INFO:tensorflow:Finished evaluation at 2018-08-26-19:21:01\n",
            "INFO:tensorflow:Saving dict for global step 4000: average_loss = 55.332695, global_step = 4000, label/mean = 7.501382, loss = 55.332695, prediction/mean = 0.09968136\n",
            "INFO:tensorflow:Saving 'checkpoint_path' summary for global step 4000: /tmp/tmp8n4y8apg/model.ckpt-4000\n",
            "INFO:tensorflow:Calling model_fn.\n",
            "INFO:tensorflow:Done calling model_fn.\n",
            "INFO:tensorflow:Starting evaluation at 2018-08-26-19:21:01\n",
            "INFO:tensorflow:Graph was finalized.\n",
            "INFO:tensorflow:Restoring parameters from /tmp/tmp8n4y8apg/model.ckpt-4000\n",
            "INFO:tensorflow:Running local_init_op.\n",
            "INFO:tensorflow:Done running local_init_op.\n",
            "INFO:tensorflow:Evaluation [100/1000]\n",
            "INFO:tensorflow:Evaluation [200/1000]\n",
            "INFO:tensorflow:Evaluation [300/1000]\n",
            "INFO:tensorflow:Evaluation [400/1000]\n",
            "INFO:tensorflow:Evaluation [500/1000]\n",
            "INFO:tensorflow:Evaluation [600/1000]\n",
            "INFO:tensorflow:Evaluation [700/1000]\n",
            "INFO:tensorflow:Evaluation [800/1000]\n",
            "INFO:tensorflow:Evaluation [900/1000]\n",
            "INFO:tensorflow:Evaluation [1000/1000]\n",
            "INFO:tensorflow:Finished evaluation at 2018-08-26-19:21:04\n",
            "INFO:tensorflow:Saving dict for global step 4000: average_loss = 55.92647, global_step = 4000, label/mean = 7.542691, loss = 55.92647, prediction/mean = 0.0993482\n",
            "INFO:tensorflow:Saving 'checkpoint_path' summary for global step 4000: /tmp/tmp8n4y8apg/model.ckpt-4000\n",
            "----------------------------------------------------------------------------------------------------\n",
            "****************************************************************************************************\n",
            "*Period[rmse training] 03 : 7.44\n",
            "*Period[rmse eval] 03 : 7.48\n",
            "****************************************************************************************************\n",
            "INFO:tensorflow:Calling model_fn.\n",
            "INFO:tensorflow:Done calling model_fn.\n",
            "INFO:tensorflow:Create CheckpointSaverHook.\n",
            "INFO:tensorflow:Graph was finalized.\n",
            "INFO:tensorflow:Restoring parameters from /tmp/tmp8n4y8apg/model.ckpt-4000\n",
            "INFO:tensorflow:Running local_init_op.\n",
            "INFO:tensorflow:Done running local_init_op.\n",
            "INFO:tensorflow:Saving checkpoints for 4000 into /tmp/tmp8n4y8apg/model.ckpt.\n",
            "INFO:tensorflow:loss = 43.78909, step = 4000\n",
            "INFO:tensorflow:global_step/sec: 330.091\n",
            "INFO:tensorflow:loss = 58.38063, step = 4100 (0.308 sec)\n",
            "INFO:tensorflow:global_step/sec: 409.497\n",
            "INFO:tensorflow:loss = 48.877617, step = 4200 (0.242 sec)\n",
            "INFO:tensorflow:global_step/sec: 369.652\n",
            "INFO:tensorflow:loss = 60.969116, step = 4300 (0.271 sec)\n",
            "INFO:tensorflow:global_step/sec: 409.931\n",
            "INFO:tensorflow:loss = 35.13405, step = 4400 (0.243 sec)\n",
            "INFO:tensorflow:global_step/sec: 400.15\n",
            "INFO:tensorflow:loss = 42.99652, step = 4500 (0.253 sec)\n",
            "INFO:tensorflow:global_step/sec: 421.341\n",
            "INFO:tensorflow:loss = 35.581898, step = 4600 (0.237 sec)\n",
            "INFO:tensorflow:global_step/sec: 411.222\n",
            "INFO:tensorflow:loss = 70.644356, step = 4700 (0.240 sec)\n",
            "INFO:tensorflow:global_step/sec: 381.903\n",
            "INFO:tensorflow:loss = 58.552513, step = 4800 (0.265 sec)\n",
            "INFO:tensorflow:global_step/sec: 412.524\n",
            "INFO:tensorflow:loss = 64.1662, step = 4900 (0.243 sec)\n",
            "INFO:tensorflow:Saving checkpoints for 5000 into /tmp/tmp8n4y8apg/model.ckpt.\n",
            "INFO:tensorflow:Loss for final step: 65.53399.\n",
            "----------------------------------------------------------------------------------------------------\n",
            "INFO:tensorflow:Calling model_fn.\n",
            "INFO:tensorflow:Done calling model_fn.\n",
            "INFO:tensorflow:Starting evaluation at 2018-08-26-19:21:08\n",
            "INFO:tensorflow:Graph was finalized.\n",
            "INFO:tensorflow:Restoring parameters from /tmp/tmp8n4y8apg/model.ckpt-5000\n",
            "INFO:tensorflow:Running local_init_op.\n",
            "INFO:tensorflow:Done running local_init_op.\n",
            "INFO:tensorflow:Evaluation [100/1000]\n",
            "INFO:tensorflow:Evaluation [200/1000]\n",
            "INFO:tensorflow:Evaluation [300/1000]\n",
            "INFO:tensorflow:Evaluation [400/1000]\n",
            "INFO:tensorflow:Evaluation [500/1000]\n",
            "INFO:tensorflow:Evaluation [600/1000]\n",
            "INFO:tensorflow:Evaluation [700/1000]\n",
            "INFO:tensorflow:Evaluation [800/1000]\n",
            "INFO:tensorflow:Evaluation [900/1000]\n",
            "INFO:tensorflow:Evaluation [1000/1000]\n",
            "INFO:tensorflow:Finished evaluation at 2018-08-26-19:21:11\n",
            "INFO:tensorflow:Saving dict for global step 5000: average_loss = 54.964165, global_step = 5000, label/mean = 7.501382, loss = 54.964165, prediction/mean = 0.1246012\n",
            "INFO:tensorflow:Saving 'checkpoint_path' summary for global step 5000: /tmp/tmp8n4y8apg/model.ckpt-5000\n",
            "INFO:tensorflow:Calling model_fn.\n",
            "INFO:tensorflow:Done calling model_fn.\n",
            "INFO:tensorflow:Starting evaluation at 2018-08-26-19:21:11\n",
            "INFO:tensorflow:Graph was finalized.\n",
            "INFO:tensorflow:Restoring parameters from /tmp/tmp8n4y8apg/model.ckpt-5000\n",
            "INFO:tensorflow:Running local_init_op.\n",
            "INFO:tensorflow:Done running local_init_op.\n",
            "INFO:tensorflow:Evaluation [100/1000]\n",
            "INFO:tensorflow:Evaluation [200/1000]\n",
            "INFO:tensorflow:Evaluation [300/1000]\n",
            "INFO:tensorflow:Evaluation [400/1000]\n",
            "INFO:tensorflow:Evaluation [500/1000]\n",
            "INFO:tensorflow:Evaluation [600/1000]\n",
            "INFO:tensorflow:Evaluation [700/1000]\n",
            "INFO:tensorflow:Evaluation [800/1000]\n",
            "INFO:tensorflow:Evaluation [900/1000]\n",
            "INFO:tensorflow:Evaluation [1000/1000]\n",
            "INFO:tensorflow:Finished evaluation at 2018-08-26-19:21:14\n",
            "INFO:tensorflow:Saving dict for global step 5000: average_loss = 55.557545, global_step = 5000, label/mean = 7.542691, loss = 55.557545, prediction/mean = 0.12418478\n",
            "INFO:tensorflow:Saving 'checkpoint_path' summary for global step 5000: /tmp/tmp8n4y8apg/model.ckpt-5000\n",
            "----------------------------------------------------------------------------------------------------\n",
            "****************************************************************************************************\n",
            "*Period[rmse training] 04 : 7.41\n",
            "*Period[rmse eval] 04 : 7.45\n",
            "****************************************************************************************************\n",
            "INFO:tensorflow:Calling model_fn.\n",
            "INFO:tensorflow:Done calling model_fn.\n",
            "INFO:tensorflow:Create CheckpointSaverHook.\n",
            "INFO:tensorflow:Graph was finalized.\n",
            "INFO:tensorflow:Restoring parameters from /tmp/tmp8n4y8apg/model.ckpt-5000\n",
            "INFO:tensorflow:Running local_init_op.\n",
            "INFO:tensorflow:Done running local_init_op.\n",
            "INFO:tensorflow:Saving checkpoints for 5000 into /tmp/tmp8n4y8apg/model.ckpt.\n",
            "INFO:tensorflow:loss = 57.797375, step = 5000\n",
            "INFO:tensorflow:global_step/sec: 354.158\n",
            "INFO:tensorflow:loss = 64.92034, step = 5100 (0.288 sec)\n",
            "INFO:tensorflow:global_step/sec: 370.202\n",
            "INFO:tensorflow:loss = 61.311783, step = 5200 (0.266 sec)\n",
            "INFO:tensorflow:global_step/sec: 416.045\n",
            "INFO:tensorflow:loss = 58.362423, step = 5300 (0.243 sec)\n",
            "INFO:tensorflow:global_step/sec: 417.46\n",
            "INFO:tensorflow:loss = 50.198704, step = 5400 (0.241 sec)\n",
            "INFO:tensorflow:global_step/sec: 420.237\n",
            "INFO:tensorflow:loss = 55.82168, step = 5500 (0.235 sec)\n",
            "INFO:tensorflow:global_step/sec: 417.377\n",
            "INFO:tensorflow:loss = 50.34514, step = 5600 (0.243 sec)\n",
            "INFO:tensorflow:global_step/sec: 380.286\n",
            "INFO:tensorflow:loss = 51.094788, step = 5700 (0.260 sec)\n",
            "INFO:tensorflow:global_step/sec: 415.916\n",
            "INFO:tensorflow:loss = 46.882698, step = 5800 (0.240 sec)\n",
            "INFO:tensorflow:global_step/sec: 423.644\n",
            "INFO:tensorflow:loss = 50.54786, step = 5900 (0.237 sec)\n",
            "INFO:tensorflow:Saving checkpoints for 6000 into /tmp/tmp8n4y8apg/model.ckpt.\n",
            "INFO:tensorflow:Loss for final step: 35.522335.\n",
            "----------------------------------------------------------------------------------------------------\n",
            "INFO:tensorflow:Calling model_fn.\n",
            "INFO:tensorflow:Done calling model_fn.\n",
            "INFO:tensorflow:Starting evaluation at 2018-08-26-19:21:18\n",
            "INFO:tensorflow:Graph was finalized.\n",
            "INFO:tensorflow:Restoring parameters from /tmp/tmp8n4y8apg/model.ckpt-6000\n",
            "INFO:tensorflow:Running local_init_op.\n",
            "INFO:tensorflow:Done running local_init_op.\n",
            "INFO:tensorflow:Evaluation [100/1000]\n",
            "INFO:tensorflow:Evaluation [200/1000]\n",
            "INFO:tensorflow:Evaluation [300/1000]\n",
            "INFO:tensorflow:Evaluation [400/1000]\n",
            "INFO:tensorflow:Evaluation [500/1000]\n",
            "INFO:tensorflow:Evaluation [600/1000]\n",
            "INFO:tensorflow:Evaluation [700/1000]\n",
            "INFO:tensorflow:Evaluation [800/1000]\n",
            "INFO:tensorflow:Evaluation [900/1000]\n",
            "INFO:tensorflow:Evaluation [1000/1000]\n",
            "INFO:tensorflow:Finished evaluation at 2018-08-26-19:21:21\n",
            "INFO:tensorflow:Saving dict for global step 6000: average_loss = 54.5969, global_step = 6000, label/mean = 7.501382, loss = 54.5969, prediction/mean = 0.14952038\n",
            "INFO:tensorflow:Saving 'checkpoint_path' summary for global step 6000: /tmp/tmp8n4y8apg/model.ckpt-6000\n",
            "INFO:tensorflow:Calling model_fn.\n",
            "INFO:tensorflow:Done calling model_fn.\n",
            "INFO:tensorflow:Starting evaluation at 2018-08-26-19:21:21\n",
            "INFO:tensorflow:Graph was finalized.\n",
            "INFO:tensorflow:Restoring parameters from /tmp/tmp8n4y8apg/model.ckpt-6000\n",
            "INFO:tensorflow:Running local_init_op.\n",
            "INFO:tensorflow:Done running local_init_op.\n",
            "INFO:tensorflow:Evaluation [100/1000]\n",
            "INFO:tensorflow:Evaluation [200/1000]\n",
            "INFO:tensorflow:Evaluation [300/1000]\n",
            "INFO:tensorflow:Evaluation [400/1000]\n",
            "INFO:tensorflow:Evaluation [500/1000]\n",
            "INFO:tensorflow:Evaluation [600/1000]\n",
            "INFO:tensorflow:Evaluation [700/1000]\n",
            "INFO:tensorflow:Evaluation [800/1000]\n",
            "INFO:tensorflow:Evaluation [900/1000]\n",
            "INFO:tensorflow:Evaluation [1000/1000]\n",
            "INFO:tensorflow:Finished evaluation at 2018-08-26-19:21:24\n",
            "INFO:tensorflow:Saving dict for global step 6000: average_loss = 55.189926, global_step = 6000, label/mean = 7.542691, loss = 55.189926, prediction/mean = 0.14902048\n",
            "INFO:tensorflow:Saving 'checkpoint_path' summary for global step 6000: /tmp/tmp8n4y8apg/model.ckpt-6000\n",
            "----------------------------------------------------------------------------------------------------\n",
            "****************************************************************************************************\n",
            "*Period[rmse training] 05 : 7.39\n",
            "*Period[rmse eval] 05 : 7.43\n",
            "****************************************************************************************************\n",
            "INFO:tensorflow:Calling model_fn.\n",
            "INFO:tensorflow:Done calling model_fn.\n",
            "INFO:tensorflow:Create CheckpointSaverHook.\n",
            "INFO:tensorflow:Graph was finalized.\n",
            "INFO:tensorflow:Restoring parameters from /tmp/tmp8n4y8apg/model.ckpt-6000\n",
            "INFO:tensorflow:Running local_init_op.\n",
            "INFO:tensorflow:Done running local_init_op.\n",
            "INFO:tensorflow:Saving checkpoints for 6000 into /tmp/tmp8n4y8apg/model.ckpt.\n",
            "INFO:tensorflow:loss = 56.539013, step = 6000\n",
            "INFO:tensorflow:global_step/sec: 344.775\n",
            "INFO:tensorflow:loss = 57.72956, step = 6100 (0.295 sec)\n",
            "INFO:tensorflow:global_step/sec: 409.136\n",
            "INFO:tensorflow:loss = 52.822834, step = 6200 (0.243 sec)\n",
            "INFO:tensorflow:global_step/sec: 419.224\n",
            "INFO:tensorflow:loss = 37.78036, step = 6300 (0.240 sec)\n",
            "INFO:tensorflow:global_step/sec: 381.662\n",
            "INFO:tensorflow:loss = 57.437794, step = 6400 (0.263 sec)\n",
            "INFO:tensorflow:global_step/sec: 391.697\n",
            "INFO:tensorflow:loss = 51.773235, step = 6500 (0.255 sec)\n",
            "INFO:tensorflow:global_step/sec: 413.5\n",
            "INFO:tensorflow:loss = 55.151165, step = 6600 (0.242 sec)\n",
            "INFO:tensorflow:global_step/sec: 411.726\n",
            "INFO:tensorflow:loss = 52.616493, step = 6700 (0.243 sec)\n",
            "INFO:tensorflow:global_step/sec: 418.431\n",
            "INFO:tensorflow:loss = 64.25923, step = 6800 (0.238 sec)\n",
            "INFO:tensorflow:global_step/sec: 382.763\n",
            "INFO:tensorflow:loss = 62.870106, step = 6900 (0.262 sec)\n",
            "INFO:tensorflow:Saving checkpoints for 7000 into /tmp/tmp8n4y8apg/model.ckpt.\n",
            "INFO:tensorflow:Loss for final step: 42.030178.\n",
            "----------------------------------------------------------------------------------------------------\n",
            "INFO:tensorflow:Calling model_fn.\n",
            "INFO:tensorflow:Done calling model_fn.\n",
            "INFO:tensorflow:Starting evaluation at 2018-08-26-19:21:28\n",
            "INFO:tensorflow:Graph was finalized.\n",
            "INFO:tensorflow:Restoring parameters from /tmp/tmp8n4y8apg/model.ckpt-7000\n",
            "INFO:tensorflow:Running local_init_op.\n",
            "INFO:tensorflow:Done running local_init_op.\n",
            "INFO:tensorflow:Evaluation [100/1000]\n",
            "INFO:tensorflow:Evaluation [200/1000]\n",
            "INFO:tensorflow:Evaluation [300/1000]\n",
            "INFO:tensorflow:Evaluation [400/1000]\n",
            "INFO:tensorflow:Evaluation [500/1000]\n",
            "INFO:tensorflow:Evaluation [600/1000]\n",
            "INFO:tensorflow:Evaluation [700/1000]\n",
            "INFO:tensorflow:Evaluation [800/1000]\n",
            "INFO:tensorflow:Evaluation [900/1000]\n",
            "INFO:tensorflow:Evaluation [1000/1000]\n",
            "INFO:tensorflow:Finished evaluation at 2018-08-26-19:21:31\n",
            "INFO:tensorflow:Saving dict for global step 7000: average_loss = 54.23086, global_step = 7000, label/mean = 7.501382, loss = 54.23086, prediction/mean = 0.17444\n",
            "INFO:tensorflow:Saving 'checkpoint_path' summary for global step 7000: /tmp/tmp8n4y8apg/model.ckpt-7000\n",
            "INFO:tensorflow:Calling model_fn.\n",
            "INFO:tensorflow:Done calling model_fn.\n",
            "INFO:tensorflow:Starting evaluation at 2018-08-26-19:21:31\n",
            "INFO:tensorflow:Graph was finalized.\n",
            "INFO:tensorflow:Restoring parameters from /tmp/tmp8n4y8apg/model.ckpt-7000\n",
            "INFO:tensorflow:Running local_init_op.\n",
            "INFO:tensorflow:Done running local_init_op.\n",
            "INFO:tensorflow:Evaluation [100/1000]\n",
            "INFO:tensorflow:Evaluation [200/1000]\n",
            "INFO:tensorflow:Evaluation [300/1000]\n",
            "INFO:tensorflow:Evaluation [400/1000]\n",
            "INFO:tensorflow:Evaluation [500/1000]\n",
            "INFO:tensorflow:Evaluation [600/1000]\n",
            "INFO:tensorflow:Evaluation [700/1000]\n",
            "INFO:tensorflow:Evaluation [800/1000]\n",
            "INFO:tensorflow:Evaluation [900/1000]\n",
            "INFO:tensorflow:Evaluation [1000/1000]\n",
            "INFO:tensorflow:Finished evaluation at 2018-08-26-19:21:33\n",
            "INFO:tensorflow:Saving dict for global step 7000: average_loss = 54.82351, global_step = 7000, label/mean = 7.542691, loss = 54.82351, prediction/mean = 0.17385693\n",
            "INFO:tensorflow:Saving 'checkpoint_path' summary for global step 7000: /tmp/tmp8n4y8apg/model.ckpt-7000\n",
            "----------------------------------------------------------------------------------------------------\n",
            "****************************************************************************************************\n",
            "*Period[rmse training] 06 : 7.36\n",
            "*Period[rmse eval] 06 : 7.40\n",
            "****************************************************************************************************\n",
            "INFO:tensorflow:Calling model_fn.\n",
            "INFO:tensorflow:Done calling model_fn.\n",
            "INFO:tensorflow:Create CheckpointSaverHook.\n",
            "INFO:tensorflow:Graph was finalized.\n",
            "INFO:tensorflow:Restoring parameters from /tmp/tmp8n4y8apg/model.ckpt-7000\n",
            "INFO:tensorflow:Running local_init_op.\n",
            "INFO:tensorflow:Done running local_init_op.\n",
            "INFO:tensorflow:Saving checkpoints for 7000 into /tmp/tmp8n4y8apg/model.ckpt.\n",
            "INFO:tensorflow:loss = 48.422447, step = 7000\n",
            "INFO:tensorflow:global_step/sec: 340.218\n",
            "INFO:tensorflow:loss = 66.77485, step = 7100 (0.296 sec)\n",
            "INFO:tensorflow:global_step/sec: 419.968\n",
            "INFO:tensorflow:loss = 48.78761, step = 7200 (0.237 sec)\n",
            "INFO:tensorflow:global_step/sec: 420.56\n",
            "INFO:tensorflow:loss = 57.794926, step = 7300 (0.237 sec)\n",
            "INFO:tensorflow:global_step/sec: 396.712\n",
            "INFO:tensorflow:loss = 52.86787, step = 7400 (0.254 sec)\n",
            "INFO:tensorflow:global_step/sec: 387.301\n",
            "INFO:tensorflow:loss = 49.11092, step = 7500 (0.257 sec)\n",
            "INFO:tensorflow:global_step/sec: 424.004\n",
            "INFO:tensorflow:loss = 52.35575, step = 7600 (0.238 sec)\n",
            "INFO:tensorflow:global_step/sec: 421.874\n",
            "INFO:tensorflow:loss = 45.673355, step = 7700 (0.236 sec)\n",
            "INFO:tensorflow:global_step/sec: 408.33\n",
            "INFO:tensorflow:loss = 48.302258, step = 7800 (0.243 sec)\n",
            "INFO:tensorflow:global_step/sec: 420.572\n",
            "INFO:tensorflow:loss = 39.86012, step = 7900 (0.241 sec)\n",
            "INFO:tensorflow:Saving checkpoints for 8000 into /tmp/tmp8n4y8apg/model.ckpt.\n",
            "INFO:tensorflow:Loss for final step: 49.89285.\n",
            "----------------------------------------------------------------------------------------------------\n",
            "INFO:tensorflow:Calling model_fn.\n",
            "INFO:tensorflow:Done calling model_fn.\n",
            "INFO:tensorflow:Starting evaluation at 2018-08-26-19:21:38\n",
            "INFO:tensorflow:Graph was finalized.\n",
            "INFO:tensorflow:Restoring parameters from /tmp/tmp8n4y8apg/model.ckpt-8000\n",
            "INFO:tensorflow:Running local_init_op.\n",
            "INFO:tensorflow:Done running local_init_op.\n",
            "INFO:tensorflow:Evaluation [100/1000]\n",
            "INFO:tensorflow:Evaluation [200/1000]\n",
            "INFO:tensorflow:Evaluation [300/1000]\n",
            "INFO:tensorflow:Evaluation [400/1000]\n",
            "INFO:tensorflow:Evaluation [500/1000]\n",
            "INFO:tensorflow:Evaluation [600/1000]\n",
            "INFO:tensorflow:Evaluation [700/1000]\n",
            "INFO:tensorflow:Evaluation [800/1000]\n",
            "INFO:tensorflow:Evaluation [900/1000]\n",
            "INFO:tensorflow:Evaluation [1000/1000]\n",
            "INFO:tensorflow:Finished evaluation at 2018-08-26-19:21:40\n",
            "INFO:tensorflow:Saving dict for global step 8000: average_loss = 53.866177, global_step = 8000, label/mean = 7.501382, loss = 53.866177, prediction/mean = 0.19935995\n",
            "INFO:tensorflow:Saving 'checkpoint_path' summary for global step 8000: /tmp/tmp8n4y8apg/model.ckpt-8000\n",
            "INFO:tensorflow:Calling model_fn.\n",
            "INFO:tensorflow:Done calling model_fn.\n",
            "INFO:tensorflow:Starting evaluation at 2018-08-26-19:21:41\n",
            "INFO:tensorflow:Graph was finalized.\n",
            "INFO:tensorflow:Restoring parameters from /tmp/tmp8n4y8apg/model.ckpt-8000\n",
            "INFO:tensorflow:Running local_init_op.\n",
            "INFO:tensorflow:Done running local_init_op.\n",
            "INFO:tensorflow:Evaluation [100/1000]\n",
            "INFO:tensorflow:Evaluation [200/1000]\n",
            "INFO:tensorflow:Evaluation [300/1000]\n",
            "INFO:tensorflow:Evaluation [400/1000]\n",
            "INFO:tensorflow:Evaluation [500/1000]\n",
            "INFO:tensorflow:Evaluation [600/1000]\n",
            "INFO:tensorflow:Evaluation [700/1000]\n",
            "INFO:tensorflow:Evaluation [800/1000]\n",
            "INFO:tensorflow:Evaluation [900/1000]\n",
            "INFO:tensorflow:Evaluation [1000/1000]\n",
            "INFO:tensorflow:Finished evaluation at 2018-08-26-19:21:43\n",
            "INFO:tensorflow:Saving dict for global step 8000: average_loss = 54.45831, global_step = 8000, label/mean = 7.542691, loss = 54.45831, prediction/mean = 0.19869359\n",
            "INFO:tensorflow:Saving 'checkpoint_path' summary for global step 8000: /tmp/tmp8n4y8apg/model.ckpt-8000\n",
            "----------------------------------------------------------------------------------------------------\n",
            "****************************************************************************************************\n",
            "*Period[rmse training] 07 : 7.34\n",
            "*Period[rmse eval] 07 : 7.38\n",
            "****************************************************************************************************\n",
            "INFO:tensorflow:Calling model_fn.\n",
            "INFO:tensorflow:Done calling model_fn.\n",
            "INFO:tensorflow:Create CheckpointSaverHook.\n",
            "INFO:tensorflow:Graph was finalized.\n",
            "INFO:tensorflow:Restoring parameters from /tmp/tmp8n4y8apg/model.ckpt-8000\n",
            "INFO:tensorflow:Running local_init_op.\n",
            "INFO:tensorflow:Done running local_init_op.\n",
            "INFO:tensorflow:Saving checkpoints for 8000 into /tmp/tmp8n4y8apg/model.ckpt.\n",
            "INFO:tensorflow:loss = 56.972893, step = 8000\n",
            "INFO:tensorflow:global_step/sec: 345.866\n",
            "INFO:tensorflow:loss = 42.713123, step = 8100 (0.294 sec)\n",
            "INFO:tensorflow:global_step/sec: 391.746\n",
            "INFO:tensorflow:loss = 58.932785, step = 8200 (0.254 sec)\n",
            "INFO:tensorflow:global_step/sec: 409.752\n",
            "INFO:tensorflow:loss = 43.080406, step = 8300 (0.244 sec)\n",
            "INFO:tensorflow:global_step/sec: 378.7\n",
            "INFO:tensorflow:loss = 56.164173, step = 8400 (0.263 sec)\n",
            "INFO:tensorflow:global_step/sec: 410.308\n",
            "INFO:tensorflow:loss = 58.85867, step = 8500 (0.246 sec)\n",
            "INFO:tensorflow:global_step/sec: 421.478\n",
            "INFO:tensorflow:loss = 61.926254, step = 8600 (0.238 sec)\n",
            "INFO:tensorflow:global_step/sec: 409.898\n",
            "INFO:tensorflow:loss = 49.868076, step = 8700 (0.243 sec)\n",
            "INFO:tensorflow:global_step/sec: 411.741\n",
            "INFO:tensorflow:loss = 49.92932, step = 8800 (0.244 sec)\n",
            "INFO:tensorflow:global_step/sec: 385.948\n",
            "INFO:tensorflow:loss = 45.98574, step = 8900 (0.255 sec)\n",
            "INFO:tensorflow:Saving checkpoints for 9000 into /tmp/tmp8n4y8apg/model.ckpt.\n",
            "INFO:tensorflow:Loss for final step: 53.875.\n",
            "----------------------------------------------------------------------------------------------------\n",
            "INFO:tensorflow:Calling model_fn.\n",
            "INFO:tensorflow:Done calling model_fn.\n",
            "INFO:tensorflow:Starting evaluation at 2018-08-26-19:21:48\n",
            "INFO:tensorflow:Graph was finalized.\n",
            "INFO:tensorflow:Restoring parameters from /tmp/tmp8n4y8apg/model.ckpt-9000\n",
            "INFO:tensorflow:Running local_init_op.\n",
            "INFO:tensorflow:Done running local_init_op.\n",
            "INFO:tensorflow:Evaluation [100/1000]\n",
            "INFO:tensorflow:Evaluation [200/1000]\n",
            "INFO:tensorflow:Evaluation [300/1000]\n",
            "INFO:tensorflow:Evaluation [400/1000]\n",
            "INFO:tensorflow:Evaluation [500/1000]\n",
            "INFO:tensorflow:Evaluation [600/1000]\n",
            "INFO:tensorflow:Evaluation [700/1000]\n",
            "INFO:tensorflow:Evaluation [800/1000]\n",
            "INFO:tensorflow:Evaluation [900/1000]\n",
            "INFO:tensorflow:Evaluation [1000/1000]\n",
            "INFO:tensorflow:Finished evaluation at 2018-08-26-19:21:51\n",
            "INFO:tensorflow:Saving dict for global step 9000: average_loss = 53.50268, global_step = 9000, label/mean = 7.501382, loss = 53.50268, prediction/mean = 0.22427957\n",
            "INFO:tensorflow:Saving 'checkpoint_path' summary for global step 9000: /tmp/tmp8n4y8apg/model.ckpt-9000\n",
            "INFO:tensorflow:Calling model_fn.\n",
            "INFO:tensorflow:Done calling model_fn.\n",
            "INFO:tensorflow:Starting evaluation at 2018-08-26-19:21:51\n",
            "INFO:tensorflow:Graph was finalized.\n",
            "INFO:tensorflow:Restoring parameters from /tmp/tmp8n4y8apg/model.ckpt-9000\n",
            "INFO:tensorflow:Running local_init_op.\n",
            "INFO:tensorflow:Done running local_init_op.\n",
            "INFO:tensorflow:Evaluation [100/1000]\n",
            "INFO:tensorflow:Evaluation [200/1000]\n",
            "INFO:tensorflow:Evaluation [300/1000]\n",
            "INFO:tensorflow:Evaluation [400/1000]\n",
            "INFO:tensorflow:Evaluation [500/1000]\n",
            "INFO:tensorflow:Evaluation [600/1000]\n",
            "INFO:tensorflow:Evaluation [700/1000]\n",
            "INFO:tensorflow:Evaluation [800/1000]\n",
            "INFO:tensorflow:Evaluation [900/1000]\n",
            "INFO:tensorflow:Evaluation [1000/1000]\n",
            "INFO:tensorflow:Finished evaluation at 2018-08-26-19:21:53\n",
            "INFO:tensorflow:Saving dict for global step 9000: average_loss = 54.09444, global_step = 9000, label/mean = 7.542691, loss = 54.09444, prediction/mean = 0.22352995\n",
            "INFO:tensorflow:Saving 'checkpoint_path' summary for global step 9000: /tmp/tmp8n4y8apg/model.ckpt-9000\n",
            "----------------------------------------------------------------------------------------------------\n",
            "****************************************************************************************************\n",
            "*Period[rmse training] 08 : 7.31\n",
            "*Period[rmse eval] 08 : 7.35\n",
            "****************************************************************************************************\n",
            "INFO:tensorflow:Calling model_fn.\n",
            "INFO:tensorflow:Done calling model_fn.\n",
            "INFO:tensorflow:Create CheckpointSaverHook.\n",
            "INFO:tensorflow:Graph was finalized.\n",
            "INFO:tensorflow:Restoring parameters from /tmp/tmp8n4y8apg/model.ckpt-9000\n",
            "INFO:tensorflow:Running local_init_op.\n",
            "INFO:tensorflow:Done running local_init_op.\n",
            "INFO:tensorflow:Saving checkpoints for 9000 into /tmp/tmp8n4y8apg/model.ckpt.\n",
            "INFO:tensorflow:loss = 43.42097, step = 9000\n",
            "INFO:tensorflow:global_step/sec: 344.005\n",
            "INFO:tensorflow:loss = 68.90085, step = 9100 (0.294 sec)\n",
            "INFO:tensorflow:global_step/sec: 414.971\n",
            "INFO:tensorflow:loss = 57.374603, step = 9200 (0.242 sec)\n",
            "INFO:tensorflow:global_step/sec: 415.055\n",
            "INFO:tensorflow:loss = 56.479588, step = 9300 (0.239 sec)\n",
            "INFO:tensorflow:global_step/sec: 417.543\n",
            "INFO:tensorflow:loss = 28.533642, step = 9400 (0.240 sec)\n",
            "INFO:tensorflow:global_step/sec: 356.574\n",
            "INFO:tensorflow:loss = 69.524124, step = 9500 (0.281 sec)\n",
            "INFO:tensorflow:global_step/sec: 414.988\n",
            "INFO:tensorflow:loss = 58.00213, step = 9600 (0.240 sec)\n",
            "INFO:tensorflow:global_step/sec: 410.727\n",
            "INFO:tensorflow:loss = 54.36488, step = 9700 (0.246 sec)\n",
            "INFO:tensorflow:global_step/sec: 403.707\n",
            "INFO:tensorflow:loss = 48.00769, step = 9800 (0.246 sec)\n",
            "INFO:tensorflow:global_step/sec: 414.926\n",
            "INFO:tensorflow:loss = 53.276646, step = 9900 (0.242 sec)\n",
            "INFO:tensorflow:Saving checkpoints for 10000 into /tmp/tmp8n4y8apg/model.ckpt.\n",
            "INFO:tensorflow:Loss for final step: 52.963055.\n",
            "----------------------------------------------------------------------------------------------------\n",
            "INFO:tensorflow:Calling model_fn.\n",
            "INFO:tensorflow:Done calling model_fn.\n",
            "INFO:tensorflow:Starting evaluation at 2018-08-26-19:21:58\n",
            "INFO:tensorflow:Graph was finalized.\n",
            "INFO:tensorflow:Restoring parameters from /tmp/tmp8n4y8apg/model.ckpt-10000\n",
            "INFO:tensorflow:Running local_init_op.\n",
            "INFO:tensorflow:Done running local_init_op.\n",
            "INFO:tensorflow:Evaluation [100/1000]\n",
            "INFO:tensorflow:Evaluation [200/1000]\n",
            "INFO:tensorflow:Evaluation [300/1000]\n",
            "INFO:tensorflow:Evaluation [400/1000]\n",
            "INFO:tensorflow:Evaluation [500/1000]\n",
            "INFO:tensorflow:Evaluation [600/1000]\n",
            "INFO:tensorflow:Evaluation [700/1000]\n",
            "INFO:tensorflow:Evaluation [800/1000]\n",
            "INFO:tensorflow:Evaluation [900/1000]\n",
            "INFO:tensorflow:Evaluation [1000/1000]\n",
            "INFO:tensorflow:Finished evaluation at 2018-08-26-19:22:00\n",
            "INFO:tensorflow:Saving dict for global step 10000: average_loss = 53.140484, global_step = 10000, label/mean = 7.501382, loss = 53.140484, prediction/mean = 0.24919857\n",
            "INFO:tensorflow:Saving 'checkpoint_path' summary for global step 10000: /tmp/tmp8n4y8apg/model.ckpt-10000\n",
            "INFO:tensorflow:Calling model_fn.\n",
            "INFO:tensorflow:Done calling model_fn.\n",
            "INFO:tensorflow:Starting evaluation at 2018-08-26-19:22:01\n",
            "INFO:tensorflow:Graph was finalized.\n",
            "INFO:tensorflow:Restoring parameters from /tmp/tmp8n4y8apg/model.ckpt-10000\n",
            "INFO:tensorflow:Running local_init_op.\n",
            "INFO:tensorflow:Done running local_init_op.\n",
            "INFO:tensorflow:Evaluation [100/1000]\n",
            "INFO:tensorflow:Evaluation [200/1000]\n",
            "INFO:tensorflow:Evaluation [300/1000]\n",
            "INFO:tensorflow:Evaluation [400/1000]\n",
            "INFO:tensorflow:Evaluation [500/1000]\n",
            "INFO:tensorflow:Evaluation [600/1000]\n",
            "INFO:tensorflow:Evaluation [700/1000]\n",
            "INFO:tensorflow:Evaluation [800/1000]\n",
            "INFO:tensorflow:Evaluation [900/1000]\n",
            "INFO:tensorflow:Evaluation [1000/1000]\n",
            "INFO:tensorflow:Finished evaluation at 2018-08-26-19:22:03\n",
            "INFO:tensorflow:Saving dict for global step 10000: average_loss = 53.731762, global_step = 10000, label/mean = 7.542691, loss = 53.731762, prediction/mean = 0.24836557\n",
            "INFO:tensorflow:Saving 'checkpoint_path' summary for global step 10000: /tmp/tmp8n4y8apg/model.ckpt-10000\n",
            "----------------------------------------------------------------------------------------------------\n",
            "****************************************************************************************************\n",
            "*Period[rmse training] 09 : 7.29\n",
            "*Period[rmse eval] 09 : 7.33\n",
            "****************************************************************************************************\n",
            "INFO:tensorflow:Calling model_fn.\n",
            "INFO:tensorflow:Done calling model_fn.\n",
            "INFO:tensorflow:Create CheckpointSaverHook.\n",
            "INFO:tensorflow:Graph was finalized.\n",
            "INFO:tensorflow:Restoring parameters from /tmp/tmp8n4y8apg/model.ckpt-10000\n",
            "INFO:tensorflow:Running local_init_op.\n",
            "INFO:tensorflow:Done running local_init_op.\n",
            "INFO:tensorflow:Saving checkpoints for 10000 into /tmp/tmp8n4y8apg/model.ckpt.\n",
            "INFO:tensorflow:loss = 56.230217, step = 10000\n",
            "INFO:tensorflow:global_step/sec: 308.753\n",
            "INFO:tensorflow:loss = 60.283493, step = 10100 (0.325 sec)\n",
            "INFO:tensorflow:global_step/sec: 416.19\n",
            "INFO:tensorflow:loss = 68.81413, step = 10200 (0.244 sec)\n",
            "INFO:tensorflow:global_step/sec: 414.107\n",
            "INFO:tensorflow:loss = 64.011734, step = 10300 (0.241 sec)\n",
            "INFO:tensorflow:global_step/sec: 397.115\n",
            "INFO:tensorflow:loss = 45.51096, step = 10400 (0.253 sec)\n",
            "INFO:tensorflow:global_step/sec: 400.16\n",
            "INFO:tensorflow:loss = 41.5601, step = 10500 (0.251 sec)\n",
            "INFO:tensorflow:global_step/sec: 369.474\n",
            "INFO:tensorflow:loss = 55.347202, step = 10600 (0.269 sec)\n",
            "INFO:tensorflow:global_step/sec: 412.571\n",
            "INFO:tensorflow:loss = 61.058525, step = 10700 (0.244 sec)\n",
            "INFO:tensorflow:global_step/sec: 408.782\n",
            "INFO:tensorflow:loss = 61.18575, step = 10800 (0.244 sec)\n",
            "INFO:tensorflow:global_step/sec: 413.446\n",
            "INFO:tensorflow:loss = 50.20323, step = 10900 (0.242 sec)\n",
            "INFO:tensorflow:Saving checkpoints for 11000 into /tmp/tmp8n4y8apg/model.ckpt.\n",
            "INFO:tensorflow:Loss for final step: 60.187263.\n",
            "----------------------------------------------------------------------------------------------------\n",
            "INFO:tensorflow:Calling model_fn.\n",
            "INFO:tensorflow:Done calling model_fn.\n",
            "INFO:tensorflow:Starting evaluation at 2018-08-26-19:22:08\n",
            "INFO:tensorflow:Graph was finalized.\n",
            "INFO:tensorflow:Restoring parameters from /tmp/tmp8n4y8apg/model.ckpt-11000\n",
            "INFO:tensorflow:Running local_init_op.\n",
            "INFO:tensorflow:Done running local_init_op.\n",
            "INFO:tensorflow:Evaluation [100/1000]\n",
            "INFO:tensorflow:Evaluation [200/1000]\n",
            "INFO:tensorflow:Evaluation [300/1000]\n",
            "INFO:tensorflow:Evaluation [400/1000]\n",
            "INFO:tensorflow:Evaluation [500/1000]\n",
            "INFO:tensorflow:Evaluation [600/1000]\n",
            "INFO:tensorflow:Evaluation [700/1000]\n",
            "INFO:tensorflow:Evaluation [800/1000]\n",
            "INFO:tensorflow:Evaluation [900/1000]\n",
            "INFO:tensorflow:Evaluation [1000/1000]\n",
            "INFO:tensorflow:Finished evaluation at 2018-08-26-19:22:10\n",
            "INFO:tensorflow:Saving dict for global step 11000: average_loss = 52.779575, global_step = 11000, label/mean = 7.501382, loss = 52.779575, prediction/mean = 0.2741179\n",
            "INFO:tensorflow:Saving 'checkpoint_path' summary for global step 11000: /tmp/tmp8n4y8apg/model.ckpt-11000\n",
            "INFO:tensorflow:Calling model_fn.\n",
            "INFO:tensorflow:Done calling model_fn.\n",
            "INFO:tensorflow:Starting evaluation at 2018-08-26-19:22:11\n",
            "INFO:tensorflow:Graph was finalized.\n",
            "INFO:tensorflow:Restoring parameters from /tmp/tmp8n4y8apg/model.ckpt-11000\n",
            "INFO:tensorflow:Running local_init_op.\n",
            "INFO:tensorflow:Done running local_init_op.\n",
            "INFO:tensorflow:Evaluation [100/1000]\n",
            "INFO:tensorflow:Evaluation [200/1000]\n",
            "INFO:tensorflow:Evaluation [300/1000]\n",
            "INFO:tensorflow:Evaluation [400/1000]\n",
            "INFO:tensorflow:Evaluation [500/1000]\n",
            "INFO:tensorflow:Evaluation [600/1000]\n",
            "INFO:tensorflow:Evaluation [700/1000]\n",
            "INFO:tensorflow:Evaluation [800/1000]\n",
            "INFO:tensorflow:Evaluation [900/1000]\n",
            "INFO:tensorflow:Evaluation [1000/1000]\n",
            "INFO:tensorflow:Finished evaluation at 2018-08-26-19:22:13\n",
            "INFO:tensorflow:Saving dict for global step 11000: average_loss = 53.370327, global_step = 11000, label/mean = 7.542691, loss = 53.370327, prediction/mean = 0.2732018\n",
            "INFO:tensorflow:Saving 'checkpoint_path' summary for global step 11000: /tmp/tmp8n4y8apg/model.ckpt-11000\n",
            "----------------------------------------------------------------------------------------------------\n",
            "****************************************************************************************************\n",
            "*Period[rmse training] 10 : 7.26\n",
            "*Period[rmse eval] 10 : 7.31\n",
            "****************************************************************************************************\n",
            "INFO:tensorflow:Calling model_fn.\n",
            "INFO:tensorflow:Done calling model_fn.\n",
            "INFO:tensorflow:Create CheckpointSaverHook.\n",
            "INFO:tensorflow:Graph was finalized.\n",
            "INFO:tensorflow:Restoring parameters from /tmp/tmp8n4y8apg/model.ckpt-11000\n",
            "INFO:tensorflow:Running local_init_op.\n",
            "INFO:tensorflow:Done running local_init_op.\n",
            "INFO:tensorflow:Saving checkpoints for 11000 into /tmp/tmp8n4y8apg/model.ckpt.\n",
            "INFO:tensorflow:loss = 54.557716, step = 11000\n",
            "INFO:tensorflow:global_step/sec: 331.562\n",
            "INFO:tensorflow:loss = 53.245316, step = 11100 (0.307 sec)\n",
            "INFO:tensorflow:global_step/sec: 404.021\n",
            "INFO:tensorflow:loss = 54.939392, step = 11200 (0.244 sec)\n",
            "INFO:tensorflow:global_step/sec: 421.064\n",
            "INFO:tensorflow:loss = 45.242256, step = 11300 (0.241 sec)\n",
            "INFO:tensorflow:global_step/sec: 411.921\n",
            "INFO:tensorflow:loss = 46.06452, step = 11400 (0.242 sec)\n",
            "INFO:tensorflow:global_step/sec: 392.849\n",
            "INFO:tensorflow:loss = 58.474705, step = 11500 (0.252 sec)\n",
            "INFO:tensorflow:global_step/sec: 388.752\n",
            "INFO:tensorflow:loss = 57.338036, step = 11600 (0.257 sec)\n",
            "INFO:tensorflow:global_step/sec: 421.742\n",
            "INFO:tensorflow:loss = 39.231106, step = 11700 (0.239 sec)\n",
            "INFO:tensorflow:global_step/sec: 423.977\n",
            "INFO:tensorflow:loss = 52.309555, step = 11800 (0.238 sec)\n",
            "INFO:tensorflow:global_step/sec: 414.417\n",
            "INFO:tensorflow:loss = 64.70871, step = 11900 (0.241 sec)\n",
            "INFO:tensorflow:Saving checkpoints for 12000 into /tmp/tmp8n4y8apg/model.ckpt.\n",
            "INFO:tensorflow:Loss for final step: 53.23676.\n",
            "----------------------------------------------------------------------------------------------------\n",
            "INFO:tensorflow:Calling model_fn.\n",
            "INFO:tensorflow:Done calling model_fn.\n",
            "INFO:tensorflow:Starting evaluation at 2018-08-26-19:22:18\n",
            "INFO:tensorflow:Graph was finalized.\n",
            "INFO:tensorflow:Restoring parameters from /tmp/tmp8n4y8apg/model.ckpt-12000\n",
            "INFO:tensorflow:Running local_init_op.\n",
            "INFO:tensorflow:Done running local_init_op.\n",
            "INFO:tensorflow:Evaluation [100/1000]\n",
            "INFO:tensorflow:Evaluation [200/1000]\n",
            "INFO:tensorflow:Evaluation [300/1000]\n",
            "INFO:tensorflow:Evaluation [400/1000]\n",
            "INFO:tensorflow:Evaluation [500/1000]\n",
            "INFO:tensorflow:Evaluation [600/1000]\n",
            "INFO:tensorflow:Evaluation [700/1000]\n",
            "INFO:tensorflow:Evaluation [800/1000]\n",
            "INFO:tensorflow:Evaluation [900/1000]\n",
            "INFO:tensorflow:Evaluation [1000/1000]\n",
            "INFO:tensorflow:Finished evaluation at 2018-08-26-19:22:20\n",
            "INFO:tensorflow:Saving dict for global step 12000: average_loss = 52.419823, global_step = 12000, label/mean = 7.501382, loss = 52.419823, prediction/mean = 0.2990378\n",
            "INFO:tensorflow:Saving 'checkpoint_path' summary for global step 12000: /tmp/tmp8n4y8apg/model.ckpt-12000\n",
            "INFO:tensorflow:Calling model_fn.\n",
            "INFO:tensorflow:Done calling model_fn.\n",
            "INFO:tensorflow:Starting evaluation at 2018-08-26-19:22:20\n",
            "INFO:tensorflow:Graph was finalized.\n",
            "INFO:tensorflow:Restoring parameters from /tmp/tmp8n4y8apg/model.ckpt-12000\n",
            "INFO:tensorflow:Running local_init_op.\n",
            "INFO:tensorflow:Done running local_init_op.\n",
            "INFO:tensorflow:Evaluation [100/1000]\n",
            "INFO:tensorflow:Evaluation [200/1000]\n",
            "INFO:tensorflow:Evaluation [300/1000]\n",
            "INFO:tensorflow:Evaluation [400/1000]\n",
            "INFO:tensorflow:Evaluation [500/1000]\n",
            "INFO:tensorflow:Evaluation [600/1000]\n",
            "INFO:tensorflow:Evaluation [700/1000]\n",
            "INFO:tensorflow:Evaluation [800/1000]\n",
            "INFO:tensorflow:Evaluation [900/1000]\n",
            "INFO:tensorflow:Evaluation [1000/1000]\n",
            "INFO:tensorflow:Finished evaluation at 2018-08-26-19:22:23\n",
            "INFO:tensorflow:Saving dict for global step 12000: average_loss = 53.010212, global_step = 12000, label/mean = 7.542691, loss = 53.010212, prediction/mean = 0.29803798\n",
            "INFO:tensorflow:Saving 'checkpoint_path' summary for global step 12000: /tmp/tmp8n4y8apg/model.ckpt-12000\n",
            "----------------------------------------------------------------------------------------------------\n",
            "****************************************************************************************************\n",
            "*Period[rmse training] 11 : 7.24\n",
            "*Period[rmse eval] 11 : 7.28\n",
            "****************************************************************************************************\n",
            "INFO:tensorflow:Calling model_fn.\n",
            "INFO:tensorflow:Done calling model_fn.\n",
            "INFO:tensorflow:Create CheckpointSaverHook.\n",
            "INFO:tensorflow:Graph was finalized.\n",
            "INFO:tensorflow:Restoring parameters from /tmp/tmp8n4y8apg/model.ckpt-12000\n",
            "INFO:tensorflow:Running local_init_op.\n",
            "INFO:tensorflow:Done running local_init_op.\n",
            "INFO:tensorflow:Saving checkpoints for 12000 into /tmp/tmp8n4y8apg/model.ckpt.\n",
            "INFO:tensorflow:loss = 49.595524, step = 12000\n",
            "INFO:tensorflow:global_step/sec: 345.689\n",
            "INFO:tensorflow:loss = 62.113956, step = 12100 (0.291 sec)\n",
            "INFO:tensorflow:global_step/sec: 377.895\n",
            "INFO:tensorflow:loss = 35.997986, step = 12200 (0.267 sec)\n",
            "INFO:tensorflow:global_step/sec: 423.381\n",
            "INFO:tensorflow:loss = 66.514595, step = 12300 (0.235 sec)\n",
            "INFO:tensorflow:global_step/sec: 409.31\n",
            "INFO:tensorflow:loss = 73.53506, step = 12400 (0.246 sec)\n",
            "INFO:tensorflow:global_step/sec: 412.178\n",
            "INFO:tensorflow:loss = 49.48208, step = 12500 (0.242 sec)\n",
            "INFO:tensorflow:global_step/sec: 414.272\n",
            "INFO:tensorflow:loss = 14.321106, step = 12600 (0.241 sec)\n",
            "INFO:tensorflow:global_step/sec: 385.27\n",
            "INFO:tensorflow:loss = 36.64295, step = 12700 (0.257 sec)\n",
            "INFO:tensorflow:global_step/sec: 406.215\n",
            "INFO:tensorflow:loss = 54.91466, step = 12800 (0.248 sec)\n",
            "INFO:tensorflow:global_step/sec: 415.036\n",
            "INFO:tensorflow:loss = 55.056507, step = 12900 (0.242 sec)\n",
            "INFO:tensorflow:Saving checkpoints for 13000 into /tmp/tmp8n4y8apg/model.ckpt.\n",
            "INFO:tensorflow:Loss for final step: 47.387794.\n",
            "----------------------------------------------------------------------------------------------------\n",
            "INFO:tensorflow:Calling model_fn.\n",
            "INFO:tensorflow:Done calling model_fn.\n",
            "INFO:tensorflow:Starting evaluation at 2018-08-26-19:22:27\n",
            "INFO:tensorflow:Graph was finalized.\n",
            "INFO:tensorflow:Restoring parameters from /tmp/tmp8n4y8apg/model.ckpt-13000\n",
            "INFO:tensorflow:Running local_init_op.\n",
            "INFO:tensorflow:Done running local_init_op.\n",
            "INFO:tensorflow:Evaluation [100/1000]\n",
            "INFO:tensorflow:Evaluation [200/1000]\n",
            "INFO:tensorflow:Evaluation [300/1000]\n",
            "INFO:tensorflow:Evaluation [400/1000]\n",
            "INFO:tensorflow:Evaluation [500/1000]\n",
            "INFO:tensorflow:Evaluation [600/1000]\n",
            "INFO:tensorflow:Evaluation [700/1000]\n",
            "INFO:tensorflow:Evaluation [800/1000]\n",
            "INFO:tensorflow:Evaluation [900/1000]\n",
            "INFO:tensorflow:Evaluation [1000/1000]\n",
            "INFO:tensorflow:Finished evaluation at 2018-08-26-19:22:30\n",
            "INFO:tensorflow:Saving dict for global step 13000: average_loss = 52.06136, global_step = 13000, label/mean = 7.501382, loss = 52.06136, prediction/mean = 0.32395864\n",
            "INFO:tensorflow:Saving 'checkpoint_path' summary for global step 13000: /tmp/tmp8n4y8apg/model.ckpt-13000\n",
            "INFO:tensorflow:Calling model_fn.\n",
            "INFO:tensorflow:Done calling model_fn.\n",
            "INFO:tensorflow:Starting evaluation at 2018-08-26-19:22:30\n",
            "INFO:tensorflow:Graph was finalized.\n",
            "INFO:tensorflow:Restoring parameters from /tmp/tmp8n4y8apg/model.ckpt-13000\n",
            "INFO:tensorflow:Running local_init_op.\n",
            "INFO:tensorflow:Done running local_init_op.\n",
            "INFO:tensorflow:Evaluation [100/1000]\n",
            "INFO:tensorflow:Evaluation [200/1000]\n",
            "INFO:tensorflow:Evaluation [300/1000]\n",
            "INFO:tensorflow:Evaluation [400/1000]\n",
            "INFO:tensorflow:Evaluation [500/1000]\n",
            "INFO:tensorflow:Evaluation [600/1000]\n",
            "INFO:tensorflow:Evaluation [700/1000]\n",
            "INFO:tensorflow:Evaluation [800/1000]\n",
            "INFO:tensorflow:Evaluation [900/1000]\n",
            "INFO:tensorflow:Evaluation [1000/1000]\n",
            "INFO:tensorflow:Finished evaluation at 2018-08-26-19:22:33\n",
            "INFO:tensorflow:Saving dict for global step 13000: average_loss = 52.651295, global_step = 13000, label/mean = 7.542691, loss = 52.651295, prediction/mean = 0.32287568\n",
            "INFO:tensorflow:Saving 'checkpoint_path' summary for global step 13000: /tmp/tmp8n4y8apg/model.ckpt-13000\n",
            "----------------------------------------------------------------------------------------------------\n",
            "****************************************************************************************************\n",
            "*Period[rmse training] 12 : 7.22\n",
            "*Period[rmse eval] 12 : 7.26\n",
            "****************************************************************************************************\n",
            "INFO:tensorflow:Calling model_fn.\n",
            "INFO:tensorflow:Done calling model_fn.\n",
            "INFO:tensorflow:Create CheckpointSaverHook.\n",
            "INFO:tensorflow:Graph was finalized.\n",
            "INFO:tensorflow:Restoring parameters from /tmp/tmp8n4y8apg/model.ckpt-13000\n",
            "INFO:tensorflow:Running local_init_op.\n",
            "INFO:tensorflow:Done running local_init_op.\n",
            "INFO:tensorflow:Saving checkpoints for 13000 into /tmp/tmp8n4y8apg/model.ckpt.\n",
            "INFO:tensorflow:loss = 55.214287, step = 13000\n",
            "INFO:tensorflow:global_step/sec: 346.982\n",
            "INFO:tensorflow:loss = 57.128902, step = 13100 (0.293 sec)\n",
            "INFO:tensorflow:global_step/sec: 419.653\n",
            "INFO:tensorflow:loss = 53.328705, step = 13200 (0.236 sec)\n",
            "INFO:tensorflow:global_step/sec: 378.57\n",
            "INFO:tensorflow:loss = 63.370613, step = 13300 (0.264 sec)\n",
            "INFO:tensorflow:global_step/sec: 414.686\n",
            "INFO:tensorflow:loss = 60.836224, step = 13400 (0.243 sec)\n",
            "INFO:tensorflow:global_step/sec: 398.689\n",
            "INFO:tensorflow:loss = 56.466293, step = 13500 (0.249 sec)\n",
            "INFO:tensorflow:global_step/sec: 423.642\n",
            "INFO:tensorflow:loss = 50.947464, step = 13600 (0.238 sec)\n",
            "INFO:tensorflow:global_step/sec: 420.218\n",
            "INFO:tensorflow:loss = 54.96529, step = 13700 (0.238 sec)\n",
            "INFO:tensorflow:global_step/sec: 366.297\n",
            "INFO:tensorflow:loss = 62.1216, step = 13800 (0.273 sec)\n",
            "INFO:tensorflow:global_step/sec: 383.129\n",
            "INFO:tensorflow:loss = 64.20083, step = 13900 (0.261 sec)\n",
            "INFO:tensorflow:Saving checkpoints for 14000 into /tmp/tmp8n4y8apg/model.ckpt.\n",
            "INFO:tensorflow:Loss for final step: 57.63449.\n",
            "----------------------------------------------------------------------------------------------------\n",
            "INFO:tensorflow:Calling model_fn.\n",
            "INFO:tensorflow:Done calling model_fn.\n",
            "INFO:tensorflow:Starting evaluation at 2018-08-26-19:22:37\n",
            "INFO:tensorflow:Graph was finalized.\n",
            "INFO:tensorflow:Restoring parameters from /tmp/tmp8n4y8apg/model.ckpt-14000\n",
            "INFO:tensorflow:Running local_init_op.\n",
            "INFO:tensorflow:Done running local_init_op.\n",
            "INFO:tensorflow:Evaluation [100/1000]\n",
            "INFO:tensorflow:Evaluation [200/1000]\n",
            "INFO:tensorflow:Evaluation [300/1000]\n",
            "INFO:tensorflow:Evaluation [400/1000]\n",
            "INFO:tensorflow:Evaluation [500/1000]\n",
            "INFO:tensorflow:Evaluation [600/1000]\n",
            "INFO:tensorflow:Evaluation [700/1000]\n",
            "INFO:tensorflow:Evaluation [800/1000]\n",
            "INFO:tensorflow:Evaluation [900/1000]\n",
            "INFO:tensorflow:Evaluation [1000/1000]\n",
            "INFO:tensorflow:Finished evaluation at 2018-08-26-19:22:40\n",
            "INFO:tensorflow:Saving dict for global step 14000: average_loss = 51.704174, global_step = 14000, label/mean = 7.501382, loss = 51.704174, prediction/mean = 0.34887797\n",
            "INFO:tensorflow:Saving 'checkpoint_path' summary for global step 14000: /tmp/tmp8n4y8apg/model.ckpt-14000\n",
            "INFO:tensorflow:Calling model_fn.\n",
            "INFO:tensorflow:Done calling model_fn.\n",
            "INFO:tensorflow:Starting evaluation at 2018-08-26-19:22:40\n",
            "INFO:tensorflow:Graph was finalized.\n",
            "INFO:tensorflow:Restoring parameters from /tmp/tmp8n4y8apg/model.ckpt-14000\n",
            "INFO:tensorflow:Running local_init_op.\n",
            "INFO:tensorflow:Done running local_init_op.\n",
            "INFO:tensorflow:Evaluation [100/1000]\n",
            "INFO:tensorflow:Evaluation [200/1000]\n",
            "INFO:tensorflow:Evaluation [300/1000]\n",
            "INFO:tensorflow:Evaluation [400/1000]\n",
            "INFO:tensorflow:Evaluation [500/1000]\n",
            "INFO:tensorflow:Evaluation [600/1000]\n",
            "INFO:tensorflow:Evaluation [700/1000]\n",
            "INFO:tensorflow:Evaluation [800/1000]\n",
            "INFO:tensorflow:Evaluation [900/1000]\n",
            "INFO:tensorflow:Evaluation [1000/1000]\n",
            "INFO:tensorflow:Finished evaluation at 2018-08-26-19:22:43\n",
            "INFO:tensorflow:Saving dict for global step 14000: average_loss = 52.293625, global_step = 14000, label/mean = 7.542691, loss = 52.293625, prediction/mean = 0.34771177\n",
            "INFO:tensorflow:Saving 'checkpoint_path' summary for global step 14000: /tmp/tmp8n4y8apg/model.ckpt-14000\n",
            "----------------------------------------------------------------------------------------------------\n",
            "****************************************************************************************************\n",
            "*Period[rmse training] 13 : 7.19\n",
            "*Period[rmse eval] 13 : 7.23\n",
            "****************************************************************************************************\n",
            "INFO:tensorflow:Calling model_fn.\n",
            "INFO:tensorflow:Done calling model_fn.\n",
            "INFO:tensorflow:Create CheckpointSaverHook.\n",
            "INFO:tensorflow:Graph was finalized.\n",
            "INFO:tensorflow:Restoring parameters from /tmp/tmp8n4y8apg/model.ckpt-14000\n",
            "INFO:tensorflow:Running local_init_op.\n",
            "INFO:tensorflow:Done running local_init_op.\n",
            "INFO:tensorflow:Saving checkpoints for 14000 into /tmp/tmp8n4y8apg/model.ckpt.\n",
            "INFO:tensorflow:loss = 52.50504, step = 14000\n",
            "INFO:tensorflow:global_step/sec: 348.8\n",
            "INFO:tensorflow:loss = 55.67836, step = 14100 (0.292 sec)\n",
            "INFO:tensorflow:global_step/sec: 427.515\n",
            "INFO:tensorflow:loss = 59.298347, step = 14200 (0.233 sec)\n",
            "INFO:tensorflow:global_step/sec: 373.426\n",
            "INFO:tensorflow:loss = 69.35773, step = 14300 (0.269 sec)\n",
            "INFO:tensorflow:global_step/sec: 418.093\n",
            "INFO:tensorflow:loss = 51.16689, step = 14400 (0.239 sec)\n",
            "INFO:tensorflow:global_step/sec: 397.784\n",
            "INFO:tensorflow:loss = 51.379593, step = 14500 (0.251 sec)\n",
            "INFO:tensorflow:global_step/sec: 423.912\n",
            "INFO:tensorflow:loss = 52.62759, step = 14600 (0.233 sec)\n",
            "INFO:tensorflow:global_step/sec: 417.816\n",
            "INFO:tensorflow:loss = 54.89803, step = 14700 (0.244 sec)\n",
            "INFO:tensorflow:global_step/sec: 387.681\n",
            "INFO:tensorflow:loss = 69.74259, step = 14800 (0.257 sec)\n",
            "INFO:tensorflow:global_step/sec: 407.201\n",
            "INFO:tensorflow:loss = 48.876503, step = 14900 (0.246 sec)\n",
            "INFO:tensorflow:Saving checkpoints for 15000 into /tmp/tmp8n4y8apg/model.ckpt.\n",
            "INFO:tensorflow:Loss for final step: 64.46939.\n",
            "----------------------------------------------------------------------------------------------------\n",
            "INFO:tensorflow:Calling model_fn.\n",
            "INFO:tensorflow:Done calling model_fn.\n",
            "INFO:tensorflow:Starting evaluation at 2018-08-26-19:22:47\n",
            "INFO:tensorflow:Graph was finalized.\n",
            "INFO:tensorflow:Restoring parameters from /tmp/tmp8n4y8apg/model.ckpt-15000\n",
            "INFO:tensorflow:Running local_init_op.\n",
            "INFO:tensorflow:Done running local_init_op.\n",
            "INFO:tensorflow:Evaluation [100/1000]\n",
            "INFO:tensorflow:Evaluation [200/1000]\n",
            "INFO:tensorflow:Evaluation [300/1000]\n",
            "INFO:tensorflow:Evaluation [400/1000]\n",
            "INFO:tensorflow:Evaluation [500/1000]\n",
            "INFO:tensorflow:Evaluation [600/1000]\n",
            "INFO:tensorflow:Evaluation [700/1000]\n",
            "INFO:tensorflow:Evaluation [800/1000]\n",
            "INFO:tensorflow:Evaluation [900/1000]\n",
            "INFO:tensorflow:Evaluation [1000/1000]\n",
            "INFO:tensorflow:Finished evaluation at 2018-08-26-19:22:50\n",
            "INFO:tensorflow:Saving dict for global step 15000: average_loss = 51.348446, global_step = 15000, label/mean = 7.501382, loss = 51.348446, prediction/mean = 0.37378505\n",
            "INFO:tensorflow:Saving 'checkpoint_path' summary for global step 15000: /tmp/tmp8n4y8apg/model.ckpt-15000\n",
            "INFO:tensorflow:Calling model_fn.\n",
            "INFO:tensorflow:Done calling model_fn.\n",
            "INFO:tensorflow:Starting evaluation at 2018-08-26-19:22:50\n",
            "INFO:tensorflow:Graph was finalized.\n",
            "INFO:tensorflow:Restoring parameters from /tmp/tmp8n4y8apg/model.ckpt-15000\n",
            "INFO:tensorflow:Running local_init_op.\n",
            "INFO:tensorflow:Done running local_init_op.\n",
            "INFO:tensorflow:Evaluation [100/1000]\n",
            "INFO:tensorflow:Evaluation [200/1000]\n",
            "INFO:tensorflow:Evaluation [300/1000]\n",
            "INFO:tensorflow:Evaluation [400/1000]\n",
            "INFO:tensorflow:Evaluation [500/1000]\n",
            "INFO:tensorflow:Evaluation [600/1000]\n",
            "INFO:tensorflow:Evaluation [700/1000]\n",
            "INFO:tensorflow:Evaluation [800/1000]\n",
            "INFO:tensorflow:Evaluation [900/1000]\n",
            "INFO:tensorflow:Evaluation [1000/1000]\n",
            "INFO:tensorflow:Finished evaluation at 2018-08-26-19:22:52\n",
            "INFO:tensorflow:Saving dict for global step 15000: average_loss = 51.937405, global_step = 15000, label/mean = 7.542691, loss = 51.937405, prediction/mean = 0.37253588\n",
            "INFO:tensorflow:Saving 'checkpoint_path' summary for global step 15000: /tmp/tmp8n4y8apg/model.ckpt-15000\n",
            "----------------------------------------------------------------------------------------------------\n",
            "****************************************************************************************************\n",
            "*Period[rmse training] 14 : 7.17\n",
            "*Period[rmse eval] 14 : 7.21\n",
            "****************************************************************************************************\n",
            "INFO:tensorflow:Calling model_fn.\n",
            "INFO:tensorflow:Done calling model_fn.\n",
            "INFO:tensorflow:Create CheckpointSaverHook.\n",
            "INFO:tensorflow:Graph was finalized.\n",
            "INFO:tensorflow:Restoring parameters from /tmp/tmp8n4y8apg/model.ckpt-15000\n",
            "INFO:tensorflow:Running local_init_op.\n",
            "INFO:tensorflow:Done running local_init_op.\n",
            "INFO:tensorflow:Saving checkpoints for 15000 into /tmp/tmp8n4y8apg/model.ckpt.\n",
            "INFO:tensorflow:loss = 48.31969, step = 15000\n",
            "INFO:tensorflow:global_step/sec: 353.569\n",
            "INFO:tensorflow:loss = 46.817055, step = 15100 (0.289 sec)\n",
            "INFO:tensorflow:global_step/sec: 418.668\n",
            "INFO:tensorflow:loss = 57.839005, step = 15200 (0.234 sec)\n",
            "INFO:tensorflow:global_step/sec: 423.928\n",
            "INFO:tensorflow:loss = 48.996174, step = 15300 (0.239 sec)\n",
            "INFO:tensorflow:global_step/sec: 384.537\n",
            "INFO:tensorflow:loss = 43.66852, step = 15400 (0.259 sec)\n",
            "INFO:tensorflow:global_step/sec: 404.297\n",
            "INFO:tensorflow:loss = 54.102905, step = 15500 (0.248 sec)\n",
            "INFO:tensorflow:global_step/sec: 417.828\n",
            "INFO:tensorflow:loss = 44.64683, step = 15600 (0.238 sec)\n",
            "INFO:tensorflow:global_step/sec: 424.985\n",
            "INFO:tensorflow:loss = 52.219055, step = 15700 (0.237 sec)\n",
            "INFO:tensorflow:global_step/sec: 411.573\n",
            "INFO:tensorflow:loss = 50.465828, step = 15800 (0.243 sec)\n",
            "INFO:tensorflow:global_step/sec: 371.373\n",
            "INFO:tensorflow:loss = 63.391865, step = 15900 (0.265 sec)\n",
            "INFO:tensorflow:Saving checkpoints for 16000 into /tmp/tmp8n4y8apg/model.ckpt.\n",
            "INFO:tensorflow:Loss for final step: 48.961708.\n",
            "----------------------------------------------------------------------------------------------------\n",
            "INFO:tensorflow:Calling model_fn.\n",
            "INFO:tensorflow:Done calling model_fn.\n",
            "INFO:tensorflow:Starting evaluation at 2018-08-26-19:22:57\n",
            "INFO:tensorflow:Graph was finalized.\n",
            "INFO:tensorflow:Restoring parameters from /tmp/tmp8n4y8apg/model.ckpt-16000\n",
            "INFO:tensorflow:Running local_init_op.\n",
            "INFO:tensorflow:Done running local_init_op.\n",
            "INFO:tensorflow:Evaluation [100/1000]\n",
            "INFO:tensorflow:Evaluation [200/1000]\n",
            "INFO:tensorflow:Evaluation [300/1000]\n",
            "INFO:tensorflow:Evaluation [400/1000]\n",
            "INFO:tensorflow:Evaluation [500/1000]\n",
            "INFO:tensorflow:Evaluation [600/1000]\n",
            "INFO:tensorflow:Evaluation [700/1000]\n",
            "INFO:tensorflow:Evaluation [800/1000]\n",
            "INFO:tensorflow:Evaluation [900/1000]\n",
            "INFO:tensorflow:Evaluation [1000/1000]\n",
            "INFO:tensorflow:Finished evaluation at 2018-08-26-19:22:59\n",
            "INFO:tensorflow:Saving dict for global step 16000: average_loss = 50.993755, global_step = 16000, label/mean = 7.501382, loss = 50.993755, prediction/mean = 0.39870462\n",
            "INFO:tensorflow:Saving 'checkpoint_path' summary for global step 16000: /tmp/tmp8n4y8apg/model.ckpt-16000\n",
            "INFO:tensorflow:Calling model_fn.\n",
            "INFO:tensorflow:Done calling model_fn.\n",
            "INFO:tensorflow:Starting evaluation at 2018-08-26-19:23:00\n",
            "INFO:tensorflow:Graph was finalized.\n",
            "INFO:tensorflow:Restoring parameters from /tmp/tmp8n4y8apg/model.ckpt-16000\n",
            "INFO:tensorflow:Running local_init_op.\n",
            "INFO:tensorflow:Done running local_init_op.\n",
            "INFO:tensorflow:Evaluation [100/1000]\n",
            "INFO:tensorflow:Evaluation [200/1000]\n",
            "INFO:tensorflow:Evaluation [300/1000]\n",
            "INFO:tensorflow:Evaluation [400/1000]\n",
            "INFO:tensorflow:Evaluation [500/1000]\n",
            "INFO:tensorflow:Evaluation [600/1000]\n",
            "INFO:tensorflow:Evaluation [700/1000]\n",
            "INFO:tensorflow:Evaluation [800/1000]\n",
            "INFO:tensorflow:Evaluation [900/1000]\n",
            "INFO:tensorflow:Evaluation [1000/1000]\n",
            "INFO:tensorflow:Finished evaluation at 2018-08-26-19:23:02\n",
            "INFO:tensorflow:Saving dict for global step 16000: average_loss = 51.58224, global_step = 16000, label/mean = 7.542691, loss = 51.58224, prediction/mean = 0.39737177\n",
            "INFO:tensorflow:Saving 'checkpoint_path' summary for global step 16000: /tmp/tmp8n4y8apg/model.ckpt-16000\n",
            "----------------------------------------------------------------------------------------------------\n",
            "****************************************************************************************************\n",
            "*Period[rmse training] 15 : 7.14\n",
            "*Period[rmse eval] 15 : 7.18\n",
            "****************************************************************************************************\n",
            "INFO:tensorflow:Calling model_fn.\n",
            "INFO:tensorflow:Done calling model_fn.\n",
            "INFO:tensorflow:Create CheckpointSaverHook.\n",
            "INFO:tensorflow:Graph was finalized.\n",
            "INFO:tensorflow:Restoring parameters from /tmp/tmp8n4y8apg/model.ckpt-16000\n",
            "INFO:tensorflow:Running local_init_op.\n",
            "INFO:tensorflow:Done running local_init_op.\n",
            "INFO:tensorflow:Saving checkpoints for 16000 into /tmp/tmp8n4y8apg/model.ckpt.\n",
            "INFO:tensorflow:loss = 58.639816, step = 16000\n",
            "INFO:tensorflow:global_step/sec: 336.82\n",
            "INFO:tensorflow:loss = 45.646847, step = 16100 (0.298 sec)\n",
            "INFO:tensorflow:global_step/sec: 420.256\n",
            "INFO:tensorflow:loss = 52.104763, step = 16200 (0.238 sec)\n",
            "INFO:tensorflow:global_step/sec: 403.342\n",
            "INFO:tensorflow:loss = 49.194202, step = 16300 (0.248 sec)\n",
            "INFO:tensorflow:global_step/sec: 418.008\n",
            "INFO:tensorflow:loss = 45.44817, step = 16400 (0.243 sec)\n",
            "INFO:tensorflow:global_step/sec: 378.975\n",
            "INFO:tensorflow:loss = 62.122684, step = 16500 (0.262 sec)\n",
            "INFO:tensorflow:global_step/sec: 415.063\n",
            "INFO:tensorflow:loss = 45.909847, step = 16600 (0.239 sec)\n",
            "INFO:tensorflow:global_step/sec: 420.031\n",
            "INFO:tensorflow:loss = 58.18951, step = 16700 (0.238 sec)\n",
            "INFO:tensorflow:global_step/sec: 430.178\n",
            "INFO:tensorflow:loss = 43.137386, step = 16800 (0.235 sec)\n",
            "INFO:tensorflow:global_step/sec: 419.484\n",
            "INFO:tensorflow:loss = 44.328094, step = 16900 (0.239 sec)\n",
            "INFO:tensorflow:Saving checkpoints for 17000 into /tmp/tmp8n4y8apg/model.ckpt.\n",
            "INFO:tensorflow:Loss for final step: 35.8524.\n",
            "----------------------------------------------------------------------------------------------------\n",
            "INFO:tensorflow:Calling model_fn.\n",
            "INFO:tensorflow:Done calling model_fn.\n",
            "INFO:tensorflow:Starting evaluation at 2018-08-26-19:23:07\n",
            "INFO:tensorflow:Graph was finalized.\n",
            "INFO:tensorflow:Restoring parameters from /tmp/tmp8n4y8apg/model.ckpt-17000\n",
            "INFO:tensorflow:Running local_init_op.\n",
            "INFO:tensorflow:Done running local_init_op.\n",
            "INFO:tensorflow:Evaluation [100/1000]\n",
            "INFO:tensorflow:Evaluation [200/1000]\n",
            "INFO:tensorflow:Evaluation [300/1000]\n",
            "INFO:tensorflow:Evaluation [400/1000]\n",
            "INFO:tensorflow:Evaluation [500/1000]\n",
            "INFO:tensorflow:Evaluation [600/1000]\n",
            "INFO:tensorflow:Evaluation [700/1000]\n",
            "INFO:tensorflow:Evaluation [800/1000]\n",
            "INFO:tensorflow:Evaluation [900/1000]\n",
            "INFO:tensorflow:Evaluation [1000/1000]\n",
            "INFO:tensorflow:Finished evaluation at 2018-08-26-19:23:09\n",
            "INFO:tensorflow:Saving dict for global step 17000: average_loss = 50.64031, global_step = 17000, label/mean = 7.501382, loss = 50.64031, prediction/mean = 0.42362395\n",
            "INFO:tensorflow:Saving 'checkpoint_path' summary for global step 17000: /tmp/tmp8n4y8apg/model.ckpt-17000\n",
            "INFO:tensorflow:Calling model_fn.\n",
            "INFO:tensorflow:Done calling model_fn.\n",
            "INFO:tensorflow:Starting evaluation at 2018-08-26-19:23:10\n",
            "INFO:tensorflow:Graph was finalized.\n",
            "INFO:tensorflow:Restoring parameters from /tmp/tmp8n4y8apg/model.ckpt-17000\n",
            "INFO:tensorflow:Running local_init_op.\n",
            "INFO:tensorflow:Done running local_init_op.\n",
            "INFO:tensorflow:Evaluation [100/1000]\n",
            "INFO:tensorflow:Evaluation [200/1000]\n",
            "INFO:tensorflow:Evaluation [300/1000]\n",
            "INFO:tensorflow:Evaluation [400/1000]\n",
            "INFO:tensorflow:Evaluation [500/1000]\n",
            "INFO:tensorflow:Evaluation [600/1000]\n",
            "INFO:tensorflow:Evaluation [700/1000]\n",
            "INFO:tensorflow:Evaluation [800/1000]\n",
            "INFO:tensorflow:Evaluation [900/1000]\n",
            "INFO:tensorflow:Evaluation [1000/1000]\n",
            "INFO:tensorflow:Finished evaluation at 2018-08-26-19:23:12\n",
            "INFO:tensorflow:Saving dict for global step 17000: average_loss = 51.228348, global_step = 17000, label/mean = 7.542691, loss = 51.228348, prediction/mean = 0.42220768\n",
            "INFO:tensorflow:Saving 'checkpoint_path' summary for global step 17000: /tmp/tmp8n4y8apg/model.ckpt-17000\n",
            "----------------------------------------------------------------------------------------------------\n",
            "****************************************************************************************************\n",
            "*Period[rmse training] 16 : 7.12\n",
            "*Period[rmse eval] 16 : 7.16\n",
            "****************************************************************************************************\n",
            "INFO:tensorflow:Calling model_fn.\n",
            "INFO:tensorflow:Done calling model_fn.\n",
            "INFO:tensorflow:Create CheckpointSaverHook.\n",
            "INFO:tensorflow:Graph was finalized.\n",
            "INFO:tensorflow:Restoring parameters from /tmp/tmp8n4y8apg/model.ckpt-17000\n",
            "INFO:tensorflow:Running local_init_op.\n",
            "INFO:tensorflow:Done running local_init_op.\n",
            "INFO:tensorflow:Saving checkpoints for 17000 into /tmp/tmp8n4y8apg/model.ckpt.\n",
            "INFO:tensorflow:loss = 60.736977, step = 17000\n",
            "INFO:tensorflow:global_step/sec: 351.258\n",
            "INFO:tensorflow:loss = 46.608994, step = 17100 (0.287 sec)\n",
            "INFO:tensorflow:global_step/sec: 382.363\n",
            "INFO:tensorflow:loss = 51.721798, step = 17200 (0.262 sec)\n",
            "INFO:tensorflow:global_step/sec: 422.709\n",
            "INFO:tensorflow:loss = 49.290134, step = 17300 (0.238 sec)\n",
            "INFO:tensorflow:global_step/sec: 430.268\n",
            "INFO:tensorflow:loss = 66.71506, step = 17400 (0.233 sec)\n",
            "INFO:tensorflow:global_step/sec: 384.364\n",
            "INFO:tensorflow:loss = 56.597813, step = 17500 (0.262 sec)\n",
            "INFO:tensorflow:global_step/sec: 418.972\n",
            "INFO:tensorflow:loss = 34.9394, step = 17600 (0.235 sec)\n",
            "INFO:tensorflow:global_step/sec: 408.235\n",
            "INFO:tensorflow:loss = 19.535925, step = 17700 (0.248 sec)\n",
            "INFO:tensorflow:global_step/sec: 423.009\n",
            "INFO:tensorflow:loss = 29.83347, step = 17800 (0.236 sec)\n",
            "INFO:tensorflow:global_step/sec: 415.278\n",
            "INFO:tensorflow:loss = 53.112095, step = 17900 (0.241 sec)\n",
            "INFO:tensorflow:Saving checkpoints for 18000 into /tmp/tmp8n4y8apg/model.ckpt.\n",
            "INFO:tensorflow:Loss for final step: 59.772224.\n",
            "----------------------------------------------------------------------------------------------------\n",
            "INFO:tensorflow:Calling model_fn.\n",
            "INFO:tensorflow:Done calling model_fn.\n",
            "INFO:tensorflow:Starting evaluation at 2018-08-26-19:23:17\n",
            "INFO:tensorflow:Graph was finalized.\n",
            "INFO:tensorflow:Restoring parameters from /tmp/tmp8n4y8apg/model.ckpt-18000\n",
            "INFO:tensorflow:Running local_init_op.\n",
            "INFO:tensorflow:Done running local_init_op.\n",
            "INFO:tensorflow:Evaluation [100/1000]\n",
            "INFO:tensorflow:Evaluation [200/1000]\n",
            "INFO:tensorflow:Evaluation [300/1000]\n",
            "INFO:tensorflow:Evaluation [400/1000]\n",
            "INFO:tensorflow:Evaluation [500/1000]\n",
            "INFO:tensorflow:Evaluation [600/1000]\n",
            "INFO:tensorflow:Evaluation [700/1000]\n",
            "INFO:tensorflow:Evaluation [800/1000]\n",
            "INFO:tensorflow:Evaluation [900/1000]\n",
            "INFO:tensorflow:Evaluation [1000/1000]\n",
            "INFO:tensorflow:Finished evaluation at 2018-08-26-19:23:19\n",
            "INFO:tensorflow:Saving dict for global step 18000: average_loss = 50.288197, global_step = 18000, label/mean = 7.501382, loss = 50.288197, prediction/mean = 0.4485437\n",
            "INFO:tensorflow:Saving 'checkpoint_path' summary for global step 18000: /tmp/tmp8n4y8apg/model.ckpt-18000\n",
            "INFO:tensorflow:Calling model_fn.\n",
            "INFO:tensorflow:Done calling model_fn.\n",
            "INFO:tensorflow:Starting evaluation at 2018-08-26-19:23:19\n",
            "INFO:tensorflow:Graph was finalized.\n",
            "INFO:tensorflow:Restoring parameters from /tmp/tmp8n4y8apg/model.ckpt-18000\n",
            "INFO:tensorflow:Running local_init_op.\n",
            "INFO:tensorflow:Done running local_init_op.\n",
            "INFO:tensorflow:Evaluation [100/1000]\n",
            "INFO:tensorflow:Evaluation [200/1000]\n",
            "INFO:tensorflow:Evaluation [300/1000]\n",
            "INFO:tensorflow:Evaluation [400/1000]\n",
            "INFO:tensorflow:Evaluation [500/1000]\n",
            "INFO:tensorflow:Evaluation [600/1000]\n",
            "INFO:tensorflow:Evaluation [700/1000]\n",
            "INFO:tensorflow:Evaluation [800/1000]\n",
            "INFO:tensorflow:Evaluation [900/1000]\n",
            "INFO:tensorflow:Evaluation [1000/1000]\n",
            "INFO:tensorflow:Finished evaluation at 2018-08-26-19:23:22\n",
            "INFO:tensorflow:Saving dict for global step 18000: average_loss = 50.875656, global_step = 18000, label/mean = 7.542691, loss = 50.875656, prediction/mean = 0.44704422\n",
            "INFO:tensorflow:Saving 'checkpoint_path' summary for global step 18000: /tmp/tmp8n4y8apg/model.ckpt-18000\n",
            "----------------------------------------------------------------------------------------------------\n",
            "****************************************************************************************************\n",
            "*Period[rmse training] 17 : 7.09\n",
            "*Period[rmse eval] 17 : 7.13\n",
            "****************************************************************************************************\n",
            "INFO:tensorflow:Calling model_fn.\n",
            "INFO:tensorflow:Done calling model_fn.\n",
            "INFO:tensorflow:Create CheckpointSaverHook.\n",
            "INFO:tensorflow:Graph was finalized.\n",
            "INFO:tensorflow:Restoring parameters from /tmp/tmp8n4y8apg/model.ckpt-18000\n",
            "INFO:tensorflow:Running local_init_op.\n",
            "INFO:tensorflow:Done running local_init_op.\n",
            "INFO:tensorflow:Saving checkpoints for 18000 into /tmp/tmp8n4y8apg/model.ckpt.\n",
            "INFO:tensorflow:loss = 55.83529, step = 18000\n",
            "INFO:tensorflow:global_step/sec: 327.647\n",
            "INFO:tensorflow:loss = 50.51118, step = 18100 (0.308 sec)\n",
            "INFO:tensorflow:global_step/sec: 417.784\n",
            "INFO:tensorflow:loss = 31.827475, step = 18200 (0.238 sec)\n",
            "INFO:tensorflow:global_step/sec: 420.056\n",
            "INFO:tensorflow:loss = 52.789223, step = 18300 (0.242 sec)\n",
            "INFO:tensorflow:global_step/sec: 419.237\n",
            "INFO:tensorflow:loss = 50.82366, step = 18400 (0.238 sec)\n",
            "INFO:tensorflow:global_step/sec: 407.829\n",
            "INFO:tensorflow:loss = 44.162495, step = 18500 (0.243 sec)\n",
            "INFO:tensorflow:global_step/sec: 388.052\n",
            "INFO:tensorflow:loss = 48.887093, step = 18600 (0.260 sec)\n",
            "INFO:tensorflow:global_step/sec: 416.935\n",
            "INFO:tensorflow:loss = 52.4266, step = 18700 (0.239 sec)\n",
            "INFO:tensorflow:global_step/sec: 421.483\n",
            "INFO:tensorflow:loss = 47.75849, step = 18800 (0.238 sec)\n",
            "INFO:tensorflow:global_step/sec: 417.215\n",
            "INFO:tensorflow:loss = 25.234148, step = 18900 (0.240 sec)\n",
            "INFO:tensorflow:Saving checkpoints for 19000 into /tmp/tmp8n4y8apg/model.ckpt.\n",
            "INFO:tensorflow:Loss for final step: 49.613422.\n",
            "----------------------------------------------------------------------------------------------------\n",
            "INFO:tensorflow:Calling model_fn.\n",
            "INFO:tensorflow:Done calling model_fn.\n",
            "INFO:tensorflow:Starting evaluation at 2018-08-26-19:23:26\n",
            "INFO:tensorflow:Graph was finalized.\n",
            "INFO:tensorflow:Restoring parameters from /tmp/tmp8n4y8apg/model.ckpt-19000\n",
            "INFO:tensorflow:Running local_init_op.\n",
            "INFO:tensorflow:Done running local_init_op.\n",
            "INFO:tensorflow:Evaluation [100/1000]\n",
            "INFO:tensorflow:Evaluation [200/1000]\n",
            "INFO:tensorflow:Evaluation [300/1000]\n",
            "INFO:tensorflow:Evaluation [400/1000]\n",
            "INFO:tensorflow:Evaluation [500/1000]\n",
            "INFO:tensorflow:Evaluation [600/1000]\n",
            "INFO:tensorflow:Evaluation [700/1000]\n",
            "INFO:tensorflow:Evaluation [800/1000]\n",
            "INFO:tensorflow:Evaluation [900/1000]\n",
            "INFO:tensorflow:Evaluation [1000/1000]\n",
            "INFO:tensorflow:Finished evaluation at 2018-08-26-19:23:29\n",
            "INFO:tensorflow:Saving dict for global step 19000: average_loss = 49.93728, global_step = 19000, label/mean = 7.501382, loss = 49.93728, prediction/mean = 0.4734624\n",
            "INFO:tensorflow:Saving 'checkpoint_path' summary for global step 19000: /tmp/tmp8n4y8apg/model.ckpt-19000\n",
            "INFO:tensorflow:Calling model_fn.\n",
            "INFO:tensorflow:Done calling model_fn.\n",
            "INFO:tensorflow:Starting evaluation at 2018-08-26-19:23:29\n",
            "INFO:tensorflow:Graph was finalized.\n",
            "INFO:tensorflow:Restoring parameters from /tmp/tmp8n4y8apg/model.ckpt-19000\n",
            "INFO:tensorflow:Running local_init_op.\n",
            "INFO:tensorflow:Done running local_init_op.\n",
            "INFO:tensorflow:Evaluation [100/1000]\n",
            "INFO:tensorflow:Evaluation [200/1000]\n",
            "INFO:tensorflow:Evaluation [300/1000]\n",
            "INFO:tensorflow:Evaluation [400/1000]\n",
            "INFO:tensorflow:Evaluation [500/1000]\n",
            "INFO:tensorflow:Evaluation [600/1000]\n",
            "INFO:tensorflow:Evaluation [700/1000]\n",
            "INFO:tensorflow:Evaluation [800/1000]\n",
            "INFO:tensorflow:Evaluation [900/1000]\n",
            "INFO:tensorflow:Evaluation [1000/1000]\n",
            "INFO:tensorflow:Finished evaluation at 2018-08-26-19:23:32\n",
            "INFO:tensorflow:Saving dict for global step 19000: average_loss = 50.524258, global_step = 19000, label/mean = 7.542691, loss = 50.524258, prediction/mean = 0.4718795\n",
            "INFO:tensorflow:Saving 'checkpoint_path' summary for global step 19000: /tmp/tmp8n4y8apg/model.ckpt-19000\n",
            "----------------------------------------------------------------------------------------------------\n",
            "****************************************************************************************************\n",
            "*Period[rmse training] 18 : 7.07\n",
            "*Period[rmse eval] 18 : 7.11\n",
            "****************************************************************************************************\n",
            "INFO:tensorflow:Calling model_fn.\n",
            "INFO:tensorflow:Done calling model_fn.\n",
            "INFO:tensorflow:Create CheckpointSaverHook.\n",
            "INFO:tensorflow:Graph was finalized.\n",
            "INFO:tensorflow:Restoring parameters from /tmp/tmp8n4y8apg/model.ckpt-19000\n",
            "INFO:tensorflow:Running local_init_op.\n",
            "INFO:tensorflow:Done running local_init_op.\n",
            "INFO:tensorflow:Saving checkpoints for 19000 into /tmp/tmp8n4y8apg/model.ckpt.\n",
            "INFO:tensorflow:loss = 62.71925, step = 19000\n",
            "INFO:tensorflow:global_step/sec: 345.871\n",
            "INFO:tensorflow:loss = 58.308754, step = 19100 (0.291 sec)\n",
            "INFO:tensorflow:global_step/sec: 381.575\n",
            "INFO:tensorflow:loss = 46.813095, step = 19200 (0.262 sec)\n",
            "INFO:tensorflow:global_step/sec: 412.25\n",
            "INFO:tensorflow:loss = 41.82938, step = 19300 (0.242 sec)\n",
            "INFO:tensorflow:global_step/sec: 405.168\n",
            "INFO:tensorflow:loss = 47.460205, step = 19400 (0.249 sec)\n",
            "INFO:tensorflow:global_step/sec: 414.101\n",
            "INFO:tensorflow:loss = 49.700478, step = 19500 (0.242 sec)\n",
            "INFO:tensorflow:global_step/sec: 419.646\n",
            "INFO:tensorflow:loss = 47.656067, step = 19600 (0.240 sec)\n",
            "INFO:tensorflow:global_step/sec: 387.487\n",
            "INFO:tensorflow:loss = 52.912853, step = 19700 (0.258 sec)\n",
            "INFO:tensorflow:global_step/sec: 414.373\n",
            "INFO:tensorflow:loss = 57.95566, step = 19800 (0.239 sec)\n",
            "INFO:tensorflow:global_step/sec: 423.03\n",
            "INFO:tensorflow:loss = 41.3221, step = 19900 (0.238 sec)\n",
            "INFO:tensorflow:Saving checkpoints for 20000 into /tmp/tmp8n4y8apg/model.ckpt.\n",
            "INFO:tensorflow:Loss for final step: 58.077255.\n",
            "----------------------------------------------------------------------------------------------------\n",
            "INFO:tensorflow:Calling model_fn.\n",
            "INFO:tensorflow:Done calling model_fn.\n",
            "INFO:tensorflow:Starting evaluation at 2018-08-26-19:23:36\n",
            "INFO:tensorflow:Graph was finalized.\n",
            "INFO:tensorflow:Restoring parameters from /tmp/tmp8n4y8apg/model.ckpt-20000\n",
            "INFO:tensorflow:Running local_init_op.\n",
            "INFO:tensorflow:Done running local_init_op.\n",
            "INFO:tensorflow:Evaluation [100/1000]\n",
            "INFO:tensorflow:Evaluation [200/1000]\n",
            "INFO:tensorflow:Evaluation [300/1000]\n",
            "INFO:tensorflow:Evaluation [400/1000]\n",
            "INFO:tensorflow:Evaluation [500/1000]\n",
            "INFO:tensorflow:Evaluation [600/1000]\n",
            "INFO:tensorflow:Evaluation [700/1000]\n",
            "INFO:tensorflow:Evaluation [800/1000]\n",
            "INFO:tensorflow:Evaluation [900/1000]\n",
            "INFO:tensorflow:Evaluation [1000/1000]\n",
            "INFO:tensorflow:Finished evaluation at 2018-08-26-19:23:39\n",
            "INFO:tensorflow:Saving dict for global step 20000: average_loss = 49.587612, global_step = 20000, label/mean = 7.501382, loss = 49.587612, prediction/mean = 0.4983823\n",
            "INFO:tensorflow:Saving 'checkpoint_path' summary for global step 20000: /tmp/tmp8n4y8apg/model.ckpt-20000\n",
            "INFO:tensorflow:Calling model_fn.\n",
            "INFO:tensorflow:Done calling model_fn.\n",
            "INFO:tensorflow:Starting evaluation at 2018-08-26-19:23:39\n",
            "INFO:tensorflow:Graph was finalized.\n",
            "INFO:tensorflow:Restoring parameters from /tmp/tmp8n4y8apg/model.ckpt-20000\n",
            "INFO:tensorflow:Running local_init_op.\n",
            "INFO:tensorflow:Done running local_init_op.\n",
            "INFO:tensorflow:Evaluation [100/1000]\n",
            "INFO:tensorflow:Evaluation [200/1000]\n",
            "INFO:tensorflow:Evaluation [300/1000]\n",
            "INFO:tensorflow:Evaluation [400/1000]\n",
            "INFO:tensorflow:Evaluation [500/1000]\n",
            "INFO:tensorflow:Evaluation [600/1000]\n",
            "INFO:tensorflow:Evaluation [700/1000]\n",
            "INFO:tensorflow:Evaluation [800/1000]\n",
            "INFO:tensorflow:Evaluation [900/1000]\n",
            "INFO:tensorflow:Evaluation [1000/1000]\n",
            "INFO:tensorflow:Finished evaluation at 2018-08-26-19:23:42\n",
            "INFO:tensorflow:Saving dict for global step 20000: average_loss = 50.174065, global_step = 20000, label/mean = 7.542691, loss = 50.174065, prediction/mean = 0.49671596\n",
            "INFO:tensorflow:Saving 'checkpoint_path' summary for global step 20000: /tmp/tmp8n4y8apg/model.ckpt-20000\n",
            "----------------------------------------------------------------------------------------------------\n",
            "****************************************************************************************************\n",
            "*Period[rmse training] 19 : 7.04\n",
            "*Period[rmse eval] 19 : 7.08\n",
            "****************************************************************************************************\n"
          ],
          "name": "stdout"
        }
      ]
    },
    {
      "metadata": {
        "id": "-2swRvPBdXvZ",
        "colab_type": "code",
        "colab": {
          "base_uri": "https://localhost:8080/",
          "height": 544
        },
        "outputId": "f81d7522-101d-42d9-a1d1-c8c5fee75a22"
      },
      "cell_type": "code",
      "source": [
        "test_predict = model.predict(input_fn=test_predict_input_fun)\n",
        "print(\"-\" * 100)\n",
        "metrics_test = model.evaluate(steps=STEPS, input_fn=test_predict_input_fun)\n",
        "print(\"-\" * 100)\n",
        "test_predict = np.array([item['predictions'][0] for item in test_predict])  \n",
        "#test_rmse = math.sqrt(\n",
        "#        sklearn.metrics.mean_squared_error(test_predict, y_test))\n",
        "test_rmse = np.sqrt(metrics_test['average_loss'])\n",
        "print(\"*\" * 100)\n",
        "print(\"*Final[rmse test] %02d : %0.2f\" % (period, test_rmse))\n",
        "print(\"*\" * 100)"
      ],
      "execution_count": 209,
      "outputs": [
        {
          "output_type": "stream",
          "text": [
            "----------------------------------------------------------------------------------------------------\n",
            "INFO:tensorflow:Calling model_fn.\n",
            "INFO:tensorflow:Done calling model_fn.\n",
            "INFO:tensorflow:Starting evaluation at 2018-08-26-19:23:43\n",
            "INFO:tensorflow:Graph was finalized.\n",
            "INFO:tensorflow:Restoring parameters from /tmp/tmp8n4y8apg/model.ckpt-20000\n",
            "INFO:tensorflow:Running local_init_op.\n",
            "INFO:tensorflow:Done running local_init_op.\n",
            "INFO:tensorflow:Evaluation [100/1000]\n",
            "INFO:tensorflow:Evaluation [200/1000]\n",
            "INFO:tensorflow:Evaluation [300/1000]\n",
            "INFO:tensorflow:Evaluation [400/1000]\n",
            "INFO:tensorflow:Evaluation [500/1000]\n",
            "INFO:tensorflow:Evaluation [600/1000]\n",
            "INFO:tensorflow:Evaluation [700/1000]\n",
            "INFO:tensorflow:Evaluation [800/1000]\n",
            "INFO:tensorflow:Evaluation [900/1000]\n",
            "INFO:tensorflow:Evaluation [1000/1000]\n",
            "INFO:tensorflow:Finished evaluation at 2018-08-26-19:23:45\n",
            "INFO:tensorflow:Saving dict for global step 20000: average_loss = 49.37174, global_step = 20000, label/mean = 7.4891133, loss = 49.37174, prediction/mean = 0.49897715\n",
            "INFO:tensorflow:Saving 'checkpoint_path' summary for global step 20000: /tmp/tmp8n4y8apg/model.ckpt-20000\n",
            "----------------------------------------------------------------------------------------------------\n",
            "INFO:tensorflow:Calling model_fn.\n",
            "INFO:tensorflow:Done calling model_fn.\n",
            "INFO:tensorflow:Graph was finalized.\n",
            "INFO:tensorflow:Restoring parameters from /tmp/tmp8n4y8apg/model.ckpt-20000\n",
            "INFO:tensorflow:Running local_init_op.\n",
            "INFO:tensorflow:Done running local_init_op.\n",
            "****************************************************************************************************\n",
            "*Final[rmse test] 19 : 7.03\n",
            "****************************************************************************************************\n"
          ],
          "name": "stdout"
        }
      ]
    },
    {
      "metadata": {
        "id": "GWsXI3wpeins",
        "colab_type": "code",
        "colab": {}
      },
      "cell_type": "code",
      "source": [
        "test_predict = np.array([item for item in test_predict])"
      ],
      "execution_count": 0,
      "outputs": []
    },
    {
      "metadata": {
        "id": "Pjeh9JkoXkuw",
        "colab_type": "code",
        "colab": {
          "base_uri": "https://localhost:8080/",
          "height": 51
        },
        "outputId": "4eb5383e-2a67-4837-c169-6b30ce2fe8f7"
      },
      "cell_type": "code",
      "source": [
        "test_predict"
      ],
      "execution_count": 211,
      "outputs": [
        {
          "output_type": "execute_result",
          "data": {
            "text/plain": [
              "array([0.48161405, 0.46592528, 0.45637417, ..., 0.48161405, 0.49570447,\n",
              "       0.49116516], dtype=float32)"
            ]
          },
          "metadata": {
            "tags": []
          },
          "execution_count": 211
        }
      ]
    }
  ]
}