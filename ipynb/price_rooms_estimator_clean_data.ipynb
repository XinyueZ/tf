{
  "nbformat": 4,
  "nbformat_minor": 0,
  "metadata": {
    "colab": {
      "name": "price_rooms_estimator_clean_data.ipynb",
      "version": "0.3.2",
      "provenance": [],
      "collapsed_sections": [],
      "include_colab_link": true
    },
    "kernelspec": {
      "name": "python3",
      "display_name": "Python 3"
    },
    "accelerator": "GPU"
  },
  "cells": [
    {
      "cell_type": "markdown",
      "metadata": {
        "id": "view-in-github",
        "colab_type": "text"
      },
      "source": [
        "[View in Colaboratory](https://colab.research.google.com/github/XinyueZ/tf/blob/master/ipynb/price_rooms_estimator_clean_data.ipynb)"
      ]
    },
    {
      "metadata": {
        "id": "IdHWJgQ0o-4T",
        "colab_type": "text"
      },
      "cell_type": "markdown",
      "source": [
        "# This case is a ML model about the linear relationship between \"average housing area\" and \"price per housing area\"."
      ]
    },
    {
      "metadata": {
        "id": "usywsvFLF2bo",
        "colab_type": "code",
        "colab": {}
      },
      "cell_type": "code",
      "source": [
        "import tensorflow as tf\n",
        "from tensorflow.python.data import Dataset\n",
        "import sklearn\n",
        "from sklearn.preprocessing import LabelEncoder\n",
        "import numpy as np\n",
        "import pandas as pd\n",
        "\n",
        "import math\n",
        "from IPython import display\n",
        "from matplotlib import cm\n",
        "from matplotlib import gridspec\n",
        "from matplotlib import pyplot as plt"
      ],
      "execution_count": 0,
      "outputs": []
    },
    {
      "metadata": {
        "id": "_rvAbHuFjCND",
        "colab_type": "code",
        "colab": {}
      },
      "cell_type": "code",
      "source": [
        "STEPS = 1000  # Steps of train loop. \n",
        "PERIODS = 20\n",
        "STEPS_PER_PERIOD = STEPS / PERIODS\n",
        "LEARNING_RATE = 0.000001\n",
        "BINS = 150"
      ],
      "execution_count": 0,
      "outputs": []
    },
    {
      "metadata": {
        "id": "M1XjwLH4P00k",
        "colab_type": "code",
        "colab": {}
      },
      "cell_type": "code",
      "source": [
        "tf.logging.set_verbosity(tf.logging.INFO)"
      ],
      "execution_count": 0,
      "outputs": []
    },
    {
      "metadata": {
        "id": "6gRBSBTfiO1x",
        "colab_type": "code",
        "colab": {
          "base_uri": "https://localhost:8080/",
          "height": 204
        },
        "outputId": "071441f2-fdda-4e5f-95c6-44f166e46ffc"
      },
      "cell_type": "code",
      "source": [
        "source = pd.read_csv(\"https://dl.dropbox.com/s/e2tcsgbcp2in5h5/price_rooms_area.tsv\", sep=\"\\t\")\n",
        "source.head()"
      ],
      "execution_count": 123,
      "outputs": [
        {
          "output_type": "execute_result",
          "data": {
            "text/html": [
              "<div>\n",
              "<style scoped>\n",
              "    .dataframe tbody tr th:only-of-type {\n",
              "        vertical-align: middle;\n",
              "    }\n",
              "\n",
              "    .dataframe tbody tr th {\n",
              "        vertical-align: top;\n",
              "    }\n",
              "\n",
              "    .dataframe thead th {\n",
              "        text-align: right;\n",
              "    }\n",
              "</style>\n",
              "<table border=\"1\" class=\"dataframe\">\n",
              "  <thead>\n",
              "    <tr style=\"text-align: right;\">\n",
              "      <th></th>\n",
              "      <th>PRICE</th>\n",
              "      <th>ROOMS</th>\n",
              "      <th>AREA</th>\n",
              "      <th>OBJECTCAT</th>\n",
              "      <th>MARKETINGTYPE</th>\n",
              "    </tr>\n",
              "  </thead>\n",
              "  <tbody>\n",
              "    <tr>\n",
              "      <th>0</th>\n",
              "      <td>5</td>\n",
              "      <td>0</td>\n",
              "      <td>249</td>\n",
              "      <td>Sonstiges Büro-/Praxisobjekt</td>\n",
              "      <td>Miete</td>\n",
              "    </tr>\n",
              "    <tr>\n",
              "      <th>1</th>\n",
              "      <td>595000</td>\n",
              "      <td>9</td>\n",
              "      <td>440</td>\n",
              "      <td>Besondere Immobilie</td>\n",
              "      <td>Kauf</td>\n",
              "    </tr>\n",
              "    <tr>\n",
              "      <th>2</th>\n",
              "      <td>199000</td>\n",
              "      <td>6</td>\n",
              "      <td>135,75</td>\n",
              "      <td>Stadthaus</td>\n",
              "      <td>Kauf</td>\n",
              "    </tr>\n",
              "    <tr>\n",
              "      <th>3</th>\n",
              "      <td>269000</td>\n",
              "      <td>9</td>\n",
              "      <td>203,57</td>\n",
              "      <td>Stadthaus</td>\n",
              "      <td>Kauf</td>\n",
              "    </tr>\n",
              "    <tr>\n",
              "      <th>4</th>\n",
              "      <td>562</td>\n",
              "      <td>3</td>\n",
              "      <td>63,15</td>\n",
              "      <td>Etagenwohnung</td>\n",
              "      <td>Miete</td>\n",
              "    </tr>\n",
              "  </tbody>\n",
              "</table>\n",
              "</div>"
            ],
            "text/plain": [
              "    PRICE ROOMS    AREA                     OBJECTCAT MARKETINGTYPE\n",
              "0       5     0     249  Sonstiges Büro-/Praxisobjekt         Miete\n",
              "1  595000     9     440           Besondere Immobilie          Kauf\n",
              "2  199000     6  135,75                     Stadthaus          Kauf\n",
              "3  269000     9  203,57                     Stadthaus          Kauf\n",
              "4     562     3   63,15                 Etagenwohnung         Miete"
            ]
          },
          "metadata": {
            "tags": []
          },
          "execution_count": 123
        }
      ]
    },
    {
      "metadata": {
        "id": "Szfk_L88s33Q",
        "colab_type": "code",
        "colab": {
          "base_uri": "https://localhost:8080/",
          "height": 173
        },
        "outputId": "ee943b99-e1c2-4817-bc3b-a801f5ed81f1"
      },
      "cell_type": "code",
      "source": [
        "source.describe()"
      ],
      "execution_count": 124,
      "outputs": [
        {
          "output_type": "execute_result",
          "data": {
            "text/html": [
              "<div>\n",
              "<style scoped>\n",
              "    .dataframe tbody tr th:only-of-type {\n",
              "        vertical-align: middle;\n",
              "    }\n",
              "\n",
              "    .dataframe tbody tr th {\n",
              "        vertical-align: top;\n",
              "    }\n",
              "\n",
              "    .dataframe thead th {\n",
              "        text-align: right;\n",
              "    }\n",
              "</style>\n",
              "<table border=\"1\" class=\"dataframe\">\n",
              "  <thead>\n",
              "    <tr style=\"text-align: right;\">\n",
              "      <th></th>\n",
              "      <th>PRICE</th>\n",
              "      <th>ROOMS</th>\n",
              "      <th>AREA</th>\n",
              "      <th>OBJECTCAT</th>\n",
              "      <th>MARKETINGTYPE</th>\n",
              "    </tr>\n",
              "  </thead>\n",
              "  <tbody>\n",
              "    <tr>\n",
              "      <th>count</th>\n",
              "      <td>299322</td>\n",
              "      <td>299322</td>\n",
              "      <td>299322</td>\n",
              "      <td>299322</td>\n",
              "      <td>299322</td>\n",
              "    </tr>\n",
              "    <tr>\n",
              "      <th>unique</th>\n",
              "      <td>33403</td>\n",
              "      <td>171</td>\n",
              "      <td>24271</td>\n",
              "      <td>124</td>\n",
              "      <td>5</td>\n",
              "    </tr>\n",
              "    <tr>\n",
              "      <th>top</th>\n",
              "      <td>250000</td>\n",
              "      <td>0</td>\n",
              "      <td>0</td>\n",
              "      <td>Wohnung</td>\n",
              "      <td>Kauf</td>\n",
              "    </tr>\n",
              "    <tr>\n",
              "      <th>freq</th>\n",
              "      <td>1549</td>\n",
              "      <td>71482</td>\n",
              "      <td>16285</td>\n",
              "      <td>52536</td>\n",
              "      <td>204503</td>\n",
              "    </tr>\n",
              "  </tbody>\n",
              "</table>\n",
              "</div>"
            ],
            "text/plain": [
              "         PRICE   ROOMS    AREA OBJECTCAT MARKETINGTYPE\n",
              "count   299322  299322  299322    299322        299322\n",
              "unique   33403     171   24271       124             5\n",
              "top     250000       0       0   Wohnung          Kauf\n",
              "freq      1549   71482   16285     52536        204503"
            ]
          },
          "metadata": {
            "tags": []
          },
          "execution_count": 124
        }
      ]
    },
    {
      "metadata": {
        "id": "kYEma2obtFq4",
        "colab_type": "code",
        "colab": {
          "base_uri": "https://localhost:8080/",
          "height": 2125
        },
        "outputId": "b33b8074-9e0a-4d4c-ae3f-31b6d6631226"
      },
      "cell_type": "code",
      "source": [
        "_object_category = source[\"OBJECTCAT\"]\n",
        "object_category = list()\n",
        "fn = lambda: [x for x in _object_category if not (x in object_category or object_category.append(x))]\n",
        "fn()\n",
        "object_category"
      ],
      "execution_count": 125,
      "outputs": [
        {
          "output_type": "execute_result",
          "data": {
            "text/plain": [
              "['Sonstiges Büro-/Praxisobjekt',\n",
              " 'Besondere Immobilie',\n",
              " 'Stadthaus',\n",
              " 'Etagenwohnung',\n",
              " 'Doppelhaushälfte',\n",
              " 'Sonstiges Haus',\n",
              " 'Bürofläche',\n",
              " 'Wohnung',\n",
              " 'Verkaufsfläche',\n",
              " 'Wohngrundstück',\n",
              " 'Einfamilienhaus',\n",
              " 'Dachgeschosswohnung',\n",
              " 'Erdgeschosswohnung',\n",
              " 'Landhaus',\n",
              " 'Apartment',\n",
              " 'Zweifamilienhaus',\n",
              " 'Bürohaus',\n",
              " 'Ladenlokal',\n",
              " 'Gastronomie',\n",
              " 'Bauernhaus',\n",
              " 'Villa',\n",
              " 'Bungalow',\n",
              " 'Garage',\n",
              " 'Sonstige Land- und Forstwirtschaft',\n",
              " 'Penthouse',\n",
              " 'Mehrfamilienhaus',\n",
              " 'Maisonette',\n",
              " 'Praxisfläche',\n",
              " 'Stellplatz',\n",
              " 'Haus',\n",
              " 'Reihenmittelhaus',\n",
              " 'Tiefgaragenstellplatz',\n",
              " 'Zimmer',\n",
              " 'Rustico',\n",
              " 'Praxishaus',\n",
              " 'Wohnanlage',\n",
              " 'Schloss',\n",
              " 'Reihenendhaus',\n",
              " 'Lagerfläche',\n",
              " 'Halle',\n",
              " 'Wohngemeinschaft',\n",
              " 'Sonstiges Renditeobjekt',\n",
              " 'Geschäftshaus',\n",
              " 'Werkstatt',\n",
              " 'Wohn- und Geschäftshaus',\n",
              " 'Architektenhaus',\n",
              " 'Gewerbegrundstück',\n",
              " 'Einzelhandelsladen',\n",
              " 'Hotel/Pension',\n",
              " 'Praxis',\n",
              " 'Kiosk',\n",
              " 'Restaurant',\n",
              " 'Produktionsfläche',\n",
              " 'Loft/Atelier',\n",
              " 'Ausstellungsfläche',\n",
              " 'Café',\n",
              " 'Gewerbe allgemein',\n",
              " 'Jagd- und Forstwirtschaft',\n",
              " 'Gastronomie und Wohnung',\n",
              " 'Bauernhof',\n",
              " 'Chalet',\n",
              " 'Industriehalle',\n",
              " 'Bürozentrum',\n",
              " 'Aussiedlerhof',\n",
              " 'Lager',\n",
              " 'Finca',\n",
              " 'Herrenhaus',\n",
              " 'Pflegeheim',\n",
              " 'Loft-Studio-Atelier',\n",
              " 'Mehrgenerationenhaus',\n",
              " 'Teich- und Fischwirtschaft',\n",
              " 'Souterrainwohnung',\n",
              " 'Reihenhaus',\n",
              " 'Lager mit Freifläche',\n",
              " 'Reitanlage/Gestüt',\n",
              " 'Bürogebäude',\n",
              " 'Duplex-Tiefgaragenstellplatz',\n",
              " 'Speditionslager',\n",
              " 'Kühlhaus',\n",
              " 'Verbrauchermarkt',\n",
              " 'Industrieanlage',\n",
              " 'Servicefläche',\n",
              " 'Ackerbau',\n",
              " 'SB-Markt',\n",
              " 'Freizeitgrundstück',\n",
              " 'Barbetrieb',\n",
              " 'Ferienhaus',\n",
              " 'Einkaufszentrum',\n",
              " 'Carport',\n",
              " 'Gewerbefläche',\n",
              " 'Doppelgarage',\n",
              " 'Freifläche',\n",
              " 'Gaststätte',\n",
              " 'Wohnhaus mit Gewerbe',\n",
              " 'Ferienwohnung',\n",
              " 'Reiheneckhaus',\n",
              " 'Gartenbau',\n",
              " 'Seniorenresidenz',\n",
              " 'Landwirtschaftlicher Betrieb',\n",
              " 'Sonstige Wohnung',\n",
              " 'Anwesen',\n",
              " 'Weinbau/Weingut',\n",
              " 'Sondernutzung',\n",
              " 'Sonstiges Grundstück',\n",
              " 'Hochregallager',\n",
              " 'Halle mit Produktion',\n",
              " 'Diskothek',\n",
              " 'Resthof',\n",
              " 'Land- und Forstwirtschaft',\n",
              " 'Hotelanwesen',\n",
              " 'Galeriewohnung',\n",
              " 'Waren-/Kaufhaus',\n",
              " 'Scheune',\n",
              " 'Freizeitanlage',\n",
              " 'Factory Outlet',\n",
              " 'Ferienbungalows',\n",
              " 'Freizeit allgemein',\n",
              " 'Gewerbepark',\n",
              " 'Sportanlage',\n",
              " 'Sonstige Stellmöglichkeit',\n",
              " 'Appartementhaus',\n",
              " 'Reetdachhaus',\n",
              " 'Reiterhof',\n",
              " 'Hof/Mühle']"
            ]
          },
          "metadata": {
            "tags": []
          },
          "execution_count": 125
        }
      ]
    },
    {
      "metadata": {
        "id": "WohcWzXppE-B",
        "colab_type": "text"
      },
      "cell_type": "markdown",
      "source": [
        "# Clean the data-source\n",
        "- Remove rows containing *null*\n",
        "- Remove rows containing *N/A*\n",
        "- Add New data columns: \"Average area per room\", \"Average room per area\" , \"per area price\".\n",
        "- Clean new added columns"
      ]
    },
    {
      "metadata": {
        "id": "BOmAzUQfzIvs",
        "colab_type": "code",
        "colab": {}
      },
      "cell_type": "code",
      "source": [
        "def clean_data(source):\n",
        "  df = source\n",
        "  \n",
        "  # Remove null rows\n",
        "  df = df[pd.notnull(df[\"PRICE\"])]\n",
        "  df = df[pd.notnull(df[\"ROOMS\"])]\n",
        "  df = df[pd.notnull(df[\"AREA\"])]\n",
        "  \n",
        "  # Remove useless columns\n",
        "  df = df[~df[\"MARKETINGTYPE\"].isin([\"Miete\"])]\n",
        "  df = df.drop([\"MARKETINGTYPE\"], axis=1)\n",
        "  cat = df[[\"OBJECTCAT\"]]\n",
        "  df = df.drop([\"OBJECTCAT\"], axis=1)\n",
        "  \n",
        "  # Convert all strings to numeric\n",
        "  df = df.apply(lambda x: pd.to_numeric(x.astype(str).str.replace(',',''), errors='coerce'))\n",
        "  df = pd.concat([df, cat], axis=1)\n",
        "\n",
        "  # Remove rows containing a \"0\", i.e price = 0 or rooms = 0 \n",
        "  df = df[(df[[\"PRICE\", \"ROOMS\",\"AREA\"]] > 0).all(axis=1)]\n",
        " \n",
        "  # Remove rows containing N/A \n",
        "  df = df[pd.notna(df[\"PRICE\"])]\n",
        "  df = df[pd.notna(df[\"ROOMS\"])]\n",
        "  df = df[pd.notna(df[\"AREA\"])]\n",
        "  df = df[pd.notna(df[\"OBJECTCAT\"])]\n",
        "\n",
        "  # Insert new column of \"price of pro-area\"\n",
        "  df.insert(1, \"PRICE_PRO_AREA\", df[\"PRICE\"] / df[\"AREA\"]) \n",
        "  df = df[~(df[\"PRICE_PRO_AREA\"] < 5)]\n",
        "  #df[\"PRICE_PRO_AREA\"] = df[\"PRICE_PRO_AREA\"] / 1000 #Scale -1000 for easy demo.\n",
        "  df[\"PRICE_PRO_AREA\"] = np.log(df[\"PRICE_PRO_AREA\"])\n",
        "  df = df[pd.notnull(df[\"PRICE_PRO_AREA\"])]\n",
        "  df = df[pd.notna(df[\"PRICE_PRO_AREA\"])]\n",
        "    \n",
        "  # Insert new column of \"area of each room\"\n",
        "  df.insert(4, \"AREA_PRO_ROOM\", df[\"AREA\"] / df[\"ROOMS\"]) \n",
        "  df = df[~(df[\"AREA_PRO_ROOM\"] < 1)]\n",
        "  df[\"AREA_PRO_ROOM\"] = np.log(df[\"AREA_PRO_ROOM\"])\n",
        "  df = df[pd.notnull(df[\"AREA_PRO_ROOM\"])]\n",
        "  df = df[pd.notna(df[\"AREA_PRO_ROOM\"])]\n",
        "  \n",
        "  # Insert new column of \"room of each area\"\n",
        "  df.insert(5, \"ROOM_PRO_AREA\", df[\"ROOMS\"] / df[\"AREA\"]) \n",
        "  df[\"ROOM_PRO_AREA\"] = np.log(df[\"ROOM_PRO_AREA\"])\n",
        "  df = df[pd.notnull(df[\"ROOM_PRO_AREA\"])]\n",
        "  df = df[pd.notna(df[\"ROOM_PRO_AREA\"])]\n",
        "  \n",
        "  return df"
      ],
      "execution_count": 0,
      "outputs": []
    },
    {
      "metadata": {
        "id": "59c_lb5i3aTH",
        "colab_type": "code",
        "colab": {}
      },
      "cell_type": "code",
      "source": [
        "df = clean_data(source)"
      ],
      "execution_count": 0,
      "outputs": []
    },
    {
      "metadata": {
        "id": "SN-xnRxjzT2T",
        "colab_type": "code",
        "colab": {
          "base_uri": "https://localhost:8080/",
          "height": 204
        },
        "outputId": "b085ecf8-532f-4327-a1ba-9719c5e27b20"
      },
      "cell_type": "code",
      "source": [
        "df.head()"
      ],
      "execution_count": 128,
      "outputs": [
        {
          "output_type": "execute_result",
          "data": {
            "text/html": [
              "<div>\n",
              "<style scoped>\n",
              "    .dataframe tbody tr th:only-of-type {\n",
              "        vertical-align: middle;\n",
              "    }\n",
              "\n",
              "    .dataframe tbody tr th {\n",
              "        vertical-align: top;\n",
              "    }\n",
              "\n",
              "    .dataframe thead th {\n",
              "        text-align: right;\n",
              "    }\n",
              "</style>\n",
              "<table border=\"1\" class=\"dataframe\">\n",
              "  <thead>\n",
              "    <tr style=\"text-align: right;\">\n",
              "      <th></th>\n",
              "      <th>PRICE</th>\n",
              "      <th>PRICE_PRO_AREA</th>\n",
              "      <th>ROOMS</th>\n",
              "      <th>AREA</th>\n",
              "      <th>AREA_PRO_ROOM</th>\n",
              "      <th>ROOM_PRO_AREA</th>\n",
              "      <th>OBJECTCAT</th>\n",
              "    </tr>\n",
              "  </thead>\n",
              "  <tbody>\n",
              "    <tr>\n",
              "      <th>1</th>\n",
              "      <td>595000</td>\n",
              "      <td>7.209542</td>\n",
              "      <td>9</td>\n",
              "      <td>440</td>\n",
              "      <td>3.889550</td>\n",
              "      <td>-3.889550</td>\n",
              "      <td>Besondere Immobilie</td>\n",
              "    </tr>\n",
              "    <tr>\n",
              "      <th>2</th>\n",
              "      <td>199000</td>\n",
              "      <td>2.685075</td>\n",
              "      <td>6</td>\n",
              "      <td>13575</td>\n",
              "      <td>7.724226</td>\n",
              "      <td>-7.724226</td>\n",
              "      <td>Stadthaus</td>\n",
              "    </tr>\n",
              "    <tr>\n",
              "      <th>3</th>\n",
              "      <td>269000</td>\n",
              "      <td>2.581287</td>\n",
              "      <td>9</td>\n",
              "      <td>20357</td>\n",
              "      <td>7.723956</td>\n",
              "      <td>-7.723956</td>\n",
              "      <td>Stadthaus</td>\n",
              "    </tr>\n",
              "    <tr>\n",
              "      <th>5</th>\n",
              "      <td>299000</td>\n",
              "      <td>7.666556</td>\n",
              "      <td>5</td>\n",
              "      <td>140</td>\n",
              "      <td>3.332205</td>\n",
              "      <td>-3.332205</td>\n",
              "      <td>Doppelhaushälfte</td>\n",
              "    </tr>\n",
              "    <tr>\n",
              "      <th>6</th>\n",
              "      <td>685000</td>\n",
              "      <td>7.497003</td>\n",
              "      <td>8</td>\n",
              "      <td>380</td>\n",
              "      <td>3.860730</td>\n",
              "      <td>-3.860730</td>\n",
              "      <td>Sonstiges Haus</td>\n",
              "    </tr>\n",
              "  </tbody>\n",
              "</table>\n",
              "</div>"
            ],
            "text/plain": [
              "    PRICE  PRICE_PRO_AREA  ROOMS   AREA  AREA_PRO_ROOM  ROOM_PRO_AREA  \\\n",
              "1  595000        7.209542      9    440       3.889550      -3.889550   \n",
              "2  199000        2.685075      6  13575       7.724226      -7.724226   \n",
              "3  269000        2.581287      9  20357       7.723956      -7.723956   \n",
              "5  299000        7.666556      5    140       3.332205      -3.332205   \n",
              "6  685000        7.497003      8    380       3.860730      -3.860730   \n",
              "\n",
              "             OBJECTCAT  \n",
              "1  Besondere Immobilie  \n",
              "2            Stadthaus  \n",
              "3            Stadthaus  \n",
              "5     Doppelhaushälfte  \n",
              "6       Sonstiges Haus  "
            ]
          },
          "metadata": {
            "tags": []
          },
          "execution_count": 128
        }
      ]
    },
    {
      "metadata": {
        "id": "KWFBPC4uFQTd",
        "colab_type": "code",
        "colab": {
          "base_uri": "https://localhost:8080/",
          "height": 297
        },
        "outputId": "e929bf4e-6803-40df-accb-0af98fac7d86"
      },
      "cell_type": "code",
      "source": [
        "df.describe()"
      ],
      "execution_count": 129,
      "outputs": [
        {
          "output_type": "execute_result",
          "data": {
            "text/html": [
              "<div>\n",
              "<style scoped>\n",
              "    .dataframe tbody tr th:only-of-type {\n",
              "        vertical-align: middle;\n",
              "    }\n",
              "\n",
              "    .dataframe tbody tr th {\n",
              "        vertical-align: top;\n",
              "    }\n",
              "\n",
              "    .dataframe thead th {\n",
              "        text-align: right;\n",
              "    }\n",
              "</style>\n",
              "<table border=\"1\" class=\"dataframe\">\n",
              "  <thead>\n",
              "    <tr style=\"text-align: right;\">\n",
              "      <th></th>\n",
              "      <th>PRICE</th>\n",
              "      <th>PRICE_PRO_AREA</th>\n",
              "      <th>ROOMS</th>\n",
              "      <th>AREA</th>\n",
              "      <th>AREA_PRO_ROOM</th>\n",
              "      <th>ROOM_PRO_AREA</th>\n",
              "    </tr>\n",
              "  </thead>\n",
              "  <tbody>\n",
              "    <tr>\n",
              "      <th>count</th>\n",
              "      <td>1.627420e+05</td>\n",
              "      <td>162742.000000</td>\n",
              "      <td>162742.000000</td>\n",
              "      <td>162742.000000</td>\n",
              "      <td>162742.000000</td>\n",
              "      <td>162742.000000</td>\n",
              "    </tr>\n",
              "    <tr>\n",
              "      <th>mean</th>\n",
              "      <td>9.698981e+05</td>\n",
              "      <td>6.878684</td>\n",
              "      <td>6.454314</td>\n",
              "      <td>1775.837958</td>\n",
              "      <td>4.085284</td>\n",
              "      <td>-4.085284</td>\n",
              "    </tr>\n",
              "    <tr>\n",
              "      <th>std</th>\n",
              "      <td>1.980465e+08</td>\n",
              "      <td>1.640987</td>\n",
              "      <td>9.938712</td>\n",
              "      <td>6026.061500</td>\n",
              "      <td>1.688530</td>\n",
              "      <td>1.688530</td>\n",
              "    </tr>\n",
              "    <tr>\n",
              "      <th>min</th>\n",
              "      <td>3.000000e+02</td>\n",
              "      <td>1.611324</td>\n",
              "      <td>1.000000</td>\n",
              "      <td>1.000000</td>\n",
              "      <td>0.000000</td>\n",
              "      <td>-11.526029</td>\n",
              "    </tr>\n",
              "    <tr>\n",
              "      <th>25%</th>\n",
              "      <td>1.460000e+05</td>\n",
              "      <td>6.596168</td>\n",
              "      <td>3.000000</td>\n",
              "      <td>98.000000</td>\n",
              "      <td>3.227725</td>\n",
              "      <td>-3.958907</td>\n",
              "    </tr>\n",
              "    <tr>\n",
              "      <th>50%</th>\n",
              "      <td>2.590000e+05</td>\n",
              "      <td>7.403077</td>\n",
              "      <td>4.000000</td>\n",
              "      <td>150.000000</td>\n",
              "      <td>3.455265</td>\n",
              "      <td>-3.455265</td>\n",
              "    </tr>\n",
              "    <tr>\n",
              "      <th>75%</th>\n",
              "      <td>4.259000e+05</td>\n",
              "      <td>7.876968</td>\n",
              "      <td>6.000000</td>\n",
              "      <td>346.000000</td>\n",
              "      <td>3.958907</td>\n",
              "      <td>-3.227725</td>\n",
              "    </tr>\n",
              "    <tr>\n",
              "      <th>max</th>\n",
              "      <td>7.987979e+10</td>\n",
              "      <td>20.960654</td>\n",
              "      <td>540.000000</td>\n",
              "      <td>841053.000000</td>\n",
              "      <td>11.526029</td>\n",
              "      <td>0.000000</td>\n",
              "    </tr>\n",
              "  </tbody>\n",
              "</table>\n",
              "</div>"
            ],
            "text/plain": [
              "              PRICE  PRICE_PRO_AREA          ROOMS           AREA  \\\n",
              "count  1.627420e+05   162742.000000  162742.000000  162742.000000   \n",
              "mean   9.698981e+05        6.878684       6.454314    1775.837958   \n",
              "std    1.980465e+08        1.640987       9.938712    6026.061500   \n",
              "min    3.000000e+02        1.611324       1.000000       1.000000   \n",
              "25%    1.460000e+05        6.596168       3.000000      98.000000   \n",
              "50%    2.590000e+05        7.403077       4.000000     150.000000   \n",
              "75%    4.259000e+05        7.876968       6.000000     346.000000   \n",
              "max    7.987979e+10       20.960654     540.000000  841053.000000   \n",
              "\n",
              "       AREA_PRO_ROOM  ROOM_PRO_AREA  \n",
              "count  162742.000000  162742.000000  \n",
              "mean        4.085284      -4.085284  \n",
              "std         1.688530       1.688530  \n",
              "min         0.000000     -11.526029  \n",
              "25%         3.227725      -3.958907  \n",
              "50%         3.455265      -3.455265  \n",
              "75%         3.958907      -3.227725  \n",
              "max        11.526029       0.000000  "
            ]
          },
          "metadata": {
            "tags": []
          },
          "execution_count": 129
        }
      ]
    },
    {
      "metadata": {
        "id": "iWczGGR1ElU-",
        "colab_type": "code",
        "colab": {
          "base_uri": "https://localhost:8080/",
          "height": 396
        },
        "outputId": "b622112b-e324-4aff-85b9-1f4709c1659a"
      },
      "cell_type": "code",
      "source": [
        "df.hist(\"AREA_PRO_ROOM\", bins=BINS)"
      ],
      "execution_count": 130,
      "outputs": [
        {
          "output_type": "execute_result",
          "data": {
            "text/plain": [
              "array([[<matplotlib.axes._subplots.AxesSubplot object at 0x7f735282d278>]],\n",
              "      dtype=object)"
            ]
          },
          "metadata": {
            "tags": []
          },
          "execution_count": 130
        },
        {
          "output_type": "display_data",
          "data": {
            "image/png": "[encoded data removed]",
            "text/plain": [
              "<matplotlib.figure.Figure at 0x7f7352825240>"
            ]
          },
          "metadata": {
            "tags": []
          }
        }
      ]
    },
    {
      "metadata": {
        "id": "AnZz6Is-qo8i",
        "colab_type": "code",
        "colab": {
          "base_uri": "https://localhost:8080/",
          "height": 396
        },
        "outputId": "0be8ac8e-ba55-4b6a-a92b-4dcea586a3a1"
      },
      "cell_type": "code",
      "source": [
        "df.hist(\"ROOM_PRO_AREA\", bins=BINS)"
      ],
      "execution_count": 131,
      "outputs": [
        {
          "output_type": "execute_result",
          "data": {
            "text/plain": [
              "array([[<matplotlib.axes._subplots.AxesSubplot object at 0x7f73527fa3c8>]],\n",
              "      dtype=object)"
            ]
          },
          "metadata": {
            "tags": []
          },
          "execution_count": 131
        },
        {
          "output_type": "display_data",
          "data": {
            "image/png": "[encoded data removed]",
            "text/plain": [
              "<matplotlib.figure.Figure at 0x7f735282df98>"
            ]
          },
          "metadata": {
            "tags": []
          }
        }
      ]
    },
    {
      "metadata": {
        "id": "tQlYLiSSEsmr",
        "colab_type": "code",
        "colab": {
          "base_uri": "https://localhost:8080/",
          "height": 396
        },
        "outputId": "5fac1b46-256b-46aa-beb5-4492c7cbd9d7"
      },
      "cell_type": "code",
      "source": [
        "df.hist(\"PRICE_PRO_AREA\", bins=BINS)"
      ],
      "execution_count": 132,
      "outputs": [
        {
          "output_type": "execute_result",
          "data": {
            "text/plain": [
              "array([[<matplotlib.axes._subplots.AxesSubplot object at 0x7f73524d9fd0>]],\n",
              "      dtype=object)"
            ]
          },
          "metadata": {
            "tags": []
          },
          "execution_count": 132
        },
        {
          "output_type": "display_data",
          "data": {
            "image/png": "[encoded data removed]",
            "text/plain": [
              "<matplotlib.figure.Figure at 0x7f73524fe5f8>"
            ]
          },
          "metadata": {
            "tags": []
          }
        }
      ]
    },
    {
      "metadata": {
        "id": "B7G_QUbGL0YZ",
        "colab_type": "code",
        "colab": {
          "base_uri": "https://localhost:8080/",
          "height": 378
        },
        "outputId": "e3dc2ab0-35a3-439e-805a-41f72b501c9d"
      },
      "cell_type": "code",
      "source": [
        "df.plot.scatter(x='AREA_PRO_ROOM', y='PRICE_PRO_AREA')"
      ],
      "execution_count": 133,
      "outputs": [
        {
          "output_type": "execute_result",
          "data": {
            "text/plain": [
              "<matplotlib.axes._subplots.AxesSubplot at 0x7f735242cbe0>"
            ]
          },
          "metadata": {
            "tags": []
          },
          "execution_count": 133
        },
        {
          "output_type": "display_data",
          "data": {
            "image/png": "[encoded data removed]",
            "text/plain": [
              "<matplotlib.figure.Figure at 0x7f7352466a90>"
            ]
          },
          "metadata": {
            "tags": []
          }
        }
      ]
    },
    {
      "metadata": {
        "id": "Iv6GptM8qwPh",
        "colab_type": "code",
        "colab": {
          "base_uri": "https://localhost:8080/",
          "height": 378
        },
        "outputId": "169575d9-f574-457e-b783-92792171a60a"
      },
      "cell_type": "code",
      "source": [
        "df.plot.scatter(x='ROOM_PRO_AREA', y='PRICE_PRO_AREA')"
      ],
      "execution_count": 134,
      "outputs": [
        {
          "output_type": "execute_result",
          "data": {
            "text/plain": [
              "<matplotlib.axes._subplots.AxesSubplot at 0x7f73522ed0b8>"
            ]
          },
          "metadata": {
            "tags": []
          },
          "execution_count": 134
        },
        {
          "output_type": "display_data",
          "data": {
            "image/png": "[encoded data removed]",
            "text/plain": [
              "<matplotlib.figure.Figure at 0x7f735228f208>"
            ]
          },
          "metadata": {
            "tags": []
          }
        }
      ]
    },
    {
      "metadata": {
        "id": "PWk86xsBDkch",
        "colab_type": "code",
        "colab": {}
      },
      "cell_type": "code",
      "source": [
        "def make_dataset_and_labels_and_class_num(df, label_name):\n",
        "  \"\"\"This method will prepare da, labels for train, evaluation, test.\n",
        "     Args:\n",
        "      df: DataFrame format of datasource.\n",
        "      label_name: The name of column in datasource which will be as target for train.\n",
        "     Return: \n",
        "       Tuple of (ds_train, ds_eval, ds_test, label_train, label_eval, label_test)\n",
        "      \n",
        "  \"\"\"\n",
        "  target_label_col = label_name\n",
        "   \n",
        "  random_seed = None\n",
        "  np.random.seed(random_seed)\n",
        "  \n",
        "  ds_train = df.sample(frac=0.7, random_state=random_seed)\n",
        "  label_train = ds_train[[target_label_col]]\n",
        "  \n",
        "  ds_rest = df.drop(ds_train.index)\n",
        "  ds_rest = ds_rest.copy()\n",
        "  \n",
        "  ds_eval = ds_rest.sample(frac=0.7, random_state=random_seed)\n",
        "  label_eval = ds_eval[[target_label_col]]\n",
        "  \n",
        "  ds_test = ds_rest.drop(ds_eval.index)\n",
        "  label_test = ds_test[[target_label_col]]\n",
        "  \n",
        "  return ds_train[[\"AREA_PRO_ROOM\", \"ROOM_PRO_AREA\", \"OBJECTCAT\"]], ds_eval[[\"AREA_PRO_ROOM\", \"ROOM_PRO_AREA\", \"OBJECTCAT\"]], ds_test[[\"AREA_PRO_ROOM\", \"ROOM_PRO_AREA\", \"OBJECTCAT\"]], label_train, label_eval, label_test"
      ],
      "execution_count": 0,
      "outputs": []
    },
    {
      "metadata": {
        "id": "NgkHsXdun_dO",
        "colab_type": "code",
        "colab": {}
      },
      "cell_type": "code",
      "source": [
        "x_train, x_eval, x_test, y_train, y_eval, y_test = make_dataset_and_labels_and_class_num(df, \"PRICE_PRO_AREA\")"
      ],
      "execution_count": 0,
      "outputs": []
    },
    {
      "metadata": {
        "id": "mgVYA89XoHIV",
        "colab_type": "code",
        "colab": {
          "base_uri": "https://localhost:8080/",
          "height": 297
        },
        "outputId": "cfdadb16-c931-43c7-e93f-c50de4255942"
      },
      "cell_type": "code",
      "source": [
        "x_train.describe()"
      ],
      "execution_count": 137,
      "outputs": [
        {
          "output_type": "execute_result",
          "data": {
            "text/html": [
              "<div>\n",
              "<style scoped>\n",
              "    .dataframe tbody tr th:only-of-type {\n",
              "        vertical-align: middle;\n",
              "    }\n",
              "\n",
              "    .dataframe tbody tr th {\n",
              "        vertical-align: top;\n",
              "    }\n",
              "\n",
              "    .dataframe thead th {\n",
              "        text-align: right;\n",
              "    }\n",
              "</style>\n",
              "<table border=\"1\" class=\"dataframe\">\n",
              "  <thead>\n",
              "    <tr style=\"text-align: right;\">\n",
              "      <th></th>\n",
              "      <th>AREA_PRO_ROOM</th>\n",
              "      <th>ROOM_PRO_AREA</th>\n",
              "    </tr>\n",
              "  </thead>\n",
              "  <tbody>\n",
              "    <tr>\n",
              "      <th>count</th>\n",
              "      <td>113919.000000</td>\n",
              "      <td>113919.000000</td>\n",
              "    </tr>\n",
              "    <tr>\n",
              "      <th>mean</th>\n",
              "      <td>4.088331</td>\n",
              "      <td>-4.088331</td>\n",
              "    </tr>\n",
              "    <tr>\n",
              "      <th>std</th>\n",
              "      <td>1.688997</td>\n",
              "      <td>1.688997</td>\n",
              "    </tr>\n",
              "    <tr>\n",
              "      <th>min</th>\n",
              "      <td>0.000000</td>\n",
              "      <td>-11.526029</td>\n",
              "    </tr>\n",
              "    <tr>\n",
              "      <th>25%</th>\n",
              "      <td>3.228826</td>\n",
              "      <td>-3.962716</td>\n",
              "    </tr>\n",
              "    <tr>\n",
              "      <th>50%</th>\n",
              "      <td>3.455265</td>\n",
              "      <td>-3.455265</td>\n",
              "    </tr>\n",
              "    <tr>\n",
              "      <th>75%</th>\n",
              "      <td>3.962716</td>\n",
              "      <td>-3.228826</td>\n",
              "    </tr>\n",
              "    <tr>\n",
              "      <th>max</th>\n",
              "      <td>11.526029</td>\n",
              "      <td>0.000000</td>\n",
              "    </tr>\n",
              "  </tbody>\n",
              "</table>\n",
              "</div>"
            ],
            "text/plain": [
              "       AREA_PRO_ROOM  ROOM_PRO_AREA\n",
              "count  113919.000000  113919.000000\n",
              "mean        4.088331      -4.088331\n",
              "std         1.688997       1.688997\n",
              "min         0.000000     -11.526029\n",
              "25%         3.228826      -3.962716\n",
              "50%         3.455265      -3.455265\n",
              "75%         3.962716      -3.228826\n",
              "max        11.526029       0.000000"
            ]
          },
          "metadata": {
            "tags": []
          },
          "execution_count": 137
        }
      ]
    },
    {
      "metadata": {
        "id": "1TR94pSWkeyR",
        "colab_type": "code",
        "colab": {
          "base_uri": "https://localhost:8080/",
          "height": 396
        },
        "outputId": "0d352ed4-1636-4b69-edff-1a338f6f1647"
      },
      "cell_type": "code",
      "source": [
        "x_train.hist(\"AREA_PRO_ROOM\", bins = BINS)"
      ],
      "execution_count": 138,
      "outputs": [
        {
          "output_type": "execute_result",
          "data": {
            "text/plain": [
              "array([[<matplotlib.axes._subplots.AxesSubplot object at 0x7f7352240c88>]],\n",
              "      dtype=object)"
            ]
          },
          "metadata": {
            "tags": []
          },
          "execution_count": 138
        },
        {
          "output_type": "display_data",
          "data": {
            "image/png": "[encoded data removed]",
            "text/plain": [
              "<matplotlib.figure.Figure at 0x7f73523479b0>"
            ]
          },
          "metadata": {
            "tags": []
          }
        }
      ]
    },
    {
      "metadata": {
        "id": "40ciIF3_oEYq",
        "colab_type": "code",
        "colab": {
          "base_uri": "https://localhost:8080/",
          "height": 396
        },
        "outputId": "1d957c7c-4ccd-4954-ed0a-1a2f2ff7ca67"
      },
      "cell_type": "code",
      "source": [
        "x_train.hist(\"ROOM_PRO_AREA\", bins = BINS)"
      ],
      "execution_count": 139,
      "outputs": [
        {
          "output_type": "execute_result",
          "data": {
            "text/plain": [
              "array([[<matplotlib.axes._subplots.AxesSubplot object at 0x7f73521b5080>]],\n",
              "      dtype=object)"
            ]
          },
          "metadata": {
            "tags": []
          },
          "execution_count": 139
        },
        {
          "output_type": "display_data",
          "data": {
            "image/png": "[encoded data removed]",
            "text/plain": [
              "<matplotlib.figure.Figure at 0x7f73521f5cf8>"
            ]
          },
          "metadata": {
            "tags": []
          }
        }
      ]
    },
    {
      "metadata": {
        "id": "rEwxanjWz1dm",
        "colab_type": "code",
        "colab": {
          "base_uri": "https://localhost:8080/",
          "height": 297
        },
        "outputId": "c9b5cdc2-8eea-49ec-9da1-dbe29681f7c8"
      },
      "cell_type": "code",
      "source": [
        "y_train.describe()"
      ],
      "execution_count": 140,
      "outputs": [
        {
          "output_type": "execute_result",
          "data": {
            "text/html": [
              "<div>\n",
              "<style scoped>\n",
              "    .dataframe tbody tr th:only-of-type {\n",
              "        vertical-align: middle;\n",
              "    }\n",
              "\n",
              "    .dataframe tbody tr th {\n",
              "        vertical-align: top;\n",
              "    }\n",
              "\n",
              "    .dataframe thead th {\n",
              "        text-align: right;\n",
              "    }\n",
              "</style>\n",
              "<table border=\"1\" class=\"dataframe\">\n",
              "  <thead>\n",
              "    <tr style=\"text-align: right;\">\n",
              "      <th></th>\n",
              "      <th>PRICE_PRO_AREA</th>\n",
              "    </tr>\n",
              "  </thead>\n",
              "  <tbody>\n",
              "    <tr>\n",
              "      <th>count</th>\n",
              "      <td>113919.000000</td>\n",
              "    </tr>\n",
              "    <tr>\n",
              "      <th>mean</th>\n",
              "      <td>6.875589</td>\n",
              "    </tr>\n",
              "    <tr>\n",
              "      <th>std</th>\n",
              "      <td>1.642083</td>\n",
              "    </tr>\n",
              "    <tr>\n",
              "      <th>min</th>\n",
              "      <td>1.611324</td>\n",
              "    </tr>\n",
              "    <tr>\n",
              "      <th>25%</th>\n",
              "      <td>6.591086</td>\n",
              "    </tr>\n",
              "    <tr>\n",
              "      <th>50%</th>\n",
              "      <td>7.402452</td>\n",
              "    </tr>\n",
              "    <tr>\n",
              "      <th>75%</th>\n",
              "      <td>7.873702</td>\n",
              "    </tr>\n",
              "    <tr>\n",
              "      <th>max</th>\n",
              "      <td>20.960654</td>\n",
              "    </tr>\n",
              "  </tbody>\n",
              "</table>\n",
              "</div>"
            ],
            "text/plain": [
              "       PRICE_PRO_AREA\n",
              "count   113919.000000\n",
              "mean         6.875589\n",
              "std          1.642083\n",
              "min          1.611324\n",
              "25%          6.591086\n",
              "50%          7.402452\n",
              "75%          7.873702\n",
              "max         20.960654"
            ]
          },
          "metadata": {
            "tags": []
          },
          "execution_count": 140
        }
      ]
    },
    {
      "metadata": {
        "id": "My61JIwfa_Sk",
        "colab_type": "code",
        "colab": {
          "base_uri": "https://localhost:8080/",
          "height": 396
        },
        "outputId": "4f6366fe-dce0-4580-8cc6-00fe6bce406e"
      },
      "cell_type": "code",
      "source": [
        "y_train.hist(\"PRICE_PRO_AREA\", bins=BINS)"
      ],
      "execution_count": 141,
      "outputs": [
        {
          "output_type": "execute_result",
          "data": {
            "text/plain": [
              "array([[<matplotlib.axes._subplots.AxesSubplot object at 0x7f7351fa8828>]],\n",
              "      dtype=object)"
            ]
          },
          "metadata": {
            "tags": []
          },
          "execution_count": 141
        },
        {
          "output_type": "display_data",
          "data": {
            "image/png": "[encoded data removed]",
            "text/plain": [
              "<matplotlib.figure.Figure at 0x7f7351ff4d68>"
            ]
          },
          "metadata": {
            "tags": []
          }
        }
      ]
    },
    {
      "metadata": {
        "id": "ZXP4bHjfeLMW",
        "colab_type": "code",
        "colab": {
          "base_uri": "https://localhost:8080/",
          "height": 378
        },
        "outputId": "249f0d0c-4e97-48c0-b52d-7dbaf6323992"
      },
      "cell_type": "code",
      "source": [
        "pd.concat([x_train, y_train], axis=1).plot.scatter(x='AREA_PRO_ROOM', y='PRICE_PRO_AREA') "
      ],
      "execution_count": 142,
      "outputs": [
        {
          "output_type": "execute_result",
          "data": {
            "text/plain": [
              "<matplotlib.axes._subplots.AxesSubplot at 0x7f7351e2a860>"
            ]
          },
          "metadata": {
            "tags": []
          },
          "execution_count": 142
        },
        {
          "output_type": "display_data",
          "data": {
            "image/png": "[encoded data removed]",
            "text/plain": [
              "<matplotlib.figure.Figure at 0x7f7351e57208>"
            ]
          },
          "metadata": {
            "tags": []
          }
        }
      ]
    },
    {
      "metadata": {
        "id": "TSkXonssq4zD",
        "colab_type": "code",
        "colab": {
          "base_uri": "https://localhost:8080/",
          "height": 378
        },
        "outputId": "66255093-fee7-4eda-db12-bc76270520be"
      },
      "cell_type": "code",
      "source": [
        "pd.concat([x_train, y_train], axis=1).plot.scatter(x='ROOM_PRO_AREA', y='PRICE_PRO_AREA') "
      ],
      "execution_count": 143,
      "outputs": [
        {
          "output_type": "execute_result",
          "data": {
            "text/plain": [
              "<matplotlib.axes._subplots.AxesSubplot at 0x7f7351dad6a0>"
            ]
          },
          "metadata": {
            "tags": []
          },
          "execution_count": 143
        },
        {
          "output_type": "display_data",
          "data": {
            "image/png": "[encoded data removed]",
            "text/plain": [
              "<matplotlib.figure.Figure at 0x7f7351c875f8>"
            ]
          },
          "metadata": {
            "tags": []
          }
        }
      ]
    },
    {
      "metadata": {
        "id": "oMlOOyPQoI1E",
        "colab_type": "code",
        "colab": {
          "base_uri": "https://localhost:8080/",
          "height": 297
        },
        "outputId": "bee22dc0-051f-4149-ea0b-d5ab58e25a55"
      },
      "cell_type": "code",
      "source": [
        "x_eval.describe()"
      ],
      "execution_count": 144,
      "outputs": [
        {
          "output_type": "execute_result",
          "data": {
            "text/html": [
              "<div>\n",
              "<style scoped>\n",
              "    .dataframe tbody tr th:only-of-type {\n",
              "        vertical-align: middle;\n",
              "    }\n",
              "\n",
              "    .dataframe tbody tr th {\n",
              "        vertical-align: top;\n",
              "    }\n",
              "\n",
              "    .dataframe thead th {\n",
              "        text-align: right;\n",
              "    }\n",
              "</style>\n",
              "<table border=\"1\" class=\"dataframe\">\n",
              "  <thead>\n",
              "    <tr style=\"text-align: right;\">\n",
              "      <th></th>\n",
              "      <th>AREA_PRO_ROOM</th>\n",
              "      <th>ROOM_PRO_AREA</th>\n",
              "    </tr>\n",
              "  </thead>\n",
              "  <tbody>\n",
              "    <tr>\n",
              "      <th>count</th>\n",
              "      <td>34176.000000</td>\n",
              "      <td>34176.000000</td>\n",
              "    </tr>\n",
              "    <tr>\n",
              "      <th>mean</th>\n",
              "      <td>4.081480</td>\n",
              "      <td>-4.081480</td>\n",
              "    </tr>\n",
              "    <tr>\n",
              "      <th>std</th>\n",
              "      <td>1.691293</td>\n",
              "      <td>1.691293</td>\n",
              "    </tr>\n",
              "    <tr>\n",
              "      <th>min</th>\n",
              "      <td>0.000000</td>\n",
              "      <td>-11.228677</td>\n",
              "    </tr>\n",
              "    <tr>\n",
              "      <th>25%</th>\n",
              "      <td>3.218876</td>\n",
              "      <td>-3.936716</td>\n",
              "    </tr>\n",
              "    <tr>\n",
              "      <th>50%</th>\n",
              "      <td>3.453157</td>\n",
              "      <td>-3.453157</td>\n",
              "    </tr>\n",
              "    <tr>\n",
              "      <th>75%</th>\n",
              "      <td>3.936716</td>\n",
              "      <td>-3.218876</td>\n",
              "    </tr>\n",
              "    <tr>\n",
              "      <th>max</th>\n",
              "      <td>11.228677</td>\n",
              "      <td>0.000000</td>\n",
              "    </tr>\n",
              "  </tbody>\n",
              "</table>\n",
              "</div>"
            ],
            "text/plain": [
              "       AREA_PRO_ROOM  ROOM_PRO_AREA\n",
              "count   34176.000000   34176.000000\n",
              "mean        4.081480      -4.081480\n",
              "std         1.691293       1.691293\n",
              "min         0.000000     -11.228677\n",
              "25%         3.218876      -3.936716\n",
              "50%         3.453157      -3.453157\n",
              "75%         3.936716      -3.218876\n",
              "max        11.228677       0.000000"
            ]
          },
          "metadata": {
            "tags": []
          },
          "execution_count": 144
        }
      ]
    },
    {
      "metadata": {
        "id": "tHRgt5Vyy3W1",
        "colab_type": "code",
        "colab": {
          "base_uri": "https://localhost:8080/",
          "height": 396
        },
        "outputId": "b257ce35-9c0e-487b-e4bd-5d6b3a3fc544"
      },
      "cell_type": "code",
      "source": [
        "x_eval.hist(\"AREA_PRO_ROOM\", bins = BINS)"
      ],
      "execution_count": 145,
      "outputs": [
        {
          "output_type": "execute_result",
          "data": {
            "text/plain": [
              "array([[<matplotlib.axes._subplots.AxesSubplot object at 0x7f7352095f98>]],\n",
              "      dtype=object)"
            ]
          },
          "metadata": {
            "tags": []
          },
          "execution_count": 145
        },
        {
          "output_type": "display_data",
          "data": {
            "image/png": "[encoded data removed]",
            "text/plain": [
              "<matplotlib.figure.Figure at 0x7f7351c07550>"
            ]
          },
          "metadata": {
            "tags": []
          }
        }
      ]
    },
    {
      "metadata": {
        "id": "TPe0uSuSoQ3G",
        "colab_type": "code",
        "colab": {
          "base_uri": "https://localhost:8080/",
          "height": 396
        },
        "outputId": "a4686ea2-5dcb-4bba-d351-6689bfb09269"
      },
      "cell_type": "code",
      "source": [
        "x_eval.hist(\"ROOM_PRO_AREA\", bins = BINS)"
      ],
      "execution_count": 146,
      "outputs": [
        {
          "output_type": "execute_result",
          "data": {
            "text/plain": [
              "array([[<matplotlib.axes._subplots.AxesSubplot object at 0x7f7351b7f5f8>]],\n",
              "      dtype=object)"
            ]
          },
          "metadata": {
            "tags": []
          },
          "execution_count": 146
        },
        {
          "output_type": "display_data",
          "data": {
            "image/png": "[encoded data removed]",
            "text/plain": [
              "<matplotlib.figure.Figure at 0x7f7351a3e860>"
            ]
          },
          "metadata": {
            "tags": []
          }
        }
      ]
    },
    {
      "metadata": {
        "id": "vuLSow1Sz71e",
        "colab_type": "code",
        "colab": {
          "base_uri": "https://localhost:8080/",
          "height": 297
        },
        "outputId": "1679d4f5-296c-48d6-bf5c-c0a252b1aadb"
      },
      "cell_type": "code",
      "source": [
        "y_eval.describe()"
      ],
      "execution_count": 147,
      "outputs": [
        {
          "output_type": "execute_result",
          "data": {
            "text/html": [
              "<div>\n",
              "<style scoped>\n",
              "    .dataframe tbody tr th:only-of-type {\n",
              "        vertical-align: middle;\n",
              "    }\n",
              "\n",
              "    .dataframe tbody tr th {\n",
              "        vertical-align: top;\n",
              "    }\n",
              "\n",
              "    .dataframe thead th {\n",
              "        text-align: right;\n",
              "    }\n",
              "</style>\n",
              "<table border=\"1\" class=\"dataframe\">\n",
              "  <thead>\n",
              "    <tr style=\"text-align: right;\">\n",
              "      <th></th>\n",
              "      <th>PRICE_PRO_AREA</th>\n",
              "    </tr>\n",
              "  </thead>\n",
              "  <tbody>\n",
              "    <tr>\n",
              "      <th>count</th>\n",
              "      <td>34176.000000</td>\n",
              "    </tr>\n",
              "    <tr>\n",
              "      <th>mean</th>\n",
              "      <td>6.883138</td>\n",
              "    </tr>\n",
              "    <tr>\n",
              "      <th>std</th>\n",
              "      <td>1.640376</td>\n",
              "    </tr>\n",
              "    <tr>\n",
              "      <th>min</th>\n",
              "      <td>1.622692</td>\n",
              "    </tr>\n",
              "    <tr>\n",
              "      <th>25%</th>\n",
              "      <td>6.600776</td>\n",
              "    </tr>\n",
              "    <tr>\n",
              "      <th>50%</th>\n",
              "      <td>7.404294</td>\n",
              "    </tr>\n",
              "    <tr>\n",
              "      <th>75%</th>\n",
              "      <td>7.884201</td>\n",
              "    </tr>\n",
              "    <tr>\n",
              "      <th>max</th>\n",
              "      <td>13.920871</td>\n",
              "    </tr>\n",
              "  </tbody>\n",
              "</table>\n",
              "</div>"
            ],
            "text/plain": [
              "       PRICE_PRO_AREA\n",
              "count    34176.000000\n",
              "mean         6.883138\n",
              "std          1.640376\n",
              "min          1.622692\n",
              "25%          6.600776\n",
              "50%          7.404294\n",
              "75%          7.884201\n",
              "max         13.920871"
            ]
          },
          "metadata": {
            "tags": []
          },
          "execution_count": 147
        }
      ]
    },
    {
      "metadata": {
        "id": "AUtCzIVGdT4c",
        "colab_type": "code",
        "colab": {
          "base_uri": "https://localhost:8080/",
          "height": 396
        },
        "outputId": "a126fe80-7414-43b8-9f09-e16b1736e6ee"
      },
      "cell_type": "code",
      "source": [
        "y_eval.hist(\"PRICE_PRO_AREA\", bins=BINS)"
      ],
      "execution_count": 148,
      "outputs": [
        {
          "output_type": "execute_result",
          "data": {
            "text/plain": [
              "array([[<matplotlib.axes._subplots.AxesSubplot object at 0x7f73519414a8>]],\n",
              "      dtype=object)"
            ]
          },
          "metadata": {
            "tags": []
          },
          "execution_count": 148
        },
        {
          "output_type": "display_data",
          "data": {
            "image/png": "[encoded data removed]",
            "text/plain": [
              "<matplotlib.figure.Figure at 0x7f7351990d68>"
            ]
          },
          "metadata": {
            "tags": []
          }
        }
      ]
    },
    {
      "metadata": {
        "id": "rGF9lnTPzHet",
        "colab_type": "code",
        "colab": {
          "base_uri": "https://localhost:8080/",
          "height": 378
        },
        "outputId": "99bd599d-ed9a-4982-fe26-000a01cf1d1d"
      },
      "cell_type": "code",
      "source": [
        "pd.concat([x_eval, y_eval], axis=1).plot.scatter(x='AREA_PRO_ROOM', y='PRICE_PRO_AREA')"
      ],
      "execution_count": 149,
      "outputs": [
        {
          "output_type": "execute_result",
          "data": {
            "text/plain": [
              "<matplotlib.axes._subplots.AxesSubplot at 0x7f7351867ef0>"
            ]
          },
          "metadata": {
            "tags": []
          },
          "execution_count": 149
        },
        {
          "output_type": "display_data",
          "data": {
            "image/png": "[encoded data removed]",
            "text/plain": [
              "<matplotlib.figure.Figure at 0x7f7351ab29e8>"
            ]
          },
          "metadata": {
            "tags": []
          }
        }
      ]
    },
    {
      "metadata": {
        "id": "X0UrrXaWrJpT",
        "colab_type": "code",
        "colab": {
          "base_uri": "https://localhost:8080/",
          "height": 378
        },
        "outputId": "ba4b86ec-3c65-4b7e-cca6-6602c8b028ee"
      },
      "cell_type": "code",
      "source": [
        "pd.concat([x_eval, y_eval], axis=1).plot.scatter(x='ROOM_PRO_AREA', y='PRICE_PRO_AREA')"
      ],
      "execution_count": 150,
      "outputs": [
        {
          "output_type": "execute_result",
          "data": {
            "text/plain": [
              "<matplotlib.axes._subplots.AxesSubplot at 0x7f7351ee8780>"
            ]
          },
          "metadata": {
            "tags": []
          },
          "execution_count": 150
        },
        {
          "output_type": "display_data",
          "data": {
            "image/png": "[encoded data removed]",
            "text/plain": [
              "<matplotlib.figure.Figure at 0x7f735193cdd8>"
            ]
          },
          "metadata": {
            "tags": []
          }
        }
      ]
    },
    {
      "metadata": {
        "id": "xciCTqS2ageV",
        "colab_type": "code",
        "colab": {
          "base_uri": "https://localhost:8080/",
          "height": 297
        },
        "outputId": "3233ae10-2987-431e-8695-4117d89448ae"
      },
      "cell_type": "code",
      "source": [
        "x_test.describe()"
      ],
      "execution_count": 151,
      "outputs": [
        {
          "output_type": "execute_result",
          "data": {
            "text/html": [
              "<div>\n",
              "<style scoped>\n",
              "    .dataframe tbody tr th:only-of-type {\n",
              "        vertical-align: middle;\n",
              "    }\n",
              "\n",
              "    .dataframe tbody tr th {\n",
              "        vertical-align: top;\n",
              "    }\n",
              "\n",
              "    .dataframe thead th {\n",
              "        text-align: right;\n",
              "    }\n",
              "</style>\n",
              "<table border=\"1\" class=\"dataframe\">\n",
              "  <thead>\n",
              "    <tr style=\"text-align: right;\">\n",
              "      <th></th>\n",
              "      <th>AREA_PRO_ROOM</th>\n",
              "      <th>ROOM_PRO_AREA</th>\n",
              "    </tr>\n",
              "  </thead>\n",
              "  <tbody>\n",
              "    <tr>\n",
              "      <th>count</th>\n",
              "      <td>14647.000000</td>\n",
              "      <td>14647.000000</td>\n",
              "    </tr>\n",
              "    <tr>\n",
              "      <th>mean</th>\n",
              "      <td>4.070458</td>\n",
              "      <td>-4.070458</td>\n",
              "    </tr>\n",
              "    <tr>\n",
              "      <th>std</th>\n",
              "      <td>1.678436</td>\n",
              "      <td>1.678436</td>\n",
              "    </tr>\n",
              "    <tr>\n",
              "      <th>min</th>\n",
              "      <td>0.000000</td>\n",
              "      <td>-11.104310</td>\n",
              "    </tr>\n",
              "    <tr>\n",
              "      <th>25%</th>\n",
              "      <td>3.232121</td>\n",
              "      <td>-3.951244</td>\n",
              "    </tr>\n",
              "    <tr>\n",
              "      <th>50%</th>\n",
              "      <td>3.449988</td>\n",
              "      <td>-3.449988</td>\n",
              "    </tr>\n",
              "    <tr>\n",
              "      <th>75%</th>\n",
              "      <td>3.951244</td>\n",
              "      <td>-3.232121</td>\n",
              "    </tr>\n",
              "    <tr>\n",
              "      <th>max</th>\n",
              "      <td>11.104310</td>\n",
              "      <td>0.000000</td>\n",
              "    </tr>\n",
              "  </tbody>\n",
              "</table>\n",
              "</div>"
            ],
            "text/plain": [
              "       AREA_PRO_ROOM  ROOM_PRO_AREA\n",
              "count   14647.000000   14647.000000\n",
              "mean        4.070458      -4.070458\n",
              "std         1.678436       1.678436\n",
              "min         0.000000     -11.104310\n",
              "25%         3.232121      -3.951244\n",
              "50%         3.449988      -3.449988\n",
              "75%         3.951244      -3.232121\n",
              "max        11.104310       0.000000"
            ]
          },
          "metadata": {
            "tags": []
          },
          "execution_count": 151
        }
      ]
    },
    {
      "metadata": {
        "id": "CFLyayPTy6X1",
        "colab_type": "code",
        "colab": {
          "base_uri": "https://localhost:8080/",
          "height": 396
        },
        "outputId": "0f745529-649e-438f-990e-aa3b2c16ece5"
      },
      "cell_type": "code",
      "source": [
        "x_test.hist(\"AREA_PRO_ROOM\", bins=BINS)"
      ],
      "execution_count": 152,
      "outputs": [
        {
          "output_type": "execute_result",
          "data": {
            "text/plain": [
              "array([[<matplotlib.axes._subplots.AxesSubplot object at 0x7f7351612ef0>]],\n",
              "      dtype=object)"
            ]
          },
          "metadata": {
            "tags": []
          },
          "execution_count": 152
        },
        {
          "output_type": "display_data",
          "data": {
            "image/png": "[encoded data removed]",
            "text/plain": [
              "<matplotlib.figure.Figure at 0x7f73516fa518>"
            ]
          },
          "metadata": {
            "tags": []
          }
        }
      ]
    },
    {
      "metadata": {
        "id": "VV-WOiyCoYGA",
        "colab_type": "code",
        "colab": {
          "base_uri": "https://localhost:8080/",
          "height": 396
        },
        "outputId": "7f73f31d-3879-4e3a-fda0-55cd084c709f"
      },
      "cell_type": "code",
      "source": [
        "x_test.hist(\"ROOM_PRO_AREA\", bins=BINS)"
      ],
      "execution_count": 153,
      "outputs": [
        {
          "output_type": "execute_result",
          "data": {
            "text/plain": [
              "array([[<matplotlib.axes._subplots.AxesSubplot object at 0x7f73514ac8d0>]],\n",
              "      dtype=object)"
            ]
          },
          "metadata": {
            "tags": []
          },
          "execution_count": 153
        },
        {
          "output_type": "display_data",
          "data": {
            "image/png": "[encoded data removed]",
            "text/plain": [
              "<matplotlib.figure.Figure at 0x7f73514496d8>"
            ]
          },
          "metadata": {
            "tags": []
          }
        }
      ]
    },
    {
      "metadata": {
        "id": "a21Zw6mGz_AN",
        "colab_type": "code",
        "colab": {
          "base_uri": "https://localhost:8080/",
          "height": 297
        },
        "outputId": "937d1e53-4f11-4dc3-8fe3-f8965b658798"
      },
      "cell_type": "code",
      "source": [
        "y_test.describe()"
      ],
      "execution_count": 154,
      "outputs": [
        {
          "output_type": "execute_result",
          "data": {
            "text/html": [
              "<div>\n",
              "<style scoped>\n",
              "    .dataframe tbody tr th:only-of-type {\n",
              "        vertical-align: middle;\n",
              "    }\n",
              "\n",
              "    .dataframe tbody tr th {\n",
              "        vertical-align: top;\n",
              "    }\n",
              "\n",
              "    .dataframe thead th {\n",
              "        text-align: right;\n",
              "    }\n",
              "</style>\n",
              "<table border=\"1\" class=\"dataframe\">\n",
              "  <thead>\n",
              "    <tr style=\"text-align: right;\">\n",
              "      <th></th>\n",
              "      <th>PRICE_PRO_AREA</th>\n",
              "    </tr>\n",
              "  </thead>\n",
              "  <tbody>\n",
              "    <tr>\n",
              "      <th>count</th>\n",
              "      <td>14647.000000</td>\n",
              "    </tr>\n",
              "    <tr>\n",
              "      <th>mean</th>\n",
              "      <td>6.892361</td>\n",
              "    </tr>\n",
              "    <tr>\n",
              "      <th>std</th>\n",
              "      <td>1.633879</td>\n",
              "    </tr>\n",
              "    <tr>\n",
              "      <th>min</th>\n",
              "      <td>1.626584</td>\n",
              "    </tr>\n",
              "    <tr>\n",
              "      <th>25%</th>\n",
              "      <td>6.612321</td>\n",
              "    </tr>\n",
              "    <tr>\n",
              "      <th>50%</th>\n",
              "      <td>7.403169</td>\n",
              "    </tr>\n",
              "    <tr>\n",
              "      <th>75%</th>\n",
              "      <td>7.880216</td>\n",
              "    </tr>\n",
              "    <tr>\n",
              "      <th>max</th>\n",
              "      <td>13.285947</td>\n",
              "    </tr>\n",
              "  </tbody>\n",
              "</table>\n",
              "</div>"
            ],
            "text/plain": [
              "       PRICE_PRO_AREA\n",
              "count    14647.000000\n",
              "mean         6.892361\n",
              "std          1.633879\n",
              "min          1.626584\n",
              "25%          6.612321\n",
              "50%          7.403169\n",
              "75%          7.880216\n",
              "max         13.285947"
            ]
          },
          "metadata": {
            "tags": []
          },
          "execution_count": 154
        }
      ]
    },
    {
      "metadata": {
        "id": "vxlju8zCd9YY",
        "colab_type": "code",
        "colab": {
          "base_uri": "https://localhost:8080/",
          "height": 396
        },
        "outputId": "50d13b61-bffc-4693-88ea-35c1a2de4451"
      },
      "cell_type": "code",
      "source": [
        "y_test.hist(\"PRICE_PRO_AREA\", bins=BINS)"
      ],
      "execution_count": 155,
      "outputs": [
        {
          "output_type": "execute_result",
          "data": {
            "text/plain": [
              "array([[<matplotlib.axes._subplots.AxesSubplot object at 0x7f7351392908>]],\n",
              "      dtype=object)"
            ]
          },
          "metadata": {
            "tags": []
          },
          "execution_count": 155
        },
        {
          "output_type": "display_data",
          "data": {
            "image/png": "[encoded data removed]",
            "text/plain": [
              "<matplotlib.figure.Figure at 0x7f73513e0400>"
            ]
          },
          "metadata": {
            "tags": []
          }
        }
      ]
    },
    {
      "metadata": {
        "id": "_NarbG15zLXN",
        "colab_type": "code",
        "colab": {
          "base_uri": "https://localhost:8080/",
          "height": 378
        },
        "outputId": "8e99409c-fd19-4735-e36d-f910fd05a3fb"
      },
      "cell_type": "code",
      "source": [
        "pd.concat([x_test, y_test], axis=1).plot.scatter(x='AREA_PRO_ROOM', y='PRICE_PRO_AREA')"
      ],
      "execution_count": 156,
      "outputs": [
        {
          "output_type": "execute_result",
          "data": {
            "text/plain": [
              "<matplotlib.axes._subplots.AxesSubplot at 0x7f73514aa240>"
            ]
          },
          "metadata": {
            "tags": []
          },
          "execution_count": 156
        },
        {
          "output_type": "display_data",
          "data": {
            "image/png": "[encoded data removed]",
            "text/plain": [
              "<matplotlib.figure.Figure at 0x7f735112a240>"
            ]
          },
          "metadata": {
            "tags": []
          }
        }
      ]
    },
    {
      "metadata": {
        "id": "U60pWkICrOAD",
        "colab_type": "code",
        "colab": {
          "base_uri": "https://localhost:8080/",
          "height": 378
        },
        "outputId": "e6d90000-8d73-4b59-e053-36b305fbc608"
      },
      "cell_type": "code",
      "source": [
        "pd.concat([x_test, y_test], axis=1).plot.scatter(x='ROOM_PRO_AREA', y='PRICE_PRO_AREA')"
      ],
      "execution_count": 157,
      "outputs": [
        {
          "output_type": "execute_result",
          "data": {
            "text/plain": [
              "<matplotlib.axes._subplots.AxesSubplot at 0x7f7351688da0>"
            ]
          },
          "metadata": {
            "tags": []
          },
          "execution_count": 157
        },
        {
          "output_type": "display_data",
          "data": {
            "image/png": "[encoded data removed]",
            "text/plain": [
              "<matplotlib.figure.Figure at 0x7f73511a3198>"
            ]
          },
          "metadata": {
            "tags": []
          }
        }
      ]
    },
    {
      "metadata": {
        "id": "Yi1g3htco3st",
        "colab_type": "code",
        "colab": {
          "base_uri": "https://localhost:8080/",
          "height": 204
        },
        "outputId": "7d074870-08c1-463d-950d-0b7d43845cd2"
      },
      "cell_type": "code",
      "source": [
        "x_train.head()"
      ],
      "execution_count": 158,
      "outputs": [
        {
          "output_type": "execute_result",
          "data": {
            "text/html": [
              "<div>\n",
              "<style scoped>\n",
              "    .dataframe tbody tr th:only-of-type {\n",
              "        vertical-align: middle;\n",
              "    }\n",
              "\n",
              "    .dataframe tbody tr th {\n",
              "        vertical-align: top;\n",
              "    }\n",
              "\n",
              "    .dataframe thead th {\n",
              "        text-align: right;\n",
              "    }\n",
              "</style>\n",
              "<table border=\"1\" class=\"dataframe\">\n",
              "  <thead>\n",
              "    <tr style=\"text-align: right;\">\n",
              "      <th></th>\n",
              "      <th>AREA_PRO_ROOM</th>\n",
              "      <th>ROOM_PRO_AREA</th>\n",
              "      <th>OBJECTCAT</th>\n",
              "    </tr>\n",
              "  </thead>\n",
              "  <tbody>\n",
              "    <tr>\n",
              "      <th>250633</th>\n",
              "      <td>3.178054</td>\n",
              "      <td>-3.178054</td>\n",
              "      <td>Etagenwohnung</td>\n",
              "    </tr>\n",
              "    <tr>\n",
              "      <th>71996</th>\n",
              "      <td>3.178054</td>\n",
              "      <td>-3.178054</td>\n",
              "      <td>Wohnung</td>\n",
              "    </tr>\n",
              "    <tr>\n",
              "      <th>116561</th>\n",
              "      <td>3.860730</td>\n",
              "      <td>-3.860730</td>\n",
              "      <td>Mehrfamilienhaus</td>\n",
              "    </tr>\n",
              "    <tr>\n",
              "      <th>281677</th>\n",
              "      <td>3.518980</td>\n",
              "      <td>-3.518980</td>\n",
              "      <td>Penthouse</td>\n",
              "    </tr>\n",
              "    <tr>\n",
              "      <th>194054</th>\n",
              "      <td>3.355735</td>\n",
              "      <td>-3.355735</td>\n",
              "      <td>Sonstiges Haus</td>\n",
              "    </tr>\n",
              "  </tbody>\n",
              "</table>\n",
              "</div>"
            ],
            "text/plain": [
              "        AREA_PRO_ROOM  ROOM_PRO_AREA         OBJECTCAT\n",
              "250633       3.178054      -3.178054     Etagenwohnung\n",
              "71996        3.178054      -3.178054           Wohnung\n",
              "116561       3.860730      -3.860730  Mehrfamilienhaus\n",
              "281677       3.518980      -3.518980         Penthouse\n",
              "194054       3.355735      -3.355735    Sonstiges Haus"
            ]
          },
          "metadata": {
            "tags": []
          },
          "execution_count": 158
        }
      ]
    },
    {
      "metadata": {
        "id": "6VRcJQxqpInl",
        "colab_type": "code",
        "colab": {
          "base_uri": "https://localhost:8080/",
          "height": 204
        },
        "outputId": "a6935cb3-3f48-434b-9525-6a88373db854"
      },
      "cell_type": "code",
      "source": [
        "x_eval.head()"
      ],
      "execution_count": 159,
      "outputs": [
        {
          "output_type": "execute_result",
          "data": {
            "text/html": [
              "<div>\n",
              "<style scoped>\n",
              "    .dataframe tbody tr th:only-of-type {\n",
              "        vertical-align: middle;\n",
              "    }\n",
              "\n",
              "    .dataframe tbody tr th {\n",
              "        vertical-align: top;\n",
              "    }\n",
              "\n",
              "    .dataframe thead th {\n",
              "        text-align: right;\n",
              "    }\n",
              "</style>\n",
              "<table border=\"1\" class=\"dataframe\">\n",
              "  <thead>\n",
              "    <tr style=\"text-align: right;\">\n",
              "      <th></th>\n",
              "      <th>AREA_PRO_ROOM</th>\n",
              "      <th>ROOM_PRO_AREA</th>\n",
              "      <th>OBJECTCAT</th>\n",
              "    </tr>\n",
              "  </thead>\n",
              "  <tbody>\n",
              "    <tr>\n",
              "      <th>171642</th>\n",
              "      <td>3.282521</td>\n",
              "      <td>-3.282521</td>\n",
              "      <td>Mehrfamilienhaus</td>\n",
              "    </tr>\n",
              "    <tr>\n",
              "      <th>241456</th>\n",
              "      <td>8.088255</td>\n",
              "      <td>-8.088255</td>\n",
              "      <td>Wohnung</td>\n",
              "    </tr>\n",
              "    <tr>\n",
              "      <th>126501</th>\n",
              "      <td>8.338575</td>\n",
              "      <td>-8.338575</td>\n",
              "      <td>Doppelhaushälfte</td>\n",
              "    </tr>\n",
              "    <tr>\n",
              "      <th>40369</th>\n",
              "      <td>3.555348</td>\n",
              "      <td>-3.555348</td>\n",
              "      <td>Einfamilienhaus</td>\n",
              "    </tr>\n",
              "    <tr>\n",
              "      <th>192180</th>\n",
              "      <td>3.459466</td>\n",
              "      <td>-3.459466</td>\n",
              "      <td>Sonstiges Haus</td>\n",
              "    </tr>\n",
              "  </tbody>\n",
              "</table>\n",
              "</div>"
            ],
            "text/plain": [
              "        AREA_PRO_ROOM  ROOM_PRO_AREA         OBJECTCAT\n",
              "171642       3.282521      -3.282521  Mehrfamilienhaus\n",
              "241456       8.088255      -8.088255           Wohnung\n",
              "126501       8.338575      -8.338575  Doppelhaushälfte\n",
              "40369        3.555348      -3.555348   Einfamilienhaus\n",
              "192180       3.459466      -3.459466    Sonstiges Haus"
            ]
          },
          "metadata": {
            "tags": []
          },
          "execution_count": 159
        }
      ]
    },
    {
      "metadata": {
        "id": "g5fkf_HZaj2u",
        "colab_type": "code",
        "colab": {
          "base_uri": "https://localhost:8080/",
          "height": 204
        },
        "outputId": "46689932-b2ed-45d5-9c35-97e4c2b59c98"
      },
      "cell_type": "code",
      "source": [
        "x_test.head()"
      ],
      "execution_count": 160,
      "outputs": [
        {
          "output_type": "execute_result",
          "data": {
            "text/html": [
              "<div>\n",
              "<style scoped>\n",
              "    .dataframe tbody tr th:only-of-type {\n",
              "        vertical-align: middle;\n",
              "    }\n",
              "\n",
              "    .dataframe tbody tr th {\n",
              "        vertical-align: top;\n",
              "    }\n",
              "\n",
              "    .dataframe thead th {\n",
              "        text-align: right;\n",
              "    }\n",
              "</style>\n",
              "<table border=\"1\" class=\"dataframe\">\n",
              "  <thead>\n",
              "    <tr style=\"text-align: right;\">\n",
              "      <th></th>\n",
              "      <th>AREA_PRO_ROOM</th>\n",
              "      <th>ROOM_PRO_AREA</th>\n",
              "      <th>OBJECTCAT</th>\n",
              "    </tr>\n",
              "  </thead>\n",
              "  <tbody>\n",
              "    <tr>\n",
              "      <th>31</th>\n",
              "      <td>3.344039</td>\n",
              "      <td>-3.344039</td>\n",
              "      <td>Etagenwohnung</td>\n",
              "    </tr>\n",
              "    <tr>\n",
              "      <th>78</th>\n",
              "      <td>3.401197</td>\n",
              "      <td>-3.401197</td>\n",
              "      <td>Apartment</td>\n",
              "    </tr>\n",
              "    <tr>\n",
              "      <th>89</th>\n",
              "      <td>8.296235</td>\n",
              "      <td>-8.296235</td>\n",
              "      <td>Einfamilienhaus</td>\n",
              "    </tr>\n",
              "    <tr>\n",
              "      <th>99</th>\n",
              "      <td>3.367296</td>\n",
              "      <td>-3.367296</td>\n",
              "      <td>Dachgeschosswohnung</td>\n",
              "    </tr>\n",
              "    <tr>\n",
              "      <th>100</th>\n",
              "      <td>3.178054</td>\n",
              "      <td>-3.178054</td>\n",
              "      <td>Bauernhaus</td>\n",
              "    </tr>\n",
              "  </tbody>\n",
              "</table>\n",
              "</div>"
            ],
            "text/plain": [
              "     AREA_PRO_ROOM  ROOM_PRO_AREA            OBJECTCAT\n",
              "31        3.344039      -3.344039        Etagenwohnung\n",
              "78        3.401197      -3.401197            Apartment\n",
              "89        8.296235      -8.296235      Einfamilienhaus\n",
              "99        3.367296      -3.367296  Dachgeschosswohnung\n",
              "100       3.178054      -3.178054           Bauernhaus"
            ]
          },
          "metadata": {
            "tags": []
          },
          "execution_count": 160
        }
      ]
    },
    {
      "metadata": {
        "id": "WDyckWh7lwBT",
        "colab_type": "code",
        "colab": {
          "base_uri": "https://localhost:8080/",
          "height": 204
        },
        "outputId": "e62d3dcd-7be3-430a-babe-eba80cc2b88f"
      },
      "cell_type": "code",
      "source": [
        "y_train.head()"
      ],
      "execution_count": 161,
      "outputs": [
        {
          "output_type": "execute_result",
          "data": {
            "text/html": [
              "<div>\n",
              "<style scoped>\n",
              "    .dataframe tbody tr th:only-of-type {\n",
              "        vertical-align: middle;\n",
              "    }\n",
              "\n",
              "    .dataframe tbody tr th {\n",
              "        vertical-align: top;\n",
              "    }\n",
              "\n",
              "    .dataframe thead th {\n",
              "        text-align: right;\n",
              "    }\n",
              "</style>\n",
              "<table border=\"1\" class=\"dataframe\">\n",
              "  <thead>\n",
              "    <tr style=\"text-align: right;\">\n",
              "      <th></th>\n",
              "      <th>PRICE_PRO_AREA</th>\n",
              "    </tr>\n",
              "  </thead>\n",
              "  <tbody>\n",
              "    <tr>\n",
              "      <th>250633</th>\n",
              "      <td>7.207860</td>\n",
              "    </tr>\n",
              "    <tr>\n",
              "      <th>71996</th>\n",
              "      <td>7.459403</td>\n",
              "    </tr>\n",
              "    <tr>\n",
              "      <th>116561</th>\n",
              "      <td>5.827396</td>\n",
              "    </tr>\n",
              "    <tr>\n",
              "      <th>281677</th>\n",
              "      <td>8.680823</td>\n",
              "    </tr>\n",
              "    <tr>\n",
              "      <th>194054</th>\n",
              "      <td>6.770896</td>\n",
              "    </tr>\n",
              "  </tbody>\n",
              "</table>\n",
              "</div>"
            ],
            "text/plain": [
              "        PRICE_PRO_AREA\n",
              "250633        7.207860\n",
              "71996         7.459403\n",
              "116561        5.827396\n",
              "281677        8.680823\n",
              "194054        6.770896"
            ]
          },
          "metadata": {
            "tags": []
          },
          "execution_count": 161
        }
      ]
    },
    {
      "metadata": {
        "id": "KNqPapJAlwG1",
        "colab_type": "code",
        "colab": {
          "base_uri": "https://localhost:8080/",
          "height": 204
        },
        "outputId": "d4643a0c-541b-4467-e790-b068b01099f3"
      },
      "cell_type": "code",
      "source": [
        "y_eval.head()"
      ],
      "execution_count": 162,
      "outputs": [
        {
          "output_type": "execute_result",
          "data": {
            "text/html": [
              "<div>\n",
              "<style scoped>\n",
              "    .dataframe tbody tr th:only-of-type {\n",
              "        vertical-align: middle;\n",
              "    }\n",
              "\n",
              "    .dataframe tbody tr th {\n",
              "        vertical-align: top;\n",
              "    }\n",
              "\n",
              "    .dataframe thead th {\n",
              "        text-align: right;\n",
              "    }\n",
              "</style>\n",
              "<table border=\"1\" class=\"dataframe\">\n",
              "  <thead>\n",
              "    <tr style=\"text-align: right;\">\n",
              "      <th></th>\n",
              "      <th>PRICE_PRO_AREA</th>\n",
              "    </tr>\n",
              "  </thead>\n",
              "  <tbody>\n",
              "    <tr>\n",
              "      <th>171642</th>\n",
              "      <td>7.606250</td>\n",
              "    </tr>\n",
              "    <tr>\n",
              "      <th>241456</th>\n",
              "      <td>3.663562</td>\n",
              "    </tr>\n",
              "    <tr>\n",
              "      <th>126501</th>\n",
              "      <td>3.648253</td>\n",
              "    </tr>\n",
              "    <tr>\n",
              "      <th>40369</th>\n",
              "      <td>7.728164</td>\n",
              "    </tr>\n",
              "    <tr>\n",
              "      <th>192180</th>\n",
              "      <td>9.083079</td>\n",
              "    </tr>\n",
              "  </tbody>\n",
              "</table>\n",
              "</div>"
            ],
            "text/plain": [
              "        PRICE_PRO_AREA\n",
              "171642        7.606250\n",
              "241456        3.663562\n",
              "126501        3.648253\n",
              "40369         7.728164\n",
              "192180        9.083079"
            ]
          },
          "metadata": {
            "tags": []
          },
          "execution_count": 162
        }
      ]
    },
    {
      "metadata": {
        "id": "4FR6Ujg1lwL6",
        "colab_type": "code",
        "colab": {
          "base_uri": "https://localhost:8080/",
          "height": 204
        },
        "outputId": "e45543d5-fa4e-446e-8306-a5e4c24fc799"
      },
      "cell_type": "code",
      "source": [
        "y_test.head()"
      ],
      "execution_count": 163,
      "outputs": [
        {
          "output_type": "execute_result",
          "data": {
            "text/html": [
              "<div>\n",
              "<style scoped>\n",
              "    .dataframe tbody tr th:only-of-type {\n",
              "        vertical-align: middle;\n",
              "    }\n",
              "\n",
              "    .dataframe tbody tr th {\n",
              "        vertical-align: top;\n",
              "    }\n",
              "\n",
              "    .dataframe thead th {\n",
              "        text-align: right;\n",
              "    }\n",
              "</style>\n",
              "<table border=\"1\" class=\"dataframe\">\n",
              "  <thead>\n",
              "    <tr style=\"text-align: right;\">\n",
              "      <th></th>\n",
              "      <th>PRICE_PRO_AREA</th>\n",
              "    </tr>\n",
              "  </thead>\n",
              "  <tbody>\n",
              "    <tr>\n",
              "      <th>31</th>\n",
              "      <td>6.472437</td>\n",
              "    </tr>\n",
              "    <tr>\n",
              "      <th>78</th>\n",
              "      <td>7.995194</td>\n",
              "    </tr>\n",
              "    <tr>\n",
              "      <th>89</th>\n",
              "      <td>2.789363</td>\n",
              "    </tr>\n",
              "    <tr>\n",
              "      <th>99</th>\n",
              "      <td>6.930484</td>\n",
              "    </tr>\n",
              "    <tr>\n",
              "      <th>100</th>\n",
              "      <td>7.680945</td>\n",
              "    </tr>\n",
              "  </tbody>\n",
              "</table>\n",
              "</div>"
            ],
            "text/plain": [
              "     PRICE_PRO_AREA\n",
              "31         6.472437\n",
              "78         7.995194\n",
              "89         2.789363\n",
              "99         6.930484\n",
              "100        7.680945"
            ]
          },
          "metadata": {
            "tags": []
          },
          "execution_count": 163
        }
      ]
    },
    {
      "metadata": {
        "id": "udjYU2TaCClX",
        "colab_type": "code",
        "colab": {}
      },
      "cell_type": "code",
      "source": [
        "def input_fn(features, targets, batch_size=1, shuffle=True, num_epochs=None):\n",
        "    \"\"\"Trains a linear regression model of one feature.\n",
        "  \n",
        "    Args:\n",
        "      features: pandas DataFrame of features\n",
        "      targets: pandas DataFrame of targets\n",
        "      batch_size: Size of batches to be passed to the model\n",
        "      shuffle: True or False. Whether to shuffle the data.\n",
        "      num_epochs: Number of epochs for which data should be repeated. None = repeat indefinitely\n",
        "    Returns:\n",
        "      Tuple of (features, labels) for next data batch\n",
        "    \"\"\"\n",
        " \n",
        "    # Construct a dataset, and configure batching/repeating\n",
        "    features = {key:np.array(value) for key,value in dict(features).items()} \n",
        "  \n",
        "    ds = Dataset.from_tensor_slices((features, targets))\n",
        "    ds = ds.batch(batch_size).repeat(num_epochs)\n",
        "    \n",
        "    # Shuffle the data, if specified\n",
        "    if shuffle:\n",
        "      ds = ds.shuffle(buffer_size=10000)\n",
        "    \n",
        "    # Return the next batch of data\n",
        "    features, labels = ds.make_one_shot_iterator().get_next()\n",
        "    return features, labels"
      ],
      "execution_count": 0,
      "outputs": []
    },
    {
      "metadata": {
        "id": "XauzWrcNCh0J",
        "colab_type": "code",
        "colab": {}
      },
      "cell_type": "code",
      "source": [
        "train_input_fn = lambda: input_fn(x_train, y_train)"
      ],
      "execution_count": 0,
      "outputs": []
    },
    {
      "metadata": {
        "id": "MUKqyBqocZJ_",
        "colab_type": "code",
        "colab": {}
      },
      "cell_type": "code",
      "source": [
        "train_predict_input_fn = lambda: input_fn(x_train, y_train, num_epochs=1, shuffle=False)"
      ],
      "execution_count": 0,
      "outputs": []
    },
    {
      "metadata": {
        "id": "_QCb9zcOCf3A",
        "colab_type": "code",
        "colab": {}
      },
      "cell_type": "code",
      "source": [
        "eval_predict_input_fn = lambda: input_fn(x_eval, y_eval, num_epochs=1, shuffle=False)"
      ],
      "execution_count": 0,
      "outputs": []
    },
    {
      "metadata": {
        "id": "YXjdJK8zbfW5",
        "colab_type": "code",
        "colab": {}
      },
      "cell_type": "code",
      "source": [
        "test_predict_input_fun = lambda: input_fn(x_test, y_test, num_epochs=1, shuffle=False)"
      ],
      "execution_count": 0,
      "outputs": []
    },
    {
      "metadata": {
        "id": "O4Fyeywlz4dm",
        "colab_type": "code",
        "colab": {}
      },
      "cell_type": "code",
      "source": [
        "feature_cols = [\n",
        "  tf.feature_column.numeric_column(\"AREA_PRO_ROOM\"),\n",
        "  tf.feature_column.numeric_column(\"ROOM_PRO_AREA\"),\n",
        "  tf.feature_column.categorical_column_with_vocabulary_list(\n",
        "        key=\"OBJECTCAT\",\n",
        "        vocabulary_list=object_category)\n",
        "]"
      ],
      "execution_count": 0,
      "outputs": []
    },
    {
      "metadata": {
        "id": "MOZGWNtE7r56",
        "colab_type": "code",
        "colab": {}
      },
      "cell_type": "code",
      "source": [
        "train_optimizer = tf.train.GradientDescentOptimizer(learning_rate=LEARNING_RATE)\n",
        "train_optimizer = tf.contrib.estimator.clip_gradients_by_norm(train_optimizer, 5.0)"
      ],
      "execution_count": 0,
      "outputs": []
    },
    {
      "metadata": {
        "id": "wR1wAHC0b8R5",
        "colab_type": "code",
        "colab": {
          "base_uri": "https://localhost:8080/",
          "height": 88
        },
        "outputId": "3c7837d6-3e92-46c0-c5a9-8449730073e3"
      },
      "cell_type": "code",
      "source": [
        "model = tf.estimator.LinearRegressor(\n",
        "    feature_columns = feature_cols,\n",
        "    optimizer = train_optimizer\n",
        ")"
      ],
      "execution_count": 171,
      "outputs": [
        {
          "output_type": "stream",
          "text": [
            "INFO:tensorflow:Using default config.\n",
            "WARNING:tensorflow:Using temporary folder as model directory: /tmp/tmpjmmt745n\n",
            "INFO:tensorflow:Using config: {'_model_dir': '/tmp/tmpjmmt745n', '_tf_random_seed': None, '_save_summary_steps': 100, '_save_checkpoints_steps': None, '_save_checkpoints_secs': 600, '_session_config': None, '_keep_checkpoint_max': 5, '_keep_checkpoint_every_n_hours': 10000, '_log_step_count_steps': 100, '_train_distribute': None, '_device_fn': None, '_service': None, '_cluster_spec': <tensorflow.python.training.server_lib.ClusterSpec object at 0x7f7351029550>, '_task_type': 'worker', '_task_id': 0, '_global_id_in_cluster': 0, '_master': '', '_evaluation_master': '', '_is_chief': True, '_num_ps_replicas': 0, '_num_worker_replicas': 1}\n"
          ],
          "name": "stdout"
        }
      ]
    },
    {
      "metadata": {
        "id": "xibCYiz3by1B",
        "colab_type": "code",
        "colab": {
          "base_uri": "https://localhost:8080/",
          "height": 25500
        },
        "outputId": "dac9bd8d-1a4c-48e3-ccd9-2ec490aa3c74"
      },
      "cell_type": "code",
      "source": [
        "for period in range(0, PERIODS):\n",
        "  model.train(input_fn=train_input_fn, steps=STEPS)\n",
        "  #train_predict = model.predict(input_fn=train_predict_input_fn)\n",
        "  #eval_predict = model.predict(input_fn=eval_predict_input_fn)\n",
        "  print(\"-\" * 100)\n",
        "  metrics_train = model.evaluate(steps=STEPS, input_fn=train_predict_input_fn)\n",
        "  metrics_eval = model.evaluate(steps=STEPS, input_fn=eval_predict_input_fn) \n",
        "  print(\"-\" * 100)\n",
        "  \n",
        "  #train_predict = np.array([item['predictions'][0] for item in train_predict])\n",
        "  #eval_predict = np.array([item['predictions'][0] for item in eval_predict])\n",
        "  \n",
        "  # Compute loss for train and evaluation\n",
        "  #train_rmse = math.sqrt(\n",
        "  #      sklearn.metrics.mean_squared_error(train_predict, y_train))\n",
        "  #eval_rmse = math.sqrt(\n",
        "  #      sklearn.metrics.mean_squared_error(eval_predict, y_eval))\n",
        "  train_rmse = np.sqrt(metrics_train['average_loss'])\n",
        "  eval_rmse = np.sqrt(metrics_eval['average_loss'])\n",
        "  \n",
        "  print(\"*\" * 100)\n",
        "  print(\"*Period[rmse training] %02d : %0.2f\" % (period, train_rmse))\n",
        "  print(\"*Period[rmse eval] %02d : %0.2f\" % (period, eval_rmse))  \n",
        "  print(\"*\" * 100)"
      ],
      "execution_count": 172,
      "outputs": [
        {
          "output_type": "stream",
          "text": [
            "INFO:tensorflow:Calling model_fn.\n",
            "INFO:tensorflow:Done calling model_fn.\n",
            "INFO:tensorflow:Create CheckpointSaverHook.\n",
            "INFO:tensorflow:Graph was finalized.\n",
            "INFO:tensorflow:Running local_init_op.\n",
            "INFO:tensorflow:Done running local_init_op.\n",
            "INFO:tensorflow:Saving checkpoints for 0 into /tmp/tmpjmmt745n/model.ckpt.\n",
            "INFO:tensorflow:loss = 63.499023, step = 0\n",
            "INFO:tensorflow:global_step/sec: 103.1\n",
            "INFO:tensorflow:loss = 68.45578, step = 100 (0.976 sec)\n",
            "INFO:tensorflow:global_step/sec: 215.104\n",
            "INFO:tensorflow:loss = 46.74269, step = 200 (0.463 sec)\n",
            "INFO:tensorflow:global_step/sec: 217.909\n",
            "INFO:tensorflow:loss = 49.538036, step = 300 (0.460 sec)\n",
            "INFO:tensorflow:global_step/sec: 203.043\n",
            "INFO:tensorflow:loss = 83.46112, step = 400 (0.492 sec)\n",
            "INFO:tensorflow:global_step/sec: 193\n",
            "INFO:tensorflow:loss = 65.38566, step = 500 (0.517 sec)\n",
            "INFO:tensorflow:global_step/sec: 206.397\n",
            "INFO:tensorflow:loss = 35.089542, step = 600 (0.486 sec)\n",
            "INFO:tensorflow:global_step/sec: 213.976\n",
            "INFO:tensorflow:loss = 55.554142, step = 700 (0.469 sec)\n",
            "INFO:tensorflow:global_step/sec: 201.901\n",
            "INFO:tensorflow:loss = 59.787716, step = 800 (0.493 sec)\n",
            "INFO:tensorflow:global_step/sec: 206.461\n",
            "INFO:tensorflow:loss = 51.753456, step = 900 (0.486 sec)\n",
            "INFO:tensorflow:Saving checkpoints for 1000 into /tmp/tmpjmmt745n/model.ckpt.\n",
            "INFO:tensorflow:Loss for final step: 50.280834.\n",
            "----------------------------------------------------------------------------------------------------\n",
            "INFO:tensorflow:Calling model_fn.\n",
            "INFO:tensorflow:Done calling model_fn.\n",
            "INFO:tensorflow:Starting evaluation at 2018-08-26-20:31:55\n",
            "INFO:tensorflow:Graph was finalized.\n",
            "INFO:tensorflow:Restoring parameters from /tmp/tmpjmmt745n/model.ckpt-1000\n",
            "INFO:tensorflow:Running local_init_op.\n",
            "INFO:tensorflow:Done running local_init_op.\n",
            "INFO:tensorflow:Evaluation [100/1000]\n",
            "INFO:tensorflow:Evaluation [200/1000]\n",
            "INFO:tensorflow:Evaluation [300/1000]\n",
            "INFO:tensorflow:Evaluation [400/1000]\n",
            "INFO:tensorflow:Evaluation [500/1000]\n",
            "INFO:tensorflow:Evaluation [600/1000]\n",
            "INFO:tensorflow:Evaluation [700/1000]\n",
            "INFO:tensorflow:Evaluation [800/1000]\n",
            "INFO:tensorflow:Evaluation [900/1000]\n",
            "INFO:tensorflow:Evaluation [1000/1000]\n",
            "INFO:tensorflow:Finished evaluation at 2018-08-26-20:32:00\n",
            "INFO:tensorflow:Saving dict for global step 1000: average_loss = 48.68803, global_step = 1000, label/mean = 6.809639, loss = 48.68803, prediction/mean = 0.02879891\n",
            "INFO:tensorflow:Saving 'checkpoint_path' summary for global step 1000: /tmp/tmpjmmt745n/model.ckpt-1000\n",
            "INFO:tensorflow:Calling model_fn.\n",
            "INFO:tensorflow:Done calling model_fn.\n",
            "INFO:tensorflow:Starting evaluation at 2018-08-26-20:32:01\n",
            "INFO:tensorflow:Graph was finalized.\n",
            "INFO:tensorflow:Restoring parameters from /tmp/tmpjmmt745n/model.ckpt-1000\n",
            "INFO:tensorflow:Running local_init_op.\n",
            "INFO:tensorflow:Done running local_init_op.\n",
            "INFO:tensorflow:Evaluation [100/1000]\n",
            "INFO:tensorflow:Evaluation [200/1000]\n",
            "INFO:tensorflow:Evaluation [300/1000]\n",
            "INFO:tensorflow:Evaluation [400/1000]\n",
            "INFO:tensorflow:Evaluation [500/1000]\n",
            "INFO:tensorflow:Evaluation [600/1000]\n",
            "INFO:tensorflow:Evaluation [700/1000]\n",
            "INFO:tensorflow:Evaluation [800/1000]\n",
            "INFO:tensorflow:Evaluation [900/1000]\n",
            "INFO:tensorflow:Evaluation [1000/1000]\n",
            "INFO:tensorflow:Finished evaluation at 2018-08-26-20:32:06\n",
            "INFO:tensorflow:Saving dict for global step 1000: average_loss = 50.080643, global_step = 1000, label/mean = 6.9177794, loss = 50.080643, prediction/mean = 0.028505158\n",
            "INFO:tensorflow:Saving 'checkpoint_path' summary for global step 1000: /tmp/tmpjmmt745n/model.ckpt-1000\n",
            "----------------------------------------------------------------------------------------------------\n",
            "****************************************************************************************************\n",
            "*Period[rmse training] 00 : 6.98\n",
            "*Period[rmse eval] 00 : 7.08\n",
            "****************************************************************************************************\n",
            "INFO:tensorflow:Calling model_fn.\n",
            "INFO:tensorflow:Done calling model_fn.\n",
            "INFO:tensorflow:Create CheckpointSaverHook.\n",
            "INFO:tensorflow:Graph was finalized.\n",
            "INFO:tensorflow:Restoring parameters from /tmp/tmpjmmt745n/model.ckpt-1000\n",
            "INFO:tensorflow:Running local_init_op.\n",
            "INFO:tensorflow:Done running local_init_op.\n",
            "INFO:tensorflow:Saving checkpoints for 1000 into /tmp/tmpjmmt745n/model.ckpt.\n",
            "INFO:tensorflow:loss = 3.2412376, step = 1000\n",
            "INFO:tensorflow:global_step/sec: 103.576\n",
            "INFO:tensorflow:loss = 43.725796, step = 1100 (0.978 sec)\n",
            "INFO:tensorflow:global_step/sec: 200.98\n",
            "INFO:tensorflow:loss = 39.82096, step = 1200 (0.492 sec)\n",
            "INFO:tensorflow:global_step/sec: 210.775\n",
            "INFO:tensorflow:loss = 55.112904, step = 1300 (0.471 sec)\n",
            "INFO:tensorflow:global_step/sec: 212.516\n",
            "INFO:tensorflow:loss = 61.853428, step = 1400 (0.470 sec)\n",
            "INFO:tensorflow:global_step/sec: 204.217\n",
            "INFO:tensorflow:loss = 59.072052, step = 1500 (0.490 sec)\n",
            "INFO:tensorflow:global_step/sec: 209.176\n",
            "INFO:tensorflow:loss = 59.32874, step = 1600 (0.478 sec)\n",
            "INFO:tensorflow:global_step/sec: 215.002\n",
            "INFO:tensorflow:loss = 59.80413, step = 1700 (0.465 sec)\n",
            "INFO:tensorflow:global_step/sec: 204.143\n",
            "INFO:tensorflow:loss = 60.59357, step = 1800 (0.489 sec)\n",
            "INFO:tensorflow:global_step/sec: 208.498\n",
            "INFO:tensorflow:loss = 52.76007, step = 1900 (0.483 sec)\n",
            "INFO:tensorflow:Saving checkpoints for 2000 into /tmp/tmpjmmt745n/model.ckpt.\n",
            "INFO:tensorflow:Loss for final step: 10.845552.\n",
            "----------------------------------------------------------------------------------------------------\n",
            "INFO:tensorflow:Calling model_fn.\n",
            "INFO:tensorflow:Done calling model_fn.\n",
            "INFO:tensorflow:Starting evaluation at 2018-08-26-20:32:18\n",
            "INFO:tensorflow:Graph was finalized.\n",
            "INFO:tensorflow:Restoring parameters from /tmp/tmpjmmt745n/model.ckpt-2000\n",
            "INFO:tensorflow:Running local_init_op.\n",
            "INFO:tensorflow:Done running local_init_op.\n",
            "INFO:tensorflow:Evaluation [100/1000]\n",
            "INFO:tensorflow:Evaluation [200/1000]\n",
            "INFO:tensorflow:Evaluation [300/1000]\n",
            "INFO:tensorflow:Evaluation [400/1000]\n",
            "INFO:tensorflow:Evaluation [500/1000]\n",
            "INFO:tensorflow:Evaluation [600/1000]\n",
            "INFO:tensorflow:Evaluation [700/1000]\n",
            "INFO:tensorflow:Evaluation [800/1000]\n",
            "INFO:tensorflow:Evaluation [900/1000]\n",
            "INFO:tensorflow:Evaluation [1000/1000]\n",
            "INFO:tensorflow:Finished evaluation at 2018-08-26-20:32:23\n",
            "INFO:tensorflow:Saving dict for global step 2000: average_loss = 48.33098, global_step = 2000, label/mean = 6.809639, loss = 48.33098, prediction/mean = 0.05762724\n",
            "INFO:tensorflow:Saving 'checkpoint_path' summary for global step 2000: /tmp/tmpjmmt745n/model.ckpt-2000\n",
            "INFO:tensorflow:Calling model_fn.\n",
            "INFO:tensorflow:Done calling model_fn.\n",
            "INFO:tensorflow:Starting evaluation at 2018-08-26-20:32:24\n",
            "INFO:tensorflow:Graph was finalized.\n",
            "INFO:tensorflow:Restoring parameters from /tmp/tmpjmmt745n/model.ckpt-2000\n",
            "INFO:tensorflow:Running local_init_op.\n",
            "INFO:tensorflow:Done running local_init_op.\n",
            "INFO:tensorflow:Evaluation [100/1000]\n",
            "INFO:tensorflow:Evaluation [200/1000]\n",
            "INFO:tensorflow:Evaluation [300/1000]\n",
            "INFO:tensorflow:Evaluation [400/1000]\n",
            "INFO:tensorflow:Evaluation [500/1000]\n",
            "INFO:tensorflow:Evaluation [600/1000]\n",
            "INFO:tensorflow:Evaluation [700/1000]\n",
            "INFO:tensorflow:Evaluation [800/1000]\n",
            "INFO:tensorflow:Evaluation [900/1000]\n",
            "INFO:tensorflow:Evaluation [1000/1000]\n",
            "INFO:tensorflow:Finished evaluation at 2018-08-26-20:32:29\n",
            "INFO:tensorflow:Saving dict for global step 2000: average_loss = 49.718792, global_step = 2000, label/mean = 6.9177794, loss = 49.718792, prediction/mean = 0.05703923\n",
            "INFO:tensorflow:Saving 'checkpoint_path' summary for global step 2000: /tmp/tmpjmmt745n/model.ckpt-2000\n",
            "----------------------------------------------------------------------------------------------------\n",
            "****************************************************************************************************\n",
            "*Period[rmse training] 01 : 6.95\n",
            "*Period[rmse eval] 01 : 7.05\n",
            "****************************************************************************************************\n",
            "INFO:tensorflow:Calling model_fn.\n",
            "INFO:tensorflow:Done calling model_fn.\n",
            "INFO:tensorflow:Create CheckpointSaverHook.\n",
            "INFO:tensorflow:Graph was finalized.\n",
            "INFO:tensorflow:Restoring parameters from /tmp/tmpjmmt745n/model.ckpt-2000\n",
            "INFO:tensorflow:Running local_init_op.\n",
            "INFO:tensorflow:Done running local_init_op.\n",
            "INFO:tensorflow:Saving checkpoints for 2000 into /tmp/tmpjmmt745n/model.ckpt.\n",
            "INFO:tensorflow:loss = 44.49229, step = 2000\n",
            "INFO:tensorflow:global_step/sec: 103.608\n",
            "INFO:tensorflow:loss = 13.946189, step = 2100 (0.969 sec)\n",
            "INFO:tensorflow:global_step/sec: 199.95\n",
            "INFO:tensorflow:loss = 34.06734, step = 2200 (0.499 sec)\n",
            "INFO:tensorflow:global_step/sec: 209.169\n",
            "INFO:tensorflow:loss = 65.54628, step = 2300 (0.477 sec)\n",
            "INFO:tensorflow:global_step/sec: 211.842\n",
            "INFO:tensorflow:loss = 61.49671, step = 2400 (0.475 sec)\n",
            "INFO:tensorflow:global_step/sec: 202.232\n",
            "INFO:tensorflow:loss = 53.673477, step = 2500 (0.493 sec)\n",
            "INFO:tensorflow:global_step/sec: 213.078\n",
            "INFO:tensorflow:loss = 52.291153, step = 2600 (0.468 sec)\n",
            "INFO:tensorflow:global_step/sec: 201.758\n",
            "INFO:tensorflow:loss = 57.871017, step = 2700 (0.497 sec)\n",
            "INFO:tensorflow:global_step/sec: 213.305\n",
            "INFO:tensorflow:loss = 10.842307, step = 2800 (0.469 sec)\n",
            "INFO:tensorflow:global_step/sec: 207.645\n",
            "INFO:tensorflow:loss = 53.033978, step = 2900 (0.479 sec)\n",
            "INFO:tensorflow:Saving checkpoints for 3000 into /tmp/tmpjmmt745n/model.ckpt.\n",
            "INFO:tensorflow:Loss for final step: 74.47188.\n",
            "----------------------------------------------------------------------------------------------------\n",
            "INFO:tensorflow:Calling model_fn.\n",
            "INFO:tensorflow:Done calling model_fn.\n",
            "INFO:tensorflow:Starting evaluation at 2018-08-26-20:32:41\n",
            "INFO:tensorflow:Graph was finalized.\n",
            "INFO:tensorflow:Restoring parameters from /tmp/tmpjmmt745n/model.ckpt-3000\n",
            "INFO:tensorflow:Running local_init_op.\n",
            "INFO:tensorflow:Done running local_init_op.\n",
            "INFO:tensorflow:Evaluation [100/1000]\n",
            "INFO:tensorflow:Evaluation [200/1000]\n",
            "INFO:tensorflow:Evaluation [300/1000]\n",
            "INFO:tensorflow:Evaluation [400/1000]\n",
            "INFO:tensorflow:Evaluation [500/1000]\n",
            "INFO:tensorflow:Evaluation [600/1000]\n",
            "INFO:tensorflow:Evaluation [700/1000]\n",
            "INFO:tensorflow:Evaluation [800/1000]\n",
            "INFO:tensorflow:Evaluation [900/1000]\n",
            "INFO:tensorflow:Evaluation [1000/1000]\n",
            "INFO:tensorflow:Finished evaluation at 2018-08-26-20:32:46\n",
            "INFO:tensorflow:Saving dict for global step 3000: average_loss = 47.976418, global_step = 3000, label/mean = 6.809639, loss = 47.976418, prediction/mean = 0.08639983\n",
            "INFO:tensorflow:Saving 'checkpoint_path' summary for global step 3000: /tmp/tmpjmmt745n/model.ckpt-3000\n",
            "INFO:tensorflow:Calling model_fn.\n",
            "INFO:tensorflow:Done calling model_fn.\n",
            "INFO:tensorflow:Starting evaluation at 2018-08-26-20:32:46\n",
            "INFO:tensorflow:Graph was finalized.\n",
            "INFO:tensorflow:Restoring parameters from /tmp/tmpjmmt745n/model.ckpt-3000\n",
            "INFO:tensorflow:Running local_init_op.\n",
            "INFO:tensorflow:Done running local_init_op.\n",
            "INFO:tensorflow:Evaluation [100/1000]\n",
            "INFO:tensorflow:Evaluation [200/1000]\n",
            "INFO:tensorflow:Evaluation [300/1000]\n",
            "INFO:tensorflow:Evaluation [400/1000]\n",
            "INFO:tensorflow:Evaluation [500/1000]\n",
            "INFO:tensorflow:Evaluation [600/1000]\n",
            "INFO:tensorflow:Evaluation [700/1000]\n",
            "INFO:tensorflow:Evaluation [800/1000]\n",
            "INFO:tensorflow:Evaluation [900/1000]\n",
            "INFO:tensorflow:Evaluation [1000/1000]\n",
            "INFO:tensorflow:Finished evaluation at 2018-08-26-20:32:51\n",
            "INFO:tensorflow:Saving dict for global step 3000: average_loss = 49.3595, global_step = 3000, label/mean = 6.9177794, loss = 49.3595, prediction/mean = 0.085518174\n",
            "INFO:tensorflow:Saving 'checkpoint_path' summary for global step 3000: /tmp/tmpjmmt745n/model.ckpt-3000\n",
            "----------------------------------------------------------------------------------------------------\n",
            "****************************************************************************************************\n",
            "*Period[rmse training] 02 : 6.93\n",
            "*Period[rmse eval] 02 : 7.03\n",
            "****************************************************************************************************\n",
            "INFO:tensorflow:Calling model_fn.\n",
            "INFO:tensorflow:Done calling model_fn.\n",
            "INFO:tensorflow:Create CheckpointSaverHook.\n",
            "INFO:tensorflow:Graph was finalized.\n",
            "INFO:tensorflow:Restoring parameters from /tmp/tmpjmmt745n/model.ckpt-3000\n",
            "INFO:tensorflow:Running local_init_op.\n",
            "INFO:tensorflow:Done running local_init_op.\n",
            "INFO:tensorflow:Saving checkpoints for 3000 into /tmp/tmpjmmt745n/model.ckpt.\n",
            "INFO:tensorflow:loss = 51.6493, step = 3000\n",
            "INFO:tensorflow:global_step/sec: 101.926\n",
            "INFO:tensorflow:loss = 40.419025, step = 3100 (0.984 sec)\n",
            "INFO:tensorflow:global_step/sec: 208.793\n",
            "INFO:tensorflow:loss = 63.12892, step = 3200 (0.481 sec)\n",
            "INFO:tensorflow:global_step/sec: 210.675\n",
            "INFO:tensorflow:loss = 48.216988, step = 3300 (0.475 sec)\n",
            "INFO:tensorflow:global_step/sec: 202.349\n",
            "INFO:tensorflow:loss = 58.56949, step = 3400 (0.495 sec)\n",
            "INFO:tensorflow:global_step/sec: 210.59\n",
            "INFO:tensorflow:loss = 64.37572, step = 3500 (0.474 sec)\n",
            "INFO:tensorflow:global_step/sec: 210.701\n",
            "INFO:tensorflow:loss = 50.495914, step = 3600 (0.473 sec)\n",
            "INFO:tensorflow:global_step/sec: 200.457\n",
            "INFO:tensorflow:loss = 62.284187, step = 3700 (0.500 sec)\n",
            "INFO:tensorflow:global_step/sec: 208.1\n",
            "INFO:tensorflow:loss = 6.731771, step = 3800 (0.481 sec)\n",
            "INFO:tensorflow:global_step/sec: 199.515\n",
            "INFO:tensorflow:loss = 48.3394, step = 3900 (0.502 sec)\n",
            "INFO:tensorflow:Saving checkpoints for 4000 into /tmp/tmpjmmt745n/model.ckpt.\n",
            "INFO:tensorflow:Loss for final step: 10.288346.\n",
            "----------------------------------------------------------------------------------------------------\n",
            "INFO:tensorflow:Calling model_fn.\n",
            "INFO:tensorflow:Done calling model_fn.\n",
            "INFO:tensorflow:Starting evaluation at 2018-08-26-20:33:04\n",
            "INFO:tensorflow:Graph was finalized.\n",
            "INFO:tensorflow:Restoring parameters from /tmp/tmpjmmt745n/model.ckpt-4000\n",
            "INFO:tensorflow:Running local_init_op.\n",
            "INFO:tensorflow:Done running local_init_op.\n",
            "INFO:tensorflow:Evaluation [100/1000]\n",
            "INFO:tensorflow:Evaluation [200/1000]\n",
            "INFO:tensorflow:Evaluation [300/1000]\n",
            "INFO:tensorflow:Evaluation [400/1000]\n",
            "INFO:tensorflow:Evaluation [500/1000]\n",
            "INFO:tensorflow:Evaluation [600/1000]\n",
            "INFO:tensorflow:Evaluation [700/1000]\n",
            "INFO:tensorflow:Evaluation [800/1000]\n",
            "INFO:tensorflow:Evaluation [900/1000]\n",
            "INFO:tensorflow:Evaluation [1000/1000]\n",
            "INFO:tensorflow:Finished evaluation at 2018-08-26-20:33:09\n",
            "INFO:tensorflow:Saving dict for global step 4000: average_loss = 47.62309, global_step = 4000, label/mean = 6.809639, loss = 47.62309, prediction/mean = 0.11524085\n",
            "INFO:tensorflow:Saving 'checkpoint_path' summary for global step 4000: /tmp/tmpjmmt745n/model.ckpt-4000\n",
            "INFO:tensorflow:Calling model_fn.\n",
            "INFO:tensorflow:Done calling model_fn.\n",
            "INFO:tensorflow:Starting evaluation at 2018-08-26-20:33:09\n",
            "INFO:tensorflow:Graph was finalized.\n",
            "INFO:tensorflow:Restoring parameters from /tmp/tmpjmmt745n/model.ckpt-4000\n",
            "INFO:tensorflow:Running local_init_op.\n",
            "INFO:tensorflow:Done running local_init_op.\n",
            "INFO:tensorflow:Evaluation [100/1000]\n",
            "INFO:tensorflow:Evaluation [200/1000]\n",
            "INFO:tensorflow:Evaluation [300/1000]\n",
            "INFO:tensorflow:Evaluation [400/1000]\n",
            "INFO:tensorflow:Evaluation [500/1000]\n",
            "INFO:tensorflow:Evaluation [600/1000]\n",
            "INFO:tensorflow:Evaluation [700/1000]\n",
            "INFO:tensorflow:Evaluation [800/1000]\n",
            "INFO:tensorflow:Evaluation [900/1000]\n",
            "INFO:tensorflow:Evaluation [1000/1000]\n",
            "INFO:tensorflow:Finished evaluation at 2018-08-26-20:33:14\n",
            "INFO:tensorflow:Saving dict for global step 4000: average_loss = 49.00129, global_step = 4000, label/mean = 6.9177794, loss = 49.00129, prediction/mean = 0.11406459\n",
            "INFO:tensorflow:Saving 'checkpoint_path' summary for global step 4000: /tmp/tmpjmmt745n/model.ckpt-4000\n",
            "----------------------------------------------------------------------------------------------------\n",
            "****************************************************************************************************\n",
            "*Period[rmse training] 03 : 6.90\n",
            "*Period[rmse eval] 03 : 7.00\n",
            "****************************************************************************************************\n",
            "INFO:tensorflow:Calling model_fn.\n",
            "INFO:tensorflow:Done calling model_fn.\n",
            "INFO:tensorflow:Create CheckpointSaverHook.\n",
            "INFO:tensorflow:Graph was finalized.\n",
            "INFO:tensorflow:Restoring parameters from /tmp/tmpjmmt745n/model.ckpt-4000\n",
            "INFO:tensorflow:Running local_init_op.\n",
            "INFO:tensorflow:Done running local_init_op.\n",
            "INFO:tensorflow:Saving checkpoints for 4000 into /tmp/tmpjmmt745n/model.ckpt.\n",
            "INFO:tensorflow:loss = 59.16799, step = 4000\n",
            "INFO:tensorflow:global_step/sec: 105.019\n",
            "INFO:tensorflow:loss = 72.99477, step = 4100 (0.957 sec)\n",
            "INFO:tensorflow:global_step/sec: 202.482\n",
            "INFO:tensorflow:loss = 50.75847, step = 4200 (0.494 sec)\n",
            "INFO:tensorflow:global_step/sec: 209.137\n",
            "INFO:tensorflow:loss = 58.88158, step = 4300 (0.474 sec)\n",
            "INFO:tensorflow:global_step/sec: 205.216\n",
            "INFO:tensorflow:loss = 51.081856, step = 4400 (0.488 sec)\n",
            "INFO:tensorflow:global_step/sec: 213.257\n",
            "INFO:tensorflow:loss = 78.60597, step = 4500 (0.468 sec)\n",
            "INFO:tensorflow:global_step/sec: 211.938\n",
            "INFO:tensorflow:loss = 57.328175, step = 4600 (0.473 sec)\n",
            "INFO:tensorflow:global_step/sec: 206.466\n",
            "INFO:tensorflow:loss = 51.4062, step = 4700 (0.485 sec)\n",
            "INFO:tensorflow:global_step/sec: 210.271\n",
            "INFO:tensorflow:loss = 12.597585, step = 4800 (0.475 sec)\n",
            "INFO:tensorflow:global_step/sec: 200.476\n",
            "INFO:tensorflow:loss = 11.114137, step = 4900 (0.501 sec)\n",
            "INFO:tensorflow:Saving checkpoints for 5000 into /tmp/tmpjmmt745n/model.ckpt.\n",
            "INFO:tensorflow:Loss for final step: 9.670642.\n",
            "----------------------------------------------------------------------------------------------------\n",
            "INFO:tensorflow:Calling model_fn.\n",
            "INFO:tensorflow:Done calling model_fn.\n",
            "INFO:tensorflow:Starting evaluation at 2018-08-26-20:33:26\n",
            "INFO:tensorflow:Graph was finalized.\n",
            "INFO:tensorflow:Restoring parameters from /tmp/tmpjmmt745n/model.ckpt-5000\n",
            "INFO:tensorflow:Running local_init_op.\n",
            "INFO:tensorflow:Done running local_init_op.\n",
            "INFO:tensorflow:Evaluation [100/1000]\n",
            "INFO:tensorflow:Evaluation [200/1000]\n",
            "INFO:tensorflow:Evaluation [300/1000]\n",
            "INFO:tensorflow:Evaluation [400/1000]\n",
            "INFO:tensorflow:Evaluation [500/1000]\n",
            "INFO:tensorflow:Evaluation [600/1000]\n",
            "INFO:tensorflow:Evaluation [700/1000]\n",
            "INFO:tensorflow:Evaluation [800/1000]\n",
            "INFO:tensorflow:Evaluation [900/1000]\n",
            "INFO:tensorflow:Evaluation [1000/1000]\n",
            "INFO:tensorflow:Finished evaluation at 2018-08-26-20:33:31\n",
            "INFO:tensorflow:Saving dict for global step 5000: average_loss = 47.271694, global_step = 5000, label/mean = 6.809639, loss = 47.271694, prediction/mean = 0.14407778\n",
            "INFO:tensorflow:Saving 'checkpoint_path' summary for global step 5000: /tmp/tmpjmmt745n/model.ckpt-5000\n",
            "INFO:tensorflow:Calling model_fn.\n",
            "INFO:tensorflow:Done calling model_fn.\n",
            "INFO:tensorflow:Starting evaluation at 2018-08-26-20:33:32\n",
            "INFO:tensorflow:Graph was finalized.\n",
            "INFO:tensorflow:Restoring parameters from /tmp/tmpjmmt745n/model.ckpt-5000\n",
            "INFO:tensorflow:Running local_init_op.\n",
            "INFO:tensorflow:Done running local_init_op.\n",
            "INFO:tensorflow:Evaluation [100/1000]\n",
            "INFO:tensorflow:Evaluation [200/1000]\n",
            "INFO:tensorflow:Evaluation [300/1000]\n",
            "INFO:tensorflow:Evaluation [400/1000]\n",
            "INFO:tensorflow:Evaluation [500/1000]\n",
            "INFO:tensorflow:Evaluation [600/1000]\n",
            "INFO:tensorflow:Evaluation [700/1000]\n",
            "INFO:tensorflow:Evaluation [800/1000]\n",
            "INFO:tensorflow:Evaluation [900/1000]\n",
            "INFO:tensorflow:Evaluation [1000/1000]\n",
            "INFO:tensorflow:Finished evaluation at 2018-08-26-20:33:37\n",
            "INFO:tensorflow:Saving dict for global step 5000: average_loss = 48.644913, global_step = 5000, label/mean = 6.9177794, loss = 48.644913, prediction/mean = 0.14260654\n",
            "INFO:tensorflow:Saving 'checkpoint_path' summary for global step 5000: /tmp/tmpjmmt745n/model.ckpt-5000\n",
            "----------------------------------------------------------------------------------------------------\n",
            "****************************************************************************************************\n",
            "*Period[rmse training] 04 : 6.88\n",
            "*Period[rmse eval] 04 : 6.97\n",
            "****************************************************************************************************\n",
            "INFO:tensorflow:Calling model_fn.\n",
            "INFO:tensorflow:Done calling model_fn.\n",
            "INFO:tensorflow:Create CheckpointSaverHook.\n",
            "INFO:tensorflow:Graph was finalized.\n",
            "INFO:tensorflow:Restoring parameters from /tmp/tmpjmmt745n/model.ckpt-5000\n",
            "INFO:tensorflow:Running local_init_op.\n",
            "INFO:tensorflow:Done running local_init_op.\n",
            "INFO:tensorflow:Saving checkpoints for 5000 into /tmp/tmpjmmt745n/model.ckpt.\n",
            "INFO:tensorflow:loss = 67.20755, step = 5000\n",
            "INFO:tensorflow:global_step/sec: 101.206\n",
            "INFO:tensorflow:loss = 63.729725, step = 5100 (0.994 sec)\n",
            "INFO:tensorflow:global_step/sec: 210.494\n",
            "INFO:tensorflow:loss = 49.963657, step = 5200 (0.471 sec)\n",
            "INFO:tensorflow:global_step/sec: 213.544\n",
            "INFO:tensorflow:loss = 60.806408, step = 5300 (0.470 sec)\n",
            "INFO:tensorflow:global_step/sec: 204.299\n",
            "INFO:tensorflow:loss = 34.516506, step = 5400 (0.490 sec)\n",
            "INFO:tensorflow:global_step/sec: 205.979\n",
            "INFO:tensorflow:loss = 50.755795, step = 5500 (0.483 sec)\n",
            "INFO:tensorflow:global_step/sec: 206.017\n",
            "INFO:tensorflow:loss = 9.843899, step = 5600 (0.489 sec)\n",
            "INFO:tensorflow:global_step/sec: 211.49\n",
            "INFO:tensorflow:loss = 12.303392, step = 5700 (0.472 sec)\n",
            "INFO:tensorflow:global_step/sec: 208.252\n",
            "INFO:tensorflow:loss = 71.46132, step = 5800 (0.479 sec)\n",
            "INFO:tensorflow:global_step/sec: 202.02\n",
            "INFO:tensorflow:loss = 43.325943, step = 5900 (0.497 sec)\n",
            "INFO:tensorflow:Saving checkpoints for 6000 into /tmp/tmpjmmt745n/model.ckpt.\n",
            "INFO:tensorflow:Loss for final step: 48.70535.\n",
            "----------------------------------------------------------------------------------------------------\n",
            "INFO:tensorflow:Calling model_fn.\n",
            "INFO:tensorflow:Done calling model_fn.\n",
            "INFO:tensorflow:Starting evaluation at 2018-08-26-20:33:49\n",
            "INFO:tensorflow:Graph was finalized.\n",
            "INFO:tensorflow:Restoring parameters from /tmp/tmpjmmt745n/model.ckpt-6000\n",
            "INFO:tensorflow:Running local_init_op.\n",
            "INFO:tensorflow:Done running local_init_op.\n",
            "INFO:tensorflow:Evaluation [100/1000]\n",
            "INFO:tensorflow:Evaluation [200/1000]\n",
            "INFO:tensorflow:Evaluation [300/1000]\n",
            "INFO:tensorflow:Evaluation [400/1000]\n",
            "INFO:tensorflow:Evaluation [500/1000]\n",
            "INFO:tensorflow:Evaluation [600/1000]\n",
            "INFO:tensorflow:Evaluation [700/1000]\n",
            "INFO:tensorflow:Evaluation [800/1000]\n",
            "INFO:tensorflow:Evaluation [900/1000]\n",
            "INFO:tensorflow:Evaluation [1000/1000]\n",
            "INFO:tensorflow:Finished evaluation at 2018-08-26-20:33:54\n",
            "INFO:tensorflow:Saving dict for global step 6000: average_loss = 46.923496, global_step = 6000, label/mean = 6.809639, loss = 46.923496, prediction/mean = 0.17280717\n",
            "INFO:tensorflow:Saving 'checkpoint_path' summary for global step 6000: /tmp/tmpjmmt745n/model.ckpt-6000\n",
            "INFO:tensorflow:Calling model_fn.\n",
            "INFO:tensorflow:Done calling model_fn.\n",
            "INFO:tensorflow:Starting evaluation at 2018-08-26-20:33:54\n",
            "INFO:tensorflow:Graph was finalized.\n",
            "INFO:tensorflow:Restoring parameters from /tmp/tmpjmmt745n/model.ckpt-6000\n",
            "INFO:tensorflow:Running local_init_op.\n",
            "INFO:tensorflow:Done running local_init_op.\n",
            "INFO:tensorflow:Evaluation [100/1000]\n",
            "INFO:tensorflow:Evaluation [200/1000]\n",
            "INFO:tensorflow:Evaluation [300/1000]\n",
            "INFO:tensorflow:Evaluation [400/1000]\n",
            "INFO:tensorflow:Evaluation [500/1000]\n",
            "INFO:tensorflow:Evaluation [600/1000]\n",
            "INFO:tensorflow:Evaluation [700/1000]\n",
            "INFO:tensorflow:Evaluation [800/1000]\n",
            "INFO:tensorflow:Evaluation [900/1000]\n",
            "INFO:tensorflow:Evaluation [1000/1000]\n",
            "INFO:tensorflow:Finished evaluation at 2018-08-26-20:33:59\n",
            "INFO:tensorflow:Saving dict for global step 6000: average_loss = 48.29173, global_step = 6000, label/mean = 6.9177794, loss = 48.29173, prediction/mean = 0.17104214\n",
            "INFO:tensorflow:Saving 'checkpoint_path' summary for global step 6000: /tmp/tmpjmmt745n/model.ckpt-6000\n",
            "----------------------------------------------------------------------------------------------------\n",
            "****************************************************************************************************\n",
            "*Period[rmse training] 05 : 6.85\n",
            "*Period[rmse eval] 05 : 6.95\n",
            "****************************************************************************************************\n",
            "INFO:tensorflow:Calling model_fn.\n",
            "INFO:tensorflow:Done calling model_fn.\n",
            "INFO:tensorflow:Create CheckpointSaverHook.\n",
            "INFO:tensorflow:Graph was finalized.\n",
            "INFO:tensorflow:Restoring parameters from /tmp/tmpjmmt745n/model.ckpt-6000\n",
            "INFO:tensorflow:Running local_init_op.\n",
            "INFO:tensorflow:Done running local_init_op.\n",
            "INFO:tensorflow:Saving checkpoints for 6000 into /tmp/tmpjmmt745n/model.ckpt.\n",
            "INFO:tensorflow:loss = 51.119827, step = 6000\n",
            "INFO:tensorflow:global_step/sec: 101.685\n",
            "INFO:tensorflow:loss = 9.9393835, step = 6100 (0.987 sec)\n",
            "INFO:tensorflow:global_step/sec: 208.382\n",
            "INFO:tensorflow:loss = 40.20691, step = 6200 (0.481 sec)\n",
            "INFO:tensorflow:global_step/sec: 199.747\n",
            "INFO:tensorflow:loss = 40.482227, step = 6300 (0.501 sec)\n",
            "INFO:tensorflow:global_step/sec: 213.029\n",
            "INFO:tensorflow:loss = 62.49116, step = 6400 (0.467 sec)\n",
            "INFO:tensorflow:global_step/sec: 213.076\n",
            "INFO:tensorflow:loss = 52.000008, step = 6500 (0.471 sec)\n",
            "INFO:tensorflow:global_step/sec: 205.04\n",
            "INFO:tensorflow:loss = 51.78222, step = 6600 (0.486 sec)\n",
            "INFO:tensorflow:global_step/sec: 212.406\n",
            "INFO:tensorflow:loss = 48.080917, step = 6700 (0.473 sec)\n",
            "INFO:tensorflow:global_step/sec: 203.746\n",
            "INFO:tensorflow:loss = 38.10639, step = 6800 (0.488 sec)\n",
            "INFO:tensorflow:global_step/sec: 214.64\n",
            "INFO:tensorflow:loss = 46.448868, step = 6900 (0.468 sec)\n",
            "INFO:tensorflow:Saving checkpoints for 7000 into /tmp/tmpjmmt745n/model.ckpt.\n",
            "INFO:tensorflow:Loss for final step: 57.822857.\n",
            "----------------------------------------------------------------------------------------------------\n",
            "INFO:tensorflow:Calling model_fn.\n",
            "INFO:tensorflow:Done calling model_fn.\n",
            "INFO:tensorflow:Starting evaluation at 2018-08-26-20:34:11\n",
            "INFO:tensorflow:Graph was finalized.\n",
            "INFO:tensorflow:Restoring parameters from /tmp/tmpjmmt745n/model.ckpt-7000\n",
            "INFO:tensorflow:Running local_init_op.\n",
            "INFO:tensorflow:Done running local_init_op.\n",
            "INFO:tensorflow:Evaluation [100/1000]\n",
            "INFO:tensorflow:Evaluation [200/1000]\n",
            "INFO:tensorflow:Evaluation [300/1000]\n",
            "INFO:tensorflow:Evaluation [400/1000]\n",
            "INFO:tensorflow:Evaluation [500/1000]\n",
            "INFO:tensorflow:Evaluation [600/1000]\n",
            "INFO:tensorflow:Evaluation [700/1000]\n",
            "INFO:tensorflow:Evaluation [800/1000]\n",
            "INFO:tensorflow:Evaluation [900/1000]\n",
            "INFO:tensorflow:Evaluation [1000/1000]\n",
            "INFO:tensorflow:Finished evaluation at 2018-08-26-20:34:17\n",
            "INFO:tensorflow:Saving dict for global step 7000: average_loss = 46.576622, global_step = 7000, label/mean = 6.809639, loss = 46.576622, prediction/mean = 0.20158996\n",
            "INFO:tensorflow:Saving 'checkpoint_path' summary for global step 7000: /tmp/tmpjmmt745n/model.ckpt-7000\n",
            "INFO:tensorflow:Calling model_fn.\n",
            "INFO:tensorflow:Done calling model_fn.\n",
            "INFO:tensorflow:Starting evaluation at 2018-08-26-20:34:17\n",
            "INFO:tensorflow:Graph was finalized.\n",
            "INFO:tensorflow:Restoring parameters from /tmp/tmpjmmt745n/model.ckpt-7000\n",
            "INFO:tensorflow:Running local_init_op.\n",
            "INFO:tensorflow:Done running local_init_op.\n",
            "INFO:tensorflow:Evaluation [100/1000]\n",
            "INFO:tensorflow:Evaluation [200/1000]\n",
            "INFO:tensorflow:Evaluation [300/1000]\n",
            "INFO:tensorflow:Evaluation [400/1000]\n",
            "INFO:tensorflow:Evaluation [500/1000]\n",
            "INFO:tensorflow:Evaluation [600/1000]\n",
            "INFO:tensorflow:Evaluation [700/1000]\n",
            "INFO:tensorflow:Evaluation [800/1000]\n",
            "INFO:tensorflow:Evaluation [900/1000]\n",
            "INFO:tensorflow:Evaluation [1000/1000]\n",
            "INFO:tensorflow:Finished evaluation at 2018-08-26-20:34:22\n",
            "INFO:tensorflow:Saving dict for global step 7000: average_loss = 47.939747, global_step = 7000, label/mean = 6.9177794, loss = 47.939747, prediction/mean = 0.19953133\n",
            "INFO:tensorflow:Saving 'checkpoint_path' summary for global step 7000: /tmp/tmpjmmt745n/model.ckpt-7000\n",
            "----------------------------------------------------------------------------------------------------\n",
            "****************************************************************************************************\n",
            "*Period[rmse training] 06 : 6.82\n",
            "*Period[rmse eval] 06 : 6.92\n",
            "****************************************************************************************************\n",
            "INFO:tensorflow:Calling model_fn.\n",
            "INFO:tensorflow:Done calling model_fn.\n",
            "INFO:tensorflow:Create CheckpointSaverHook.\n",
            "INFO:tensorflow:Graph was finalized.\n",
            "INFO:tensorflow:Restoring parameters from /tmp/tmpjmmt745n/model.ckpt-7000\n",
            "INFO:tensorflow:Running local_init_op.\n",
            "INFO:tensorflow:Done running local_init_op.\n",
            "INFO:tensorflow:Saving checkpoints for 7000 into /tmp/tmpjmmt745n/model.ckpt.\n",
            "INFO:tensorflow:loss = 53.757954, step = 7000\n",
            "INFO:tensorflow:global_step/sec: 100.068\n",
            "INFO:tensorflow:loss = 52.040527, step = 7100 (1.004 sec)\n",
            "INFO:tensorflow:global_step/sec: 209.217\n",
            "INFO:tensorflow:loss = 60.163815, step = 7200 (0.474 sec)\n",
            "INFO:tensorflow:global_step/sec: 198.535\n",
            "INFO:tensorflow:loss = 9.580413, step = 7300 (0.505 sec)\n",
            "INFO:tensorflow:global_step/sec: 208.908\n",
            "INFO:tensorflow:loss = 8.561404, step = 7400 (0.481 sec)\n",
            "INFO:tensorflow:global_step/sec: 214.313\n",
            "INFO:tensorflow:loss = 5.878575, step = 7500 (0.466 sec)\n",
            "INFO:tensorflow:global_step/sec: 203.319\n",
            "INFO:tensorflow:loss = 52.722595, step = 7600 (0.492 sec)\n",
            "INFO:tensorflow:global_step/sec: 205.812\n",
            "INFO:tensorflow:loss = 57.272205, step = 7700 (0.483 sec)\n",
            "INFO:tensorflow:global_step/sec: 202.431\n",
            "INFO:tensorflow:loss = 58.67982, step = 7800 (0.498 sec)\n",
            "INFO:tensorflow:global_step/sec: 202.462\n",
            "INFO:tensorflow:loss = 66.003815, step = 7900 (0.491 sec)\n",
            "INFO:tensorflow:Saving checkpoints for 8000 into /tmp/tmpjmmt745n/model.ckpt.\n",
            "INFO:tensorflow:Loss for final step: 92.042564.\n",
            "----------------------------------------------------------------------------------------------------\n",
            "INFO:tensorflow:Calling model_fn.\n",
            "INFO:tensorflow:Done calling model_fn.\n",
            "INFO:tensorflow:Starting evaluation at 2018-08-26-20:34:34\n",
            "INFO:tensorflow:Graph was finalized.\n",
            "INFO:tensorflow:Restoring parameters from /tmp/tmpjmmt745n/model.ckpt-8000\n",
            "INFO:tensorflow:Running local_init_op.\n",
            "INFO:tensorflow:Done running local_init_op.\n",
            "INFO:tensorflow:Evaluation [100/1000]\n",
            "INFO:tensorflow:Evaluation [200/1000]\n",
            "INFO:tensorflow:Evaluation [300/1000]\n",
            "INFO:tensorflow:Evaluation [400/1000]\n",
            "INFO:tensorflow:Evaluation [500/1000]\n",
            "INFO:tensorflow:Evaluation [600/1000]\n",
            "INFO:tensorflow:Evaluation [700/1000]\n",
            "INFO:tensorflow:Evaluation [800/1000]\n",
            "INFO:tensorflow:Evaluation [900/1000]\n",
            "INFO:tensorflow:Evaluation [1000/1000]\n",
            "INFO:tensorflow:Finished evaluation at 2018-08-26-20:34:40\n",
            "INFO:tensorflow:Saving dict for global step 8000: average_loss = 46.231266, global_step = 8000, label/mean = 6.809639, loss = 46.231266, prediction/mean = 0.23040475\n",
            "INFO:tensorflow:Saving 'checkpoint_path' summary for global step 8000: /tmp/tmpjmmt745n/model.ckpt-8000\n",
            "INFO:tensorflow:Calling model_fn.\n",
            "INFO:tensorflow:Done calling model_fn.\n",
            "INFO:tensorflow:Starting evaluation at 2018-08-26-20:34:40\n",
            "INFO:tensorflow:Graph was finalized.\n",
            "INFO:tensorflow:Restoring parameters from /tmp/tmpjmmt745n/model.ckpt-8000\n",
            "INFO:tensorflow:Running local_init_op.\n",
            "INFO:tensorflow:Done running local_init_op.\n",
            "INFO:tensorflow:Evaluation [100/1000]\n",
            "INFO:tensorflow:Evaluation [200/1000]\n",
            "INFO:tensorflow:Evaluation [300/1000]\n",
            "INFO:tensorflow:Evaluation [400/1000]\n",
            "INFO:tensorflow:Evaluation [500/1000]\n",
            "INFO:tensorflow:Evaluation [600/1000]\n",
            "INFO:tensorflow:Evaluation [700/1000]\n",
            "INFO:tensorflow:Evaluation [800/1000]\n",
            "INFO:tensorflow:Evaluation [900/1000]\n",
            "INFO:tensorflow:Evaluation [1000/1000]\n",
            "INFO:tensorflow:Finished evaluation at 2018-08-26-20:34:45\n",
            "INFO:tensorflow:Saving dict for global step 8000: average_loss = 47.589336, global_step = 8000, label/mean = 6.9177794, loss = 47.589336, prediction/mean = 0.22805138\n",
            "INFO:tensorflow:Saving 'checkpoint_path' summary for global step 8000: /tmp/tmpjmmt745n/model.ckpt-8000\n",
            "----------------------------------------------------------------------------------------------------\n",
            "****************************************************************************************************\n",
            "*Period[rmse training] 07 : 6.80\n",
            "*Period[rmse eval] 07 : 6.90\n",
            "****************************************************************************************************\n",
            "INFO:tensorflow:Calling model_fn.\n",
            "INFO:tensorflow:Done calling model_fn.\n",
            "INFO:tensorflow:Create CheckpointSaverHook.\n",
            "INFO:tensorflow:Graph was finalized.\n",
            "INFO:tensorflow:Restoring parameters from /tmp/tmpjmmt745n/model.ckpt-8000\n",
            "INFO:tensorflow:Running local_init_op.\n",
            "INFO:tensorflow:Done running local_init_op.\n",
            "INFO:tensorflow:Saving checkpoints for 8000 into /tmp/tmpjmmt745n/model.ckpt.\n",
            "INFO:tensorflow:loss = 56.750866, step = 8000\n",
            "INFO:tensorflow:global_step/sec: 99.9304\n",
            "INFO:tensorflow:loss = 42.26069, step = 8100 (1.007 sec)\n",
            "INFO:tensorflow:global_step/sec: 203.361\n",
            "INFO:tensorflow:loss = 46.649155, step = 8200 (0.487 sec)\n",
            "INFO:tensorflow:global_step/sec: 213.057\n",
            "INFO:tensorflow:loss = 35.918015, step = 8300 (0.473 sec)\n",
            "INFO:tensorflow:global_step/sec: 212.532\n",
            "INFO:tensorflow:loss = 46.683956, step = 8400 (0.468 sec)\n",
            "INFO:tensorflow:global_step/sec: 205.953\n",
            "INFO:tensorflow:loss = 66.69616, step = 8500 (0.487 sec)\n",
            "INFO:tensorflow:global_step/sec: 212.691\n",
            "INFO:tensorflow:loss = 71.793304, step = 8600 (0.473 sec)\n",
            "INFO:tensorflow:global_step/sec: 207.424\n",
            "INFO:tensorflow:loss = 61.419193, step = 8700 (0.479 sec)\n",
            "INFO:tensorflow:global_step/sec: 201.734\n",
            "INFO:tensorflow:loss = 56.54444, step = 8800 (0.497 sec)\n",
            "INFO:tensorflow:global_step/sec: 207.937\n",
            "INFO:tensorflow:loss = 8.748916, step = 8900 (0.482 sec)\n",
            "INFO:tensorflow:Saving checkpoints for 9000 into /tmp/tmpjmmt745n/model.ckpt.\n",
            "INFO:tensorflow:Loss for final step: 44.41972.\n",
            "----------------------------------------------------------------------------------------------------\n",
            "INFO:tensorflow:Calling model_fn.\n",
            "INFO:tensorflow:Done calling model_fn.\n",
            "INFO:tensorflow:Starting evaluation at 2018-08-26-20:34:57\n",
            "INFO:tensorflow:Graph was finalized.\n",
            "INFO:tensorflow:Restoring parameters from /tmp/tmpjmmt745n/model.ckpt-9000\n",
            "INFO:tensorflow:Running local_init_op.\n",
            "INFO:tensorflow:Done running local_init_op.\n",
            "INFO:tensorflow:Evaluation [100/1000]\n",
            "INFO:tensorflow:Evaluation [200/1000]\n",
            "INFO:tensorflow:Evaluation [300/1000]\n",
            "INFO:tensorflow:Evaluation [400/1000]\n",
            "INFO:tensorflow:Evaluation [500/1000]\n",
            "INFO:tensorflow:Evaluation [600/1000]\n",
            "INFO:tensorflow:Evaluation [700/1000]\n",
            "INFO:tensorflow:Evaluation [800/1000]\n",
            "INFO:tensorflow:Evaluation [900/1000]\n",
            "INFO:tensorflow:Evaluation [1000/1000]\n",
            "INFO:tensorflow:Finished evaluation at 2018-08-26-20:35:02\n",
            "INFO:tensorflow:Saving dict for global step 9000: average_loss = 45.888504, global_step = 9000, label/mean = 6.809639, loss = 45.888504, prediction/mean = 0.25916076\n",
            "INFO:tensorflow:Saving 'checkpoint_path' summary for global step 9000: /tmp/tmpjmmt745n/model.ckpt-9000\n",
            "INFO:tensorflow:Calling model_fn.\n",
            "INFO:tensorflow:Done calling model_fn.\n",
            "INFO:tensorflow:Starting evaluation at 2018-08-26-20:35:03\n",
            "INFO:tensorflow:Graph was finalized.\n",
            "INFO:tensorflow:Restoring parameters from /tmp/tmpjmmt745n/model.ckpt-9000\n",
            "INFO:tensorflow:Running local_init_op.\n",
            "INFO:tensorflow:Done running local_init_op.\n",
            "INFO:tensorflow:Evaluation [100/1000]\n",
            "INFO:tensorflow:Evaluation [200/1000]\n",
            "INFO:tensorflow:Evaluation [300/1000]\n",
            "INFO:tensorflow:Evaluation [400/1000]\n",
            "INFO:tensorflow:Evaluation [500/1000]\n",
            "INFO:tensorflow:Evaluation [600/1000]\n",
            "INFO:tensorflow:Evaluation [700/1000]\n",
            "INFO:tensorflow:Evaluation [800/1000]\n",
            "INFO:tensorflow:Evaluation [900/1000]\n",
            "INFO:tensorflow:Evaluation [1000/1000]\n",
            "INFO:tensorflow:Finished evaluation at 2018-08-26-20:35:08\n",
            "INFO:tensorflow:Saving dict for global step 9000: average_loss = 47.24139, global_step = 9000, label/mean = 6.9177794, loss = 47.24139, prediction/mean = 0.25651366\n",
            "INFO:tensorflow:Saving 'checkpoint_path' summary for global step 9000: /tmp/tmpjmmt745n/model.ckpt-9000\n",
            "----------------------------------------------------------------------------------------------------\n",
            "****************************************************************************************************\n",
            "*Period[rmse training] 08 : 6.77\n",
            "*Period[rmse eval] 08 : 6.87\n",
            "****************************************************************************************************\n",
            "INFO:tensorflow:Calling model_fn.\n",
            "INFO:tensorflow:Done calling model_fn.\n",
            "INFO:tensorflow:Create CheckpointSaverHook.\n",
            "INFO:tensorflow:Graph was finalized.\n",
            "INFO:tensorflow:Restoring parameters from /tmp/tmpjmmt745n/model.ckpt-9000\n",
            "INFO:tensorflow:Running local_init_op.\n",
            "INFO:tensorflow:Done running local_init_op.\n",
            "INFO:tensorflow:Saving checkpoints for 9000 into /tmp/tmpjmmt745n/model.ckpt.\n",
            "INFO:tensorflow:loss = 58.68557, step = 9000\n",
            "INFO:tensorflow:global_step/sec: 99.7081\n",
            "INFO:tensorflow:loss = 63.786045, step = 9100 (1.005 sec)\n",
            "INFO:tensorflow:global_step/sec: 206.92\n",
            "INFO:tensorflow:loss = 55.47151, step = 9200 (0.486 sec)\n",
            "INFO:tensorflow:global_step/sec: 210.487\n",
            "INFO:tensorflow:loss = 61.049946, step = 9300 (0.474 sec)\n",
            "INFO:tensorflow:global_step/sec: 199.317\n",
            "INFO:tensorflow:loss = 57.722843, step = 9400 (0.503 sec)\n",
            "INFO:tensorflow:global_step/sec: 209.807\n",
            "INFO:tensorflow:loss = 5.67446, step = 9500 (0.476 sec)\n",
            "INFO:tensorflow:global_step/sec: 211.552\n",
            "INFO:tensorflow:loss = 44.40774, step = 9600 (0.474 sec)\n",
            "INFO:tensorflow:global_step/sec: 204.591\n",
            "INFO:tensorflow:loss = 48.886738, step = 9700 (0.484 sec)\n",
            "INFO:tensorflow:global_step/sec: 212.612\n",
            "INFO:tensorflow:loss = 53.407715, step = 9800 (0.472 sec)\n",
            "INFO:tensorflow:global_step/sec: 204.315\n",
            "INFO:tensorflow:loss = 44.319435, step = 9900 (0.492 sec)\n",
            "INFO:tensorflow:Saving checkpoints for 10000 into /tmp/tmpjmmt745n/model.ckpt.\n",
            "INFO:tensorflow:Loss for final step: 52.95001.\n",
            "----------------------------------------------------------------------------------------------------\n",
            "INFO:tensorflow:Calling model_fn.\n",
            "INFO:tensorflow:Done calling model_fn.\n",
            "INFO:tensorflow:Starting evaluation at 2018-08-26-20:35:20\n",
            "INFO:tensorflow:Graph was finalized.\n",
            "INFO:tensorflow:Restoring parameters from /tmp/tmpjmmt745n/model.ckpt-10000\n",
            "INFO:tensorflow:Running local_init_op.\n",
            "INFO:tensorflow:Done running local_init_op.\n",
            "INFO:tensorflow:Evaluation [100/1000]\n",
            "INFO:tensorflow:Evaluation [200/1000]\n",
            "INFO:tensorflow:Evaluation [300/1000]\n",
            "INFO:tensorflow:Evaluation [400/1000]\n",
            "INFO:tensorflow:Evaluation [500/1000]\n",
            "INFO:tensorflow:Evaluation [600/1000]\n",
            "INFO:tensorflow:Evaluation [700/1000]\n",
            "INFO:tensorflow:Evaluation [800/1000]\n",
            "INFO:tensorflow:Evaluation [900/1000]\n",
            "INFO:tensorflow:Evaluation [1000/1000]\n",
            "INFO:tensorflow:Finished evaluation at 2018-08-26-20:35:25\n",
            "INFO:tensorflow:Saving dict for global step 10000: average_loss = 45.547005, global_step = 10000, label/mean = 6.809639, loss = 45.547005, prediction/mean = 0.2879816\n",
            "INFO:tensorflow:Saving 'checkpoint_path' summary for global step 10000: /tmp/tmpjmmt745n/model.ckpt-10000\n",
            "INFO:tensorflow:Calling model_fn.\n",
            "INFO:tensorflow:Done calling model_fn.\n",
            "INFO:tensorflow:Starting evaluation at 2018-08-26-20:35:26\n",
            "INFO:tensorflow:Graph was finalized.\n",
            "INFO:tensorflow:Restoring parameters from /tmp/tmpjmmt745n/model.ckpt-10000\n",
            "INFO:tensorflow:Running local_init_op.\n",
            "INFO:tensorflow:Done running local_init_op.\n",
            "INFO:tensorflow:Evaluation [100/1000]\n",
            "INFO:tensorflow:Evaluation [200/1000]\n",
            "INFO:tensorflow:Evaluation [300/1000]\n",
            "INFO:tensorflow:Evaluation [400/1000]\n",
            "INFO:tensorflow:Evaluation [500/1000]\n",
            "INFO:tensorflow:Evaluation [600/1000]\n",
            "INFO:tensorflow:Evaluation [700/1000]\n",
            "INFO:tensorflow:Evaluation [800/1000]\n",
            "INFO:tensorflow:Evaluation [900/1000]\n",
            "INFO:tensorflow:Evaluation [1000/1000]\n",
            "INFO:tensorflow:Finished evaluation at 2018-08-26-20:35:30\n",
            "INFO:tensorflow:Saving dict for global step 10000: average_loss = 46.894646, global_step = 10000, label/mean = 6.9177794, loss = 46.894646, prediction/mean = 0.2850407\n",
            "INFO:tensorflow:Saving 'checkpoint_path' summary for global step 10000: /tmp/tmpjmmt745n/model.ckpt-10000\n",
            "----------------------------------------------------------------------------------------------------\n",
            "****************************************************************************************************\n",
            "*Period[rmse training] 09 : 6.75\n",
            "*Period[rmse eval] 09 : 6.85\n",
            "****************************************************************************************************\n",
            "INFO:tensorflow:Calling model_fn.\n",
            "INFO:tensorflow:Done calling model_fn.\n",
            "INFO:tensorflow:Create CheckpointSaverHook.\n",
            "INFO:tensorflow:Graph was finalized.\n",
            "INFO:tensorflow:Restoring parameters from /tmp/tmpjmmt745n/model.ckpt-10000\n",
            "INFO:tensorflow:Running local_init_op.\n",
            "INFO:tensorflow:Done running local_init_op.\n",
            "INFO:tensorflow:Saving checkpoints for 10000 into /tmp/tmpjmmt745n/model.ckpt.\n",
            "INFO:tensorflow:loss = 58.0569, step = 10000\n",
            "INFO:tensorflow:global_step/sec: 98.2354\n",
            "INFO:tensorflow:loss = 29.773758, step = 10100 (1.024 sec)\n",
            "INFO:tensorflow:global_step/sec: 205.479\n",
            "INFO:tensorflow:loss = 65.01935, step = 10200 (0.485 sec)\n",
            "INFO:tensorflow:global_step/sec: 212.239\n",
            "INFO:tensorflow:loss = 45.90347, step = 10300 (0.471 sec)\n",
            "INFO:tensorflow:global_step/sec: 199.22\n",
            "INFO:tensorflow:loss = 38.51642, step = 10400 (0.500 sec)\n",
            "INFO:tensorflow:global_step/sec: 212.411\n",
            "INFO:tensorflow:loss = 66.20385, step = 10500 (0.473 sec)\n",
            "INFO:tensorflow:global_step/sec: 200.119\n",
            "INFO:tensorflow:loss = 44.76093, step = 10600 (0.501 sec)\n",
            "INFO:tensorflow:global_step/sec: 211.157\n",
            "INFO:tensorflow:loss = 62.756912, step = 10700 (0.472 sec)\n",
            "INFO:tensorflow:global_step/sec: 207.279\n",
            "INFO:tensorflow:loss = 53.07713, step = 10800 (0.482 sec)\n",
            "INFO:tensorflow:global_step/sec: 201.438\n",
            "INFO:tensorflow:loss = 8.738325, step = 10900 (0.494 sec)\n",
            "INFO:tensorflow:Saving checkpoints for 11000 into /tmp/tmpjmmt745n/model.ckpt.\n",
            "INFO:tensorflow:Loss for final step: 61.642914.\n",
            "----------------------------------------------------------------------------------------------------\n",
            "INFO:tensorflow:Calling model_fn.\n",
            "INFO:tensorflow:Done calling model_fn.\n",
            "INFO:tensorflow:Starting evaluation at 2018-08-26-20:35:43\n",
            "INFO:tensorflow:Graph was finalized.\n",
            "INFO:tensorflow:Restoring parameters from /tmp/tmpjmmt745n/model.ckpt-11000\n",
            "INFO:tensorflow:Running local_init_op.\n",
            "INFO:tensorflow:Done running local_init_op.\n",
            "INFO:tensorflow:Evaluation [100/1000]\n",
            "INFO:tensorflow:Evaluation [200/1000]\n",
            "INFO:tensorflow:Evaluation [300/1000]\n",
            "INFO:tensorflow:Evaluation [400/1000]\n",
            "INFO:tensorflow:Evaluation [500/1000]\n",
            "INFO:tensorflow:Evaluation [600/1000]\n",
            "INFO:tensorflow:Evaluation [700/1000]\n",
            "INFO:tensorflow:Evaluation [800/1000]\n",
            "INFO:tensorflow:Evaluation [900/1000]\n",
            "INFO:tensorflow:Evaluation [1000/1000]\n",
            "INFO:tensorflow:Finished evaluation at 2018-08-26-20:35:48\n",
            "INFO:tensorflow:Saving dict for global step 11000: average_loss = 45.207474, global_step = 11000, label/mean = 6.809639, loss = 45.207474, prediction/mean = 0.31679884\n",
            "INFO:tensorflow:Saving 'checkpoint_path' summary for global step 11000: /tmp/tmpjmmt745n/model.ckpt-11000\n",
            "INFO:tensorflow:Calling model_fn.\n",
            "INFO:tensorflow:Done calling model_fn.\n",
            "INFO:tensorflow:Starting evaluation at 2018-08-26-20:35:48\n",
            "INFO:tensorflow:Graph was finalized.\n",
            "INFO:tensorflow:Restoring parameters from /tmp/tmpjmmt745n/model.ckpt-11000\n",
            "INFO:tensorflow:Running local_init_op.\n",
            "INFO:tensorflow:Done running local_init_op.\n",
            "INFO:tensorflow:Evaluation [100/1000]\n",
            "INFO:tensorflow:Evaluation [200/1000]\n",
            "INFO:tensorflow:Evaluation [300/1000]\n",
            "INFO:tensorflow:Evaluation [400/1000]\n",
            "INFO:tensorflow:Evaluation [500/1000]\n",
            "INFO:tensorflow:Evaluation [600/1000]\n",
            "INFO:tensorflow:Evaluation [700/1000]\n",
            "INFO:tensorflow:Evaluation [800/1000]\n",
            "INFO:tensorflow:Evaluation [900/1000]\n",
            "INFO:tensorflow:Evaluation [1000/1000]\n",
            "INFO:tensorflow:Finished evaluation at 2018-08-26-20:35:53\n",
            "INFO:tensorflow:Saving dict for global step 11000: average_loss = 46.549805, global_step = 11000, label/mean = 6.9177794, loss = 46.549805, prediction/mean = 0.31356347\n",
            "INFO:tensorflow:Saving 'checkpoint_path' summary for global step 11000: /tmp/tmpjmmt745n/model.ckpt-11000\n",
            "----------------------------------------------------------------------------------------------------\n",
            "****************************************************************************************************\n",
            "*Period[rmse training] 10 : 6.72\n",
            "*Period[rmse eval] 10 : 6.82\n",
            "****************************************************************************************************\n",
            "INFO:tensorflow:Calling model_fn.\n",
            "INFO:tensorflow:Done calling model_fn.\n",
            "INFO:tensorflow:Create CheckpointSaverHook.\n",
            "INFO:tensorflow:Graph was finalized.\n",
            "INFO:tensorflow:Restoring parameters from /tmp/tmpjmmt745n/model.ckpt-11000\n",
            "INFO:tensorflow:Running local_init_op.\n",
            "INFO:tensorflow:Done running local_init_op.\n",
            "INFO:tensorflow:Saving checkpoints for 11000 into /tmp/tmpjmmt745n/model.ckpt.\n",
            "INFO:tensorflow:loss = 60.561775, step = 11000\n",
            "INFO:tensorflow:global_step/sec: 97.6219\n",
            "INFO:tensorflow:loss = 64.23745, step = 11100 (1.026 sec)\n",
            "INFO:tensorflow:global_step/sec: 210.384\n",
            "INFO:tensorflow:loss = 56.407833, step = 11200 (0.476 sec)\n",
            "INFO:tensorflow:global_step/sec: 205.409\n",
            "INFO:tensorflow:loss = 44.49376, step = 11300 (0.488 sec)\n",
            "INFO:tensorflow:global_step/sec: 209.422\n",
            "INFO:tensorflow:loss = 43.399185, step = 11400 (0.476 sec)\n",
            "INFO:tensorflow:global_step/sec: 213.549\n",
            "INFO:tensorflow:loss = 54.51597, step = 11500 (0.470 sec)\n",
            "INFO:tensorflow:global_step/sec: 202.546\n",
            "INFO:tensorflow:loss = 6.940133, step = 11600 (0.494 sec)\n",
            "INFO:tensorflow:global_step/sec: 211.549\n",
            "INFO:tensorflow:loss = 57.5976, step = 11700 (0.474 sec)\n",
            "INFO:tensorflow:global_step/sec: 202.017\n",
            "INFO:tensorflow:loss = 50.05859, step = 11800 (0.495 sec)\n",
            "INFO:tensorflow:global_step/sec: 213.289\n",
            "INFO:tensorflow:loss = 57.07037, step = 11900 (0.468 sec)\n",
            "INFO:tensorflow:Saving checkpoints for 12000 into /tmp/tmpjmmt745n/model.ckpt.\n",
            "INFO:tensorflow:Loss for final step: 58.90402.\n",
            "----------------------------------------------------------------------------------------------------\n",
            "INFO:tensorflow:Calling model_fn.\n",
            "INFO:tensorflow:Done calling model_fn.\n",
            "INFO:tensorflow:Starting evaluation at 2018-08-26-20:36:05\n",
            "INFO:tensorflow:Graph was finalized.\n",
            "INFO:tensorflow:Restoring parameters from /tmp/tmpjmmt745n/model.ckpt-12000\n",
            "INFO:tensorflow:Running local_init_op.\n",
            "INFO:tensorflow:Done running local_init_op.\n",
            "INFO:tensorflow:Evaluation [100/1000]\n",
            "INFO:tensorflow:Evaluation [200/1000]\n",
            "INFO:tensorflow:Evaluation [300/1000]\n",
            "INFO:tensorflow:Evaluation [400/1000]\n",
            "INFO:tensorflow:Evaluation [500/1000]\n",
            "INFO:tensorflow:Evaluation [600/1000]\n",
            "INFO:tensorflow:Evaluation [700/1000]\n",
            "INFO:tensorflow:Evaluation [800/1000]\n",
            "INFO:tensorflow:Evaluation [900/1000]\n",
            "INFO:tensorflow:Evaluation [1000/1000]\n",
            "INFO:tensorflow:Finished evaluation at 2018-08-26-20:36:11\n",
            "INFO:tensorflow:Saving dict for global step 12000: average_loss = 44.86954, global_step = 12000, label/mean = 6.809639, loss = 44.86954, prediction/mean = 0.34563974\n",
            "INFO:tensorflow:Saving 'checkpoint_path' summary for global step 12000: /tmp/tmpjmmt745n/model.ckpt-12000\n",
            "INFO:tensorflow:Calling model_fn.\n",
            "INFO:tensorflow:Done calling model_fn.\n",
            "INFO:tensorflow:Starting evaluation at 2018-08-26-20:36:11\n",
            "INFO:tensorflow:Graph was finalized.\n",
            "INFO:tensorflow:Restoring parameters from /tmp/tmpjmmt745n/model.ckpt-12000\n",
            "INFO:tensorflow:Running local_init_op.\n",
            "INFO:tensorflow:Done running local_init_op.\n",
            "INFO:tensorflow:Evaluation [100/1000]\n",
            "INFO:tensorflow:Evaluation [200/1000]\n",
            "INFO:tensorflow:Evaluation [300/1000]\n",
            "INFO:tensorflow:Evaluation [400/1000]\n",
            "INFO:tensorflow:Evaluation [500/1000]\n",
            "INFO:tensorflow:Evaluation [600/1000]\n",
            "INFO:tensorflow:Evaluation [700/1000]\n",
            "INFO:tensorflow:Evaluation [800/1000]\n",
            "INFO:tensorflow:Evaluation [900/1000]\n",
            "INFO:tensorflow:Evaluation [1000/1000]\n",
            "INFO:tensorflow:Finished evaluation at 2018-08-26-20:36:16\n",
            "INFO:tensorflow:Saving dict for global step 12000: average_loss = 46.20651, global_step = 12000, label/mean = 6.9177794, loss = 46.20651, prediction/mean = 0.3421099\n",
            "INFO:tensorflow:Saving 'checkpoint_path' summary for global step 12000: /tmp/tmpjmmt745n/model.ckpt-12000\n",
            "----------------------------------------------------------------------------------------------------\n",
            "****************************************************************************************************\n",
            "*Period[rmse training] 11 : 6.70\n",
            "*Period[rmse eval] 11 : 6.80\n",
            "****************************************************************************************************\n",
            "INFO:tensorflow:Calling model_fn.\n",
            "INFO:tensorflow:Done calling model_fn.\n",
            "INFO:tensorflow:Create CheckpointSaverHook.\n",
            "INFO:tensorflow:Graph was finalized.\n",
            "INFO:tensorflow:Restoring parameters from /tmp/tmpjmmt745n/model.ckpt-12000\n",
            "INFO:tensorflow:Running local_init_op.\n",
            "INFO:tensorflow:Done running local_init_op.\n",
            "INFO:tensorflow:Saving checkpoints for 12000 into /tmp/tmpjmmt745n/model.ckpt.\n",
            "INFO:tensorflow:loss = 5.263722, step = 12000\n",
            "INFO:tensorflow:global_step/sec: 103.876\n",
            "INFO:tensorflow:loss = 49.2749, step = 12100 (0.966 sec)\n",
            "INFO:tensorflow:global_step/sec: 204.148\n",
            "INFO:tensorflow:loss = 47.34629, step = 12200 (0.489 sec)\n",
            "INFO:tensorflow:global_step/sec: 212.114\n",
            "INFO:tensorflow:loss = 63.44115, step = 12300 (0.471 sec)\n",
            "INFO:tensorflow:global_step/sec: 212.802\n",
            "INFO:tensorflow:loss = 49.214912, step = 12400 (0.474 sec)\n",
            "INFO:tensorflow:global_step/sec: 203.283\n",
            "INFO:tensorflow:loss = 52.551132, step = 12500 (0.493 sec)\n",
            "INFO:tensorflow:global_step/sec: 212.774\n",
            "INFO:tensorflow:loss = 65.05311, step = 12600 (0.468 sec)\n",
            "INFO:tensorflow:global_step/sec: 202.122\n",
            "INFO:tensorflow:loss = 32.194794, step = 12700 (0.496 sec)\n",
            "INFO:tensorflow:global_step/sec: 207.414\n",
            "INFO:tensorflow:loss = 45.970383, step = 12800 (0.480 sec)\n",
            "INFO:tensorflow:global_step/sec: 207.883\n",
            "INFO:tensorflow:loss = 50.59044, step = 12900 (0.482 sec)\n",
            "INFO:tensorflow:Saving checkpoints for 13000 into /tmp/tmpjmmt745n/model.ckpt.\n",
            "INFO:tensorflow:Loss for final step: 37.728073.\n",
            "----------------------------------------------------------------------------------------------------\n",
            "INFO:tensorflow:Calling model_fn.\n",
            "INFO:tensorflow:Done calling model_fn.\n",
            "INFO:tensorflow:Starting evaluation at 2018-08-26-20:36:28\n",
            "INFO:tensorflow:Graph was finalized.\n",
            "INFO:tensorflow:Restoring parameters from /tmp/tmpjmmt745n/model.ckpt-13000\n",
            "INFO:tensorflow:Running local_init_op.\n",
            "INFO:tensorflow:Done running local_init_op.\n",
            "INFO:tensorflow:Evaluation [100/1000]\n",
            "INFO:tensorflow:Evaluation [200/1000]\n",
            "INFO:tensorflow:Evaluation [300/1000]\n",
            "INFO:tensorflow:Evaluation [400/1000]\n",
            "INFO:tensorflow:Evaluation [500/1000]\n",
            "INFO:tensorflow:Evaluation [600/1000]\n",
            "INFO:tensorflow:Evaluation [700/1000]\n",
            "INFO:tensorflow:Evaluation [800/1000]\n",
            "INFO:tensorflow:Evaluation [900/1000]\n",
            "INFO:tensorflow:Evaluation [1000/1000]\n",
            "INFO:tensorflow:Finished evaluation at 2018-08-26-20:36:34\n",
            "INFO:tensorflow:Saving dict for global step 13000: average_loss = 44.53449, global_step = 13000, label/mean = 6.809639, loss = 44.53449, prediction/mean = 0.3744038\n",
            "INFO:tensorflow:Saving 'checkpoint_path' summary for global step 13000: /tmp/tmpjmmt745n/model.ckpt-13000\n",
            "INFO:tensorflow:Calling model_fn.\n",
            "INFO:tensorflow:Done calling model_fn.\n",
            "INFO:tensorflow:Starting evaluation at 2018-08-26-20:36:34\n",
            "INFO:tensorflow:Graph was finalized.\n",
            "INFO:tensorflow:Restoring parameters from /tmp/tmpjmmt745n/model.ckpt-13000\n",
            "INFO:tensorflow:Running local_init_op.\n",
            "INFO:tensorflow:Done running local_init_op.\n",
            "INFO:tensorflow:Evaluation [100/1000]\n",
            "INFO:tensorflow:Evaluation [200/1000]\n",
            "INFO:tensorflow:Evaluation [300/1000]\n",
            "INFO:tensorflow:Evaluation [400/1000]\n",
            "INFO:tensorflow:Evaluation [500/1000]\n",
            "INFO:tensorflow:Evaluation [600/1000]\n",
            "INFO:tensorflow:Evaluation [700/1000]\n",
            "INFO:tensorflow:Evaluation [800/1000]\n",
            "INFO:tensorflow:Evaluation [900/1000]\n",
            "INFO:tensorflow:Evaluation [1000/1000]\n",
            "INFO:tensorflow:Finished evaluation at 2018-08-26-20:36:39\n",
            "INFO:tensorflow:Saving dict for global step 13000: average_loss = 45.866028, global_step = 13000, label/mean = 6.9177794, loss = 45.866028, prediction/mean = 0.37058052\n",
            "INFO:tensorflow:Saving 'checkpoint_path' summary for global step 13000: /tmp/tmpjmmt745n/model.ckpt-13000\n",
            "----------------------------------------------------------------------------------------------------\n",
            "****************************************************************************************************\n",
            "*Period[rmse training] 12 : 6.67\n",
            "*Period[rmse eval] 12 : 6.77\n",
            "****************************************************************************************************\n",
            "INFO:tensorflow:Calling model_fn.\n",
            "INFO:tensorflow:Done calling model_fn.\n",
            "INFO:tensorflow:Create CheckpointSaverHook.\n",
            "INFO:tensorflow:Graph was finalized.\n",
            "INFO:tensorflow:Restoring parameters from /tmp/tmpjmmt745n/model.ckpt-13000\n",
            "INFO:tensorflow:Running local_init_op.\n",
            "INFO:tensorflow:Done running local_init_op.\n",
            "INFO:tensorflow:Saving checkpoints for 13000 into /tmp/tmpjmmt745n/model.ckpt.\n",
            "INFO:tensorflow:loss = 12.684201, step = 13000\n",
            "INFO:tensorflow:global_step/sec: 100.587\n",
            "INFO:tensorflow:loss = 8.402204, step = 13100 (0.996 sec)\n",
            "INFO:tensorflow:global_step/sec: 198.237\n",
            "INFO:tensorflow:loss = 44.805706, step = 13200 (0.508 sec)\n",
            "INFO:tensorflow:global_step/sec: 201.478\n",
            "INFO:tensorflow:loss = 48.691948, step = 13300 (0.493 sec)\n",
            "INFO:tensorflow:global_step/sec: 198.468\n",
            "INFO:tensorflow:loss = 47.382015, step = 13400 (0.503 sec)\n",
            "INFO:tensorflow:global_step/sec: 205.577\n",
            "INFO:tensorflow:loss = 54.897808, step = 13500 (0.488 sec)\n",
            "INFO:tensorflow:global_step/sec: 203.024\n",
            "INFO:tensorflow:loss = 51.833378, step = 13600 (0.495 sec)\n",
            "INFO:tensorflow:global_step/sec: 194.878\n",
            "INFO:tensorflow:loss = 53.488308, step = 13700 (0.515 sec)\n",
            "INFO:tensorflow:global_step/sec: 200.368\n",
            "INFO:tensorflow:loss = 51.59623, step = 13800 (0.496 sec)\n",
            "INFO:tensorflow:global_step/sec: 195.585\n",
            "INFO:tensorflow:loss = 51.01892, step = 13900 (0.510 sec)\n",
            "INFO:tensorflow:Saving checkpoints for 14000 into /tmp/tmpjmmt745n/model.ckpt.\n",
            "INFO:tensorflow:Loss for final step: 5.0516043.\n",
            "----------------------------------------------------------------------------------------------------\n",
            "INFO:tensorflow:Calling model_fn.\n",
            "INFO:tensorflow:Done calling model_fn.\n",
            "INFO:tensorflow:Starting evaluation at 2018-08-26-20:36:51\n",
            "INFO:tensorflow:Graph was finalized.\n",
            "INFO:tensorflow:Restoring parameters from /tmp/tmpjmmt745n/model.ckpt-14000\n",
            "INFO:tensorflow:Running local_init_op.\n",
            "INFO:tensorflow:Done running local_init_op.\n",
            "INFO:tensorflow:Evaluation [100/1000]\n",
            "INFO:tensorflow:Evaluation [200/1000]\n",
            "INFO:tensorflow:Evaluation [300/1000]\n",
            "INFO:tensorflow:Evaluation [400/1000]\n",
            "INFO:tensorflow:Evaluation [500/1000]\n",
            "INFO:tensorflow:Evaluation [600/1000]\n",
            "INFO:tensorflow:Evaluation [700/1000]\n",
            "INFO:tensorflow:Evaluation [800/1000]\n",
            "INFO:tensorflow:Evaluation [900/1000]\n",
            "INFO:tensorflow:Evaluation [1000/1000]\n",
            "INFO:tensorflow:Finished evaluation at 2018-08-26-20:36:57\n",
            "INFO:tensorflow:Saving dict for global step 14000: average_loss = 44.20062, global_step = 14000, label/mean = 6.809639, loss = 44.20062, prediction/mean = 0.40323433\n",
            "INFO:tensorflow:Saving 'checkpoint_path' summary for global step 14000: /tmp/tmpjmmt745n/model.ckpt-14000\n",
            "INFO:tensorflow:Calling model_fn.\n",
            "INFO:tensorflow:Done calling model_fn.\n",
            "INFO:tensorflow:Starting evaluation at 2018-08-26-20:36:57\n",
            "INFO:tensorflow:Graph was finalized.\n",
            "INFO:tensorflow:Restoring parameters from /tmp/tmpjmmt745n/model.ckpt-14000\n",
            "INFO:tensorflow:Running local_init_op.\n",
            "INFO:tensorflow:Done running local_init_op.\n",
            "INFO:tensorflow:Evaluation [100/1000]\n",
            "INFO:tensorflow:Evaluation [200/1000]\n",
            "INFO:tensorflow:Evaluation [300/1000]\n",
            "INFO:tensorflow:Evaluation [400/1000]\n",
            "INFO:tensorflow:Evaluation [500/1000]\n",
            "INFO:tensorflow:Evaluation [600/1000]\n",
            "INFO:tensorflow:Evaluation [700/1000]\n",
            "INFO:tensorflow:Evaluation [800/1000]\n",
            "INFO:tensorflow:Evaluation [900/1000]\n",
            "INFO:tensorflow:Evaluation [1000/1000]\n",
            "INFO:tensorflow:Finished evaluation at 2018-08-26-20:37:02\n",
            "INFO:tensorflow:Saving dict for global step 14000: average_loss = 45.526615, global_step = 14000, label/mean = 6.9177794, loss = 45.526615, prediction/mean = 0.39911732\n",
            "INFO:tensorflow:Saving 'checkpoint_path' summary for global step 14000: /tmp/tmpjmmt745n/model.ckpt-14000\n",
            "----------------------------------------------------------------------------------------------------\n",
            "****************************************************************************************************\n",
            "*Period[rmse training] 13 : 6.65\n",
            "*Period[rmse eval] 13 : 6.75\n",
            "****************************************************************************************************\n",
            "INFO:tensorflow:Calling model_fn.\n",
            "INFO:tensorflow:Done calling model_fn.\n",
            "INFO:tensorflow:Create CheckpointSaverHook.\n",
            "INFO:tensorflow:Graph was finalized.\n",
            "INFO:tensorflow:Restoring parameters from /tmp/tmpjmmt745n/model.ckpt-14000\n",
            "INFO:tensorflow:Running local_init_op.\n",
            "INFO:tensorflow:Done running local_init_op.\n",
            "INFO:tensorflow:Saving checkpoints for 14000 into /tmp/tmpjmmt745n/model.ckpt.\n",
            "INFO:tensorflow:loss = 45.495834, step = 14000\n",
            "INFO:tensorflow:global_step/sec: 100.689\n",
            "INFO:tensorflow:loss = 7.880851, step = 14100 (0.999 sec)\n",
            "INFO:tensorflow:global_step/sec: 211.389\n",
            "INFO:tensorflow:loss = 53.645424, step = 14200 (0.472 sec)\n",
            "INFO:tensorflow:global_step/sec: 201.82\n",
            "INFO:tensorflow:loss = 50.590496, step = 14300 (0.495 sec)\n",
            "INFO:tensorflow:global_step/sec: 210.86\n",
            "INFO:tensorflow:loss = 74.9875, step = 14400 (0.475 sec)\n",
            "INFO:tensorflow:global_step/sec: 210.572\n",
            "INFO:tensorflow:loss = 29.234886, step = 14500 (0.473 sec)\n",
            "INFO:tensorflow:global_step/sec: 204.614\n",
            "INFO:tensorflow:loss = 40.743515, step = 14600 (0.489 sec)\n",
            "INFO:tensorflow:global_step/sec: 211.764\n",
            "INFO:tensorflow:loss = 61.551804, step = 14700 (0.476 sec)\n",
            "INFO:tensorflow:global_step/sec: 202.133\n",
            "INFO:tensorflow:loss = 65.152664, step = 14800 (0.491 sec)\n",
            "INFO:tensorflow:global_step/sec: 207.208\n",
            "INFO:tensorflow:loss = 50.00894, step = 14900 (0.488 sec)\n",
            "INFO:tensorflow:Saving checkpoints for 15000 into /tmp/tmpjmmt745n/model.ckpt.\n",
            "INFO:tensorflow:Loss for final step: 12.5821.\n",
            "----------------------------------------------------------------------------------------------------\n",
            "INFO:tensorflow:Calling model_fn.\n",
            "INFO:tensorflow:Done calling model_fn.\n",
            "INFO:tensorflow:Starting evaluation at 2018-08-26-20:37:14\n",
            "INFO:tensorflow:Graph was finalized.\n",
            "INFO:tensorflow:Restoring parameters from /tmp/tmpjmmt745n/model.ckpt-15000\n",
            "INFO:tensorflow:Running local_init_op.\n",
            "INFO:tensorflow:Done running local_init_op.\n",
            "INFO:tensorflow:Evaluation [100/1000]\n",
            "INFO:tensorflow:Evaluation [200/1000]\n",
            "INFO:tensorflow:Evaluation [300/1000]\n",
            "INFO:tensorflow:Evaluation [400/1000]\n",
            "INFO:tensorflow:Evaluation [500/1000]\n",
            "INFO:tensorflow:Evaluation [600/1000]\n",
            "INFO:tensorflow:Evaluation [700/1000]\n",
            "INFO:tensorflow:Evaluation [800/1000]\n",
            "INFO:tensorflow:Evaluation [900/1000]\n",
            "INFO:tensorflow:Evaluation [1000/1000]\n",
            "INFO:tensorflow:Finished evaluation at 2018-08-26-20:37:19\n",
            "INFO:tensorflow:Saving dict for global step 15000: average_loss = 43.869003, global_step = 15000, label/mean = 6.809639, loss = 43.869003, prediction/mean = 0.43203124\n",
            "INFO:tensorflow:Saving 'checkpoint_path' summary for global step 15000: /tmp/tmpjmmt745n/model.ckpt-15000\n",
            "INFO:tensorflow:Calling model_fn.\n",
            "INFO:tensorflow:Done calling model_fn.\n",
            "INFO:tensorflow:Starting evaluation at 2018-08-26-20:37:20\n",
            "INFO:tensorflow:Graph was finalized.\n",
            "INFO:tensorflow:Restoring parameters from /tmp/tmpjmmt745n/model.ckpt-15000\n",
            "INFO:tensorflow:Running local_init_op.\n",
            "INFO:tensorflow:Done running local_init_op.\n",
            "INFO:tensorflow:Evaluation [100/1000]\n",
            "INFO:tensorflow:Evaluation [200/1000]\n",
            "INFO:tensorflow:Evaluation [300/1000]\n",
            "INFO:tensorflow:Evaluation [400/1000]\n",
            "INFO:tensorflow:Evaluation [500/1000]\n",
            "INFO:tensorflow:Evaluation [600/1000]\n",
            "INFO:tensorflow:Evaluation [700/1000]\n",
            "INFO:tensorflow:Evaluation [800/1000]\n",
            "INFO:tensorflow:Evaluation [900/1000]\n",
            "INFO:tensorflow:Evaluation [1000/1000]\n",
            "INFO:tensorflow:Finished evaluation at 2018-08-26-20:37:25\n",
            "INFO:tensorflow:Saving dict for global step 15000: average_loss = 45.18952, global_step = 15000, label/mean = 6.9177794, loss = 45.18952, prediction/mean = 0.4276205\n",
            "INFO:tensorflow:Saving 'checkpoint_path' summary for global step 15000: /tmp/tmpjmmt745n/model.ckpt-15000\n",
            "----------------------------------------------------------------------------------------------------\n",
            "****************************************************************************************************\n",
            "*Period[rmse training] 14 : 6.62\n",
            "*Period[rmse eval] 14 : 6.72\n",
            "****************************************************************************************************\n",
            "INFO:tensorflow:Calling model_fn.\n",
            "INFO:tensorflow:Done calling model_fn.\n",
            "INFO:tensorflow:Create CheckpointSaverHook.\n",
            "INFO:tensorflow:Graph was finalized.\n",
            "INFO:tensorflow:Restoring parameters from /tmp/tmpjmmt745n/model.ckpt-15000\n",
            "INFO:tensorflow:Running local_init_op.\n",
            "INFO:tensorflow:Done running local_init_op.\n",
            "INFO:tensorflow:Saving checkpoints for 15000 into /tmp/tmpjmmt745n/model.ckpt.\n",
            "INFO:tensorflow:loss = 59.002254, step = 15000\n",
            "INFO:tensorflow:global_step/sec: 102.557\n",
            "INFO:tensorflow:loss = 0.95264685, step = 15100 (0.982 sec)\n",
            "INFO:tensorflow:global_step/sec: 202.72\n",
            "INFO:tensorflow:loss = 52.455013, step = 15200 (0.488 sec)\n",
            "INFO:tensorflow:global_step/sec: 211.061\n",
            "INFO:tensorflow:loss = 52.345303, step = 15300 (0.475 sec)\n",
            "INFO:tensorflow:global_step/sec: 214.533\n",
            "INFO:tensorflow:loss = 7.626366, step = 15400 (0.466 sec)\n",
            "INFO:tensorflow:global_step/sec: 203.579\n",
            "INFO:tensorflow:loss = 6.3571863, step = 15500 (0.491 sec)\n",
            "INFO:tensorflow:global_step/sec: 206.783\n",
            "INFO:tensorflow:loss = 42.6515, step = 15600 (0.483 sec)\n",
            "INFO:tensorflow:global_step/sec: 201.497\n",
            "INFO:tensorflow:loss = 40.479095, step = 15700 (0.493 sec)\n",
            "INFO:tensorflow:global_step/sec: 211.355\n",
            "INFO:tensorflow:loss = 6.5082207, step = 15800 (0.476 sec)\n",
            "INFO:tensorflow:global_step/sec: 213.389\n",
            "INFO:tensorflow:loss = 54.192074, step = 15900 (0.466 sec)\n",
            "INFO:tensorflow:Saving checkpoints for 16000 into /tmp/tmpjmmt745n/model.ckpt.\n",
            "INFO:tensorflow:Loss for final step: 54.70647.\n",
            "----------------------------------------------------------------------------------------------------\n",
            "INFO:tensorflow:Calling model_fn.\n",
            "INFO:tensorflow:Done calling model_fn.\n",
            "INFO:tensorflow:Starting evaluation at 2018-08-26-20:37:37\n",
            "INFO:tensorflow:Graph was finalized.\n",
            "INFO:tensorflow:Restoring parameters from /tmp/tmpjmmt745n/model.ckpt-16000\n",
            "INFO:tensorflow:Running local_init_op.\n",
            "INFO:tensorflow:Done running local_init_op.\n",
            "INFO:tensorflow:Evaluation [100/1000]\n",
            "INFO:tensorflow:Evaluation [200/1000]\n",
            "INFO:tensorflow:Evaluation [300/1000]\n",
            "INFO:tensorflow:Evaluation [400/1000]\n",
            "INFO:tensorflow:Evaluation [500/1000]\n",
            "INFO:tensorflow:Evaluation [600/1000]\n",
            "INFO:tensorflow:Evaluation [700/1000]\n",
            "INFO:tensorflow:Evaluation [800/1000]\n",
            "INFO:tensorflow:Evaluation [900/1000]\n",
            "INFO:tensorflow:Evaluation [1000/1000]\n",
            "INFO:tensorflow:Finished evaluation at 2018-08-26-20:37:42\n",
            "INFO:tensorflow:Saving dict for global step 16000: average_loss = 43.538918, global_step = 16000, label/mean = 6.809639, loss = 43.538918, prediction/mean = 0.46087024\n",
            "INFO:tensorflow:Saving 'checkpoint_path' summary for global step 16000: /tmp/tmpjmmt745n/model.ckpt-16000\n",
            "INFO:tensorflow:Calling model_fn.\n",
            "INFO:tensorflow:Done calling model_fn.\n",
            "INFO:tensorflow:Starting evaluation at 2018-08-26-20:37:43\n",
            "INFO:tensorflow:Graph was finalized.\n",
            "INFO:tensorflow:Restoring parameters from /tmp/tmpjmmt745n/model.ckpt-16000\n",
            "INFO:tensorflow:Running local_init_op.\n",
            "INFO:tensorflow:Done running local_init_op.\n",
            "INFO:tensorflow:Evaluation [100/1000]\n",
            "INFO:tensorflow:Evaluation [200/1000]\n",
            "INFO:tensorflow:Evaluation [300/1000]\n",
            "INFO:tensorflow:Evaluation [400/1000]\n",
            "INFO:tensorflow:Evaluation [500/1000]\n",
            "INFO:tensorflow:Evaluation [600/1000]\n",
            "INFO:tensorflow:Evaluation [700/1000]\n",
            "INFO:tensorflow:Evaluation [800/1000]\n",
            "INFO:tensorflow:Evaluation [900/1000]\n",
            "INFO:tensorflow:Evaluation [1000/1000]\n",
            "INFO:tensorflow:Finished evaluation at 2018-08-26-20:37:48\n",
            "INFO:tensorflow:Saving dict for global step 16000: average_loss = 44.853767, global_step = 16000, label/mean = 6.9177794, loss = 44.853767, prediction/mean = 0.45616454\n",
            "INFO:tensorflow:Saving 'checkpoint_path' summary for global step 16000: /tmp/tmpjmmt745n/model.ckpt-16000\n",
            "----------------------------------------------------------------------------------------------------\n",
            "****************************************************************************************************\n",
            "*Period[rmse training] 15 : 6.60\n",
            "*Period[rmse eval] 15 : 6.70\n",
            "****************************************************************************************************\n",
            "INFO:tensorflow:Calling model_fn.\n",
            "INFO:tensorflow:Done calling model_fn.\n",
            "INFO:tensorflow:Create CheckpointSaverHook.\n",
            "INFO:tensorflow:Graph was finalized.\n",
            "INFO:tensorflow:Restoring parameters from /tmp/tmpjmmt745n/model.ckpt-16000\n",
            "INFO:tensorflow:Running local_init_op.\n",
            "INFO:tensorflow:Done running local_init_op.\n",
            "INFO:tensorflow:Saving checkpoints for 16000 into /tmp/tmpjmmt745n/model.ckpt.\n",
            "INFO:tensorflow:loss = 50.076138, step = 16000\n",
            "INFO:tensorflow:global_step/sec: 100.884\n",
            "INFO:tensorflow:loss = 28.667461, step = 16100 (0.994 sec)\n",
            "INFO:tensorflow:global_step/sec: 200.737\n",
            "INFO:tensorflow:loss = 54.78665, step = 16200 (0.501 sec)\n",
            "INFO:tensorflow:global_step/sec: 207.996\n",
            "INFO:tensorflow:loss = 42.193657, step = 16300 (0.479 sec)\n",
            "INFO:tensorflow:global_step/sec: 203.448\n",
            "INFO:tensorflow:loss = 43.81115, step = 16400 (0.490 sec)\n",
            "INFO:tensorflow:global_step/sec: 211.728\n",
            "INFO:tensorflow:loss = 42.841164, step = 16500 (0.476 sec)\n",
            "INFO:tensorflow:global_step/sec: 209.701\n",
            "INFO:tensorflow:loss = 50.65419, step = 16600 (0.476 sec)\n",
            "INFO:tensorflow:global_step/sec: 199.896\n",
            "INFO:tensorflow:loss = 63.147755, step = 16700 (0.501 sec)\n",
            "INFO:tensorflow:global_step/sec: 208.725\n",
            "INFO:tensorflow:loss = 34.06721, step = 16800 (0.477 sec)\n",
            "INFO:tensorflow:global_step/sec: 208.636\n",
            "INFO:tensorflow:loss = 58.85223, step = 16900 (0.480 sec)\n",
            "INFO:tensorflow:Saving checkpoints for 17000 into /tmp/tmpjmmt745n/model.ckpt.\n",
            "INFO:tensorflow:Loss for final step: 59.779037.\n",
            "----------------------------------------------------------------------------------------------------\n",
            "INFO:tensorflow:Calling model_fn.\n",
            "INFO:tensorflow:Done calling model_fn.\n",
            "INFO:tensorflow:Starting evaluation at 2018-08-26-20:38:00\n",
            "INFO:tensorflow:Graph was finalized.\n",
            "INFO:tensorflow:Restoring parameters from /tmp/tmpjmmt745n/model.ckpt-17000\n",
            "INFO:tensorflow:Running local_init_op.\n",
            "INFO:tensorflow:Done running local_init_op.\n",
            "INFO:tensorflow:Evaluation [100/1000]\n",
            "INFO:tensorflow:Evaluation [200/1000]\n",
            "INFO:tensorflow:Evaluation [300/1000]\n",
            "INFO:tensorflow:Evaluation [400/1000]\n",
            "INFO:tensorflow:Evaluation [500/1000]\n",
            "INFO:tensorflow:Evaluation [600/1000]\n",
            "INFO:tensorflow:Evaluation [700/1000]\n",
            "INFO:tensorflow:Evaluation [800/1000]\n",
            "INFO:tensorflow:Evaluation [900/1000]\n",
            "INFO:tensorflow:Evaluation [1000/1000]\n",
            "INFO:tensorflow:Finished evaluation at 2018-08-26-20:38:05\n",
            "INFO:tensorflow:Saving dict for global step 17000: average_loss = 43.21045, global_step = 17000, label/mean = 6.809639, loss = 43.21045, prediction/mean = 0.48973447\n",
            "INFO:tensorflow:Saving 'checkpoint_path' summary for global step 17000: /tmp/tmpjmmt745n/model.ckpt-17000\n",
            "INFO:tensorflow:Calling model_fn.\n",
            "INFO:tensorflow:Done calling model_fn.\n",
            "INFO:tensorflow:Starting evaluation at 2018-08-26-20:38:06\n",
            "INFO:tensorflow:Graph was finalized.\n",
            "INFO:tensorflow:Restoring parameters from /tmp/tmpjmmt745n/model.ckpt-17000\n",
            "INFO:tensorflow:Running local_init_op.\n",
            "INFO:tensorflow:Done running local_init_op.\n",
            "INFO:tensorflow:Evaluation [100/1000]\n",
            "INFO:tensorflow:Evaluation [200/1000]\n",
            "INFO:tensorflow:Evaluation [300/1000]\n",
            "INFO:tensorflow:Evaluation [400/1000]\n",
            "INFO:tensorflow:Evaluation [500/1000]\n",
            "INFO:tensorflow:Evaluation [600/1000]\n",
            "INFO:tensorflow:Evaluation [700/1000]\n",
            "INFO:tensorflow:Evaluation [800/1000]\n",
            "INFO:tensorflow:Evaluation [900/1000]\n",
            "INFO:tensorflow:Evaluation [1000/1000]\n",
            "INFO:tensorflow:Finished evaluation at 2018-08-26-20:38:11\n",
            "INFO:tensorflow:Saving dict for global step 17000: average_loss = 44.519627, global_step = 17000, label/mean = 6.9177794, loss = 44.519627, prediction/mean = 0.48473498\n",
            "INFO:tensorflow:Saving 'checkpoint_path' summary for global step 17000: /tmp/tmpjmmt745n/model.ckpt-17000\n",
            "----------------------------------------------------------------------------------------------------\n",
            "****************************************************************************************************\n",
            "*Period[rmse training] 16 : 6.57\n",
            "*Period[rmse eval] 16 : 6.67\n",
            "****************************************************************************************************\n",
            "INFO:tensorflow:Calling model_fn.\n",
            "INFO:tensorflow:Done calling model_fn.\n",
            "INFO:tensorflow:Create CheckpointSaverHook.\n",
            "INFO:tensorflow:Graph was finalized.\n",
            "INFO:tensorflow:Restoring parameters from /tmp/tmpjmmt745n/model.ckpt-17000\n",
            "INFO:tensorflow:Running local_init_op.\n",
            "INFO:tensorflow:Done running local_init_op.\n",
            "INFO:tensorflow:Saving checkpoints for 17000 into /tmp/tmpjmmt745n/model.ckpt.\n",
            "INFO:tensorflow:loss = 67.861595, step = 17000\n",
            "INFO:tensorflow:global_step/sec: 98.2625\n",
            "INFO:tensorflow:loss = 42.838524, step = 17100 (1.023 sec)\n",
            "INFO:tensorflow:global_step/sec: 206.416\n",
            "INFO:tensorflow:loss = 10.272738, step = 17200 (0.484 sec)\n",
            "INFO:tensorflow:global_step/sec: 198.24\n",
            "INFO:tensorflow:loss = 52.828754, step = 17300 (0.501 sec)\n",
            "INFO:tensorflow:global_step/sec: 204.741\n",
            "INFO:tensorflow:loss = 2.4395359, step = 17400 (0.492 sec)\n",
            "INFO:tensorflow:global_step/sec: 206.042\n",
            "INFO:tensorflow:loss = 60.29326, step = 17500 (0.485 sec)\n",
            "INFO:tensorflow:global_step/sec: 199.352\n",
            "INFO:tensorflow:loss = 57.75842, step = 17600 (0.501 sec)\n",
            "INFO:tensorflow:global_step/sec: 209.099\n",
            "INFO:tensorflow:loss = 48.45712, step = 17700 (0.477 sec)\n",
            "INFO:tensorflow:global_step/sec: 200.318\n",
            "INFO:tensorflow:loss = 8.636827, step = 17800 (0.502 sec)\n",
            "INFO:tensorflow:global_step/sec: 208.07\n",
            "INFO:tensorflow:loss = 49.151962, step = 17900 (0.482 sec)\n",
            "INFO:tensorflow:Saving checkpoints for 18000 into /tmp/tmpjmmt745n/model.ckpt.\n",
            "INFO:tensorflow:Loss for final step: 56.936646.\n",
            "----------------------------------------------------------------------------------------------------\n",
            "INFO:tensorflow:Calling model_fn.\n",
            "INFO:tensorflow:Done calling model_fn.\n",
            "INFO:tensorflow:Starting evaluation at 2018-08-26-20:38:23\n",
            "INFO:tensorflow:Graph was finalized.\n",
            "INFO:tensorflow:Restoring parameters from /tmp/tmpjmmt745n/model.ckpt-18000\n",
            "INFO:tensorflow:Running local_init_op.\n",
            "INFO:tensorflow:Done running local_init_op.\n",
            "INFO:tensorflow:Evaluation [100/1000]\n",
            "INFO:tensorflow:Evaluation [200/1000]\n",
            "INFO:tensorflow:Evaluation [300/1000]\n",
            "INFO:tensorflow:Evaluation [400/1000]\n",
            "INFO:tensorflow:Evaluation [500/1000]\n",
            "INFO:tensorflow:Evaluation [600/1000]\n",
            "INFO:tensorflow:Evaluation [700/1000]\n",
            "INFO:tensorflow:Evaluation [800/1000]\n",
            "INFO:tensorflow:Evaluation [900/1000]\n",
            "INFO:tensorflow:Evaluation [1000/1000]\n",
            "INFO:tensorflow:Finished evaluation at 2018-08-26-20:38:28\n",
            "INFO:tensorflow:Saving dict for global step 18000: average_loss = 42.884502, global_step = 18000, label/mean = 6.809639, loss = 42.884502, prediction/mean = 0.518547\n",
            "INFO:tensorflow:Saving 'checkpoint_path' summary for global step 18000: /tmp/tmpjmmt745n/model.ckpt-18000\n",
            "INFO:tensorflow:Calling model_fn.\n",
            "INFO:tensorflow:Done calling model_fn.\n",
            "INFO:tensorflow:Starting evaluation at 2018-08-26-20:38:29\n",
            "INFO:tensorflow:Graph was finalized.\n",
            "INFO:tensorflow:Restoring parameters from /tmp/tmpjmmt745n/model.ckpt-18000\n",
            "INFO:tensorflow:Running local_init_op.\n",
            "INFO:tensorflow:Done running local_init_op.\n",
            "INFO:tensorflow:Evaluation [100/1000]\n",
            "INFO:tensorflow:Evaluation [200/1000]\n",
            "INFO:tensorflow:Evaluation [300/1000]\n",
            "INFO:tensorflow:Evaluation [400/1000]\n",
            "INFO:tensorflow:Evaluation [500/1000]\n",
            "INFO:tensorflow:Evaluation [600/1000]\n",
            "INFO:tensorflow:Evaluation [700/1000]\n",
            "INFO:tensorflow:Evaluation [800/1000]\n",
            "INFO:tensorflow:Evaluation [900/1000]\n",
            "INFO:tensorflow:Evaluation [1000/1000]\n",
            "INFO:tensorflow:Finished evaluation at 2018-08-26-20:38:34\n",
            "INFO:tensorflow:Saving dict for global step 18000: average_loss = 44.188007, global_step = 18000, label/mean = 6.9177794, loss = 44.188007, prediction/mean = 0.51325226\n",
            "INFO:tensorflow:Saving 'checkpoint_path' summary for global step 18000: /tmp/tmpjmmt745n/model.ckpt-18000\n",
            "----------------------------------------------------------------------------------------------------\n",
            "****************************************************************************************************\n",
            "*Period[rmse training] 17 : 6.55\n",
            "*Period[rmse eval] 17 : 6.65\n",
            "****************************************************************************************************\n",
            "INFO:tensorflow:Calling model_fn.\n",
            "INFO:tensorflow:Done calling model_fn.\n",
            "INFO:tensorflow:Create CheckpointSaverHook.\n",
            "INFO:tensorflow:Graph was finalized.\n",
            "INFO:tensorflow:Restoring parameters from /tmp/tmpjmmt745n/model.ckpt-18000\n",
            "INFO:tensorflow:Running local_init_op.\n",
            "INFO:tensorflow:Done running local_init_op.\n",
            "INFO:tensorflow:Saving checkpoints for 18000 into /tmp/tmpjmmt745n/model.ckpt.\n",
            "INFO:tensorflow:loss = 53.5485, step = 18000\n",
            "INFO:tensorflow:global_step/sec: 100.066\n",
            "INFO:tensorflow:loss = 59.640106, step = 18100 (1.001 sec)\n",
            "INFO:tensorflow:global_step/sec: 205.021\n",
            "INFO:tensorflow:loss = 43.07804, step = 18200 (0.489 sec)\n",
            "INFO:tensorflow:global_step/sec: 205.631\n",
            "INFO:tensorflow:loss = 33.264313, step = 18300 (0.485 sec)\n",
            "INFO:tensorflow:global_step/sec: 199.003\n",
            "INFO:tensorflow:loss = 51.080738, step = 18400 (0.503 sec)\n",
            "INFO:tensorflow:global_step/sec: 209.654\n",
            "INFO:tensorflow:loss = 146.04921, step = 18500 (0.481 sec)\n",
            "INFO:tensorflow:global_step/sec: 210.181\n",
            "INFO:tensorflow:loss = 61.56137, step = 18600 (0.472 sec)\n",
            "INFO:tensorflow:global_step/sec: 199.412\n",
            "INFO:tensorflow:loss = 42.065712, step = 18700 (0.505 sec)\n",
            "INFO:tensorflow:global_step/sec: 210.243\n",
            "INFO:tensorflow:loss = 14.659919, step = 18800 (0.471 sec)\n",
            "INFO:tensorflow:global_step/sec: 200.477\n",
            "INFO:tensorflow:loss = 5.9010086, step = 18900 (0.500 sec)\n",
            "INFO:tensorflow:Saving checkpoints for 19000 into /tmp/tmpjmmt745n/model.ckpt.\n",
            "INFO:tensorflow:Loss for final step: 37.270866.\n",
            "----------------------------------------------------------------------------------------------------\n",
            "INFO:tensorflow:Calling model_fn.\n",
            "INFO:tensorflow:Done calling model_fn.\n",
            "INFO:tensorflow:Starting evaluation at 2018-08-26-20:38:46\n",
            "INFO:tensorflow:Graph was finalized.\n",
            "INFO:tensorflow:Restoring parameters from /tmp/tmpjmmt745n/model.ckpt-19000\n",
            "INFO:tensorflow:Running local_init_op.\n",
            "INFO:tensorflow:Done running local_init_op.\n",
            "INFO:tensorflow:Evaluation [100/1000]\n",
            "INFO:tensorflow:Evaluation [200/1000]\n",
            "INFO:tensorflow:Evaluation [300/1000]\n",
            "INFO:tensorflow:Evaluation [400/1000]\n",
            "INFO:tensorflow:Evaluation [500/1000]\n",
            "INFO:tensorflow:Evaluation [600/1000]\n",
            "INFO:tensorflow:Evaluation [700/1000]\n",
            "INFO:tensorflow:Evaluation [800/1000]\n",
            "INFO:tensorflow:Evaluation [900/1000]\n",
            "INFO:tensorflow:Evaluation [1000/1000]\n",
            "INFO:tensorflow:Finished evaluation at 2018-08-26-20:38:51\n",
            "INFO:tensorflow:Saving dict for global step 19000: average_loss = 42.560093, global_step = 19000, label/mean = 6.809639, loss = 42.560093, prediction/mean = 0.5473947\n",
            "INFO:tensorflow:Saving 'checkpoint_path' summary for global step 19000: /tmp/tmpjmmt745n/model.ckpt-19000\n",
            "INFO:tensorflow:Calling model_fn.\n",
            "INFO:tensorflow:Done calling model_fn.\n",
            "INFO:tensorflow:Starting evaluation at 2018-08-26-20:38:52\n",
            "INFO:tensorflow:Graph was finalized.\n",
            "INFO:tensorflow:Restoring parameters from /tmp/tmpjmmt745n/model.ckpt-19000\n",
            "INFO:tensorflow:Running local_init_op.\n",
            "INFO:tensorflow:Done running local_init_op.\n",
            "INFO:tensorflow:Evaluation [100/1000]\n",
            "INFO:tensorflow:Evaluation [200/1000]\n",
            "INFO:tensorflow:Evaluation [300/1000]\n",
            "INFO:tensorflow:Evaluation [400/1000]\n",
            "INFO:tensorflow:Evaluation [500/1000]\n",
            "INFO:tensorflow:Evaluation [600/1000]\n",
            "INFO:tensorflow:Evaluation [700/1000]\n",
            "INFO:tensorflow:Evaluation [800/1000]\n",
            "INFO:tensorflow:Evaluation [900/1000]\n",
            "INFO:tensorflow:Evaluation [1000/1000]\n",
            "INFO:tensorflow:Finished evaluation at 2018-08-26-20:38:57\n",
            "INFO:tensorflow:Saving dict for global step 19000: average_loss = 43.857758, global_step = 19000, label/mean = 6.9177794, loss = 43.857758, prediction/mean = 0.5418054\n",
            "INFO:tensorflow:Saving 'checkpoint_path' summary for global step 19000: /tmp/tmpjmmt745n/model.ckpt-19000\n",
            "----------------------------------------------------------------------------------------------------\n",
            "****************************************************************************************************\n",
            "*Period[rmse training] 18 : 6.52\n",
            "*Period[rmse eval] 18 : 6.62\n",
            "****************************************************************************************************\n",
            "INFO:tensorflow:Calling model_fn.\n",
            "INFO:tensorflow:Done calling model_fn.\n",
            "INFO:tensorflow:Create CheckpointSaverHook.\n",
            "INFO:tensorflow:Graph was finalized.\n",
            "INFO:tensorflow:Restoring parameters from /tmp/tmpjmmt745n/model.ckpt-19000\n",
            "INFO:tensorflow:Running local_init_op.\n",
            "INFO:tensorflow:Done running local_init_op.\n",
            "INFO:tensorflow:Saving checkpoints for 19000 into /tmp/tmpjmmt745n/model.ckpt.\n",
            "INFO:tensorflow:loss = 64.278854, step = 19000\n",
            "INFO:tensorflow:global_step/sec: 100.023\n",
            "INFO:tensorflow:loss = 51.606094, step = 19100 (1.006 sec)\n",
            "INFO:tensorflow:global_step/sec: 208.607\n",
            "INFO:tensorflow:loss = 51.218113, step = 19200 (0.481 sec)\n",
            "INFO:tensorflow:global_step/sec: 211.434\n",
            "INFO:tensorflow:loss = 66.90281, step = 19300 (0.471 sec)\n",
            "INFO:tensorflow:global_step/sec: 203.665\n",
            "INFO:tensorflow:loss = 56.70225, step = 19400 (0.494 sec)\n",
            "INFO:tensorflow:global_step/sec: 209.942\n",
            "INFO:tensorflow:loss = 33.94004, step = 19500 (0.474 sec)\n",
            "INFO:tensorflow:global_step/sec: 202.204\n",
            "INFO:tensorflow:loss = 43.715714, step = 19600 (0.491 sec)\n",
            "INFO:tensorflow:global_step/sec: 204.64\n",
            "INFO:tensorflow:loss = 72.923355, step = 19700 (0.492 sec)\n",
            "INFO:tensorflow:global_step/sec: 214.971\n",
            "INFO:tensorflow:loss = 47.489872, step = 19800 (0.464 sec)\n",
            "INFO:tensorflow:global_step/sec: 203.838\n",
            "INFO:tensorflow:loss = 53.694073, step = 19900 (0.491 sec)\n",
            "INFO:tensorflow:Saving checkpoints for 20000 into /tmp/tmpjmmt745n/model.ckpt.\n",
            "INFO:tensorflow:Loss for final step: 55.45213.\n",
            "----------------------------------------------------------------------------------------------------\n",
            "INFO:tensorflow:Calling model_fn.\n",
            "INFO:tensorflow:Done calling model_fn.\n",
            "INFO:tensorflow:Starting evaluation at 2018-08-26-20:39:09\n",
            "INFO:tensorflow:Graph was finalized.\n",
            "INFO:tensorflow:Restoring parameters from /tmp/tmpjmmt745n/model.ckpt-20000\n",
            "INFO:tensorflow:Running local_init_op.\n",
            "INFO:tensorflow:Done running local_init_op.\n",
            "INFO:tensorflow:Evaluation [100/1000]\n",
            "INFO:tensorflow:Evaluation [200/1000]\n",
            "INFO:tensorflow:Evaluation [300/1000]\n",
            "INFO:tensorflow:Evaluation [400/1000]\n",
            "INFO:tensorflow:Evaluation [500/1000]\n",
            "INFO:tensorflow:Evaluation [600/1000]\n",
            "INFO:tensorflow:Evaluation [700/1000]\n",
            "INFO:tensorflow:Evaluation [800/1000]\n",
            "INFO:tensorflow:Evaluation [900/1000]\n",
            "INFO:tensorflow:Evaluation [1000/1000]\n",
            "INFO:tensorflow:Finished evaluation at 2018-08-26-20:39:14\n",
            "INFO:tensorflow:Saving dict for global step 20000: average_loss = 42.23794, global_step = 20000, label/mean = 6.809639, loss = 42.23794, prediction/mean = 0.5762187\n",
            "INFO:tensorflow:Saving 'checkpoint_path' summary for global step 20000: /tmp/tmpjmmt745n/model.ckpt-20000\n",
            "INFO:tensorflow:Calling model_fn.\n",
            "INFO:tensorflow:Done calling model_fn.\n",
            "INFO:tensorflow:Starting evaluation at 2018-08-26-20:39:15\n",
            "INFO:tensorflow:Graph was finalized.\n",
            "INFO:tensorflow:Restoring parameters from /tmp/tmpjmmt745n/model.ckpt-20000\n",
            "INFO:tensorflow:Running local_init_op.\n",
            "INFO:tensorflow:Done running local_init_op.\n",
            "INFO:tensorflow:Evaluation [100/1000]\n",
            "INFO:tensorflow:Evaluation [200/1000]\n",
            "INFO:tensorflow:Evaluation [300/1000]\n",
            "INFO:tensorflow:Evaluation [400/1000]\n",
            "INFO:tensorflow:Evaluation [500/1000]\n",
            "INFO:tensorflow:Evaluation [600/1000]\n",
            "INFO:tensorflow:Evaluation [700/1000]\n",
            "INFO:tensorflow:Evaluation [800/1000]\n",
            "INFO:tensorflow:Evaluation [900/1000]\n",
            "INFO:tensorflow:Evaluation [1000/1000]\n",
            "INFO:tensorflow:Finished evaluation at 2018-08-26-20:39:20\n",
            "INFO:tensorflow:Saving dict for global step 20000: average_loss = 43.52975, global_step = 20000, label/mean = 6.9177794, loss = 43.52975, prediction/mean = 0.57033324\n",
            "INFO:tensorflow:Saving 'checkpoint_path' summary for global step 20000: /tmp/tmpjmmt745n/model.ckpt-20000\n",
            "----------------------------------------------------------------------------------------------------\n",
            "****************************************************************************************************\n",
            "*Period[rmse training] 19 : 6.50\n",
            "*Period[rmse eval] 19 : 6.60\n",
            "****************************************************************************************************\n"
          ],
          "name": "stdout"
        }
      ]
    },
    {
      "metadata": {
        "id": "-2swRvPBdXvZ",
        "colab_type": "code",
        "colab": {
          "base_uri": "https://localhost:8080/",
          "height": 544
        },
        "outputId": "e2eba04e-7db5-4a7d-8e28-f53004c8e203"
      },
      "cell_type": "code",
      "source": [
        "test_predict = model.predict(input_fn=test_predict_input_fun)\n",
        "print(\"-\" * 100)\n",
        "metrics_test = model.evaluate(steps=STEPS, input_fn=test_predict_input_fun)\n",
        "print(\"-\" * 100)\n",
        "test_predict = np.array([item['predictions'][0] for item in test_predict])  \n",
        "#test_rmse = math.sqrt(\n",
        "#        sklearn.metrics.mean_squared_error(test_predict, y_test))\n",
        "test_rmse = np.sqrt(metrics_test['average_loss'])\n",
        "print(\"*\" * 100)\n",
        "print(\"*Final[rmse test] %02d : %0.2f\" % (period, test_rmse))\n",
        "print(\"*\" * 100)"
      ],
      "execution_count": 173,
      "outputs": [
        {
          "output_type": "stream",
          "text": [
            "----------------------------------------------------------------------------------------------------\n",
            "INFO:tensorflow:Calling model_fn.\n",
            "INFO:tensorflow:Done calling model_fn.\n",
            "INFO:tensorflow:Starting evaluation at 2018-08-26-20:39:21\n",
            "INFO:tensorflow:Graph was finalized.\n",
            "INFO:tensorflow:Restoring parameters from /tmp/tmpjmmt745n/model.ckpt-20000\n",
            "INFO:tensorflow:Running local_init_op.\n",
            "INFO:tensorflow:Done running local_init_op.\n",
            "INFO:tensorflow:Evaluation [100/1000]\n",
            "INFO:tensorflow:Evaluation [200/1000]\n",
            "INFO:tensorflow:Evaluation [300/1000]\n",
            "INFO:tensorflow:Evaluation [400/1000]\n",
            "INFO:tensorflow:Evaluation [500/1000]\n",
            "INFO:tensorflow:Evaluation [600/1000]\n",
            "INFO:tensorflow:Evaluation [700/1000]\n",
            "INFO:tensorflow:Evaluation [800/1000]\n",
            "INFO:tensorflow:Evaluation [900/1000]\n",
            "INFO:tensorflow:Evaluation [1000/1000]\n",
            "INFO:tensorflow:Finished evaluation at 2018-08-26-20:39:26\n",
            "INFO:tensorflow:Saving dict for global step 20000: average_loss = 42.903667, global_step = 20000, label/mean = 6.860667, loss = 42.903667, prediction/mean = 0.5736551\n",
            "INFO:tensorflow:Saving 'checkpoint_path' summary for global step 20000: /tmp/tmpjmmt745n/model.ckpt-20000\n",
            "----------------------------------------------------------------------------------------------------\n",
            "INFO:tensorflow:Calling model_fn.\n",
            "INFO:tensorflow:Done calling model_fn.\n",
            "INFO:tensorflow:Graph was finalized.\n",
            "INFO:tensorflow:Restoring parameters from /tmp/tmpjmmt745n/model.ckpt-20000\n",
            "INFO:tensorflow:Running local_init_op.\n",
            "INFO:tensorflow:Done running local_init_op.\n",
            "****************************************************************************************************\n",
            "*Final[rmse test] 19 : 6.55\n",
            "****************************************************************************************************\n"
          ],
          "name": "stdout"
        }
      ]
    },
    {
      "metadata": {
        "id": "GWsXI3wpeins",
        "colab_type": "code",
        "colab": {}
      },
      "cell_type": "code",
      "source": [
        "test_predict = np.array([item for item in test_predict])"
      ],
      "execution_count": 0,
      "outputs": []
    },
    {
      "metadata": {
        "id": "Pjeh9JkoXkuw",
        "colab_type": "code",
        "colab": {
          "base_uri": "https://localhost:8080/",
          "height": 51
        },
        "outputId": "9b92ae66-4f97-43e0-c83c-7ec50f804309"
      },
      "cell_type": "code",
      "source": [
        "test_predict"
      ],
      "execution_count": 175,
      "outputs": [
        {
          "output_type": "execute_result",
          "data": {
            "text/plain": [
              "array([0.47393826, 0.47988915, 1.1466031 , ..., 0.44266066, 0.487654  ,\n",
              "       0.4794043 ], dtype=float32)"
            ]
          },
          "metadata": {
            "tags": []
          },
          "execution_count": 175
        }
      ]
    }
  ]
}