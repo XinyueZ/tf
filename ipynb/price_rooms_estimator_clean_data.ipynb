{
  "nbformat": 4,
  "nbformat_minor": 0,
  "metadata": {
    "colab": {
      "name": "price_rooms_estimator_clean_data.ipynb",
      "version": "0.3.2",
      "provenance": [],
      "collapsed_sections": [],
      "include_colab_link": true
    },
    "kernelspec": {
      "name": "python3",
      "display_name": "Python 3"
    },
    "accelerator": "GPU"
  },
  "cells": [
    {
      "cell_type": "markdown",
      "metadata": {
        "id": "view-in-github",
        "colab_type": "text"
      },
      "source": [
        "[View in Colaboratory](https://colab.research.google.com/github/XinyueZ/tf/blob/master/ipynb/price_rooms_estimator_clean_data.ipynb)"
      ]
    },
    {
      "metadata": {
        "id": "IdHWJgQ0o-4T",
        "colab_type": "text"
      },
      "cell_type": "markdown",
      "source": [
        "# This case is a ML model about the linear relationship between \"average housing area\" and \"price per housing area\"."
      ]
    },
    {
      "metadata": {
        "id": "usywsvFLF2bo",
        "colab_type": "code",
        "colab": {}
      },
      "cell_type": "code",
      "source": [
        "import tensorflow as tf\n",
        "from tensorflow.python.data import Dataset\n",
        "import sklearn\n",
        "from sklearn.preprocessing import LabelEncoder\n",
        "import numpy as np\n",
        "import pandas as pd\n",
        "\n",
        "import math\n",
        "from IPython import display\n",
        "from matplotlib import cm\n",
        "from matplotlib import gridspec\n",
        "from matplotlib import pyplot as plt"
      ],
      "execution_count": 0,
      "outputs": []
    },
    {
      "metadata": {
        "id": "_rvAbHuFjCND",
        "colab_type": "code",
        "colab": {}
      },
      "cell_type": "code",
      "source": [
        "STEPS = 1000  # Steps of train loop. \n",
        "PERIODS = 20\n",
        "STEPS_PER_PERIOD = STEPS / PERIODS\n",
        "LEARNING_RATE = 0.000001\n",
        "BINS = 150"
      ],
      "execution_count": 0,
      "outputs": []
    },
    {
      "metadata": {
        "id": "M1XjwLH4P00k",
        "colab_type": "code",
        "colab": {}
      },
      "cell_type": "code",
      "source": [
        "tf.logging.set_verbosity(tf.logging.INFO)"
      ],
      "execution_count": 0,
      "outputs": []
    },
    {
      "metadata": {
        "id": "6gRBSBTfiO1x",
        "colab_type": "code",
        "colab": {
          "base_uri": "https://localhost:8080/",
          "height": 204
        },
        "outputId": "c7acfc53-6154-467e-87fa-f9167950727d"
      },
      "cell_type": "code",
      "source": [
        "source = pd.read_csv(\"https://dl.dropbox.com/s/e2tcsgbcp2in5h5/price_rooms_area.tsv\", sep=\"\\t\")\n",
        "source.head()"
      ],
      "execution_count": 292,
      "outputs": [
        {
          "output_type": "execute_result",
          "data": {
            "text/html": [
              "<div>\n",
              "<style scoped>\n",
              "    .dataframe tbody tr th:only-of-type {\n",
              "        vertical-align: middle;\n",
              "    }\n",
              "\n",
              "    .dataframe tbody tr th {\n",
              "        vertical-align: top;\n",
              "    }\n",
              "\n",
              "    .dataframe thead th {\n",
              "        text-align: right;\n",
              "    }\n",
              "</style>\n",
              "<table border=\"1\" class=\"dataframe\">\n",
              "  <thead>\n",
              "    <tr style=\"text-align: right;\">\n",
              "      <th></th>\n",
              "      <th>PRICE</th>\n",
              "      <th>ROOMS</th>\n",
              "      <th>AREA</th>\n",
              "      <th>OBJECTCAT</th>\n",
              "      <th>MARKETINGTYPE</th>\n",
              "    </tr>\n",
              "  </thead>\n",
              "  <tbody>\n",
              "    <tr>\n",
              "      <th>0</th>\n",
              "      <td>5</td>\n",
              "      <td>0</td>\n",
              "      <td>249</td>\n",
              "      <td>Sonstiges Büro-/Praxisobjekt</td>\n",
              "      <td>Miete</td>\n",
              "    </tr>\n",
              "    <tr>\n",
              "      <th>1</th>\n",
              "      <td>595000</td>\n",
              "      <td>9</td>\n",
              "      <td>440</td>\n",
              "      <td>Besondere Immobilie</td>\n",
              "      <td>Kauf</td>\n",
              "    </tr>\n",
              "    <tr>\n",
              "      <th>2</th>\n",
              "      <td>199000</td>\n",
              "      <td>6</td>\n",
              "      <td>135,75</td>\n",
              "      <td>Stadthaus</td>\n",
              "      <td>Kauf</td>\n",
              "    </tr>\n",
              "    <tr>\n",
              "      <th>3</th>\n",
              "      <td>269000</td>\n",
              "      <td>9</td>\n",
              "      <td>203,57</td>\n",
              "      <td>Stadthaus</td>\n",
              "      <td>Kauf</td>\n",
              "    </tr>\n",
              "    <tr>\n",
              "      <th>4</th>\n",
              "      <td>562</td>\n",
              "      <td>3</td>\n",
              "      <td>63,15</td>\n",
              "      <td>Etagenwohnung</td>\n",
              "      <td>Miete</td>\n",
              "    </tr>\n",
              "  </tbody>\n",
              "</table>\n",
              "</div>"
            ],
            "text/plain": [
              "    PRICE ROOMS    AREA                     OBJECTCAT MARKETINGTYPE\n",
              "0       5     0     249  Sonstiges Büro-/Praxisobjekt         Miete\n",
              "1  595000     9     440           Besondere Immobilie          Kauf\n",
              "2  199000     6  135,75                     Stadthaus          Kauf\n",
              "3  269000     9  203,57                     Stadthaus          Kauf\n",
              "4     562     3   63,15                 Etagenwohnung         Miete"
            ]
          },
          "metadata": {
            "tags": []
          },
          "execution_count": 292
        }
      ]
    },
    {
      "metadata": {
        "id": "WohcWzXppE-B",
        "colab_type": "text"
      },
      "cell_type": "markdown",
      "source": [
        "# Clean the data-source\n",
        "- Remove rows containing *null*\n",
        "- Remove rows containing *N/A*\n",
        "- Add New data columns: \"Average housing area\" and \"per housing area price\".\n",
        "- Clean new added columns"
      ]
    },
    {
      "metadata": {
        "id": "BOmAzUQfzIvs",
        "colab_type": "code",
        "colab": {}
      },
      "cell_type": "code",
      "source": [
        "def clean_data(source):\n",
        "  df = source\n",
        "  \n",
        "  # Remove null rows\n",
        "  df = df[pd.notnull(df[\"PRICE\"])]\n",
        "  df = df[pd.notnull(df[\"ROOMS\"])]\n",
        "  df = df[pd.notnull(df[\"AREA\"])]\n",
        "  \n",
        "  # Remove useless columns\n",
        "  df = df.drop([\"OBJECTCAT\"], axis=1)\n",
        "  df = df[~df[\"MARKETINGTYPE\"].isin([\"Miete\"])]\n",
        "  df = df.drop([\"MARKETINGTYPE\"], axis=1)\n",
        "  \n",
        "  # Convert all strings to numeric\n",
        "  df = df.convert_objects(convert_numeric=True)\n",
        "  \n",
        "  # Remove rows containing a \"0\", i.e price = 0 or rooms = 0\n",
        "  df = df[~(df[[\"PRICE\", \"ROOMS\",\"AREA\"]] == 0)]\n",
        "  \n",
        "  # Remove rows containing N/A \n",
        "  df = df[pd.notna(df[\"PRICE\"])]\n",
        "  df = df[pd.notna(df[\"ROOMS\"])]\n",
        "  df = df[pd.notna(df[\"AREA\"])]\n",
        "\n",
        "  # Insert new column of \"price of pro-area\"\n",
        "  df.insert(1, \"PRICE_PRO_AREA\", df[\"PRICE\"] / df[\"AREA\"]) \n",
        "  df = df[~(df[\"PRICE_PRO_AREA\"] < 5)]\n",
        "  #df[\"PRICE_PRO_AREA\"] = df[\"PRICE_PRO_AREA\"] / 1000 #Scale -1000 for easy demo.\n",
        "  df[\"PRICE_PRO_AREA\"] = np.log(df[\"PRICE_PRO_AREA\"])\n",
        "  df = df[pd.notnull(df[\"PRICE_PRO_AREA\"])]\n",
        "  df = df[pd.notna(df[\"PRICE_PRO_AREA\"])]\n",
        "    \n",
        "  # Insert new column of \"area of each room\"\n",
        "  df.insert(4, \"AREA_PRO_ROOM\", df[\"AREA\"] / df[\"ROOMS\"]) \n",
        "  df = df[~(df[\"AREA_PRO_ROOM\"] < 1)]\n",
        "  df[\"AREA_PRO_ROOM\"] = np.log(df[\"AREA_PRO_ROOM\"])\n",
        "  df = df[pd.notnull(df[\"AREA_PRO_ROOM\"])]\n",
        "  df = df[pd.notna(df[\"AREA_PRO_ROOM\"])]\n",
        "  \n",
        "  return df"
      ],
      "execution_count": 0,
      "outputs": []
    },
    {
      "metadata": {
        "id": "59c_lb5i3aTH",
        "colab_type": "code",
        "colab": {
          "base_uri": "https://localhost:8080/",
          "height": 68
        },
        "outputId": "70cb82ee-fa70-4e7b-81b6-2e3d6aa94d2c"
      },
      "cell_type": "code",
      "source": [
        "df = clean_data(source)"
      ],
      "execution_count": 294,
      "outputs": [
        {
          "output_type": "stream",
          "text": [
            "/usr/local/lib/python3.6/dist-packages/ipykernel_launcher.py:15: FutureWarning: convert_objects is deprecated.  To re-infer data dtypes for object columns, use DataFrame.infer_objects()\n",
            "For all other conversions use the data-type specific converters pd.to_datetime, pd.to_timedelta and pd.to_numeric.\n",
            "  from ipykernel import kernelapp as app\n"
          ],
          "name": "stderr"
        }
      ]
    },
    {
      "metadata": {
        "id": "SN-xnRxjzT2T",
        "colab_type": "code",
        "colab": {
          "base_uri": "https://localhost:8080/",
          "height": 204
        },
        "outputId": "e0e4081c-e7f0-4f71-c11d-5133b3cf1277"
      },
      "cell_type": "code",
      "source": [
        "df.head()"
      ],
      "execution_count": 295,
      "outputs": [
        {
          "output_type": "execute_result",
          "data": {
            "text/html": [
              "<div>\n",
              "<style scoped>\n",
              "    .dataframe tbody tr th:only-of-type {\n",
              "        vertical-align: middle;\n",
              "    }\n",
              "\n",
              "    .dataframe tbody tr th {\n",
              "        vertical-align: top;\n",
              "    }\n",
              "\n",
              "    .dataframe thead th {\n",
              "        text-align: right;\n",
              "    }\n",
              "</style>\n",
              "<table border=\"1\" class=\"dataframe\">\n",
              "  <thead>\n",
              "    <tr style=\"text-align: right;\">\n",
              "      <th></th>\n",
              "      <th>PRICE</th>\n",
              "      <th>PRICE_PRO_AREA</th>\n",
              "      <th>ROOMS</th>\n",
              "      <th>AREA</th>\n",
              "      <th>AREA_PRO_ROOM</th>\n",
              "    </tr>\n",
              "  </thead>\n",
              "  <tbody>\n",
              "    <tr>\n",
              "      <th>1</th>\n",
              "      <td>595000.0</td>\n",
              "      <td>7.209542</td>\n",
              "      <td>9.0</td>\n",
              "      <td>440.0</td>\n",
              "      <td>3.889550</td>\n",
              "    </tr>\n",
              "    <tr>\n",
              "      <th>5</th>\n",
              "      <td>299000.0</td>\n",
              "      <td>7.666556</td>\n",
              "      <td>5.0</td>\n",
              "      <td>140.0</td>\n",
              "      <td>3.332205</td>\n",
              "    </tr>\n",
              "    <tr>\n",
              "      <th>6</th>\n",
              "      <td>685000.0</td>\n",
              "      <td>7.497003</td>\n",
              "      <td>8.0</td>\n",
              "      <td>380.0</td>\n",
              "      <td>3.860730</td>\n",
              "    </tr>\n",
              "    <tr>\n",
              "      <th>8</th>\n",
              "      <td>206000.0</td>\n",
              "      <td>6.600842</td>\n",
              "      <td>1.0</td>\n",
              "      <td>280.0</td>\n",
              "      <td>5.634790</td>\n",
              "    </tr>\n",
              "    <tr>\n",
              "      <th>9</th>\n",
              "      <td>75000.0</td>\n",
              "      <td>7.114370</td>\n",
              "      <td>3.0</td>\n",
              "      <td>61.0</td>\n",
              "      <td>3.012262</td>\n",
              "    </tr>\n",
              "  </tbody>\n",
              "</table>\n",
              "</div>"
            ],
            "text/plain": [
              "      PRICE  PRICE_PRO_AREA  ROOMS   AREA  AREA_PRO_ROOM\n",
              "1  595000.0        7.209542    9.0  440.0       3.889550\n",
              "5  299000.0        7.666556    5.0  140.0       3.332205\n",
              "6  685000.0        7.497003    8.0  380.0       3.860730\n",
              "8  206000.0        6.600842    1.0  280.0       5.634790\n",
              "9   75000.0        7.114370    3.0   61.0       3.012262"
            ]
          },
          "metadata": {
            "tags": []
          },
          "execution_count": 295
        }
      ]
    },
    {
      "metadata": {
        "id": "KWFBPC4uFQTd",
        "colab_type": "code",
        "colab": {
          "base_uri": "https://localhost:8080/",
          "height": 297
        },
        "outputId": "f4358df1-fec0-4d53-ad5a-d9ae5e88c4db"
      },
      "cell_type": "code",
      "source": [
        "df.describe()"
      ],
      "execution_count": 296,
      "outputs": [
        {
          "output_type": "execute_result",
          "data": {
            "text/html": [
              "<div>\n",
              "<style scoped>\n",
              "    .dataframe tbody tr th:only-of-type {\n",
              "        vertical-align: middle;\n",
              "    }\n",
              "\n",
              "    .dataframe tbody tr th {\n",
              "        vertical-align: top;\n",
              "    }\n",
              "\n",
              "    .dataframe thead th {\n",
              "        text-align: right;\n",
              "    }\n",
              "</style>\n",
              "<table border=\"1\" class=\"dataframe\">\n",
              "  <thead>\n",
              "    <tr style=\"text-align: right;\">\n",
              "      <th></th>\n",
              "      <th>PRICE</th>\n",
              "      <th>PRICE_PRO_AREA</th>\n",
              "      <th>ROOMS</th>\n",
              "      <th>AREA</th>\n",
              "      <th>AREA_PRO_ROOM</th>\n",
              "    </tr>\n",
              "  </thead>\n",
              "  <tbody>\n",
              "    <tr>\n",
              "      <th>count</th>\n",
              "      <td>1.281800e+05</td>\n",
              "      <td>128180.000000</td>\n",
              "      <td>128180.000000</td>\n",
              "      <td>128180.000000</td>\n",
              "      <td>128180.000000</td>\n",
              "    </tr>\n",
              "    <tr>\n",
              "      <th>mean</th>\n",
              "      <td>1.054886e+06</td>\n",
              "      <td>7.524109</td>\n",
              "      <td>5.187603</td>\n",
              "      <td>183.766251</td>\n",
              "      <td>3.452136</td>\n",
              "    </tr>\n",
              "    <tr>\n",
              "      <th>std</th>\n",
              "      <td>2.231478e+08</td>\n",
              "      <td>0.733975</td>\n",
              "      <td>5.268999</td>\n",
              "      <td>556.929503</td>\n",
              "      <td>0.426526</td>\n",
              "    </tr>\n",
              "    <tr>\n",
              "      <th>min</th>\n",
              "      <td>3.000000e+02</td>\n",
              "      <td>1.629641</td>\n",
              "      <td>1.000000</td>\n",
              "      <td>1.000000</td>\n",
              "      <td>0.000000</td>\n",
              "    </tr>\n",
              "    <tr>\n",
              "      <th>25%</th>\n",
              "      <td>1.390000e+05</td>\n",
              "      <td>7.130899</td>\n",
              "      <td>3.000000</td>\n",
              "      <td>87.000000</td>\n",
              "      <td>3.218876</td>\n",
              "    </tr>\n",
              "    <tr>\n",
              "      <th>50%</th>\n",
              "      <td>2.500000e+05</td>\n",
              "      <td>7.561682</td>\n",
              "      <td>4.000000</td>\n",
              "      <td>130.000000</td>\n",
              "      <td>3.394508</td>\n",
              "    </tr>\n",
              "    <tr>\n",
              "      <th>75%</th>\n",
              "      <td>4.250000e+05</td>\n",
              "      <td>7.963808</td>\n",
              "      <td>6.000000</td>\n",
              "      <td>200.000000</td>\n",
              "      <td>3.604138</td>\n",
              "    </tr>\n",
              "    <tr>\n",
              "      <th>max</th>\n",
              "      <td>7.987979e+10</td>\n",
              "      <td>20.960654</td>\n",
              "      <td>540.000000</td>\n",
              "      <td>84000.000000</td>\n",
              "      <td>9.903488</td>\n",
              "    </tr>\n",
              "  </tbody>\n",
              "</table>\n",
              "</div>"
            ],
            "text/plain": [
              "              PRICE  PRICE_PRO_AREA          ROOMS           AREA  \\\n",
              "count  1.281800e+05   128180.000000  128180.000000  128180.000000   \n",
              "mean   1.054886e+06        7.524109       5.187603     183.766251   \n",
              "std    2.231478e+08        0.733975       5.268999     556.929503   \n",
              "min    3.000000e+02        1.629641       1.000000       1.000000   \n",
              "25%    1.390000e+05        7.130899       3.000000      87.000000   \n",
              "50%    2.500000e+05        7.561682       4.000000     130.000000   \n",
              "75%    4.250000e+05        7.963808       6.000000     200.000000   \n",
              "max    7.987979e+10       20.960654     540.000000   84000.000000   \n",
              "\n",
              "       AREA_PRO_ROOM  \n",
              "count  128180.000000  \n",
              "mean        3.452136  \n",
              "std         0.426526  \n",
              "min         0.000000  \n",
              "25%         3.218876  \n",
              "50%         3.394508  \n",
              "75%         3.604138  \n",
              "max         9.903488  "
            ]
          },
          "metadata": {
            "tags": []
          },
          "execution_count": 296
        }
      ]
    },
    {
      "metadata": {
        "id": "iWczGGR1ElU-",
        "colab_type": "code",
        "colab": {
          "base_uri": "https://localhost:8080/",
          "height": 396
        },
        "outputId": "d538dc8d-4874-477b-92e3-5deee60d0563"
      },
      "cell_type": "code",
      "source": [
        "df.hist(\"AREA_PRO_ROOM\", bins=BINS)"
      ],
      "execution_count": 297,
      "outputs": [
        {
          "output_type": "execute_result",
          "data": {
            "text/plain": [
              "array([[<matplotlib.axes._subplots.AxesSubplot object at 0x7f760c730a58>]],\n",
              "      dtype=object)"
            ]
          },
          "metadata": {
            "tags": []
          },
          "execution_count": 297
        },
        {
          "output_type": "display_data",
          "data": {
            "image/png": "[encoded data removed]",
            "text/plain": [
              "<matplotlib.figure.Figure at 0x7f760e84a518>"
            ]
          },
          "metadata": {
            "tags": []
          }
        }
      ]
    },
    {
      "metadata": {
        "id": "tQlYLiSSEsmr",
        "colab_type": "code",
        "colab": {
          "base_uri": "https://localhost:8080/",
          "height": 396
        },
        "outputId": "c2317d5a-dd1e-493b-b77a-a74d4616d633"
      },
      "cell_type": "code",
      "source": [
        "df.hist(\"PRICE_PRO_AREA\", bins=BINS)"
      ],
      "execution_count": 298,
      "outputs": [
        {
          "output_type": "execute_result",
          "data": {
            "text/plain": [
              "array([[<matplotlib.axes._subplots.AxesSubplot object at 0x7f760e864668>]],\n",
              "      dtype=object)"
            ]
          },
          "metadata": {
            "tags": []
          },
          "execution_count": 298
        },
        {
          "output_type": "display_data",
          "data": {
            "image/png": "[encoded data removed]",
            "text/plain": [
              "<matplotlib.figure.Figure at 0x7f760c6e7518>"
            ]
          },
          "metadata": {
            "tags": []
          }
        }
      ]
    },
    {
      "metadata": {
        "id": "B7G_QUbGL0YZ",
        "colab_type": "code",
        "colab": {
          "base_uri": "https://localhost:8080/",
          "height": 378
        },
        "outputId": "67475b36-94fe-4483-d678-92d942cbee14"
      },
      "cell_type": "code",
      "source": [
        "df.plot.scatter(x='AREA_PRO_ROOM', y='PRICE_PRO_AREA')"
      ],
      "execution_count": 299,
      "outputs": [
        {
          "output_type": "execute_result",
          "data": {
            "text/plain": [
              "<matplotlib.axes._subplots.AxesSubplot at 0x7f76162c7c88>"
            ]
          },
          "metadata": {
            "tags": []
          },
          "execution_count": 299
        },
        {
          "output_type": "display_data",
          "data": {
            "image/png": "[encoded data removed]",
            "text/plain": [
              "<matplotlib.figure.Figure at 0x7f760c6e7fd0>"
            ]
          },
          "metadata": {
            "tags": []
          }
        }
      ]
    },
    {
      "metadata": {
        "id": "PWk86xsBDkch",
        "colab_type": "code",
        "colab": {}
      },
      "cell_type": "code",
      "source": [
        "def make_dataset_and_labels_and_class_num(df, label_name):\n",
        "  \"\"\"This method will prepare da, labels for train, evaluation, test.\n",
        "     Args:\n",
        "      df: DataFrame format of datasource.\n",
        "      label_name: The name of column in datasource which will be as target for train.\n",
        "     Return: \n",
        "       Tuple of (ds_train, ds_eval, ds_test, label_train, label_eval, label_test)\n",
        "      \n",
        "  \"\"\"\n",
        "  target_label_col = label_name\n",
        "   \n",
        "  random_seed = None\n",
        "  np.random.seed(random_seed)\n",
        "  \n",
        "  ds_train = df.sample(frac=0.7, random_state=random_seed)\n",
        "  label_train = ds_train[[target_label_col]]\n",
        "  \n",
        "  ds_rest = df.drop(ds_train.index)\n",
        "  ds_rest = ds_rest.copy()\n",
        "  \n",
        "  ds_eval = ds_rest.sample(frac=0.7, random_state=random_seed)\n",
        "  label_eval = ds_eval[[target_label_col]]\n",
        "  \n",
        "  ds_test = ds_rest.drop(ds_eval.index)\n",
        "  label_test = ds_test[[target_label_col]]\n",
        "  \n",
        "  return ds_train[[\"AREA_PRO_ROOM\"]], ds_eval[[\"AREA_PRO_ROOM\"]], ds_test[[\"AREA_PRO_ROOM\"]], label_train, label_eval, label_test"
      ],
      "execution_count": 0,
      "outputs": []
    },
    {
      "metadata": {
        "id": "NgkHsXdun_dO",
        "colab_type": "code",
        "colab": {}
      },
      "cell_type": "code",
      "source": [
        "x_train, x_eval, x_test, y_train, y_eval, y_test = make_dataset_and_labels_and_class_num(df, \"PRICE_PRO_AREA\")"
      ],
      "execution_count": 0,
      "outputs": []
    },
    {
      "metadata": {
        "id": "mgVYA89XoHIV",
        "colab_type": "code",
        "colab": {
          "base_uri": "https://localhost:8080/",
          "height": 297
        },
        "outputId": "e97b317f-6b28-4707-e665-a62f03b43120"
      },
      "cell_type": "code",
      "source": [
        "x_train.describe()"
      ],
      "execution_count": 302,
      "outputs": [
        {
          "output_type": "execute_result",
          "data": {
            "text/html": [
              "<div>\n",
              "<style scoped>\n",
              "    .dataframe tbody tr th:only-of-type {\n",
              "        vertical-align: middle;\n",
              "    }\n",
              "\n",
              "    .dataframe tbody tr th {\n",
              "        vertical-align: top;\n",
              "    }\n",
              "\n",
              "    .dataframe thead th {\n",
              "        text-align: right;\n",
              "    }\n",
              "</style>\n",
              "<table border=\"1\" class=\"dataframe\">\n",
              "  <thead>\n",
              "    <tr style=\"text-align: right;\">\n",
              "      <th></th>\n",
              "      <th>AREA_PRO_ROOM</th>\n",
              "    </tr>\n",
              "  </thead>\n",
              "  <tbody>\n",
              "    <tr>\n",
              "      <th>count</th>\n",
              "      <td>89726.000000</td>\n",
              "    </tr>\n",
              "    <tr>\n",
              "      <th>mean</th>\n",
              "      <td>3.450664</td>\n",
              "    </tr>\n",
              "    <tr>\n",
              "      <th>std</th>\n",
              "      <td>0.421591</td>\n",
              "    </tr>\n",
              "    <tr>\n",
              "      <th>min</th>\n",
              "      <td>0.000000</td>\n",
              "    </tr>\n",
              "    <tr>\n",
              "      <th>25%</th>\n",
              "      <td>3.218876</td>\n",
              "    </tr>\n",
              "    <tr>\n",
              "      <th>50%</th>\n",
              "      <td>3.392829</td>\n",
              "    </tr>\n",
              "    <tr>\n",
              "      <th>75%</th>\n",
              "      <td>3.601868</td>\n",
              "    </tr>\n",
              "    <tr>\n",
              "      <th>max</th>\n",
              "      <td>9.581904</td>\n",
              "    </tr>\n",
              "  </tbody>\n",
              "</table>\n",
              "</div>"
            ],
            "text/plain": [
              "       AREA_PRO_ROOM\n",
              "count   89726.000000\n",
              "mean        3.450664\n",
              "std         0.421591\n",
              "min         0.000000\n",
              "25%         3.218876\n",
              "50%         3.392829\n",
              "75%         3.601868\n",
              "max         9.581904"
            ]
          },
          "metadata": {
            "tags": []
          },
          "execution_count": 302
        }
      ]
    },
    {
      "metadata": {
        "id": "1TR94pSWkeyR",
        "colab_type": "code",
        "colab": {
          "base_uri": "https://localhost:8080/",
          "height": 396
        },
        "outputId": "f777a9ab-e98a-4c7b-c187-6f5b2f8c1afe"
      },
      "cell_type": "code",
      "source": [
        "x_train.hist(\"AREA_PRO_ROOM\", bins = BINS)"
      ],
      "execution_count": 303,
      "outputs": [
        {
          "output_type": "execute_result",
          "data": {
            "text/plain": [
              "array([[<matplotlib.axes._subplots.AxesSubplot object at 0x7f760ea6a2e8>]],\n",
              "      dtype=object)"
            ]
          },
          "metadata": {
            "tags": []
          },
          "execution_count": 303
        },
        {
          "output_type": "display_data",
          "data": {
            "image/png": "[encoded data removed]",
            "text/plain": [
              "<matplotlib.figure.Figure at 0x7f760e53c710>"
            ]
          },
          "metadata": {
            "tags": []
          }
        }
      ]
    },
    {
      "metadata": {
        "id": "rEwxanjWz1dm",
        "colab_type": "code",
        "colab": {
          "base_uri": "https://localhost:8080/",
          "height": 297
        },
        "outputId": "dbc542ea-c41c-4af1-c5fc-4623bb27dbb8"
      },
      "cell_type": "code",
      "source": [
        "y_train.describe()"
      ],
      "execution_count": 304,
      "outputs": [
        {
          "output_type": "execute_result",
          "data": {
            "text/html": [
              "<div>\n",
              "<style scoped>\n",
              "    .dataframe tbody tr th:only-of-type {\n",
              "        vertical-align: middle;\n",
              "    }\n",
              "\n",
              "    .dataframe tbody tr th {\n",
              "        vertical-align: top;\n",
              "    }\n",
              "\n",
              "    .dataframe thead th {\n",
              "        text-align: right;\n",
              "    }\n",
              "</style>\n",
              "<table border=\"1\" class=\"dataframe\">\n",
              "  <thead>\n",
              "    <tr style=\"text-align: right;\">\n",
              "      <th></th>\n",
              "      <th>PRICE_PRO_AREA</th>\n",
              "    </tr>\n",
              "  </thead>\n",
              "  <tbody>\n",
              "    <tr>\n",
              "      <th>count</th>\n",
              "      <td>89726.000000</td>\n",
              "    </tr>\n",
              "    <tr>\n",
              "      <th>mean</th>\n",
              "      <td>7.522862</td>\n",
              "    </tr>\n",
              "    <tr>\n",
              "      <th>std</th>\n",
              "      <td>0.734946</td>\n",
              "    </tr>\n",
              "    <tr>\n",
              "      <th>min</th>\n",
              "      <td>1.629641</td>\n",
              "    </tr>\n",
              "    <tr>\n",
              "      <th>25%</th>\n",
              "      <td>7.130899</td>\n",
              "    </tr>\n",
              "    <tr>\n",
              "      <th>50%</th>\n",
              "      <td>7.561424</td>\n",
              "    </tr>\n",
              "    <tr>\n",
              "      <th>75%</th>\n",
              "      <td>7.962764</td>\n",
              "    </tr>\n",
              "    <tr>\n",
              "      <th>max</th>\n",
              "      <td>20.960654</td>\n",
              "    </tr>\n",
              "  </tbody>\n",
              "</table>\n",
              "</div>"
            ],
            "text/plain": [
              "       PRICE_PRO_AREA\n",
              "count    89726.000000\n",
              "mean         7.522862\n",
              "std          0.734946\n",
              "min          1.629641\n",
              "25%          7.130899\n",
              "50%          7.561424\n",
              "75%          7.962764\n",
              "max         20.960654"
            ]
          },
          "metadata": {
            "tags": []
          },
          "execution_count": 304
        }
      ]
    },
    {
      "metadata": {
        "id": "My61JIwfa_Sk",
        "colab_type": "code",
        "colab": {
          "base_uri": "https://localhost:8080/",
          "height": 396
        },
        "outputId": "26f477b7-9eb7-4506-9631-e915ff597743"
      },
      "cell_type": "code",
      "source": [
        "y_train.hist(\"PRICE_PRO_AREA\", bins=BINS)"
      ],
      "execution_count": 305,
      "outputs": [
        {
          "output_type": "execute_result",
          "data": {
            "text/plain": [
              "array([[<matplotlib.axes._subplots.AxesSubplot object at 0x7f7618206c88>]],\n",
              "      dtype=object)"
            ]
          },
          "metadata": {
            "tags": []
          },
          "execution_count": 305
        },
        {
          "output_type": "display_data",
          "data": {
            "image/png": "[encoded data removed]",
            "text/plain": [
              "<matplotlib.figure.Figure at 0x7f7617094b00>"
            ]
          },
          "metadata": {
            "tags": []
          }
        }
      ]
    },
    {
      "metadata": {
        "id": "ZXP4bHjfeLMW",
        "colab_type": "code",
        "colab": {
          "base_uri": "https://localhost:8080/",
          "height": 378
        },
        "outputId": "598efec6-c3f9-4218-8bfa-09e58be2aabc"
      },
      "cell_type": "code",
      "source": [
        "pd.concat([x_train, y_train], axis=1).plot.scatter(x='AREA_PRO_ROOM', y='PRICE_PRO_AREA') "
      ],
      "execution_count": 306,
      "outputs": [
        {
          "output_type": "execute_result",
          "data": {
            "text/plain": [
              "<matplotlib.axes._subplots.AxesSubplot at 0x7f7616449be0>"
            ]
          },
          "metadata": {
            "tags": []
          },
          "execution_count": 306
        },
        {
          "output_type": "display_data",
          "data": {
            "image/png": "[encoded data removed]",
            "text/plain": [
              "<matplotlib.figure.Figure at 0x7f7616d83940>"
            ]
          },
          "metadata": {
            "tags": []
          }
        }
      ]
    },
    {
      "metadata": {
        "id": "oMlOOyPQoI1E",
        "colab_type": "code",
        "colab": {
          "base_uri": "https://localhost:8080/",
          "height": 297
        },
        "outputId": "a7a8bc5d-0808-44ef-f36c-99c57a60565c"
      },
      "cell_type": "code",
      "source": [
        "x_eval.describe()"
      ],
      "execution_count": 307,
      "outputs": [
        {
          "output_type": "execute_result",
          "data": {
            "text/html": [
              "<div>\n",
              "<style scoped>\n",
              "    .dataframe tbody tr th:only-of-type {\n",
              "        vertical-align: middle;\n",
              "    }\n",
              "\n",
              "    .dataframe tbody tr th {\n",
              "        vertical-align: top;\n",
              "    }\n",
              "\n",
              "    .dataframe thead th {\n",
              "        text-align: right;\n",
              "    }\n",
              "</style>\n",
              "<table border=\"1\" class=\"dataframe\">\n",
              "  <thead>\n",
              "    <tr style=\"text-align: right;\">\n",
              "      <th></th>\n",
              "      <th>AREA_PRO_ROOM</th>\n",
              "    </tr>\n",
              "  </thead>\n",
              "  <tbody>\n",
              "    <tr>\n",
              "      <th>count</th>\n",
              "      <td>26918.000000</td>\n",
              "    </tr>\n",
              "    <tr>\n",
              "      <th>mean</th>\n",
              "      <td>3.456192</td>\n",
              "    </tr>\n",
              "    <tr>\n",
              "      <th>std</th>\n",
              "      <td>0.433858</td>\n",
              "    </tr>\n",
              "    <tr>\n",
              "      <th>min</th>\n",
              "      <td>0.000000</td>\n",
              "    </tr>\n",
              "    <tr>\n",
              "      <th>25%</th>\n",
              "      <td>3.218876</td>\n",
              "    </tr>\n",
              "    <tr>\n",
              "      <th>50%</th>\n",
              "      <td>3.401197</td>\n",
              "    </tr>\n",
              "    <tr>\n",
              "      <th>75%</th>\n",
              "      <td>3.610918</td>\n",
              "    </tr>\n",
              "    <tr>\n",
              "      <th>max</th>\n",
              "      <td>9.903488</td>\n",
              "    </tr>\n",
              "  </tbody>\n",
              "</table>\n",
              "</div>"
            ],
            "text/plain": [
              "       AREA_PRO_ROOM\n",
              "count   26918.000000\n",
              "mean        3.456192\n",
              "std         0.433858\n",
              "min         0.000000\n",
              "25%         3.218876\n",
              "50%         3.401197\n",
              "75%         3.610918\n",
              "max         9.903488"
            ]
          },
          "metadata": {
            "tags": []
          },
          "execution_count": 307
        }
      ]
    },
    {
      "metadata": {
        "id": "tHRgt5Vyy3W1",
        "colab_type": "code",
        "colab": {
          "base_uri": "https://localhost:8080/",
          "height": 396
        },
        "outputId": "7072e3be-3a00-41a5-a264-dc437e3701be"
      },
      "cell_type": "code",
      "source": [
        "x_eval.hist(\"AREA_PRO_ROOM\", bins = BINS)"
      ],
      "execution_count": 308,
      "outputs": [
        {
          "output_type": "execute_result",
          "data": {
            "text/plain": [
              "array([[<matplotlib.axes._subplots.AxesSubplot object at 0x7f760c745cf8>]],\n",
              "      dtype=object)"
            ]
          },
          "metadata": {
            "tags": []
          },
          "execution_count": 308
        },
        {
          "output_type": "display_data",
          "data": {
            "image/png": "[encoded data removed]",
            "text/plain": [
              "<matplotlib.figure.Figure at 0x7f76164498d0>"
            ]
          },
          "metadata": {
            "tags": []
          }
        }
      ]
    },
    {
      "metadata": {
        "id": "vuLSow1Sz71e",
        "colab_type": "code",
        "colab": {
          "base_uri": "https://localhost:8080/",
          "height": 297
        },
        "outputId": "d8ad33d1-4617-43fe-b7b2-a994da273736"
      },
      "cell_type": "code",
      "source": [
        "y_eval.describe()"
      ],
      "execution_count": 309,
      "outputs": [
        {
          "output_type": "execute_result",
          "data": {
            "text/html": [
              "<div>\n",
              "<style scoped>\n",
              "    .dataframe tbody tr th:only-of-type {\n",
              "        vertical-align: middle;\n",
              "    }\n",
              "\n",
              "    .dataframe tbody tr th {\n",
              "        vertical-align: top;\n",
              "    }\n",
              "\n",
              "    .dataframe thead th {\n",
              "        text-align: right;\n",
              "    }\n",
              "</style>\n",
              "<table border=\"1\" class=\"dataframe\">\n",
              "  <thead>\n",
              "    <tr style=\"text-align: right;\">\n",
              "      <th></th>\n",
              "      <th>PRICE_PRO_AREA</th>\n",
              "    </tr>\n",
              "  </thead>\n",
              "  <tbody>\n",
              "    <tr>\n",
              "      <th>count</th>\n",
              "      <td>26918.000000</td>\n",
              "    </tr>\n",
              "    <tr>\n",
              "      <th>mean</th>\n",
              "      <td>7.526831</td>\n",
              "    </tr>\n",
              "    <tr>\n",
              "      <th>std</th>\n",
              "      <td>0.730836</td>\n",
              "    </tr>\n",
              "    <tr>\n",
              "      <th>min</th>\n",
              "      <td>1.832581</td>\n",
              "    </tr>\n",
              "    <tr>\n",
              "      <th>25%</th>\n",
              "      <td>7.130899</td>\n",
              "    </tr>\n",
              "    <tr>\n",
              "      <th>50%</th>\n",
              "      <td>7.563440</td>\n",
              "    </tr>\n",
              "    <tr>\n",
              "      <th>75%</th>\n",
              "      <td>7.962983</td>\n",
              "    </tr>\n",
              "    <tr>\n",
              "      <th>max</th>\n",
              "      <td>16.762453</td>\n",
              "    </tr>\n",
              "  </tbody>\n",
              "</table>\n",
              "</div>"
            ],
            "text/plain": [
              "       PRICE_PRO_AREA\n",
              "count    26918.000000\n",
              "mean         7.526831\n",
              "std          0.730836\n",
              "min          1.832581\n",
              "25%          7.130899\n",
              "50%          7.563440\n",
              "75%          7.962983\n",
              "max         16.762453"
            ]
          },
          "metadata": {
            "tags": []
          },
          "execution_count": 309
        }
      ]
    },
    {
      "metadata": {
        "id": "AUtCzIVGdT4c",
        "colab_type": "code",
        "colab": {
          "base_uri": "https://localhost:8080/",
          "height": 396
        },
        "outputId": "571ea837-9459-4088-c8ef-e4d45eb19ad2"
      },
      "cell_type": "code",
      "source": [
        "y_eval.hist(\"PRICE_PRO_AREA\", bins=BINS)"
      ],
      "execution_count": 310,
      "outputs": [
        {
          "output_type": "execute_result",
          "data": {
            "text/plain": [
              "array([[<matplotlib.axes._subplots.AxesSubplot object at 0x7f761387da20>]],\n",
              "      dtype=object)"
            ]
          },
          "metadata": {
            "tags": []
          },
          "execution_count": 310
        },
        {
          "output_type": "display_data",
          "data": {
            "image/png": "[encoded data removed]",
            "text/plain": [
              "<matplotlib.figure.Figure at 0x7f7616338320>"
            ]
          },
          "metadata": {
            "tags": []
          }
        }
      ]
    },
    {
      "metadata": {
        "id": "rGF9lnTPzHet",
        "colab_type": "code",
        "colab": {
          "base_uri": "https://localhost:8080/",
          "height": 378
        },
        "outputId": "9c4c1f89-90cb-4fb0-a09e-ac4006b363c5"
      },
      "cell_type": "code",
      "source": [
        "pd.concat([x_eval, y_eval], axis=1).plot.scatter(x='AREA_PRO_ROOM', y='PRICE_PRO_AREA')"
      ],
      "execution_count": 311,
      "outputs": [
        {
          "output_type": "execute_result",
          "data": {
            "text/plain": [
              "<matplotlib.axes._subplots.AxesSubplot at 0x7f7615dddc18>"
            ]
          },
          "metadata": {
            "tags": []
          },
          "execution_count": 311
        },
        {
          "output_type": "display_data",
          "data": {
            "image/png": "[encoded data removed]",
            "text/plain": [
              "<matplotlib.figure.Figure at 0x7f7617fcc6d8>"
            ]
          },
          "metadata": {
            "tags": []
          }
        }
      ]
    },
    {
      "metadata": {
        "id": "xciCTqS2ageV",
        "colab_type": "code",
        "colab": {
          "base_uri": "https://localhost:8080/",
          "height": 297
        },
        "outputId": "0585943b-8840-481a-867c-683fe6d86d90"
      },
      "cell_type": "code",
      "source": [
        "x_test.describe()"
      ],
      "execution_count": 312,
      "outputs": [
        {
          "output_type": "execute_result",
          "data": {
            "text/html": [
              "<div>\n",
              "<style scoped>\n",
              "    .dataframe tbody tr th:only-of-type {\n",
              "        vertical-align: middle;\n",
              "    }\n",
              "\n",
              "    .dataframe tbody tr th {\n",
              "        vertical-align: top;\n",
              "    }\n",
              "\n",
              "    .dataframe thead th {\n",
              "        text-align: right;\n",
              "    }\n",
              "</style>\n",
              "<table border=\"1\" class=\"dataframe\">\n",
              "  <thead>\n",
              "    <tr style=\"text-align: right;\">\n",
              "      <th></th>\n",
              "      <th>AREA_PRO_ROOM</th>\n",
              "    </tr>\n",
              "  </thead>\n",
              "  <tbody>\n",
              "    <tr>\n",
              "      <th>count</th>\n",
              "      <td>11536.000000</td>\n",
              "    </tr>\n",
              "    <tr>\n",
              "      <th>mean</th>\n",
              "      <td>3.454119</td>\n",
              "    </tr>\n",
              "    <tr>\n",
              "      <th>std</th>\n",
              "      <td>0.446919</td>\n",
              "    </tr>\n",
              "    <tr>\n",
              "      <th>min</th>\n",
              "      <td>0.000000</td>\n",
              "    </tr>\n",
              "    <tr>\n",
              "      <th>25%</th>\n",
              "      <td>3.218876</td>\n",
              "    </tr>\n",
              "    <tr>\n",
              "      <th>50%</th>\n",
              "      <td>3.392829</td>\n",
              "    </tr>\n",
              "    <tr>\n",
              "      <th>75%</th>\n",
              "      <td>3.604138</td>\n",
              "    </tr>\n",
              "    <tr>\n",
              "      <th>max</th>\n",
              "      <td>9.164820</td>\n",
              "    </tr>\n",
              "  </tbody>\n",
              "</table>\n",
              "</div>"
            ],
            "text/plain": [
              "       AREA_PRO_ROOM\n",
              "count   11536.000000\n",
              "mean        3.454119\n",
              "std         0.446919\n",
              "min         0.000000\n",
              "25%         3.218876\n",
              "50%         3.392829\n",
              "75%         3.604138\n",
              "max         9.164820"
            ]
          },
          "metadata": {
            "tags": []
          },
          "execution_count": 312
        }
      ]
    },
    {
      "metadata": {
        "id": "CFLyayPTy6X1",
        "colab_type": "code",
        "colab": {
          "base_uri": "https://localhost:8080/",
          "height": 396
        },
        "outputId": "8c1c896a-554e-4d23-afee-f0284d058e99"
      },
      "cell_type": "code",
      "source": [
        "x_test.hist(\"AREA_PRO_ROOM\", bins=BINS)"
      ],
      "execution_count": 313,
      "outputs": [
        {
          "output_type": "execute_result",
          "data": {
            "text/plain": [
              "array([[<matplotlib.axes._subplots.AxesSubplot object at 0x7f760d3e0e48>]],\n",
              "      dtype=object)"
            ]
          },
          "metadata": {
            "tags": []
          },
          "execution_count": 313
        },
        {
          "output_type": "display_data",
          "data": {
            "image/png": "[encoded data removed]",
            "text/plain": [
              "<matplotlib.figure.Figure at 0x7f7618360400>"
            ]
          },
          "metadata": {
            "tags": []
          }
        }
      ]
    },
    {
      "metadata": {
        "id": "a21Zw6mGz_AN",
        "colab_type": "code",
        "colab": {
          "base_uri": "https://localhost:8080/",
          "height": 297
        },
        "outputId": "89b97d48-1923-4a02-97e5-6209e78a14b9"
      },
      "cell_type": "code",
      "source": [
        "y_test.describe()"
      ],
      "execution_count": 314,
      "outputs": [
        {
          "output_type": "execute_result",
          "data": {
            "text/html": [
              "<div>\n",
              "<style scoped>\n",
              "    .dataframe tbody tr th:only-of-type {\n",
              "        vertical-align: middle;\n",
              "    }\n",
              "\n",
              "    .dataframe tbody tr th {\n",
              "        vertical-align: top;\n",
              "    }\n",
              "\n",
              "    .dataframe thead th {\n",
              "        text-align: right;\n",
              "    }\n",
              "</style>\n",
              "<table border=\"1\" class=\"dataframe\">\n",
              "  <thead>\n",
              "    <tr style=\"text-align: right;\">\n",
              "      <th></th>\n",
              "      <th>PRICE_PRO_AREA</th>\n",
              "    </tr>\n",
              "  </thead>\n",
              "  <tbody>\n",
              "    <tr>\n",
              "      <th>count</th>\n",
              "      <td>11536.000000</td>\n",
              "    </tr>\n",
              "    <tr>\n",
              "      <th>mean</th>\n",
              "      <td>7.527463</td>\n",
              "    </tr>\n",
              "    <tr>\n",
              "      <th>std</th>\n",
              "      <td>0.733756</td>\n",
              "    </tr>\n",
              "    <tr>\n",
              "      <th>min</th>\n",
              "      <td>2.377664</td>\n",
              "    </tr>\n",
              "    <tr>\n",
              "      <th>25%</th>\n",
              "      <td>7.132757</td>\n",
              "    </tr>\n",
              "    <tr>\n",
              "      <th>50%</th>\n",
              "      <td>7.566605</td>\n",
              "    </tr>\n",
              "    <tr>\n",
              "      <th>75%</th>\n",
              "      <td>7.973929</td>\n",
              "    </tr>\n",
              "    <tr>\n",
              "      <th>max</th>\n",
              "      <td>12.157282</td>\n",
              "    </tr>\n",
              "  </tbody>\n",
              "</table>\n",
              "</div>"
            ],
            "text/plain": [
              "       PRICE_PRO_AREA\n",
              "count    11536.000000\n",
              "mean         7.527463\n",
              "std          0.733756\n",
              "min          2.377664\n",
              "25%          7.132757\n",
              "50%          7.566605\n",
              "75%          7.973929\n",
              "max         12.157282"
            ]
          },
          "metadata": {
            "tags": []
          },
          "execution_count": 314
        }
      ]
    },
    {
      "metadata": {
        "id": "vxlju8zCd9YY",
        "colab_type": "code",
        "colab": {
          "base_uri": "https://localhost:8080/",
          "height": 396
        },
        "outputId": "0e93f228-965e-43ad-8ec0-ffb1d8513b0a"
      },
      "cell_type": "code",
      "source": [
        "y_test.hist(\"PRICE_PRO_AREA\", bins=BINS)"
      ],
      "execution_count": 315,
      "outputs": [
        {
          "output_type": "execute_result",
          "data": {
            "text/plain": [
              "array([[<matplotlib.axes._subplots.AxesSubplot object at 0x7f7615e31898>]],\n",
              "      dtype=object)"
            ]
          },
          "metadata": {
            "tags": []
          },
          "execution_count": 315
        },
        {
          "output_type": "display_data",
          "data": {
            "image/png": "[encoded data removed]",
            "text/plain": [
              "<matplotlib.figure.Figure at 0x7f761734a6a0>"
            ]
          },
          "metadata": {
            "tags": []
          }
        }
      ]
    },
    {
      "metadata": {
        "id": "_NarbG15zLXN",
        "colab_type": "code",
        "colab": {
          "base_uri": "https://localhost:8080/",
          "height": 378
        },
        "outputId": "87e9b43d-6c02-46e3-8413-8e4cc0392bec"
      },
      "cell_type": "code",
      "source": [
        "pd.concat([x_test, y_test], axis=1).plot.scatter(x='AREA_PRO_ROOM', y='PRICE_PRO_AREA')"
      ],
      "execution_count": 316,
      "outputs": [
        {
          "output_type": "execute_result",
          "data": {
            "text/plain": [
              "<matplotlib.axes._subplots.AxesSubplot at 0x7f761610fef0>"
            ]
          },
          "metadata": {
            "tags": []
          },
          "execution_count": 316
        },
        {
          "output_type": "display_data",
          "data": {
            "image/png": "[encoded data removed]",
            "text/plain": [
              "<matplotlib.figure.Figure at 0x7f761730f128>"
            ]
          },
          "metadata": {
            "tags": []
          }
        }
      ]
    },
    {
      "metadata": {
        "id": "Yi1g3htco3st",
        "colab_type": "code",
        "colab": {
          "base_uri": "https://localhost:8080/",
          "height": 204
        },
        "outputId": "c654e746-fbdd-42ff-a89e-e5e64a2d12e8"
      },
      "cell_type": "code",
      "source": [
        "x_train.head()"
      ],
      "execution_count": 317,
      "outputs": [
        {
          "output_type": "execute_result",
          "data": {
            "text/html": [
              "<div>\n",
              "<style scoped>\n",
              "    .dataframe tbody tr th:only-of-type {\n",
              "        vertical-align: middle;\n",
              "    }\n",
              "\n",
              "    .dataframe tbody tr th {\n",
              "        vertical-align: top;\n",
              "    }\n",
              "\n",
              "    .dataframe thead th {\n",
              "        text-align: right;\n",
              "    }\n",
              "</style>\n",
              "<table border=\"1\" class=\"dataframe\">\n",
              "  <thead>\n",
              "    <tr style=\"text-align: right;\">\n",
              "      <th></th>\n",
              "      <th>AREA_PRO_ROOM</th>\n",
              "    </tr>\n",
              "  </thead>\n",
              "  <tbody>\n",
              "    <tr>\n",
              "      <th>232574</th>\n",
              "      <td>3.496508</td>\n",
              "    </tr>\n",
              "    <tr>\n",
              "      <th>278579</th>\n",
              "      <td>3.449988</td>\n",
              "    </tr>\n",
              "    <tr>\n",
              "      <th>8266</th>\n",
              "      <td>2.944439</td>\n",
              "    </tr>\n",
              "    <tr>\n",
              "      <th>194947</th>\n",
              "      <td>3.258097</td>\n",
              "    </tr>\n",
              "    <tr>\n",
              "      <th>84435</th>\n",
              "      <td>2.813411</td>\n",
              "    </tr>\n",
              "  </tbody>\n",
              "</table>\n",
              "</div>"
            ],
            "text/plain": [
              "        AREA_PRO_ROOM\n",
              "232574       3.496508\n",
              "278579       3.449988\n",
              "8266         2.944439\n",
              "194947       3.258097\n",
              "84435        2.813411"
            ]
          },
          "metadata": {
            "tags": []
          },
          "execution_count": 317
        }
      ]
    },
    {
      "metadata": {
        "id": "6VRcJQxqpInl",
        "colab_type": "code",
        "colab": {
          "base_uri": "https://localhost:8080/",
          "height": 204
        },
        "outputId": "149e04e8-f68e-4487-99be-945e7c2c7d9f"
      },
      "cell_type": "code",
      "source": [
        "x_eval.head()"
      ],
      "execution_count": 318,
      "outputs": [
        {
          "output_type": "execute_result",
          "data": {
            "text/html": [
              "<div>\n",
              "<style scoped>\n",
              "    .dataframe tbody tr th:only-of-type {\n",
              "        vertical-align: middle;\n",
              "    }\n",
              "\n",
              "    .dataframe tbody tr th {\n",
              "        vertical-align: top;\n",
              "    }\n",
              "\n",
              "    .dataframe thead th {\n",
              "        text-align: right;\n",
              "    }\n",
              "</style>\n",
              "<table border=\"1\" class=\"dataframe\">\n",
              "  <thead>\n",
              "    <tr style=\"text-align: right;\">\n",
              "      <th></th>\n",
              "      <th>AREA_PRO_ROOM</th>\n",
              "    </tr>\n",
              "  </thead>\n",
              "  <tbody>\n",
              "    <tr>\n",
              "      <th>147065</th>\n",
              "      <td>3.784190</td>\n",
              "    </tr>\n",
              "    <tr>\n",
              "      <th>49169</th>\n",
              "      <td>3.316204</td>\n",
              "    </tr>\n",
              "    <tr>\n",
              "      <th>92310</th>\n",
              "      <td>3.242592</td>\n",
              "    </tr>\n",
              "    <tr>\n",
              "      <th>201635</th>\n",
              "      <td>4.287411</td>\n",
              "    </tr>\n",
              "    <tr>\n",
              "      <th>141812</th>\n",
              "      <td>3.538057</td>\n",
              "    </tr>\n",
              "  </tbody>\n",
              "</table>\n",
              "</div>"
            ],
            "text/plain": [
              "        AREA_PRO_ROOM\n",
              "147065       3.784190\n",
              "49169        3.316204\n",
              "92310        3.242592\n",
              "201635       4.287411\n",
              "141812       3.538057"
            ]
          },
          "metadata": {
            "tags": []
          },
          "execution_count": 318
        }
      ]
    },
    {
      "metadata": {
        "id": "g5fkf_HZaj2u",
        "colab_type": "code",
        "colab": {
          "base_uri": "https://localhost:8080/",
          "height": 204
        },
        "outputId": "718d0d36-9cda-4e6c-e359-19ec0f3d8de6"
      },
      "cell_type": "code",
      "source": [
        "x_test.head()"
      ],
      "execution_count": 319,
      "outputs": [
        {
          "output_type": "execute_result",
          "data": {
            "text/html": [
              "<div>\n",
              "<style scoped>\n",
              "    .dataframe tbody tr th:only-of-type {\n",
              "        vertical-align: middle;\n",
              "    }\n",
              "\n",
              "    .dataframe tbody tr th {\n",
              "        vertical-align: top;\n",
              "    }\n",
              "\n",
              "    .dataframe thead th {\n",
              "        text-align: right;\n",
              "    }\n",
              "</style>\n",
              "<table border=\"1\" class=\"dataframe\">\n",
              "  <thead>\n",
              "    <tr style=\"text-align: right;\">\n",
              "      <th></th>\n",
              "      <th>AREA_PRO_ROOM</th>\n",
              "    </tr>\n",
              "  </thead>\n",
              "  <tbody>\n",
              "    <tr>\n",
              "      <th>8</th>\n",
              "      <td>5.634790</td>\n",
              "    </tr>\n",
              "    <tr>\n",
              "      <th>30</th>\n",
              "      <td>3.941582</td>\n",
              "    </tr>\n",
              "    <tr>\n",
              "      <th>44</th>\n",
              "      <td>3.967593</td>\n",
              "    </tr>\n",
              "    <tr>\n",
              "      <th>105</th>\n",
              "      <td>2.944439</td>\n",
              "    </tr>\n",
              "    <tr>\n",
              "      <th>126</th>\n",
              "      <td>3.264486</td>\n",
              "    </tr>\n",
              "  </tbody>\n",
              "</table>\n",
              "</div>"
            ],
            "text/plain": [
              "     AREA_PRO_ROOM\n",
              "8         5.634790\n",
              "30        3.941582\n",
              "44        3.967593\n",
              "105       2.944439\n",
              "126       3.264486"
            ]
          },
          "metadata": {
            "tags": []
          },
          "execution_count": 319
        }
      ]
    },
    {
      "metadata": {
        "id": "WDyckWh7lwBT",
        "colab_type": "code",
        "colab": {
          "base_uri": "https://localhost:8080/",
          "height": 204
        },
        "outputId": "52986141-6343-4e2e-ea5d-7ddf7b551b53"
      },
      "cell_type": "code",
      "source": [
        "y_train.head()"
      ],
      "execution_count": 320,
      "outputs": [
        {
          "output_type": "execute_result",
          "data": {
            "text/html": [
              "<div>\n",
              "<style scoped>\n",
              "    .dataframe tbody tr th:only-of-type {\n",
              "        vertical-align: middle;\n",
              "    }\n",
              "\n",
              "    .dataframe tbody tr th {\n",
              "        vertical-align: top;\n",
              "    }\n",
              "\n",
              "    .dataframe thead th {\n",
              "        text-align: right;\n",
              "    }\n",
              "</style>\n",
              "<table border=\"1\" class=\"dataframe\">\n",
              "  <thead>\n",
              "    <tr style=\"text-align: right;\">\n",
              "      <th></th>\n",
              "      <th>PRICE_PRO_AREA</th>\n",
              "    </tr>\n",
              "  </thead>\n",
              "  <tbody>\n",
              "    <tr>\n",
              "      <th>232574</th>\n",
              "      <td>8.255435</td>\n",
              "    </tr>\n",
              "    <tr>\n",
              "      <th>278579</th>\n",
              "      <td>8.111490</td>\n",
              "    </tr>\n",
              "    <tr>\n",
              "      <th>8266</th>\n",
              "      <td>7.444556</td>\n",
              "    </tr>\n",
              "    <tr>\n",
              "      <th>194947</th>\n",
              "      <td>7.605699</td>\n",
              "    </tr>\n",
              "    <tr>\n",
              "      <th>84435</th>\n",
              "      <td>7.740664</td>\n",
              "    </tr>\n",
              "  </tbody>\n",
              "</table>\n",
              "</div>"
            ],
            "text/plain": [
              "        PRICE_PRO_AREA\n",
              "232574        8.255435\n",
              "278579        8.111490\n",
              "8266          7.444556\n",
              "194947        7.605699\n",
              "84435         7.740664"
            ]
          },
          "metadata": {
            "tags": []
          },
          "execution_count": 320
        }
      ]
    },
    {
      "metadata": {
        "id": "KNqPapJAlwG1",
        "colab_type": "code",
        "colab": {
          "base_uri": "https://localhost:8080/",
          "height": 204
        },
        "outputId": "b413b47d-5f2e-41a3-888d-92fe0dee000a"
      },
      "cell_type": "code",
      "source": [
        "y_eval.head()"
      ],
      "execution_count": 321,
      "outputs": [
        {
          "output_type": "execute_result",
          "data": {
            "text/html": [
              "<div>\n",
              "<style scoped>\n",
              "    .dataframe tbody tr th:only-of-type {\n",
              "        vertical-align: middle;\n",
              "    }\n",
              "\n",
              "    .dataframe tbody tr th {\n",
              "        vertical-align: top;\n",
              "    }\n",
              "\n",
              "    .dataframe thead th {\n",
              "        text-align: right;\n",
              "    }\n",
              "</style>\n",
              "<table border=\"1\" class=\"dataframe\">\n",
              "  <thead>\n",
              "    <tr style=\"text-align: right;\">\n",
              "      <th></th>\n",
              "      <th>PRICE_PRO_AREA</th>\n",
              "    </tr>\n",
              "  </thead>\n",
              "  <tbody>\n",
              "    <tr>\n",
              "      <th>147065</th>\n",
              "      <td>8.557288</td>\n",
              "    </tr>\n",
              "    <tr>\n",
              "      <th>49169</th>\n",
              "      <td>6.870790</td>\n",
              "    </tr>\n",
              "    <tr>\n",
              "      <th>92310</th>\n",
              "      <td>7.508479</td>\n",
              "    </tr>\n",
              "    <tr>\n",
              "      <th>201635</th>\n",
              "      <td>7.470637</td>\n",
              "    </tr>\n",
              "    <tr>\n",
              "      <th>141812</th>\n",
              "      <td>7.496833</td>\n",
              "    </tr>\n",
              "  </tbody>\n",
              "</table>\n",
              "</div>"
            ],
            "text/plain": [
              "        PRICE_PRO_AREA\n",
              "147065        8.557288\n",
              "49169         6.870790\n",
              "92310         7.508479\n",
              "201635        7.470637\n",
              "141812        7.496833"
            ]
          },
          "metadata": {
            "tags": []
          },
          "execution_count": 321
        }
      ]
    },
    {
      "metadata": {
        "id": "4FR6Ujg1lwL6",
        "colab_type": "code",
        "colab": {
          "base_uri": "https://localhost:8080/",
          "height": 204
        },
        "outputId": "8e4b8d1a-f0fd-4396-f66e-fe9c6a9663c3"
      },
      "cell_type": "code",
      "source": [
        "y_test.head()"
      ],
      "execution_count": 322,
      "outputs": [
        {
          "output_type": "execute_result",
          "data": {
            "text/html": [
              "<div>\n",
              "<style scoped>\n",
              "    .dataframe tbody tr th:only-of-type {\n",
              "        vertical-align: middle;\n",
              "    }\n",
              "\n",
              "    .dataframe tbody tr th {\n",
              "        vertical-align: top;\n",
              "    }\n",
              "\n",
              "    .dataframe thead th {\n",
              "        text-align: right;\n",
              "    }\n",
              "</style>\n",
              "<table border=\"1\" class=\"dataframe\">\n",
              "  <thead>\n",
              "    <tr style=\"text-align: right;\">\n",
              "      <th></th>\n",
              "      <th>PRICE_PRO_AREA</th>\n",
              "    </tr>\n",
              "  </thead>\n",
              "  <tbody>\n",
              "    <tr>\n",
              "      <th>8</th>\n",
              "      <td>6.600842</td>\n",
              "    </tr>\n",
              "    <tr>\n",
              "      <th>30</th>\n",
              "      <td>8.816938</td>\n",
              "    </tr>\n",
              "    <tr>\n",
              "      <th>44</th>\n",
              "      <td>8.202112</td>\n",
              "    </tr>\n",
              "    <tr>\n",
              "      <th>105</th>\n",
              "      <td>6.017440</td>\n",
              "    </tr>\n",
              "    <tr>\n",
              "      <th>126</th>\n",
              "      <td>6.220957</td>\n",
              "    </tr>\n",
              "  </tbody>\n",
              "</table>\n",
              "</div>"
            ],
            "text/plain": [
              "     PRICE_PRO_AREA\n",
              "8          6.600842\n",
              "30         8.816938\n",
              "44         8.202112\n",
              "105        6.017440\n",
              "126        6.220957"
            ]
          },
          "metadata": {
            "tags": []
          },
          "execution_count": 322
        }
      ]
    },
    {
      "metadata": {
        "id": "udjYU2TaCClX",
        "colab_type": "code",
        "colab": {}
      },
      "cell_type": "code",
      "source": [
        "def input_fn(features, targets, batch_size=1, shuffle=True, num_epochs=None):\n",
        "    \"\"\"Trains a linear regression model of one feature.\n",
        "  \n",
        "    Args:\n",
        "      features: pandas DataFrame of features\n",
        "      targets: pandas DataFrame of targets\n",
        "      batch_size: Size of batches to be passed to the model\n",
        "      shuffle: True or False. Whether to shuffle the data.\n",
        "      num_epochs: Number of epochs for which data should be repeated. None = repeat indefinitely\n",
        "    Returns:\n",
        "      Tuple of (features, labels) for next data batch\n",
        "    \"\"\"\n",
        " \n",
        "    # Construct a dataset, and configure batching/repeating\n",
        "    features = {key:np.array(value) for key,value in dict(features).items()} \n",
        "  \n",
        "    ds = Dataset.from_tensor_slices((features, targets))\n",
        "    ds = ds.batch(batch_size).repeat(num_epochs)\n",
        "    \n",
        "    # Shuffle the data, if specified\n",
        "    if shuffle:\n",
        "      ds = ds.shuffle(buffer_size=10000)\n",
        "    \n",
        "    # Return the next batch of data\n",
        "    features, labels = ds.make_one_shot_iterator().get_next()\n",
        "    return features, labels"
      ],
      "execution_count": 0,
      "outputs": []
    },
    {
      "metadata": {
        "id": "XauzWrcNCh0J",
        "colab_type": "code",
        "colab": {}
      },
      "cell_type": "code",
      "source": [
        "train_input_fn = lambda: input_fn(x_train, y_train)"
      ],
      "execution_count": 0,
      "outputs": []
    },
    {
      "metadata": {
        "id": "MUKqyBqocZJ_",
        "colab_type": "code",
        "colab": {}
      },
      "cell_type": "code",
      "source": [
        "train_predict_input_fn = lambda: input_fn(x_train, y_train, num_epochs=1, shuffle=False)"
      ],
      "execution_count": 0,
      "outputs": []
    },
    {
      "metadata": {
        "id": "_QCb9zcOCf3A",
        "colab_type": "code",
        "colab": {}
      },
      "cell_type": "code",
      "source": [
        "eval_predict_input_fn = lambda: input_fn(x_eval, y_eval, num_epochs=1, shuffle=False)"
      ],
      "execution_count": 0,
      "outputs": []
    },
    {
      "metadata": {
        "id": "YXjdJK8zbfW5",
        "colab_type": "code",
        "colab": {}
      },
      "cell_type": "code",
      "source": [
        "test_predict_input_fun = lambda: input_fn(x_test, y_test, num_epochs=1, shuffle=False)"
      ],
      "execution_count": 0,
      "outputs": []
    },
    {
      "metadata": {
        "id": "O4Fyeywlz4dm",
        "colab_type": "code",
        "colab": {}
      },
      "cell_type": "code",
      "source": [
        "feature_cols = [\n",
        "  tf.feature_column.numeric_column(\"AREA_PRO_ROOM\") \n",
        "]"
      ],
      "execution_count": 0,
      "outputs": []
    },
    {
      "metadata": {
        "id": "MOZGWNtE7r56",
        "colab_type": "code",
        "colab": {}
      },
      "cell_type": "code",
      "source": [
        "train_optimizer = tf.train.GradientDescentOptimizer(learning_rate=LEARNING_RATE)\n",
        "train_optimizer = tf.contrib.estimator.clip_gradients_by_norm(train_optimizer, 5.0)"
      ],
      "execution_count": 0,
      "outputs": []
    },
    {
      "metadata": {
        "id": "wR1wAHC0b8R5",
        "colab_type": "code",
        "colab": {
          "base_uri": "https://localhost:8080/",
          "height": 108
        },
        "outputId": "c7f581ef-ce91-4b51-a52b-a146b7325d65"
      },
      "cell_type": "code",
      "source": [
        "model = tf.estimator.LinearRegressor(\n",
        "    feature_columns = feature_cols,\n",
        "    optimizer = train_optimizer\n",
        ")"
      ],
      "execution_count": 330,
      "outputs": [
        {
          "output_type": "stream",
          "text": [
            "INFO:tensorflow:Using default config.\n",
            "WARNING:tensorflow:Using temporary folder as model directory: /tmp/tmp4q1z3h47\n",
            "INFO:tensorflow:Using config: {'_model_dir': '/tmp/tmp4q1z3h47', '_tf_random_seed': None, '_save_summary_steps': 100, '_save_checkpoints_steps': None, '_save_checkpoints_secs': 600, '_session_config': None, '_keep_checkpoint_max': 5, '_keep_checkpoint_every_n_hours': 10000, '_log_step_count_steps': 100, '_train_distribute': None, '_device_fn': None, '_service': None, '_cluster_spec': <tensorflow.python.training.server_lib.ClusterSpec object at 0x7f7617242e48>, '_task_type': 'worker', '_task_id': 0, '_global_id_in_cluster': 0, '_master': '', '_evaluation_master': '', '_is_chief': True, '_num_ps_replicas': 0, '_num_worker_replicas': 1}\n"
          ],
          "name": "stdout"
        }
      ]
    },
    {
      "metadata": {
        "id": "xibCYiz3by1B",
        "colab_type": "code",
        "colab": {
          "base_uri": "https://localhost:8080/",
          "height": 25500
        },
        "outputId": "3b4117a8-b2a9-4426-d7ec-a8014369e88f"
      },
      "cell_type": "code",
      "source": [
        "for period in range(0, PERIODS):\n",
        "  model.train(input_fn=train_input_fn, steps=STEPS)\n",
        "  #train_predict = model.predict(input_fn=train_predict_input_fn)\n",
        "  #eval_predict = model.predict(input_fn=eval_predict_input_fn)\n",
        "  print(\"-\" * 100)\n",
        "  metrics_train = model.evaluate(steps=STEPS, input_fn=train_predict_input_fn)\n",
        "  metrics_eval = model.evaluate(steps=STEPS, input_fn=eval_predict_input_fn) \n",
        "  print(\"-\" * 100)\n",
        "  \n",
        "  #train_predict = np.array([item['predictions'][0] for item in train_predict])\n",
        "  #eval_predict = np.array([item['predictions'][0] for item in eval_predict])\n",
        "  \n",
        "  # Compute loss for train and evaluation\n",
        "  #train_rmse = math.sqrt(\n",
        "  #      sklearn.metrics.mean_squared_error(train_predict, y_train))\n",
        "  #eval_rmse = math.sqrt(\n",
        "  #      sklearn.metrics.mean_squared_error(eval_predict, y_eval))\n",
        "  train_rmse = np.sqrt(metrics_train['average_loss'])\n",
        "  eval_rmse = np.sqrt(metrics_eval['average_loss'])\n",
        "  \n",
        "  print(\"*\" * 100)\n",
        "  print(\"*Period[rmse training] %02d : %0.2f\" % (period, train_rmse))\n",
        "  print(\"*Period[rmse eval] %02d : %0.2f\" % (period, eval_rmse))  \n",
        "  print(\"*\" * 100)"
      ],
      "execution_count": 331,
      "outputs": [
        {
          "output_type": "stream",
          "text": [
            "INFO:tensorflow:Calling model_fn.\n",
            "INFO:tensorflow:Done calling model_fn.\n",
            "INFO:tensorflow:Create CheckpointSaverHook.\n",
            "INFO:tensorflow:Graph was finalized.\n",
            "INFO:tensorflow:Running local_init_op.\n",
            "INFO:tensorflow:Done running local_init_op.\n",
            "INFO:tensorflow:Saving checkpoints for 0 into /tmp/tmp4q1z3h47/model.ckpt.\n",
            "INFO:tensorflow:loss = 67.03378, step = 0\n",
            "INFO:tensorflow:global_step/sec: 327.441\n",
            "INFO:tensorflow:loss = 67.95565, step = 100 (0.310 sec)\n",
            "INFO:tensorflow:global_step/sec: 457.422\n",
            "INFO:tensorflow:loss = 65.66771, step = 200 (0.218 sec)\n",
            "INFO:tensorflow:global_step/sec: 462.833\n",
            "INFO:tensorflow:loss = 66.63992, step = 300 (0.217 sec)\n",
            "INFO:tensorflow:global_step/sec: 467.36\n",
            "INFO:tensorflow:loss = 53.07357, step = 400 (0.214 sec)\n",
            "INFO:tensorflow:global_step/sec: 463.148\n",
            "INFO:tensorflow:loss = 54.84684, step = 500 (0.216 sec)\n",
            "INFO:tensorflow:global_step/sec: 445.212\n",
            "INFO:tensorflow:loss = 34.37555, step = 600 (0.222 sec)\n",
            "INFO:tensorflow:global_step/sec: 408.641\n",
            "INFO:tensorflow:loss = 70.32115, step = 700 (0.247 sec)\n",
            "INFO:tensorflow:global_step/sec: 441.563\n",
            "INFO:tensorflow:loss = 47.42929, step = 800 (0.224 sec)\n",
            "INFO:tensorflow:global_step/sec: 454.665\n",
            "INFO:tensorflow:loss = 47.606613, step = 900 (0.220 sec)\n",
            "INFO:tensorflow:Saving checkpoints for 1000 into /tmp/tmp4q1z3h47/model.ckpt.\n",
            "INFO:tensorflow:Loss for final step: 46.147846.\n",
            "----------------------------------------------------------------------------------------------------\n",
            "INFO:tensorflow:Calling model_fn.\n",
            "INFO:tensorflow:Done calling model_fn.\n",
            "INFO:tensorflow:Starting evaluation at 2018-08-12-22:17:22\n",
            "INFO:tensorflow:Graph was finalized.\n",
            "INFO:tensorflow:Restoring parameters from /tmp/tmp4q1z3h47/model.ckpt-1000\n",
            "INFO:tensorflow:Running local_init_op.\n",
            "INFO:tensorflow:Done running local_init_op.\n",
            "INFO:tensorflow:Evaluation [100/1000]\n",
            "INFO:tensorflow:Evaluation [200/1000]\n",
            "INFO:tensorflow:Evaluation [300/1000]\n",
            "INFO:tensorflow:Evaluation [400/1000]\n",
            "INFO:tensorflow:Evaluation [500/1000]\n",
            "INFO:tensorflow:Evaluation [600/1000]\n",
            "INFO:tensorflow:Evaluation [700/1000]\n",
            "INFO:tensorflow:Evaluation [800/1000]\n",
            "INFO:tensorflow:Evaluation [900/1000]\n",
            "INFO:tensorflow:Evaluation [1000/1000]\n",
            "INFO:tensorflow:Finished evaluation at 2018-08-12-22:17:25\n",
            "INFO:tensorflow:Saving dict for global step 1000: average_loss = 56.763878, global_step = 1000, label/mean = 7.5161743, loss = 56.763878, prediction/mean = 0.018043883\n",
            "INFO:tensorflow:Saving 'checkpoint_path' summary for global step 1000: /tmp/tmp4q1z3h47/model.ckpt-1000\n",
            "INFO:tensorflow:Calling model_fn.\n",
            "INFO:tensorflow:Done calling model_fn.\n",
            "INFO:tensorflow:Starting evaluation at 2018-08-12-22:17:25\n",
            "INFO:tensorflow:Graph was finalized.\n",
            "INFO:tensorflow:Restoring parameters from /tmp/tmp4q1z3h47/model.ckpt-1000\n",
            "INFO:tensorflow:Running local_init_op.\n",
            "INFO:tensorflow:Done running local_init_op.\n",
            "INFO:tensorflow:Evaluation [100/1000]\n",
            "INFO:tensorflow:Evaluation [200/1000]\n",
            "INFO:tensorflow:Evaluation [300/1000]\n",
            "INFO:tensorflow:Evaluation [400/1000]\n",
            "INFO:tensorflow:Evaluation [500/1000]\n",
            "INFO:tensorflow:Evaluation [600/1000]\n",
            "INFO:tensorflow:Evaluation [700/1000]\n",
            "INFO:tensorflow:Evaluation [800/1000]\n",
            "INFO:tensorflow:Evaluation [900/1000]\n",
            "INFO:tensorflow:Evaluation [1000/1000]\n",
            "INFO:tensorflow:Finished evaluation at 2018-08-12-22:17:28\n",
            "INFO:tensorflow:Saving dict for global step 1000: average_loss = 57.05813, global_step = 1000, label/mean = 7.533653, loss = 57.05813, prediction/mean = 0.017993713\n",
            "INFO:tensorflow:Saving 'checkpoint_path' summary for global step 1000: /tmp/tmp4q1z3h47/model.ckpt-1000\n",
            "----------------------------------------------------------------------------------------------------\n",
            "****************************************************************************************************\n",
            "*Period[rmse training] 00 : 7.53\n",
            "*Period[rmse eval] 00 : 7.55\n",
            "****************************************************************************************************\n",
            "INFO:tensorflow:Calling model_fn.\n",
            "INFO:tensorflow:Done calling model_fn.\n",
            "INFO:tensorflow:Create CheckpointSaverHook.\n",
            "INFO:tensorflow:Graph was finalized.\n",
            "INFO:tensorflow:Restoring parameters from /tmp/tmp4q1z3h47/model.ckpt-1000\n",
            "INFO:tensorflow:Running local_init_op.\n",
            "INFO:tensorflow:Done running local_init_op.\n",
            "INFO:tensorflow:Saving checkpoints for 1000 into /tmp/tmp4q1z3h47/model.ckpt.\n",
            "INFO:tensorflow:loss = 59.68957, step = 1000\n",
            "INFO:tensorflow:global_step/sec: 355.148\n",
            "INFO:tensorflow:loss = 55.78828, step = 1100 (0.288 sec)\n",
            "INFO:tensorflow:global_step/sec: 420.485\n",
            "INFO:tensorflow:loss = 41.94378, step = 1200 (0.236 sec)\n",
            "INFO:tensorflow:global_step/sec: 435.819\n",
            "INFO:tensorflow:loss = 50.5189, step = 1300 (0.228 sec)\n",
            "INFO:tensorflow:global_step/sec: 440.716\n",
            "INFO:tensorflow:loss = 66.4181, step = 1400 (0.230 sec)\n",
            "INFO:tensorflow:global_step/sec: 403.732\n",
            "INFO:tensorflow:loss = 45.417416, step = 1500 (0.247 sec)\n",
            "INFO:tensorflow:global_step/sec: 417.02\n",
            "INFO:tensorflow:loss = 52.055916, step = 1600 (0.240 sec)\n",
            "INFO:tensorflow:global_step/sec: 420.294\n",
            "INFO:tensorflow:loss = 49.66332, step = 1700 (0.238 sec)\n",
            "INFO:tensorflow:global_step/sec: 434.022\n",
            "INFO:tensorflow:loss = 50.89665, step = 1800 (0.231 sec)\n",
            "INFO:tensorflow:global_step/sec: 424.088\n",
            "INFO:tensorflow:loss = 66.153496, step = 1900 (0.235 sec)\n",
            "INFO:tensorflow:Saving checkpoints for 2000 into /tmp/tmp4q1z3h47/model.ckpt.\n",
            "INFO:tensorflow:Loss for final step: 48.613033.\n",
            "----------------------------------------------------------------------------------------------------\n",
            "INFO:tensorflow:Calling model_fn.\n",
            "INFO:tensorflow:Done calling model_fn.\n",
            "INFO:tensorflow:Starting evaluation at 2018-08-12-22:17:32\n",
            "INFO:tensorflow:Graph was finalized.\n",
            "INFO:tensorflow:Restoring parameters from /tmp/tmp4q1z3h47/model.ckpt-2000\n",
            "INFO:tensorflow:Running local_init_op.\n",
            "INFO:tensorflow:Done running local_init_op.\n",
            "INFO:tensorflow:Evaluation [100/1000]\n",
            "INFO:tensorflow:Evaluation [200/1000]\n",
            "INFO:tensorflow:Evaluation [300/1000]\n",
            "INFO:tensorflow:Evaluation [400/1000]\n",
            "INFO:tensorflow:Evaluation [500/1000]\n",
            "INFO:tensorflow:Evaluation [600/1000]\n",
            "INFO:tensorflow:Evaluation [700/1000]\n",
            "INFO:tensorflow:Evaluation [800/1000]\n",
            "INFO:tensorflow:Evaluation [900/1000]\n",
            "INFO:tensorflow:Evaluation [1000/1000]\n",
            "INFO:tensorflow:Finished evaluation at 2018-08-12-22:17:35\n",
            "INFO:tensorflow:Saving dict for global step 2000: average_loss = 56.49356, global_step = 2000, label/mean = 7.5161743, loss = 56.49356, prediction/mean = 0.036086764\n",
            "INFO:tensorflow:Saving 'checkpoint_path' summary for global step 2000: /tmp/tmp4q1z3h47/model.ckpt-2000\n",
            "INFO:tensorflow:Calling model_fn.\n",
            "INFO:tensorflow:Done calling model_fn.\n",
            "INFO:tensorflow:Starting evaluation at 2018-08-12-22:17:35\n",
            "INFO:tensorflow:Graph was finalized.\n",
            "INFO:tensorflow:Restoring parameters from /tmp/tmp4q1z3h47/model.ckpt-2000\n",
            "INFO:tensorflow:Running local_init_op.\n",
            "INFO:tensorflow:Done running local_init_op.\n",
            "INFO:tensorflow:Evaluation [100/1000]\n",
            "INFO:tensorflow:Evaluation [200/1000]\n",
            "INFO:tensorflow:Evaluation [300/1000]\n",
            "INFO:tensorflow:Evaluation [400/1000]\n",
            "INFO:tensorflow:Evaluation [500/1000]\n",
            "INFO:tensorflow:Evaluation [600/1000]\n",
            "INFO:tensorflow:Evaluation [700/1000]\n",
            "INFO:tensorflow:Evaluation [800/1000]\n",
            "INFO:tensorflow:Evaluation [900/1000]\n",
            "INFO:tensorflow:Evaluation [1000/1000]\n",
            "INFO:tensorflow:Finished evaluation at 2018-08-12-22:17:37\n",
            "INFO:tensorflow:Saving dict for global step 2000: average_loss = 56.788567, global_step = 2000, label/mean = 7.533653, loss = 56.788567, prediction/mean = 0.035986427\n",
            "INFO:tensorflow:Saving 'checkpoint_path' summary for global step 2000: /tmp/tmp4q1z3h47/model.ckpt-2000\n",
            "----------------------------------------------------------------------------------------------------\n",
            "****************************************************************************************************\n",
            "*Period[rmse training] 01 : 7.52\n",
            "*Period[rmse eval] 01 : 7.54\n",
            "****************************************************************************************************\n",
            "INFO:tensorflow:Calling model_fn.\n",
            "INFO:tensorflow:Done calling model_fn.\n",
            "INFO:tensorflow:Create CheckpointSaverHook.\n",
            "INFO:tensorflow:Graph was finalized.\n",
            "INFO:tensorflow:Restoring parameters from /tmp/tmp4q1z3h47/model.ckpt-2000\n",
            "INFO:tensorflow:Running local_init_op.\n",
            "INFO:tensorflow:Done running local_init_op.\n",
            "INFO:tensorflow:Saving checkpoints for 2000 into /tmp/tmp4q1z3h47/model.ckpt.\n",
            "INFO:tensorflow:loss = 76.065315, step = 2000\n",
            "INFO:tensorflow:global_step/sec: 328.4\n",
            "INFO:tensorflow:loss = 42.542683, step = 2100 (0.309 sec)\n",
            "INFO:tensorflow:global_step/sec: 421.193\n",
            "INFO:tensorflow:loss = 48.69111, step = 2200 (0.237 sec)\n",
            "INFO:tensorflow:global_step/sec: 420.916\n",
            "INFO:tensorflow:loss = 44.445652, step = 2300 (0.235 sec)\n",
            "INFO:tensorflow:global_step/sec: 423.226\n",
            "INFO:tensorflow:loss = 60.85986, step = 2400 (0.238 sec)\n",
            "INFO:tensorflow:global_step/sec: 425.251\n",
            "INFO:tensorflow:loss = 50.692863, step = 2500 (0.236 sec)\n",
            "INFO:tensorflow:global_step/sec: 385.677\n",
            "INFO:tensorflow:loss = 45.2038, step = 2600 (0.259 sec)\n",
            "INFO:tensorflow:global_step/sec: 421.915\n",
            "INFO:tensorflow:loss = 54.086746, step = 2700 (0.234 sec)\n",
            "INFO:tensorflow:global_step/sec: 423.691\n",
            "INFO:tensorflow:loss = 79.18886, step = 2800 (0.236 sec)\n",
            "INFO:tensorflow:global_step/sec: 459.205\n",
            "INFO:tensorflow:loss = 47.835472, step = 2900 (0.219 sec)\n",
            "INFO:tensorflow:Saving checkpoints for 3000 into /tmp/tmp4q1z3h47/model.ckpt.\n",
            "INFO:tensorflow:Loss for final step: 67.259705.\n",
            "----------------------------------------------------------------------------------------------------\n",
            "INFO:tensorflow:Calling model_fn.\n",
            "INFO:tensorflow:Done calling model_fn.\n",
            "INFO:tensorflow:Starting evaluation at 2018-08-12-22:17:41\n",
            "INFO:tensorflow:Graph was finalized.\n",
            "INFO:tensorflow:Restoring parameters from /tmp/tmp4q1z3h47/model.ckpt-3000\n",
            "INFO:tensorflow:Running local_init_op.\n",
            "INFO:tensorflow:Done running local_init_op.\n",
            "INFO:tensorflow:Evaluation [100/1000]\n",
            "INFO:tensorflow:Evaluation [200/1000]\n",
            "INFO:tensorflow:Evaluation [300/1000]\n",
            "INFO:tensorflow:Evaluation [400/1000]\n",
            "INFO:tensorflow:Evaluation [500/1000]\n",
            "INFO:tensorflow:Evaluation [600/1000]\n",
            "INFO:tensorflow:Evaluation [700/1000]\n",
            "INFO:tensorflow:Evaluation [800/1000]\n",
            "INFO:tensorflow:Evaluation [900/1000]\n",
            "INFO:tensorflow:Evaluation [1000/1000]\n",
            "INFO:tensorflow:Finished evaluation at 2018-08-12-22:17:44\n",
            "INFO:tensorflow:Saving dict for global step 3000: average_loss = 56.223785, global_step = 3000, label/mean = 7.5161743, loss = 56.223785, prediction/mean = 0.054132234\n",
            "INFO:tensorflow:Saving 'checkpoint_path' summary for global step 3000: /tmp/tmp4q1z3h47/model.ckpt-3000\n",
            "INFO:tensorflow:Calling model_fn.\n",
            "INFO:tensorflow:Done calling model_fn.\n",
            "INFO:tensorflow:Starting evaluation at 2018-08-12-22:17:44\n",
            "INFO:tensorflow:Graph was finalized.\n",
            "INFO:tensorflow:Restoring parameters from /tmp/tmp4q1z3h47/model.ckpt-3000\n",
            "INFO:tensorflow:Running local_init_op.\n",
            "INFO:tensorflow:Done running local_init_op.\n",
            "INFO:tensorflow:Evaluation [100/1000]\n",
            "INFO:tensorflow:Evaluation [200/1000]\n",
            "INFO:tensorflow:Evaluation [300/1000]\n",
            "INFO:tensorflow:Evaluation [400/1000]\n",
            "INFO:tensorflow:Evaluation [500/1000]\n",
            "INFO:tensorflow:Evaluation [600/1000]\n",
            "INFO:tensorflow:Evaluation [700/1000]\n",
            "INFO:tensorflow:Evaluation [800/1000]\n",
            "INFO:tensorflow:Evaluation [900/1000]\n",
            "INFO:tensorflow:Evaluation [1000/1000]\n",
            "INFO:tensorflow:Finished evaluation at 2018-08-12-22:17:46\n",
            "INFO:tensorflow:Saving dict for global step 3000: average_loss = 56.519608, global_step = 3000, label/mean = 7.533653, loss = 56.519608, prediction/mean = 0.053981744\n",
            "INFO:tensorflow:Saving 'checkpoint_path' summary for global step 3000: /tmp/tmp4q1z3h47/model.ckpt-3000\n",
            "----------------------------------------------------------------------------------------------------\n",
            "****************************************************************************************************\n",
            "*Period[rmse training] 02 : 7.50\n",
            "*Period[rmse eval] 02 : 7.52\n",
            "****************************************************************************************************\n",
            "INFO:tensorflow:Calling model_fn.\n",
            "INFO:tensorflow:Done calling model_fn.\n",
            "INFO:tensorflow:Create CheckpointSaverHook.\n",
            "INFO:tensorflow:Graph was finalized.\n",
            "INFO:tensorflow:Restoring parameters from /tmp/tmp4q1z3h47/model.ckpt-3000\n",
            "INFO:tensorflow:Running local_init_op.\n",
            "INFO:tensorflow:Done running local_init_op.\n",
            "INFO:tensorflow:Saving checkpoints for 3000 into /tmp/tmp4q1z3h47/model.ckpt.\n",
            "INFO:tensorflow:loss = 61.191944, step = 3000\n",
            "INFO:tensorflow:global_step/sec: 356.12\n",
            "INFO:tensorflow:loss = 68.244446, step = 3100 (0.283 sec)\n",
            "INFO:tensorflow:global_step/sec: 444.541\n",
            "INFO:tensorflow:loss = 40.48622, step = 3200 (0.225 sec)\n",
            "INFO:tensorflow:global_step/sec: 421.104\n",
            "INFO:tensorflow:loss = 34.009422, step = 3300 (0.238 sec)\n",
            "INFO:tensorflow:global_step/sec: 426.605\n",
            "INFO:tensorflow:loss = 62.100616, step = 3400 (0.234 sec)\n",
            "INFO:tensorflow:global_step/sec: 413.388\n",
            "INFO:tensorflow:loss = 53.413445, step = 3500 (0.242 sec)\n",
            "INFO:tensorflow:global_step/sec: 427.918\n",
            "INFO:tensorflow:loss = 44.60627, step = 3600 (0.236 sec)\n",
            "INFO:tensorflow:global_step/sec: 438.985\n",
            "INFO:tensorflow:loss = 55.250816, step = 3700 (0.225 sec)\n",
            "INFO:tensorflow:global_step/sec: 436.88\n",
            "INFO:tensorflow:loss = 58.603825, step = 3800 (0.229 sec)\n",
            "INFO:tensorflow:global_step/sec: 443.621\n",
            "INFO:tensorflow:loss = 60.915817, step = 3900 (0.226 sec)\n",
            "INFO:tensorflow:Saving checkpoints for 4000 into /tmp/tmp4q1z3h47/model.ckpt.\n",
            "INFO:tensorflow:Loss for final step: 49.640297.\n",
            "----------------------------------------------------------------------------------------------------\n",
            "INFO:tensorflow:Calling model_fn.\n",
            "INFO:tensorflow:Done calling model_fn.\n",
            "INFO:tensorflow:Starting evaluation at 2018-08-12-22:17:50\n",
            "INFO:tensorflow:Graph was finalized.\n",
            "INFO:tensorflow:Restoring parameters from /tmp/tmp4q1z3h47/model.ckpt-4000\n",
            "INFO:tensorflow:Running local_init_op.\n",
            "INFO:tensorflow:Done running local_init_op.\n",
            "INFO:tensorflow:Evaluation [100/1000]\n",
            "INFO:tensorflow:Evaluation [200/1000]\n",
            "INFO:tensorflow:Evaluation [300/1000]\n",
            "INFO:tensorflow:Evaluation [400/1000]\n",
            "INFO:tensorflow:Evaluation [500/1000]\n",
            "INFO:tensorflow:Evaluation [600/1000]\n",
            "INFO:tensorflow:Evaluation [700/1000]\n",
            "INFO:tensorflow:Evaluation [800/1000]\n",
            "INFO:tensorflow:Evaluation [900/1000]\n",
            "INFO:tensorflow:Evaluation [1000/1000]\n",
            "INFO:tensorflow:Finished evaluation at 2018-08-12-22:17:53\n",
            "INFO:tensorflow:Saving dict for global step 4000: average_loss = 55.9547, global_step = 4000, label/mean = 7.5161743, loss = 55.9547, prediction/mean = 0.07217785\n",
            "INFO:tensorflow:Saving 'checkpoint_path' summary for global step 4000: /tmp/tmp4q1z3h47/model.ckpt-4000\n",
            "INFO:tensorflow:Calling model_fn.\n",
            "INFO:tensorflow:Done calling model_fn.\n",
            "INFO:tensorflow:Starting evaluation at 2018-08-12-22:17:53\n",
            "INFO:tensorflow:Graph was finalized.\n",
            "INFO:tensorflow:Restoring parameters from /tmp/tmp4q1z3h47/model.ckpt-4000\n",
            "INFO:tensorflow:Running local_init_op.\n",
            "INFO:tensorflow:Done running local_init_op.\n",
            "INFO:tensorflow:Evaluation [100/1000]\n",
            "INFO:tensorflow:Evaluation [200/1000]\n",
            "INFO:tensorflow:Evaluation [300/1000]\n",
            "INFO:tensorflow:Evaluation [400/1000]\n",
            "INFO:tensorflow:Evaluation [500/1000]\n",
            "INFO:tensorflow:Evaluation [600/1000]\n",
            "INFO:tensorflow:Evaluation [700/1000]\n",
            "INFO:tensorflow:Evaluation [800/1000]\n",
            "INFO:tensorflow:Evaluation [900/1000]\n",
            "INFO:tensorflow:Evaluation [1000/1000]\n",
            "INFO:tensorflow:Finished evaluation at 2018-08-12-22:17:56\n",
            "INFO:tensorflow:Saving dict for global step 4000: average_loss = 56.251404, global_step = 4000, label/mean = 7.533653, loss = 56.251404, prediction/mean = 0.07197708\n",
            "INFO:tensorflow:Saving 'checkpoint_path' summary for global step 4000: /tmp/tmp4q1z3h47/model.ckpt-4000\n",
            "----------------------------------------------------------------------------------------------------\n",
            "****************************************************************************************************\n",
            "*Period[rmse training] 03 : 7.48\n",
            "*Period[rmse eval] 03 : 7.50\n",
            "****************************************************************************************************\n",
            "INFO:tensorflow:Calling model_fn.\n",
            "INFO:tensorflow:Done calling model_fn.\n",
            "INFO:tensorflow:Create CheckpointSaverHook.\n",
            "INFO:tensorflow:Graph was finalized.\n",
            "INFO:tensorflow:Restoring parameters from /tmp/tmp4q1z3h47/model.ckpt-4000\n",
            "INFO:tensorflow:Running local_init_op.\n",
            "INFO:tensorflow:Done running local_init_op.\n",
            "INFO:tensorflow:Saving checkpoints for 4000 into /tmp/tmp4q1z3h47/model.ckpt.\n",
            "INFO:tensorflow:loss = 59.272514, step = 4000\n",
            "INFO:tensorflow:global_step/sec: 357.366\n",
            "INFO:tensorflow:loss = 53.983364, step = 4100 (0.284 sec)\n",
            "INFO:tensorflow:global_step/sec: 383.387\n",
            "INFO:tensorflow:loss = 33.011127, step = 4200 (0.262 sec)\n",
            "INFO:tensorflow:global_step/sec: 445.978\n",
            "INFO:tensorflow:loss = 63.390625, step = 4300 (0.221 sec)\n",
            "INFO:tensorflow:global_step/sec: 407.252\n",
            "INFO:tensorflow:loss = 53.149445, step = 4400 (0.249 sec)\n",
            "INFO:tensorflow:global_step/sec: 429.82\n",
            "INFO:tensorflow:loss = 51.98137, step = 4500 (0.232 sec)\n",
            "INFO:tensorflow:global_step/sec: 421.986\n",
            "INFO:tensorflow:loss = 42.66635, step = 4600 (0.238 sec)\n",
            "INFO:tensorflow:global_step/sec: 384.817\n",
            "INFO:tensorflow:loss = 39.66522, step = 4700 (0.256 sec)\n",
            "INFO:tensorflow:global_step/sec: 433.911\n",
            "INFO:tensorflow:loss = 51.917774, step = 4800 (0.232 sec)\n",
            "INFO:tensorflow:global_step/sec: 433.154\n",
            "INFO:tensorflow:loss = 55.787, step = 4900 (0.229 sec)\n",
            "INFO:tensorflow:Saving checkpoints for 5000 into /tmp/tmp4q1z3h47/model.ckpt.\n",
            "INFO:tensorflow:Loss for final step: 53.83552.\n",
            "----------------------------------------------------------------------------------------------------\n",
            "INFO:tensorflow:Calling model_fn.\n",
            "INFO:tensorflow:Done calling model_fn.\n",
            "INFO:tensorflow:Starting evaluation at 2018-08-12-22:18:00\n",
            "INFO:tensorflow:Graph was finalized.\n",
            "INFO:tensorflow:Restoring parameters from /tmp/tmp4q1z3h47/model.ckpt-5000\n",
            "INFO:tensorflow:Running local_init_op.\n",
            "INFO:tensorflow:Done running local_init_op.\n",
            "INFO:tensorflow:Evaluation [100/1000]\n",
            "INFO:tensorflow:Evaluation [200/1000]\n",
            "INFO:tensorflow:Evaluation [300/1000]\n",
            "INFO:tensorflow:Evaluation [400/1000]\n",
            "INFO:tensorflow:Evaluation [500/1000]\n",
            "INFO:tensorflow:Evaluation [600/1000]\n",
            "INFO:tensorflow:Evaluation [700/1000]\n",
            "INFO:tensorflow:Evaluation [800/1000]\n",
            "INFO:tensorflow:Evaluation [900/1000]\n",
            "INFO:tensorflow:Evaluation [1000/1000]\n",
            "INFO:tensorflow:Finished evaluation at 2018-08-12-22:18:02\n",
            "INFO:tensorflow:Saving dict for global step 5000: average_loss = 55.686314, global_step = 5000, label/mean = 7.5161743, loss = 55.686314, prediction/mean = 0.090222694\n",
            "INFO:tensorflow:Saving 'checkpoint_path' summary for global step 5000: /tmp/tmp4q1z3h47/model.ckpt-5000\n",
            "INFO:tensorflow:Calling model_fn.\n",
            "INFO:tensorflow:Done calling model_fn.\n",
            "INFO:tensorflow:Starting evaluation at 2018-08-12-22:18:03\n",
            "INFO:tensorflow:Graph was finalized.\n",
            "INFO:tensorflow:Restoring parameters from /tmp/tmp4q1z3h47/model.ckpt-5000\n",
            "INFO:tensorflow:Running local_init_op.\n",
            "INFO:tensorflow:Done running local_init_op.\n",
            "INFO:tensorflow:Evaluation [100/1000]\n",
            "INFO:tensorflow:Evaluation [200/1000]\n",
            "INFO:tensorflow:Evaluation [300/1000]\n",
            "INFO:tensorflow:Evaluation [400/1000]\n",
            "INFO:tensorflow:Evaluation [500/1000]\n",
            "INFO:tensorflow:Evaluation [600/1000]\n",
            "INFO:tensorflow:Evaluation [700/1000]\n",
            "INFO:tensorflow:Evaluation [800/1000]\n",
            "INFO:tensorflow:Evaluation [900/1000]\n",
            "INFO:tensorflow:Evaluation [1000/1000]\n",
            "INFO:tensorflow:Finished evaluation at 2018-08-12-22:18:05\n",
            "INFO:tensorflow:Saving dict for global step 5000: average_loss = 55.98376, global_step = 5000, label/mean = 7.533653, loss = 55.98376, prediction/mean = 0.08997176\n",
            "INFO:tensorflow:Saving 'checkpoint_path' summary for global step 5000: /tmp/tmp4q1z3h47/model.ckpt-5000\n",
            "----------------------------------------------------------------------------------------------------\n",
            "****************************************************************************************************\n",
            "*Period[rmse training] 04 : 7.46\n",
            "*Period[rmse eval] 04 : 7.48\n",
            "****************************************************************************************************\n",
            "INFO:tensorflow:Calling model_fn.\n",
            "INFO:tensorflow:Done calling model_fn.\n",
            "INFO:tensorflow:Create CheckpointSaverHook.\n",
            "INFO:tensorflow:Graph was finalized.\n",
            "INFO:tensorflow:Restoring parameters from /tmp/tmp4q1z3h47/model.ckpt-5000\n",
            "INFO:tensorflow:Running local_init_op.\n",
            "INFO:tensorflow:Done running local_init_op.\n",
            "INFO:tensorflow:Saving checkpoints for 5000 into /tmp/tmp4q1z3h47/model.ckpt.\n",
            "INFO:tensorflow:loss = 38.73969, step = 5000\n",
            "INFO:tensorflow:global_step/sec: 356.741\n",
            "INFO:tensorflow:loss = 60.85985, step = 5100 (0.286 sec)\n",
            "INFO:tensorflow:global_step/sec: 422.914\n",
            "INFO:tensorflow:loss = 52.033047, step = 5200 (0.236 sec)\n",
            "INFO:tensorflow:global_step/sec: 424.403\n",
            "INFO:tensorflow:loss = 52.31198, step = 5300 (0.236 sec)\n",
            "INFO:tensorflow:global_step/sec: 397.668\n",
            "INFO:tensorflow:loss = 56.533066, step = 5400 (0.251 sec)\n",
            "INFO:tensorflow:global_step/sec: 421.368\n",
            "INFO:tensorflow:loss = 54.49703, step = 5500 (0.239 sec)\n",
            "INFO:tensorflow:global_step/sec: 440.218\n",
            "INFO:tensorflow:loss = 51.463097, step = 5600 (0.226 sec)\n",
            "INFO:tensorflow:global_step/sec: 433.592\n",
            "INFO:tensorflow:loss = 41.360584, step = 5700 (0.228 sec)\n",
            "INFO:tensorflow:global_step/sec: 431.285\n",
            "INFO:tensorflow:loss = 67.971535, step = 5800 (0.232 sec)\n",
            "INFO:tensorflow:global_step/sec: 420.715\n",
            "INFO:tensorflow:loss = 59.94179, step = 5900 (0.244 sec)\n",
            "INFO:tensorflow:Saving checkpoints for 6000 into /tmp/tmp4q1z3h47/model.ckpt.\n",
            "INFO:tensorflow:Loss for final step: 49.228977.\n",
            "----------------------------------------------------------------------------------------------------\n",
            "INFO:tensorflow:Calling model_fn.\n",
            "INFO:tensorflow:Done calling model_fn.\n",
            "INFO:tensorflow:Starting evaluation at 2018-08-12-22:18:09\n",
            "INFO:tensorflow:Graph was finalized.\n",
            "INFO:tensorflow:Restoring parameters from /tmp/tmp4q1z3h47/model.ckpt-6000\n",
            "INFO:tensorflow:Running local_init_op.\n",
            "INFO:tensorflow:Done running local_init_op.\n",
            "INFO:tensorflow:Evaluation [100/1000]\n",
            "INFO:tensorflow:Evaluation [200/1000]\n",
            "INFO:tensorflow:Evaluation [300/1000]\n",
            "INFO:tensorflow:Evaluation [400/1000]\n",
            "INFO:tensorflow:Evaluation [500/1000]\n",
            "INFO:tensorflow:Evaluation [600/1000]\n",
            "INFO:tensorflow:Evaluation [700/1000]\n",
            "INFO:tensorflow:Evaluation [800/1000]\n",
            "INFO:tensorflow:Evaluation [900/1000]\n",
            "INFO:tensorflow:Evaluation [1000/1000]\n",
            "INFO:tensorflow:Finished evaluation at 2018-08-12-22:18:12\n",
            "INFO:tensorflow:Saving dict for global step 6000: average_loss = 55.418594, global_step = 6000, label/mean = 7.5161743, loss = 55.418594, prediction/mean = 0.108265616\n",
            "INFO:tensorflow:Saving 'checkpoint_path' summary for global step 6000: /tmp/tmp4q1z3h47/model.ckpt-6000\n",
            "INFO:tensorflow:Calling model_fn.\n",
            "INFO:tensorflow:Done calling model_fn.\n",
            "INFO:tensorflow:Starting evaluation at 2018-08-12-22:18:12\n",
            "INFO:tensorflow:Graph was finalized.\n",
            "INFO:tensorflow:Restoring parameters from /tmp/tmp4q1z3h47/model.ckpt-6000\n",
            "INFO:tensorflow:Running local_init_op.\n",
            "INFO:tensorflow:Done running local_init_op.\n",
            "INFO:tensorflow:Evaluation [100/1000]\n",
            "INFO:tensorflow:Evaluation [200/1000]\n",
            "INFO:tensorflow:Evaluation [300/1000]\n",
            "INFO:tensorflow:Evaluation [400/1000]\n",
            "INFO:tensorflow:Evaluation [500/1000]\n",
            "INFO:tensorflow:Evaluation [600/1000]\n",
            "INFO:tensorflow:Evaluation [700/1000]\n",
            "INFO:tensorflow:Evaluation [800/1000]\n",
            "INFO:tensorflow:Evaluation [900/1000]\n",
            "INFO:tensorflow:Evaluation [1000/1000]\n",
            "INFO:tensorflow:Finished evaluation at 2018-08-12-22:18:15\n",
            "INFO:tensorflow:Saving dict for global step 6000: average_loss = 55.716835, global_step = 6000, label/mean = 7.533653, loss = 55.716835, prediction/mean = 0.10796454\n",
            "INFO:tensorflow:Saving 'checkpoint_path' summary for global step 6000: /tmp/tmp4q1z3h47/model.ckpt-6000\n",
            "----------------------------------------------------------------------------------------------------\n",
            "****************************************************************************************************\n",
            "*Period[rmse training] 05 : 7.44\n",
            "*Period[rmse eval] 05 : 7.46\n",
            "****************************************************************************************************\n",
            "INFO:tensorflow:Calling model_fn.\n",
            "INFO:tensorflow:Done calling model_fn.\n",
            "INFO:tensorflow:Create CheckpointSaverHook.\n",
            "INFO:tensorflow:Graph was finalized.\n",
            "INFO:tensorflow:Restoring parameters from /tmp/tmp4q1z3h47/model.ckpt-6000\n",
            "INFO:tensorflow:Running local_init_op.\n",
            "INFO:tensorflow:Done running local_init_op.\n",
            "INFO:tensorflow:Saving checkpoints for 6000 into /tmp/tmp4q1z3h47/model.ckpt.\n",
            "INFO:tensorflow:loss = 32.68287, step = 6000\n",
            "INFO:tensorflow:global_step/sec: 372.367\n",
            "INFO:tensorflow:loss = 64.125946, step = 6100 (0.271 sec)\n",
            "INFO:tensorflow:global_step/sec: 372.359\n",
            "INFO:tensorflow:loss = 85.25056, step = 6200 (0.271 sec)\n",
            "INFO:tensorflow:global_step/sec: 425.451\n",
            "INFO:tensorflow:loss = 60.02145, step = 6300 (0.233 sec)\n",
            "INFO:tensorflow:global_step/sec: 421.346\n",
            "INFO:tensorflow:loss = 68.33691, step = 6400 (0.237 sec)\n",
            "INFO:tensorflow:global_step/sec: 427.296\n",
            "INFO:tensorflow:loss = 40.247894, step = 6500 (0.237 sec)\n",
            "INFO:tensorflow:global_step/sec: 425.003\n",
            "INFO:tensorflow:loss = 35.690945, step = 6600 (0.232 sec)\n",
            "INFO:tensorflow:global_step/sec: 392.209\n",
            "INFO:tensorflow:loss = 60.924236, step = 6700 (0.258 sec)\n",
            "INFO:tensorflow:global_step/sec: 422.753\n",
            "INFO:tensorflow:loss = 53.73211, step = 6800 (0.237 sec)\n",
            "INFO:tensorflow:global_step/sec: 417.492\n",
            "INFO:tensorflow:loss = 60.85288, step = 6900 (0.239 sec)\n",
            "INFO:tensorflow:Saving checkpoints for 7000 into /tmp/tmp4q1z3h47/model.ckpt.\n",
            "INFO:tensorflow:Loss for final step: 71.35612.\n",
            "----------------------------------------------------------------------------------------------------\n",
            "INFO:tensorflow:Calling model_fn.\n",
            "INFO:tensorflow:Done calling model_fn.\n",
            "INFO:tensorflow:Starting evaluation at 2018-08-12-22:18:19\n",
            "INFO:tensorflow:Graph was finalized.\n",
            "INFO:tensorflow:Restoring parameters from /tmp/tmp4q1z3h47/model.ckpt-7000\n",
            "INFO:tensorflow:Running local_init_op.\n",
            "INFO:tensorflow:Done running local_init_op.\n",
            "INFO:tensorflow:Evaluation [100/1000]\n",
            "INFO:tensorflow:Evaluation [200/1000]\n",
            "INFO:tensorflow:Evaluation [300/1000]\n",
            "INFO:tensorflow:Evaluation [400/1000]\n",
            "INFO:tensorflow:Evaluation [500/1000]\n",
            "INFO:tensorflow:Evaluation [600/1000]\n",
            "INFO:tensorflow:Evaluation [700/1000]\n",
            "INFO:tensorflow:Evaluation [800/1000]\n",
            "INFO:tensorflow:Evaluation [900/1000]\n",
            "INFO:tensorflow:Evaluation [1000/1000]\n",
            "INFO:tensorflow:Finished evaluation at 2018-08-12-22:18:21\n",
            "INFO:tensorflow:Saving dict for global step 7000: average_loss = 55.151497, global_step = 7000, label/mean = 7.5161743, loss = 55.151497, prediction/mean = 0.12631133\n",
            "INFO:tensorflow:Saving 'checkpoint_path' summary for global step 7000: /tmp/tmp4q1z3h47/model.ckpt-7000\n",
            "INFO:tensorflow:Calling model_fn.\n",
            "INFO:tensorflow:Done calling model_fn.\n",
            "INFO:tensorflow:Starting evaluation at 2018-08-12-22:18:22\n",
            "INFO:tensorflow:Graph was finalized.\n",
            "INFO:tensorflow:Restoring parameters from /tmp/tmp4q1z3h47/model.ckpt-7000\n",
            "INFO:tensorflow:Running local_init_op.\n",
            "INFO:tensorflow:Done running local_init_op.\n",
            "INFO:tensorflow:Evaluation [100/1000]\n",
            "INFO:tensorflow:Evaluation [200/1000]\n",
            "INFO:tensorflow:Evaluation [300/1000]\n",
            "INFO:tensorflow:Evaluation [400/1000]\n",
            "INFO:tensorflow:Evaluation [500/1000]\n",
            "INFO:tensorflow:Evaluation [600/1000]\n",
            "INFO:tensorflow:Evaluation [700/1000]\n",
            "INFO:tensorflow:Evaluation [800/1000]\n",
            "INFO:tensorflow:Evaluation [900/1000]\n",
            "INFO:tensorflow:Evaluation [1000/1000]\n",
            "INFO:tensorflow:Finished evaluation at 2018-08-12-22:18:24\n",
            "INFO:tensorflow:Saving dict for global step 7000: average_loss = 55.450573, global_step = 7000, label/mean = 7.533653, loss = 55.450573, prediction/mean = 0.12596004\n",
            "INFO:tensorflow:Saving 'checkpoint_path' summary for global step 7000: /tmp/tmp4q1z3h47/model.ckpt-7000\n",
            "----------------------------------------------------------------------------------------------------\n",
            "****************************************************************************************************\n",
            "*Period[rmse training] 06 : 7.43\n",
            "*Period[rmse eval] 06 : 7.45\n",
            "****************************************************************************************************\n",
            "INFO:tensorflow:Calling model_fn.\n",
            "INFO:tensorflow:Done calling model_fn.\n",
            "INFO:tensorflow:Create CheckpointSaverHook.\n",
            "INFO:tensorflow:Graph was finalized.\n",
            "INFO:tensorflow:Restoring parameters from /tmp/tmp4q1z3h47/model.ckpt-7000\n",
            "INFO:tensorflow:Running local_init_op.\n",
            "INFO:tensorflow:Done running local_init_op.\n",
            "INFO:tensorflow:Saving checkpoints for 7000 into /tmp/tmp4q1z3h47/model.ckpt.\n",
            "INFO:tensorflow:loss = 51.28155, step = 7000\n",
            "INFO:tensorflow:global_step/sec: 377.7\n",
            "INFO:tensorflow:loss = 59.66831, step = 7100 (0.268 sec)\n",
            "INFO:tensorflow:global_step/sec: 436.824\n",
            "INFO:tensorflow:loss = 65.251175, step = 7200 (0.229 sec)\n",
            "INFO:tensorflow:global_step/sec: 448.413\n",
            "INFO:tensorflow:loss = 59.245064, step = 7300 (0.222 sec)\n",
            "INFO:tensorflow:global_step/sec: 442.12\n",
            "INFO:tensorflow:loss = 55.52085, step = 7400 (0.226 sec)\n",
            "INFO:tensorflow:global_step/sec: 384.252\n",
            "INFO:tensorflow:loss = 59.118298, step = 7500 (0.260 sec)\n",
            "INFO:tensorflow:global_step/sec: 430.09\n",
            "INFO:tensorflow:loss = 40.071774, step = 7600 (0.232 sec)\n",
            "INFO:tensorflow:global_step/sec: 444.816\n",
            "INFO:tensorflow:loss = 58.381584, step = 7700 (0.227 sec)\n",
            "INFO:tensorflow:global_step/sec: 432.561\n",
            "INFO:tensorflow:loss = 32.224583, step = 7800 (0.232 sec)\n",
            "INFO:tensorflow:global_step/sec: 433.34\n",
            "INFO:tensorflow:loss = 64.80795, step = 7900 (0.228 sec)\n",
            "INFO:tensorflow:Saving checkpoints for 8000 into /tmp/tmp4q1z3h47/model.ckpt.\n",
            "INFO:tensorflow:Loss for final step: 43.523872.\n",
            "----------------------------------------------------------------------------------------------------\n",
            "INFO:tensorflow:Calling model_fn.\n",
            "INFO:tensorflow:Done calling model_fn.\n",
            "INFO:tensorflow:Starting evaluation at 2018-08-12-22:18:28\n",
            "INFO:tensorflow:Graph was finalized.\n",
            "INFO:tensorflow:Restoring parameters from /tmp/tmp4q1z3h47/model.ckpt-8000\n",
            "INFO:tensorflow:Running local_init_op.\n",
            "INFO:tensorflow:Done running local_init_op.\n",
            "INFO:tensorflow:Evaluation [100/1000]\n",
            "INFO:tensorflow:Evaluation [200/1000]\n",
            "INFO:tensorflow:Evaluation [300/1000]\n",
            "INFO:tensorflow:Evaluation [400/1000]\n",
            "INFO:tensorflow:Evaluation [500/1000]\n",
            "INFO:tensorflow:Evaluation [600/1000]\n",
            "INFO:tensorflow:Evaluation [700/1000]\n",
            "INFO:tensorflow:Evaluation [800/1000]\n",
            "INFO:tensorflow:Evaluation [900/1000]\n",
            "INFO:tensorflow:Evaluation [1000/1000]\n",
            "INFO:tensorflow:Finished evaluation at 2018-08-12-22:18:30\n",
            "INFO:tensorflow:Saving dict for global step 8000: average_loss = 54.885113, global_step = 8000, label/mean = 7.5161743, loss = 54.885113, prediction/mean = 0.14435412\n",
            "INFO:tensorflow:Saving 'checkpoint_path' summary for global step 8000: /tmp/tmp4q1z3h47/model.ckpt-8000\n",
            "INFO:tensorflow:Calling model_fn.\n",
            "INFO:tensorflow:Done calling model_fn.\n",
            "INFO:tensorflow:Starting evaluation at 2018-08-12-22:18:31\n",
            "INFO:tensorflow:Graph was finalized.\n",
            "INFO:tensorflow:Restoring parameters from /tmp/tmp4q1z3h47/model.ckpt-8000\n",
            "INFO:tensorflow:Running local_init_op.\n",
            "INFO:tensorflow:Done running local_init_op.\n",
            "INFO:tensorflow:Evaluation [100/1000]\n",
            "INFO:tensorflow:Evaluation [200/1000]\n",
            "INFO:tensorflow:Evaluation [300/1000]\n",
            "INFO:tensorflow:Evaluation [400/1000]\n",
            "INFO:tensorflow:Evaluation [500/1000]\n",
            "INFO:tensorflow:Evaluation [600/1000]\n",
            "INFO:tensorflow:Evaluation [700/1000]\n",
            "INFO:tensorflow:Evaluation [800/1000]\n",
            "INFO:tensorflow:Evaluation [900/1000]\n",
            "INFO:tensorflow:Evaluation [1000/1000]\n",
            "INFO:tensorflow:Finished evaluation at 2018-08-12-22:18:33\n",
            "INFO:tensorflow:Saving dict for global step 8000: average_loss = 55.184975, global_step = 8000, label/mean = 7.533653, loss = 55.184975, prediction/mean = 0.14395274\n",
            "INFO:tensorflow:Saving 'checkpoint_path' summary for global step 8000: /tmp/tmp4q1z3h47/model.ckpt-8000\n",
            "----------------------------------------------------------------------------------------------------\n",
            "****************************************************************************************************\n",
            "*Period[rmse training] 07 : 7.41\n",
            "*Period[rmse eval] 07 : 7.43\n",
            "****************************************************************************************************\n",
            "INFO:tensorflow:Calling model_fn.\n",
            "INFO:tensorflow:Done calling model_fn.\n",
            "INFO:tensorflow:Create CheckpointSaverHook.\n",
            "INFO:tensorflow:Graph was finalized.\n",
            "INFO:tensorflow:Restoring parameters from /tmp/tmp4q1z3h47/model.ckpt-8000\n",
            "INFO:tensorflow:Running local_init_op.\n",
            "INFO:tensorflow:Done running local_init_op.\n",
            "INFO:tensorflow:Saving checkpoints for 8000 into /tmp/tmp4q1z3h47/model.ckpt.\n",
            "INFO:tensorflow:loss = 41.518772, step = 8000\n",
            "INFO:tensorflow:global_step/sec: 361.291\n",
            "INFO:tensorflow:loss = 45.616905, step = 8100 (0.278 sec)\n",
            "INFO:tensorflow:global_step/sec: 432.264\n",
            "INFO:tensorflow:loss = 70.93463, step = 8200 (0.235 sec)\n",
            "INFO:tensorflow:global_step/sec: 403.718\n",
            "INFO:tensorflow:loss = 59.058754, step = 8300 (0.247 sec)\n",
            "INFO:tensorflow:global_step/sec: 439.041\n",
            "INFO:tensorflow:loss = 36.544544, step = 8400 (0.226 sec)\n",
            "INFO:tensorflow:global_step/sec: 427.733\n",
            "INFO:tensorflow:loss = 43.889507, step = 8500 (0.235 sec)\n",
            "INFO:tensorflow:global_step/sec: 424.939\n",
            "INFO:tensorflow:loss = 56.406822, step = 8600 (0.236 sec)\n",
            "INFO:tensorflow:global_step/sec: 422.931\n",
            "INFO:tensorflow:loss = 46.99058, step = 8700 (0.234 sec)\n",
            "INFO:tensorflow:global_step/sec: 396.124\n",
            "INFO:tensorflow:loss = 52.746334, step = 8800 (0.254 sec)\n",
            "INFO:tensorflow:global_step/sec: 431.842\n",
            "INFO:tensorflow:loss = 76.77284, step = 8900 (0.229 sec)\n",
            "INFO:tensorflow:Saving checkpoints for 9000 into /tmp/tmp4q1z3h47/model.ckpt.\n",
            "INFO:tensorflow:Loss for final step: 66.84652.\n",
            "----------------------------------------------------------------------------------------------------\n",
            "INFO:tensorflow:Calling model_fn.\n",
            "INFO:tensorflow:Done calling model_fn.\n",
            "INFO:tensorflow:Starting evaluation at 2018-08-12-22:18:38\n",
            "INFO:tensorflow:Graph was finalized.\n",
            "INFO:tensorflow:Restoring parameters from /tmp/tmp4q1z3h47/model.ckpt-9000\n",
            "INFO:tensorflow:Running local_init_op.\n",
            "INFO:tensorflow:Done running local_init_op.\n",
            "INFO:tensorflow:Evaluation [100/1000]\n",
            "INFO:tensorflow:Evaluation [200/1000]\n",
            "INFO:tensorflow:Evaluation [300/1000]\n",
            "INFO:tensorflow:Evaluation [400/1000]\n",
            "INFO:tensorflow:Evaluation [500/1000]\n",
            "INFO:tensorflow:Evaluation [600/1000]\n",
            "INFO:tensorflow:Evaluation [700/1000]\n",
            "INFO:tensorflow:Evaluation [800/1000]\n",
            "INFO:tensorflow:Evaluation [900/1000]\n",
            "INFO:tensorflow:Evaluation [1000/1000]\n",
            "INFO:tensorflow:Finished evaluation at 2018-08-12-22:18:40\n",
            "INFO:tensorflow:Saving dict for global step 9000: average_loss = 54.61939, global_step = 9000, label/mean = 7.5161743, loss = 54.61939, prediction/mean = 0.16239758\n",
            "INFO:tensorflow:Saving 'checkpoint_path' summary for global step 9000: /tmp/tmp4q1z3h47/model.ckpt-9000\n",
            "INFO:tensorflow:Calling model_fn.\n",
            "INFO:tensorflow:Done calling model_fn.\n",
            "INFO:tensorflow:Starting evaluation at 2018-08-12-22:18:41\n",
            "INFO:tensorflow:Graph was finalized.\n",
            "INFO:tensorflow:Restoring parameters from /tmp/tmp4q1z3h47/model.ckpt-9000\n",
            "INFO:tensorflow:Running local_init_op.\n",
            "INFO:tensorflow:Done running local_init_op.\n",
            "INFO:tensorflow:Evaluation [100/1000]\n",
            "INFO:tensorflow:Evaluation [200/1000]\n",
            "INFO:tensorflow:Evaluation [300/1000]\n",
            "INFO:tensorflow:Evaluation [400/1000]\n",
            "INFO:tensorflow:Evaluation [500/1000]\n",
            "INFO:tensorflow:Evaluation [600/1000]\n",
            "INFO:tensorflow:Evaluation [700/1000]\n",
            "INFO:tensorflow:Evaluation [800/1000]\n",
            "INFO:tensorflow:Evaluation [900/1000]\n",
            "INFO:tensorflow:Evaluation [1000/1000]\n",
            "INFO:tensorflow:Finished evaluation at 2018-08-12-22:18:43\n",
            "INFO:tensorflow:Saving dict for global step 9000: average_loss = 54.920017, global_step = 9000, label/mean = 7.533653, loss = 54.920017, prediction/mean = 0.16194594\n",
            "INFO:tensorflow:Saving 'checkpoint_path' summary for global step 9000: /tmp/tmp4q1z3h47/model.ckpt-9000\n",
            "----------------------------------------------------------------------------------------------------\n",
            "****************************************************************************************************\n",
            "*Period[rmse training] 08 : 7.39\n",
            "*Period[rmse eval] 08 : 7.41\n",
            "****************************************************************************************************\n",
            "INFO:tensorflow:Calling model_fn.\n",
            "INFO:tensorflow:Done calling model_fn.\n",
            "INFO:tensorflow:Create CheckpointSaverHook.\n",
            "INFO:tensorflow:Graph was finalized.\n",
            "INFO:tensorflow:Restoring parameters from /tmp/tmp4q1z3h47/model.ckpt-9000\n",
            "INFO:tensorflow:Running local_init_op.\n",
            "INFO:tensorflow:Done running local_init_op.\n",
            "INFO:tensorflow:Saving checkpoints for 9000 into /tmp/tmp4q1z3h47/model.ckpt.\n",
            "INFO:tensorflow:loss = 56.628094, step = 9000\n",
            "INFO:tensorflow:global_step/sec: 369.659\n",
            "INFO:tensorflow:loss = 34.27006, step = 9100 (0.274 sec)\n",
            "INFO:tensorflow:global_step/sec: 439.612\n",
            "INFO:tensorflow:loss = 61.056644, step = 9200 (0.228 sec)\n",
            "INFO:tensorflow:global_step/sec: 449.501\n",
            "INFO:tensorflow:loss = 62.8403, step = 9300 (0.223 sec)\n",
            "INFO:tensorflow:global_step/sec: 421.72\n",
            "INFO:tensorflow:loss = 70.62041, step = 9400 (0.236 sec)\n",
            "INFO:tensorflow:global_step/sec: 460.088\n",
            "INFO:tensorflow:loss = 46.46848, step = 9500 (0.218 sec)\n",
            "INFO:tensorflow:global_step/sec: 451.104\n",
            "INFO:tensorflow:loss = 64.77711, step = 9600 (0.218 sec)\n",
            "INFO:tensorflow:global_step/sec: 457.248\n",
            "INFO:tensorflow:loss = 56.313732, step = 9700 (0.219 sec)\n",
            "INFO:tensorflow:global_step/sec: 445.514\n",
            "INFO:tensorflow:loss = 59.61698, step = 9800 (0.228 sec)\n",
            "INFO:tensorflow:global_step/sec: 418.684\n",
            "INFO:tensorflow:loss = 38.013905, step = 9900 (0.238 sec)\n",
            "INFO:tensorflow:Saving checkpoints for 10000 into /tmp/tmp4q1z3h47/model.ckpt.\n",
            "INFO:tensorflow:Loss for final step: 40.790382.\n",
            "----------------------------------------------------------------------------------------------------\n",
            "INFO:tensorflow:Calling model_fn.\n",
            "INFO:tensorflow:Done calling model_fn.\n",
            "INFO:tensorflow:Starting evaluation at 2018-08-12-22:18:47\n",
            "INFO:tensorflow:Graph was finalized.\n",
            "INFO:tensorflow:Restoring parameters from /tmp/tmp4q1z3h47/model.ckpt-10000\n",
            "INFO:tensorflow:Running local_init_op.\n",
            "INFO:tensorflow:Done running local_init_op.\n",
            "INFO:tensorflow:Evaluation [100/1000]\n",
            "INFO:tensorflow:Evaluation [200/1000]\n",
            "INFO:tensorflow:Evaluation [300/1000]\n",
            "INFO:tensorflow:Evaluation [400/1000]\n",
            "INFO:tensorflow:Evaluation [500/1000]\n",
            "INFO:tensorflow:Evaluation [600/1000]\n",
            "INFO:tensorflow:Evaluation [700/1000]\n",
            "INFO:tensorflow:Evaluation [800/1000]\n",
            "INFO:tensorflow:Evaluation [900/1000]\n",
            "INFO:tensorflow:Evaluation [1000/1000]\n",
            "INFO:tensorflow:Finished evaluation at 2018-08-12-22:18:49\n",
            "INFO:tensorflow:Saving dict for global step 10000: average_loss = 54.35428, global_step = 10000, label/mean = 7.5161743, loss = 54.35428, prediction/mean = 0.18044285\n",
            "INFO:tensorflow:Saving 'checkpoint_path' summary for global step 10000: /tmp/tmp4q1z3h47/model.ckpt-10000\n",
            "INFO:tensorflow:Calling model_fn.\n",
            "INFO:tensorflow:Done calling model_fn.\n",
            "INFO:tensorflow:Starting evaluation at 2018-08-12-22:18:50\n",
            "INFO:tensorflow:Graph was finalized.\n",
            "INFO:tensorflow:Restoring parameters from /tmp/tmp4q1z3h47/model.ckpt-10000\n",
            "INFO:tensorflow:Running local_init_op.\n",
            "INFO:tensorflow:Done running local_init_op.\n",
            "INFO:tensorflow:Evaluation [100/1000]\n",
            "INFO:tensorflow:Evaluation [200/1000]\n",
            "INFO:tensorflow:Evaluation [300/1000]\n",
            "INFO:tensorflow:Evaluation [400/1000]\n",
            "INFO:tensorflow:Evaluation [500/1000]\n",
            "INFO:tensorflow:Evaluation [600/1000]\n",
            "INFO:tensorflow:Evaluation [700/1000]\n",
            "INFO:tensorflow:Evaluation [800/1000]\n",
            "INFO:tensorflow:Evaluation [900/1000]\n",
            "INFO:tensorflow:Evaluation [1000/1000]\n",
            "INFO:tensorflow:Finished evaluation at 2018-08-12-22:18:52\n",
            "INFO:tensorflow:Saving dict for global step 10000: average_loss = 54.6557, global_step = 10000, label/mean = 7.533653, loss = 54.6557, prediction/mean = 0.17994104\n",
            "INFO:tensorflow:Saving 'checkpoint_path' summary for global step 10000: /tmp/tmp4q1z3h47/model.ckpt-10000\n",
            "----------------------------------------------------------------------------------------------------\n",
            "****************************************************************************************************\n",
            "*Period[rmse training] 09 : 7.37\n",
            "*Period[rmse eval] 09 : 7.39\n",
            "****************************************************************************************************\n",
            "INFO:tensorflow:Calling model_fn.\n",
            "INFO:tensorflow:Done calling model_fn.\n",
            "INFO:tensorflow:Create CheckpointSaverHook.\n",
            "INFO:tensorflow:Graph was finalized.\n",
            "INFO:tensorflow:Restoring parameters from /tmp/tmp4q1z3h47/model.ckpt-10000\n",
            "INFO:tensorflow:Running local_init_op.\n",
            "INFO:tensorflow:Done running local_init_op.\n",
            "INFO:tensorflow:Saving checkpoints for 10000 into /tmp/tmp4q1z3h47/model.ckpt.\n",
            "INFO:tensorflow:loss = 55.262703, step = 10000\n",
            "INFO:tensorflow:global_step/sec: 351.115\n",
            "INFO:tensorflow:loss = 49.53362, step = 10100 (0.289 sec)\n",
            "INFO:tensorflow:global_step/sec: 393.914\n",
            "INFO:tensorflow:loss = 46.97018, step = 10200 (0.254 sec)\n",
            "INFO:tensorflow:global_step/sec: 433.22\n",
            "INFO:tensorflow:loss = 42.168827, step = 10300 (0.230 sec)\n",
            "INFO:tensorflow:global_step/sec: 433.558\n",
            "INFO:tensorflow:loss = 44.29704, step = 10400 (0.230 sec)\n",
            "INFO:tensorflow:global_step/sec: 436.455\n",
            "INFO:tensorflow:loss = 51.32469, step = 10500 (0.232 sec)\n",
            "INFO:tensorflow:global_step/sec: 438.328\n",
            "INFO:tensorflow:loss = 55.113777, step = 10600 (0.229 sec)\n",
            "INFO:tensorflow:global_step/sec: 394.309\n",
            "INFO:tensorflow:loss = 52.189297, step = 10700 (0.251 sec)\n",
            "INFO:tensorflow:global_step/sec: 431.022\n",
            "INFO:tensorflow:loss = 63.575466, step = 10800 (0.234 sec)\n",
            "INFO:tensorflow:global_step/sec: 423.422\n",
            "INFO:tensorflow:loss = 55.032253, step = 10900 (0.235 sec)\n",
            "INFO:tensorflow:Saving checkpoints for 11000 into /tmp/tmp4q1z3h47/model.ckpt.\n",
            "INFO:tensorflow:Loss for final step: 43.224144.\n",
            "----------------------------------------------------------------------------------------------------\n",
            "INFO:tensorflow:Calling model_fn.\n",
            "INFO:tensorflow:Done calling model_fn.\n",
            "INFO:tensorflow:Starting evaluation at 2018-08-12-22:18:56\n",
            "INFO:tensorflow:Graph was finalized.\n",
            "INFO:tensorflow:Restoring parameters from /tmp/tmp4q1z3h47/model.ckpt-11000\n",
            "INFO:tensorflow:Running local_init_op.\n",
            "INFO:tensorflow:Done running local_init_op.\n",
            "INFO:tensorflow:Evaluation [100/1000]\n",
            "INFO:tensorflow:Evaluation [200/1000]\n",
            "INFO:tensorflow:Evaluation [300/1000]\n",
            "INFO:tensorflow:Evaluation [400/1000]\n",
            "INFO:tensorflow:Evaluation [500/1000]\n",
            "INFO:tensorflow:Evaluation [600/1000]\n",
            "INFO:tensorflow:Evaluation [700/1000]\n",
            "INFO:tensorflow:Evaluation [800/1000]\n",
            "INFO:tensorflow:Evaluation [900/1000]\n",
            "INFO:tensorflow:Evaluation [1000/1000]\n",
            "INFO:tensorflow:Finished evaluation at 2018-08-12-22:18:59\n",
            "INFO:tensorflow:Saving dict for global step 11000: average_loss = 54.089806, global_step = 11000, label/mean = 7.5161743, loss = 54.089806, prediction/mean = 0.19848812\n",
            "INFO:tensorflow:Saving 'checkpoint_path' summary for global step 11000: /tmp/tmp4q1z3h47/model.ckpt-11000\n",
            "INFO:tensorflow:Calling model_fn.\n",
            "INFO:tensorflow:Done calling model_fn.\n",
            "INFO:tensorflow:Starting evaluation at 2018-08-12-22:18:59\n",
            "INFO:tensorflow:Graph was finalized.\n",
            "INFO:tensorflow:Restoring parameters from /tmp/tmp4q1z3h47/model.ckpt-11000\n",
            "INFO:tensorflow:Running local_init_op.\n",
            "INFO:tensorflow:Done running local_init_op.\n",
            "INFO:tensorflow:Evaluation [100/1000]\n",
            "INFO:tensorflow:Evaluation [200/1000]\n",
            "INFO:tensorflow:Evaluation [300/1000]\n",
            "INFO:tensorflow:Evaluation [400/1000]\n",
            "INFO:tensorflow:Evaluation [500/1000]\n",
            "INFO:tensorflow:Evaluation [600/1000]\n",
            "INFO:tensorflow:Evaluation [700/1000]\n",
            "INFO:tensorflow:Evaluation [800/1000]\n",
            "INFO:tensorflow:Evaluation [900/1000]\n",
            "INFO:tensorflow:Evaluation [1000/1000]\n",
            "INFO:tensorflow:Finished evaluation at 2018-08-12-22:19:02\n",
            "INFO:tensorflow:Saving dict for global step 11000: average_loss = 54.392033, global_step = 11000, label/mean = 7.533653, loss = 54.392033, prediction/mean = 0.19793625\n",
            "INFO:tensorflow:Saving 'checkpoint_path' summary for global step 11000: /tmp/tmp4q1z3h47/model.ckpt-11000\n",
            "----------------------------------------------------------------------------------------------------\n",
            "****************************************************************************************************\n",
            "*Period[rmse training] 10 : 7.35\n",
            "*Period[rmse eval] 10 : 7.38\n",
            "****************************************************************************************************\n",
            "INFO:tensorflow:Calling model_fn.\n",
            "INFO:tensorflow:Done calling model_fn.\n",
            "INFO:tensorflow:Create CheckpointSaverHook.\n",
            "INFO:tensorflow:Graph was finalized.\n",
            "INFO:tensorflow:Restoring parameters from /tmp/tmp4q1z3h47/model.ckpt-11000\n",
            "INFO:tensorflow:Running local_init_op.\n",
            "INFO:tensorflow:Done running local_init_op.\n",
            "INFO:tensorflow:Saving checkpoints for 11000 into /tmp/tmp4q1z3h47/model.ckpt.\n",
            "INFO:tensorflow:loss = 58.07245, step = 11000\n",
            "INFO:tensorflow:global_step/sec: 376.816\n",
            "INFO:tensorflow:loss = 58.477512, step = 11100 (0.271 sec)\n",
            "INFO:tensorflow:global_step/sec: 456.511\n",
            "INFO:tensorflow:loss = 60.291477, step = 11200 (0.217 sec)\n",
            "INFO:tensorflow:global_step/sec: 450.548\n",
            "INFO:tensorflow:loss = 48.615463, step = 11300 (0.223 sec)\n",
            "INFO:tensorflow:global_step/sec: 449.817\n",
            "INFO:tensorflow:loss = 52.67376, step = 11400 (0.224 sec)\n",
            "INFO:tensorflow:global_step/sec: 419.939\n",
            "INFO:tensorflow:loss = 28.340853, step = 11500 (0.237 sec)\n",
            "INFO:tensorflow:global_step/sec: 454.463\n",
            "INFO:tensorflow:loss = 69.48938, step = 11600 (0.220 sec)\n",
            "INFO:tensorflow:global_step/sec: 438.922\n",
            "INFO:tensorflow:loss = 50.86839, step = 11700 (0.228 sec)\n",
            "INFO:tensorflow:global_step/sec: 452.238\n",
            "INFO:tensorflow:loss = 57.31358, step = 11800 (0.221 sec)\n",
            "INFO:tensorflow:global_step/sec: 444.914\n",
            "INFO:tensorflow:loss = 44.657978, step = 11900 (0.225 sec)\n",
            "INFO:tensorflow:Saving checkpoints for 12000 into /tmp/tmp4q1z3h47/model.ckpt.\n",
            "INFO:tensorflow:Loss for final step: 55.78534.\n",
            "----------------------------------------------------------------------------------------------------\n",
            "INFO:tensorflow:Calling model_fn.\n",
            "INFO:tensorflow:Done calling model_fn.\n",
            "INFO:tensorflow:Starting evaluation at 2018-08-12-22:19:05\n",
            "INFO:tensorflow:Graph was finalized.\n",
            "INFO:tensorflow:Restoring parameters from /tmp/tmp4q1z3h47/model.ckpt-12000\n",
            "INFO:tensorflow:Running local_init_op.\n",
            "INFO:tensorflow:Done running local_init_op.\n",
            "INFO:tensorflow:Evaluation [100/1000]\n",
            "INFO:tensorflow:Evaluation [200/1000]\n",
            "INFO:tensorflow:Evaluation [300/1000]\n",
            "INFO:tensorflow:Evaluation [400/1000]\n",
            "INFO:tensorflow:Evaluation [500/1000]\n",
            "INFO:tensorflow:Evaluation [600/1000]\n",
            "INFO:tensorflow:Evaluation [700/1000]\n",
            "INFO:tensorflow:Evaluation [800/1000]\n",
            "INFO:tensorflow:Evaluation [900/1000]\n",
            "INFO:tensorflow:Evaluation [1000/1000]\n",
            "INFO:tensorflow:Finished evaluation at 2018-08-12-22:19:08\n",
            "INFO:tensorflow:Saving dict for global step 12000: average_loss = 53.826027, global_step = 12000, label/mean = 7.5161743, loss = 53.826027, prediction/mean = 0.21653415\n",
            "INFO:tensorflow:Saving 'checkpoint_path' summary for global step 12000: /tmp/tmp4q1z3h47/model.ckpt-12000\n",
            "INFO:tensorflow:Calling model_fn.\n",
            "INFO:tensorflow:Done calling model_fn.\n",
            "INFO:tensorflow:Starting evaluation at 2018-08-12-22:19:08\n",
            "INFO:tensorflow:Graph was finalized.\n",
            "INFO:tensorflow:Restoring parameters from /tmp/tmp4q1z3h47/model.ckpt-12000\n",
            "INFO:tensorflow:Running local_init_op.\n",
            "INFO:tensorflow:Done running local_init_op.\n",
            "INFO:tensorflow:Evaluation [100/1000]\n",
            "INFO:tensorflow:Evaluation [200/1000]\n",
            "INFO:tensorflow:Evaluation [300/1000]\n",
            "INFO:tensorflow:Evaluation [400/1000]\n",
            "INFO:tensorflow:Evaluation [500/1000]\n",
            "INFO:tensorflow:Evaluation [600/1000]\n",
            "INFO:tensorflow:Evaluation [700/1000]\n",
            "INFO:tensorflow:Evaluation [800/1000]\n",
            "INFO:tensorflow:Evaluation [900/1000]\n",
            "INFO:tensorflow:Evaluation [1000/1000]\n",
            "INFO:tensorflow:Finished evaluation at 2018-08-12-22:19:11\n",
            "INFO:tensorflow:Saving dict for global step 12000: average_loss = 54.129047, global_step = 12000, label/mean = 7.533653, loss = 54.129047, prediction/mean = 0.21593177\n",
            "INFO:tensorflow:Saving 'checkpoint_path' summary for global step 12000: /tmp/tmp4q1z3h47/model.ckpt-12000\n",
            "----------------------------------------------------------------------------------------------------\n",
            "****************************************************************************************************\n",
            "*Period[rmse training] 11 : 7.34\n",
            "*Period[rmse eval] 11 : 7.36\n",
            "****************************************************************************************************\n",
            "INFO:tensorflow:Calling model_fn.\n",
            "INFO:tensorflow:Done calling model_fn.\n",
            "INFO:tensorflow:Create CheckpointSaverHook.\n",
            "INFO:tensorflow:Graph was finalized.\n",
            "INFO:tensorflow:Restoring parameters from /tmp/tmp4q1z3h47/model.ckpt-12000\n",
            "INFO:tensorflow:Running local_init_op.\n",
            "INFO:tensorflow:Done running local_init_op.\n",
            "INFO:tensorflow:Saving checkpoints for 12000 into /tmp/tmp4q1z3h47/model.ckpt.\n",
            "INFO:tensorflow:loss = 39.273476, step = 12000\n",
            "INFO:tensorflow:global_step/sec: 330.756\n",
            "INFO:tensorflow:loss = 48.88253, step = 12100 (0.304 sec)\n",
            "INFO:tensorflow:global_step/sec: 427.652\n",
            "INFO:tensorflow:loss = 59.819046, step = 12200 (0.236 sec)\n",
            "INFO:tensorflow:global_step/sec: 431.55\n",
            "INFO:tensorflow:loss = 75.26945, step = 12300 (0.234 sec)\n",
            "INFO:tensorflow:global_step/sec: 427.021\n",
            "INFO:tensorflow:loss = 57.527336, step = 12400 (0.230 sec)\n",
            "INFO:tensorflow:global_step/sec: 432.613\n",
            "INFO:tensorflow:loss = 54.77199, step = 12500 (0.235 sec)\n",
            "INFO:tensorflow:global_step/sec: 398.293\n",
            "INFO:tensorflow:loss = 55.274254, step = 12600 (0.251 sec)\n",
            "INFO:tensorflow:global_step/sec: 414.01\n",
            "INFO:tensorflow:loss = 56.648815, step = 12700 (0.242 sec)\n",
            "INFO:tensorflow:global_step/sec: 421.429\n",
            "INFO:tensorflow:loss = 44.777954, step = 12800 (0.237 sec)\n",
            "INFO:tensorflow:global_step/sec: 417.808\n",
            "INFO:tensorflow:loss = 56.413776, step = 12900 (0.236 sec)\n",
            "INFO:tensorflow:Saving checkpoints for 13000 into /tmp/tmp4q1z3h47/model.ckpt.\n",
            "INFO:tensorflow:Loss for final step: 57.820435.\n",
            "----------------------------------------------------------------------------------------------------\n",
            "INFO:tensorflow:Calling model_fn.\n",
            "INFO:tensorflow:Done calling model_fn.\n",
            "INFO:tensorflow:Starting evaluation at 2018-08-12-22:19:15\n",
            "INFO:tensorflow:Graph was finalized.\n",
            "INFO:tensorflow:Restoring parameters from /tmp/tmp4q1z3h47/model.ckpt-13000\n",
            "INFO:tensorflow:Running local_init_op.\n",
            "INFO:tensorflow:Done running local_init_op.\n",
            "INFO:tensorflow:Evaluation [100/1000]\n",
            "INFO:tensorflow:Evaluation [200/1000]\n",
            "INFO:tensorflow:Evaluation [300/1000]\n",
            "INFO:tensorflow:Evaluation [400/1000]\n",
            "INFO:tensorflow:Evaluation [500/1000]\n",
            "INFO:tensorflow:Evaluation [600/1000]\n",
            "INFO:tensorflow:Evaluation [700/1000]\n",
            "INFO:tensorflow:Evaluation [800/1000]\n",
            "INFO:tensorflow:Evaluation [900/1000]\n",
            "INFO:tensorflow:Evaluation [1000/1000]\n",
            "INFO:tensorflow:Finished evaluation at 2018-08-12-22:19:18\n",
            "INFO:tensorflow:Saving dict for global step 13000: average_loss = 53.562897, global_step = 13000, label/mean = 7.5161743, loss = 53.562897, prediction/mean = 0.23457961\n",
            "INFO:tensorflow:Saving 'checkpoint_path' summary for global step 13000: /tmp/tmp4q1z3h47/model.ckpt-13000\n",
            "INFO:tensorflow:Calling model_fn.\n",
            "INFO:tensorflow:Done calling model_fn.\n",
            "INFO:tensorflow:Starting evaluation at 2018-08-12-22:19:18\n",
            "INFO:tensorflow:Graph was finalized.\n",
            "INFO:tensorflow:Restoring parameters from /tmp/tmp4q1z3h47/model.ckpt-13000\n",
            "INFO:tensorflow:Running local_init_op.\n",
            "INFO:tensorflow:Done running local_init_op.\n",
            "INFO:tensorflow:Evaluation [100/1000]\n",
            "INFO:tensorflow:Evaluation [200/1000]\n",
            "INFO:tensorflow:Evaluation [300/1000]\n",
            "INFO:tensorflow:Evaluation [400/1000]\n",
            "INFO:tensorflow:Evaluation [500/1000]\n",
            "INFO:tensorflow:Evaluation [600/1000]\n",
            "INFO:tensorflow:Evaluation [700/1000]\n",
            "INFO:tensorflow:Evaluation [800/1000]\n",
            "INFO:tensorflow:Evaluation [900/1000]\n",
            "INFO:tensorflow:Evaluation [1000/1000]\n",
            "INFO:tensorflow:Finished evaluation at 2018-08-12-22:19:20\n",
            "INFO:tensorflow:Saving dict for global step 13000: average_loss = 53.866676, global_step = 13000, label/mean = 7.533653, loss = 53.866676, prediction/mean = 0.23392731\n",
            "INFO:tensorflow:Saving 'checkpoint_path' summary for global step 13000: /tmp/tmp4q1z3h47/model.ckpt-13000\n",
            "----------------------------------------------------------------------------------------------------\n",
            "****************************************************************************************************\n",
            "*Period[rmse training] 12 : 7.32\n",
            "*Period[rmse eval] 12 : 7.34\n",
            "****************************************************************************************************\n",
            "INFO:tensorflow:Calling model_fn.\n",
            "INFO:tensorflow:Done calling model_fn.\n",
            "INFO:tensorflow:Create CheckpointSaverHook.\n",
            "INFO:tensorflow:Graph was finalized.\n",
            "INFO:tensorflow:Restoring parameters from /tmp/tmp4q1z3h47/model.ckpt-13000\n",
            "INFO:tensorflow:Running local_init_op.\n",
            "INFO:tensorflow:Done running local_init_op.\n",
            "INFO:tensorflow:Saving checkpoints for 13000 into /tmp/tmp4q1z3h47/model.ckpt.\n",
            "INFO:tensorflow:loss = 65.27646, step = 13000\n",
            "INFO:tensorflow:global_step/sec: 352.273\n",
            "INFO:tensorflow:loss = 32.43102, step = 13100 (0.289 sec)\n",
            "INFO:tensorflow:global_step/sec: 422.003\n",
            "INFO:tensorflow:loss = 57.354336, step = 13200 (0.234 sec)\n",
            "INFO:tensorflow:global_step/sec: 368.364\n",
            "INFO:tensorflow:loss = 47.844597, step = 13300 (0.272 sec)\n",
            "INFO:tensorflow:global_step/sec: 425.392\n",
            "INFO:tensorflow:loss = 62.170784, step = 13400 (0.238 sec)\n",
            "INFO:tensorflow:global_step/sec: 431.164\n",
            "INFO:tensorflow:loss = 52.231903, step = 13500 (0.231 sec)\n",
            "INFO:tensorflow:global_step/sec: 461.389\n",
            "INFO:tensorflow:loss = 62.81656, step = 13600 (0.215 sec)\n",
            "INFO:tensorflow:global_step/sec: 450.572\n",
            "INFO:tensorflow:loss = 70.36324, step = 13700 (0.226 sec)\n",
            "INFO:tensorflow:global_step/sec: 437.135\n",
            "INFO:tensorflow:loss = 66.22555, step = 13800 (0.224 sec)\n",
            "INFO:tensorflow:global_step/sec: 416.625\n",
            "INFO:tensorflow:loss = 49.152874, step = 13900 (0.240 sec)\n",
            "INFO:tensorflow:Saving checkpoints for 14000 into /tmp/tmp4q1z3h47/model.ckpt.\n",
            "INFO:tensorflow:Loss for final step: 34.72768.\n",
            "----------------------------------------------------------------------------------------------------\n",
            "INFO:tensorflow:Calling model_fn.\n",
            "INFO:tensorflow:Done calling model_fn.\n",
            "INFO:tensorflow:Starting evaluation at 2018-08-12-22:19:25\n",
            "INFO:tensorflow:Graph was finalized.\n",
            "INFO:tensorflow:Restoring parameters from /tmp/tmp4q1z3h47/model.ckpt-14000\n",
            "INFO:tensorflow:Running local_init_op.\n",
            "INFO:tensorflow:Done running local_init_op.\n",
            "INFO:tensorflow:Evaluation [100/1000]\n",
            "INFO:tensorflow:Evaluation [200/1000]\n",
            "INFO:tensorflow:Evaluation [300/1000]\n",
            "INFO:tensorflow:Evaluation [400/1000]\n",
            "INFO:tensorflow:Evaluation [500/1000]\n",
            "INFO:tensorflow:Evaluation [600/1000]\n",
            "INFO:tensorflow:Evaluation [700/1000]\n",
            "INFO:tensorflow:Evaluation [800/1000]\n",
            "INFO:tensorflow:Evaluation [900/1000]\n",
            "INFO:tensorflow:Evaluation [1000/1000]\n",
            "INFO:tensorflow:Finished evaluation at 2018-08-12-22:19:27\n",
            "INFO:tensorflow:Saving dict for global step 14000: average_loss = 53.30038, global_step = 14000, label/mean = 7.5161743, loss = 53.30038, prediction/mean = 0.25262484\n",
            "INFO:tensorflow:Saving 'checkpoint_path' summary for global step 14000: /tmp/tmp4q1z3h47/model.ckpt-14000\n",
            "INFO:tensorflow:Calling model_fn.\n",
            "INFO:tensorflow:Done calling model_fn.\n",
            "INFO:tensorflow:Starting evaluation at 2018-08-12-22:19:27\n",
            "INFO:tensorflow:Graph was finalized.\n",
            "INFO:tensorflow:Restoring parameters from /tmp/tmp4q1z3h47/model.ckpt-14000\n",
            "INFO:tensorflow:Running local_init_op.\n",
            "INFO:tensorflow:Done running local_init_op.\n",
            "INFO:tensorflow:Evaluation [100/1000]\n",
            "INFO:tensorflow:Evaluation [200/1000]\n",
            "INFO:tensorflow:Evaluation [300/1000]\n",
            "INFO:tensorflow:Evaluation [400/1000]\n",
            "INFO:tensorflow:Evaluation [500/1000]\n",
            "INFO:tensorflow:Evaluation [600/1000]\n",
            "INFO:tensorflow:Evaluation [700/1000]\n",
            "INFO:tensorflow:Evaluation [800/1000]\n",
            "INFO:tensorflow:Evaluation [900/1000]\n",
            "INFO:tensorflow:Evaluation [1000/1000]\n",
            "INFO:tensorflow:Finished evaluation at 2018-08-12-22:19:30\n",
            "INFO:tensorflow:Saving dict for global step 14000: average_loss = 53.605038, global_step = 14000, label/mean = 7.533653, loss = 53.605038, prediction/mean = 0.25192234\n",
            "INFO:tensorflow:Saving 'checkpoint_path' summary for global step 14000: /tmp/tmp4q1z3h47/model.ckpt-14000\n",
            "----------------------------------------------------------------------------------------------------\n",
            "****************************************************************************************************\n",
            "*Period[rmse training] 13 : 7.30\n",
            "*Period[rmse eval] 13 : 7.32\n",
            "****************************************************************************************************\n",
            "INFO:tensorflow:Calling model_fn.\n",
            "INFO:tensorflow:Done calling model_fn.\n",
            "INFO:tensorflow:Create CheckpointSaverHook.\n",
            "INFO:tensorflow:Graph was finalized.\n",
            "INFO:tensorflow:Restoring parameters from /tmp/tmp4q1z3h47/model.ckpt-14000\n",
            "INFO:tensorflow:Running local_init_op.\n",
            "INFO:tensorflow:Done running local_init_op.\n",
            "INFO:tensorflow:Saving checkpoints for 14000 into /tmp/tmp4q1z3h47/model.ckpt.\n",
            "INFO:tensorflow:loss = 52.761047, step = 14000\n",
            "INFO:tensorflow:global_step/sec: 363.3\n",
            "INFO:tensorflow:loss = 57.63811, step = 14100 (0.277 sec)\n",
            "INFO:tensorflow:global_step/sec: 372.152\n",
            "INFO:tensorflow:loss = 40.01297, step = 14200 (0.271 sec)\n",
            "INFO:tensorflow:global_step/sec: 438.028\n",
            "INFO:tensorflow:loss = 58.27955, step = 14300 (0.229 sec)\n",
            "INFO:tensorflow:global_step/sec: 433.514\n",
            "INFO:tensorflow:loss = 42.01728, step = 14400 (0.228 sec)\n",
            "INFO:tensorflow:global_step/sec: 426.904\n",
            "INFO:tensorflow:loss = 50.827656, step = 14500 (0.234 sec)\n",
            "INFO:tensorflow:global_step/sec: 427.868\n",
            "INFO:tensorflow:loss = 52.561775, step = 14600 (0.234 sec)\n",
            "INFO:tensorflow:global_step/sec: 389.073\n",
            "INFO:tensorflow:loss = 65.82279, step = 14700 (0.260 sec)\n",
            "INFO:tensorflow:global_step/sec: 429.331\n",
            "INFO:tensorflow:loss = 54.511097, step = 14800 (0.232 sec)\n",
            "INFO:tensorflow:global_step/sec: 441.088\n",
            "INFO:tensorflow:loss = 54.802486, step = 14900 (0.224 sec)\n",
            "INFO:tensorflow:Saving checkpoints for 15000 into /tmp/tmp4q1z3h47/model.ckpt.\n",
            "INFO:tensorflow:Loss for final step: 66.825485.\n",
            "----------------------------------------------------------------------------------------------------\n",
            "INFO:tensorflow:Calling model_fn.\n",
            "INFO:tensorflow:Done calling model_fn.\n",
            "INFO:tensorflow:Starting evaluation at 2018-08-12-22:19:34\n",
            "INFO:tensorflow:Graph was finalized.\n",
            "INFO:tensorflow:Restoring parameters from /tmp/tmp4q1z3h47/model.ckpt-15000\n",
            "INFO:tensorflow:Running local_init_op.\n",
            "INFO:tensorflow:Done running local_init_op.\n",
            "INFO:tensorflow:Evaluation [100/1000]\n",
            "INFO:tensorflow:Evaluation [200/1000]\n",
            "INFO:tensorflow:Evaluation [300/1000]\n",
            "INFO:tensorflow:Evaluation [400/1000]\n",
            "INFO:tensorflow:Evaluation [500/1000]\n",
            "INFO:tensorflow:Evaluation [600/1000]\n",
            "INFO:tensorflow:Evaluation [700/1000]\n",
            "INFO:tensorflow:Evaluation [800/1000]\n",
            "INFO:tensorflow:Evaluation [900/1000]\n",
            "INFO:tensorflow:Evaluation [1000/1000]\n",
            "INFO:tensorflow:Finished evaluation at 2018-08-12-22:19:36\n",
            "INFO:tensorflow:Saving dict for global step 15000: average_loss = 53.03858, global_step = 15000, label/mean = 7.5161743, loss = 53.03858, prediction/mean = 0.27067047\n",
            "INFO:tensorflow:Saving 'checkpoint_path' summary for global step 15000: /tmp/tmp4q1z3h47/model.ckpt-15000\n",
            "INFO:tensorflow:Calling model_fn.\n",
            "INFO:tensorflow:Done calling model_fn.\n",
            "INFO:tensorflow:Starting evaluation at 2018-08-12-22:19:36\n",
            "INFO:tensorflow:Graph was finalized.\n",
            "INFO:tensorflow:Restoring parameters from /tmp/tmp4q1z3h47/model.ckpt-15000\n",
            "INFO:tensorflow:Running local_init_op.\n",
            "INFO:tensorflow:Done running local_init_op.\n",
            "INFO:tensorflow:Evaluation [100/1000]\n",
            "INFO:tensorflow:Evaluation [200/1000]\n",
            "INFO:tensorflow:Evaluation [300/1000]\n",
            "INFO:tensorflow:Evaluation [400/1000]\n",
            "INFO:tensorflow:Evaluation [500/1000]\n",
            "INFO:tensorflow:Evaluation [600/1000]\n",
            "INFO:tensorflow:Evaluation [700/1000]\n",
            "INFO:tensorflow:Evaluation [800/1000]\n",
            "INFO:tensorflow:Evaluation [900/1000]\n",
            "INFO:tensorflow:Evaluation [1000/1000]\n",
            "INFO:tensorflow:Finished evaluation at 2018-08-12-22:19:39\n",
            "INFO:tensorflow:Saving dict for global step 15000: average_loss = 53.344025, global_step = 15000, label/mean = 7.533653, loss = 53.344025, prediction/mean = 0.26991788\n",
            "INFO:tensorflow:Saving 'checkpoint_path' summary for global step 15000: /tmp/tmp4q1z3h47/model.ckpt-15000\n",
            "----------------------------------------------------------------------------------------------------\n",
            "****************************************************************************************************\n",
            "*Period[rmse training] 14 : 7.28\n",
            "*Period[rmse eval] 14 : 7.30\n",
            "****************************************************************************************************\n",
            "INFO:tensorflow:Calling model_fn.\n",
            "INFO:tensorflow:Done calling model_fn.\n",
            "INFO:tensorflow:Create CheckpointSaverHook.\n",
            "INFO:tensorflow:Graph was finalized.\n",
            "INFO:tensorflow:Restoring parameters from /tmp/tmp4q1z3h47/model.ckpt-15000\n",
            "INFO:tensorflow:Running local_init_op.\n",
            "INFO:tensorflow:Done running local_init_op.\n",
            "INFO:tensorflow:Saving checkpoints for 15000 into /tmp/tmp4q1z3h47/model.ckpt.\n",
            "INFO:tensorflow:loss = 55.9463, step = 15000\n",
            "INFO:tensorflow:global_step/sec: 348.353\n",
            "INFO:tensorflow:loss = 66.66448, step = 15100 (0.292 sec)\n",
            "INFO:tensorflow:global_step/sec: 423.905\n",
            "INFO:tensorflow:loss = 58.179512, step = 15200 (0.235 sec)\n",
            "INFO:tensorflow:global_step/sec: 423.354\n",
            "INFO:tensorflow:loss = 51.175007, step = 15300 (0.235 sec)\n",
            "INFO:tensorflow:global_step/sec: 438.54\n",
            "INFO:tensorflow:loss = 58.823452, step = 15400 (0.230 sec)\n",
            "INFO:tensorflow:global_step/sec: 388.85\n",
            "INFO:tensorflow:loss = 33.062534, step = 15500 (0.256 sec)\n",
            "INFO:tensorflow:global_step/sec: 429.561\n",
            "INFO:tensorflow:loss = 56.90713, step = 15600 (0.230 sec)\n",
            "INFO:tensorflow:global_step/sec: 416.858\n",
            "INFO:tensorflow:loss = 62.826347, step = 15700 (0.241 sec)\n",
            "INFO:tensorflow:global_step/sec: 437.602\n",
            "INFO:tensorflow:loss = 77.30863, step = 15800 (0.228 sec)\n",
            "INFO:tensorflow:global_step/sec: 432.159\n",
            "INFO:tensorflow:loss = 55.413113, step = 15900 (0.234 sec)\n",
            "INFO:tensorflow:Saving checkpoints for 16000 into /tmp/tmp4q1z3h47/model.ckpt.\n",
            "INFO:tensorflow:Loss for final step: 65.95495.\n",
            "----------------------------------------------------------------------------------------------------\n",
            "INFO:tensorflow:Calling model_fn.\n",
            "INFO:tensorflow:Done calling model_fn.\n",
            "INFO:tensorflow:Starting evaluation at 2018-08-12-22:19:44\n",
            "INFO:tensorflow:Graph was finalized.\n",
            "INFO:tensorflow:Restoring parameters from /tmp/tmp4q1z3h47/model.ckpt-16000\n",
            "INFO:tensorflow:Running local_init_op.\n",
            "INFO:tensorflow:Done running local_init_op.\n",
            "INFO:tensorflow:Evaluation [100/1000]\n",
            "INFO:tensorflow:Evaluation [200/1000]\n",
            "INFO:tensorflow:Evaluation [300/1000]\n",
            "INFO:tensorflow:Evaluation [400/1000]\n",
            "INFO:tensorflow:Evaluation [500/1000]\n",
            "INFO:tensorflow:Evaluation [600/1000]\n",
            "INFO:tensorflow:Evaluation [700/1000]\n",
            "INFO:tensorflow:Evaluation [800/1000]\n",
            "INFO:tensorflow:Evaluation [900/1000]\n",
            "INFO:tensorflow:Evaluation [1000/1000]\n",
            "INFO:tensorflow:Finished evaluation at 2018-08-12-22:19:46\n",
            "INFO:tensorflow:Saving dict for global step 16000: average_loss = 52.777454, global_step = 16000, label/mean = 7.5161743, loss = 52.777454, prediction/mean = 0.28871512\n",
            "INFO:tensorflow:Saving 'checkpoint_path' summary for global step 16000: /tmp/tmp4q1z3h47/model.ckpt-16000\n",
            "INFO:tensorflow:Calling model_fn.\n",
            "INFO:tensorflow:Done calling model_fn.\n",
            "INFO:tensorflow:Starting evaluation at 2018-08-12-22:19:46\n",
            "INFO:tensorflow:Graph was finalized.\n",
            "INFO:tensorflow:Restoring parameters from /tmp/tmp4q1z3h47/model.ckpt-16000\n",
            "INFO:tensorflow:Running local_init_op.\n",
            "INFO:tensorflow:Done running local_init_op.\n",
            "INFO:tensorflow:Evaluation [100/1000]\n",
            "INFO:tensorflow:Evaluation [200/1000]\n",
            "INFO:tensorflow:Evaluation [300/1000]\n",
            "INFO:tensorflow:Evaluation [400/1000]\n",
            "INFO:tensorflow:Evaluation [500/1000]\n",
            "INFO:tensorflow:Evaluation [600/1000]\n",
            "INFO:tensorflow:Evaluation [700/1000]\n",
            "INFO:tensorflow:Evaluation [800/1000]\n",
            "INFO:tensorflow:Evaluation [900/1000]\n",
            "INFO:tensorflow:Evaluation [1000/1000]\n",
            "INFO:tensorflow:Finished evaluation at 2018-08-12-22:19:48\n",
            "INFO:tensorflow:Saving dict for global step 16000: average_loss = 53.083633, global_step = 16000, label/mean = 7.533653, loss = 53.083633, prediction/mean = 0.28791216\n",
            "INFO:tensorflow:Saving 'checkpoint_path' summary for global step 16000: /tmp/tmp4q1z3h47/model.ckpt-16000\n",
            "----------------------------------------------------------------------------------------------------\n",
            "****************************************************************************************************\n",
            "*Period[rmse training] 15 : 7.26\n",
            "*Period[rmse eval] 15 : 7.29\n",
            "****************************************************************************************************\n",
            "INFO:tensorflow:Calling model_fn.\n",
            "INFO:tensorflow:Done calling model_fn.\n",
            "INFO:tensorflow:Create CheckpointSaverHook.\n",
            "INFO:tensorflow:Graph was finalized.\n",
            "INFO:tensorflow:Restoring parameters from /tmp/tmp4q1z3h47/model.ckpt-16000\n",
            "INFO:tensorflow:Running local_init_op.\n",
            "INFO:tensorflow:Done running local_init_op.\n",
            "INFO:tensorflow:Saving checkpoints for 16000 into /tmp/tmp4q1z3h47/model.ckpt.\n",
            "INFO:tensorflow:loss = 46.02102, step = 16000\n",
            "INFO:tensorflow:global_step/sec: 341.101\n",
            "INFO:tensorflow:loss = 65.1091, step = 16100 (0.299 sec)\n",
            "INFO:tensorflow:global_step/sec: 432.465\n",
            "INFO:tensorflow:loss = 57.11323, step = 16200 (0.231 sec)\n",
            "INFO:tensorflow:global_step/sec: 426.919\n",
            "INFO:tensorflow:loss = 59.436813, step = 16300 (0.230 sec)\n",
            "INFO:tensorflow:global_step/sec: 434.377\n",
            "INFO:tensorflow:loss = 46.34717, step = 16400 (0.234 sec)\n",
            "INFO:tensorflow:global_step/sec: 426.796\n",
            "INFO:tensorflow:loss = 62.191532, step = 16500 (0.231 sec)\n",
            "INFO:tensorflow:global_step/sec: 433.965\n",
            "INFO:tensorflow:loss = 56.270073, step = 16600 (0.233 sec)\n",
            "INFO:tensorflow:global_step/sec: 393.342\n",
            "INFO:tensorflow:loss = 56.83172, step = 16700 (0.254 sec)\n",
            "INFO:tensorflow:global_step/sec: 435.766\n",
            "INFO:tensorflow:loss = 46.89035, step = 16800 (0.227 sec)\n",
            "INFO:tensorflow:global_step/sec: 430.4\n",
            "INFO:tensorflow:loss = 55.05899, step = 16900 (0.235 sec)\n",
            "INFO:tensorflow:Saving checkpoints for 17000 into /tmp/tmp4q1z3h47/model.ckpt.\n",
            "INFO:tensorflow:Loss for final step: 51.841774.\n",
            "----------------------------------------------------------------------------------------------------\n",
            "INFO:tensorflow:Calling model_fn.\n",
            "INFO:tensorflow:Done calling model_fn.\n",
            "INFO:tensorflow:Starting evaluation at 2018-08-12-22:19:53\n",
            "INFO:tensorflow:Graph was finalized.\n",
            "INFO:tensorflow:Restoring parameters from /tmp/tmp4q1z3h47/model.ckpt-17000\n",
            "INFO:tensorflow:Running local_init_op.\n",
            "INFO:tensorflow:Done running local_init_op.\n",
            "INFO:tensorflow:Evaluation [100/1000]\n",
            "INFO:tensorflow:Evaluation [200/1000]\n",
            "INFO:tensorflow:Evaluation [300/1000]\n",
            "INFO:tensorflow:Evaluation [400/1000]\n",
            "INFO:tensorflow:Evaluation [500/1000]\n",
            "INFO:tensorflow:Evaluation [600/1000]\n",
            "INFO:tensorflow:Evaluation [700/1000]\n",
            "INFO:tensorflow:Evaluation [800/1000]\n",
            "INFO:tensorflow:Evaluation [900/1000]\n",
            "INFO:tensorflow:Evaluation [1000/1000]\n",
            "INFO:tensorflow:Finished evaluation at 2018-08-12-22:19:55\n",
            "INFO:tensorflow:Saving dict for global step 17000: average_loss = 52.516964, global_step = 17000, label/mean = 7.5161743, loss = 52.516964, prediction/mean = 0.30676028\n",
            "INFO:tensorflow:Saving 'checkpoint_path' summary for global step 17000: /tmp/tmp4q1z3h47/model.ckpt-17000\n",
            "INFO:tensorflow:Calling model_fn.\n",
            "INFO:tensorflow:Done calling model_fn.\n",
            "INFO:tensorflow:Starting evaluation at 2018-08-12-22:19:55\n",
            "INFO:tensorflow:Graph was finalized.\n",
            "INFO:tensorflow:Restoring parameters from /tmp/tmp4q1z3h47/model.ckpt-17000\n",
            "INFO:tensorflow:Running local_init_op.\n",
            "INFO:tensorflow:Done running local_init_op.\n",
            "INFO:tensorflow:Evaluation [100/1000]\n",
            "INFO:tensorflow:Evaluation [200/1000]\n",
            "INFO:tensorflow:Evaluation [300/1000]\n",
            "INFO:tensorflow:Evaluation [400/1000]\n",
            "INFO:tensorflow:Evaluation [500/1000]\n",
            "INFO:tensorflow:Evaluation [600/1000]\n",
            "INFO:tensorflow:Evaluation [700/1000]\n",
            "INFO:tensorflow:Evaluation [800/1000]\n",
            "INFO:tensorflow:Evaluation [900/1000]\n",
            "INFO:tensorflow:Evaluation [1000/1000]\n",
            "INFO:tensorflow:Finished evaluation at 2018-08-12-22:19:58\n",
            "INFO:tensorflow:Saving dict for global step 17000: average_loss = 52.82394, global_step = 17000, label/mean = 7.533653, loss = 52.82394, prediction/mean = 0.30590716\n",
            "INFO:tensorflow:Saving 'checkpoint_path' summary for global step 17000: /tmp/tmp4q1z3h47/model.ckpt-17000\n",
            "----------------------------------------------------------------------------------------------------\n",
            "****************************************************************************************************\n",
            "*Period[rmse training] 16 : 7.25\n",
            "*Period[rmse eval] 16 : 7.27\n",
            "****************************************************************************************************\n",
            "INFO:tensorflow:Calling model_fn.\n",
            "INFO:tensorflow:Done calling model_fn.\n",
            "INFO:tensorflow:Create CheckpointSaverHook.\n",
            "INFO:tensorflow:Graph was finalized.\n",
            "INFO:tensorflow:Restoring parameters from /tmp/tmp4q1z3h47/model.ckpt-17000\n",
            "INFO:tensorflow:Running local_init_op.\n",
            "INFO:tensorflow:Done running local_init_op.\n",
            "INFO:tensorflow:Saving checkpoints for 17000 into /tmp/tmp4q1z3h47/model.ckpt.\n",
            "INFO:tensorflow:loss = 66.57452, step = 17000\n",
            "INFO:tensorflow:global_step/sec: 359.784\n",
            "INFO:tensorflow:loss = 40.696766, step = 17100 (0.280 sec)\n",
            "INFO:tensorflow:global_step/sec: 427.178\n",
            "INFO:tensorflow:loss = 43.313156, step = 17200 (0.234 sec)\n",
            "INFO:tensorflow:global_step/sec: 425.05\n",
            "INFO:tensorflow:loss = 58.439556, step = 17300 (0.239 sec)\n",
            "INFO:tensorflow:global_step/sec: 381.557\n",
            "INFO:tensorflow:loss = 43.698902, step = 17400 (0.265 sec)\n",
            "INFO:tensorflow:global_step/sec: 408.698\n",
            "INFO:tensorflow:loss = 63.411346, step = 17500 (0.242 sec)\n",
            "INFO:tensorflow:global_step/sec: 412.828\n",
            "INFO:tensorflow:loss = 57.906, step = 17600 (0.240 sec)\n",
            "INFO:tensorflow:global_step/sec: 433.945\n",
            "INFO:tensorflow:loss = 60.348717, step = 17700 (0.230 sec)\n",
            "INFO:tensorflow:global_step/sec: 426.536\n",
            "INFO:tensorflow:loss = 55.60194, step = 17800 (0.237 sec)\n",
            "INFO:tensorflow:global_step/sec: 384.953\n",
            "INFO:tensorflow:loss = 54.163033, step = 17900 (0.260 sec)\n",
            "INFO:tensorflow:Saving checkpoints for 18000 into /tmp/tmp4q1z3h47/model.ckpt.\n",
            "INFO:tensorflow:Loss for final step: 67.95645.\n",
            "----------------------------------------------------------------------------------------------------\n",
            "INFO:tensorflow:Calling model_fn.\n",
            "INFO:tensorflow:Done calling model_fn.\n",
            "INFO:tensorflow:Starting evaluation at 2018-08-12-22:20:02\n",
            "INFO:tensorflow:Graph was finalized.\n",
            "INFO:tensorflow:Restoring parameters from /tmp/tmp4q1z3h47/model.ckpt-18000\n",
            "INFO:tensorflow:Running local_init_op.\n",
            "INFO:tensorflow:Done running local_init_op.\n",
            "INFO:tensorflow:Evaluation [100/1000]\n",
            "INFO:tensorflow:Evaluation [200/1000]\n",
            "INFO:tensorflow:Evaluation [300/1000]\n",
            "INFO:tensorflow:Evaluation [400/1000]\n",
            "INFO:tensorflow:Evaluation [500/1000]\n",
            "INFO:tensorflow:Evaluation [600/1000]\n",
            "INFO:tensorflow:Evaluation [700/1000]\n",
            "INFO:tensorflow:Evaluation [800/1000]\n",
            "INFO:tensorflow:Evaluation [900/1000]\n",
            "INFO:tensorflow:Evaluation [1000/1000]\n",
            "INFO:tensorflow:Finished evaluation at 2018-08-12-22:20:04\n",
            "INFO:tensorflow:Saving dict for global step 18000: average_loss = 52.257122, global_step = 18000, label/mean = 7.5161743, loss = 52.257122, prediction/mean = 0.32480296\n",
            "INFO:tensorflow:Saving 'checkpoint_path' summary for global step 18000: /tmp/tmp4q1z3h47/model.ckpt-18000\n",
            "INFO:tensorflow:Calling model_fn.\n",
            "INFO:tensorflow:Done calling model_fn.\n",
            "INFO:tensorflow:Starting evaluation at 2018-08-12-22:20:05\n",
            "INFO:tensorflow:Graph was finalized.\n",
            "INFO:tensorflow:Restoring parameters from /tmp/tmp4q1z3h47/model.ckpt-18000\n",
            "INFO:tensorflow:Running local_init_op.\n",
            "INFO:tensorflow:Done running local_init_op.\n",
            "INFO:tensorflow:Evaluation [100/1000]\n",
            "INFO:tensorflow:Evaluation [200/1000]\n",
            "INFO:tensorflow:Evaluation [300/1000]\n",
            "INFO:tensorflow:Evaluation [400/1000]\n",
            "INFO:tensorflow:Evaluation [500/1000]\n",
            "INFO:tensorflow:Evaluation [600/1000]\n",
            "INFO:tensorflow:Evaluation [700/1000]\n",
            "INFO:tensorflow:Evaluation [800/1000]\n",
            "INFO:tensorflow:Evaluation [900/1000]\n",
            "INFO:tensorflow:Evaluation [1000/1000]\n",
            "INFO:tensorflow:Finished evaluation at 2018-08-12-22:20:07\n",
            "INFO:tensorflow:Saving dict for global step 18000: average_loss = 52.56493, global_step = 18000, label/mean = 7.533653, loss = 52.56493, prediction/mean = 0.3239001\n",
            "INFO:tensorflow:Saving 'checkpoint_path' summary for global step 18000: /tmp/tmp4q1z3h47/model.ckpt-18000\n",
            "----------------------------------------------------------------------------------------------------\n",
            "****************************************************************************************************\n",
            "*Period[rmse training] 17 : 7.23\n",
            "*Period[rmse eval] 17 : 7.25\n",
            "****************************************************************************************************\n",
            "INFO:tensorflow:Calling model_fn.\n",
            "INFO:tensorflow:Done calling model_fn.\n",
            "INFO:tensorflow:Create CheckpointSaverHook.\n",
            "INFO:tensorflow:Graph was finalized.\n",
            "INFO:tensorflow:Restoring parameters from /tmp/tmp4q1z3h47/model.ckpt-18000\n",
            "INFO:tensorflow:Running local_init_op.\n",
            "INFO:tensorflow:Done running local_init_op.\n",
            "INFO:tensorflow:Saving checkpoints for 18000 into /tmp/tmp4q1z3h47/model.ckpt.\n",
            "INFO:tensorflow:loss = 47.852303, step = 18000\n",
            "INFO:tensorflow:global_step/sec: 365.71\n",
            "INFO:tensorflow:loss = 58.077682, step = 18100 (0.275 sec)\n",
            "INFO:tensorflow:global_step/sec: 440.341\n",
            "INFO:tensorflow:loss = 45.653893, step = 18200 (0.235 sec)\n",
            "INFO:tensorflow:global_step/sec: 397.55\n",
            "INFO:tensorflow:loss = 64.62048, step = 18300 (0.247 sec)\n",
            "INFO:tensorflow:global_step/sec: 427.235\n",
            "INFO:tensorflow:loss = 52.172466, step = 18400 (0.234 sec)\n",
            "INFO:tensorflow:global_step/sec: 426.941\n",
            "INFO:tensorflow:loss = 56.732784, step = 18500 (0.231 sec)\n",
            "INFO:tensorflow:global_step/sec: 428.307\n",
            "INFO:tensorflow:loss = 67.18699, step = 18600 (0.236 sec)\n",
            "INFO:tensorflow:global_step/sec: 424.031\n",
            "INFO:tensorflow:loss = 42.375137, step = 18700 (0.236 sec)\n",
            "INFO:tensorflow:global_step/sec: 397.774\n",
            "INFO:tensorflow:loss = 65.8504, step = 18800 (0.252 sec)\n",
            "INFO:tensorflow:global_step/sec: 440.768\n",
            "INFO:tensorflow:loss = 48.66757, step = 18900 (0.224 sec)\n",
            "INFO:tensorflow:Saving checkpoints for 19000 into /tmp/tmp4q1z3h47/model.ckpt.\n",
            "INFO:tensorflow:Loss for final step: 50.240208.\n",
            "----------------------------------------------------------------------------------------------------\n",
            "INFO:tensorflow:Calling model_fn.\n",
            "INFO:tensorflow:Done calling model_fn.\n",
            "INFO:tensorflow:Starting evaluation at 2018-08-12-22:20:11\n",
            "INFO:tensorflow:Graph was finalized.\n",
            "INFO:tensorflow:Restoring parameters from /tmp/tmp4q1z3h47/model.ckpt-19000\n",
            "INFO:tensorflow:Running local_init_op.\n",
            "INFO:tensorflow:Done running local_init_op.\n",
            "INFO:tensorflow:Evaluation [100/1000]\n",
            "INFO:tensorflow:Evaluation [200/1000]\n",
            "INFO:tensorflow:Evaluation [300/1000]\n",
            "INFO:tensorflow:Evaluation [400/1000]\n",
            "INFO:tensorflow:Evaluation [500/1000]\n",
            "INFO:tensorflow:Evaluation [600/1000]\n",
            "INFO:tensorflow:Evaluation [700/1000]\n",
            "INFO:tensorflow:Evaluation [800/1000]\n",
            "INFO:tensorflow:Evaluation [900/1000]\n",
            "INFO:tensorflow:Evaluation [1000/1000]\n",
            "INFO:tensorflow:Finished evaluation at 2018-08-12-22:20:14\n",
            "INFO:tensorflow:Saving dict for global step 19000: average_loss = 51.997955, global_step = 19000, label/mean = 7.5161743, loss = 51.997955, prediction/mean = 0.34284887\n",
            "INFO:tensorflow:Saving 'checkpoint_path' summary for global step 19000: /tmp/tmp4q1z3h47/model.ckpt-19000\n",
            "INFO:tensorflow:Calling model_fn.\n",
            "INFO:tensorflow:Done calling model_fn.\n",
            "INFO:tensorflow:Starting evaluation at 2018-08-12-22:20:14\n",
            "INFO:tensorflow:Graph was finalized.\n",
            "INFO:tensorflow:Restoring parameters from /tmp/tmp4q1z3h47/model.ckpt-19000\n",
            "INFO:tensorflow:Running local_init_op.\n",
            "INFO:tensorflow:Done running local_init_op.\n",
            "INFO:tensorflow:Evaluation [100/1000]\n",
            "INFO:tensorflow:Evaluation [200/1000]\n",
            "INFO:tensorflow:Evaluation [300/1000]\n",
            "INFO:tensorflow:Evaluation [400/1000]\n",
            "INFO:tensorflow:Evaluation [500/1000]\n",
            "INFO:tensorflow:Evaluation [600/1000]\n",
            "INFO:tensorflow:Evaluation [700/1000]\n",
            "INFO:tensorflow:Evaluation [800/1000]\n",
            "INFO:tensorflow:Evaluation [900/1000]\n",
            "INFO:tensorflow:Evaluation [1000/1000]\n",
            "INFO:tensorflow:Finished evaluation at 2018-08-12-22:20:16\n",
            "INFO:tensorflow:Saving dict for global step 19000: average_loss = 52.306553, global_step = 19000, label/mean = 7.533653, loss = 52.306553, prediction/mean = 0.3418958\n",
            "INFO:tensorflow:Saving 'checkpoint_path' summary for global step 19000: /tmp/tmp4q1z3h47/model.ckpt-19000\n",
            "----------------------------------------------------------------------------------------------------\n",
            "****************************************************************************************************\n",
            "*Period[rmse training] 18 : 7.21\n",
            "*Period[rmse eval] 18 : 7.23\n",
            "****************************************************************************************************\n",
            "INFO:tensorflow:Calling model_fn.\n",
            "INFO:tensorflow:Done calling model_fn.\n",
            "INFO:tensorflow:Create CheckpointSaverHook.\n",
            "INFO:tensorflow:Graph was finalized.\n",
            "INFO:tensorflow:Restoring parameters from /tmp/tmp4q1z3h47/model.ckpt-19000\n",
            "INFO:tensorflow:Running local_init_op.\n",
            "INFO:tensorflow:Done running local_init_op.\n",
            "INFO:tensorflow:Saving checkpoints for 19000 into /tmp/tmp4q1z3h47/model.ckpt.\n",
            "INFO:tensorflow:loss = 42.63088, step = 19000\n",
            "INFO:tensorflow:global_step/sec: 361.15\n",
            "INFO:tensorflow:loss = 53.302452, step = 19100 (0.281 sec)\n",
            "INFO:tensorflow:global_step/sec: 435.748\n",
            "INFO:tensorflow:loss = 53.62208, step = 19200 (0.231 sec)\n",
            "INFO:tensorflow:global_step/sec: 408.698\n",
            "INFO:tensorflow:loss = 48.11, step = 19300 (0.242 sec)\n",
            "INFO:tensorflow:global_step/sec: 436.729\n",
            "INFO:tensorflow:loss = 50.73514, step = 19400 (0.232 sec)\n",
            "INFO:tensorflow:global_step/sec: 423.501\n",
            "INFO:tensorflow:loss = 64.33737, step = 19500 (0.234 sec)\n",
            "INFO:tensorflow:global_step/sec: 415.564\n",
            "INFO:tensorflow:loss = 48.112717, step = 19600 (0.243 sec)\n",
            "INFO:tensorflow:global_step/sec: 416.167\n",
            "INFO:tensorflow:loss = 52.128487, step = 19700 (0.240 sec)\n",
            "INFO:tensorflow:global_step/sec: 430.1\n",
            "INFO:tensorflow:loss = 28.353476, step = 19800 (0.233 sec)\n",
            "INFO:tensorflow:global_step/sec: 390.578\n",
            "INFO:tensorflow:loss = 51.284363, step = 19900 (0.256 sec)\n",
            "INFO:tensorflow:Saving checkpoints for 20000 into /tmp/tmp4q1z3h47/model.ckpt.\n",
            "INFO:tensorflow:Loss for final step: 64.06166.\n",
            "----------------------------------------------------------------------------------------------------\n",
            "INFO:tensorflow:Calling model_fn.\n",
            "INFO:tensorflow:Done calling model_fn.\n",
            "INFO:tensorflow:Starting evaluation at 2018-08-12-22:20:21\n",
            "INFO:tensorflow:Graph was finalized.\n",
            "INFO:tensorflow:Restoring parameters from /tmp/tmp4q1z3h47/model.ckpt-20000\n",
            "INFO:tensorflow:Running local_init_op.\n",
            "INFO:tensorflow:Done running local_init_op.\n",
            "INFO:tensorflow:Evaluation [100/1000]\n",
            "INFO:tensorflow:Evaluation [200/1000]\n",
            "INFO:tensorflow:Evaluation [300/1000]\n",
            "INFO:tensorflow:Evaluation [400/1000]\n",
            "INFO:tensorflow:Evaluation [500/1000]\n",
            "INFO:tensorflow:Evaluation [600/1000]\n",
            "INFO:tensorflow:Evaluation [700/1000]\n",
            "INFO:tensorflow:Evaluation [800/1000]\n",
            "INFO:tensorflow:Evaluation [900/1000]\n",
            "INFO:tensorflow:Evaluation [1000/1000]\n",
            "INFO:tensorflow:Finished evaluation at 2018-08-12-22:20:23\n",
            "INFO:tensorflow:Saving dict for global step 20000: average_loss = 51.739418, global_step = 20000, label/mean = 7.5161743, loss = 51.739418, prediction/mean = 0.36089438\n",
            "INFO:tensorflow:Saving 'checkpoint_path' summary for global step 20000: /tmp/tmp4q1z3h47/model.ckpt-20000\n",
            "INFO:tensorflow:Calling model_fn.\n",
            "INFO:tensorflow:Done calling model_fn.\n",
            "INFO:tensorflow:Starting evaluation at 2018-08-12-22:20:24\n",
            "INFO:tensorflow:Graph was finalized.\n",
            "INFO:tensorflow:Restoring parameters from /tmp/tmp4q1z3h47/model.ckpt-20000\n",
            "INFO:tensorflow:Running local_init_op.\n",
            "INFO:tensorflow:Done running local_init_op.\n",
            "INFO:tensorflow:Evaluation [100/1000]\n",
            "INFO:tensorflow:Evaluation [200/1000]\n",
            "INFO:tensorflow:Evaluation [300/1000]\n",
            "INFO:tensorflow:Evaluation [400/1000]\n",
            "INFO:tensorflow:Evaluation [500/1000]\n",
            "INFO:tensorflow:Evaluation [600/1000]\n",
            "INFO:tensorflow:Evaluation [700/1000]\n",
            "INFO:tensorflow:Evaluation [800/1000]\n",
            "INFO:tensorflow:Evaluation [900/1000]\n",
            "INFO:tensorflow:Evaluation [1000/1000]\n",
            "INFO:tensorflow:Finished evaluation at 2018-08-12-22:20:26\n",
            "INFO:tensorflow:Saving dict for global step 20000: average_loss = 52.048798, global_step = 20000, label/mean = 7.533653, loss = 52.048798, prediction/mean = 0.3598909\n",
            "INFO:tensorflow:Saving 'checkpoint_path' summary for global step 20000: /tmp/tmp4q1z3h47/model.ckpt-20000\n",
            "----------------------------------------------------------------------------------------------------\n",
            "****************************************************************************************************\n",
            "*Period[rmse training] 19 : 7.19\n",
            "*Period[rmse eval] 19 : 7.21\n",
            "****************************************************************************************************\n"
          ],
          "name": "stdout"
        }
      ]
    },
    {
      "metadata": {
        "id": "-2swRvPBdXvZ",
        "colab_type": "code",
        "colab": {
          "base_uri": "https://localhost:8080/",
          "height": 544
        },
        "outputId": "adb48448-f19d-4eaa-efc4-97e370a2ef52"
      },
      "cell_type": "code",
      "source": [
        "test_predict = model.predict(input_fn=test_predict_input_fun)\n",
        "print(\"-\" * 100)\n",
        "metrics_test = model.evaluate(steps=STEPS, input_fn=test_predict_input_fun)\n",
        "print(\"-\" * 100)\n",
        "test_predict = np.array([item['predictions'][0] for item in test_predict])  \n",
        "#test_rmse = math.sqrt(\n",
        "#        sklearn.metrics.mean_squared_error(test_predict, y_test))\n",
        "test_rmse = np.sqrt(metrics_test['average_loss'])\n",
        "print(\"*\" * 100)\n",
        "print(\"*Final[rmse test] %02d : %0.2f\" % (period, test_rmse))\n",
        "print(\"*\" * 100)"
      ],
      "execution_count": 332,
      "outputs": [
        {
          "output_type": "stream",
          "text": [
            "----------------------------------------------------------------------------------------------------\n",
            "INFO:tensorflow:Calling model_fn.\n",
            "INFO:tensorflow:Done calling model_fn.\n",
            "INFO:tensorflow:Starting evaluation at 2018-08-12-22:20:27\n",
            "INFO:tensorflow:Graph was finalized.\n",
            "INFO:tensorflow:Restoring parameters from /tmp/tmp4q1z3h47/model.ckpt-20000\n",
            "INFO:tensorflow:Running local_init_op.\n",
            "INFO:tensorflow:Done running local_init_op.\n",
            "INFO:tensorflow:Evaluation [100/1000]\n",
            "INFO:tensorflow:Evaluation [200/1000]\n",
            "INFO:tensorflow:Evaluation [300/1000]\n",
            "INFO:tensorflow:Evaluation [400/1000]\n",
            "INFO:tensorflow:Evaluation [500/1000]\n",
            "INFO:tensorflow:Evaluation [600/1000]\n",
            "INFO:tensorflow:Evaluation [700/1000]\n",
            "INFO:tensorflow:Evaluation [800/1000]\n",
            "INFO:tensorflow:Evaluation [900/1000]\n",
            "INFO:tensorflow:Evaluation [1000/1000]\n",
            "INFO:tensorflow:Finished evaluation at 2018-08-12-22:20:30\n",
            "INFO:tensorflow:Saving dict for global step 20000: average_loss = 51.660152, global_step = 20000, label/mean = 7.5073366, loss = 51.660152, prediction/mean = 0.36131385\n",
            "INFO:tensorflow:Saving 'checkpoint_path' summary for global step 20000: /tmp/tmp4q1z3h47/model.ckpt-20000\n",
            "----------------------------------------------------------------------------------------------------\n",
            "INFO:tensorflow:Calling model_fn.\n",
            "INFO:tensorflow:Done calling model_fn.\n",
            "INFO:tensorflow:Graph was finalized.\n",
            "INFO:tensorflow:Restoring parameters from /tmp/tmp4q1z3h47/model.ckpt-20000\n",
            "INFO:tensorflow:Running local_init_op.\n",
            "INFO:tensorflow:Done running local_init_op.\n",
            "****************************************************************************************************\n",
            "*Final[rmse test] 19 : 7.19\n",
            "****************************************************************************************************\n"
          ],
          "name": "stdout"
        }
      ]
    },
    {
      "metadata": {
        "id": "GWsXI3wpeins",
        "colab_type": "code",
        "colab": {}
      },
      "cell_type": "code",
      "source": [
        "test_predict = np.array([item for item in test_predict])"
      ],
      "execution_count": 0,
      "outputs": []
    },
    {
      "metadata": {
        "id": "Pjeh9JkoXkuw",
        "colab_type": "code",
        "colab": {
          "base_uri": "https://localhost:8080/",
          "height": 51
        },
        "outputId": "17d413b4-f073-490b-b49f-4572fd5719e4"
      },
      "cell_type": "code",
      "source": [
        "test_predict"
      ],
      "execution_count": 334,
      "outputs": [
        {
          "output_type": "execute_result",
          "data": {
            "text/plain": [
              "array([0.56856644, 0.4061817 , 0.40867627, ..., 0.3216608 , 0.38813612,\n",
              "       0.3691405 ], dtype=float32)"
            ]
          },
          "metadata": {
            "tags": []
          },
          "execution_count": 334
        }
      ]
    }
  ]
}