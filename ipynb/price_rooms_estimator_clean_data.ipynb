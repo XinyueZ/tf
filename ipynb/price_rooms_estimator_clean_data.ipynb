{
  "nbformat": 4,
  "nbformat_minor": 0,
  "metadata": {
    "colab": {
      "name": "price_rooms_estimator_clean_data.ipynb",
      "version": "0.3.2",
      "provenance": [],
      "collapsed_sections": [],
      "include_colab_link": true
    },
    "kernelspec": {
      "name": "python3",
      "display_name": "Python 3"
    },
    "accelerator": "GPU"
  },
  "cells": [
    {
      "cell_type": "markdown",
      "metadata": {
        "id": "view-in-github",
        "colab_type": "text"
      },
      "source": [
        "[View in Colaboratory](https://colab.research.google.com/github/XinyueZ/tf/blob/master/ipynb/price_rooms_estimator_clean_data.ipynb)"
      ]
    },
    {
      "metadata": {
        "id": "IdHWJgQ0o-4T",
        "colab_type": "text"
      },
      "cell_type": "markdown",
      "source": [
        "# This case is a ML model about the linear relationship between \"average housing area\" and \"price per housing area\"."
      ]
    },
    {
      "metadata": {
        "id": "usywsvFLF2bo",
        "colab_type": "code",
        "colab": {}
      },
      "cell_type": "code",
      "source": [
        "import tensorflow as tf\n",
        "from tensorflow.python.data import Dataset\n",
        "import sklearn\n",
        "from sklearn.preprocessing import LabelEncoder\n",
        "import numpy as np\n",
        "import pandas as pd\n",
        "\n",
        "import math\n",
        "from IPython import display\n",
        "from matplotlib import cm\n",
        "from matplotlib import gridspec\n",
        "from matplotlib import pyplot as plt"
      ],
      "execution_count": 0,
      "outputs": []
    },
    {
      "metadata": {
        "id": "_rvAbHuFjCND",
        "colab_type": "code",
        "colab": {}
      },
      "cell_type": "code",
      "source": [
        "STEPS = 5000  # Steps of train loop. \n",
        "PERIODS = 20\n",
        "STEPS_PER_PERIOD = STEPS / PERIODS\n",
        "LEARNING_RATE = 0.000001\n",
        "BINS = 150"
      ],
      "execution_count": 0,
      "outputs": []
    },
    {
      "metadata": {
        "id": "M1XjwLH4P00k",
        "colab_type": "code",
        "colab": {}
      },
      "cell_type": "code",
      "source": [
        "tf.logging.set_verbosity(tf.logging.INFO)"
      ],
      "execution_count": 0,
      "outputs": []
    },
    {
      "metadata": {
        "id": "6gRBSBTfiO1x",
        "colab_type": "code",
        "colab": {
          "base_uri": "https://localhost:8080/",
          "height": 204
        },
        "outputId": "14418a5a-5fff-4678-c68e-2a739dc3e1be"
      },
      "cell_type": "code",
      "source": [
        "source = pd.read_csv(\"https://dl.dropbox.com/s/e2tcsgbcp2in5h5/price_rooms_area.tsv\", sep=\"\\t\")\n",
        "source.head()"
      ],
      "execution_count": 888,
      "outputs": [
        {
          "output_type": "execute_result",
          "data": {
            "text/html": [
              "<div>\n",
              "<style scoped>\n",
              "    .dataframe tbody tr th:only-of-type {\n",
              "        vertical-align: middle;\n",
              "    }\n",
              "\n",
              "    .dataframe tbody tr th {\n",
              "        vertical-align: top;\n",
              "    }\n",
              "\n",
              "    .dataframe thead th {\n",
              "        text-align: right;\n",
              "    }\n",
              "</style>\n",
              "<table border=\"1\" class=\"dataframe\">\n",
              "  <thead>\n",
              "    <tr style=\"text-align: right;\">\n",
              "      <th></th>\n",
              "      <th>PRICE</th>\n",
              "      <th>ROOMS</th>\n",
              "      <th>AREA</th>\n",
              "      <th>OBJECTCAT</th>\n",
              "      <th>MARKETINGTYPE</th>\n",
              "    </tr>\n",
              "  </thead>\n",
              "  <tbody>\n",
              "    <tr>\n",
              "      <th>0</th>\n",
              "      <td>5</td>\n",
              "      <td>0</td>\n",
              "      <td>249</td>\n",
              "      <td>Sonstiges Büro-/Praxisobjekt</td>\n",
              "      <td>Miete</td>\n",
              "    </tr>\n",
              "    <tr>\n",
              "      <th>1</th>\n",
              "      <td>595000</td>\n",
              "      <td>9</td>\n",
              "      <td>440</td>\n",
              "      <td>Besondere Immobilie</td>\n",
              "      <td>Kauf</td>\n",
              "    </tr>\n",
              "    <tr>\n",
              "      <th>2</th>\n",
              "      <td>199000</td>\n",
              "      <td>6</td>\n",
              "      <td>135,75</td>\n",
              "      <td>Stadthaus</td>\n",
              "      <td>Kauf</td>\n",
              "    </tr>\n",
              "    <tr>\n",
              "      <th>3</th>\n",
              "      <td>269000</td>\n",
              "      <td>9</td>\n",
              "      <td>203,57</td>\n",
              "      <td>Stadthaus</td>\n",
              "      <td>Kauf</td>\n",
              "    </tr>\n",
              "    <tr>\n",
              "      <th>4</th>\n",
              "      <td>562</td>\n",
              "      <td>3</td>\n",
              "      <td>63,15</td>\n",
              "      <td>Etagenwohnung</td>\n",
              "      <td>Miete</td>\n",
              "    </tr>\n",
              "  </tbody>\n",
              "</table>\n",
              "</div>"
            ],
            "text/plain": [
              "    PRICE ROOMS    AREA                     OBJECTCAT MARKETINGTYPE\n",
              "0       5     0     249  Sonstiges Büro-/Praxisobjekt         Miete\n",
              "1  595000     9     440           Besondere Immobilie          Kauf\n",
              "2  199000     6  135,75                     Stadthaus          Kauf\n",
              "3  269000     9  203,57                     Stadthaus          Kauf\n",
              "4     562     3   63,15                 Etagenwohnung         Miete"
            ]
          },
          "metadata": {
            "tags": []
          },
          "execution_count": 888
        }
      ]
    },
    {
      "metadata": {
        "id": "WohcWzXppE-B",
        "colab_type": "text"
      },
      "cell_type": "markdown",
      "source": [
        "# Clean the data-source\n",
        "- Remove rows containing *null*\n",
        "- Remove rows containing *N/A*\n",
        "- Add New data columns: \"Average housing area\" and \"per housing area price\".\n",
        "- Clean new added columns"
      ]
    },
    {
      "metadata": {
        "id": "BOmAzUQfzIvs",
        "colab_type": "code",
        "colab": {}
      },
      "cell_type": "code",
      "source": [
        "def clean_data(source):\n",
        "  df = source\n",
        "  \n",
        "  # Remove null rows\n",
        "  df = df[pd.notnull(df[\"PRICE\"])]\n",
        "  df = df[pd.notnull(df[\"ROOMS\"])]\n",
        "  df = df[pd.notnull(df[\"AREA\"])]\n",
        "  \n",
        "  # Remove useless columns\n",
        "  df = df.drop([\"OBJECTCAT\"], axis=1)\n",
        "  df = df[~df[\"MARKETINGTYPE\"].isin([\"Miete\"])]\n",
        "  df = df.drop([\"MARKETINGTYPE\"], axis=1)\n",
        "  \n",
        "  # Convert all strings to numeric\n",
        "  df = df.convert_objects(convert_numeric=True)\n",
        "  \n",
        "  # Remove rows containing a \"0\", i.e price = 0 or rooms = 0\n",
        "  df = df[~(df[[\"PRICE\", \"ROOMS\",\"AREA\"]] == 0)]\n",
        "  \n",
        "  # Remove rows containing N/A \n",
        "  df = df[pd.notna(df[\"PRICE\"])]\n",
        "  df = df[pd.notna(df[\"ROOMS\"])]\n",
        "  df = df[pd.notna(df[\"AREA\"])]\n",
        "\n",
        "  # Insert new column of \"price of pro-area\"\n",
        "  df.insert(1, \"PRICE_PRO_AREA\", df[\"PRICE\"] / df[\"AREA\"]) \n",
        "  df = df[~(df[\"PRICE_PRO_AREA\"] < 5)]\n",
        "  #df[\"PRICE_PRO_AREA\"] = df[\"PRICE_PRO_AREA\"] / 1000 #Scale -1000 for easy demo.\n",
        "  df[\"PRICE_PRO_AREA\"] = np.log(df[\"PRICE_PRO_AREA\"])\n",
        "  df = df[pd.notnull(df[\"PRICE_PRO_AREA\"])]\n",
        "  df = df[pd.notna(df[\"PRICE_PRO_AREA\"])]\n",
        "    \n",
        "  # Insert new column of \"area of each room\"\n",
        "  df.insert(4, \"AREA_PRO_ROOM\", df[\"AREA\"] / df[\"ROOMS\"]) \n",
        "  df = df[~(df[\"AREA_PRO_ROOM\"] < 1)]\n",
        "  df[\"AREA_PRO_ROOM\"] = np.log(df[\"AREA_PRO_ROOM\"])\n",
        "  df = df[pd.notnull(df[\"AREA_PRO_ROOM\"])]\n",
        "  df = df[pd.notna(df[\"AREA_PRO_ROOM\"])]\n",
        "  \n",
        "  return df"
      ],
      "execution_count": 0,
      "outputs": []
    },
    {
      "metadata": {
        "id": "59c_lb5i3aTH",
        "colab_type": "code",
        "colab": {
          "base_uri": "https://localhost:8080/",
          "height": 68
        },
        "outputId": "88089eb4-e719-42f2-a723-2ced8023b3bb"
      },
      "cell_type": "code",
      "source": [
        "df = clean_data(source)"
      ],
      "execution_count": 890,
      "outputs": [
        {
          "output_type": "stream",
          "text": [
            "/usr/local/lib/python3.6/dist-packages/ipykernel_launcher.py:15: FutureWarning: convert_objects is deprecated.  To re-infer data dtypes for object columns, use DataFrame.infer_objects()\n",
            "For all other conversions use the data-type specific converters pd.to_datetime, pd.to_timedelta and pd.to_numeric.\n",
            "  from ipykernel import kernelapp as app\n"
          ],
          "name": "stderr"
        }
      ]
    },
    {
      "metadata": {
        "id": "SN-xnRxjzT2T",
        "colab_type": "code",
        "colab": {
          "base_uri": "https://localhost:8080/",
          "height": 204
        },
        "outputId": "0669d7f1-ade6-4350-e5be-d03d251eda41"
      },
      "cell_type": "code",
      "source": [
        "df.head()"
      ],
      "execution_count": 891,
      "outputs": [
        {
          "output_type": "execute_result",
          "data": {
            "text/html": [
              "<div>\n",
              "<style scoped>\n",
              "    .dataframe tbody tr th:only-of-type {\n",
              "        vertical-align: middle;\n",
              "    }\n",
              "\n",
              "    .dataframe tbody tr th {\n",
              "        vertical-align: top;\n",
              "    }\n",
              "\n",
              "    .dataframe thead th {\n",
              "        text-align: right;\n",
              "    }\n",
              "</style>\n",
              "<table border=\"1\" class=\"dataframe\">\n",
              "  <thead>\n",
              "    <tr style=\"text-align: right;\">\n",
              "      <th></th>\n",
              "      <th>PRICE</th>\n",
              "      <th>PRICE_PRO_AREA</th>\n",
              "      <th>ROOMS</th>\n",
              "      <th>AREA</th>\n",
              "      <th>AREA_PRO_ROOM</th>\n",
              "    </tr>\n",
              "  </thead>\n",
              "  <tbody>\n",
              "    <tr>\n",
              "      <th>1</th>\n",
              "      <td>595000.0</td>\n",
              "      <td>7.209542</td>\n",
              "      <td>9.0</td>\n",
              "      <td>440.0</td>\n",
              "      <td>3.889550</td>\n",
              "    </tr>\n",
              "    <tr>\n",
              "      <th>5</th>\n",
              "      <td>299000.0</td>\n",
              "      <td>7.666556</td>\n",
              "      <td>5.0</td>\n",
              "      <td>140.0</td>\n",
              "      <td>3.332205</td>\n",
              "    </tr>\n",
              "    <tr>\n",
              "      <th>6</th>\n",
              "      <td>685000.0</td>\n",
              "      <td>7.497003</td>\n",
              "      <td>8.0</td>\n",
              "      <td>380.0</td>\n",
              "      <td>3.860730</td>\n",
              "    </tr>\n",
              "    <tr>\n",
              "      <th>8</th>\n",
              "      <td>206000.0</td>\n",
              "      <td>6.600842</td>\n",
              "      <td>1.0</td>\n",
              "      <td>280.0</td>\n",
              "      <td>5.634790</td>\n",
              "    </tr>\n",
              "    <tr>\n",
              "      <th>9</th>\n",
              "      <td>75000.0</td>\n",
              "      <td>7.114370</td>\n",
              "      <td>3.0</td>\n",
              "      <td>61.0</td>\n",
              "      <td>3.012262</td>\n",
              "    </tr>\n",
              "  </tbody>\n",
              "</table>\n",
              "</div>"
            ],
            "text/plain": [
              "      PRICE  PRICE_PRO_AREA  ROOMS   AREA  AREA_PRO_ROOM\n",
              "1  595000.0        7.209542    9.0  440.0       3.889550\n",
              "5  299000.0        7.666556    5.0  140.0       3.332205\n",
              "6  685000.0        7.497003    8.0  380.0       3.860730\n",
              "8  206000.0        6.600842    1.0  280.0       5.634790\n",
              "9   75000.0        7.114370    3.0   61.0       3.012262"
            ]
          },
          "metadata": {
            "tags": []
          },
          "execution_count": 891
        }
      ]
    },
    {
      "metadata": {
        "id": "B7G_QUbGL0YZ",
        "colab_type": "code",
        "colab": {
          "base_uri": "https://localhost:8080/",
          "height": 378
        },
        "outputId": "c58d8c39-fd90-49d6-c069-2e0940bd7411"
      },
      "cell_type": "code",
      "source": [
        "df.plot.scatter(x='AREA_PRO_ROOM', y='PRICE_PRO_AREA')"
      ],
      "execution_count": 892,
      "outputs": [
        {
          "output_type": "execute_result",
          "data": {
            "text/plain": [
              "<matplotlib.axes._subplots.AxesSubplot at 0x7f02e819f940>"
            ]
          },
          "metadata": {
            "tags": []
          },
          "execution_count": 892
        },
        {
          "output_type": "display_data",
          "data": {
            "image/png": "[encoded data removed]",
            "text/plain": [
              "<matplotlib.figure.Figure at 0x7f032c86f3c8>"
            ]
          },
          "metadata": {
            "tags": []
          }
        }
      ]
    },
    {
      "metadata": {
        "id": "PWk86xsBDkch",
        "colab_type": "code",
        "colab": {}
      },
      "cell_type": "code",
      "source": [
        "def make_dataset_and_labels_and_class_num(df, label_name):\n",
        "  \"\"\"This method will prepare da, labels for train, evaluation, test.\n",
        "     Args:\n",
        "      df: DataFrame format of datasource.\n",
        "      label_name: The name of column in datasource which will be as target for train.\n",
        "     Return: \n",
        "       Tuple of (ds_train, ds_eval, ds_test, label_train, label_eval, label_test)\n",
        "      \n",
        "  \"\"\"\n",
        "  target_label_col = label_name\n",
        "   \n",
        "  random_seed = None\n",
        "  np.random.seed(random_seed)\n",
        "  \n",
        "  ds_train = df.sample(frac=0.7, random_state=random_seed)\n",
        "  label_train = ds_train[[target_label_col]]\n",
        "  \n",
        "  ds_rest = df.drop(ds_train.index)\n",
        "  ds_rest = ds_rest.copy()\n",
        "  \n",
        "  ds_eval = ds_rest.sample(frac=0.7, random_state=random_seed)\n",
        "  label_eval = ds_eval[[target_label_col]]\n",
        "  \n",
        "  ds_test = ds_rest.drop(ds_eval.index)\n",
        "  label_test = ds_test[[target_label_col]]\n",
        "  \n",
        "  return ds_train[[\"AREA_PRO_ROOM\"]], ds_eval[[\"AREA_PRO_ROOM\"]], ds_test[[\"AREA_PRO_ROOM\"]], label_train, label_eval, label_test"
      ],
      "execution_count": 0,
      "outputs": []
    },
    {
      "metadata": {
        "id": "NgkHsXdun_dO",
        "colab_type": "code",
        "colab": {}
      },
      "cell_type": "code",
      "source": [
        "x_train, x_eval, x_test, y_train, y_eval, y_test = make_dataset_and_labels_and_class_num(df, \"PRICE_PRO_AREA\")"
      ],
      "execution_count": 0,
      "outputs": []
    },
    {
      "metadata": {
        "id": "mgVYA89XoHIV",
        "colab_type": "code",
        "colab": {
          "base_uri": "https://localhost:8080/",
          "height": 297
        },
        "outputId": "c4c3344c-5b2e-4d0e-f514-48b02acda0b2"
      },
      "cell_type": "code",
      "source": [
        "x_train.describe()"
      ],
      "execution_count": 895,
      "outputs": [
        {
          "output_type": "execute_result",
          "data": {
            "text/html": [
              "<div>\n",
              "<style scoped>\n",
              "    .dataframe tbody tr th:only-of-type {\n",
              "        vertical-align: middle;\n",
              "    }\n",
              "\n",
              "    .dataframe tbody tr th {\n",
              "        vertical-align: top;\n",
              "    }\n",
              "\n",
              "    .dataframe thead th {\n",
              "        text-align: right;\n",
              "    }\n",
              "</style>\n",
              "<table border=\"1\" class=\"dataframe\">\n",
              "  <thead>\n",
              "    <tr style=\"text-align: right;\">\n",
              "      <th></th>\n",
              "      <th>AREA_PRO_ROOM</th>\n",
              "    </tr>\n",
              "  </thead>\n",
              "  <tbody>\n",
              "    <tr>\n",
              "      <th>count</th>\n",
              "      <td>89726.000000</td>\n",
              "    </tr>\n",
              "    <tr>\n",
              "      <th>mean</th>\n",
              "      <td>3.452577</td>\n",
              "    </tr>\n",
              "    <tr>\n",
              "      <th>std</th>\n",
              "      <td>0.427495</td>\n",
              "    </tr>\n",
              "    <tr>\n",
              "      <th>min</th>\n",
              "      <td>0.000000</td>\n",
              "    </tr>\n",
              "    <tr>\n",
              "      <th>25%</th>\n",
              "      <td>3.218876</td>\n",
              "    </tr>\n",
              "    <tr>\n",
              "      <th>50%</th>\n",
              "      <td>3.397673</td>\n",
              "    </tr>\n",
              "    <tr>\n",
              "      <th>75%</th>\n",
              "      <td>3.604138</td>\n",
              "    </tr>\n",
              "    <tr>\n",
              "      <th>max</th>\n",
              "      <td>9.903488</td>\n",
              "    </tr>\n",
              "  </tbody>\n",
              "</table>\n",
              "</div>"
            ],
            "text/plain": [
              "       AREA_PRO_ROOM\n",
              "count   89726.000000\n",
              "mean        3.452577\n",
              "std         0.427495\n",
              "min         0.000000\n",
              "25%         3.218876\n",
              "50%         3.397673\n",
              "75%         3.604138\n",
              "max         9.903488"
            ]
          },
          "metadata": {
            "tags": []
          },
          "execution_count": 895
        }
      ]
    },
    {
      "metadata": {
        "id": "1TR94pSWkeyR",
        "colab_type": "code",
        "colab": {
          "base_uri": "https://localhost:8080/",
          "height": 396
        },
        "outputId": "444e8dae-e325-4cd8-e2ff-ca01090fd28f"
      },
      "cell_type": "code",
      "source": [
        "x_train.hist(\"AREA_PRO_ROOM\", bins = BINS)"
      ],
      "execution_count": 896,
      "outputs": [
        {
          "output_type": "execute_result",
          "data": {
            "text/plain": [
              "array([[<matplotlib.axes._subplots.AxesSubplot object at 0x7f031d534780>]],\n",
              "      dtype=object)"
            ]
          },
          "metadata": {
            "tags": []
          },
          "execution_count": 896
        },
        {
          "output_type": "display_data",
          "data": {
            "image/png": "[encoded data removed]",
            "text/plain": [
              "<matplotlib.figure.Figure at 0x7f031c4ab208>"
            ]
          },
          "metadata": {
            "tags": []
          }
        }
      ]
    },
    {
      "metadata": {
        "id": "rEwxanjWz1dm",
        "colab_type": "code",
        "colab": {
          "base_uri": "https://localhost:8080/",
          "height": 297
        },
        "outputId": "1e689879-825d-48f1-dcbf-322548e12310"
      },
      "cell_type": "code",
      "source": [
        "y_train.describe()"
      ],
      "execution_count": 897,
      "outputs": [
        {
          "output_type": "execute_result",
          "data": {
            "text/html": [
              "<div>\n",
              "<style scoped>\n",
              "    .dataframe tbody tr th:only-of-type {\n",
              "        vertical-align: middle;\n",
              "    }\n",
              "\n",
              "    .dataframe tbody tr th {\n",
              "        vertical-align: top;\n",
              "    }\n",
              "\n",
              "    .dataframe thead th {\n",
              "        text-align: right;\n",
              "    }\n",
              "</style>\n",
              "<table border=\"1\" class=\"dataframe\">\n",
              "  <thead>\n",
              "    <tr style=\"text-align: right;\">\n",
              "      <th></th>\n",
              "      <th>PRICE_PRO_AREA</th>\n",
              "    </tr>\n",
              "  </thead>\n",
              "  <tbody>\n",
              "    <tr>\n",
              "      <th>count</th>\n",
              "      <td>89726.000000</td>\n",
              "    </tr>\n",
              "    <tr>\n",
              "      <th>mean</th>\n",
              "      <td>7.523993</td>\n",
              "    </tr>\n",
              "    <tr>\n",
              "      <th>std</th>\n",
              "      <td>0.734977</td>\n",
              "    </tr>\n",
              "    <tr>\n",
              "      <th>min</th>\n",
              "      <td>1.629641</td>\n",
              "    </tr>\n",
              "    <tr>\n",
              "      <th>25%</th>\n",
              "      <td>7.130899</td>\n",
              "    </tr>\n",
              "    <tr>\n",
              "      <th>50%</th>\n",
              "      <td>7.561682</td>\n",
              "    </tr>\n",
              "    <tr>\n",
              "      <th>75%</th>\n",
              "      <td>7.965790</td>\n",
              "    </tr>\n",
              "    <tr>\n",
              "      <th>max</th>\n",
              "      <td>16.762453</td>\n",
              "    </tr>\n",
              "  </tbody>\n",
              "</table>\n",
              "</div>"
            ],
            "text/plain": [
              "       PRICE_PRO_AREA\n",
              "count    89726.000000\n",
              "mean         7.523993\n",
              "std          0.734977\n",
              "min          1.629641\n",
              "25%          7.130899\n",
              "50%          7.561682\n",
              "75%          7.965790\n",
              "max         16.762453"
            ]
          },
          "metadata": {
            "tags": []
          },
          "execution_count": 897
        }
      ]
    },
    {
      "metadata": {
        "id": "ZXP4bHjfeLMW",
        "colab_type": "code",
        "colab": {
          "base_uri": "https://localhost:8080/",
          "height": 378
        },
        "outputId": "be101b26-3bb3-4300-e67f-cd6882404b1e"
      },
      "cell_type": "code",
      "source": [
        "pd.concat([x_train, y_train], axis=1).plot.scatter(x='AREA_PRO_ROOM', y='PRICE_PRO_AREA')"
      ],
      "execution_count": 898,
      "outputs": [
        {
          "output_type": "execute_result",
          "data": {
            "text/plain": [
              "<matplotlib.axes._subplots.AxesSubplot at 0x7f03018680f0>"
            ]
          },
          "metadata": {
            "tags": []
          },
          "execution_count": 898
        },
        {
          "output_type": "display_data",
          "data": {
            "image/png": "[encoded data removed]",
            "text/plain": [
              "<matplotlib.figure.Figure at 0x7f03209f2710>"
            ]
          },
          "metadata": {
            "tags": []
          }
        }
      ]
    },
    {
      "metadata": {
        "id": "oMlOOyPQoI1E",
        "colab_type": "code",
        "colab": {
          "base_uri": "https://localhost:8080/",
          "height": 297
        },
        "outputId": "33de4a88-c524-4ac8-e250-7e6fb847624e"
      },
      "cell_type": "code",
      "source": [
        "x_eval.describe()"
      ],
      "execution_count": 899,
      "outputs": [
        {
          "output_type": "execute_result",
          "data": {
            "text/html": [
              "<div>\n",
              "<style scoped>\n",
              "    .dataframe tbody tr th:only-of-type {\n",
              "        vertical-align: middle;\n",
              "    }\n",
              "\n",
              "    .dataframe tbody tr th {\n",
              "        vertical-align: top;\n",
              "    }\n",
              "\n",
              "    .dataframe thead th {\n",
              "        text-align: right;\n",
              "    }\n",
              "</style>\n",
              "<table border=\"1\" class=\"dataframe\">\n",
              "  <thead>\n",
              "    <tr style=\"text-align: right;\">\n",
              "      <th></th>\n",
              "      <th>AREA_PRO_ROOM</th>\n",
              "    </tr>\n",
              "  </thead>\n",
              "  <tbody>\n",
              "    <tr>\n",
              "      <th>count</th>\n",
              "      <td>26918.000000</td>\n",
              "    </tr>\n",
              "    <tr>\n",
              "      <th>mean</th>\n",
              "      <td>3.449106</td>\n",
              "    </tr>\n",
              "    <tr>\n",
              "      <th>std</th>\n",
              "      <td>0.419710</td>\n",
              "    </tr>\n",
              "    <tr>\n",
              "      <th>min</th>\n",
              "      <td>0.000000</td>\n",
              "    </tr>\n",
              "    <tr>\n",
              "      <th>25%</th>\n",
              "      <td>3.218876</td>\n",
              "    </tr>\n",
              "    <tr>\n",
              "      <th>50%</th>\n",
              "      <td>3.391147</td>\n",
              "    </tr>\n",
              "    <tr>\n",
              "      <th>75%</th>\n",
              "      <td>3.602550</td>\n",
              "    </tr>\n",
              "    <tr>\n",
              "      <th>max</th>\n",
              "      <td>9.541297</td>\n",
              "    </tr>\n",
              "  </tbody>\n",
              "</table>\n",
              "</div>"
            ],
            "text/plain": [
              "       AREA_PRO_ROOM\n",
              "count   26918.000000\n",
              "mean        3.449106\n",
              "std         0.419710\n",
              "min         0.000000\n",
              "25%         3.218876\n",
              "50%         3.391147\n",
              "75%         3.602550\n",
              "max         9.541297"
            ]
          },
          "metadata": {
            "tags": []
          },
          "execution_count": 899
        }
      ]
    },
    {
      "metadata": {
        "id": "tHRgt5Vyy3W1",
        "colab_type": "code",
        "colab": {
          "base_uri": "https://localhost:8080/",
          "height": 396
        },
        "outputId": "d8111f26-d40c-471a-bd0c-6a7f0f171a53"
      },
      "cell_type": "code",
      "source": [
        "x_eval.hist(\"AREA_PRO_ROOM\", bins = BINS)"
      ],
      "execution_count": 900,
      "outputs": [
        {
          "output_type": "execute_result",
          "data": {
            "text/plain": [
              "array([[<matplotlib.axes._subplots.AxesSubplot object at 0x7f031d56fe10>]],\n",
              "      dtype=object)"
            ]
          },
          "metadata": {
            "tags": []
          },
          "execution_count": 900
        },
        {
          "output_type": "display_data",
          "data": {
            "image/png": "[encoded data removed]",
            "text/plain": [
              "<matplotlib.figure.Figure at 0x7f031c884e10>"
            ]
          },
          "metadata": {
            "tags": []
          }
        }
      ]
    },
    {
      "metadata": {
        "id": "vuLSow1Sz71e",
        "colab_type": "code",
        "colab": {
          "base_uri": "https://localhost:8080/",
          "height": 297
        },
        "outputId": "fb2fc09d-a6d1-41f6-c5a0-136380093dd3"
      },
      "cell_type": "code",
      "source": [
        "y_eval.describe()"
      ],
      "execution_count": 901,
      "outputs": [
        {
          "output_type": "execute_result",
          "data": {
            "text/html": [
              "<div>\n",
              "<style scoped>\n",
              "    .dataframe tbody tr th:only-of-type {\n",
              "        vertical-align: middle;\n",
              "    }\n",
              "\n",
              "    .dataframe tbody tr th {\n",
              "        vertical-align: top;\n",
              "    }\n",
              "\n",
              "    .dataframe thead th {\n",
              "        text-align: right;\n",
              "    }\n",
              "</style>\n",
              "<table border=\"1\" class=\"dataframe\">\n",
              "  <thead>\n",
              "    <tr style=\"text-align: right;\">\n",
              "      <th></th>\n",
              "      <th>PRICE_PRO_AREA</th>\n",
              "    </tr>\n",
              "  </thead>\n",
              "  <tbody>\n",
              "    <tr>\n",
              "      <th>count</th>\n",
              "      <td>26918.000000</td>\n",
              "    </tr>\n",
              "    <tr>\n",
              "      <th>mean</th>\n",
              "      <td>7.524553</td>\n",
              "    </tr>\n",
              "    <tr>\n",
              "      <th>std</th>\n",
              "      <td>0.735995</td>\n",
              "    </tr>\n",
              "    <tr>\n",
              "      <th>min</th>\n",
              "      <td>1.776492</td>\n",
              "    </tr>\n",
              "    <tr>\n",
              "      <th>25%</th>\n",
              "      <td>7.130899</td>\n",
              "    </tr>\n",
              "    <tr>\n",
              "      <th>50%</th>\n",
              "      <td>7.562154</td>\n",
              "    </tr>\n",
              "    <tr>\n",
              "      <th>75%</th>\n",
              "      <td>7.957577</td>\n",
              "    </tr>\n",
              "    <tr>\n",
              "      <th>max</th>\n",
              "      <td>20.960654</td>\n",
              "    </tr>\n",
              "  </tbody>\n",
              "</table>\n",
              "</div>"
            ],
            "text/plain": [
              "       PRICE_PRO_AREA\n",
              "count    26918.000000\n",
              "mean         7.524553\n",
              "std          0.735995\n",
              "min          1.776492\n",
              "25%          7.130899\n",
              "50%          7.562154\n",
              "75%          7.957577\n",
              "max         20.960654"
            ]
          },
          "metadata": {
            "tags": []
          },
          "execution_count": 901
        }
      ]
    },
    {
      "metadata": {
        "id": "rGF9lnTPzHet",
        "colab_type": "code",
        "colab": {
          "base_uri": "https://localhost:8080/",
          "height": 378
        },
        "outputId": "bc4e4a56-a8e7-4b6f-a4ad-212372f5d71f"
      },
      "cell_type": "code",
      "source": [
        "pd.concat([x_eval, y_eval], axis=1).plot.scatter(x='AREA_PRO_ROOM', y='PRICE_PRO_AREA')"
      ],
      "execution_count": 902,
      "outputs": [
        {
          "output_type": "execute_result",
          "data": {
            "text/plain": [
              "<matplotlib.axes._subplots.AxesSubplot at 0x7f03242564a8>"
            ]
          },
          "metadata": {
            "tags": []
          },
          "execution_count": 902
        },
        {
          "output_type": "display_data",
          "data": {
            "image/png": "[encoded data removed]",
            "text/plain": [
              "<matplotlib.figure.Figure at 0x7f02a02482e8>"
            ]
          },
          "metadata": {
            "tags": []
          }
        }
      ]
    },
    {
      "metadata": {
        "id": "xciCTqS2ageV",
        "colab_type": "code",
        "colab": {
          "base_uri": "https://localhost:8080/",
          "height": 297
        },
        "outputId": "fd3361d4-e120-470d-ef18-994aef4d1a63"
      },
      "cell_type": "code",
      "source": [
        "x_test.describe()"
      ],
      "execution_count": 903,
      "outputs": [
        {
          "output_type": "execute_result",
          "data": {
            "text/html": [
              "<div>\n",
              "<style scoped>\n",
              "    .dataframe tbody tr th:only-of-type {\n",
              "        vertical-align: middle;\n",
              "    }\n",
              "\n",
              "    .dataframe tbody tr th {\n",
              "        vertical-align: top;\n",
              "    }\n",
              "\n",
              "    .dataframe thead th {\n",
              "        text-align: right;\n",
              "    }\n",
              "</style>\n",
              "<table border=\"1\" class=\"dataframe\">\n",
              "  <thead>\n",
              "    <tr style=\"text-align: right;\">\n",
              "      <th></th>\n",
              "      <th>AREA_PRO_ROOM</th>\n",
              "    </tr>\n",
              "  </thead>\n",
              "  <tbody>\n",
              "    <tr>\n",
              "      <th>count</th>\n",
              "      <td>11536.000000</td>\n",
              "    </tr>\n",
              "    <tr>\n",
              "      <th>mean</th>\n",
              "      <td>3.455774</td>\n",
              "    </tr>\n",
              "    <tr>\n",
              "      <th>std</th>\n",
              "      <td>0.434678</td>\n",
              "    </tr>\n",
              "    <tr>\n",
              "      <th>min</th>\n",
              "      <td>0.000000</td>\n",
              "    </tr>\n",
              "    <tr>\n",
              "      <th>25%</th>\n",
              "      <td>3.218876</td>\n",
              "    </tr>\n",
              "    <tr>\n",
              "      <th>50%</th>\n",
              "      <td>3.392829</td>\n",
              "    </tr>\n",
              "    <tr>\n",
              "      <th>75%</th>\n",
              "      <td>3.610918</td>\n",
              "    </tr>\n",
              "    <tr>\n",
              "      <th>max</th>\n",
              "      <td>9.024011</td>\n",
              "    </tr>\n",
              "  </tbody>\n",
              "</table>\n",
              "</div>"
            ],
            "text/plain": [
              "       AREA_PRO_ROOM\n",
              "count   11536.000000\n",
              "mean        3.455774\n",
              "std         0.434678\n",
              "min         0.000000\n",
              "25%         3.218876\n",
              "50%         3.392829\n",
              "75%         3.610918\n",
              "max         9.024011"
            ]
          },
          "metadata": {
            "tags": []
          },
          "execution_count": 903
        }
      ]
    },
    {
      "metadata": {
        "id": "CFLyayPTy6X1",
        "colab_type": "code",
        "colab": {
          "base_uri": "https://localhost:8080/",
          "height": 396
        },
        "outputId": "d7c484ba-c81d-4520-f01c-3cea8ceede50"
      },
      "cell_type": "code",
      "source": [
        "x_test.hist(\"AREA_PRO_ROOM\", bins = BINS)"
      ],
      "execution_count": 904,
      "outputs": [
        {
          "output_type": "execute_result",
          "data": {
            "text/plain": [
              "array([[<matplotlib.axes._subplots.AxesSubplot object at 0x7f02a6f05748>]],\n",
              "      dtype=object)"
            ]
          },
          "metadata": {
            "tags": []
          },
          "execution_count": 904
        },
        {
          "output_type": "display_data",
          "data": {
            "image/png": "[encoded data removed]",
            "text/plain": [
              "<matplotlib.figure.Figure at 0x7f030f3124a8>"
            ]
          },
          "metadata": {
            "tags": []
          }
        }
      ]
    },
    {
      "metadata": {
        "id": "a21Zw6mGz_AN",
        "colab_type": "code",
        "colab": {
          "base_uri": "https://localhost:8080/",
          "height": 297
        },
        "outputId": "84581919-b579-4d30-82d7-1fdfed0ff157"
      },
      "cell_type": "code",
      "source": [
        "y_test.describe()"
      ],
      "execution_count": 905,
      "outputs": [
        {
          "output_type": "execute_result",
          "data": {
            "text/html": [
              "<div>\n",
              "<style scoped>\n",
              "    .dataframe tbody tr th:only-of-type {\n",
              "        vertical-align: middle;\n",
              "    }\n",
              "\n",
              "    .dataframe tbody tr th {\n",
              "        vertical-align: top;\n",
              "    }\n",
              "\n",
              "    .dataframe thead th {\n",
              "        text-align: right;\n",
              "    }\n",
              "</style>\n",
              "<table border=\"1\" class=\"dataframe\">\n",
              "  <thead>\n",
              "    <tr style=\"text-align: right;\">\n",
              "      <th></th>\n",
              "      <th>PRICE_PRO_AREA</th>\n",
              "    </tr>\n",
              "  </thead>\n",
              "  <tbody>\n",
              "    <tr>\n",
              "      <th>count</th>\n",
              "      <td>11536.000000</td>\n",
              "    </tr>\n",
              "    <tr>\n",
              "      <th>mean</th>\n",
              "      <td>7.523979</td>\n",
              "    </tr>\n",
              "    <tr>\n",
              "      <th>std</th>\n",
              "      <td>0.721412</td>\n",
              "    </tr>\n",
              "    <tr>\n",
              "      <th>min</th>\n",
              "      <td>1.845827</td>\n",
              "    </tr>\n",
              "    <tr>\n",
              "      <th>25%</th>\n",
              "      <td>7.128229</td>\n",
              "    </tr>\n",
              "    <tr>\n",
              "      <th>50%</th>\n",
              "      <td>7.559712</td>\n",
              "    </tr>\n",
              "    <tr>\n",
              "      <th>75%</th>\n",
              "      <td>7.966027</td>\n",
              "    </tr>\n",
              "    <tr>\n",
              "      <th>max</th>\n",
              "      <td>12.157282</td>\n",
              "    </tr>\n",
              "  </tbody>\n",
              "</table>\n",
              "</div>"
            ],
            "text/plain": [
              "       PRICE_PRO_AREA\n",
              "count    11536.000000\n",
              "mean         7.523979\n",
              "std          0.721412\n",
              "min          1.845827\n",
              "25%          7.128229\n",
              "50%          7.559712\n",
              "75%          7.966027\n",
              "max         12.157282"
            ]
          },
          "metadata": {
            "tags": []
          },
          "execution_count": 905
        }
      ]
    },
    {
      "metadata": {
        "id": "_NarbG15zLXN",
        "colab_type": "code",
        "colab": {
          "base_uri": "https://localhost:8080/",
          "height": 378
        },
        "outputId": "07447d77-2df2-4cf1-d20e-0c57fb7ff91c"
      },
      "cell_type": "code",
      "source": [
        "pd.concat([x_test, y_test], axis=1).plot.scatter(x='AREA_PRO_ROOM', y='PRICE_PRO_AREA')"
      ],
      "execution_count": 906,
      "outputs": [
        {
          "output_type": "execute_result",
          "data": {
            "text/plain": [
              "<matplotlib.axes._subplots.AxesSubplot at 0x7f02e82659b0>"
            ]
          },
          "metadata": {
            "tags": []
          },
          "execution_count": 906
        },
        {
          "output_type": "display_data",
          "data": {
            "image/png": "[encoded data removed]",
            "text/plain": [
              "<matplotlib.figure.Figure at 0x7f031ffd3208>"
            ]
          },
          "metadata": {
            "tags": []
          }
        }
      ]
    },
    {
      "metadata": {
        "id": "Yi1g3htco3st",
        "colab_type": "code",
        "colab": {
          "base_uri": "https://localhost:8080/",
          "height": 204
        },
        "outputId": "65e56a21-2868-457c-d23c-b6cba75e0f61"
      },
      "cell_type": "code",
      "source": [
        "x_train.head()"
      ],
      "execution_count": 907,
      "outputs": [
        {
          "output_type": "execute_result",
          "data": {
            "text/html": [
              "<div>\n",
              "<style scoped>\n",
              "    .dataframe tbody tr th:only-of-type {\n",
              "        vertical-align: middle;\n",
              "    }\n",
              "\n",
              "    .dataframe tbody tr th {\n",
              "        vertical-align: top;\n",
              "    }\n",
              "\n",
              "    .dataframe thead th {\n",
              "        text-align: right;\n",
              "    }\n",
              "</style>\n",
              "<table border=\"1\" class=\"dataframe\">\n",
              "  <thead>\n",
              "    <tr style=\"text-align: right;\">\n",
              "      <th></th>\n",
              "      <th>AREA_PRO_ROOM</th>\n",
              "    </tr>\n",
              "  </thead>\n",
              "  <tbody>\n",
              "    <tr>\n",
              "      <th>10899</th>\n",
              "      <td>3.323236</td>\n",
              "    </tr>\n",
              "    <tr>\n",
              "      <th>191645</th>\n",
              "      <td>4.060443</td>\n",
              "    </tr>\n",
              "    <tr>\n",
              "      <th>100365</th>\n",
              "      <td>2.995732</td>\n",
              "    </tr>\n",
              "    <tr>\n",
              "      <th>144447</th>\n",
              "      <td>3.140914</td>\n",
              "    </tr>\n",
              "    <tr>\n",
              "      <th>120416</th>\n",
              "      <td>3.232121</td>\n",
              "    </tr>\n",
              "  </tbody>\n",
              "</table>\n",
              "</div>"
            ],
            "text/plain": [
              "        AREA_PRO_ROOM\n",
              "10899        3.323236\n",
              "191645       4.060443\n",
              "100365       2.995732\n",
              "144447       3.140914\n",
              "120416       3.232121"
            ]
          },
          "metadata": {
            "tags": []
          },
          "execution_count": 907
        }
      ]
    },
    {
      "metadata": {
        "id": "6VRcJQxqpInl",
        "colab_type": "code",
        "colab": {
          "base_uri": "https://localhost:8080/",
          "height": 204
        },
        "outputId": "2d91c898-b0bd-44be-9241-b10a9a472c28"
      },
      "cell_type": "code",
      "source": [
        "x_eval.head()"
      ],
      "execution_count": 908,
      "outputs": [
        {
          "output_type": "execute_result",
          "data": {
            "text/html": [
              "<div>\n",
              "<style scoped>\n",
              "    .dataframe tbody tr th:only-of-type {\n",
              "        vertical-align: middle;\n",
              "    }\n",
              "\n",
              "    .dataframe tbody tr th {\n",
              "        vertical-align: top;\n",
              "    }\n",
              "\n",
              "    .dataframe thead th {\n",
              "        text-align: right;\n",
              "    }\n",
              "</style>\n",
              "<table border=\"1\" class=\"dataframe\">\n",
              "  <thead>\n",
              "    <tr style=\"text-align: right;\">\n",
              "      <th></th>\n",
              "      <th>AREA_PRO_ROOM</th>\n",
              "    </tr>\n",
              "  </thead>\n",
              "  <tbody>\n",
              "    <tr>\n",
              "      <th>212492</th>\n",
              "      <td>3.314186</td>\n",
              "    </tr>\n",
              "    <tr>\n",
              "      <th>73088</th>\n",
              "      <td>2.926739</td>\n",
              "    </tr>\n",
              "    <tr>\n",
              "      <th>30512</th>\n",
              "      <td>3.667826</td>\n",
              "    </tr>\n",
              "    <tr>\n",
              "      <th>70397</th>\n",
              "      <td>3.338139</td>\n",
              "    </tr>\n",
              "    <tr>\n",
              "      <th>210499</th>\n",
              "      <td>3.979682</td>\n",
              "    </tr>\n",
              "  </tbody>\n",
              "</table>\n",
              "</div>"
            ],
            "text/plain": [
              "        AREA_PRO_ROOM\n",
              "212492       3.314186\n",
              "73088        2.926739\n",
              "30512        3.667826\n",
              "70397        3.338139\n",
              "210499       3.979682"
            ]
          },
          "metadata": {
            "tags": []
          },
          "execution_count": 908
        }
      ]
    },
    {
      "metadata": {
        "id": "g5fkf_HZaj2u",
        "colab_type": "code",
        "colab": {
          "base_uri": "https://localhost:8080/",
          "height": 204
        },
        "outputId": "85f81529-f8ba-41c0-9d2f-d5402b6a8299"
      },
      "cell_type": "code",
      "source": [
        "x_test.head()"
      ],
      "execution_count": 909,
      "outputs": [
        {
          "output_type": "execute_result",
          "data": {
            "text/html": [
              "<div>\n",
              "<style scoped>\n",
              "    .dataframe tbody tr th:only-of-type {\n",
              "        vertical-align: middle;\n",
              "    }\n",
              "\n",
              "    .dataframe tbody tr th {\n",
              "        vertical-align: top;\n",
              "    }\n",
              "\n",
              "    .dataframe thead th {\n",
              "        text-align: right;\n",
              "    }\n",
              "</style>\n",
              "<table border=\"1\" class=\"dataframe\">\n",
              "  <thead>\n",
              "    <tr style=\"text-align: right;\">\n",
              "      <th></th>\n",
              "      <th>AREA_PRO_ROOM</th>\n",
              "    </tr>\n",
              "  </thead>\n",
              "  <tbody>\n",
              "    <tr>\n",
              "      <th>5</th>\n",
              "      <td>3.332205</td>\n",
              "    </tr>\n",
              "    <tr>\n",
              "      <th>78</th>\n",
              "      <td>3.401197</td>\n",
              "    </tr>\n",
              "    <tr>\n",
              "      <th>109</th>\n",
              "      <td>3.624341</td>\n",
              "    </tr>\n",
              "    <tr>\n",
              "      <th>128</th>\n",
              "      <td>3.344039</td>\n",
              "    </tr>\n",
              "    <tr>\n",
              "      <th>208</th>\n",
              "      <td>2.890372</td>\n",
              "    </tr>\n",
              "  </tbody>\n",
              "</table>\n",
              "</div>"
            ],
            "text/plain": [
              "     AREA_PRO_ROOM\n",
              "5         3.332205\n",
              "78        3.401197\n",
              "109       3.624341\n",
              "128       3.344039\n",
              "208       2.890372"
            ]
          },
          "metadata": {
            "tags": []
          },
          "execution_count": 909
        }
      ]
    },
    {
      "metadata": {
        "id": "WDyckWh7lwBT",
        "colab_type": "code",
        "colab": {
          "base_uri": "https://localhost:8080/",
          "height": 204
        },
        "outputId": "60996609-b81f-457a-b2a9-2c9989518fe0"
      },
      "cell_type": "code",
      "source": [
        "y_train.head()"
      ],
      "execution_count": 910,
      "outputs": [
        {
          "output_type": "execute_result",
          "data": {
            "text/html": [
              "<div>\n",
              "<style scoped>\n",
              "    .dataframe tbody tr th:only-of-type {\n",
              "        vertical-align: middle;\n",
              "    }\n",
              "\n",
              "    .dataframe tbody tr th {\n",
              "        vertical-align: top;\n",
              "    }\n",
              "\n",
              "    .dataframe thead th {\n",
              "        text-align: right;\n",
              "    }\n",
              "</style>\n",
              "<table border=\"1\" class=\"dataframe\">\n",
              "  <thead>\n",
              "    <tr style=\"text-align: right;\">\n",
              "      <th></th>\n",
              "      <th>PRICE_PRO_AREA</th>\n",
              "    </tr>\n",
              "  </thead>\n",
              "  <tbody>\n",
              "    <tr>\n",
              "      <th>10899</th>\n",
              "      <td>7.026539</td>\n",
              "    </tr>\n",
              "    <tr>\n",
              "      <th>191645</th>\n",
              "      <td>6.580209</td>\n",
              "    </tr>\n",
              "    <tr>\n",
              "      <th>100365</th>\n",
              "      <td>7.522941</td>\n",
              "    </tr>\n",
              "    <tr>\n",
              "      <th>144447</th>\n",
              "      <td>8.426736</td>\n",
              "    </tr>\n",
              "    <tr>\n",
              "      <th>120416</th>\n",
              "      <td>7.706921</td>\n",
              "    </tr>\n",
              "  </tbody>\n",
              "</table>\n",
              "</div>"
            ],
            "text/plain": [
              "        PRICE_PRO_AREA\n",
              "10899         7.026539\n",
              "191645        6.580209\n",
              "100365        7.522941\n",
              "144447        8.426736\n",
              "120416        7.706921"
            ]
          },
          "metadata": {
            "tags": []
          },
          "execution_count": 910
        }
      ]
    },
    {
      "metadata": {
        "id": "KNqPapJAlwG1",
        "colab_type": "code",
        "colab": {
          "base_uri": "https://localhost:8080/",
          "height": 204
        },
        "outputId": "fd0a06ee-d664-45f3-b2e1-83639cef61f7"
      },
      "cell_type": "code",
      "source": [
        "y_eval.head()"
      ],
      "execution_count": 911,
      "outputs": [
        {
          "output_type": "execute_result",
          "data": {
            "text/html": [
              "<div>\n",
              "<style scoped>\n",
              "    .dataframe tbody tr th:only-of-type {\n",
              "        vertical-align: middle;\n",
              "    }\n",
              "\n",
              "    .dataframe tbody tr th {\n",
              "        vertical-align: top;\n",
              "    }\n",
              "\n",
              "    .dataframe thead th {\n",
              "        text-align: right;\n",
              "    }\n",
              "</style>\n",
              "<table border=\"1\" class=\"dataframe\">\n",
              "  <thead>\n",
              "    <tr style=\"text-align: right;\">\n",
              "      <th></th>\n",
              "      <th>PRICE_PRO_AREA</th>\n",
              "    </tr>\n",
              "  </thead>\n",
              "  <tbody>\n",
              "    <tr>\n",
              "      <th>212492</th>\n",
              "      <td>7.859764</td>\n",
              "    </tr>\n",
              "    <tr>\n",
              "      <th>73088</th>\n",
              "      <td>7.199892</td>\n",
              "    </tr>\n",
              "    <tr>\n",
              "      <th>30512</th>\n",
              "      <td>7.615686</td>\n",
              "    </tr>\n",
              "    <tr>\n",
              "      <th>70397</th>\n",
              "      <td>8.191316</td>\n",
              "    </tr>\n",
              "    <tr>\n",
              "      <th>210499</th>\n",
              "      <td>8.357967</td>\n",
              "    </tr>\n",
              "  </tbody>\n",
              "</table>\n",
              "</div>"
            ],
            "text/plain": [
              "        PRICE_PRO_AREA\n",
              "212492        7.859764\n",
              "73088         7.199892\n",
              "30512         7.615686\n",
              "70397         8.191316\n",
              "210499        8.357967"
            ]
          },
          "metadata": {
            "tags": []
          },
          "execution_count": 911
        }
      ]
    },
    {
      "metadata": {
        "id": "4FR6Ujg1lwL6",
        "colab_type": "code",
        "colab": {
          "base_uri": "https://localhost:8080/",
          "height": 204
        },
        "outputId": "b1cbd4f0-231f-4620-ebf1-f7fca2955b1e"
      },
      "cell_type": "code",
      "source": [
        "y_test.head()"
      ],
      "execution_count": 912,
      "outputs": [
        {
          "output_type": "execute_result",
          "data": {
            "text/html": [
              "<div>\n",
              "<style scoped>\n",
              "    .dataframe tbody tr th:only-of-type {\n",
              "        vertical-align: middle;\n",
              "    }\n",
              "\n",
              "    .dataframe tbody tr th {\n",
              "        vertical-align: top;\n",
              "    }\n",
              "\n",
              "    .dataframe thead th {\n",
              "        text-align: right;\n",
              "    }\n",
              "</style>\n",
              "<table border=\"1\" class=\"dataframe\">\n",
              "  <thead>\n",
              "    <tr style=\"text-align: right;\">\n",
              "      <th></th>\n",
              "      <th>PRICE_PRO_AREA</th>\n",
              "    </tr>\n",
              "  </thead>\n",
              "  <tbody>\n",
              "    <tr>\n",
              "      <th>5</th>\n",
              "      <td>7.666556</td>\n",
              "    </tr>\n",
              "    <tr>\n",
              "      <th>78</th>\n",
              "      <td>7.995194</td>\n",
              "    </tr>\n",
              "    <tr>\n",
              "      <th>109</th>\n",
              "      <td>8.444622</td>\n",
              "    </tr>\n",
              "    <tr>\n",
              "      <th>128</th>\n",
              "      <td>8.526561</td>\n",
              "    </tr>\n",
              "    <tr>\n",
              "      <th>208</th>\n",
              "      <td>7.619252</td>\n",
              "    </tr>\n",
              "  </tbody>\n",
              "</table>\n",
              "</div>"
            ],
            "text/plain": [
              "     PRICE_PRO_AREA\n",
              "5          7.666556\n",
              "78         7.995194\n",
              "109        8.444622\n",
              "128        8.526561\n",
              "208        7.619252"
            ]
          },
          "metadata": {
            "tags": []
          },
          "execution_count": 912
        }
      ]
    },
    {
      "metadata": {
        "id": "udjYU2TaCClX",
        "colab_type": "code",
        "colab": {}
      },
      "cell_type": "code",
      "source": [
        "def input_fn(features, targets, batch_size=1, shuffle=True, num_epochs=None):\n",
        "    \"\"\"Trains a linear regression model of one feature.\n",
        "  \n",
        "    Args:\n",
        "      features: pandas DataFrame of features\n",
        "      targets: pandas DataFrame of targets\n",
        "      batch_size: Size of batches to be passed to the model\n",
        "      shuffle: True or False. Whether to shuffle the data.\n",
        "      num_epochs: Number of epochs for which data should be repeated. None = repeat indefinitely\n",
        "    Returns:\n",
        "      Tuple of (features, labels) for next data batch\n",
        "    \"\"\"\n",
        " \n",
        "    # Construct a dataset, and configure batching/repeating\n",
        "    features = {key:np.array(value) for key,value in dict(features).items()} \n",
        "  \n",
        "    ds = Dataset.from_tensor_slices((features, targets))\n",
        "    ds = ds.batch(batch_size).repeat(num_epochs)\n",
        "    \n",
        "    # Shuffle the data, if specified\n",
        "    if shuffle:\n",
        "      ds = ds.shuffle(buffer_size=10000)\n",
        "    \n",
        "    # Return the next batch of data\n",
        "    features, labels = ds.make_one_shot_iterator().get_next()\n",
        "    return features, labels"
      ],
      "execution_count": 0,
      "outputs": []
    },
    {
      "metadata": {
        "id": "XauzWrcNCh0J",
        "colab_type": "code",
        "colab": {}
      },
      "cell_type": "code",
      "source": [
        "train_input_fn = lambda: input_fn(x_train, y_train)"
      ],
      "execution_count": 0,
      "outputs": []
    },
    {
      "metadata": {
        "id": "MUKqyBqocZJ_",
        "colab_type": "code",
        "colab": {}
      },
      "cell_type": "code",
      "source": [
        "train_predict_input_fn = lambda: input_fn(x_train, y_train, num_epochs=1, shuffle=False)"
      ],
      "execution_count": 0,
      "outputs": []
    },
    {
      "metadata": {
        "id": "_QCb9zcOCf3A",
        "colab_type": "code",
        "colab": {}
      },
      "cell_type": "code",
      "source": [
        "eval_predict_input_fn = lambda: input_fn(x_eval, y_eval, num_epochs=1, shuffle=False)"
      ],
      "execution_count": 0,
      "outputs": []
    },
    {
      "metadata": {
        "id": "YXjdJK8zbfW5",
        "colab_type": "code",
        "colab": {}
      },
      "cell_type": "code",
      "source": [
        "test_predict_input_fun = lambda: input_fn(x_test, y_test, num_epochs=1, shuffle=False)"
      ],
      "execution_count": 0,
      "outputs": []
    },
    {
      "metadata": {
        "id": "O4Fyeywlz4dm",
        "colab_type": "code",
        "colab": {}
      },
      "cell_type": "code",
      "source": [
        "feature_cols = [\n",
        "  tf.feature_column.numeric_column(\"AREA_PRO_ROOM\") \n",
        "]"
      ],
      "execution_count": 0,
      "outputs": []
    },
    {
      "metadata": {
        "id": "MOZGWNtE7r56",
        "colab_type": "code",
        "colab": {}
      },
      "cell_type": "code",
      "source": [
        "train_optimizer = tf.train.GradientDescentOptimizer(learning_rate=LEARNING_RATE)\n",
        "train_optimizer = tf.contrib.estimator.clip_gradients_by_norm(train_optimizer, 5.0)"
      ],
      "execution_count": 0,
      "outputs": []
    },
    {
      "metadata": {
        "id": "wR1wAHC0b8R5",
        "colab_type": "code",
        "colab": {
          "base_uri": "https://localhost:8080/",
          "height": 88
        },
        "outputId": "2a9f8b65-650a-4d93-d774-cca16aa40dab"
      },
      "cell_type": "code",
      "source": [
        "model = tf.estimator.LinearRegressor(\n",
        "    feature_columns = feature_cols,\n",
        "    optimizer = train_optimizer\n",
        ")"
      ],
      "execution_count": 920,
      "outputs": [
        {
          "output_type": "stream",
          "text": [
            "INFO:tensorflow:Using default config.\n",
            "WARNING:tensorflow:Using temporary folder as model directory: /tmp/tmplrmpkd0k\n",
            "INFO:tensorflow:Using config: {'_model_dir': '/tmp/tmplrmpkd0k', '_tf_random_seed': None, '_save_summary_steps': 100, '_save_checkpoints_steps': None, '_save_checkpoints_secs': 600, '_session_config': None, '_keep_checkpoint_max': 5, '_keep_checkpoint_every_n_hours': 10000, '_log_step_count_steps': 100, '_train_distribute': None, '_device_fn': None, '_service': None, '_cluster_spec': <tensorflow.python.training.server_lib.ClusterSpec object at 0x7f030e0e9400>, '_task_type': 'worker', '_task_id': 0, '_global_id_in_cluster': 0, '_master': '', '_evaluation_master': '', '_is_chief': True, '_num_ps_replicas': 0, '_num_worker_replicas': 1}\n"
          ],
          "name": "stdout"
        }
      ]
    },
    {
      "metadata": {
        "id": "xibCYiz3by1B",
        "colab_type": "code",
        "colab": {
          "base_uri": "https://localhost:8080/",
          "height": 5508
        },
        "outputId": "a1e84419-2e0c-49f0-e009-45ef94fb56af"
      },
      "cell_type": "code",
      "source": [
        "for period in range(0, PERIODS):\n",
        "  model.train(input_fn=train_input_fn, steps=STEPS)\n",
        "  train_predict = model.predict(input_fn=train_predict_input_fn)\n",
        "  eval_predict = model.predict(input_fn=eval_predict_input_fn)\n",
        "  print(\"-\" * 100)\n",
        "  model.evaluate(steps=STEPS, input_fn=train_predict_input_fn)\n",
        "  model.evaluate(steps=STEPS, input_fn=eval_predict_input_fn) \n",
        "  print(\"-\" * 100)\n",
        "  \n",
        "  train_predict = np.array([item['predictions'][0] for item in train_predict])\n",
        "  eval_predict = np.array([item['predictions'][0] for item in eval_predict])\n",
        "  \n",
        "  # Compute loss for train and evaluation\n",
        "  train_rmse = math.sqrt(\n",
        "        sklearn.metrics.mean_squared_error(train_predict, y_train))\n",
        "  eval_rmse = math.sqrt(\n",
        "        sklearn.metrics.mean_squared_error(eval_predict, y_eval))\n",
        "  \n",
        "  print(\"*\" * 100)\n",
        "  print(\"*Period[rmse training] %02d : %0.2f\" % (period, train_rmse))\n",
        "  print(\"*Period[rmse eval] %02d : %0.2f\" % (period, eval_rmse))  \n",
        "  print(\"*\" * 100)"
      ],
      "execution_count": 0,
      "outputs": [
        {
          "output_type": "stream",
          "text": [
            "INFO:tensorflow:Calling model_fn.\n",
            "INFO:tensorflow:Done calling model_fn.\n",
            "INFO:tensorflow:Create CheckpointSaverHook.\n",
            "INFO:tensorflow:Graph was finalized.\n",
            "INFO:tensorflow:Running local_init_op.\n",
            "INFO:tensorflow:Done running local_init_op.\n",
            "INFO:tensorflow:Saving checkpoints for 0 into /tmp/tmplrmpkd0k/model.ckpt.\n",
            "INFO:tensorflow:loss = 18.53359, step = 0\n",
            "INFO:tensorflow:global_step/sec: 406.184\n",
            "INFO:tensorflow:loss = 63.965603, step = 100 (0.251 sec)\n",
            "INFO:tensorflow:global_step/sec: 448.957\n",
            "INFO:tensorflow:loss = 59.461277, step = 200 (0.223 sec)\n",
            "INFO:tensorflow:global_step/sec: 474.253\n",
            "INFO:tensorflow:loss = 61.807526, step = 300 (0.207 sec)\n",
            "INFO:tensorflow:global_step/sec: 499.908\n",
            "INFO:tensorflow:loss = 67.452576, step = 400 (0.201 sec)\n",
            "INFO:tensorflow:global_step/sec: 526.878\n",
            "INFO:tensorflow:loss = 49.21928, step = 500 (0.191 sec)\n",
            "INFO:tensorflow:global_step/sec: 545.251\n",
            "INFO:tensorflow:loss = 51.826244, step = 600 (0.184 sec)\n",
            "INFO:tensorflow:global_step/sec: 450.936\n",
            "INFO:tensorflow:loss = 45.118767, step = 700 (0.223 sec)\n",
            "INFO:tensorflow:global_step/sec: 411.137\n",
            "INFO:tensorflow:loss = 58.42178, step = 800 (0.243 sec)\n",
            "INFO:tensorflow:global_step/sec: 434.446\n",
            "INFO:tensorflow:loss = 61.584106, step = 900 (0.229 sec)\n",
            "INFO:tensorflow:global_step/sec: 441.124\n",
            "INFO:tensorflow:loss = 57.778454, step = 1000 (0.228 sec)\n",
            "INFO:tensorflow:global_step/sec: 437.63\n",
            "INFO:tensorflow:loss = 51.80206, step = 1100 (0.228 sec)\n",
            "INFO:tensorflow:global_step/sec: 420.85\n",
            "INFO:tensorflow:loss = 62.35476, step = 1200 (0.237 sec)\n",
            "INFO:tensorflow:global_step/sec: 434.244\n",
            "INFO:tensorflow:loss = 56.9379, step = 1300 (0.230 sec)\n",
            "INFO:tensorflow:global_step/sec: 408.759\n",
            "INFO:tensorflow:loss = 77.35308, step = 1400 (0.244 sec)\n",
            "INFO:tensorflow:global_step/sec: 443.726\n",
            "INFO:tensorflow:loss = 46.594547, step = 1500 (0.223 sec)\n",
            "INFO:tensorflow:global_step/sec: 439.029\n",
            "INFO:tensorflow:loss = 72.49742, step = 1600 (0.231 sec)\n",
            "INFO:tensorflow:global_step/sec: 439.024\n",
            "INFO:tensorflow:loss = 56.352356, step = 1700 (0.225 sec)\n",
            "INFO:tensorflow:global_step/sec: 446.481\n",
            "INFO:tensorflow:loss = 57.98873, step = 1800 (0.224 sec)\n",
            "INFO:tensorflow:global_step/sec: 417.372\n",
            "INFO:tensorflow:loss = 67.346596, step = 1900 (0.240 sec)\n",
            "INFO:tensorflow:global_step/sec: 449.383\n",
            "INFO:tensorflow:loss = 38.554405, step = 2000 (0.225 sec)\n",
            "INFO:tensorflow:global_step/sec: 443.159\n",
            "INFO:tensorflow:loss = 57.27146, step = 2100 (0.225 sec)\n",
            "INFO:tensorflow:global_step/sec: 441.528\n",
            "INFO:tensorflow:loss = 57.871128, step = 2200 (0.228 sec)\n",
            "INFO:tensorflow:global_step/sec: 435.543\n",
            "INFO:tensorflow:loss = 47.38241, step = 2300 (0.230 sec)\n",
            "INFO:tensorflow:global_step/sec: 450.205\n",
            "INFO:tensorflow:loss = 56.91745, step = 2400 (0.222 sec)\n",
            "INFO:tensorflow:global_step/sec: 398.357\n",
            "INFO:tensorflow:loss = 58.976086, step = 2500 (0.251 sec)\n",
            "INFO:tensorflow:global_step/sec: 431.458\n",
            "INFO:tensorflow:loss = 47.917484, step = 2600 (0.233 sec)\n",
            "INFO:tensorflow:global_step/sec: 434.512\n",
            "INFO:tensorflow:loss = 49.291996, step = 2700 (0.230 sec)\n",
            "INFO:tensorflow:global_step/sec: 441.811\n",
            "INFO:tensorflow:loss = 62.792274, step = 2800 (0.227 sec)\n"
          ],
          "name": "stdout"
        },
        {
          "output_type": "stream",
          "text": [
            "INFO:tensorflow:global_step/sec: 436.621\n",
            "INFO:tensorflow:loss = 74.1975, step = 2900 (0.228 sec)\n",
            "INFO:tensorflow:global_step/sec: 408.45\n",
            "INFO:tensorflow:loss = 44.185192, step = 3000 (0.245 sec)\n",
            "INFO:tensorflow:global_step/sec: 430.85\n",
            "INFO:tensorflow:loss = 49.5326, step = 3100 (0.232 sec)\n",
            "INFO:tensorflow:global_step/sec: 431.715\n",
            "INFO:tensorflow:loss = 59.2187, step = 3200 (0.233 sec)\n",
            "INFO:tensorflow:global_step/sec: 438.124\n",
            "INFO:tensorflow:loss = 60.195595, step = 3300 (0.225 sec)\n",
            "INFO:tensorflow:global_step/sec: 438.943\n",
            "INFO:tensorflow:loss = 51.192253, step = 3400 (0.228 sec)\n",
            "INFO:tensorflow:global_step/sec: 387.412\n",
            "INFO:tensorflow:loss = 28.352034, step = 3500 (0.258 sec)\n",
            "INFO:tensorflow:global_step/sec: 440.965\n",
            "INFO:tensorflow:loss = 49.76079, step = 3600 (0.230 sec)\n",
            "INFO:tensorflow:global_step/sec: 425.883\n",
            "INFO:tensorflow:loss = 58.589348, step = 3700 (0.234 sec)\n",
            "INFO:tensorflow:global_step/sec: 438.165\n",
            "INFO:tensorflow:loss = 28.465858, step = 3800 (0.229 sec)\n",
            "INFO:tensorflow:global_step/sec: 444.043\n",
            "INFO:tensorflow:loss = 41.26373, step = 3900 (0.226 sec)\n",
            "INFO:tensorflow:global_step/sec: 439.65\n",
            "INFO:tensorflow:loss = 64.59354, step = 4000 (0.227 sec)\n",
            "INFO:tensorflow:global_step/sec: 406.671\n",
            "INFO:tensorflow:loss = 55.221104, step = 4100 (0.245 sec)\n",
            "INFO:tensorflow:global_step/sec: 436.714\n",
            "INFO:tensorflow:loss = 50.64887, step = 4200 (0.229 sec)\n",
            "INFO:tensorflow:global_step/sec: 424.216\n",
            "INFO:tensorflow:loss = 51.569916, step = 4300 (0.236 sec)\n",
            "INFO:tensorflow:global_step/sec: 434.765\n",
            "INFO:tensorflow:loss = 60.18526, step = 4400 (0.229 sec)\n",
            "INFO:tensorflow:global_step/sec: 442.061\n",
            "INFO:tensorflow:loss = 47.46711, step = 4500 (0.227 sec)\n",
            "INFO:tensorflow:global_step/sec: 419.144\n",
            "INFO:tensorflow:loss = 54.933754, step = 4600 (0.236 sec)\n",
            "INFO:tensorflow:global_step/sec: 423.101\n",
            "INFO:tensorflow:loss = 44.78865, step = 4700 (0.241 sec)\n",
            "INFO:tensorflow:global_step/sec: 415.196\n",
            "INFO:tensorflow:loss = 66.367195, step = 4800 (0.243 sec)\n",
            "INFO:tensorflow:global_step/sec: 442.368\n",
            "INFO:tensorflow:loss = 57.87009, step = 4900 (0.222 sec)\n",
            "INFO:tensorflow:Saving checkpoints for 5000 into /tmp/tmplrmpkd0k/model.ckpt.\n",
            "INFO:tensorflow:Loss for final step: 62.204876.\n",
            "----------------------------------------------------------------------------------------------------\n",
            "INFO:tensorflow:Calling model_fn.\n",
            "INFO:tensorflow:Done calling model_fn.\n",
            "INFO:tensorflow:Starting evaluation at 2018-08-03-15:11:18\n",
            "INFO:tensorflow:Graph was finalized.\n",
            "INFO:tensorflow:Restoring parameters from /tmp/tmplrmpkd0k/model.ckpt-5000\n",
            "INFO:tensorflow:Running local_init_op.\n",
            "INFO:tensorflow:Done running local_init_op.\n",
            "INFO:tensorflow:Evaluation [500/5000]\n",
            "INFO:tensorflow:Evaluation [1000/5000]\n",
            "INFO:tensorflow:Evaluation [1500/5000]\n",
            "INFO:tensorflow:Evaluation [2000/5000]\n",
            "INFO:tensorflow:Evaluation [2500/5000]\n",
            "INFO:tensorflow:Evaluation [3000/5000]\n",
            "INFO:tensorflow:Evaluation [3500/5000]\n",
            "INFO:tensorflow:Evaluation [4000/5000]\n",
            "INFO:tensorflow:Evaluation [4500/5000]\n",
            "INFO:tensorflow:Evaluation [5000/5000]\n",
            "INFO:tensorflow:Finished evaluation at 2018-08-03-15:11:26\n"
          ],
          "name": "stdout"
        },
        {
          "output_type": "stream",
          "text": [
            "INFO:tensorflow:Saving dict for global step 5000: average_loss = 55.61325, global_step = 5000, loss = 55.61325\n",
            "INFO:tensorflow:Saving 'checkpoint_path' summary for global step 5000: /tmp/tmplrmpkd0k/model.ckpt-5000\n",
            "INFO:tensorflow:Calling model_fn.\n",
            "INFO:tensorflow:Done calling model_fn.\n",
            "INFO:tensorflow:Starting evaluation at 2018-08-03-15:11:26\n",
            "INFO:tensorflow:Graph was finalized.\n",
            "INFO:tensorflow:Restoring parameters from /tmp/tmplrmpkd0k/model.ckpt-5000\n",
            "INFO:tensorflow:Running local_init_op.\n",
            "INFO:tensorflow:Done running local_init_op.\n",
            "INFO:tensorflow:Evaluation [500/5000]\n",
            "INFO:tensorflow:Evaluation [1000/5000]\n",
            "INFO:tensorflow:Evaluation [1500/5000]\n",
            "INFO:tensorflow:Evaluation [2000/5000]\n",
            "INFO:tensorflow:Evaluation [2500/5000]\n",
            "INFO:tensorflow:Evaluation [3000/5000]\n",
            "INFO:tensorflow:Evaluation [3500/5000]\n",
            "INFO:tensorflow:Evaluation [4000/5000]\n",
            "INFO:tensorflow:Evaluation [4500/5000]\n",
            "INFO:tensorflow:Evaluation [5000/5000]\n",
            "INFO:tensorflow:Finished evaluation at 2018-08-03-15:11:35\n",
            "INFO:tensorflow:Saving dict for global step 5000: average_loss = 55.53632, global_step = 5000, loss = 55.53632\n",
            "INFO:tensorflow:Saving 'checkpoint_path' summary for global step 5000: /tmp/tmplrmpkd0k/model.ckpt-5000\n",
            "----------------------------------------------------------------------------------------------------\n",
            "INFO:tensorflow:Calling model_fn.\n",
            "INFO:tensorflow:Done calling model_fn.\n",
            "INFO:tensorflow:Graph was finalized.\n",
            "INFO:tensorflow:Restoring parameters from /tmp/tmplrmpkd0k/model.ckpt-5000\n",
            "INFO:tensorflow:Running local_init_op.\n",
            "INFO:tensorflow:Done running local_init_op.\n",
            "INFO:tensorflow:Calling model_fn.\n",
            "INFO:tensorflow:Done calling model_fn.\n",
            "INFO:tensorflow:Graph was finalized.\n",
            "INFO:tensorflow:Restoring parameters from /tmp/tmplrmpkd0k/model.ckpt-5000\n",
            "INFO:tensorflow:Running local_init_op.\n",
            "INFO:tensorflow:Done running local_init_op.\n",
            "****************************************************************************************************\n",
            "*Period[rmse training] 00 : 7.47\n",
            "*Period[rmse eval] 00 : 7.47\n",
            "****************************************************************************************************\n",
            "INFO:tensorflow:Calling model_fn.\n",
            "INFO:tensorflow:Done calling model_fn.\n",
            "INFO:tensorflow:Create CheckpointSaverHook.\n",
            "INFO:tensorflow:Graph was finalized.\n",
            "INFO:tensorflow:Restoring parameters from /tmp/tmplrmpkd0k/model.ckpt-5000\n",
            "INFO:tensorflow:Running local_init_op.\n",
            "INFO:tensorflow:Done running local_init_op.\n",
            "INFO:tensorflow:Saving checkpoints for 5000 into /tmp/tmplrmpkd0k/model.ckpt.\n",
            "INFO:tensorflow:loss = 51.01397, step = 5000\n",
            "INFO:tensorflow:global_step/sec: 365.243\n",
            "INFO:tensorflow:loss = 30.822231, step = 5100 (0.279 sec)\n",
            "INFO:tensorflow:global_step/sec: 413.775\n",
            "INFO:tensorflow:loss = 72.85327, step = 5200 (0.238 sec)\n",
            "INFO:tensorflow:global_step/sec: 419.402\n",
            "INFO:tensorflow:loss = 53.595875, step = 5300 (0.242 sec)\n",
            "INFO:tensorflow:global_step/sec: 437.744\n",
            "INFO:tensorflow:loss = 59.461365, step = 5400 (0.229 sec)\n",
            "INFO:tensorflow:global_step/sec: 431.284\n",
            "INFO:tensorflow:loss = 47.924824, step = 5500 (0.231 sec)\n",
            "INFO:tensorflow:global_step/sec: 442.229\n",
            "INFO:tensorflow:loss = 48.314507, step = 5600 (0.226 sec)\n",
            "INFO:tensorflow:global_step/sec: 438.047\n",
            "INFO:tensorflow:loss = 52.079872, step = 5700 (0.228 sec)\n",
            "INFO:tensorflow:global_step/sec: 394.001\n"
          ],
          "name": "stdout"
        },
        {
          "output_type": "stream",
          "text": [
            "INFO:tensorflow:loss = 52.8355, step = 5800 (0.255 sec)\n",
            "INFO:tensorflow:global_step/sec: 443.209\n",
            "INFO:tensorflow:loss = 71.32581, step = 5900 (0.222 sec)\n",
            "INFO:tensorflow:global_step/sec: 433.756\n",
            "INFO:tensorflow:loss = 68.278015, step = 6000 (0.236 sec)\n",
            "INFO:tensorflow:global_step/sec: 427.361\n",
            "INFO:tensorflow:loss = 70.71507, step = 6100 (0.231 sec)\n",
            "INFO:tensorflow:global_step/sec: 429.249\n",
            "INFO:tensorflow:loss = 52.893864, step = 6200 (0.234 sec)\n",
            "INFO:tensorflow:global_step/sec: 393.317\n",
            "INFO:tensorflow:loss = 65.32029, step = 6300 (0.254 sec)\n",
            "INFO:tensorflow:global_step/sec: 443.522\n",
            "INFO:tensorflow:loss = 42.499123, step = 6400 (0.225 sec)\n",
            "INFO:tensorflow:global_step/sec: 438.035\n",
            "INFO:tensorflow:loss = 43.61758, step = 6500 (0.227 sec)\n",
            "INFO:tensorflow:global_step/sec: 434.144\n",
            "INFO:tensorflow:loss = 40.248398, step = 6600 (0.230 sec)\n",
            "INFO:tensorflow:global_step/sec: 439.781\n",
            "INFO:tensorflow:loss = 29.298748, step = 6700 (0.227 sec)\n",
            "INFO:tensorflow:global_step/sec: 407.275\n",
            "INFO:tensorflow:loss = 59.7751, step = 6800 (0.250 sec)\n",
            "INFO:tensorflow:global_step/sec: 427.619\n",
            "INFO:tensorflow:loss = 43.768986, step = 6900 (0.231 sec)\n",
            "INFO:tensorflow:global_step/sec: 432.861\n",
            "INFO:tensorflow:loss = 48.383644, step = 7000 (0.230 sec)\n",
            "INFO:tensorflow:global_step/sec: 439.562\n",
            "INFO:tensorflow:loss = 69.73154, step = 7100 (0.227 sec)\n",
            "INFO:tensorflow:global_step/sec: 438.254\n",
            "INFO:tensorflow:loss = 46.01704, step = 7200 (0.228 sec)\n",
            "INFO:tensorflow:global_step/sec: 438.737\n",
            "INFO:tensorflow:loss = 62.042988, step = 7300 (0.229 sec)\n",
            "INFO:tensorflow:global_step/sec: 397.064\n",
            "INFO:tensorflow:loss = 72.78355, step = 7400 (0.248 sec)\n",
            "INFO:tensorflow:global_step/sec: 441.32\n",
            "INFO:tensorflow:loss = 50.13916, step = 7500 (0.227 sec)\n",
            "INFO:tensorflow:global_step/sec: 441.116\n",
            "INFO:tensorflow:loss = 57.892654, step = 7600 (0.230 sec)\n",
            "INFO:tensorflow:global_step/sec: 431.543\n",
            "INFO:tensorflow:loss = 56.556454, step = 7700 (0.231 sec)\n",
            "INFO:tensorflow:global_step/sec: 433.851\n",
            "INFO:tensorflow:loss = 52.996014, step = 7800 (0.232 sec)\n",
            "INFO:tensorflow:global_step/sec: 400.454\n",
            "INFO:tensorflow:loss = 53.77161, step = 7900 (0.249 sec)\n",
            "INFO:tensorflow:global_step/sec: 428.107\n",
            "INFO:tensorflow:loss = 58.513054, step = 8000 (0.233 sec)\n",
            "INFO:tensorflow:global_step/sec: 433.197\n",
            "INFO:tensorflow:loss = 61.949905, step = 8100 (0.231 sec)\n",
            "INFO:tensorflow:global_step/sec: 433.584\n",
            "INFO:tensorflow:loss = 71.63503, step = 8200 (0.231 sec)\n",
            "INFO:tensorflow:global_step/sec: 431.556\n",
            "INFO:tensorflow:loss = 53.30243, step = 8300 (0.231 sec)\n",
            "INFO:tensorflow:global_step/sec: 420.318\n",
            "INFO:tensorflow:loss = 54.034927, step = 8400 (0.236 sec)\n",
            "INFO:tensorflow:global_step/sec: 405.42\n",
            "INFO:tensorflow:loss = 56.258354, step = 8500 (0.248 sec)\n",
            "INFO:tensorflow:global_step/sec: 433.395\n",
            "INFO:tensorflow:loss = 43.60347, step = 8600 (0.230 sec)\n",
            "INFO:tensorflow:global_step/sec: 436.141\n",
            "INFO:tensorflow:loss = 59.656876, step = 8700 (0.231 sec)\n",
            "INFO:tensorflow:global_step/sec: 435.927\n",
            "INFO:tensorflow:loss = 49.363136, step = 8800 (0.229 sec)\n",
            "INFO:tensorflow:global_step/sec: 439.259\n",
            "INFO:tensorflow:loss = 39.184383, step = 8900 (0.229 sec)\n"
          ],
          "name": "stdout"
        },
        {
          "output_type": "stream",
          "text": [
            "INFO:tensorflow:global_step/sec: 404.717\n",
            "INFO:tensorflow:loss = 46.796368, step = 9000 (0.247 sec)\n",
            "INFO:tensorflow:global_step/sec: 432.897\n",
            "INFO:tensorflow:loss = 49.904976, step = 9100 (0.229 sec)\n",
            "INFO:tensorflow:global_step/sec: 441.974\n",
            "INFO:tensorflow:loss = 39.213673, step = 9200 (0.226 sec)\n",
            "INFO:tensorflow:global_step/sec: 458.649\n",
            "INFO:tensorflow:loss = 65.73423, step = 9300 (0.221 sec)\n",
            "INFO:tensorflow:global_step/sec: 446.896\n",
            "INFO:tensorflow:loss = 53.03942, step = 9400 (0.220 sec)\n",
            "INFO:tensorflow:global_step/sec: 407.389\n",
            "INFO:tensorflow:loss = 41.68112, step = 9500 (0.249 sec)\n",
            "INFO:tensorflow:global_step/sec: 434.991\n",
            "INFO:tensorflow:loss = 47.129997, step = 9600 (0.229 sec)\n",
            "INFO:tensorflow:global_step/sec: 437.98\n",
            "INFO:tensorflow:loss = 51.583427, step = 9700 (0.227 sec)\n",
            "INFO:tensorflow:global_step/sec: 441.891\n",
            "INFO:tensorflow:loss = 68.39162, step = 9800 (0.229 sec)\n",
            "INFO:tensorflow:global_step/sec: 426.497\n",
            "INFO:tensorflow:loss = 49.01802, step = 9900 (0.231 sec)\n",
            "INFO:tensorflow:Saving checkpoints for 10000 into /tmp/tmplrmpkd0k/model.ckpt.\n",
            "INFO:tensorflow:Loss for final step: 45.537952.\n",
            "----------------------------------------------------------------------------------------------------\n",
            "INFO:tensorflow:Calling model_fn.\n",
            "INFO:tensorflow:Done calling model_fn.\n",
            "INFO:tensorflow:Starting evaluation at 2018-08-03-15:13:37\n",
            "INFO:tensorflow:Graph was finalized.\n",
            "INFO:tensorflow:Restoring parameters from /tmp/tmplrmpkd0k/model.ckpt-10000\n",
            "INFO:tensorflow:Running local_init_op.\n",
            "INFO:tensorflow:Done running local_init_op.\n",
            "INFO:tensorflow:Evaluation [500/5000]\n",
            "INFO:tensorflow:Evaluation [1000/5000]\n",
            "INFO:tensorflow:Evaluation [1500/5000]\n",
            "INFO:tensorflow:Evaluation [2000/5000]\n",
            "INFO:tensorflow:Evaluation [2500/5000]\n",
            "INFO:tensorflow:Evaluation [3000/5000]\n",
            "INFO:tensorflow:Evaluation [3500/5000]\n",
            "INFO:tensorflow:Evaluation [4000/5000]\n",
            "INFO:tensorflow:Evaluation [4500/5000]\n",
            "INFO:tensorflow:Evaluation [5000/5000]\n",
            "INFO:tensorflow:Finished evaluation at 2018-08-03-15:13:45\n",
            "INFO:tensorflow:Saving dict for global step 10000: average_loss = 54.29232, global_step = 10000, loss = 54.29232\n",
            "INFO:tensorflow:Saving 'checkpoint_path' summary for global step 10000: /tmp/tmplrmpkd0k/model.ckpt-10000\n",
            "INFO:tensorflow:Calling model_fn.\n",
            "INFO:tensorflow:Done calling model_fn.\n",
            "INFO:tensorflow:Starting evaluation at 2018-08-03-15:13:45\n",
            "INFO:tensorflow:Graph was finalized.\n",
            "INFO:tensorflow:Restoring parameters from /tmp/tmplrmpkd0k/model.ckpt-10000\n",
            "INFO:tensorflow:Running local_init_op.\n",
            "INFO:tensorflow:Done running local_init_op.\n",
            "INFO:tensorflow:Evaluation [500/5000]\n",
            "INFO:tensorflow:Evaluation [1000/5000]\n",
            "INFO:tensorflow:Evaluation [1500/5000]\n",
            "INFO:tensorflow:Evaluation [2000/5000]\n",
            "INFO:tensorflow:Evaluation [2500/5000]\n",
            "INFO:tensorflow:Evaluation [3000/5000]\n",
            "INFO:tensorflow:Evaluation [3500/5000]\n",
            "INFO:tensorflow:Evaluation [4000/5000]\n",
            "INFO:tensorflow:Evaluation [4500/5000]\n",
            "INFO:tensorflow:Evaluation [5000/5000]\n",
            "INFO:tensorflow:Finished evaluation at 2018-08-03-15:13:53\n",
            "INFO:tensorflow:Saving dict for global step 10000: average_loss = 54.212456, global_step = 10000, loss = 54.212456\n",
            "INFO:tensorflow:Saving 'checkpoint_path' summary for global step 10000: /tmp/tmplrmpkd0k/model.ckpt-10000\n"
          ],
          "name": "stdout"
        },
        {
          "output_type": "stream",
          "text": [
            "----------------------------------------------------------------------------------------------------\n",
            "INFO:tensorflow:Calling model_fn.\n",
            "INFO:tensorflow:Done calling model_fn.\n",
            "INFO:tensorflow:Graph was finalized.\n",
            "INFO:tensorflow:Restoring parameters from /tmp/tmplrmpkd0k/model.ckpt-10000\n",
            "INFO:tensorflow:Running local_init_op.\n",
            "INFO:tensorflow:Done running local_init_op.\n"
          ],
          "name": "stdout"
        }
      ]
    },
    {
      "metadata": {
        "id": "-2swRvPBdXvZ",
        "colab_type": "code",
        "colab": {}
      },
      "cell_type": "code",
      "source": [
        "test_predict = model.predict(input_fn=test_predict_input_fun)\n",
        "print(\"-\" * 100)\n",
        "model.evaluate(steps=STEPS, input_fn=test_predict_input_fun)\n",
        "print(\"-\" * 100)\n",
        "test_predict = np.array([item['predictions'][0] for item in test_predict])  \n",
        "test_rmse = math.sqrt(\n",
        "        sklearn.metrics.mean_squared_error(test_predict, y_test))\n",
        "print(\"*\" * 100)\n",
        "print(\"*Final[rmse test] %02d : %0.2f\" % (period, test_rmse))\n",
        "print(\"*\" * 100)"
      ],
      "execution_count": 0,
      "outputs": []
    },
    {
      "metadata": {
        "id": "GWsXI3wpeins",
        "colab_type": "code",
        "colab": {}
      },
      "cell_type": "code",
      "source": [
        "test_predict = np.array([item[\"predictions\"][0] for item in test_predict])"
      ],
      "execution_count": 0,
      "outputs": []
    },
    {
      "metadata": {
        "id": "Pjeh9JkoXkuw",
        "colab_type": "code",
        "colab": {}
      },
      "cell_type": "code",
      "source": [
        "test_predict"
      ],
      "execution_count": 0,
      "outputs": []
    }
  ]
}