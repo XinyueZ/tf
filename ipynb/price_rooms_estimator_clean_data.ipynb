{
  "nbformat": 4,
  "nbformat_minor": 0,
  "metadata": {
    "colab": {
      "name": "price_rooms_estimator_clean_data.ipynb",
      "version": "0.3.2",
      "provenance": [],
      "collapsed_sections": [],
      "include_colab_link": true
    },
    "kernelspec": {
      "name": "python3",
      "display_name": "Python 3"
    },
    "accelerator": "GPU"
  },
  "cells": [
    {
      "cell_type": "markdown",
      "metadata": {
        "id": "view-in-github",
        "colab_type": "text"
      },
      "source": [
        "[View in Colaboratory](https://colab.research.google.com/github/XinyueZ/tf/blob/master/ipynb/price_rooms_estimator_clean_data.ipynb)"
      ]
    },
    {
      "metadata": {
        "id": "IdHWJgQ0o-4T",
        "colab_type": "text"
      },
      "cell_type": "markdown",
      "source": [
        "# This case is a ML model about the linear relationship between \"average housing area\" and \"price per housing area\"."
      ]
    },
    {
      "metadata": {
        "id": "usywsvFLF2bo",
        "colab_type": "code",
        "colab": {}
      },
      "cell_type": "code",
      "source": [
        "import tensorflow as tf\n",
        "from tensorflow.python.data import Dataset\n",
        "import sklearn\n",
        "from sklearn.preprocessing import LabelEncoder\n",
        "import numpy as np\n",
        "import pandas as pd\n",
        "\n",
        "import math\n",
        "from IPython import display\n",
        "from matplotlib import cm\n",
        "from matplotlib import gridspec\n",
        "from matplotlib import pyplot as plt"
      ],
      "execution_count": 0,
      "outputs": []
    },
    {
      "metadata": {
        "id": "_rvAbHuFjCND",
        "colab_type": "code",
        "colab": {}
      },
      "cell_type": "code",
      "source": [
        "STEPS = 1000  # Steps of train loop. \n",
        "PERIODS = 20\n",
        "STEPS_PER_PERIOD = STEPS / PERIODS\n",
        "LEARNING_RATE = 0.000001\n",
        "BINS = 150"
      ],
      "execution_count": 0,
      "outputs": []
    },
    {
      "metadata": {
        "id": "M1XjwLH4P00k",
        "colab_type": "code",
        "colab": {}
      },
      "cell_type": "code",
      "source": [
        "tf.logging.set_verbosity(tf.logging.INFO)"
      ],
      "execution_count": 0,
      "outputs": []
    },
    {
      "metadata": {
        "id": "6gRBSBTfiO1x",
        "colab_type": "code",
        "colab": {}
      },
      "cell_type": "code",
      "source": [
        "source = pd.read_csv(\"https://dl.dropbox.com/s/e2tcsgbcp2in5h5/price_rooms_area.tsv\", sep=\"\\t\")\n",
        "source.head()"
      ],
      "execution_count": 0,
      "outputs": []
    },
    {
      "metadata": {
        "id": "WohcWzXppE-B",
        "colab_type": "text"
      },
      "cell_type": "markdown",
      "source": [
        "# Clean the data-source\n",
        "- Remove rows containing *null*\n",
        "- Remove rows containing *N/A*\n",
        "- Add New data columns: \"Average housing area\" and \"per housing area price\".\n",
        "- Clean new added columns"
      ]
    },
    {
      "metadata": {
        "id": "BOmAzUQfzIvs",
        "colab_type": "code",
        "colab": {}
      },
      "cell_type": "code",
      "source": [
        "def clean_data(source):\n",
        "  df = source\n",
        "  \n",
        "  # Remove null rows\n",
        "  df = df[pd.notnull(df[\"PRICE\"])]\n",
        "  df = df[pd.notnull(df[\"ROOMS\"])]\n",
        "  df = df[pd.notnull(df[\"AREA\"])]\n",
        "  \n",
        "  # Remove useless columns\n",
        "  df = df.drop([\"OBJECTCAT\"], axis=1)\n",
        "  df = df[~df[\"MARKETINGTYPE\"].isin([\"Miete\"])]\n",
        "  df = df.drop([\"MARKETINGTYPE\"], axis=1)\n",
        "  \n",
        "  # Convert all strings to numeric\n",
        "  df = df.convert_objects(convert_numeric=True)\n",
        "  \n",
        "  # Remove rows containing a \"0\", i.e price = 0 or rooms = 0\n",
        "  df = df[~(df[[\"PRICE\", \"ROOMS\",\"AREA\"]] == 0)]\n",
        "  \n",
        "  # Remove rows containing N/A \n",
        "  df = df[pd.notna(df[\"PRICE\"])]\n",
        "  df = df[pd.notna(df[\"ROOMS\"])]\n",
        "  df = df[pd.notna(df[\"AREA\"])]\n",
        "\n",
        "  # Insert new column of \"price of pro-area\"\n",
        "  df.insert(1, \"PRICE_PRO_AREA\", df[\"PRICE\"] / df[\"AREA\"]) \n",
        "  df = df[~(df[\"PRICE_PRO_AREA\"] < 5)]\n",
        "  #df[\"PRICE_PRO_AREA\"] = df[\"PRICE_PRO_AREA\"] / 1000 #Scale -1000 for easy demo.\n",
        "  df[\"PRICE_PRO_AREA\"] = np.log(df[\"PRICE_PRO_AREA\"])\n",
        "  df = df[pd.notnull(df[\"PRICE_PRO_AREA\"])]\n",
        "  df = df[pd.notna(df[\"PRICE_PRO_AREA\"])]\n",
        "    \n",
        "  # Insert new column of \"area of each room\"\n",
        "  df.insert(4, \"AREA_PRO_ROOM\", df[\"AREA\"] / df[\"ROOMS\"]) \n",
        "  df = df[~(df[\"AREA_PRO_ROOM\"] < 1)]\n",
        "  df[\"AREA_PRO_ROOM\"] = np.log(df[\"AREA_PRO_ROOM\"])\n",
        "  df = df[pd.notnull(df[\"AREA_PRO_ROOM\"])]\n",
        "  df = df[pd.notna(df[\"AREA_PRO_ROOM\"])]\n",
        "  \n",
        "  return df"
      ],
      "execution_count": 0,
      "outputs": []
    },
    {
      "metadata": {
        "id": "59c_lb5i3aTH",
        "colab_type": "code",
        "colab": {}
      },
      "cell_type": "code",
      "source": [
        "df = clean_data(source)"
      ],
      "execution_count": 0,
      "outputs": []
    },
    {
      "metadata": {
        "id": "SN-xnRxjzT2T",
        "colab_type": "code",
        "colab": {}
      },
      "cell_type": "code",
      "source": [
        "df.head()"
      ],
      "execution_count": 0,
      "outputs": []
    },
    {
      "metadata": {
        "id": "KWFBPC4uFQTd",
        "colab_type": "code",
        "colab": {}
      },
      "cell_type": "code",
      "source": [
        "df.describe()"
      ],
      "execution_count": 0,
      "outputs": []
    },
    {
      "metadata": {
        "id": "iWczGGR1ElU-",
        "colab_type": "code",
        "colab": {}
      },
      "cell_type": "code",
      "source": [
        "df.hist(\"AREA_PRO_ROOM\", bins=BINS)"
      ],
      "execution_count": 0,
      "outputs": []
    },
    {
      "metadata": {
        "id": "tQlYLiSSEsmr",
        "colab_type": "code",
        "colab": {}
      },
      "cell_type": "code",
      "source": [
        "df.hist(\"PRICE_PRO_AREA\", bins=BINS)"
      ],
      "execution_count": 0,
      "outputs": []
    },
    {
      "metadata": {
        "id": "B7G_QUbGL0YZ",
        "colab_type": "code",
        "colab": {}
      },
      "cell_type": "code",
      "source": [
        "df.plot.scatter(x='AREA_PRO_ROOM', y='PRICE_PRO_AREA')"
      ],
      "execution_count": 0,
      "outputs": []
    },
    {
      "metadata": {
        "id": "PWk86xsBDkch",
        "colab_type": "code",
        "colab": {}
      },
      "cell_type": "code",
      "source": [
        "def make_dataset_and_labels_and_class_num(df, label_name):\n",
        "  \"\"\"This method will prepare da, labels for train, evaluation, test.\n",
        "     Args:\n",
        "      df: DataFrame format of datasource.\n",
        "      label_name: The name of column in datasource which will be as target for train.\n",
        "     Return: \n",
        "       Tuple of (ds_train, ds_eval, ds_test, label_train, label_eval, label_test)\n",
        "      \n",
        "  \"\"\"\n",
        "  target_label_col = label_name\n",
        "   \n",
        "  random_seed = None\n",
        "  np.random.seed(random_seed)\n",
        "  \n",
        "  ds_train = df.sample(frac=0.7, random_state=random_seed)\n",
        "  label_train = ds_train[[target_label_col]]\n",
        "  \n",
        "  ds_rest = df.drop(ds_train.index)\n",
        "  ds_rest = ds_rest.copy()\n",
        "  \n",
        "  ds_eval = ds_rest.sample(frac=0.7, random_state=random_seed)\n",
        "  label_eval = ds_eval[[target_label_col]]\n",
        "  \n",
        "  ds_test = ds_rest.drop(ds_eval.index)\n",
        "  label_test = ds_test[[target_label_col]]\n",
        "  \n",
        "  return ds_train[[\"AREA_PRO_ROOM\"]], ds_eval[[\"AREA_PRO_ROOM\"]], ds_test[[\"AREA_PRO_ROOM\"]], label_train, label_eval, label_test"
      ],
      "execution_count": 0,
      "outputs": []
    },
    {
      "metadata": {
        "id": "NgkHsXdun_dO",
        "colab_type": "code",
        "colab": {}
      },
      "cell_type": "code",
      "source": [
        "x_train, x_eval, x_test, y_train, y_eval, y_test = make_dataset_and_labels_and_class_num(df, \"PRICE_PRO_AREA\")"
      ],
      "execution_count": 0,
      "outputs": []
    },
    {
      "metadata": {
        "id": "mgVYA89XoHIV",
        "colab_type": "code",
        "colab": {}
      },
      "cell_type": "code",
      "source": [
        "x_train.describe()"
      ],
      "execution_count": 0,
      "outputs": []
    },
    {
      "metadata": {
        "id": "1TR94pSWkeyR",
        "colab_type": "code",
        "colab": {}
      },
      "cell_type": "code",
      "source": [
        "x_train.hist(\"AREA_PRO_ROOM\", bins = BINS)"
      ],
      "execution_count": 0,
      "outputs": []
    },
    {
      "metadata": {
        "id": "rEwxanjWz1dm",
        "colab_type": "code",
        "colab": {}
      },
      "cell_type": "code",
      "source": [
        "y_train.describe()"
      ],
      "execution_count": 0,
      "outputs": []
    },
    {
      "metadata": {
        "id": "My61JIwfa_Sk",
        "colab_type": "code",
        "colab": {}
      },
      "cell_type": "code",
      "source": [
        "y_train.hist(\"PRICE_PRO_AREA\", bins=BINS)"
      ],
      "execution_count": 0,
      "outputs": []
    },
    {
      "metadata": {
        "id": "ZXP4bHjfeLMW",
        "colab_type": "code",
        "colab": {}
      },
      "cell_type": "code",
      "source": [
        "pd.concat([x_train, y_train], axis=1).plot.scatter(x='AREA_PRO_ROOM', y='PRICE_PRO_AREA') "
      ],
      "execution_count": 0,
      "outputs": []
    },
    {
      "metadata": {
        "id": "oMlOOyPQoI1E",
        "colab_type": "code",
        "colab": {}
      },
      "cell_type": "code",
      "source": [
        "x_eval.describe()"
      ],
      "execution_count": 0,
      "outputs": []
    },
    {
      "metadata": {
        "id": "tHRgt5Vyy3W1",
        "colab_type": "code",
        "colab": {}
      },
      "cell_type": "code",
      "source": [
        "x_eval.hist(\"AREA_PRO_ROOM\", bins = BINS)"
      ],
      "execution_count": 0,
      "outputs": []
    },
    {
      "metadata": {
        "id": "vuLSow1Sz71e",
        "colab_type": "code",
        "colab": {}
      },
      "cell_type": "code",
      "source": [
        "y_eval.describe()"
      ],
      "execution_count": 0,
      "outputs": []
    },
    {
      "metadata": {
        "id": "AUtCzIVGdT4c",
        "colab_type": "code",
        "colab": {}
      },
      "cell_type": "code",
      "source": [
        "y_eval.hist(\"PRICE_PRO_AREA\", bins=BINS)"
      ],
      "execution_count": 0,
      "outputs": []
    },
    {
      "metadata": {
        "id": "rGF9lnTPzHet",
        "colab_type": "code",
        "colab": {}
      },
      "cell_type": "code",
      "source": [
        "pd.concat([x_eval, y_eval], axis=1).plot.scatter(x='AREA_PRO_ROOM', y='PRICE_PRO_AREA')"
      ],
      "execution_count": 0,
      "outputs": []
    },
    {
      "metadata": {
        "id": "xciCTqS2ageV",
        "colab_type": "code",
        "colab": {}
      },
      "cell_type": "code",
      "source": [
        "x_test.describe()"
      ],
      "execution_count": 0,
      "outputs": []
    },
    {
      "metadata": {
        "id": "CFLyayPTy6X1",
        "colab_type": "code",
        "colab": {}
      },
      "cell_type": "code",
      "source": [
        "x_test.hist(\"AREA_PRO_ROOM\", bins=BINS)"
      ],
      "execution_count": 0,
      "outputs": []
    },
    {
      "metadata": {
        "id": "a21Zw6mGz_AN",
        "colab_type": "code",
        "colab": {}
      },
      "cell_type": "code",
      "source": [
        "y_test.describe()"
      ],
      "execution_count": 0,
      "outputs": []
    },
    {
      "metadata": {
        "id": "vxlju8zCd9YY",
        "colab_type": "code",
        "colab": {}
      },
      "cell_type": "code",
      "source": [
        "y_test.hist(\"PRICE_PRO_AREA\", bins=BINS)"
      ],
      "execution_count": 0,
      "outputs": []
    },
    {
      "metadata": {
        "id": "_NarbG15zLXN",
        "colab_type": "code",
        "colab": {}
      },
      "cell_type": "code",
      "source": [
        "pd.concat([x_test, y_test], axis=1).plot.scatter(x='AREA_PRO_ROOM', y='PRICE_PRO_AREA')"
      ],
      "execution_count": 0,
      "outputs": []
    },
    {
      "metadata": {
        "id": "Yi1g3htco3st",
        "colab_type": "code",
        "colab": {}
      },
      "cell_type": "code",
      "source": [
        "x_train.head()"
      ],
      "execution_count": 0,
      "outputs": []
    },
    {
      "metadata": {
        "id": "6VRcJQxqpInl",
        "colab_type": "code",
        "colab": {}
      },
      "cell_type": "code",
      "source": [
        "x_eval.head()"
      ],
      "execution_count": 0,
      "outputs": []
    },
    {
      "metadata": {
        "id": "g5fkf_HZaj2u",
        "colab_type": "code",
        "colab": {}
      },
      "cell_type": "code",
      "source": [
        "x_test.head()"
      ],
      "execution_count": 0,
      "outputs": []
    },
    {
      "metadata": {
        "id": "WDyckWh7lwBT",
        "colab_type": "code",
        "colab": {}
      },
      "cell_type": "code",
      "source": [
        "y_train.head()"
      ],
      "execution_count": 0,
      "outputs": []
    },
    {
      "metadata": {
        "id": "KNqPapJAlwG1",
        "colab_type": "code",
        "colab": {}
      },
      "cell_type": "code",
      "source": [
        "y_eval.head()"
      ],
      "execution_count": 0,
      "outputs": []
    },
    {
      "metadata": {
        "id": "4FR6Ujg1lwL6",
        "colab_type": "code",
        "colab": {}
      },
      "cell_type": "code",
      "source": [
        "y_test.head()"
      ],
      "execution_count": 0,
      "outputs": []
    },
    {
      "metadata": {
        "id": "udjYU2TaCClX",
        "colab_type": "code",
        "colab": {}
      },
      "cell_type": "code",
      "source": [
        "def input_fn(features, targets, batch_size=1, shuffle=True, num_epochs=None):\n",
        "    \"\"\"Trains a linear regression model of one feature.\n",
        "  \n",
        "    Args:\n",
        "      features: pandas DataFrame of features\n",
        "      targets: pandas DataFrame of targets\n",
        "      batch_size: Size of batches to be passed to the model\n",
        "      shuffle: True or False. Whether to shuffle the data.\n",
        "      num_epochs: Number of epochs for which data should be repeated. None = repeat indefinitely\n",
        "    Returns:\n",
        "      Tuple of (features, labels) for next data batch\n",
        "    \"\"\"\n",
        " \n",
        "    # Construct a dataset, and configure batching/repeating\n",
        "    features = {key:np.array(value) for key,value in dict(features).items()} \n",
        "  \n",
        "    ds = Dataset.from_tensor_slices((features, targets))\n",
        "    ds = ds.batch(batch_size).repeat(num_epochs)\n",
        "    \n",
        "    # Shuffle the data, if specified\n",
        "    if shuffle:\n",
        "      ds = ds.shuffle(buffer_size=10000)\n",
        "    \n",
        "    # Return the next batch of data\n",
        "    features, labels = ds.make_one_shot_iterator().get_next()\n",
        "    return features, labels"
      ],
      "execution_count": 0,
      "outputs": []
    },
    {
      "metadata": {
        "id": "XauzWrcNCh0J",
        "colab_type": "code",
        "colab": {}
      },
      "cell_type": "code",
      "source": [
        "train_input_fn = lambda: input_fn(x_train, y_train)"
      ],
      "execution_count": 0,
      "outputs": []
    },
    {
      "metadata": {
        "id": "MUKqyBqocZJ_",
        "colab_type": "code",
        "colab": {}
      },
      "cell_type": "code",
      "source": [
        "train_predict_input_fn = lambda: input_fn(x_train, y_train, num_epochs=1, shuffle=False)"
      ],
      "execution_count": 0,
      "outputs": []
    },
    {
      "metadata": {
        "id": "_QCb9zcOCf3A",
        "colab_type": "code",
        "colab": {}
      },
      "cell_type": "code",
      "source": [
        "eval_predict_input_fn = lambda: input_fn(x_eval, y_eval, num_epochs=1, shuffle=False)"
      ],
      "execution_count": 0,
      "outputs": []
    },
    {
      "metadata": {
        "id": "YXjdJK8zbfW5",
        "colab_type": "code",
        "colab": {}
      },
      "cell_type": "code",
      "source": [
        "test_predict_input_fun = lambda: input_fn(x_test, y_test, num_epochs=1, shuffle=False)"
      ],
      "execution_count": 0,
      "outputs": []
    },
    {
      "metadata": {
        "id": "O4Fyeywlz4dm",
        "colab_type": "code",
        "colab": {}
      },
      "cell_type": "code",
      "source": [
        "feature_cols = [\n",
        "  tf.feature_column.numeric_column(\"AREA_PRO_ROOM\") \n",
        "]"
      ],
      "execution_count": 0,
      "outputs": []
    },
    {
      "metadata": {
        "id": "MOZGWNtE7r56",
        "colab_type": "code",
        "colab": {}
      },
      "cell_type": "code",
      "source": [
        "train_optimizer = tf.train.GradientDescentOptimizer(learning_rate=LEARNING_RATE)\n",
        "train_optimizer = tf.contrib.estimator.clip_gradients_by_norm(train_optimizer, 5.0)"
      ],
      "execution_count": 0,
      "outputs": []
    },
    {
      "metadata": {
        "id": "wR1wAHC0b8R5",
        "colab_type": "code",
        "colab": {}
      },
      "cell_type": "code",
      "source": [
        "model = tf.estimator.LinearRegressor(\n",
        "    feature_columns = feature_cols,\n",
        "    optimizer = train_optimizer\n",
        ")"
      ],
      "execution_count": 0,
      "outputs": []
    },
    {
      "metadata": {
        "id": "xibCYiz3by1B",
        "colab_type": "code",
        "colab": {}
      },
      "cell_type": "code",
      "source": [
        "for period in range(0, PERIODS):\n",
        "  model.train(input_fn=train_input_fn, steps=STEPS)\n",
        "  train_predict = model.predict(input_fn=train_predict_input_fn)\n",
        "  eval_predict = model.predict(input_fn=eval_predict_input_fn)\n",
        "  print(\"-\" * 100)\n",
        "  model.evaluate(steps=STEPS, input_fn=train_predict_input_fn)\n",
        "  model.evaluate(steps=STEPS, input_fn=eval_predict_input_fn) \n",
        "  print(\"-\" * 100)\n",
        "  \n",
        "  train_predict = np.array([item['predictions'][0] for item in train_predict])\n",
        "  eval_predict = np.array([item['predictions'][0] for item in eval_predict])\n",
        "  \n",
        "  # Compute loss for train and evaluation\n",
        "  train_rmse = math.sqrt(\n",
        "        sklearn.metrics.mean_squared_error(train_predict, y_train))\n",
        "  eval_rmse = math.sqrt(\n",
        "        sklearn.metrics.mean_squared_error(eval_predict, y_eval))\n",
        "  \n",
        "  print(\"*\" * 100)\n",
        "  print(\"*Period[rmse training] %02d : %0.2f\" % (period, train_rmse))\n",
        "  print(\"*Period[rmse eval] %02d : %0.2f\" % (period, eval_rmse))  \n",
        "  print(\"*\" * 100)"
      ],
      "execution_count": 0,
      "outputs": []
    },
    {
      "metadata": {
        "id": "-2swRvPBdXvZ",
        "colab_type": "code",
        "colab": {}
      },
      "cell_type": "code",
      "source": [
        "test_predict = model.predict(input_fn=test_predict_input_fun)\n",
        "print(\"-\" * 100)\n",
        "model.evaluate(steps=STEPS, input_fn=test_predict_input_fun)\n",
        "print(\"-\" * 100)\n",
        "test_predict = np.array([item['predictions'][0] for item in test_predict])  \n",
        "test_rmse = math.sqrt(\n",
        "        sklearn.metrics.mean_squared_error(test_predict, y_test))\n",
        "print(\"*\" * 100)\n",
        "print(\"*Final[rmse test] %02d : %0.2f\" % (period, test_rmse))\n",
        "print(\"*\" * 100)"
      ],
      "execution_count": 0,
      "outputs": []
    },
    {
      "metadata": {
        "id": "GWsXI3wpeins",
        "colab_type": "code",
        "colab": {}
      },
      "cell_type": "code",
      "source": [
        "test_predict = np.array([item for item in test_predict])"
      ],
      "execution_count": 0,
      "outputs": []
    },
    {
      "metadata": {
        "id": "Pjeh9JkoXkuw",
        "colab_type": "code",
        "colab": {}
      },
      "cell_type": "code",
      "source": [
        "test_predict"
      ],
      "execution_count": 0,
      "outputs": []
    }
  ]
}