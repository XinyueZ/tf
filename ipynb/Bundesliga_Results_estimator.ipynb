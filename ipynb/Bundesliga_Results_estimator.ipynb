{
  "nbformat": 4,
  "nbformat_minor": 0,
  "metadata": {
    "colab": {
      "name": "Bundesliga_Results_estimator.ipynb",
      "version": "0.3.2",
      "provenance": [],
      "collapsed_sections": [],
      "include_colab_link": true
    },
    "kernelspec": {
      "name": "python3",
      "display_name": "Python 3"
    },
    "accelerator": "GPU"
  },
  "cells": [
    {
      "cell_type": "markdown",
      "metadata": {
        "id": "view-in-github",
        "colab_type": "text"
      },
      "source": [
        "[View in Colaboratory](https://colab.research.google.com/github/XinyueZ/tf/blob/master/ipynb/Bundesliga_Results_estimator.ipynb)"
      ]
    },
    {
      "metadata": {
        "id": "rg2f5tmt2rcR",
        "colab_type": "text"
      },
      "cell_type": "markdown",
      "source": [
        "# Train model to evaluate football result. "
      ]
    },
    {
      "metadata": {
        "id": "usywsvFLF2bo",
        "colab_type": "code",
        "colab": {}
      },
      "cell_type": "code",
      "source": [
        "import tensorflow as tf\n",
        "from tensorflow.python.data import Dataset\n",
        "import numpy as np\n",
        "import pandas as pd\n",
        "from sklearn.preprocessing import LabelEncoder"
      ],
      "execution_count": 0,
      "outputs": []
    },
    {
      "metadata": {
        "id": "M1XjwLH4P00k",
        "colab_type": "code",
        "colab": {}
      },
      "cell_type": "code",
      "source": [
        "tf.logging.set_verbosity(tf.logging.INFO)"
      ],
      "execution_count": 0,
      "outputs": []
    },
    {
      "metadata": {
        "id": "dy53WMcs27Ez",
        "colab_type": "text"
      },
      "cell_type": "markdown",
      "source": [
        "Data-source from https://www.kaggle.com/thefc17/bundesliga-results-19932018"
      ]
    },
    {
      "metadata": {
        "id": "TcCdsIeI225b",
        "colab_type": "text"
      },
      "cell_type": "markdown",
      "source": [
        "This dataset contains results from every Bundesliga match from 1993-1994 to 2017-2018. It also includes half time results, but only from 1995-96 to 2017-18. Columns include Division (denoted as D1), HomeTeam, AwayTeam, FTHG (final time home goals), FTAG (final time away goals), FTR (full time result), HTHG (half time home goals), HTAG (half time away goals), HTR (half time result), and season.\n",
        "\n",
        "Data compiled into one file from this site: http://www.football-data.co.uk/germanym.php"
      ]
    },
    {
      "metadata": {
        "id": "6gRBSBTfiO1x",
        "colab_type": "code",
        "colab": {
          "base_uri": "https://localhost:8080/",
          "height": 204
        },
        "outputId": "65c290a7-6217-40f0-dfcb-be8847a50c79"
      },
      "cell_type": "code",
      "source": [
        "df = pd.read_csv(\"https://dl.dropbox.com/s/3jzvvjl2iqnlqzz/Bundesliga_Results.csv\", sep=\",\")\n",
        "df = df[pd.notnull(df[\"FTHG\"])]\n",
        "df = df[pd.notnull(df[\"FTAG\"])]\n",
        "df = df[pd.notnull(df[\"FTR\"])]\n",
        "df.head()"
      ],
      "execution_count": 304,
      "outputs": [
        {
          "output_type": "execute_result",
          "data": {
            "text/html": [
              "<div>\n",
              "<style scoped>\n",
              "    .dataframe tbody tr th:only-of-type {\n",
              "        vertical-align: middle;\n",
              "    }\n",
              "\n",
              "    .dataframe tbody tr th {\n",
              "        vertical-align: top;\n",
              "    }\n",
              "\n",
              "    .dataframe thead th {\n",
              "        text-align: right;\n",
              "    }\n",
              "</style>\n",
              "<table border=\"1\" class=\"dataframe\">\n",
              "  <thead>\n",
              "    <tr style=\"text-align: right;\">\n",
              "      <th></th>\n",
              "      <th>Div</th>\n",
              "      <th>Date</th>\n",
              "      <th>HomeTeam</th>\n",
              "      <th>AwayTeam</th>\n",
              "      <th>FTHG</th>\n",
              "      <th>FTAG</th>\n",
              "      <th>FTR</th>\n",
              "      <th>HTHG</th>\n",
              "      <th>HTAG</th>\n",
              "      <th>HTR</th>\n",
              "      <th>Season</th>\n",
              "    </tr>\n",
              "  </thead>\n",
              "  <tbody>\n",
              "    <tr>\n",
              "      <th>0</th>\n",
              "      <td>D1</td>\n",
              "      <td>7/8/1993</td>\n",
              "      <td>Bayern Munich</td>\n",
              "      <td>Freiburg</td>\n",
              "      <td>3</td>\n",
              "      <td>1</td>\n",
              "      <td>H</td>\n",
              "      <td>NaN</td>\n",
              "      <td>NaN</td>\n",
              "      <td>NaN</td>\n",
              "      <td>1993-94</td>\n",
              "    </tr>\n",
              "    <tr>\n",
              "      <th>1</th>\n",
              "      <td>D1</td>\n",
              "      <td>7/8/1993</td>\n",
              "      <td>Dortmund</td>\n",
              "      <td>Karlsruhe</td>\n",
              "      <td>2</td>\n",
              "      <td>1</td>\n",
              "      <td>H</td>\n",
              "      <td>NaN</td>\n",
              "      <td>NaN</td>\n",
              "      <td>NaN</td>\n",
              "      <td>1993-94</td>\n",
              "    </tr>\n",
              "    <tr>\n",
              "      <th>2</th>\n",
              "      <td>D1</td>\n",
              "      <td>7/8/1993</td>\n",
              "      <td>Duisburg</td>\n",
              "      <td>Leverkusen</td>\n",
              "      <td>2</td>\n",
              "      <td>2</td>\n",
              "      <td>D</td>\n",
              "      <td>NaN</td>\n",
              "      <td>NaN</td>\n",
              "      <td>NaN</td>\n",
              "      <td>1993-94</td>\n",
              "    </tr>\n",
              "    <tr>\n",
              "      <th>3</th>\n",
              "      <td>D1</td>\n",
              "      <td>7/8/1993</td>\n",
              "      <td>FC Koln</td>\n",
              "      <td>Kaiserslautern</td>\n",
              "      <td>0</td>\n",
              "      <td>2</td>\n",
              "      <td>A</td>\n",
              "      <td>NaN</td>\n",
              "      <td>NaN</td>\n",
              "      <td>NaN</td>\n",
              "      <td>1993-94</td>\n",
              "    </tr>\n",
              "    <tr>\n",
              "      <th>4</th>\n",
              "      <td>D1</td>\n",
              "      <td>7/8/1993</td>\n",
              "      <td>Hamburg</td>\n",
              "      <td>Nurnberg</td>\n",
              "      <td>5</td>\n",
              "      <td>2</td>\n",
              "      <td>H</td>\n",
              "      <td>NaN</td>\n",
              "      <td>NaN</td>\n",
              "      <td>NaN</td>\n",
              "      <td>1993-94</td>\n",
              "    </tr>\n",
              "  </tbody>\n",
              "</table>\n",
              "</div>"
            ],
            "text/plain": [
              "  Div      Date       HomeTeam        AwayTeam  FTHG  FTAG FTR  HTHG  HTAG  \\\n",
              "0  D1  7/8/1993  Bayern Munich        Freiburg     3     1   H   NaN   NaN   \n",
              "1  D1  7/8/1993       Dortmund       Karlsruhe     2     1   H   NaN   NaN   \n",
              "2  D1  7/8/1993       Duisburg      Leverkusen     2     2   D   NaN   NaN   \n",
              "3  D1  7/8/1993        FC Koln  Kaiserslautern     0     2   A   NaN   NaN   \n",
              "4  D1  7/8/1993        Hamburg        Nurnberg     5     2   H   NaN   NaN   \n",
              "\n",
              "   HTR   Season  \n",
              "0  NaN  1993-94  \n",
              "1  NaN  1993-94  \n",
              "2  NaN  1993-94  \n",
              "3  NaN  1993-94  \n",
              "4  NaN  1993-94  "
            ]
          },
          "metadata": {
            "tags": []
          },
          "execution_count": 304
        }
      ]
    },
    {
      "metadata": {
        "id": "PWk86xsBDkch",
        "colab_type": "code",
        "colab": {}
      },
      "cell_type": "code",
      "source": [
        "def make_dataset_and_labels_and_class_num(df, label_name):\n",
        "  \"\"\"This method will prepare dataset, labels for train, evaluation and classes.\n",
        "     Args:\n",
        "      df: DataFrame format of datasource.\n",
        "      label_name: The name of column in datasource which will be as target for train.\n",
        "     Return: \n",
        "       Tuple of (ds_train, ds_eval, label_train, label_eval, classes)\n",
        "      \n",
        "  \"\"\"\n",
        "  target_label_col = \"label\" #New column name in original table.\n",
        "  \n",
        "  encoder = LabelEncoder()\n",
        "  label = encoder.fit_transform(df[label_name])\n",
        "  df.insert(2, target_label_col, label) \n",
        "  result_fit = encoder.fit(df[label_name])\n",
        "  \n",
        "  random_seed = None\n",
        "  np.random.seed(random_seed)\n",
        "  \n",
        "  ds_train = df.sample(frac=0.9, random_state=random_seed)\n",
        "  lines = len(ds_train)\n",
        "  label_train = ds_train[target_label_col]\n",
        "  \n",
        "  ds_eval = df.drop(ds_train.index)\n",
        "  label_eval = ds_eval[target_label_col]\n",
        "   \n",
        "  return ds_train, ds_eval, label_train, label_eval, result_fit.classes_"
      ],
      "execution_count": 0,
      "outputs": []
    },
    {
      "metadata": {
        "id": "NgkHsXdun_dO",
        "colab_type": "code",
        "colab": {}
      },
      "cell_type": "code",
      "source": [
        "ds_train, ds_eval, y_train, y_eval, result_classes = make_dataset_and_labels_and_class_num(df, \"FTR\")"
      ],
      "execution_count": 0,
      "outputs": []
    },
    {
      "metadata": {
        "id": "akLoHfAXAqOi",
        "colab_type": "code",
        "colab": {
          "base_uri": "https://localhost:8080/",
          "height": 34
        },
        "outputId": "80e623e4-5733-463f-dad8-9c42184c3d63"
      },
      "cell_type": "code",
      "source": [
        "result_classes"
      ],
      "execution_count": 307,
      "outputs": [
        {
          "output_type": "execute_result",
          "data": {
            "text/plain": [
              "array(['A', 'D', 'H'], dtype=object)"
            ]
          },
          "metadata": {
            "tags": []
          },
          "execution_count": 307
        }
      ]
    },
    {
      "metadata": {
        "id": "mgVYA89XoHIV",
        "colab_type": "code",
        "colab": {
          "base_uri": "https://localhost:8080/",
          "height": 297
        },
        "outputId": "2d46aaf2-49fc-498a-d104-9e3eab2dc87f"
      },
      "cell_type": "code",
      "source": [
        "ds_train.describe()"
      ],
      "execution_count": 308,
      "outputs": [
        {
          "output_type": "execute_result",
          "data": {
            "text/html": [
              "<div>\n",
              "<style scoped>\n",
              "    .dataframe tbody tr th:only-of-type {\n",
              "        vertical-align: middle;\n",
              "    }\n",
              "\n",
              "    .dataframe tbody tr th {\n",
              "        vertical-align: top;\n",
              "    }\n",
              "\n",
              "    .dataframe thead th {\n",
              "        text-align: right;\n",
              "    }\n",
              "</style>\n",
              "<table border=\"1\" class=\"dataframe\">\n",
              "  <thead>\n",
              "    <tr style=\"text-align: right;\">\n",
              "      <th></th>\n",
              "      <th>label</th>\n",
              "      <th>FTHG</th>\n",
              "      <th>FTAG</th>\n",
              "      <th>HTHG</th>\n",
              "      <th>HTAG</th>\n",
              "    </tr>\n",
              "  </thead>\n",
              "  <tbody>\n",
              "    <tr>\n",
              "      <th>count</th>\n",
              "      <td>6885.000000</td>\n",
              "      <td>6885.000000</td>\n",
              "      <td>6885.000000</td>\n",
              "      <td>6339.000000</td>\n",
              "      <td>6339.000000</td>\n",
              "    </tr>\n",
              "    <tr>\n",
              "      <th>mean</th>\n",
              "      <td>1.190414</td>\n",
              "      <td>1.655483</td>\n",
              "      <td>1.214379</td>\n",
              "      <td>0.724878</td>\n",
              "      <td>0.525162</td>\n",
              "    </tr>\n",
              "    <tr>\n",
              "      <th>std</th>\n",
              "      <td>0.839136</td>\n",
              "      <td>1.326812</td>\n",
              "      <td>1.153751</td>\n",
              "      <td>0.847303</td>\n",
              "      <td>0.713740</td>\n",
              "    </tr>\n",
              "    <tr>\n",
              "      <th>min</th>\n",
              "      <td>0.000000</td>\n",
              "      <td>0.000000</td>\n",
              "      <td>0.000000</td>\n",
              "      <td>0.000000</td>\n",
              "      <td>0.000000</td>\n",
              "    </tr>\n",
              "    <tr>\n",
              "      <th>25%</th>\n",
              "      <td>0.000000</td>\n",
              "      <td>1.000000</td>\n",
              "      <td>0.000000</td>\n",
              "      <td>0.000000</td>\n",
              "      <td>0.000000</td>\n",
              "    </tr>\n",
              "    <tr>\n",
              "      <th>50%</th>\n",
              "      <td>1.000000</td>\n",
              "      <td>1.000000</td>\n",
              "      <td>1.000000</td>\n",
              "      <td>1.000000</td>\n",
              "      <td>0.000000</td>\n",
              "    </tr>\n",
              "    <tr>\n",
              "      <th>75%</th>\n",
              "      <td>2.000000</td>\n",
              "      <td>2.000000</td>\n",
              "      <td>2.000000</td>\n",
              "      <td>1.000000</td>\n",
              "      <td>1.000000</td>\n",
              "    </tr>\n",
              "    <tr>\n",
              "      <th>max</th>\n",
              "      <td>2.000000</td>\n",
              "      <td>9.000000</td>\n",
              "      <td>9.000000</td>\n",
              "      <td>5.000000</td>\n",
              "      <td>5.000000</td>\n",
              "    </tr>\n",
              "  </tbody>\n",
              "</table>\n",
              "</div>"
            ],
            "text/plain": [
              "             label         FTHG         FTAG         HTHG         HTAG\n",
              "count  6885.000000  6885.000000  6885.000000  6339.000000  6339.000000\n",
              "mean      1.190414     1.655483     1.214379     0.724878     0.525162\n",
              "std       0.839136     1.326812     1.153751     0.847303     0.713740\n",
              "min       0.000000     0.000000     0.000000     0.000000     0.000000\n",
              "25%       0.000000     1.000000     0.000000     0.000000     0.000000\n",
              "50%       1.000000     1.000000     1.000000     1.000000     0.000000\n",
              "75%       2.000000     2.000000     2.000000     1.000000     1.000000\n",
              "max       2.000000     9.000000     9.000000     5.000000     5.000000"
            ]
          },
          "metadata": {
            "tags": []
          },
          "execution_count": 308
        }
      ]
    },
    {
      "metadata": {
        "id": "oMlOOyPQoI1E",
        "colab_type": "code",
        "colab": {
          "base_uri": "https://localhost:8080/",
          "height": 297
        },
        "outputId": "909453bb-46c3-46aa-fef0-250f1207514e"
      },
      "cell_type": "code",
      "source": [
        "ds_eval.describe()"
      ],
      "execution_count": 309,
      "outputs": [
        {
          "output_type": "execute_result",
          "data": {
            "text/html": [
              "<div>\n",
              "<style scoped>\n",
              "    .dataframe tbody tr th:only-of-type {\n",
              "        vertical-align: middle;\n",
              "    }\n",
              "\n",
              "    .dataframe tbody tr th {\n",
              "        vertical-align: top;\n",
              "    }\n",
              "\n",
              "    .dataframe thead th {\n",
              "        text-align: right;\n",
              "    }\n",
              "</style>\n",
              "<table border=\"1\" class=\"dataframe\">\n",
              "  <thead>\n",
              "    <tr style=\"text-align: right;\">\n",
              "      <th></th>\n",
              "      <th>label</th>\n",
              "      <th>FTHG</th>\n",
              "      <th>FTAG</th>\n",
              "      <th>HTHG</th>\n",
              "      <th>HTAG</th>\n",
              "    </tr>\n",
              "  </thead>\n",
              "  <tbody>\n",
              "    <tr>\n",
              "      <th>count</th>\n",
              "      <td>765.000000</td>\n",
              "      <td>765.000000</td>\n",
              "      <td>765.000000</td>\n",
              "      <td>699.000000</td>\n",
              "      <td>699.000000</td>\n",
              "    </tr>\n",
              "    <tr>\n",
              "      <th>mean</th>\n",
              "      <td>1.231373</td>\n",
              "      <td>1.700654</td>\n",
              "      <td>1.218301</td>\n",
              "      <td>0.753934</td>\n",
              "      <td>0.510730</td>\n",
              "    </tr>\n",
              "    <tr>\n",
              "      <th>std</th>\n",
              "      <td>0.846959</td>\n",
              "      <td>1.380706</td>\n",
              "      <td>1.199118</td>\n",
              "      <td>0.898643</td>\n",
              "      <td>0.710814</td>\n",
              "    </tr>\n",
              "    <tr>\n",
              "      <th>min</th>\n",
              "      <td>0.000000</td>\n",
              "      <td>0.000000</td>\n",
              "      <td>0.000000</td>\n",
              "      <td>0.000000</td>\n",
              "      <td>0.000000</td>\n",
              "    </tr>\n",
              "    <tr>\n",
              "      <th>25%</th>\n",
              "      <td>0.000000</td>\n",
              "      <td>1.000000</td>\n",
              "      <td>0.000000</td>\n",
              "      <td>0.000000</td>\n",
              "      <td>0.000000</td>\n",
              "    </tr>\n",
              "    <tr>\n",
              "      <th>50%</th>\n",
              "      <td>2.000000</td>\n",
              "      <td>1.000000</td>\n",
              "      <td>1.000000</td>\n",
              "      <td>1.000000</td>\n",
              "      <td>0.000000</td>\n",
              "    </tr>\n",
              "    <tr>\n",
              "      <th>75%</th>\n",
              "      <td>2.000000</td>\n",
              "      <td>2.000000</td>\n",
              "      <td>2.000000</td>\n",
              "      <td>1.000000</td>\n",
              "      <td>1.000000</td>\n",
              "    </tr>\n",
              "    <tr>\n",
              "      <th>max</th>\n",
              "      <td>2.000000</td>\n",
              "      <td>7.000000</td>\n",
              "      <td>6.000000</td>\n",
              "      <td>5.000000</td>\n",
              "      <td>3.000000</td>\n",
              "    </tr>\n",
              "  </tbody>\n",
              "</table>\n",
              "</div>"
            ],
            "text/plain": [
              "            label        FTHG        FTAG        HTHG        HTAG\n",
              "count  765.000000  765.000000  765.000000  699.000000  699.000000\n",
              "mean     1.231373    1.700654    1.218301    0.753934    0.510730\n",
              "std      0.846959    1.380706    1.199118    0.898643    0.710814\n",
              "min      0.000000    0.000000    0.000000    0.000000    0.000000\n",
              "25%      0.000000    1.000000    0.000000    0.000000    0.000000\n",
              "50%      2.000000    1.000000    1.000000    1.000000    0.000000\n",
              "75%      2.000000    2.000000    2.000000    1.000000    1.000000\n",
              "max      2.000000    7.000000    6.000000    5.000000    3.000000"
            ]
          },
          "metadata": {
            "tags": []
          },
          "execution_count": 309
        }
      ]
    },
    {
      "metadata": {
        "id": "JZavMq0Po3p1",
        "colab_type": "code",
        "colab": {}
      },
      "cell_type": "code",
      "source": [
        "x_train = ds_train[[\"FTHG\", \"FTAG\"]]\n",
        "x_eval = ds_eval[[\"FTHG\", \"FTAG\"]]"
      ],
      "execution_count": 0,
      "outputs": []
    },
    {
      "metadata": {
        "id": "Yi1g3htco3st",
        "colab_type": "code",
        "colab": {
          "base_uri": "https://localhost:8080/",
          "height": 204
        },
        "outputId": "2348ffec-bc40-4f99-bffe-0c7c8379c14b"
      },
      "cell_type": "code",
      "source": [
        "x_train.head()"
      ],
      "execution_count": 311,
      "outputs": [
        {
          "output_type": "execute_result",
          "data": {
            "text/html": [
              "<div>\n",
              "<style scoped>\n",
              "    .dataframe tbody tr th:only-of-type {\n",
              "        vertical-align: middle;\n",
              "    }\n",
              "\n",
              "    .dataframe tbody tr th {\n",
              "        vertical-align: top;\n",
              "    }\n",
              "\n",
              "    .dataframe thead th {\n",
              "        text-align: right;\n",
              "    }\n",
              "</style>\n",
              "<table border=\"1\" class=\"dataframe\">\n",
              "  <thead>\n",
              "    <tr style=\"text-align: right;\">\n",
              "      <th></th>\n",
              "      <th>FTHG</th>\n",
              "      <th>FTAG</th>\n",
              "    </tr>\n",
              "  </thead>\n",
              "  <tbody>\n",
              "    <tr>\n",
              "      <th>5340</th>\n",
              "      <td>1</td>\n",
              "      <td>0</td>\n",
              "    </tr>\n",
              "    <tr>\n",
              "      <th>2460</th>\n",
              "      <td>0</td>\n",
              "      <td>2</td>\n",
              "    </tr>\n",
              "    <tr>\n",
              "      <th>6955</th>\n",
              "      <td>2</td>\n",
              "      <td>0</td>\n",
              "    </tr>\n",
              "    <tr>\n",
              "      <th>2022</th>\n",
              "      <td>0</td>\n",
              "      <td>2</td>\n",
              "    </tr>\n",
              "    <tr>\n",
              "      <th>3626</th>\n",
              "      <td>0</td>\n",
              "      <td>1</td>\n",
              "    </tr>\n",
              "  </tbody>\n",
              "</table>\n",
              "</div>"
            ],
            "text/plain": [
              "      FTHG  FTAG\n",
              "5340     1     0\n",
              "2460     0     2\n",
              "6955     2     0\n",
              "2022     0     2\n",
              "3626     0     1"
            ]
          },
          "metadata": {
            "tags": []
          },
          "execution_count": 311
        }
      ]
    },
    {
      "metadata": {
        "id": "6VRcJQxqpInl",
        "colab_type": "code",
        "colab": {
          "base_uri": "https://localhost:8080/",
          "height": 204
        },
        "outputId": "ccd9bbc3-14cd-48e2-e185-88013b1ffdec"
      },
      "cell_type": "code",
      "source": [
        "x_eval.head()"
      ],
      "execution_count": 312,
      "outputs": [
        {
          "output_type": "execute_result",
          "data": {
            "text/html": [
              "<div>\n",
              "<style scoped>\n",
              "    .dataframe tbody tr th:only-of-type {\n",
              "        vertical-align: middle;\n",
              "    }\n",
              "\n",
              "    .dataframe tbody tr th {\n",
              "        vertical-align: top;\n",
              "    }\n",
              "\n",
              "    .dataframe thead th {\n",
              "        text-align: right;\n",
              "    }\n",
              "</style>\n",
              "<table border=\"1\" class=\"dataframe\">\n",
              "  <thead>\n",
              "    <tr style=\"text-align: right;\">\n",
              "      <th></th>\n",
              "      <th>FTHG</th>\n",
              "      <th>FTAG</th>\n",
              "    </tr>\n",
              "  </thead>\n",
              "  <tbody>\n",
              "    <tr>\n",
              "      <th>7</th>\n",
              "      <td>3</td>\n",
              "      <td>0</td>\n",
              "    </tr>\n",
              "    <tr>\n",
              "      <th>16</th>\n",
              "      <td>1</td>\n",
              "      <td>0</td>\n",
              "    </tr>\n",
              "    <tr>\n",
              "      <th>33</th>\n",
              "      <td>1</td>\n",
              "      <td>5</td>\n",
              "    </tr>\n",
              "    <tr>\n",
              "      <th>35</th>\n",
              "      <td>2</td>\n",
              "      <td>2</td>\n",
              "    </tr>\n",
              "    <tr>\n",
              "      <th>42</th>\n",
              "      <td>3</td>\n",
              "      <td>2</td>\n",
              "    </tr>\n",
              "  </tbody>\n",
              "</table>\n",
              "</div>"
            ],
            "text/plain": [
              "    FTHG  FTAG\n",
              "7      3     0\n",
              "16     1     0\n",
              "33     1     5\n",
              "35     2     2\n",
              "42     3     2"
            ]
          },
          "metadata": {
            "tags": []
          },
          "execution_count": 312
        }
      ]
    },
    {
      "metadata": {
        "id": "udjYU2TaCClX",
        "colab_type": "code",
        "colab": {}
      },
      "cell_type": "code",
      "source": [
        "def input_fn(features, targets, batch_size=1, shuffle=True, num_epochs=None):\n",
        "    \"\"\"Trains a linear regression model of one feature.\n",
        "  \n",
        "    Args:\n",
        "      features: pandas DataFrame of features\n",
        "      targets: pandas DataFrame of targets\n",
        "      batch_size: Size of batches to be passed to the model\n",
        "      shuffle: True or False. Whether to shuffle the data.\n",
        "      num_epochs: Number of epochs for which data should be repeated. None = repeat indefinitely\n",
        "    Returns:\n",
        "      Tuple of (features, labels) for next data batch\n",
        "    \"\"\"\n",
        " \n",
        "    # Construct a dataset, and configure batching/repeating\n",
        "    features = {key:np.array(value) for key,value in dict(features).items()} \n",
        "  \n",
        "    ds = Dataset.from_tensor_slices((features, targets))\n",
        "    ds = ds.batch(batch_size).repeat(num_epochs)\n",
        "    \n",
        "    # Shuffle the data, if specified\n",
        "    if shuffle:\n",
        "      ds = ds.shuffle(buffer_size=10000)\n",
        "    \n",
        "    # Return the next batch of data\n",
        "    features, labels = ds.make_one_shot_iterator().get_next()\n",
        "    return features, labels"
      ],
      "execution_count": 0,
      "outputs": []
    },
    {
      "metadata": {
        "id": "XauzWrcNCh0J",
        "colab_type": "code",
        "colab": {}
      },
      "cell_type": "code",
      "source": [
        "train_input_fn = lambda: input_fn(x_train, y_train)"
      ],
      "execution_count": 0,
      "outputs": []
    },
    {
      "metadata": {
        "id": "_QCb9zcOCf3A",
        "colab_type": "code",
        "colab": {}
      },
      "cell_type": "code",
      "source": [
        "eval_input_fn =lambda: input_fn(x_eval, y_eval, num_epochs=1, shuffle=False)"
      ],
      "execution_count": 0,
      "outputs": []
    },
    {
      "metadata": {
        "id": "_rvAbHuFjCND",
        "colab_type": "code",
        "colab": {}
      },
      "cell_type": "code",
      "source": [
        "STEPS = 5000  # Steps of train loop.\n",
        "HIDDEN = [1000, 1000, 1000, 1000]"
      ],
      "execution_count": 0,
      "outputs": []
    },
    {
      "metadata": {
        "id": "O4Fyeywlz4dm",
        "colab_type": "code",
        "colab": {}
      },
      "cell_type": "code",
      "source": [
        "feature_cols = [\n",
        "  tf.feature_column.numeric_column(\"FTHG\"),\n",
        "  tf.feature_column.numeric_column(\"FTAG\")\n",
        "]"
      ],
      "execution_count": 0,
      "outputs": []
    },
    {
      "metadata": {
        "id": "xibCYiz3by1B",
        "colab_type": "code",
        "colab": {
          "base_uri": "https://localhost:8080/",
          "height": 88
        },
        "outputId": "7ecd5e5e-b068-4271-df6b-e25e8567ada2"
      },
      "cell_type": "code",
      "source": [
        "# Set up a linear classifier.\n",
        "model = tf.estimator.DNNRegressor(\n",
        "    feature_columns = feature_cols,\n",
        "    hidden_units = HIDDEN\n",
        ")"
      ],
      "execution_count": 318,
      "outputs": [
        {
          "output_type": "stream",
          "text": [
            "INFO:tensorflow:Using default config.\n",
            "WARNING:tensorflow:Using temporary folder as model directory: /tmp/tmp8pf5ipgg\n",
            "INFO:tensorflow:Using config: {'_model_dir': '/tmp/tmp8pf5ipgg', '_tf_random_seed': None, '_save_summary_steps': 100, '_save_checkpoints_steps': None, '_save_checkpoints_secs': 600, '_session_config': None, '_keep_checkpoint_max': 5, '_keep_checkpoint_every_n_hours': 10000, '_log_step_count_steps': 100, '_train_distribute': None, '_device_fn': None, '_service': None, '_cluster_spec': <tensorflow.python.training.server_lib.ClusterSpec object at 0x7f3ac4b182e8>, '_task_type': 'worker', '_task_id': 0, '_global_id_in_cluster': 0, '_master': '', '_evaluation_master': '', '_is_chief': True, '_num_ps_replicas': 0, '_num_worker_replicas': 1}\n"
          ],
          "name": "stdout"
        }
      ]
    },
    {
      "metadata": {
        "id": "-KYQzFW4b1cB",
        "colab_type": "code",
        "colab": {
          "base_uri": "https://localhost:8080/",
          "height": 1870
        },
        "outputId": "36a52f0e-19bd-4562-ad2f-180e026b1e40"
      },
      "cell_type": "code",
      "source": [
        "model.train(input_fn=train_input_fn, steps=STEPS)"
      ],
      "execution_count": 319,
      "outputs": [
        {
          "output_type": "stream",
          "text": [
            "INFO:tensorflow:Calling model_fn.\n",
            "INFO:tensorflow:Done calling model_fn.\n",
            "INFO:tensorflow:Create CheckpointSaverHook.\n",
            "INFO:tensorflow:Graph was finalized.\n",
            "INFO:tensorflow:Running local_init_op.\n",
            "INFO:tensorflow:Done running local_init_op.\n",
            "INFO:tensorflow:Saving checkpoints for 0 into /tmp/tmp8pf5ipgg/model.ckpt.\n",
            "INFO:tensorflow:loss = 4.13483, step = 0\n",
            "INFO:tensorflow:global_step/sec: 231.544\n",
            "INFO:tensorflow:loss = 0.030461606, step = 100 (0.434 sec)\n",
            "INFO:tensorflow:global_step/sec: 263.417\n",
            "INFO:tensorflow:loss = 4.8251437e-05, step = 200 (0.380 sec)\n",
            "INFO:tensorflow:global_step/sec: 262.329\n",
            "INFO:tensorflow:loss = 0.00012595714, step = 300 (0.381 sec)\n",
            "INFO:tensorflow:global_step/sec: 242.228\n",
            "INFO:tensorflow:loss = 0.00011821089, step = 400 (0.414 sec)\n",
            "INFO:tensorflow:global_step/sec: 242.862\n",
            "INFO:tensorflow:loss = 0.00022613826, step = 500 (0.415 sec)\n",
            "INFO:tensorflow:global_step/sec: 238.654\n",
            "INFO:tensorflow:loss = 4.6777004e-06, step = 600 (0.427 sec)\n",
            "INFO:tensorflow:global_step/sec: 247.763\n",
            "INFO:tensorflow:loss = 3.0591364e-06, step = 700 (0.395 sec)\n",
            "INFO:tensorflow:global_step/sec: 238.568\n",
            "INFO:tensorflow:loss = 1.1099966e-05, step = 800 (0.421 sec)\n",
            "INFO:tensorflow:global_step/sec: 228.244\n",
            "INFO:tensorflow:loss = 0.000114386436, step = 900 (0.433 sec)\n",
            "INFO:tensorflow:global_step/sec: 248.049\n",
            "INFO:tensorflow:loss = 0.00023644617, step = 1000 (0.403 sec)\n",
            "INFO:tensorflow:global_step/sec: 252.533\n",
            "INFO:tensorflow:loss = 3.0139501e-05, step = 1100 (0.396 sec)\n",
            "INFO:tensorflow:global_step/sec: 245.089\n",
            "INFO:tensorflow:loss = 0.00022155992, step = 1200 (0.408 sec)\n",
            "INFO:tensorflow:global_step/sec: 249.579\n",
            "INFO:tensorflow:loss = 6.385729e-05, step = 1300 (0.400 sec)\n",
            "INFO:tensorflow:global_step/sec: 246.777\n",
            "INFO:tensorflow:loss = 7.5856806e-06, step = 1400 (0.409 sec)\n",
            "INFO:tensorflow:global_step/sec: 252.747\n",
            "INFO:tensorflow:loss = 4.5342417e-06, step = 1500 (0.396 sec)\n",
            "INFO:tensorflow:global_step/sec: 256.418\n",
            "INFO:tensorflow:loss = 1.1429643e-07, step = 1600 (0.389 sec)\n",
            "INFO:tensorflow:global_step/sec: 250.8\n",
            "INFO:tensorflow:loss = 2.6858046e-07, step = 1700 (0.395 sec)\n",
            "INFO:tensorflow:global_step/sec: 255.473\n",
            "INFO:tensorflow:loss = 2.6984765e-08, step = 1800 (0.395 sec)\n",
            "INFO:tensorflow:global_step/sec: 251.231\n",
            "INFO:tensorflow:loss = 1.1723291e-05, step = 1900 (0.396 sec)\n",
            "INFO:tensorflow:global_step/sec: 250.466\n",
            "INFO:tensorflow:loss = 4.7072035e-06, step = 2000 (0.403 sec)\n",
            "INFO:tensorflow:global_step/sec: 253.824\n",
            "INFO:tensorflow:loss = 1.12716e-06, step = 2100 (0.395 sec)\n",
            "INFO:tensorflow:global_step/sec: 235.91\n",
            "INFO:tensorflow:loss = 8.132673e-08, step = 2200 (0.420 sec)\n",
            "INFO:tensorflow:global_step/sec: 241.539\n",
            "INFO:tensorflow:loss = 1.9203094e-07, step = 2300 (0.418 sec)\n",
            "INFO:tensorflow:global_step/sec: 249.863\n",
            "INFO:tensorflow:loss = 3.361729e-07, step = 2400 (0.400 sec)\n",
            "INFO:tensorflow:global_step/sec: 246.397\n",
            "INFO:tensorflow:loss = 2.4813544e-06, step = 2500 (0.402 sec)\n",
            "INFO:tensorflow:global_step/sec: 248.271\n",
            "INFO:tensorflow:loss = 3.099065e-07, step = 2600 (0.406 sec)\n",
            "INFO:tensorflow:global_step/sec: 251.209\n",
            "INFO:tensorflow:loss = 1.6215841e-07, step = 2700 (0.398 sec)\n",
            "INFO:tensorflow:global_step/sec: 245.163\n"
          ],
          "name": "stdout"
        },
        {
          "output_type": "stream",
          "text": [
            "INFO:tensorflow:loss = 1.649062e-07, step = 2800 (0.404 sec)\n",
            "INFO:tensorflow:global_step/sec: 253.548\n",
            "INFO:tensorflow:loss = 1.6416309e-06, step = 2900 (0.398 sec)\n",
            "INFO:tensorflow:global_step/sec: 252.148\n",
            "INFO:tensorflow:loss = 2.796779e-08, step = 3000 (0.392 sec)\n",
            "INFO:tensorflow:global_step/sec: 252.401\n",
            "INFO:tensorflow:loss = 9.043272e-08, step = 3100 (0.401 sec)\n",
            "INFO:tensorflow:global_step/sec: 252.636\n",
            "INFO:tensorflow:loss = 4.6576965e-09, step = 3200 (0.396 sec)\n",
            "INFO:tensorflow:global_step/sec: 256.431\n",
            "INFO:tensorflow:loss = 1.8793855e-10, step = 3300 (0.389 sec)\n",
            "INFO:tensorflow:global_step/sec: 249.933\n",
            "INFO:tensorflow:loss = 4.950153e-07, step = 3400 (0.397 sec)\n",
            "INFO:tensorflow:global_step/sec: 260.267\n",
            "INFO:tensorflow:loss = 1.0094138e-06, step = 3500 (0.384 sec)\n",
            "INFO:tensorflow:global_step/sec: 251.007\n",
            "INFO:tensorflow:loss = 1.4918628e-06, step = 3600 (0.402 sec)\n",
            "INFO:tensorflow:global_step/sec: 256.317\n",
            "INFO:tensorflow:loss = 6.865554e-08, step = 3700 (0.390 sec)\n",
            "INFO:tensorflow:global_step/sec: 254.596\n",
            "INFO:tensorflow:loss = 3.1321251e-06, step = 3800 (0.394 sec)\n",
            "INFO:tensorflow:global_step/sec: 250.341\n",
            "INFO:tensorflow:loss = 1.6721853e-05, step = 3900 (0.399 sec)\n",
            "INFO:tensorflow:global_step/sec: 240.281\n",
            "INFO:tensorflow:loss = 5.7299076e-08, step = 4000 (0.413 sec)\n",
            "INFO:tensorflow:global_step/sec: 252.911\n",
            "INFO:tensorflow:loss = 2.167475e-08, step = 4100 (0.394 sec)\n",
            "INFO:tensorflow:global_step/sec: 253.552\n",
            "INFO:tensorflow:loss = 4.940093e-07, step = 4200 (0.395 sec)\n",
            "INFO:tensorflow:global_step/sec: 237.939\n",
            "INFO:tensorflow:loss = 4.731158e-08, step = 4300 (0.421 sec)\n",
            "INFO:tensorflow:global_step/sec: 249.941\n",
            "INFO:tensorflow:loss = 9.91941e-08, step = 4400 (0.404 sec)\n",
            "INFO:tensorflow:global_step/sec: 256.675\n",
            "INFO:tensorflow:loss = 1.1905486e-06, step = 4500 (0.390 sec)\n",
            "INFO:tensorflow:global_step/sec: 244.419\n",
            "INFO:tensorflow:loss = 5.272267e-07, step = 4600 (0.409 sec)\n",
            "INFO:tensorflow:global_step/sec: 251.916\n",
            "INFO:tensorflow:loss = 8.2392575e-08, step = 4700 (0.398 sec)\n",
            "INFO:tensorflow:global_step/sec: 253.476\n",
            "INFO:tensorflow:loss = 1.1029911e-08, step = 4800 (0.389 sec)\n",
            "INFO:tensorflow:global_step/sec: 248.682\n",
            "INFO:tensorflow:loss = 1.3115829e-07, step = 4900 (0.402 sec)\n",
            "INFO:tensorflow:Saving checkpoints for 5000 into /tmp/tmp8pf5ipgg/model.ckpt.\n",
            "INFO:tensorflow:Loss for final step: 6.765964e-08.\n"
          ],
          "name": "stdout"
        },
        {
          "output_type": "execute_result",
          "data": {
            "text/plain": [
              "<tensorflow.python.estimator.canned.dnn.DNNRegressor at 0x7f3ac4b18828>"
            ]
          },
          "metadata": {
            "tags": []
          },
          "execution_count": 319
        }
      ]
    },
    {
      "metadata": {
        "id": "Mycdqye_b3Vi",
        "colab_type": "code",
        "colab": {
          "base_uri": "https://localhost:8080/",
          "height": 204
        },
        "outputId": "0e30b210-c300-4983-a374-0e7783317fcd"
      },
      "cell_type": "code",
      "source": [
        "eval_result = model.evaluate(steps=STEPS, input_fn=eval_input_fn)"
      ],
      "execution_count": 320,
      "outputs": [
        {
          "output_type": "stream",
          "text": [
            "INFO:tensorflow:Calling model_fn.\n",
            "INFO:tensorflow:Done calling model_fn.\n",
            "INFO:tensorflow:Starting evaluation at 2018-07-26-13:50:21\n",
            "INFO:tensorflow:Graph was finalized.\n",
            "INFO:tensorflow:Restoring parameters from /tmp/tmp8pf5ipgg/model.ckpt-5000\n",
            "INFO:tensorflow:Running local_init_op.\n",
            "INFO:tensorflow:Done running local_init_op.\n",
            "INFO:tensorflow:Evaluation [500/5000]\n",
            "INFO:tensorflow:Finished evaluation at 2018-07-26-13:50:22\n",
            "INFO:tensorflow:Saving dict for global step 5000: average_loss = 4.0476957e-07, global_step = 5000, loss = 4.0476957e-07\n",
            "INFO:tensorflow:Saving 'checkpoint_path' summary for global step 5000: /tmp/tmp8pf5ipgg/model.ckpt-5000\n"
          ],
          "name": "stdout"
        }
      ]
    },
    {
      "metadata": {
        "id": "coh_2FBbOs86",
        "colab_type": "code",
        "colab": {
          "base_uri": "https://localhost:8080/",
          "height": 136
        },
        "outputId": "75a713f4-cff1-46e6-c257-f638e0850a53"
      },
      "cell_type": "code",
      "source": [
        "loss = eval_result[\"loss\"]\n",
        "average_loss = eval_result[\"average_loss\"]\n",
        "\n",
        "print(\"\\n\" + 80 * \"*\")\n",
        "print(\"\\nLoss: {:2.10f}\".format(loss))\n",
        "print(\"\\nAverage loss: {:2.10f}\".format(average_loss))\n",
        "print()"
      ],
      "execution_count": 321,
      "outputs": [
        {
          "output_type": "stream",
          "text": [
            "\n",
            "********************************************************************************\n",
            "\n",
            "Loss: 0.0000004048\n",
            "\n",
            "Average loss: 0.0000004048\n",
            "\n"
          ],
          "name": "stdout"
        }
      ]
    }
  ]
}