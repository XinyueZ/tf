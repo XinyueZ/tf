{
  "nbformat": 4,
  "nbformat_minor": 0,
  "metadata": {
    "colab": {
      "name": "Bundesliga_Results_estimator.ipynb",
      "version": "0.3.2",
      "provenance": [],
      "collapsed_sections": [],
      "include_colab_link": true
    },
    "kernelspec": {
      "name": "python3",
      "display_name": "Python 3"
    },
    "accelerator": "GPU"
  },
  "cells": [
    {
      "cell_type": "markdown",
      "metadata": {
        "id": "view-in-github",
        "colab_type": "text"
      },
      "source": [
        "[View in Colaboratory](https://colab.research.google.com/github/XinyueZ/tf/blob/master/ipynb/Bundesliga_Results_estimator.ipynb)"
      ]
    },
    {
      "metadata": {
        "id": "rg2f5tmt2rcR",
        "colab_type": "text"
      },
      "cell_type": "markdown",
      "source": [
        "# Train model to evaluate football result. "
      ]
    },
    {
      "metadata": {
        "id": "usywsvFLF2bo",
        "colab_type": "code",
        "colab": {}
      },
      "cell_type": "code",
      "source": [
        "import tensorflow as tf\n",
        "from tensorflow.python.data import Dataset\n",
        "import numpy as np\n",
        "import pandas as pd\n",
        "from sklearn.preprocessing import LabelEncoder"
      ],
      "execution_count": 0,
      "outputs": []
    },
    {
      "metadata": {
        "id": "M1XjwLH4P00k",
        "colab_type": "code",
        "colab": {}
      },
      "cell_type": "code",
      "source": [
        "tf.logging.set_verbosity(tf.logging.INFO)"
      ],
      "execution_count": 0,
      "outputs": []
    },
    {
      "metadata": {
        "id": "dy53WMcs27Ez",
        "colab_type": "text"
      },
      "cell_type": "markdown",
      "source": [
        "Data-source from https://www.kaggle.com/thefc17/bundesliga-results-19932018"
      ]
    },
    {
      "metadata": {
        "id": "TcCdsIeI225b",
        "colab_type": "text"
      },
      "cell_type": "markdown",
      "source": [
        "This dataset contains results from every Bundesliga match from 1993-1994 to 2017-2018. It also includes half time results, but only from 1995-96 to 2017-18. Columns include Division (denoted as D1), HomeTeam, AwayTeam, FTHG (final time home goals), FTAG (final time away goals), FTR (full time result), HTHG (half time home goals), HTAG (half time away goals), HTR (half time result), and season.\n",
        "\n",
        "Data compiled into one file from this site: http://www.football-data.co.uk/germanym.php"
      ]
    },
    {
      "metadata": {
        "id": "6gRBSBTfiO1x",
        "colab_type": "code",
        "colab": {
          "base_uri": "https://localhost:8080/",
          "height": 204
        },
        "outputId": "73d35aae-e438-4509-a96c-d357e5a642d2"
      },
      "cell_type": "code",
      "source": [
        "df = pd.read_csv(\"https://dl.dropbox.com/s/3jzvvjl2iqnlqzz/Bundesliga_Results.csv\", sep=\",\")\n",
        "df = df[pd.notnull(df[\"FTHG\"])]\n",
        "df = df[pd.notnull(df[\"FTAG\"])]\n",
        "df = df[pd.notnull(df[\"FTR\"])]\n",
        "df.head()"
      ],
      "execution_count": 245,
      "outputs": [
        {
          "output_type": "execute_result",
          "data": {
            "text/html": [
              "<div>\n",
              "<style scoped>\n",
              "    .dataframe tbody tr th:only-of-type {\n",
              "        vertical-align: middle;\n",
              "    }\n",
              "\n",
              "    .dataframe tbody tr th {\n",
              "        vertical-align: top;\n",
              "    }\n",
              "\n",
              "    .dataframe thead th {\n",
              "        text-align: right;\n",
              "    }\n",
              "</style>\n",
              "<table border=\"1\" class=\"dataframe\">\n",
              "  <thead>\n",
              "    <tr style=\"text-align: right;\">\n",
              "      <th></th>\n",
              "      <th>Div</th>\n",
              "      <th>Date</th>\n",
              "      <th>HomeTeam</th>\n",
              "      <th>AwayTeam</th>\n",
              "      <th>FTHG</th>\n",
              "      <th>FTAG</th>\n",
              "      <th>FTR</th>\n",
              "      <th>HTHG</th>\n",
              "      <th>HTAG</th>\n",
              "      <th>HTR</th>\n",
              "      <th>Season</th>\n",
              "    </tr>\n",
              "  </thead>\n",
              "  <tbody>\n",
              "    <tr>\n",
              "      <th>0</th>\n",
              "      <td>D1</td>\n",
              "      <td>7/8/1993</td>\n",
              "      <td>Bayern Munich</td>\n",
              "      <td>Freiburg</td>\n",
              "      <td>3</td>\n",
              "      <td>1</td>\n",
              "      <td>H</td>\n",
              "      <td>NaN</td>\n",
              "      <td>NaN</td>\n",
              "      <td>NaN</td>\n",
              "      <td>1993-94</td>\n",
              "    </tr>\n",
              "    <tr>\n",
              "      <th>1</th>\n",
              "      <td>D1</td>\n",
              "      <td>7/8/1993</td>\n",
              "      <td>Dortmund</td>\n",
              "      <td>Karlsruhe</td>\n",
              "      <td>2</td>\n",
              "      <td>1</td>\n",
              "      <td>H</td>\n",
              "      <td>NaN</td>\n",
              "      <td>NaN</td>\n",
              "      <td>NaN</td>\n",
              "      <td>1993-94</td>\n",
              "    </tr>\n",
              "    <tr>\n",
              "      <th>2</th>\n",
              "      <td>D1</td>\n",
              "      <td>7/8/1993</td>\n",
              "      <td>Duisburg</td>\n",
              "      <td>Leverkusen</td>\n",
              "      <td>2</td>\n",
              "      <td>2</td>\n",
              "      <td>D</td>\n",
              "      <td>NaN</td>\n",
              "      <td>NaN</td>\n",
              "      <td>NaN</td>\n",
              "      <td>1993-94</td>\n",
              "    </tr>\n",
              "    <tr>\n",
              "      <th>3</th>\n",
              "      <td>D1</td>\n",
              "      <td>7/8/1993</td>\n",
              "      <td>FC Koln</td>\n",
              "      <td>Kaiserslautern</td>\n",
              "      <td>0</td>\n",
              "      <td>2</td>\n",
              "      <td>A</td>\n",
              "      <td>NaN</td>\n",
              "      <td>NaN</td>\n",
              "      <td>NaN</td>\n",
              "      <td>1993-94</td>\n",
              "    </tr>\n",
              "    <tr>\n",
              "      <th>4</th>\n",
              "      <td>D1</td>\n",
              "      <td>7/8/1993</td>\n",
              "      <td>Hamburg</td>\n",
              "      <td>Nurnberg</td>\n",
              "      <td>5</td>\n",
              "      <td>2</td>\n",
              "      <td>H</td>\n",
              "      <td>NaN</td>\n",
              "      <td>NaN</td>\n",
              "      <td>NaN</td>\n",
              "      <td>1993-94</td>\n",
              "    </tr>\n",
              "  </tbody>\n",
              "</table>\n",
              "</div>"
            ],
            "text/plain": [
              "  Div      Date       HomeTeam        AwayTeam  FTHG  FTAG FTR  HTHG  HTAG  \\\n",
              "0  D1  7/8/1993  Bayern Munich        Freiburg     3     1   H   NaN   NaN   \n",
              "1  D1  7/8/1993       Dortmund       Karlsruhe     2     1   H   NaN   NaN   \n",
              "2  D1  7/8/1993       Duisburg      Leverkusen     2     2   D   NaN   NaN   \n",
              "3  D1  7/8/1993        FC Koln  Kaiserslautern     0     2   A   NaN   NaN   \n",
              "4  D1  7/8/1993        Hamburg        Nurnberg     5     2   H   NaN   NaN   \n",
              "\n",
              "   HTR   Season  \n",
              "0  NaN  1993-94  \n",
              "1  NaN  1993-94  \n",
              "2  NaN  1993-94  \n",
              "3  NaN  1993-94  \n",
              "4  NaN  1993-94  "
            ]
          },
          "metadata": {
            "tags": []
          },
          "execution_count": 245
        }
      ]
    },
    {
      "metadata": {
        "id": "PWk86xsBDkch",
        "colab_type": "code",
        "colab": {}
      },
      "cell_type": "code",
      "source": [
        "def make_dataset_and_labels_and_class_num(df, label_name):\n",
        "  \"\"\"This method will prepare dataset, labels for train, test and classes.\n",
        "     Args:\n",
        "      df: DataFrame format of datasource.\n",
        "      label_name: The name of column in datasource which will be as target for train.\n",
        "     Return: \n",
        "       Tuple of (ds_train, ds_test, y_train, y_test, classes)\n",
        "      \n",
        "  \"\"\"\n",
        "  target_label_col = \"label\" #New column name in original table.\n",
        "  \n",
        "  encoder = LabelEncoder()\n",
        "  label = encoder.fit_transform(df[label_name])\n",
        "  df.insert(2, target_label_col, label) \n",
        "  result_fit = encoder.fit(df[label_name])\n",
        "  \n",
        "  random_seed = None\n",
        "  np.random.seed(random_seed)\n",
        "  \n",
        "  ds_train = df.sample(frac=0.9, random_state=random_seed)\n",
        "  lines = len(ds_train)\n",
        "  label_train = ds_train[target_label_col]\n",
        "  \n",
        "  ds_test = df.drop(ds_train.index)\n",
        "  label_test = ds_test[target_label_col]\n",
        "   \n",
        "  return ds_train, ds_test, label_train, label_test, result_fit.classes_"
      ],
      "execution_count": 0,
      "outputs": []
    },
    {
      "metadata": {
        "id": "NgkHsXdun_dO",
        "colab_type": "code",
        "colab": {}
      },
      "cell_type": "code",
      "source": [
        "ds_train, ds_test, y_train, y_test, result_classes = make_dataset_and_labels_and_class_num(df, \"FTR\")"
      ],
      "execution_count": 0,
      "outputs": []
    },
    {
      "metadata": {
        "id": "akLoHfAXAqOi",
        "colab_type": "code",
        "colab": {
          "base_uri": "https://localhost:8080/",
          "height": 34
        },
        "outputId": "0106e7a3-87a1-4598-e756-2d0961104400"
      },
      "cell_type": "code",
      "source": [
        "result_classes"
      ],
      "execution_count": 248,
      "outputs": [
        {
          "output_type": "execute_result",
          "data": {
            "text/plain": [
              "array(['A', 'D', 'H'], dtype=object)"
            ]
          },
          "metadata": {
            "tags": []
          },
          "execution_count": 248
        }
      ]
    },
    {
      "metadata": {
        "id": "mgVYA89XoHIV",
        "colab_type": "code",
        "colab": {
          "base_uri": "https://localhost:8080/",
          "height": 297
        },
        "outputId": "5dc09356-b677-40be-cad6-3d3f29bcc05a"
      },
      "cell_type": "code",
      "source": [
        "ds_train.describe()"
      ],
      "execution_count": 249,
      "outputs": [
        {
          "output_type": "execute_result",
          "data": {
            "text/html": [
              "<div>\n",
              "<style scoped>\n",
              "    .dataframe tbody tr th:only-of-type {\n",
              "        vertical-align: middle;\n",
              "    }\n",
              "\n",
              "    .dataframe tbody tr th {\n",
              "        vertical-align: top;\n",
              "    }\n",
              "\n",
              "    .dataframe thead th {\n",
              "        text-align: right;\n",
              "    }\n",
              "</style>\n",
              "<table border=\"1\" class=\"dataframe\">\n",
              "  <thead>\n",
              "    <tr style=\"text-align: right;\">\n",
              "      <th></th>\n",
              "      <th>label</th>\n",
              "      <th>FTHG</th>\n",
              "      <th>FTAG</th>\n",
              "      <th>HTHG</th>\n",
              "      <th>HTAG</th>\n",
              "    </tr>\n",
              "  </thead>\n",
              "  <tbody>\n",
              "    <tr>\n",
              "      <th>count</th>\n",
              "      <td>6885.000000</td>\n",
              "      <td>6885.000000</td>\n",
              "      <td>6885.000000</td>\n",
              "      <td>6339.000000</td>\n",
              "      <td>6339.000000</td>\n",
              "    </tr>\n",
              "    <tr>\n",
              "      <th>mean</th>\n",
              "      <td>1.194190</td>\n",
              "      <td>1.662890</td>\n",
              "      <td>1.222948</td>\n",
              "      <td>0.729137</td>\n",
              "      <td>0.530841</td>\n",
              "    </tr>\n",
              "    <tr>\n",
              "      <th>std</th>\n",
              "      <td>0.842074</td>\n",
              "      <td>1.329752</td>\n",
              "      <td>1.165601</td>\n",
              "      <td>0.848953</td>\n",
              "      <td>0.720559</td>\n",
              "    </tr>\n",
              "    <tr>\n",
              "      <th>min</th>\n",
              "      <td>0.000000</td>\n",
              "      <td>0.000000</td>\n",
              "      <td>0.000000</td>\n",
              "      <td>0.000000</td>\n",
              "      <td>0.000000</td>\n",
              "    </tr>\n",
              "    <tr>\n",
              "      <th>25%</th>\n",
              "      <td>0.000000</td>\n",
              "      <td>1.000000</td>\n",
              "      <td>0.000000</td>\n",
              "      <td>0.000000</td>\n",
              "      <td>0.000000</td>\n",
              "    </tr>\n",
              "    <tr>\n",
              "      <th>50%</th>\n",
              "      <td>1.000000</td>\n",
              "      <td>1.000000</td>\n",
              "      <td>1.000000</td>\n",
              "      <td>1.000000</td>\n",
              "      <td>0.000000</td>\n",
              "    </tr>\n",
              "    <tr>\n",
              "      <th>75%</th>\n",
              "      <td>2.000000</td>\n",
              "      <td>2.000000</td>\n",
              "      <td>2.000000</td>\n",
              "      <td>1.000000</td>\n",
              "      <td>1.000000</td>\n",
              "    </tr>\n",
              "    <tr>\n",
              "      <th>max</th>\n",
              "      <td>2.000000</td>\n",
              "      <td>9.000000</td>\n",
              "      <td>9.000000</td>\n",
              "      <td>5.000000</td>\n",
              "      <td>5.000000</td>\n",
              "    </tr>\n",
              "  </tbody>\n",
              "</table>\n",
              "</div>"
            ],
            "text/plain": [
              "             label         FTHG         FTAG         HTHG         HTAG\n",
              "count  6885.000000  6885.000000  6885.000000  6339.000000  6339.000000\n",
              "mean      1.194190     1.662890     1.222948     0.729137     0.530841\n",
              "std       0.842074     1.329752     1.165601     0.848953     0.720559\n",
              "min       0.000000     0.000000     0.000000     0.000000     0.000000\n",
              "25%       0.000000     1.000000     0.000000     0.000000     0.000000\n",
              "50%       1.000000     1.000000     1.000000     1.000000     0.000000\n",
              "75%       2.000000     2.000000     2.000000     1.000000     1.000000\n",
              "max       2.000000     9.000000     9.000000     5.000000     5.000000"
            ]
          },
          "metadata": {
            "tags": []
          },
          "execution_count": 249
        }
      ]
    },
    {
      "metadata": {
        "id": "oMlOOyPQoI1E",
        "colab_type": "code",
        "colab": {
          "base_uri": "https://localhost:8080/",
          "height": 297
        },
        "outputId": "3bdbe296-89fd-48fa-edd9-95591ba2e990"
      },
      "cell_type": "code",
      "source": [
        "ds_test.describe()"
      ],
      "execution_count": 250,
      "outputs": [
        {
          "output_type": "execute_result",
          "data": {
            "text/html": [
              "<div>\n",
              "<style scoped>\n",
              "    .dataframe tbody tr th:only-of-type {\n",
              "        vertical-align: middle;\n",
              "    }\n",
              "\n",
              "    .dataframe tbody tr th {\n",
              "        vertical-align: top;\n",
              "    }\n",
              "\n",
              "    .dataframe thead th {\n",
              "        text-align: right;\n",
              "    }\n",
              "</style>\n",
              "<table border=\"1\" class=\"dataframe\">\n",
              "  <thead>\n",
              "    <tr style=\"text-align: right;\">\n",
              "      <th></th>\n",
              "      <th>label</th>\n",
              "      <th>FTHG</th>\n",
              "      <th>FTAG</th>\n",
              "      <th>HTHG</th>\n",
              "      <th>HTAG</th>\n",
              "    </tr>\n",
              "  </thead>\n",
              "  <tbody>\n",
              "    <tr>\n",
              "      <th>count</th>\n",
              "      <td>765.000000</td>\n",
              "      <td>765.000000</td>\n",
              "      <td>765.000000</td>\n",
              "      <td>699.000000</td>\n",
              "      <td>699.000000</td>\n",
              "    </tr>\n",
              "    <tr>\n",
              "      <th>mean</th>\n",
              "      <td>1.197386</td>\n",
              "      <td>1.633987</td>\n",
              "      <td>1.141176</td>\n",
              "      <td>0.715308</td>\n",
              "      <td>0.459227</td>\n",
              "    </tr>\n",
              "    <tr>\n",
              "      <th>std</th>\n",
              "      <td>0.821181</td>\n",
              "      <td>1.355383</td>\n",
              "      <td>1.088224</td>\n",
              "      <td>0.884721</td>\n",
              "      <td>0.641886</td>\n",
              "    </tr>\n",
              "    <tr>\n",
              "      <th>min</th>\n",
              "      <td>0.000000</td>\n",
              "      <td>0.000000</td>\n",
              "      <td>0.000000</td>\n",
              "      <td>0.000000</td>\n",
              "      <td>0.000000</td>\n",
              "    </tr>\n",
              "    <tr>\n",
              "      <th>25%</th>\n",
              "      <td>0.000000</td>\n",
              "      <td>1.000000</td>\n",
              "      <td>0.000000</td>\n",
              "      <td>0.000000</td>\n",
              "      <td>0.000000</td>\n",
              "    </tr>\n",
              "    <tr>\n",
              "      <th>50%</th>\n",
              "      <td>1.000000</td>\n",
              "      <td>1.000000</td>\n",
              "      <td>1.000000</td>\n",
              "      <td>0.000000</td>\n",
              "      <td>0.000000</td>\n",
              "    </tr>\n",
              "    <tr>\n",
              "      <th>75%</th>\n",
              "      <td>2.000000</td>\n",
              "      <td>2.000000</td>\n",
              "      <td>2.000000</td>\n",
              "      <td>1.000000</td>\n",
              "      <td>1.000000</td>\n",
              "    </tr>\n",
              "    <tr>\n",
              "      <th>max</th>\n",
              "      <td>2.000000</td>\n",
              "      <td>7.000000</td>\n",
              "      <td>6.000000</td>\n",
              "      <td>5.000000</td>\n",
              "      <td>3.000000</td>\n",
              "    </tr>\n",
              "  </tbody>\n",
              "</table>\n",
              "</div>"
            ],
            "text/plain": [
              "            label        FTHG        FTAG        HTHG        HTAG\n",
              "count  765.000000  765.000000  765.000000  699.000000  699.000000\n",
              "mean     1.197386    1.633987    1.141176    0.715308    0.459227\n",
              "std      0.821181    1.355383    1.088224    0.884721    0.641886\n",
              "min      0.000000    0.000000    0.000000    0.000000    0.000000\n",
              "25%      0.000000    1.000000    0.000000    0.000000    0.000000\n",
              "50%      1.000000    1.000000    1.000000    0.000000    0.000000\n",
              "75%      2.000000    2.000000    2.000000    1.000000    1.000000\n",
              "max      2.000000    7.000000    6.000000    5.000000    3.000000"
            ]
          },
          "metadata": {
            "tags": []
          },
          "execution_count": 250
        }
      ]
    },
    {
      "metadata": {
        "id": "JZavMq0Po3p1",
        "colab_type": "code",
        "colab": {}
      },
      "cell_type": "code",
      "source": [
        "x_train = ds_train[[\"FTHG\", \"FTAG\"]]\n",
        "x_test = ds_test[[\"FTHG\", \"FTAG\"]]"
      ],
      "execution_count": 0,
      "outputs": []
    },
    {
      "metadata": {
        "id": "Yi1g3htco3st",
        "colab_type": "code",
        "colab": {
          "base_uri": "https://localhost:8080/",
          "height": 204
        },
        "outputId": "43101928-765a-4977-d259-c406bdfe5524"
      },
      "cell_type": "code",
      "source": [
        "x_train.head()"
      ],
      "execution_count": 252,
      "outputs": [
        {
          "output_type": "execute_result",
          "data": {
            "text/html": [
              "<div>\n",
              "<style scoped>\n",
              "    .dataframe tbody tr th:only-of-type {\n",
              "        vertical-align: middle;\n",
              "    }\n",
              "\n",
              "    .dataframe tbody tr th {\n",
              "        vertical-align: top;\n",
              "    }\n",
              "\n",
              "    .dataframe thead th {\n",
              "        text-align: right;\n",
              "    }\n",
              "</style>\n",
              "<table border=\"1\" class=\"dataframe\">\n",
              "  <thead>\n",
              "    <tr style=\"text-align: right;\">\n",
              "      <th></th>\n",
              "      <th>FTHG</th>\n",
              "      <th>FTAG</th>\n",
              "    </tr>\n",
              "  </thead>\n",
              "  <tbody>\n",
              "    <tr>\n",
              "      <th>3592</th>\n",
              "      <td>5</td>\n",
              "      <td>1</td>\n",
              "    </tr>\n",
              "    <tr>\n",
              "      <th>7413</th>\n",
              "      <td>3</td>\n",
              "      <td>2</td>\n",
              "    </tr>\n",
              "    <tr>\n",
              "      <th>7543</th>\n",
              "      <td>1</td>\n",
              "      <td>1</td>\n",
              "    </tr>\n",
              "    <tr>\n",
              "      <th>6066</th>\n",
              "      <td>3</td>\n",
              "      <td>1</td>\n",
              "    </tr>\n",
              "    <tr>\n",
              "      <th>2444</th>\n",
              "      <td>0</td>\n",
              "      <td>1</td>\n",
              "    </tr>\n",
              "  </tbody>\n",
              "</table>\n",
              "</div>"
            ],
            "text/plain": [
              "      FTHG  FTAG\n",
              "3592     5     1\n",
              "7413     3     2\n",
              "7543     1     1\n",
              "6066     3     1\n",
              "2444     0     1"
            ]
          },
          "metadata": {
            "tags": []
          },
          "execution_count": 252
        }
      ]
    },
    {
      "metadata": {
        "id": "6VRcJQxqpInl",
        "colab_type": "code",
        "colab": {
          "base_uri": "https://localhost:8080/",
          "height": 204
        },
        "outputId": "b647c6e6-0adb-48f3-9e53-0743d3ebc005"
      },
      "cell_type": "code",
      "source": [
        "x_test.head()"
      ],
      "execution_count": 253,
      "outputs": [
        {
          "output_type": "execute_result",
          "data": {
            "text/html": [
              "<div>\n",
              "<style scoped>\n",
              "    .dataframe tbody tr th:only-of-type {\n",
              "        vertical-align: middle;\n",
              "    }\n",
              "\n",
              "    .dataframe tbody tr th {\n",
              "        vertical-align: top;\n",
              "    }\n",
              "\n",
              "    .dataframe thead th {\n",
              "        text-align: right;\n",
              "    }\n",
              "</style>\n",
              "<table border=\"1\" class=\"dataframe\">\n",
              "  <thead>\n",
              "    <tr style=\"text-align: right;\">\n",
              "      <th></th>\n",
              "      <th>FTHG</th>\n",
              "      <th>FTAG</th>\n",
              "    </tr>\n",
              "  </thead>\n",
              "  <tbody>\n",
              "    <tr>\n",
              "      <th>8</th>\n",
              "      <td>5</td>\n",
              "      <td>1</td>\n",
              "    </tr>\n",
              "    <tr>\n",
              "      <th>32</th>\n",
              "      <td>2</td>\n",
              "      <td>1</td>\n",
              "    </tr>\n",
              "    <tr>\n",
              "      <th>68</th>\n",
              "      <td>1</td>\n",
              "      <td>4</td>\n",
              "    </tr>\n",
              "    <tr>\n",
              "      <th>75</th>\n",
              "      <td>0</td>\n",
              "      <td>1</td>\n",
              "    </tr>\n",
              "    <tr>\n",
              "      <th>84</th>\n",
              "      <td>3</td>\n",
              "      <td>3</td>\n",
              "    </tr>\n",
              "  </tbody>\n",
              "</table>\n",
              "</div>"
            ],
            "text/plain": [
              "    FTHG  FTAG\n",
              "8      5     1\n",
              "32     2     1\n",
              "68     1     4\n",
              "75     0     1\n",
              "84     3     3"
            ]
          },
          "metadata": {
            "tags": []
          },
          "execution_count": 253
        }
      ]
    },
    {
      "metadata": {
        "id": "udjYU2TaCClX",
        "colab_type": "code",
        "colab": {}
      },
      "cell_type": "code",
      "source": [
        "def input_fn(features, targets, batch_size=1, shuffle=True, num_epochs=None):\n",
        "    \"\"\"Trains a linear regression model of one feature.\n",
        "  \n",
        "    Args:\n",
        "      features: pandas DataFrame of features\n",
        "      targets: pandas DataFrame of targets\n",
        "      batch_size: Size of batches to be passed to the model\n",
        "      shuffle: True or False. Whether to shuffle the data.\n",
        "      num_epochs: Number of epochs for which data should be repeated. None = repeat indefinitely\n",
        "    Returns:\n",
        "      Tuple of (features, labels) for next data batch\n",
        "    \"\"\"\n",
        " \n",
        "    # Construct a dataset, and configure batching/repeating\n",
        "    features = {key:np.array(value) for key,value in dict(features).items()} \n",
        "  \n",
        "    ds = Dataset.from_tensor_slices((features, targets))\n",
        "    ds = ds.batch(batch_size).repeat(num_epochs)\n",
        "    \n",
        "    # Shuffle the data, if specified\n",
        "    if shuffle:\n",
        "      ds = ds.shuffle(buffer_size=10000)\n",
        "    \n",
        "    # Return the next batch of data\n",
        "    features, labels = ds.make_one_shot_iterator().get_next()\n",
        "    return features, labels"
      ],
      "execution_count": 0,
      "outputs": []
    },
    {
      "metadata": {
        "id": "XauzWrcNCh0J",
        "colab_type": "code",
        "colab": {}
      },
      "cell_type": "code",
      "source": [
        "train_input_fn = lambda: input_fn(x_train, y_train)"
      ],
      "execution_count": 0,
      "outputs": []
    },
    {
      "metadata": {
        "id": "_QCb9zcOCf3A",
        "colab_type": "code",
        "colab": {}
      },
      "cell_type": "code",
      "source": [
        "test_input_fn =lambda: input_fn(x_test, y_test, num_epochs=1, shuffle=False)"
      ],
      "execution_count": 0,
      "outputs": []
    },
    {
      "metadata": {
        "id": "_rvAbHuFjCND",
        "colab_type": "code",
        "colab": {}
      },
      "cell_type": "code",
      "source": [
        "STEPS = 5000  # Steps of train loop.\n",
        "HIDDEN = [1000, 1000, 1000, 1000]"
      ],
      "execution_count": 0,
      "outputs": []
    },
    {
      "metadata": {
        "id": "O4Fyeywlz4dm",
        "colab_type": "code",
        "colab": {}
      },
      "cell_type": "code",
      "source": [
        "feature_cols = [\n",
        "  tf.feature_column.numeric_column(\"FTHG\"),\n",
        "  tf.feature_column.numeric_column(\"FTAG\")\n",
        "]"
      ],
      "execution_count": 0,
      "outputs": []
    },
    {
      "metadata": {
        "id": "xibCYiz3by1B",
        "colab_type": "code",
        "colab": {
          "base_uri": "https://localhost:8080/",
          "height": 88
        },
        "outputId": "e66a6592-fdd3-4768-e973-120285443848"
      },
      "cell_type": "code",
      "source": [
        "# Set up a linear classifier.\n",
        "model = tf.estimator.DNNRegressor(\n",
        "    feature_columns = feature_cols,\n",
        "    hidden_units = HIDDEN\n",
        ")"
      ],
      "execution_count": 259,
      "outputs": [
        {
          "output_type": "stream",
          "text": [
            "INFO:tensorflow:Using default config.\n",
            "WARNING:tensorflow:Using temporary folder as model directory: /tmp/tmp1urp2moy\n",
            "INFO:tensorflow:Using config: {'_model_dir': '/tmp/tmp1urp2moy', '_tf_random_seed': None, '_save_summary_steps': 100, '_save_checkpoints_steps': None, '_save_checkpoints_secs': 600, '_session_config': None, '_keep_checkpoint_max': 5, '_keep_checkpoint_every_n_hours': 10000, '_log_step_count_steps': 100, '_train_distribute': None, '_device_fn': None, '_service': None, '_cluster_spec': <tensorflow.python.training.server_lib.ClusterSpec object at 0x7f3a993c21d0>, '_task_type': 'worker', '_task_id': 0, '_global_id_in_cluster': 0, '_master': '', '_evaluation_master': '', '_is_chief': True, '_num_ps_replicas': 0, '_num_worker_replicas': 1}\n"
          ],
          "name": "stdout"
        }
      ]
    },
    {
      "metadata": {
        "id": "-KYQzFW4b1cB",
        "colab_type": "code",
        "colab": {
          "base_uri": "https://localhost:8080/",
          "height": 1870
        },
        "outputId": "880fddfd-f857-4779-e215-070f70ab43f9"
      },
      "cell_type": "code",
      "source": [
        "model.train(input_fn=train_input_fn, steps=STEPS)"
      ],
      "execution_count": 260,
      "outputs": [
        {
          "output_type": "stream",
          "text": [
            "INFO:tensorflow:Calling model_fn.\n",
            "INFO:tensorflow:Done calling model_fn.\n",
            "INFO:tensorflow:Create CheckpointSaverHook.\n",
            "INFO:tensorflow:Graph was finalized.\n",
            "INFO:tensorflow:Running local_init_op.\n",
            "INFO:tensorflow:Done running local_init_op.\n",
            "INFO:tensorflow:Saving checkpoints for 0 into /tmp/tmp1urp2moy/model.ckpt.\n",
            "INFO:tensorflow:loss = 1.0030751, step = 0\n",
            "INFO:tensorflow:global_step/sec: 226.56\n",
            "INFO:tensorflow:loss = 0.20672552, step = 100 (0.448 sec)\n",
            "INFO:tensorflow:global_step/sec: 259.397\n",
            "INFO:tensorflow:loss = 0.002218843, step = 200 (0.384 sec)\n",
            "INFO:tensorflow:global_step/sec: 253.085\n",
            "INFO:tensorflow:loss = 0.110595405, step = 300 (0.397 sec)\n",
            "INFO:tensorflow:global_step/sec: 258.238\n",
            "INFO:tensorflow:loss = 1.2129195e-05, step = 400 (0.385 sec)\n",
            "INFO:tensorflow:global_step/sec: 259.515\n",
            "INFO:tensorflow:loss = 1.1519693e-05, step = 500 (0.385 sec)\n",
            "INFO:tensorflow:global_step/sec: 255.124\n",
            "INFO:tensorflow:loss = 0.0142208785, step = 600 (0.394 sec)\n",
            "INFO:tensorflow:global_step/sec: 244.97\n",
            "INFO:tensorflow:loss = 6.1133546e-06, step = 700 (0.411 sec)\n",
            "INFO:tensorflow:global_step/sec: 258.481\n",
            "INFO:tensorflow:loss = 1.9363802e-05, step = 800 (0.381 sec)\n",
            "INFO:tensorflow:global_step/sec: 256.546\n",
            "INFO:tensorflow:loss = 9.177301e-06, step = 900 (0.393 sec)\n",
            "INFO:tensorflow:global_step/sec: 261.903\n",
            "INFO:tensorflow:loss = 9.427076e-06, step = 1000 (0.378 sec)\n",
            "INFO:tensorflow:global_step/sec: 263.133\n",
            "INFO:tensorflow:loss = 1.48637055e-05, step = 1100 (0.381 sec)\n",
            "INFO:tensorflow:global_step/sec: 262.823\n",
            "INFO:tensorflow:loss = 1.0893615e-05, step = 1200 (0.384 sec)\n",
            "INFO:tensorflow:global_step/sec: 271.807\n",
            "INFO:tensorflow:loss = 2.0545322e-05, step = 1300 (0.365 sec)\n",
            "INFO:tensorflow:global_step/sec: 260.954\n",
            "INFO:tensorflow:loss = 2.8887238e-05, step = 1400 (0.387 sec)\n",
            "INFO:tensorflow:global_step/sec: 253.349\n",
            "INFO:tensorflow:loss = 1.5447496e-07, step = 1500 (0.394 sec)\n",
            "INFO:tensorflow:global_step/sec: 258.464\n",
            "INFO:tensorflow:loss = 1.637357e-06, step = 1600 (0.387 sec)\n",
            "INFO:tensorflow:global_step/sec: 259.774\n",
            "INFO:tensorflow:loss = 0.00011240898, step = 1700 (0.385 sec)\n",
            "INFO:tensorflow:global_step/sec: 251.321\n",
            "INFO:tensorflow:loss = 3.5664834e-06, step = 1800 (0.395 sec)\n",
            "INFO:tensorflow:global_step/sec: 273.296\n",
            "INFO:tensorflow:loss = 6.803225e-08, step = 1900 (0.367 sec)\n",
            "INFO:tensorflow:global_step/sec: 258.832\n",
            "INFO:tensorflow:loss = 1.6079317e-05, step = 2000 (0.384 sec)\n",
            "INFO:tensorflow:global_step/sec: 251.236\n",
            "INFO:tensorflow:loss = 7.5692733e-06, step = 2100 (0.401 sec)\n",
            "INFO:tensorflow:global_step/sec: 264.256\n",
            "INFO:tensorflow:loss = 3.694586e-06, step = 2200 (0.378 sec)\n",
            "INFO:tensorflow:global_step/sec: 257.084\n",
            "INFO:tensorflow:loss = 9.778656e-07, step = 2300 (0.390 sec)\n",
            "INFO:tensorflow:global_step/sec: 255.478\n",
            "INFO:tensorflow:loss = 1.6244657e-07, step = 2400 (0.387 sec)\n",
            "INFO:tensorflow:global_step/sec: 253.168\n",
            "INFO:tensorflow:loss = 5.06318e-07, step = 2500 (0.401 sec)\n",
            "INFO:tensorflow:global_step/sec: 252.261\n",
            "INFO:tensorflow:loss = 4.1505373e-08, step = 2600 (0.390 sec)\n",
            "INFO:tensorflow:global_step/sec: 254.323\n",
            "INFO:tensorflow:loss = 7.0542455e-08, step = 2700 (0.394 sec)\n",
            "INFO:tensorflow:global_step/sec: 254.247\n"
          ],
          "name": "stdout"
        },
        {
          "output_type": "stream",
          "text": [
            "INFO:tensorflow:loss = 9.117699e-09, step = 2800 (0.396 sec)\n",
            "INFO:tensorflow:global_step/sec: 256.044\n",
            "INFO:tensorflow:loss = 2.9809257e-09, step = 2900 (0.391 sec)\n",
            "INFO:tensorflow:global_step/sec: 257.416\n",
            "INFO:tensorflow:loss = 3.699143e-07, step = 3000 (0.385 sec)\n",
            "INFO:tensorflow:global_step/sec: 256.115\n",
            "INFO:tensorflow:loss = 1.8704873e-07, step = 3100 (0.391 sec)\n",
            "INFO:tensorflow:global_step/sec: 250.973\n",
            "INFO:tensorflow:loss = 1.1910153e-07, step = 3200 (0.397 sec)\n",
            "INFO:tensorflow:global_step/sec: 263.603\n",
            "INFO:tensorflow:loss = 6.148184e-08, step = 3300 (0.384 sec)\n",
            "INFO:tensorflow:global_step/sec: 256.507\n",
            "INFO:tensorflow:loss = 3.5518651e-06, step = 3400 (0.388 sec)\n",
            "INFO:tensorflow:global_step/sec: 263.607\n",
            "INFO:tensorflow:loss = 6.1902483e-09, step = 3500 (0.377 sec)\n",
            "INFO:tensorflow:global_step/sec: 257.946\n",
            "INFO:tensorflow:loss = 1.6100836e-07, step = 3600 (0.390 sec)\n",
            "INFO:tensorflow:global_step/sec: 249.455\n",
            "INFO:tensorflow:loss = 2.377206e-07, step = 3700 (0.402 sec)\n",
            "INFO:tensorflow:global_step/sec: 249.366\n",
            "INFO:tensorflow:loss = 2.7801075e-06, step = 3800 (0.398 sec)\n",
            "INFO:tensorflow:global_step/sec: 259.329\n",
            "INFO:tensorflow:loss = 2.2275572e-08, step = 3900 (0.384 sec)\n",
            "INFO:tensorflow:global_step/sec: 252.822\n",
            "INFO:tensorflow:loss = 3.849234e-06, step = 4000 (0.395 sec)\n",
            "INFO:tensorflow:global_step/sec: 265.14\n",
            "INFO:tensorflow:loss = 3.4340108e-06, step = 4100 (0.382 sec)\n",
            "INFO:tensorflow:global_step/sec: 256.043\n",
            "INFO:tensorflow:loss = 1.0398212e-06, step = 4200 (0.386 sec)\n",
            "INFO:tensorflow:global_step/sec: 247.401\n",
            "INFO:tensorflow:loss = 3.453934e-09, step = 4300 (0.403 sec)\n",
            "INFO:tensorflow:global_step/sec: 253.618\n",
            "INFO:tensorflow:loss = 6.2332356e-06, step = 4400 (0.395 sec)\n",
            "INFO:tensorflow:global_step/sec: 253.321\n",
            "INFO:tensorflow:loss = 1.7826096e-10, step = 4500 (0.396 sec)\n",
            "INFO:tensorflow:global_step/sec: 258.12\n",
            "INFO:tensorflow:loss = 1.8417268e-11, step = 4600 (0.387 sec)\n",
            "INFO:tensorflow:global_step/sec: 260.265\n",
            "INFO:tensorflow:loss = 1.0920012e-06, step = 4700 (0.384 sec)\n",
            "INFO:tensorflow:global_step/sec: 254.589\n",
            "INFO:tensorflow:loss = 2.2737368e-13, step = 4800 (0.394 sec)\n",
            "INFO:tensorflow:global_step/sec: 243.571\n",
            "INFO:tensorflow:loss = 1.4638936e-06, step = 4900 (0.410 sec)\n",
            "INFO:tensorflow:Saving checkpoints for 5000 into /tmp/tmp1urp2moy/model.ckpt.\n",
            "INFO:tensorflow:Loss for final step: 4.0621816e-07.\n"
          ],
          "name": "stdout"
        },
        {
          "output_type": "execute_result",
          "data": {
            "text/plain": [
              "<tensorflow.python.estimator.canned.dnn.DNNRegressor at 0x7f3a993c4a58>"
            ]
          },
          "metadata": {
            "tags": []
          },
          "execution_count": 260
        }
      ]
    },
    {
      "metadata": {
        "id": "Mycdqye_b3Vi",
        "colab_type": "code",
        "colab": {
          "base_uri": "https://localhost:8080/",
          "height": 204
        },
        "outputId": "c93c87b0-195d-48b8-be58-73731f2c615d"
      },
      "cell_type": "code",
      "source": [
        "eval_result = model.evaluate(steps=STEPS, input_fn=test_input_fn)"
      ],
      "execution_count": 261,
      "outputs": [
        {
          "output_type": "stream",
          "text": [
            "INFO:tensorflow:Calling model_fn.\n",
            "INFO:tensorflow:Done calling model_fn.\n",
            "INFO:tensorflow:Starting evaluation at 2018-07-26-11:37:45\n",
            "INFO:tensorflow:Graph was finalized.\n",
            "INFO:tensorflow:Restoring parameters from /tmp/tmp1urp2moy/model.ckpt-5000\n",
            "INFO:tensorflow:Running local_init_op.\n",
            "INFO:tensorflow:Done running local_init_op.\n",
            "INFO:tensorflow:Evaluation [500/5000]\n",
            "INFO:tensorflow:Finished evaluation at 2018-07-26-11:37:47\n",
            "INFO:tensorflow:Saving dict for global step 5000: average_loss = 9.5046954e-07, global_step = 5000, loss = 9.5046954e-07\n",
            "INFO:tensorflow:Saving 'checkpoint_path' summary for global step 5000: /tmp/tmp1urp2moy/model.ckpt-5000\n"
          ],
          "name": "stdout"
        }
      ]
    },
    {
      "metadata": {
        "id": "coh_2FBbOs86",
        "colab_type": "code",
        "colab": {
          "base_uri": "https://localhost:8080/",
          "height": 136
        },
        "outputId": "5e9cc417-6595-4f9a-d788-7a397b0e17ba"
      },
      "cell_type": "code",
      "source": [
        "loss = eval_result[\"loss\"]\n",
        "average_loss = eval_result[\"average_loss\"]\n",
        "\n",
        "print(\"\\n\" + 80 * \"*\")\n",
        "print(\"\\nLoss: {:2.10f}\".format(loss))\n",
        "print(\"\\nAverage loss: {:2.10f}\".format(average_loss))\n",
        "print()"
      ],
      "execution_count": 262,
      "outputs": [
        {
          "output_type": "stream",
          "text": [
            "\n",
            "********************************************************************************\n",
            "\n",
            "Loss: 0.0000009505\n",
            "\n",
            "Average loss: 0.0000009505\n",
            "\n"
          ],
          "name": "stdout"
        }
      ]
    }
  ]
}