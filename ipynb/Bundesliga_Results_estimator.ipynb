{
  "nbformat": 4,
  "nbformat_minor": 0,
  "metadata": {
    "colab": {
      "name": "Bundesliga_Results_estimator.ipynb",
      "version": "0.3.2",
      "provenance": [],
      "collapsed_sections": [],
      "include_colab_link": true
    },
    "kernelspec": {
      "name": "python3",
      "display_name": "Python 3"
    },
    "accelerator": "GPU"
  },
  "cells": [
    {
      "cell_type": "markdown",
      "metadata": {
        "id": "view-in-github",
        "colab_type": "text"
      },
      "source": [
        "[View in Colaboratory](https://colab.research.google.com/github/XinyueZ/tf/blob/master/ipynb/Bundesliga_Results_estimator.ipynb)"
      ]
    },
    {
      "metadata": {
        "id": "rg2f5tmt2rcR",
        "colab_type": "text"
      },
      "cell_type": "markdown",
      "source": [
        "# Train model to evaluate football result. "
      ]
    },
    {
      "metadata": {
        "id": "usywsvFLF2bo",
        "colab_type": "code",
        "colab": {}
      },
      "cell_type": "code",
      "source": [
        "import tensorflow as tf\n",
        "from tensorflow.python.data import Dataset\n",
        "import numpy as np\n",
        "import pandas as pd\n",
        "from sklearn.preprocessing import LabelEncoder"
      ],
      "execution_count": 0,
      "outputs": []
    },
    {
      "metadata": {
        "id": "dy53WMcs27Ez",
        "colab_type": "text"
      },
      "cell_type": "markdown",
      "source": [
        "Data-source from https://www.kaggle.com/thefc17/bundesliga-results-19932018"
      ]
    },
    {
      "metadata": {
        "id": "TcCdsIeI225b",
        "colab_type": "text"
      },
      "cell_type": "markdown",
      "source": [
        "This dataset contains results from every Bundesliga match from 1993-1994 to 2017-2018. It also includes half time results, but only from 1995-96 to 2017-18. Columns include Division (denoted as D1), HomeTeam, AwayTeam, FTHG (final time home goals), FTAG (final time away goals), FTR (full time result), HTHG (half time home goals), HTAG (half time away goals), HTR (half time result), and season.\n",
        "\n",
        "Data compiled into one file from this site: http://www.football-data.co.uk/germanym.php"
      ]
    },
    {
      "metadata": {
        "id": "6gRBSBTfiO1x",
        "colab_type": "code",
        "colab": {
          "base_uri": "https://localhost:8080/",
          "height": 204
        },
        "outputId": "a644b811-69b6-487a-cad2-e22a9236dd3e"
      },
      "cell_type": "code",
      "source": [
        "df = pd.read_csv(\"https://dl.dropbox.com/s/3jzvvjl2iqnlqzz/Bundesliga_Results.csv\", sep=\",\")\n",
        "df = df[pd.notnull(df[\"FTHG\"])]\n",
        "df = df[pd.notnull(df[\"FTAG\"])]\n",
        "df = df[pd.notnull(df[\"FTR\"])]\n",
        "df.head()"
      ],
      "execution_count": 2,
      "outputs": [
        {
          "output_type": "execute_result",
          "data": {
            "text/html": [
              "<div>\n",
              "<style scoped>\n",
              "    .dataframe tbody tr th:only-of-type {\n",
              "        vertical-align: middle;\n",
              "    }\n",
              "\n",
              "    .dataframe tbody tr th {\n",
              "        vertical-align: top;\n",
              "    }\n",
              "\n",
              "    .dataframe thead th {\n",
              "        text-align: right;\n",
              "    }\n",
              "</style>\n",
              "<table border=\"1\" class=\"dataframe\">\n",
              "  <thead>\n",
              "    <tr style=\"text-align: right;\">\n",
              "      <th></th>\n",
              "      <th>Div</th>\n",
              "      <th>Date</th>\n",
              "      <th>HomeTeam</th>\n",
              "      <th>AwayTeam</th>\n",
              "      <th>FTHG</th>\n",
              "      <th>FTAG</th>\n",
              "      <th>FTR</th>\n",
              "      <th>HTHG</th>\n",
              "      <th>HTAG</th>\n",
              "      <th>HTR</th>\n",
              "      <th>Season</th>\n",
              "    </tr>\n",
              "  </thead>\n",
              "  <tbody>\n",
              "    <tr>\n",
              "      <th>0</th>\n",
              "      <td>D1</td>\n",
              "      <td>7/8/1993</td>\n",
              "      <td>Bayern Munich</td>\n",
              "      <td>Freiburg</td>\n",
              "      <td>3</td>\n",
              "      <td>1</td>\n",
              "      <td>H</td>\n",
              "      <td>NaN</td>\n",
              "      <td>NaN</td>\n",
              "      <td>NaN</td>\n",
              "      <td>1993-94</td>\n",
              "    </tr>\n",
              "    <tr>\n",
              "      <th>1</th>\n",
              "      <td>D1</td>\n",
              "      <td>7/8/1993</td>\n",
              "      <td>Dortmund</td>\n",
              "      <td>Karlsruhe</td>\n",
              "      <td>2</td>\n",
              "      <td>1</td>\n",
              "      <td>H</td>\n",
              "      <td>NaN</td>\n",
              "      <td>NaN</td>\n",
              "      <td>NaN</td>\n",
              "      <td>1993-94</td>\n",
              "    </tr>\n",
              "    <tr>\n",
              "      <th>2</th>\n",
              "      <td>D1</td>\n",
              "      <td>7/8/1993</td>\n",
              "      <td>Duisburg</td>\n",
              "      <td>Leverkusen</td>\n",
              "      <td>2</td>\n",
              "      <td>2</td>\n",
              "      <td>D</td>\n",
              "      <td>NaN</td>\n",
              "      <td>NaN</td>\n",
              "      <td>NaN</td>\n",
              "      <td>1993-94</td>\n",
              "    </tr>\n",
              "    <tr>\n",
              "      <th>3</th>\n",
              "      <td>D1</td>\n",
              "      <td>7/8/1993</td>\n",
              "      <td>FC Koln</td>\n",
              "      <td>Kaiserslautern</td>\n",
              "      <td>0</td>\n",
              "      <td>2</td>\n",
              "      <td>A</td>\n",
              "      <td>NaN</td>\n",
              "      <td>NaN</td>\n",
              "      <td>NaN</td>\n",
              "      <td>1993-94</td>\n",
              "    </tr>\n",
              "    <tr>\n",
              "      <th>4</th>\n",
              "      <td>D1</td>\n",
              "      <td>7/8/1993</td>\n",
              "      <td>Hamburg</td>\n",
              "      <td>Nurnberg</td>\n",
              "      <td>5</td>\n",
              "      <td>2</td>\n",
              "      <td>H</td>\n",
              "      <td>NaN</td>\n",
              "      <td>NaN</td>\n",
              "      <td>NaN</td>\n",
              "      <td>1993-94</td>\n",
              "    </tr>\n",
              "  </tbody>\n",
              "</table>\n",
              "</div>"
            ],
            "text/plain": [
              "  Div      Date       HomeTeam        AwayTeam  FTHG  FTAG FTR  HTHG  HTAG  \\\n",
              "0  D1  7/8/1993  Bayern Munich        Freiburg     3     1   H   NaN   NaN   \n",
              "1  D1  7/8/1993       Dortmund       Karlsruhe     2     1   H   NaN   NaN   \n",
              "2  D1  7/8/1993       Duisburg      Leverkusen     2     2   D   NaN   NaN   \n",
              "3  D1  7/8/1993        FC Koln  Kaiserslautern     0     2   A   NaN   NaN   \n",
              "4  D1  7/8/1993        Hamburg        Nurnberg     5     2   H   NaN   NaN   \n",
              "\n",
              "   HTR   Season  \n",
              "0  NaN  1993-94  \n",
              "1  NaN  1993-94  \n",
              "2  NaN  1993-94  \n",
              "3  NaN  1993-94  \n",
              "4  NaN  1993-94  "
            ]
          },
          "metadata": {
            "tags": []
          },
          "execution_count": 2
        }
      ]
    },
    {
      "metadata": {
        "id": "PWk86xsBDkch",
        "colab_type": "code",
        "colab": {}
      },
      "cell_type": "code",
      "source": [
        "def make_dataset_and_labels_and_class_num(df, label_name):\n",
        "  \"\"\"This method will prepare dataset, labels for train, test and classes.\n",
        "     Args:\n",
        "      df: DataFrame format of datasource.\n",
        "      label_name: The name of column in datasource which will be as target for train.\n",
        "     Return: \n",
        "       Tuple of (ds_train, ds_test, y_train, y_test, classes)\n",
        "      \n",
        "  \"\"\"\n",
        "  target_label_col = \"label\" #New column name in original table.\n",
        "  \n",
        "  encoder = LabelEncoder()\n",
        "  label = encoder.fit_transform(df[label_name])\n",
        "  df.insert(2, target_label_col, label) \n",
        "  result_fit = encoder.fit(df[label_name])\n",
        "  \n",
        "  random_seed = None\n",
        "  np.random.seed(random_seed)\n",
        "  \n",
        "  ds_train = df.sample(frac=0.8, random_state=random_seed)\n",
        "  lines = len(ds_train)\n",
        "  label_train = ds_train[target_label_col]\n",
        "  \n",
        "  ds_test = df.drop(ds_train.index)\n",
        "  label_test = ds_test[target_label_col]\n",
        "   \n",
        "  return ds_train, ds_test, label_train, label_test, result_fit.classes_"
      ],
      "execution_count": 0,
      "outputs": []
    },
    {
      "metadata": {
        "id": "NgkHsXdun_dO",
        "colab_type": "code",
        "colab": {}
      },
      "cell_type": "code",
      "source": [
        "ds_train, ds_test, y_train, y_test, result_classes = make_dataset_and_labels_and_class_num(df, \"FTR\")"
      ],
      "execution_count": 0,
      "outputs": []
    },
    {
      "metadata": {
        "id": "akLoHfAXAqOi",
        "colab_type": "code",
        "colab": {
          "base_uri": "https://localhost:8080/",
          "height": 34
        },
        "outputId": "66518e18-5473-4da5-cbf8-1347a97d8687"
      },
      "cell_type": "code",
      "source": [
        "result_classes"
      ],
      "execution_count": 5,
      "outputs": [
        {
          "output_type": "execute_result",
          "data": {
            "text/plain": [
              "array(['A', 'D', 'H'], dtype=object)"
            ]
          },
          "metadata": {
            "tags": []
          },
          "execution_count": 5
        }
      ]
    },
    {
      "metadata": {
        "id": "mgVYA89XoHIV",
        "colab_type": "code",
        "colab": {
          "base_uri": "https://localhost:8080/",
          "height": 204
        },
        "outputId": "63cfb678-2faa-4b9f-8f9b-8d632b066795"
      },
      "cell_type": "code",
      "source": [
        "ds_train.head()"
      ],
      "execution_count": 6,
      "outputs": [
        {
          "output_type": "execute_result",
          "data": {
            "text/html": [
              "<div>\n",
              "<style scoped>\n",
              "    .dataframe tbody tr th:only-of-type {\n",
              "        vertical-align: middle;\n",
              "    }\n",
              "\n",
              "    .dataframe tbody tr th {\n",
              "        vertical-align: top;\n",
              "    }\n",
              "\n",
              "    .dataframe thead th {\n",
              "        text-align: right;\n",
              "    }\n",
              "</style>\n",
              "<table border=\"1\" class=\"dataframe\">\n",
              "  <thead>\n",
              "    <tr style=\"text-align: right;\">\n",
              "      <th></th>\n",
              "      <th>Div</th>\n",
              "      <th>Date</th>\n",
              "      <th>label</th>\n",
              "      <th>HomeTeam</th>\n",
              "      <th>AwayTeam</th>\n",
              "      <th>FTHG</th>\n",
              "      <th>FTAG</th>\n",
              "      <th>FTR</th>\n",
              "      <th>HTHG</th>\n",
              "      <th>HTAG</th>\n",
              "      <th>HTR</th>\n",
              "      <th>Season</th>\n",
              "    </tr>\n",
              "  </thead>\n",
              "  <tbody>\n",
              "    <tr>\n",
              "      <th>1341</th>\n",
              "      <td>D1</td>\n",
              "      <td>7/11/1997</td>\n",
              "      <td>2</td>\n",
              "      <td>Kaiserslautern</td>\n",
              "      <td>Hansa Rostock</td>\n",
              "      <td>4</td>\n",
              "      <td>3</td>\n",
              "      <td>H</td>\n",
              "      <td>2.0</td>\n",
              "      <td>2.0</td>\n",
              "      <td>D</td>\n",
              "      <td>1997-98</td>\n",
              "    </tr>\n",
              "    <tr>\n",
              "      <th>5163</th>\n",
              "      <td>D1</td>\n",
              "      <td>10/4/2010</td>\n",
              "      <td>2</td>\n",
              "      <td>Werder Bremen</td>\n",
              "      <td>Freiburg</td>\n",
              "      <td>4</td>\n",
              "      <td>0</td>\n",
              "      <td>H</td>\n",
              "      <td>1.0</td>\n",
              "      <td>0.0</td>\n",
              "      <td>H</td>\n",
              "      <td>2009-10</td>\n",
              "    </tr>\n",
              "    <tr>\n",
              "      <th>359</th>\n",
              "      <td>D1</td>\n",
              "      <td>24/09/94</td>\n",
              "      <td>2</td>\n",
              "      <td>M'gladbach</td>\n",
              "      <td>Bochum</td>\n",
              "      <td>7</td>\n",
              "      <td>1</td>\n",
              "      <td>H</td>\n",
              "      <td>NaN</td>\n",
              "      <td>NaN</td>\n",
              "      <td>NaN</td>\n",
              "      <td>1994-95</td>\n",
              "    </tr>\n",
              "    <tr>\n",
              "      <th>2825</th>\n",
              "      <td>D1</td>\n",
              "      <td>6/10/2002</td>\n",
              "      <td>1</td>\n",
              "      <td>Werder Bremen</td>\n",
              "      <td>Hansa Rostock</td>\n",
              "      <td>0</td>\n",
              "      <td>0</td>\n",
              "      <td>D</td>\n",
              "      <td>0.0</td>\n",
              "      <td>0.0</td>\n",
              "      <td>D</td>\n",
              "      <td>2002-03</td>\n",
              "    </tr>\n",
              "    <tr>\n",
              "      <th>5367</th>\n",
              "      <td>D1</td>\n",
              "      <td>22/01/11</td>\n",
              "      <td>2</td>\n",
              "      <td>FC Koln</td>\n",
              "      <td>Werder Bremen</td>\n",
              "      <td>3</td>\n",
              "      <td>0</td>\n",
              "      <td>H</td>\n",
              "      <td>2.0</td>\n",
              "      <td>0.0</td>\n",
              "      <td>H</td>\n",
              "      <td>2010-11</td>\n",
              "    </tr>\n",
              "  </tbody>\n",
              "</table>\n",
              "</div>"
            ],
            "text/plain": [
              "     Div       Date  label        HomeTeam       AwayTeam  FTHG  FTAG FTR  \\\n",
              "1341  D1  7/11/1997      2  Kaiserslautern  Hansa Rostock     4     3   H   \n",
              "5163  D1  10/4/2010      2   Werder Bremen       Freiburg     4     0   H   \n",
              "359   D1   24/09/94      2      M'gladbach         Bochum     7     1   H   \n",
              "2825  D1  6/10/2002      1   Werder Bremen  Hansa Rostock     0     0   D   \n",
              "5367  D1   22/01/11      2         FC Koln  Werder Bremen     3     0   H   \n",
              "\n",
              "      HTHG  HTAG  HTR   Season  \n",
              "1341   2.0   2.0    D  1997-98  \n",
              "5163   1.0   0.0    H  2009-10  \n",
              "359    NaN   NaN  NaN  1994-95  \n",
              "2825   0.0   0.0    D  2002-03  \n",
              "5367   2.0   0.0    H  2010-11  "
            ]
          },
          "metadata": {
            "tags": []
          },
          "execution_count": 6
        }
      ]
    },
    {
      "metadata": {
        "id": "oMlOOyPQoI1E",
        "colab_type": "code",
        "colab": {
          "base_uri": "https://localhost:8080/",
          "height": 204
        },
        "outputId": "f03dbea0-9ad0-411a-a195-3b0664e3c848"
      },
      "cell_type": "code",
      "source": [
        "ds_test.head()"
      ],
      "execution_count": 7,
      "outputs": [
        {
          "output_type": "execute_result",
          "data": {
            "text/html": [
              "<div>\n",
              "<style scoped>\n",
              "    .dataframe tbody tr th:only-of-type {\n",
              "        vertical-align: middle;\n",
              "    }\n",
              "\n",
              "    .dataframe tbody tr th {\n",
              "        vertical-align: top;\n",
              "    }\n",
              "\n",
              "    .dataframe thead th {\n",
              "        text-align: right;\n",
              "    }\n",
              "</style>\n",
              "<table border=\"1\" class=\"dataframe\">\n",
              "  <thead>\n",
              "    <tr style=\"text-align: right;\">\n",
              "      <th></th>\n",
              "      <th>Div</th>\n",
              "      <th>Date</th>\n",
              "      <th>label</th>\n",
              "      <th>HomeTeam</th>\n",
              "      <th>AwayTeam</th>\n",
              "      <th>FTHG</th>\n",
              "      <th>FTAG</th>\n",
              "      <th>FTR</th>\n",
              "      <th>HTHG</th>\n",
              "      <th>HTAG</th>\n",
              "      <th>HTR</th>\n",
              "      <th>Season</th>\n",
              "    </tr>\n",
              "  </thead>\n",
              "  <tbody>\n",
              "    <tr>\n",
              "      <th>6</th>\n",
              "      <td>D1</td>\n",
              "      <td>7/8/1993</td>\n",
              "      <td>0</td>\n",
              "      <td>M'Gladbach</td>\n",
              "      <td>Ein Frankfurt</td>\n",
              "      <td>0</td>\n",
              "      <td>4</td>\n",
              "      <td>A</td>\n",
              "      <td>NaN</td>\n",
              "      <td>NaN</td>\n",
              "      <td>NaN</td>\n",
              "      <td>1993-94</td>\n",
              "    </tr>\n",
              "    <tr>\n",
              "      <th>13</th>\n",
              "      <td>D1</td>\n",
              "      <td>14/08/93</td>\n",
              "      <td>2</td>\n",
              "      <td>Karlsruhe</td>\n",
              "      <td>Hamburg</td>\n",
              "      <td>2</td>\n",
              "      <td>0</td>\n",
              "      <td>H</td>\n",
              "      <td>NaN</td>\n",
              "      <td>NaN</td>\n",
              "      <td>NaN</td>\n",
              "      <td>1993-94</td>\n",
              "    </tr>\n",
              "    <tr>\n",
              "      <th>15</th>\n",
              "      <td>D1</td>\n",
              "      <td>14/08/93</td>\n",
              "      <td>2</td>\n",
              "      <td>Nurnberg</td>\n",
              "      <td>FC Koln</td>\n",
              "      <td>1</td>\n",
              "      <td>0</td>\n",
              "      <td>H</td>\n",
              "      <td>NaN</td>\n",
              "      <td>NaN</td>\n",
              "      <td>NaN</td>\n",
              "      <td>1993-94</td>\n",
              "    </tr>\n",
              "    <tr>\n",
              "      <th>19</th>\n",
              "      <td>D1</td>\n",
              "      <td>21/08/93</td>\n",
              "      <td>2</td>\n",
              "      <td>Dortmund</td>\n",
              "      <td>Freiburg</td>\n",
              "      <td>3</td>\n",
              "      <td>2</td>\n",
              "      <td>H</td>\n",
              "      <td>NaN</td>\n",
              "      <td>NaN</td>\n",
              "      <td>NaN</td>\n",
              "      <td>1993-94</td>\n",
              "    </tr>\n",
              "    <tr>\n",
              "      <th>21</th>\n",
              "      <td>D1</td>\n",
              "      <td>21/08/93</td>\n",
              "      <td>2</td>\n",
              "      <td>Ein Frankfurt</td>\n",
              "      <td>Kaiserslautern</td>\n",
              "      <td>1</td>\n",
              "      <td>0</td>\n",
              "      <td>H</td>\n",
              "      <td>NaN</td>\n",
              "      <td>NaN</td>\n",
              "      <td>NaN</td>\n",
              "      <td>1993-94</td>\n",
              "    </tr>\n",
              "  </tbody>\n",
              "</table>\n",
              "</div>"
            ],
            "text/plain": [
              "   Div      Date  label       HomeTeam        AwayTeam  FTHG  FTAG FTR  HTHG  \\\n",
              "6   D1  7/8/1993      0     M'Gladbach   Ein Frankfurt     0     4   A   NaN   \n",
              "13  D1  14/08/93      2      Karlsruhe         Hamburg     2     0   H   NaN   \n",
              "15  D1  14/08/93      2       Nurnberg         FC Koln     1     0   H   NaN   \n",
              "19  D1  21/08/93      2       Dortmund        Freiburg     3     2   H   NaN   \n",
              "21  D1  21/08/93      2  Ein Frankfurt  Kaiserslautern     1     0   H   NaN   \n",
              "\n",
              "    HTAG  HTR   Season  \n",
              "6    NaN  NaN  1993-94  \n",
              "13   NaN  NaN  1993-94  \n",
              "15   NaN  NaN  1993-94  \n",
              "19   NaN  NaN  1993-94  \n",
              "21   NaN  NaN  1993-94  "
            ]
          },
          "metadata": {
            "tags": []
          },
          "execution_count": 7
        }
      ]
    },
    {
      "metadata": {
        "id": "JZavMq0Po3p1",
        "colab_type": "code",
        "colab": {}
      },
      "cell_type": "code",
      "source": [
        "x_train = ds_train[[\"FTHG\", \"FTAG\"]]\n",
        "x_test = ds_test[[\"FTHG\", \"FTAG\"]]"
      ],
      "execution_count": 0,
      "outputs": []
    },
    {
      "metadata": {
        "id": "Yi1g3htco3st",
        "colab_type": "code",
        "colab": {
          "base_uri": "https://localhost:8080/",
          "height": 204
        },
        "outputId": "795df004-16aa-4fcf-f1da-2ac9be213df4"
      },
      "cell_type": "code",
      "source": [
        "x_train.head()"
      ],
      "execution_count": 9,
      "outputs": [
        {
          "output_type": "execute_result",
          "data": {
            "text/html": [
              "<div>\n",
              "<style scoped>\n",
              "    .dataframe tbody tr th:only-of-type {\n",
              "        vertical-align: middle;\n",
              "    }\n",
              "\n",
              "    .dataframe tbody tr th {\n",
              "        vertical-align: top;\n",
              "    }\n",
              "\n",
              "    .dataframe thead th {\n",
              "        text-align: right;\n",
              "    }\n",
              "</style>\n",
              "<table border=\"1\" class=\"dataframe\">\n",
              "  <thead>\n",
              "    <tr style=\"text-align: right;\">\n",
              "      <th></th>\n",
              "      <th>FTHG</th>\n",
              "      <th>FTAG</th>\n",
              "    </tr>\n",
              "  </thead>\n",
              "  <tbody>\n",
              "    <tr>\n",
              "      <th>1341</th>\n",
              "      <td>4</td>\n",
              "      <td>3</td>\n",
              "    </tr>\n",
              "    <tr>\n",
              "      <th>5163</th>\n",
              "      <td>4</td>\n",
              "      <td>0</td>\n",
              "    </tr>\n",
              "    <tr>\n",
              "      <th>359</th>\n",
              "      <td>7</td>\n",
              "      <td>1</td>\n",
              "    </tr>\n",
              "    <tr>\n",
              "      <th>2825</th>\n",
              "      <td>0</td>\n",
              "      <td>0</td>\n",
              "    </tr>\n",
              "    <tr>\n",
              "      <th>5367</th>\n",
              "      <td>3</td>\n",
              "      <td>0</td>\n",
              "    </tr>\n",
              "  </tbody>\n",
              "</table>\n",
              "</div>"
            ],
            "text/plain": [
              "      FTHG  FTAG\n",
              "1341     4     3\n",
              "5163     4     0\n",
              "359      7     1\n",
              "2825     0     0\n",
              "5367     3     0"
            ]
          },
          "metadata": {
            "tags": []
          },
          "execution_count": 9
        }
      ]
    },
    {
      "metadata": {
        "id": "6VRcJQxqpInl",
        "colab_type": "code",
        "colab": {
          "base_uri": "https://localhost:8080/",
          "height": 204
        },
        "outputId": "0c100d07-377e-438a-f48a-e7a90636af94"
      },
      "cell_type": "code",
      "source": [
        "x_test.head()"
      ],
      "execution_count": 10,
      "outputs": [
        {
          "output_type": "execute_result",
          "data": {
            "text/html": [
              "<div>\n",
              "<style scoped>\n",
              "    .dataframe tbody tr th:only-of-type {\n",
              "        vertical-align: middle;\n",
              "    }\n",
              "\n",
              "    .dataframe tbody tr th {\n",
              "        vertical-align: top;\n",
              "    }\n",
              "\n",
              "    .dataframe thead th {\n",
              "        text-align: right;\n",
              "    }\n",
              "</style>\n",
              "<table border=\"1\" class=\"dataframe\">\n",
              "  <thead>\n",
              "    <tr style=\"text-align: right;\">\n",
              "      <th></th>\n",
              "      <th>FTHG</th>\n",
              "      <th>FTAG</th>\n",
              "    </tr>\n",
              "  </thead>\n",
              "  <tbody>\n",
              "    <tr>\n",
              "      <th>6</th>\n",
              "      <td>0</td>\n",
              "      <td>4</td>\n",
              "    </tr>\n",
              "    <tr>\n",
              "      <th>13</th>\n",
              "      <td>2</td>\n",
              "      <td>0</td>\n",
              "    </tr>\n",
              "    <tr>\n",
              "      <th>15</th>\n",
              "      <td>1</td>\n",
              "      <td>0</td>\n",
              "    </tr>\n",
              "    <tr>\n",
              "      <th>19</th>\n",
              "      <td>3</td>\n",
              "      <td>2</td>\n",
              "    </tr>\n",
              "    <tr>\n",
              "      <th>21</th>\n",
              "      <td>1</td>\n",
              "      <td>0</td>\n",
              "    </tr>\n",
              "  </tbody>\n",
              "</table>\n",
              "</div>"
            ],
            "text/plain": [
              "    FTHG  FTAG\n",
              "6      0     4\n",
              "13     2     0\n",
              "15     1     0\n",
              "19     3     2\n",
              "21     1     0"
            ]
          },
          "metadata": {
            "tags": []
          },
          "execution_count": 10
        }
      ]
    },
    {
      "metadata": {
        "id": "aaY6YIFVD5yD",
        "colab_type": "code",
        "colab": {
          "base_uri": "https://localhost:8080/",
          "height": 1071
        },
        "outputId": "b4196ac8-cfb3-4b5a-acf4-7f36b7b8d5b2"
      },
      "cell_type": "code",
      "source": [
        "y_train"
      ],
      "execution_count": 11,
      "outputs": [
        {
          "output_type": "execute_result",
          "data": {
            "text/plain": [
              "1341    2\n",
              "5163    2\n",
              "359     2\n",
              "2825    1\n",
              "5367    2\n",
              "6704    0\n",
              "1584    2\n",
              "3455    0\n",
              "7649    2\n",
              "4141    1\n",
              "3036    2\n",
              "880     2\n",
              "3908    0\n",
              "2112    2\n",
              "2373    1\n",
              "3113    2\n",
              "5624    0\n",
              "5571    0\n",
              "2043    0\n",
              "4903    1\n",
              "6614    0\n",
              "5989    0\n",
              "4750    2\n",
              "4108    0\n",
              "24      2\n",
              "3154    2\n",
              "6352    0\n",
              "7236    1\n",
              "5492    2\n",
              "3220    2\n",
              "       ..\n",
              "4299    0\n",
              "4815    0\n",
              "2474    2\n",
              "6873    1\n",
              "790     1\n",
              "5461    2\n",
              "2977    0\n",
              "3015    2\n",
              "3892    1\n",
              "549     2\n",
              "1435    1\n",
              "2042    2\n",
              "5693    2\n",
              "3044    2\n",
              "901     0\n",
              "6962    1\n",
              "4472    1\n",
              "7172    0\n",
              "408     0\n",
              "2034    1\n",
              "4221    0\n",
              "4622    2\n",
              "2957    1\n",
              "6972    1\n",
              "1866    0\n",
              "157     1\n",
              "2342    0\n",
              "1089    1\n",
              "7309    2\n",
              "5711    0\n",
              "Name: label, Length: 6120, dtype: int64"
            ]
          },
          "metadata": {
            "tags": []
          },
          "execution_count": 11
        }
      ]
    },
    {
      "metadata": {
        "id": "ewALDkKC_yxf",
        "colab_type": "code",
        "colab": {
          "base_uri": "https://localhost:8080/",
          "height": 34
        },
        "outputId": "bedbb462-af03-40dd-f79e-fa62e5be2fd9"
      },
      "cell_type": "code",
      "source": [
        "type(y_train)"
      ],
      "execution_count": 12,
      "outputs": [
        {
          "output_type": "execute_result",
          "data": {
            "text/plain": [
              "pandas.core.series.Series"
            ]
          },
          "metadata": {
            "tags": []
          },
          "execution_count": 12
        }
      ]
    },
    {
      "metadata": {
        "id": "Fw2jDJj9D8JS",
        "colab_type": "code",
        "colab": {
          "base_uri": "https://localhost:8080/",
          "height": 1071
        },
        "outputId": "b3cb77eb-182b-4ebb-b5db-d6024dec533b"
      },
      "cell_type": "code",
      "source": [
        "y_test"
      ],
      "execution_count": 13,
      "outputs": [
        {
          "output_type": "execute_result",
          "data": {
            "text/plain": [
              "6       0\n",
              "13      2\n",
              "15      2\n",
              "19      2\n",
              "21      2\n",
              "37      2\n",
              "38      2\n",
              "40      2\n",
              "42      2\n",
              "53      1\n",
              "56      0\n",
              "59      1\n",
              "64      2\n",
              "70      0\n",
              "72      1\n",
              "76      2\n",
              "93      2\n",
              "94      2\n",
              "99      2\n",
              "101     1\n",
              "106     2\n",
              "108     1\n",
              "116     0\n",
              "119     0\n",
              "123     1\n",
              "126     1\n",
              "127     2\n",
              "141     0\n",
              "149     2\n",
              "153     2\n",
              "       ..\n",
              "7489    1\n",
              "7495    1\n",
              "7496    0\n",
              "7498    2\n",
              "7506    1\n",
              "7512    0\n",
              "7516    2\n",
              "7517    1\n",
              "7546    2\n",
              "7556    2\n",
              "7559    1\n",
              "7563    1\n",
              "7565    2\n",
              "7566    0\n",
              "7572    1\n",
              "7584    2\n",
              "7587    2\n",
              "7588    0\n",
              "7589    1\n",
              "7593    1\n",
              "7594    1\n",
              "7596    2\n",
              "7597    0\n",
              "7602    2\n",
              "7606    2\n",
              "7620    2\n",
              "7629    0\n",
              "7639    2\n",
              "7641    0\n",
              "7648    2\n",
              "Name: label, Length: 1530, dtype: int64"
            ]
          },
          "metadata": {
            "tags": []
          },
          "execution_count": 13
        }
      ]
    },
    {
      "metadata": {
        "id": "RcsDdsA0_0GH",
        "colab_type": "code",
        "colab": {
          "base_uri": "https://localhost:8080/",
          "height": 34
        },
        "outputId": "8fca0301-d18f-442f-b635-a63580216bf5"
      },
      "cell_type": "code",
      "source": [
        "type(y_test)"
      ],
      "execution_count": 14,
      "outputs": [
        {
          "output_type": "execute_result",
          "data": {
            "text/plain": [
              "pandas.core.series.Series"
            ]
          },
          "metadata": {
            "tags": []
          },
          "execution_count": 14
        }
      ]
    },
    {
      "metadata": {
        "id": "udjYU2TaCClX",
        "colab_type": "code",
        "colab": {}
      },
      "cell_type": "code",
      "source": [
        "def input_fn(features, targets, batch_size=1, shuffle=True, num_epochs=None):\n",
        "    \"\"\"Trains a linear regression model of one feature.\n",
        "  \n",
        "    Args:\n",
        "      features: pandas DataFrame of features\n",
        "      targets: pandas DataFrame of targets\n",
        "      batch_size: Size of batches to be passed to the model\n",
        "      shuffle: True or False. Whether to shuffle the data.\n",
        "      num_epochs: Number of epochs for which data should be repeated. None = repeat indefinitely\n",
        "    Returns:\n",
        "      Tuple of (features, labels) for next data batch\n",
        "    \"\"\"\n",
        " \n",
        "    # Construct a dataset, and configure batching/repeating\n",
        "    features = {key:np.array(value) for key,value in dict(features).items()} \n",
        "  \n",
        "    ds = Dataset.from_tensor_slices((features, targets))\n",
        "    ds = ds.batch(batch_size).repeat(num_epochs)\n",
        "    \n",
        "    # Shuffle the data, if specified\n",
        "    if shuffle:\n",
        "      ds = ds.shuffle(buffer_size=10000)\n",
        "    \n",
        "    # Return the next batch of data\n",
        "    features, labels = ds.make_one_shot_iterator().get_next()\n",
        "    return features, labels"
      ],
      "execution_count": 0,
      "outputs": []
    },
    {
      "metadata": {
        "id": "XauzWrcNCh0J",
        "colab_type": "code",
        "colab": {}
      },
      "cell_type": "code",
      "source": [
        "train_input_fn = lambda: input_fn(x_train, y_train)"
      ],
      "execution_count": 0,
      "outputs": []
    },
    {
      "metadata": {
        "id": "_QCb9zcOCf3A",
        "colab_type": "code",
        "colab": {}
      },
      "cell_type": "code",
      "source": [
        "test_input_fn =lambda: input_fn(x_test, y_test, num_epochs=1, shuffle=False)"
      ],
      "execution_count": 0,
      "outputs": []
    },
    {
      "metadata": {
        "id": "_rvAbHuFjCND",
        "colab_type": "code",
        "colab": {}
      },
      "cell_type": "code",
      "source": [
        "STEPS = 5000  # Steps of train loop.\n",
        "HIDDEN = [1000, 1000, 1000, 1000]"
      ],
      "execution_count": 0,
      "outputs": []
    },
    {
      "metadata": {
        "id": "O4Fyeywlz4dm",
        "colab_type": "code",
        "colab": {}
      },
      "cell_type": "code",
      "source": [
        "feature_cols = [\n",
        "  tf.feature_column.numeric_column(\"FTHG\"),\n",
        "  tf.feature_column.numeric_column(\"FTAG\")\n",
        "]"
      ],
      "execution_count": 0,
      "outputs": []
    },
    {
      "metadata": {
        "id": "xibCYiz3by1B",
        "colab_type": "code",
        "colab": {
          "base_uri": "https://localhost:8080/",
          "height": 88
        },
        "outputId": "efe76afc-106f-456e-9d37-0f11ef5f6d03"
      },
      "cell_type": "code",
      "source": [
        "# Set up a linear classifier.\n",
        "model = tf.estimator.DNNRegressor(\n",
        "    feature_columns = feature_cols,\n",
        "    hidden_units = HIDDEN\n",
        ")"
      ],
      "execution_count": 20,
      "outputs": [
        {
          "output_type": "stream",
          "text": [
            "INFO:tensorflow:Using default config.\n",
            "WARNING:tensorflow:Using temporary folder as model directory: /tmp/tmp70ut0x0y\n",
            "INFO:tensorflow:Using config: {'_model_dir': '/tmp/tmp70ut0x0y', '_tf_random_seed': None, '_save_summary_steps': 100, '_save_checkpoints_steps': None, '_save_checkpoints_secs': 600, '_session_config': None, '_keep_checkpoint_max': 5, '_keep_checkpoint_every_n_hours': 10000, '_log_step_count_steps': 100, '_train_distribute': None, '_device_fn': None, '_service': None, '_cluster_spec': <tensorflow.python.training.server_lib.ClusterSpec object at 0x7f3ac5d71e80>, '_task_type': 'worker', '_task_id': 0, '_global_id_in_cluster': 0, '_master': '', '_evaluation_master': '', '_is_chief': True, '_num_ps_replicas': 0, '_num_worker_replicas': 1}\n"
          ],
          "name": "stdout"
        }
      ]
    },
    {
      "metadata": {
        "id": "-KYQzFW4b1cB",
        "colab_type": "code",
        "colab": {
          "base_uri": "https://localhost:8080/",
          "height": 1870
        },
        "outputId": "8b119802-0637-4c4f-9c89-46b53fc57c8d"
      },
      "cell_type": "code",
      "source": [
        "model.train(input_fn=train_input_fn, steps=STEPS)"
      ],
      "execution_count": 21,
      "outputs": [
        {
          "output_type": "stream",
          "text": [
            "INFO:tensorflow:Calling model_fn.\n",
            "INFO:tensorflow:Done calling model_fn.\n",
            "INFO:tensorflow:Create CheckpointSaverHook.\n",
            "INFO:tensorflow:Graph was finalized.\n",
            "INFO:tensorflow:Running local_init_op.\n",
            "INFO:tensorflow:Done running local_init_op.\n",
            "INFO:tensorflow:Saving checkpoints for 0 into /tmp/tmp70ut0x0y/model.ckpt.\n",
            "INFO:tensorflow:loss = 4.096293, step = 0\n",
            "INFO:tensorflow:global_step/sec: 212.087\n",
            "INFO:tensorflow:loss = 0.021782257, step = 100 (0.481 sec)\n",
            "INFO:tensorflow:global_step/sec: 236.98\n",
            "INFO:tensorflow:loss = 0.0011826344, step = 200 (0.418 sec)\n",
            "INFO:tensorflow:global_step/sec: 247.292\n",
            "INFO:tensorflow:loss = 2.2908218e-05, step = 300 (0.401 sec)\n",
            "INFO:tensorflow:global_step/sec: 239.002\n",
            "INFO:tensorflow:loss = 1.0600521e-05, step = 400 (0.420 sec)\n",
            "INFO:tensorflow:global_step/sec: 240.601\n",
            "INFO:tensorflow:loss = 0.0027481304, step = 500 (0.414 sec)\n",
            "INFO:tensorflow:global_step/sec: 263.446\n",
            "INFO:tensorflow:loss = 1.7424118e-06, step = 600 (0.381 sec)\n",
            "INFO:tensorflow:global_step/sec: 258.54\n",
            "INFO:tensorflow:loss = 0.0012114751, step = 700 (0.390 sec)\n",
            "INFO:tensorflow:global_step/sec: 254.98\n",
            "INFO:tensorflow:loss = 3.4939148e-06, step = 800 (0.389 sec)\n",
            "INFO:tensorflow:global_step/sec: 244.409\n",
            "INFO:tensorflow:loss = 2.1116775e-06, step = 900 (0.409 sec)\n",
            "INFO:tensorflow:global_step/sec: 251.63\n",
            "INFO:tensorflow:loss = 8.732433e-05, step = 1000 (0.398 sec)\n",
            "INFO:tensorflow:global_step/sec: 217.117\n",
            "INFO:tensorflow:loss = 3.2209332e-06, step = 1100 (0.461 sec)\n",
            "INFO:tensorflow:global_step/sec: 224.541\n",
            "INFO:tensorflow:loss = 6.774649e-06, step = 1200 (0.443 sec)\n",
            "INFO:tensorflow:global_step/sec: 249.229\n",
            "INFO:tensorflow:loss = 0.00013192907, step = 1300 (0.403 sec)\n",
            "INFO:tensorflow:global_step/sec: 248.581\n",
            "INFO:tensorflow:loss = 3.3274887e-06, step = 1400 (0.400 sec)\n",
            "INFO:tensorflow:global_step/sec: 255.856\n",
            "INFO:tensorflow:loss = 3.3605455e-05, step = 1500 (0.390 sec)\n",
            "INFO:tensorflow:global_step/sec: 246.896\n",
            "INFO:tensorflow:loss = 3.1638513e-06, step = 1600 (0.405 sec)\n",
            "INFO:tensorflow:global_step/sec: 262.546\n",
            "INFO:tensorflow:loss = 9.8220326e-08, step = 1700 (0.381 sec)\n",
            "INFO:tensorflow:global_step/sec: 263.552\n",
            "INFO:tensorflow:loss = 2.6520866e-07, step = 1800 (0.383 sec)\n",
            "INFO:tensorflow:global_step/sec: 259.227\n",
            "INFO:tensorflow:loss = 5.1159077e-13, step = 1900 (0.383 sec)\n",
            "INFO:tensorflow:global_step/sec: 256.689\n",
            "INFO:tensorflow:loss = 2.0890668e-06, step = 2000 (0.391 sec)\n",
            "INFO:tensorflow:global_step/sec: 249.856\n",
            "INFO:tensorflow:loss = 4.3620275e-08, step = 2100 (0.401 sec)\n",
            "INFO:tensorflow:global_step/sec: 257.15\n",
            "INFO:tensorflow:loss = 2.40681e-06, step = 2200 (0.390 sec)\n",
            "INFO:tensorflow:global_step/sec: 243.212\n",
            "INFO:tensorflow:loss = 6.9375833e-06, step = 2300 (0.411 sec)\n",
            "INFO:tensorflow:global_step/sec: 239.882\n",
            "INFO:tensorflow:loss = 1.3437251e-09, step = 2400 (0.415 sec)\n",
            "INFO:tensorflow:global_step/sec: 249.774\n",
            "INFO:tensorflow:loss = 6.035276e-08, step = 2500 (0.401 sec)\n",
            "INFO:tensorflow:global_step/sec: 239.898\n",
            "INFO:tensorflow:loss = 3.8896826e-07, step = 2600 (0.419 sec)\n",
            "INFO:tensorflow:global_step/sec: 252.089\n",
            "INFO:tensorflow:loss = 4.3050386e-07, step = 2700 (0.396 sec)\n",
            "INFO:tensorflow:global_step/sec: 258.804\n"
          ],
          "name": "stdout"
        },
        {
          "output_type": "stream",
          "text": [
            "INFO:tensorflow:loss = 1.9151934e-05, step = 2800 (0.385 sec)\n",
            "INFO:tensorflow:global_step/sec: 250.452\n",
            "INFO:tensorflow:loss = 1.2333481e-07, step = 2900 (0.397 sec)\n",
            "INFO:tensorflow:global_step/sec: 263.165\n",
            "INFO:tensorflow:loss = 1.3806455e-06, step = 3000 (0.380 sec)\n",
            "INFO:tensorflow:global_step/sec: 258.79\n",
            "INFO:tensorflow:loss = 2.3148482e-07, step = 3100 (0.388 sec)\n",
            "INFO:tensorflow:global_step/sec: 262.943\n",
            "INFO:tensorflow:loss = 1.175508e-06, step = 3200 (0.378 sec)\n",
            "INFO:tensorflow:global_step/sec: 254.08\n",
            "INFO:tensorflow:loss = 2.5499526e-07, step = 3300 (0.396 sec)\n",
            "INFO:tensorflow:global_step/sec: 248.038\n",
            "INFO:tensorflow:loss = 9.998997e-07, step = 3400 (0.409 sec)\n",
            "INFO:tensorflow:global_step/sec: 251.843\n",
            "INFO:tensorflow:loss = 1.1846881e-05, step = 3500 (0.389 sec)\n",
            "INFO:tensorflow:global_step/sec: 221.912\n",
            "INFO:tensorflow:loss = 3.0370752e-06, step = 3600 (0.456 sec)\n",
            "INFO:tensorflow:global_step/sec: 230.633\n",
            "INFO:tensorflow:loss = 4.8234875e-07, step = 3700 (0.428 sec)\n",
            "INFO:tensorflow:global_step/sec: 219.488\n",
            "INFO:tensorflow:loss = 8.425616e-09, step = 3800 (0.461 sec)\n",
            "INFO:tensorflow:global_step/sec: 249.538\n",
            "INFO:tensorflow:loss = 2.0889325e-07, step = 3900 (0.400 sec)\n",
            "INFO:tensorflow:global_step/sec: 257.423\n",
            "INFO:tensorflow:loss = 1.6283117e-07, step = 4000 (0.388 sec)\n",
            "INFO:tensorflow:global_step/sec: 248.01\n",
            "INFO:tensorflow:loss = 2.809253e-08, step = 4100 (0.404 sec)\n",
            "INFO:tensorflow:global_step/sec: 253.237\n",
            "INFO:tensorflow:loss = 1.5536434e-06, step = 4200 (0.395 sec)\n",
            "INFO:tensorflow:global_step/sec: 252.17\n",
            "INFO:tensorflow:loss = 2.7762894e-09, step = 4300 (0.393 sec)\n",
            "INFO:tensorflow:global_step/sec: 250.694\n",
            "INFO:tensorflow:loss = 1.1010388e-07, step = 4400 (0.401 sec)\n",
            "INFO:tensorflow:global_step/sec: 259.3\n",
            "INFO:tensorflow:loss = 1.0377861e-08, step = 4500 (0.389 sec)\n",
            "INFO:tensorflow:global_step/sec: 256.838\n",
            "INFO:tensorflow:loss = 6.177778e-08, step = 4600 (0.388 sec)\n",
            "INFO:tensorflow:global_step/sec: 263.604\n",
            "INFO:tensorflow:loss = 7.383159e-07, step = 4700 (0.379 sec)\n",
            "INFO:tensorflow:global_step/sec: 256.957\n",
            "INFO:tensorflow:loss = 5.392394e-09, step = 4800 (0.390 sec)\n",
            "INFO:tensorflow:global_step/sec: 241.459\n",
            "INFO:tensorflow:loss = 1.4210855e-08, step = 4900 (0.414 sec)\n",
            "INFO:tensorflow:Saving checkpoints for 5000 into /tmp/tmp70ut0x0y/model.ckpt.\n",
            "INFO:tensorflow:Loss for final step: 4.0644613e-07.\n"
          ],
          "name": "stdout"
        },
        {
          "output_type": "execute_result",
          "data": {
            "text/plain": [
              "<tensorflow.python.estimator.canned.dnn.DNNRegressor at 0x7f3ac5d714e0>"
            ]
          },
          "metadata": {
            "tags": []
          },
          "execution_count": 21
        }
      ]
    },
    {
      "metadata": {
        "id": "Mycdqye_b3Vi",
        "colab_type": "code",
        "colab": {
          "base_uri": "https://localhost:8080/",
          "height": 238
        },
        "outputId": "b984617f-1461-4447-cd3b-6fb8525e958f"
      },
      "cell_type": "code",
      "source": [
        "# Use it to predict.\n",
        "test = model.evaluate(steps=STEPS, input_fn=test_input_fn)"
      ],
      "execution_count": 22,
      "outputs": [
        {
          "output_type": "stream",
          "text": [
            "INFO:tensorflow:Calling model_fn.\n",
            "INFO:tensorflow:Done calling model_fn.\n",
            "INFO:tensorflow:Starting evaluation at 2018-07-26-10:05:13\n",
            "INFO:tensorflow:Graph was finalized.\n",
            "INFO:tensorflow:Restoring parameters from /tmp/tmp70ut0x0y/model.ckpt-5000\n",
            "INFO:tensorflow:Running local_init_op.\n",
            "INFO:tensorflow:Done running local_init_op.\n",
            "INFO:tensorflow:Evaluation [500/5000]\n",
            "INFO:tensorflow:Evaluation [1000/5000]\n",
            "INFO:tensorflow:Evaluation [1500/5000]\n",
            "INFO:tensorflow:Finished evaluation at 2018-07-26-10:05:16\n",
            "INFO:tensorflow:Saving dict for global step 5000: average_loss = 6.28648e-07, global_step = 5000, loss = 6.28648e-07\n",
            "INFO:tensorflow:Saving 'checkpoint_path' summary for global step 5000: /tmp/tmp70ut0x0y/model.ckpt-5000\n"
          ],
          "name": "stdout"
        }
      ]
    }
  ]
}