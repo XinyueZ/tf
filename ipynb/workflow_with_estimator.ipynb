{
  "nbformat": 4,
  "nbformat_minor": 0,
  "metadata": {
    "colab": {
      "name": "workflow-with-estimator.ipynb",
      "version": "0.3.2",
      "provenance": [],
      "collapsed_sections": [],
      "include_colab_link": true
    },
    "kernelspec": {
      "name": "python3",
      "display_name": "Python 3"
    }
  },
  "cells": [
    {
      "cell_type": "markdown",
      "metadata": {
        "id": "view-in-github",
        "colab_type": "text"
      },
      "source": [
        "[View in Colaboratory](https://colab.research.google.com/github/XinyueZ/tf/blob/master/ipynb/workflow_with_estimator.ipynb)"
      ]
    },
    {
      "metadata": {
        "id": "usywsvFLF2bo",
        "colab_type": "code",
        "colab": {}
      },
      "cell_type": "code",
      "source": [
        "import tensorflow as tf\n",
        "from tensorflow.python.data import Dataset\n",
        "import numpy as np\n",
        "import pandas as pd\n",
        "from sklearn.preprocessing import LabelBinarizer\n",
        "from sklearn.preprocessing import LabelEncoder"
      ],
      "execution_count": 0,
      "outputs": []
    },
    {
      "metadata": {
        "id": "6gRBSBTfiO1x",
        "colab_type": "code",
        "colab": {
          "base_uri": "https://localhost:8080/",
          "height": 204
        },
        "outputId": "94e3ce47-6885-4fe9-8ff9-13353cb8d7a3"
      },
      "cell_type": "code",
      "source": [
        "df = pd.read_csv(\"https://dl.dropbox.com/s/84wg1c7055cl5ee/data.csv\", sep=\",\")\n",
        "df = df[pd.notnull(df[\"Name\"])]\n",
        "df = df[pd.notnull(df[\"Width\"])]\n",
        "df = df[pd.notnull(df[\"Height\"])]\n",
        "df.head()"
      ],
      "execution_count": 89,
      "outputs": [
        {
          "output_type": "execute_result",
          "data": {
            "text/html": [
              "<div>\n",
              "<style scoped>\n",
              "    .dataframe tbody tr th:only-of-type {\n",
              "        vertical-align: middle;\n",
              "    }\n",
              "\n",
              "    .dataframe tbody tr th {\n",
              "        vertical-align: top;\n",
              "    }\n",
              "\n",
              "    .dataframe thead th {\n",
              "        text-align: right;\n",
              "    }\n",
              "</style>\n",
              "<table border=\"1\" class=\"dataframe\">\n",
              "  <thead>\n",
              "    <tr style=\"text-align: right;\">\n",
              "      <th></th>\n",
              "      <th>Name</th>\n",
              "      <th>Width</th>\n",
              "      <th>Height</th>\n",
              "      <th>Length</th>\n",
              "      <th>Dense</th>\n",
              "    </tr>\n",
              "  </thead>\n",
              "  <tbody>\n",
              "    <tr>\n",
              "      <th>0</th>\n",
              "      <td>a small guy</td>\n",
              "      <td>10</td>\n",
              "      <td>23</td>\n",
              "      <td>12</td>\n",
              "      <td>6</td>\n",
              "    </tr>\n",
              "    <tr>\n",
              "      <th>1</th>\n",
              "      <td>a beautiful stage</td>\n",
              "      <td>11</td>\n",
              "      <td>24</td>\n",
              "      <td>11</td>\n",
              "      <td>7</td>\n",
              "    </tr>\n",
              "    <tr>\n",
              "      <th>2</th>\n",
              "      <td>the a length</td>\n",
              "      <td>4</td>\n",
              "      <td>56</td>\n",
              "      <td>15</td>\n",
              "      <td>1</td>\n",
              "    </tr>\n",
              "    <tr>\n",
              "      <th>3</th>\n",
              "      <td>zeros to</td>\n",
              "      <td>5</td>\n",
              "      <td>57</td>\n",
              "      <td>8</td>\n",
              "      <td>2</td>\n",
              "    </tr>\n",
              "    <tr>\n",
              "      <th>4</th>\n",
              "      <td>description</td>\n",
              "      <td>6</td>\n",
              "      <td>66</td>\n",
              "      <td>9</td>\n",
              "      <td>8</td>\n",
              "    </tr>\n",
              "  </tbody>\n",
              "</table>\n",
              "</div>"
            ],
            "text/plain": [
              "                Name  Width  Height  Length  Dense\n",
              "0        a small guy     10      23      12      6\n",
              "1  a beautiful stage     11      24      11      7\n",
              "2       the a length      4      56      15      1\n",
              "3           zeros to      5      57       8      2\n",
              "4        description      6      66       9      8"
            ]
          },
          "metadata": {
            "tags": []
          },
          "execution_count": 89
        }
      ]
    },
    {
      "metadata": {
        "id": "PWk86xsBDkch",
        "colab_type": "code",
        "colab": {}
      },
      "cell_type": "code",
      "source": [
        "def make_dataset_and_labels_and_class_num(df, label_name):\n",
        "  \"\"\"This method will prepare dataset, labels for train, test and classes count.\n",
        "     Args:\n",
        "      df: DataFrame format of datasource.\n",
        "      label_name: The name of column in datasource which will be as target for train.\n",
        "     Return: \n",
        "       Tuple of (ds_train, ds_test, y_train, y_test, class_num)\n",
        "      \n",
        "  \"\"\"\n",
        "  target_label_col = \"label\" #New column name in original table.\n",
        "  \n",
        "  encoder = LabelEncoder()\n",
        "  label = encoder.fit_transform(df[label_name])\n",
        "  df.insert(2, target_label_col, label) \n",
        "  class_num = np.max(label) + 1\n",
        "   \n",
        "  random_seed = None\n",
        "  np.random.seed(random_seed)\n",
        "  \n",
        "  ds_train = df.sample(frac=0.5, random_state=random_seed)\n",
        "  label_train = ds_train[target_label_col]\n",
        "  \n",
        "  ds_test = df.drop(ds_train.index)\n",
        "  label_test = ds_test[target_label_col]\n",
        "   \n",
        "  return ds_train, ds_test, label_train, label_test, class_num"
      ],
      "execution_count": 0,
      "outputs": []
    },
    {
      "metadata": {
        "id": "NgkHsXdun_dO",
        "colab_type": "code",
        "colab": {}
      },
      "cell_type": "code",
      "source": [
        "ds_train, ds_test, y_train, y_test, class_num = make_dataset_and_labels_and_class_num(df, \"Name\")"
      ],
      "execution_count": 0,
      "outputs": []
    },
    {
      "metadata": {
        "id": "b9A0YuJAxXFk",
        "colab_type": "code",
        "colab": {
          "base_uri": "https://localhost:8080/",
          "height": 34
        },
        "outputId": "212d91bc-e19e-4891-c054-4477183a3055"
      },
      "cell_type": "code",
      "source": [
        "print(\"class: {}\".format(class_num))"
      ],
      "execution_count": 92,
      "outputs": [
        {
          "output_type": "stream",
          "text": [
            "class: 7\n"
          ],
          "name": "stdout"
        }
      ]
    },
    {
      "metadata": {
        "id": "mgVYA89XoHIV",
        "colab_type": "code",
        "colab": {
          "base_uri": "https://localhost:8080/",
          "height": 173
        },
        "outputId": "730e72c9-0887-46b1-ee0e-de0db555ca31"
      },
      "cell_type": "code",
      "source": [
        "ds_train.head()"
      ],
      "execution_count": 93,
      "outputs": [
        {
          "output_type": "execute_result",
          "data": {
            "text/html": [
              "<div>\n",
              "<style scoped>\n",
              "    .dataframe tbody tr th:only-of-type {\n",
              "        vertical-align: middle;\n",
              "    }\n",
              "\n",
              "    .dataframe tbody tr th {\n",
              "        vertical-align: top;\n",
              "    }\n",
              "\n",
              "    .dataframe thead th {\n",
              "        text-align: right;\n",
              "    }\n",
              "</style>\n",
              "<table border=\"1\" class=\"dataframe\">\n",
              "  <thead>\n",
              "    <tr style=\"text-align: right;\">\n",
              "      <th></th>\n",
              "      <th>Name</th>\n",
              "      <th>Width</th>\n",
              "      <th>label</th>\n",
              "      <th>Height</th>\n",
              "      <th>Length</th>\n",
              "      <th>Dense</th>\n",
              "    </tr>\n",
              "  </thead>\n",
              "  <tbody>\n",
              "    <tr>\n",
              "      <th>5</th>\n",
              "      <td>can learn</td>\n",
              "      <td>7</td>\n",
              "      <td>2</td>\n",
              "      <td>77</td>\n",
              "      <td>14</td>\n",
              "      <td>10</td>\n",
              "    </tr>\n",
              "    <tr>\n",
              "      <th>4</th>\n",
              "      <td>description</td>\n",
              "      <td>6</td>\n",
              "      <td>3</td>\n",
              "      <td>66</td>\n",
              "      <td>9</td>\n",
              "      <td>8</td>\n",
              "    </tr>\n",
              "    <tr>\n",
              "      <th>1</th>\n",
              "      <td>a beautiful stage</td>\n",
              "      <td>11</td>\n",
              "      <td>0</td>\n",
              "      <td>24</td>\n",
              "      <td>11</td>\n",
              "      <td>7</td>\n",
              "    </tr>\n",
              "    <tr>\n",
              "      <th>0</th>\n",
              "      <td>a small guy</td>\n",
              "      <td>10</td>\n",
              "      <td>1</td>\n",
              "      <td>23</td>\n",
              "      <td>12</td>\n",
              "      <td>6</td>\n",
              "    </tr>\n",
              "  </tbody>\n",
              "</table>\n",
              "</div>"
            ],
            "text/plain": [
              "                Name  Width  label  Height  Length  Dense\n",
              "5          can learn      7      2      77      14     10\n",
              "4        description      6      3      66       9      8\n",
              "1  a beautiful stage     11      0      24      11      7\n",
              "0        a small guy     10      1      23      12      6"
            ]
          },
          "metadata": {
            "tags": []
          },
          "execution_count": 93
        }
      ]
    },
    {
      "metadata": {
        "id": "oMlOOyPQoI1E",
        "colab_type": "code",
        "colab": {
          "base_uri": "https://localhost:8080/",
          "height": 142
        },
        "outputId": "544df7a3-8eea-427c-dccb-9afe016664db"
      },
      "cell_type": "code",
      "source": [
        "ds_test.head()"
      ],
      "execution_count": 94,
      "outputs": [
        {
          "output_type": "execute_result",
          "data": {
            "text/html": [
              "<div>\n",
              "<style scoped>\n",
              "    .dataframe tbody tr th:only-of-type {\n",
              "        vertical-align: middle;\n",
              "    }\n",
              "\n",
              "    .dataframe tbody tr th {\n",
              "        vertical-align: top;\n",
              "    }\n",
              "\n",
              "    .dataframe thead th {\n",
              "        text-align: right;\n",
              "    }\n",
              "</style>\n",
              "<table border=\"1\" class=\"dataframe\">\n",
              "  <thead>\n",
              "    <tr style=\"text-align: right;\">\n",
              "      <th></th>\n",
              "      <th>Name</th>\n",
              "      <th>Width</th>\n",
              "      <th>label</th>\n",
              "      <th>Height</th>\n",
              "      <th>Length</th>\n",
              "      <th>Dense</th>\n",
              "    </tr>\n",
              "  </thead>\n",
              "  <tbody>\n",
              "    <tr>\n",
              "      <th>2</th>\n",
              "      <td>the a length</td>\n",
              "      <td>4</td>\n",
              "      <td>5</td>\n",
              "      <td>56</td>\n",
              "      <td>15</td>\n",
              "      <td>1</td>\n",
              "    </tr>\n",
              "    <tr>\n",
              "      <th>3</th>\n",
              "      <td>zeros to</td>\n",
              "      <td>5</td>\n",
              "      <td>6</td>\n",
              "      <td>57</td>\n",
              "      <td>8</td>\n",
              "      <td>2</td>\n",
              "    </tr>\n",
              "    <tr>\n",
              "      <th>6</th>\n",
              "      <td>performs better</td>\n",
              "      <td>8</td>\n",
              "      <td>4</td>\n",
              "      <td>88</td>\n",
              "      <td>7</td>\n",
              "      <td>8</td>\n",
              "    </tr>\n",
              "  </tbody>\n",
              "</table>\n",
              "</div>"
            ],
            "text/plain": [
              "              Name  Width  label  Height  Length  Dense\n",
              "2     the a length      4      5      56      15      1\n",
              "3         zeros to      5      6      57       8      2\n",
              "6  performs better      8      4      88       7      8"
            ]
          },
          "metadata": {
            "tags": []
          },
          "execution_count": 94
        }
      ]
    },
    {
      "metadata": {
        "id": "JZavMq0Po3p1",
        "colab_type": "code",
        "colab": {}
      },
      "cell_type": "code",
      "source": [
        "x_train = ds_train[[\"Width\", \"Height\"]]\n",
        "x_test = ds_test[[\"Width\", \"Height\"]]"
      ],
      "execution_count": 0,
      "outputs": []
    },
    {
      "metadata": {
        "id": "Yi1g3htco3st",
        "colab_type": "code",
        "colab": {
          "base_uri": "https://localhost:8080/",
          "height": 173
        },
        "outputId": "34b05b91-1dab-41dc-a7c6-1dca0af2ae39"
      },
      "cell_type": "code",
      "source": [
        "x_train.head()"
      ],
      "execution_count": 96,
      "outputs": [
        {
          "output_type": "execute_result",
          "data": {
            "text/html": [
              "<div>\n",
              "<style scoped>\n",
              "    .dataframe tbody tr th:only-of-type {\n",
              "        vertical-align: middle;\n",
              "    }\n",
              "\n",
              "    .dataframe tbody tr th {\n",
              "        vertical-align: top;\n",
              "    }\n",
              "\n",
              "    .dataframe thead th {\n",
              "        text-align: right;\n",
              "    }\n",
              "</style>\n",
              "<table border=\"1\" class=\"dataframe\">\n",
              "  <thead>\n",
              "    <tr style=\"text-align: right;\">\n",
              "      <th></th>\n",
              "      <th>Width</th>\n",
              "      <th>Height</th>\n",
              "    </tr>\n",
              "  </thead>\n",
              "  <tbody>\n",
              "    <tr>\n",
              "      <th>5</th>\n",
              "      <td>7</td>\n",
              "      <td>77</td>\n",
              "    </tr>\n",
              "    <tr>\n",
              "      <th>4</th>\n",
              "      <td>6</td>\n",
              "      <td>66</td>\n",
              "    </tr>\n",
              "    <tr>\n",
              "      <th>1</th>\n",
              "      <td>11</td>\n",
              "      <td>24</td>\n",
              "    </tr>\n",
              "    <tr>\n",
              "      <th>0</th>\n",
              "      <td>10</td>\n",
              "      <td>23</td>\n",
              "    </tr>\n",
              "  </tbody>\n",
              "</table>\n",
              "</div>"
            ],
            "text/plain": [
              "   Width  Height\n",
              "5      7      77\n",
              "4      6      66\n",
              "1     11      24\n",
              "0     10      23"
            ]
          },
          "metadata": {
            "tags": []
          },
          "execution_count": 96
        }
      ]
    },
    {
      "metadata": {
        "id": "6VRcJQxqpInl",
        "colab_type": "code",
        "colab": {
          "base_uri": "https://localhost:8080/",
          "height": 142
        },
        "outputId": "b5e6401a-f56b-4c59-b795-f4fb0baef62d"
      },
      "cell_type": "code",
      "source": [
        "x_test.head()"
      ],
      "execution_count": 97,
      "outputs": [
        {
          "output_type": "execute_result",
          "data": {
            "text/html": [
              "<div>\n",
              "<style scoped>\n",
              "    .dataframe tbody tr th:only-of-type {\n",
              "        vertical-align: middle;\n",
              "    }\n",
              "\n",
              "    .dataframe tbody tr th {\n",
              "        vertical-align: top;\n",
              "    }\n",
              "\n",
              "    .dataframe thead th {\n",
              "        text-align: right;\n",
              "    }\n",
              "</style>\n",
              "<table border=\"1\" class=\"dataframe\">\n",
              "  <thead>\n",
              "    <tr style=\"text-align: right;\">\n",
              "      <th></th>\n",
              "      <th>Width</th>\n",
              "      <th>Height</th>\n",
              "    </tr>\n",
              "  </thead>\n",
              "  <tbody>\n",
              "    <tr>\n",
              "      <th>2</th>\n",
              "      <td>4</td>\n",
              "      <td>56</td>\n",
              "    </tr>\n",
              "    <tr>\n",
              "      <th>3</th>\n",
              "      <td>5</td>\n",
              "      <td>57</td>\n",
              "    </tr>\n",
              "    <tr>\n",
              "      <th>6</th>\n",
              "      <td>8</td>\n",
              "      <td>88</td>\n",
              "    </tr>\n",
              "  </tbody>\n",
              "</table>\n",
              "</div>"
            ],
            "text/plain": [
              "   Width  Height\n",
              "2      4      56\n",
              "3      5      57\n",
              "6      8      88"
            ]
          },
          "metadata": {
            "tags": []
          },
          "execution_count": 97
        }
      ]
    },
    {
      "metadata": {
        "id": "aaY6YIFVD5yD",
        "colab_type": "code",
        "colab": {
          "base_uri": "https://localhost:8080/",
          "height": 102
        },
        "outputId": "daf2cfdd-ee2c-4f35-ee7e-a93435b0bfc6"
      },
      "cell_type": "code",
      "source": [
        "y_train"
      ],
      "execution_count": 98,
      "outputs": [
        {
          "output_type": "execute_result",
          "data": {
            "text/plain": [
              "5    2\n",
              "4    3\n",
              "1    0\n",
              "0    1\n",
              "Name: label, dtype: int64"
            ]
          },
          "metadata": {
            "tags": []
          },
          "execution_count": 98
        }
      ]
    },
    {
      "metadata": {
        "id": "ewALDkKC_yxf",
        "colab_type": "code",
        "colab": {
          "base_uri": "https://localhost:8080/",
          "height": 34
        },
        "outputId": "50ca2e40-24d1-45ec-956e-f2f633f92a35"
      },
      "cell_type": "code",
      "source": [
        "type(y_train)"
      ],
      "execution_count": 99,
      "outputs": [
        {
          "output_type": "execute_result",
          "data": {
            "text/plain": [
              "pandas.core.series.Series"
            ]
          },
          "metadata": {
            "tags": []
          },
          "execution_count": 99
        }
      ]
    },
    {
      "metadata": {
        "id": "Fw2jDJj9D8JS",
        "colab_type": "code",
        "colab": {
          "base_uri": "https://localhost:8080/",
          "height": 85
        },
        "outputId": "d089ab8f-63c0-4309-ae29-7201ed9491b1"
      },
      "cell_type": "code",
      "source": [
        "y_test"
      ],
      "execution_count": 100,
      "outputs": [
        {
          "output_type": "execute_result",
          "data": {
            "text/plain": [
              "2    5\n",
              "3    6\n",
              "6    4\n",
              "Name: label, dtype: int64"
            ]
          },
          "metadata": {
            "tags": []
          },
          "execution_count": 100
        }
      ]
    },
    {
      "metadata": {
        "id": "RcsDdsA0_0GH",
        "colab_type": "code",
        "colab": {
          "base_uri": "https://localhost:8080/",
          "height": 34
        },
        "outputId": "7128e3d5-2a72-4291-d3d0-a924247b4639"
      },
      "cell_type": "code",
      "source": [
        "type(y_test)"
      ],
      "execution_count": 101,
      "outputs": [
        {
          "output_type": "execute_result",
          "data": {
            "text/plain": [
              "pandas.core.series.Series"
            ]
          },
          "metadata": {
            "tags": []
          },
          "execution_count": 101
        }
      ]
    },
    {
      "metadata": {
        "id": "udjYU2TaCClX",
        "colab_type": "code",
        "colab": {}
      },
      "cell_type": "code",
      "source": [
        "def input_fn(features, targets, batch_size=1, shuffle=True, num_epochs=None):\n",
        "    \"\"\"Trains a linear regression model of one feature.\n",
        "  \n",
        "    Args:\n",
        "      features: pandas DataFrame of features\n",
        "      targets: pandas DataFrame of targets\n",
        "      batch_size: Size of batches to be passed to the model\n",
        "      shuffle: True or False. Whether to shuffle the data.\n",
        "      num_epochs: Number of epochs for which data should be repeated. None = repeat indefinitely\n",
        "    Returns:\n",
        "      Tuple of (features, labels) for next data batch\n",
        "    \"\"\"\n",
        " \n",
        "    # Construct a dataset, and configure batching/repeating\n",
        "    features = {key:np.array(value) for key,value in dict(features).items()} \n",
        "  \n",
        "    ds = Dataset.from_tensor_slices((features, targets))\n",
        "    ds = ds.batch(batch_size).repeat(num_epochs)\n",
        "    \n",
        "    # Shuffle the data, if specified\n",
        "    if shuffle:\n",
        "      ds = ds.shuffle(buffer_size=10000)\n",
        "    \n",
        "    # Return the next batch of data\n",
        "    features, labels = ds.make_one_shot_iterator().get_next()\n",
        "    return features, labels"
      ],
      "execution_count": 0,
      "outputs": []
    },
    {
      "metadata": {
        "id": "XauzWrcNCh0J",
        "colab_type": "code",
        "colab": {}
      },
      "cell_type": "code",
      "source": [
        "train_input_fn = lambda: input_fn(x_train, y_train)"
      ],
      "execution_count": 0,
      "outputs": []
    },
    {
      "metadata": {
        "id": "_QCb9zcOCf3A",
        "colab_type": "code",
        "colab": {}
      },
      "cell_type": "code",
      "source": [
        "test_input_fn =lambda: input_fn(x_test, y_test, num_epochs=1, shuffle=False)"
      ],
      "execution_count": 0,
      "outputs": []
    },
    {
      "metadata": {
        "id": "_rvAbHuFjCND",
        "colab_type": "code",
        "colab": {}
      },
      "cell_type": "code",
      "source": [
        "STEPS = 29000  # Steps of train loop."
      ],
      "execution_count": 0,
      "outputs": []
    },
    {
      "metadata": {
        "id": "O4Fyeywlz4dm",
        "colab_type": "code",
        "colab": {}
      },
      "cell_type": "code",
      "source": [
        "feature_cols = [\n",
        "  tf.feature_column.numeric_column(\"Width\"),\n",
        "  tf.feature_column.numeric_column(\"Height\")\n",
        "]"
      ],
      "execution_count": 0,
      "outputs": []
    },
    {
      "metadata": {
        "id": "xibCYiz3by1B",
        "colab_type": "code",
        "colab": {
          "base_uri": "https://localhost:8080/",
          "height": 88
        },
        "outputId": "5182884d-2023-48b0-ef37-643c5b2ebee6"
      },
      "cell_type": "code",
      "source": [
        "# Set up a linear classifier.\n",
        "model = tf.estimator.LinearClassifier(\n",
        "    feature_columns = feature_cols,\n",
        "    n_classes = class_num\n",
        ")"
      ],
      "execution_count": 107,
      "outputs": [
        {
          "output_type": "stream",
          "text": [
            "INFO:tensorflow:Using default config.\n",
            "WARNING:tensorflow:Using temporary folder as model directory: /tmp/tmppe9s28eg\n",
            "INFO:tensorflow:Using config: {'_model_dir': '/tmp/tmppe9s28eg', '_tf_random_seed': None, '_save_summary_steps': 100, '_save_checkpoints_steps': None, '_save_checkpoints_secs': 600, '_session_config': None, '_keep_checkpoint_max': 5, '_keep_checkpoint_every_n_hours': 10000, '_log_step_count_steps': 100, '_train_distribute': None, '_device_fn': None, '_service': None, '_cluster_spec': <tensorflow.python.training.server_lib.ClusterSpec object at 0x7f2a445844a8>, '_task_type': 'worker', '_task_id': 0, '_global_id_in_cluster': 0, '_master': '', '_evaluation_master': '', '_is_chief': True, '_num_ps_replicas': 0, '_num_worker_replicas': 1}\n"
          ],
          "name": "stdout"
        }
      ]
    },
    {
      "metadata": {
        "id": "-KYQzFW4b1cB",
        "colab_type": "code",
        "colab": {
          "base_uri": "https://localhost:8080/",
          "height": 10030
        },
        "outputId": "a1876c46-c62e-4dcc-f6ad-c7f93e32a4ff"
      },
      "cell_type": "code",
      "source": [
        "model.train(input_fn=train_input_fn, steps=STEPS)"
      ],
      "execution_count": 108,
      "outputs": [
        {
          "output_type": "stream",
          "text": [
            "INFO:tensorflow:Calling model_fn.\n",
            "INFO:tensorflow:Done calling model_fn.\n",
            "INFO:tensorflow:Create CheckpointSaverHook.\n",
            "INFO:tensorflow:Graph was finalized.\n",
            "INFO:tensorflow:Running local_init_op.\n",
            "INFO:tensorflow:Done running local_init_op.\n",
            "INFO:tensorflow:Saving checkpoints for 0 into /tmp/tmppe9s28eg/model.ckpt.\n",
            "INFO:tensorflow:loss = 1.9459102, step = 1\n",
            "INFO:tensorflow:global_step/sec: 899.835\n",
            "INFO:tensorflow:loss = 0.08014849, step = 101 (0.113 sec)\n",
            "INFO:tensorflow:global_step/sec: 1453.08\n",
            "INFO:tensorflow:loss = 0.3903152, step = 201 (0.069 sec)\n",
            "INFO:tensorflow:global_step/sec: 1460.96\n",
            "INFO:tensorflow:loss = 0.07100366, step = 301 (0.071 sec)\n",
            "INFO:tensorflow:global_step/sec: 1424.42\n",
            "INFO:tensorflow:loss = 0.24039735, step = 401 (0.070 sec)\n",
            "INFO:tensorflow:global_step/sec: 1316.31\n",
            "INFO:tensorflow:loss = 0.8584721, step = 501 (0.075 sec)\n",
            "INFO:tensorflow:global_step/sec: 1433.91\n",
            "INFO:tensorflow:loss = 0.2188447, step = 601 (0.069 sec)\n",
            "INFO:tensorflow:global_step/sec: 1418.22\n",
            "INFO:tensorflow:loss = 1.3963683, step = 701 (0.071 sec)\n",
            "INFO:tensorflow:global_step/sec: 1356.64\n",
            "INFO:tensorflow:loss = 0.5222868, step = 801 (0.074 sec)\n",
            "INFO:tensorflow:global_step/sec: 1397.05\n",
            "INFO:tensorflow:loss = 0.7332286, step = 901 (0.072 sec)\n",
            "INFO:tensorflow:global_step/sec: 1472.29\n",
            "INFO:tensorflow:loss = 0.18505748, step = 1001 (0.068 sec)\n",
            "INFO:tensorflow:global_step/sec: 1398.26\n",
            "INFO:tensorflow:loss = 0.60358024, step = 1101 (0.073 sec)\n",
            "INFO:tensorflow:global_step/sec: 1465.81\n",
            "INFO:tensorflow:loss = 0.1530784, step = 1201 (0.070 sec)\n",
            "INFO:tensorflow:global_step/sec: 1378.43\n",
            "INFO:tensorflow:loss = 0.31560835, step = 1301 (0.072 sec)\n",
            "INFO:tensorflow:global_step/sec: 1346.44\n",
            "INFO:tensorflow:loss = 1.5458672, step = 1401 (0.075 sec)\n",
            "INFO:tensorflow:global_step/sec: 1432.93\n",
            "INFO:tensorflow:loss = 2.186501, step = 1501 (0.066 sec)\n",
            "INFO:tensorflow:global_step/sec: 1464.2\n",
            "INFO:tensorflow:loss = 1.503048, step = 1601 (0.069 sec)\n",
            "INFO:tensorflow:global_step/sec: 1445.78\n",
            "INFO:tensorflow:loss = 0.5305642, step = 1701 (0.068 sec)\n",
            "INFO:tensorflow:global_step/sec: 1442.55\n",
            "INFO:tensorflow:loss = 0.9420259, step = 1801 (0.070 sec)\n",
            "INFO:tensorflow:global_step/sec: 1496.38\n",
            "INFO:tensorflow:loss = 0.120346084, step = 1901 (0.070 sec)\n",
            "INFO:tensorflow:global_step/sec: 1355.34\n",
            "INFO:tensorflow:loss = 0.97218513, step = 2001 (0.074 sec)\n",
            "INFO:tensorflow:global_step/sec: 1410.55\n",
            "INFO:tensorflow:loss = 0.7104721, step = 2101 (0.067 sec)\n",
            "INFO:tensorflow:global_step/sec: 1416.26\n",
            "INFO:tensorflow:loss = 1.4225787, step = 2201 (0.071 sec)\n",
            "INFO:tensorflow:global_step/sec: 1387.88\n",
            "INFO:tensorflow:loss = 1.1441817, step = 2301 (0.072 sec)\n",
            "INFO:tensorflow:global_step/sec: 1336\n",
            "INFO:tensorflow:loss = 0.52963275, step = 2401 (0.079 sec)\n",
            "INFO:tensorflow:global_step/sec: 1327.43\n",
            "INFO:tensorflow:loss = 0.35161987, step = 2501 (0.072 sec)\n",
            "INFO:tensorflow:global_step/sec: 1382.14\n",
            "INFO:tensorflow:loss = 0.370586, step = 2601 (0.073 sec)\n",
            "INFO:tensorflow:global_step/sec: 1419.41\n",
            "INFO:tensorflow:loss = 1.3410954, step = 2701 (0.070 sec)\n",
            "INFO:tensorflow:global_step/sec: 1449.51\n",
            "INFO:tensorflow:loss = 0.7621925, step = 2801 (0.069 sec)\n"
          ],
          "name": "stdout"
        },
        {
          "output_type": "stream",
          "text": [
            "INFO:tensorflow:global_step/sec: 1376.4\n",
            "INFO:tensorflow:loss = 0.42736065, step = 2901 (0.072 sec)\n",
            "INFO:tensorflow:global_step/sec: 1426.39\n",
            "INFO:tensorflow:loss = 0.4595944, step = 3001 (0.070 sec)\n",
            "INFO:tensorflow:global_step/sec: 1404.43\n",
            "INFO:tensorflow:loss = 0.59993196, step = 3101 (0.071 sec)\n",
            "INFO:tensorflow:global_step/sec: 1336.71\n",
            "INFO:tensorflow:loss = 0.61884177, step = 3201 (0.078 sec)\n",
            "INFO:tensorflow:global_step/sec: 1412.32\n",
            "INFO:tensorflow:loss = 1.2438779, step = 3301 (0.068 sec)\n",
            "INFO:tensorflow:global_step/sec: 1417.05\n",
            "INFO:tensorflow:loss = 0.49434763, step = 3401 (0.071 sec)\n",
            "INFO:tensorflow:global_step/sec: 1383.29\n",
            "INFO:tensorflow:loss = 0.81339926, step = 3501 (0.073 sec)\n",
            "INFO:tensorflow:global_step/sec: 1427.67\n",
            "INFO:tensorflow:loss = 0.5151096, step = 3601 (0.069 sec)\n",
            "INFO:tensorflow:global_step/sec: 1450.07\n",
            "INFO:tensorflow:loss = 0.4865616, step = 3701 (0.069 sec)\n",
            "INFO:tensorflow:global_step/sec: 1393.23\n",
            "INFO:tensorflow:loss = 0.4047092, step = 3801 (0.072 sec)\n",
            "INFO:tensorflow:global_step/sec: 1428.37\n",
            "INFO:tensorflow:loss = 0.55958587, step = 3901 (0.073 sec)\n",
            "INFO:tensorflow:global_step/sec: 1410.64\n",
            "INFO:tensorflow:loss = 1.0344579, step = 4001 (0.070 sec)\n",
            "INFO:tensorflow:global_step/sec: 1276.06\n",
            "INFO:tensorflow:loss = 0.8589955, step = 4101 (0.079 sec)\n",
            "INFO:tensorflow:global_step/sec: 1360.19\n",
            "INFO:tensorflow:loss = 0.78969115, step = 4201 (0.069 sec)\n",
            "INFO:tensorflow:global_step/sec: 1398.63\n",
            "INFO:tensorflow:loss = 0.6095423, step = 4301 (0.071 sec)\n",
            "INFO:tensorflow:global_step/sec: 1362.92\n",
            "INFO:tensorflow:loss = 0.97709864, step = 4401 (0.077 sec)\n",
            "INFO:tensorflow:global_step/sec: 1358.9\n",
            "INFO:tensorflow:loss = 0.6224328, step = 4501 (0.071 sec)\n",
            "INFO:tensorflow:global_step/sec: 1466.27\n",
            "INFO:tensorflow:loss = 0.5786989, step = 4601 (0.072 sec)\n",
            "INFO:tensorflow:global_step/sec: 1329.88\n",
            "INFO:tensorflow:loss = 0.9406767, step = 4701 (0.071 sec)\n",
            "INFO:tensorflow:global_step/sec: 1401.31\n",
            "INFO:tensorflow:loss = 0.24197462, step = 4801 (0.072 sec)\n",
            "INFO:tensorflow:global_step/sec: 1339.01\n",
            "INFO:tensorflow:loss = 0.8686043, step = 4901 (0.074 sec)\n",
            "INFO:tensorflow:global_step/sec: 1407.39\n",
            "INFO:tensorflow:loss = 0.5587273, step = 5001 (0.072 sec)\n",
            "INFO:tensorflow:global_step/sec: 1350.24\n",
            "INFO:tensorflow:loss = 0.81991136, step = 5101 (0.075 sec)\n",
            "INFO:tensorflow:global_step/sec: 1420.53\n",
            "INFO:tensorflow:loss = 0.7526594, step = 5201 (0.068 sec)\n",
            "INFO:tensorflow:global_step/sec: 1448.79\n",
            "INFO:tensorflow:loss = 0.23922825, step = 5301 (0.068 sec)\n",
            "INFO:tensorflow:global_step/sec: 1396.57\n",
            "INFO:tensorflow:loss = 0.71968114, step = 5401 (0.072 sec)\n",
            "INFO:tensorflow:global_step/sec: 1436.55\n",
            "INFO:tensorflow:loss = 0.51385564, step = 5501 (0.070 sec)\n",
            "INFO:tensorflow:global_step/sec: 1431.72\n",
            "INFO:tensorflow:loss = 0.8617487, step = 5601 (0.069 sec)\n",
            "INFO:tensorflow:global_step/sec: 1406.8\n",
            "INFO:tensorflow:loss = 1.1299379, step = 5701 (0.071 sec)\n",
            "INFO:tensorflow:global_step/sec: 1442.17\n",
            "INFO:tensorflow:loss = 0.43773863, step = 5801 (0.069 sec)\n",
            "INFO:tensorflow:global_step/sec: 1404.17\n",
            "INFO:tensorflow:loss = 0.7768382, step = 5901 (0.071 sec)\n",
            "INFO:tensorflow:global_step/sec: 1387.22\n"
          ],
          "name": "stdout"
        },
        {
          "output_type": "stream",
          "text": [
            "INFO:tensorflow:loss = 0.28783882, step = 6001 (0.072 sec)\n",
            "INFO:tensorflow:global_step/sec: 1400.95\n",
            "INFO:tensorflow:loss = 0.480092, step = 6101 (0.071 sec)\n",
            "INFO:tensorflow:global_step/sec: 1395.6\n",
            "INFO:tensorflow:loss = 0.6362454, step = 6201 (0.072 sec)\n",
            "INFO:tensorflow:global_step/sec: 1359.73\n",
            "INFO:tensorflow:loss = 0.50444245, step = 6301 (0.074 sec)\n",
            "INFO:tensorflow:global_step/sec: 1401.85\n",
            "INFO:tensorflow:loss = 0.38606128, step = 6401 (0.071 sec)\n",
            "INFO:tensorflow:global_step/sec: 1328.3\n",
            "INFO:tensorflow:loss = 1.234074, step = 6501 (0.076 sec)\n",
            "INFO:tensorflow:global_step/sec: 1360.08\n",
            "INFO:tensorflow:loss = 0.55455375, step = 6601 (0.073 sec)\n",
            "INFO:tensorflow:global_step/sec: 1439.83\n",
            "INFO:tensorflow:loss = 0.46605936, step = 6701 (0.069 sec)\n",
            "INFO:tensorflow:global_step/sec: 1406.5\n",
            "INFO:tensorflow:loss = 0.8043955, step = 6801 (0.071 sec)\n",
            "INFO:tensorflow:global_step/sec: 1372.67\n",
            "INFO:tensorflow:loss = 0.27071846, step = 6901 (0.073 sec)\n",
            "INFO:tensorflow:global_step/sec: 1414.57\n",
            "INFO:tensorflow:loss = 1.2217203, step = 7001 (0.073 sec)\n",
            "INFO:tensorflow:global_step/sec: 1423.48\n",
            "INFO:tensorflow:loss = 0.28834116, step = 7101 (0.069 sec)\n",
            "INFO:tensorflow:global_step/sec: 1362.31\n",
            "INFO:tensorflow:loss = 1.0238494, step = 7201 (0.073 sec)\n",
            "INFO:tensorflow:global_step/sec: 1440.3\n",
            "INFO:tensorflow:loss = 0.73878515, step = 7301 (0.071 sec)\n",
            "INFO:tensorflow:global_step/sec: 1456.63\n",
            "INFO:tensorflow:loss = 0.43765515, step = 7401 (0.067 sec)\n",
            "INFO:tensorflow:global_step/sec: 1387.92\n",
            "INFO:tensorflow:loss = 1.3488083, step = 7501 (0.074 sec)\n",
            "INFO:tensorflow:global_step/sec: 1415.98\n",
            "INFO:tensorflow:loss = 0.73956853, step = 7601 (0.069 sec)\n",
            "INFO:tensorflow:global_step/sec: 1422.34\n",
            "INFO:tensorflow:loss = 0.56342405, step = 7701 (0.070 sec)\n",
            "INFO:tensorflow:global_step/sec: 1420.25\n",
            "INFO:tensorflow:loss = 0.38196382, step = 7801 (0.072 sec)\n",
            "INFO:tensorflow:global_step/sec: 1455.24\n",
            "INFO:tensorflow:loss = 0.1333421, step = 7901 (0.067 sec)\n",
            "INFO:tensorflow:global_step/sec: 1484.55\n",
            "INFO:tensorflow:loss = 0.7295019, step = 8001 (0.067 sec)\n",
            "INFO:tensorflow:global_step/sec: 1438.58\n",
            "INFO:tensorflow:loss = 0.6175739, step = 8101 (0.070 sec)\n",
            "INFO:tensorflow:global_step/sec: 1379.37\n",
            "INFO:tensorflow:loss = 0.7938074, step = 8201 (0.072 sec)\n",
            "INFO:tensorflow:global_step/sec: 1201.08\n",
            "INFO:tensorflow:loss = 0.6457742, step = 8301 (0.083 sec)\n",
            "INFO:tensorflow:global_step/sec: 1361.89\n",
            "INFO:tensorflow:loss = 0.3857844, step = 8401 (0.076 sec)\n",
            "INFO:tensorflow:global_step/sec: 1359.32\n",
            "INFO:tensorflow:loss = 1.1025214, step = 8501 (0.071 sec)\n",
            "INFO:tensorflow:global_step/sec: 1404.36\n",
            "INFO:tensorflow:loss = 0.29844517, step = 8601 (0.075 sec)\n",
            "INFO:tensorflow:global_step/sec: 1396.08\n",
            "INFO:tensorflow:loss = 0.49091387, step = 8701 (0.067 sec)\n",
            "INFO:tensorflow:global_step/sec: 1326.69\n",
            "INFO:tensorflow:loss = 0.48671326, step = 8801 (0.076 sec)\n",
            "INFO:tensorflow:global_step/sec: 1388.36\n",
            "INFO:tensorflow:loss = 0.4049588, step = 8901 (0.072 sec)\n",
            "INFO:tensorflow:global_step/sec: 1439.57\n",
            "INFO:tensorflow:loss = 0.47666353, step = 9001 (0.070 sec)\n",
            "INFO:tensorflow:global_step/sec: 1367.42\n"
          ],
          "name": "stdout"
        },
        {
          "output_type": "stream",
          "text": [
            "INFO:tensorflow:loss = 0.34117097, step = 9101 (0.073 sec)\n",
            "INFO:tensorflow:global_step/sec: 1436.25\n",
            "INFO:tensorflow:loss = 0.64079404, step = 9201 (0.069 sec)\n",
            "INFO:tensorflow:global_step/sec: 1461.66\n",
            "INFO:tensorflow:loss = 0.5422018, step = 9301 (0.068 sec)\n",
            "INFO:tensorflow:global_step/sec: 1419.48\n",
            "INFO:tensorflow:loss = 0.464427, step = 9401 (0.070 sec)\n",
            "INFO:tensorflow:global_step/sec: 1430.57\n",
            "INFO:tensorflow:loss = 0.7013693, step = 9501 (0.070 sec)\n",
            "INFO:tensorflow:global_step/sec: 1457.03\n",
            "INFO:tensorflow:loss = 0.39235023, step = 9601 (0.069 sec)\n",
            "INFO:tensorflow:global_step/sec: 1452.95\n",
            "INFO:tensorflow:loss = 0.6591876, step = 9701 (0.071 sec)\n",
            "INFO:tensorflow:global_step/sec: 1343.26\n",
            "INFO:tensorflow:loss = 1.0430827, step = 9801 (0.072 sec)\n",
            "INFO:tensorflow:global_step/sec: 1448.95\n",
            "INFO:tensorflow:loss = 0.6376288, step = 9901 (0.069 sec)\n",
            "INFO:tensorflow:global_step/sec: 1424.27\n",
            "INFO:tensorflow:loss = 0.3506963, step = 10001 (0.070 sec)\n",
            "INFO:tensorflow:global_step/sec: 1436.6\n",
            "INFO:tensorflow:loss = 0.3775782, step = 10101 (0.070 sec)\n",
            "INFO:tensorflow:global_step/sec: 1415.87\n",
            "INFO:tensorflow:loss = 0.41059446, step = 10201 (0.074 sec)\n",
            "INFO:tensorflow:global_step/sec: 1406.22\n",
            "INFO:tensorflow:loss = 0.23856914, step = 10301 (0.069 sec)\n",
            "INFO:tensorflow:global_step/sec: 1427.13\n",
            "INFO:tensorflow:loss = 0.60765946, step = 10401 (0.069 sec)\n",
            "INFO:tensorflow:global_step/sec: 1424.78\n",
            "INFO:tensorflow:loss = 0.27605832, step = 10501 (0.070 sec)\n",
            "INFO:tensorflow:global_step/sec: 1418.15\n",
            "INFO:tensorflow:loss = 0.61617625, step = 10601 (0.073 sec)\n",
            "INFO:tensorflow:global_step/sec: 1343.11\n",
            "INFO:tensorflow:loss = 0.67150867, step = 10701 (0.074 sec)\n",
            "INFO:tensorflow:global_step/sec: 1400.51\n",
            "INFO:tensorflow:loss = 0.72085035, step = 10801 (0.068 sec)\n",
            "INFO:tensorflow:global_step/sec: 1409.73\n",
            "INFO:tensorflow:loss = 0.5782188, step = 10901 (0.071 sec)\n",
            "INFO:tensorflow:global_step/sec: 1425.36\n",
            "INFO:tensorflow:loss = 0.46726546, step = 11001 (0.070 sec)\n",
            "INFO:tensorflow:global_step/sec: 1338.4\n",
            "INFO:tensorflow:loss = 0.74849945, step = 11101 (0.075 sec)\n",
            "INFO:tensorflow:global_step/sec: 1385.88\n",
            "INFO:tensorflow:loss = 0.4455696, step = 11201 (0.072 sec)\n",
            "INFO:tensorflow:global_step/sec: 1477.71\n",
            "INFO:tensorflow:loss = 0.9740317, step = 11301 (0.068 sec)\n",
            "INFO:tensorflow:global_step/sec: 1429.35\n",
            "INFO:tensorflow:loss = 0.96292853, step = 11401 (0.069 sec)\n",
            "INFO:tensorflow:global_step/sec: 1352.43\n",
            "INFO:tensorflow:loss = 0.6553114, step = 11501 (0.075 sec)\n",
            "INFO:tensorflow:global_step/sec: 1437.3\n",
            "INFO:tensorflow:loss = 0.65989596, step = 11601 (0.072 sec)\n",
            "INFO:tensorflow:global_step/sec: 1416.88\n",
            "INFO:tensorflow:loss = 0.35107633, step = 11701 (0.067 sec)\n",
            "INFO:tensorflow:global_step/sec: 1408.4\n",
            "INFO:tensorflow:loss = 0.5397875, step = 11801 (0.071 sec)\n",
            "INFO:tensorflow:global_step/sec: 1453.12\n",
            "INFO:tensorflow:loss = 0.7199953, step = 11901 (0.069 sec)\n",
            "INFO:tensorflow:global_step/sec: 1491.78\n",
            "INFO:tensorflow:loss = 0.81099707, step = 12001 (0.067 sec)\n",
            "INFO:tensorflow:global_step/sec: 1384.67\n",
            "INFO:tensorflow:loss = 0.26536086, step = 12101 (0.073 sec)\n",
            "INFO:tensorflow:global_step/sec: 1456.46\n"
          ],
          "name": "stdout"
        },
        {
          "output_type": "stream",
          "text": [
            "INFO:tensorflow:loss = 0.40425128, step = 12201 (0.069 sec)\n",
            "INFO:tensorflow:global_step/sec: 1475.38\n",
            "INFO:tensorflow:loss = 0.6558098, step = 12301 (0.067 sec)\n",
            "INFO:tensorflow:global_step/sec: 1456.65\n",
            "INFO:tensorflow:loss = 1.3388847, step = 12401 (0.069 sec)\n",
            "INFO:tensorflow:global_step/sec: 1458.95\n",
            "INFO:tensorflow:loss = 0.39745018, step = 12501 (0.068 sec)\n",
            "INFO:tensorflow:global_step/sec: 1089.44\n",
            "INFO:tensorflow:loss = 0.5255535, step = 12601 (0.095 sec)\n",
            "INFO:tensorflow:global_step/sec: 1361.28\n",
            "INFO:tensorflow:loss = 0.7466273, step = 12701 (0.071 sec)\n",
            "INFO:tensorflow:global_step/sec: 1390.93\n",
            "INFO:tensorflow:loss = 0.6142076, step = 12801 (0.073 sec)\n",
            "INFO:tensorflow:global_step/sec: 1439.44\n",
            "INFO:tensorflow:loss = 0.37329793, step = 12901 (0.071 sec)\n",
            "INFO:tensorflow:global_step/sec: 1379.4\n",
            "INFO:tensorflow:loss = 0.5472013, step = 13001 (0.071 sec)\n",
            "INFO:tensorflow:global_step/sec: 1375.15\n",
            "INFO:tensorflow:loss = 0.7164017, step = 13101 (0.076 sec)\n",
            "INFO:tensorflow:global_step/sec: 1402.05\n",
            "INFO:tensorflow:loss = 0.14319082, step = 13201 (0.067 sec)\n",
            "INFO:tensorflow:global_step/sec: 1364.84\n",
            "INFO:tensorflow:loss = 0.8590143, step = 13301 (0.077 sec)\n",
            "INFO:tensorflow:global_step/sec: 1339.22\n",
            "INFO:tensorflow:loss = 0.5274864, step = 13401 (0.071 sec)\n",
            "INFO:tensorflow:global_step/sec: 1415.88\n",
            "INFO:tensorflow:loss = 0.78690386, step = 13501 (0.072 sec)\n",
            "INFO:tensorflow:global_step/sec: 1448.02\n",
            "INFO:tensorflow:loss = 0.7898904, step = 13601 (0.072 sec)\n",
            "INFO:tensorflow:global_step/sec: 1391.43\n",
            "INFO:tensorflow:loss = 0.53343374, step = 13701 (0.068 sec)\n",
            "INFO:tensorflow:global_step/sec: 1406.15\n",
            "INFO:tensorflow:loss = 0.5122098, step = 13801 (0.071 sec)\n",
            "INFO:tensorflow:global_step/sec: 1472\n",
            "INFO:tensorflow:loss = 0.66977507, step = 13901 (0.070 sec)\n",
            "INFO:tensorflow:global_step/sec: 1421.22\n",
            "INFO:tensorflow:loss = 0.6963382, step = 14001 (0.069 sec)\n",
            "INFO:tensorflow:global_step/sec: 1394.84\n",
            "INFO:tensorflow:loss = 1.1421937, step = 14101 (0.071 sec)\n",
            "INFO:tensorflow:global_step/sec: 1353.61\n",
            "INFO:tensorflow:loss = 1.0167682, step = 14201 (0.074 sec)\n",
            "INFO:tensorflow:global_step/sec: 1418.18\n",
            "INFO:tensorflow:loss = 0.4197068, step = 14301 (0.071 sec)\n",
            "INFO:tensorflow:global_step/sec: 1397.24\n",
            "INFO:tensorflow:loss = 0.3403611, step = 14401 (0.073 sec)\n",
            "INFO:tensorflow:global_step/sec: 1432.9\n",
            "INFO:tensorflow:loss = 0.56446147, step = 14501 (0.068 sec)\n",
            "INFO:tensorflow:global_step/sec: 1416.89\n",
            "INFO:tensorflow:loss = 0.78691745, step = 14601 (0.071 sec)\n",
            "INFO:tensorflow:global_step/sec: 1428.84\n",
            "INFO:tensorflow:loss = 0.540637, step = 14701 (0.070 sec)\n",
            "INFO:tensorflow:global_step/sec: 1276.79\n",
            "INFO:tensorflow:loss = 0.4071604, step = 14801 (0.078 sec)\n",
            "INFO:tensorflow:global_step/sec: 1423.45\n",
            "INFO:tensorflow:loss = 0.31141597, step = 14901 (0.070 sec)\n",
            "INFO:tensorflow:global_step/sec: 1391.83\n",
            "INFO:tensorflow:loss = 0.23564264, step = 15001 (0.072 sec)\n",
            "INFO:tensorflow:global_step/sec: 1328.67\n",
            "INFO:tensorflow:loss = 0.503263, step = 15101 (0.076 sec)\n",
            "INFO:tensorflow:global_step/sec: 1458.08\n",
            "INFO:tensorflow:loss = 0.59053403, step = 15201 (0.068 sec)\n",
            "INFO:tensorflow:global_step/sec: 1436.75\n"
          ],
          "name": "stdout"
        },
        {
          "output_type": "stream",
          "text": [
            "INFO:tensorflow:loss = 0.4427195, step = 15301 (0.069 sec)\n",
            "INFO:tensorflow:global_step/sec: 1401.72\n",
            "INFO:tensorflow:loss = 0.6454693, step = 15401 (0.071 sec)\n",
            "INFO:tensorflow:global_step/sec: 1445.54\n",
            "INFO:tensorflow:loss = 0.64625275, step = 15501 (0.072 sec)\n",
            "INFO:tensorflow:global_step/sec: 1396.27\n",
            "INFO:tensorflow:loss = 0.5473891, step = 15601 (0.070 sec)\n",
            "INFO:tensorflow:global_step/sec: 1414.18\n",
            "INFO:tensorflow:loss = 0.47959816, step = 15701 (0.070 sec)\n",
            "INFO:tensorflow:global_step/sec: 1462.42\n",
            "INFO:tensorflow:loss = 0.45991665, step = 15801 (0.069 sec)\n",
            "INFO:tensorflow:global_step/sec: 1464.28\n",
            "INFO:tensorflow:loss = 0.53690225, step = 15901 (0.068 sec)\n",
            "INFO:tensorflow:global_step/sec: 1384.35\n",
            "INFO:tensorflow:loss = 0.3779774, step = 16001 (0.075 sec)\n",
            "INFO:tensorflow:global_step/sec: 1396.02\n",
            "INFO:tensorflow:loss = 0.47103316, step = 16101 (0.069 sec)\n",
            "INFO:tensorflow:global_step/sec: 1471.65\n",
            "INFO:tensorflow:loss = 0.50996315, step = 16201 (0.071 sec)\n",
            "INFO:tensorflow:global_step/sec: 1360.15\n",
            "INFO:tensorflow:loss = 0.2515954, step = 16301 (0.070 sec)\n",
            "INFO:tensorflow:global_step/sec: 1391.95\n",
            "INFO:tensorflow:loss = 0.5561931, step = 16401 (0.072 sec)\n",
            "INFO:tensorflow:global_step/sec: 1425.24\n",
            "INFO:tensorflow:loss = 0.5837621, step = 16501 (0.073 sec)\n",
            "INFO:tensorflow:global_step/sec: 1373.16\n",
            "INFO:tensorflow:loss = 0.40975997, step = 16601 (0.073 sec)\n",
            "INFO:tensorflow:global_step/sec: 1399.97\n",
            "INFO:tensorflow:loss = 0.6475145, step = 16701 (0.068 sec)\n",
            "INFO:tensorflow:global_step/sec: 1438.5\n",
            "INFO:tensorflow:loss = 0.50318396, step = 16801 (0.069 sec)\n",
            "INFO:tensorflow:global_step/sec: 1330.89\n",
            "INFO:tensorflow:loss = 0.3922353, step = 16901 (0.078 sec)\n",
            "INFO:tensorflow:global_step/sec: 1393.24\n",
            "INFO:tensorflow:loss = 0.69505256, step = 17001 (0.069 sec)\n",
            "INFO:tensorflow:global_step/sec: 1407.3\n",
            "INFO:tensorflow:loss = 0.41911852, step = 17101 (0.073 sec)\n",
            "INFO:tensorflow:global_step/sec: 1364.72\n",
            "INFO:tensorflow:loss = 0.35695398, step = 17201 (0.074 sec)\n",
            "INFO:tensorflow:global_step/sec: 1391.51\n",
            "INFO:tensorflow:loss = 0.24571705, step = 17301 (0.069 sec)\n",
            "INFO:tensorflow:global_step/sec: 1409.04\n",
            "INFO:tensorflow:loss = 0.6072908, step = 17401 (0.071 sec)\n",
            "INFO:tensorflow:global_step/sec: 1378.95\n",
            "INFO:tensorflow:loss = 0.91283625, step = 17501 (0.075 sec)\n",
            "INFO:tensorflow:global_step/sec: 1417.61\n",
            "INFO:tensorflow:loss = 0.34474128, step = 17601 (0.069 sec)\n",
            "INFO:tensorflow:global_step/sec: 1404.47\n",
            "INFO:tensorflow:loss = 1.285773, step = 17701 (0.074 sec)\n",
            "INFO:tensorflow:global_step/sec: 1332.43\n",
            "INFO:tensorflow:loss = 0.58686286, step = 17801 (0.073 sec)\n",
            "INFO:tensorflow:global_step/sec: 1397.31\n",
            "INFO:tensorflow:loss = 0.1896206, step = 17901 (0.072 sec)\n",
            "INFO:tensorflow:global_step/sec: 1418.72\n",
            "INFO:tensorflow:loss = 0.90997654, step = 18001 (0.071 sec)\n",
            "INFO:tensorflow:global_step/sec: 1424.93\n",
            "INFO:tensorflow:loss = 0.49299753, step = 18101 (0.073 sec)\n",
            "INFO:tensorflow:global_step/sec: 1324.6\n",
            "INFO:tensorflow:loss = 0.5309623, step = 18201 (0.072 sec)\n",
            "INFO:tensorflow:global_step/sec: 1466.59\n",
            "INFO:tensorflow:loss = 0.43051457, step = 18301 (0.068 sec)\n",
            "INFO:tensorflow:global_step/sec: 1420.26\n"
          ],
          "name": "stdout"
        },
        {
          "output_type": "stream",
          "text": [
            "INFO:tensorflow:loss = 0.4869527, step = 18401 (0.074 sec)\n",
            "INFO:tensorflow:global_step/sec: 1372.85\n",
            "INFO:tensorflow:loss = 0.57471544, step = 18501 (0.070 sec)\n",
            "INFO:tensorflow:global_step/sec: 1405.32\n",
            "INFO:tensorflow:loss = 0.4826975, step = 18601 (0.072 sec)\n",
            "INFO:tensorflow:global_step/sec: 1444.07\n",
            "INFO:tensorflow:loss = 0.4399361, step = 18701 (0.069 sec)\n",
            "INFO:tensorflow:global_step/sec: 1379.11\n",
            "INFO:tensorflow:loss = 0.48429114, step = 18801 (0.072 sec)\n",
            "INFO:tensorflow:global_step/sec: 1436.3\n",
            "INFO:tensorflow:loss = 0.6268315, step = 18901 (0.070 sec)\n",
            "INFO:tensorflow:global_step/sec: 1410.52\n",
            "INFO:tensorflow:loss = 0.31114438, step = 19001 (0.071 sec)\n",
            "INFO:tensorflow:global_step/sec: 1397.58\n",
            "INFO:tensorflow:loss = 0.79174525, step = 19101 (0.072 sec)\n",
            "INFO:tensorflow:global_step/sec: 1466.07\n",
            "INFO:tensorflow:loss = 1.5833603, step = 19201 (0.068 sec)\n",
            "INFO:tensorflow:global_step/sec: 1466.84\n",
            "INFO:tensorflow:loss = 0.5683524, step = 19301 (0.068 sec)\n",
            "INFO:tensorflow:global_step/sec: 1408.1\n",
            "INFO:tensorflow:loss = 0.46095484, step = 19401 (0.074 sec)\n",
            "INFO:tensorflow:global_step/sec: 1376.77\n",
            "INFO:tensorflow:loss = 0.58529705, step = 19501 (0.071 sec)\n",
            "INFO:tensorflow:global_step/sec: 1462.16\n",
            "INFO:tensorflow:loss = 0.45169845, step = 19601 (0.067 sec)\n",
            "INFO:tensorflow:global_step/sec: 1380.06\n",
            "INFO:tensorflow:loss = 0.43297654, step = 19701 (0.076 sec)\n",
            "INFO:tensorflow:global_step/sec: 1354.96\n",
            "INFO:tensorflow:loss = 0.5346982, step = 19801 (0.073 sec)\n",
            "INFO:tensorflow:global_step/sec: 1406.54\n",
            "INFO:tensorflow:loss = 0.43588644, step = 19901 (0.068 sec)\n",
            "INFO:tensorflow:global_step/sec: 1383.94\n",
            "INFO:tensorflow:loss = 0.29190028, step = 20001 (0.072 sec)\n",
            "INFO:tensorflow:global_step/sec: 1364.76\n",
            "INFO:tensorflow:loss = 0.5006959, step = 20101 (0.073 sec)\n",
            "INFO:tensorflow:global_step/sec: 1425.33\n",
            "INFO:tensorflow:loss = 0.83834237, step = 20201 (0.070 sec)\n",
            "INFO:tensorflow:global_step/sec: 1338.04\n",
            "INFO:tensorflow:loss = 0.911613, step = 20301 (0.075 sec)\n",
            "INFO:tensorflow:global_step/sec: 1448.07\n",
            "INFO:tensorflow:loss = 0.21315849, step = 20401 (0.068 sec)\n",
            "INFO:tensorflow:global_step/sec: 1426.8\n",
            "INFO:tensorflow:loss = 0.5360868, step = 20501 (0.070 sec)\n",
            "INFO:tensorflow:global_step/sec: 1384.03\n",
            "INFO:tensorflow:loss = 0.45579875, step = 20601 (0.076 sec)\n",
            "INFO:tensorflow:global_step/sec: 1393.86\n",
            "INFO:tensorflow:loss = 0.5501586, step = 20701 (0.071 sec)\n",
            "INFO:tensorflow:global_step/sec: 1456.3\n",
            "INFO:tensorflow:loss = 0.29742375, step = 20801 (0.066 sec)\n",
            "INFO:tensorflow:global_step/sec: 1428.8\n",
            "INFO:tensorflow:loss = 0.5420171, step = 20901 (0.070 sec)\n",
            "INFO:tensorflow:global_step/sec: 1420.51\n",
            "INFO:tensorflow:loss = 0.5170425, step = 21001 (0.071 sec)\n",
            "INFO:tensorflow:global_step/sec: 1457.11\n",
            "INFO:tensorflow:loss = 0.32072324, step = 21101 (0.068 sec)\n",
            "INFO:tensorflow:global_step/sec: 1386.4\n",
            "INFO:tensorflow:loss = 0.3192453, step = 21201 (0.076 sec)\n",
            "INFO:tensorflow:global_step/sec: 1380.33\n",
            "INFO:tensorflow:loss = 0.53800786, step = 21301 (0.068 sec)\n",
            "INFO:tensorflow:global_step/sec: 1452.91\n",
            "INFO:tensorflow:loss = 0.5144315, step = 21401 (0.069 sec)\n",
            "INFO:tensorflow:global_step/sec: 1447.14\n"
          ],
          "name": "stdout"
        },
        {
          "output_type": "stream",
          "text": [
            "INFO:tensorflow:loss = 1.0087732, step = 21501 (0.074 sec)\n",
            "INFO:tensorflow:global_step/sec: 1371.72\n",
            "INFO:tensorflow:loss = 0.30618027, step = 21601 (0.068 sec)\n",
            "INFO:tensorflow:global_step/sec: 1430.11\n",
            "INFO:tensorflow:loss = 0.29055598, step = 21701 (0.070 sec)\n",
            "INFO:tensorflow:global_step/sec: 1451.06\n",
            "INFO:tensorflow:loss = 0.6898117, step = 21801 (0.069 sec)\n",
            "INFO:tensorflow:global_step/sec: 1370.73\n",
            "INFO:tensorflow:loss = 0.6802828, step = 21901 (0.073 sec)\n",
            "INFO:tensorflow:global_step/sec: 1422.5\n",
            "INFO:tensorflow:loss = 0.56775594, step = 22001 (0.070 sec)\n",
            "INFO:tensorflow:global_step/sec: 1421.5\n",
            "INFO:tensorflow:loss = 0.2379531, step = 22101 (0.070 sec)\n",
            "INFO:tensorflow:global_step/sec: 1381.02\n",
            "INFO:tensorflow:loss = 0.68643594, step = 22201 (0.073 sec)\n",
            "INFO:tensorflow:global_step/sec: 1418.27\n",
            "INFO:tensorflow:loss = 0.48556077, step = 22301 (0.070 sec)\n",
            "INFO:tensorflow:global_step/sec: 1437.99\n",
            "INFO:tensorflow:loss = 0.368789, step = 22401 (0.070 sec)\n",
            "INFO:tensorflow:global_step/sec: 1456.41\n",
            "INFO:tensorflow:loss = 0.35880026, step = 22501 (0.069 sec)\n",
            "INFO:tensorflow:global_step/sec: 1417.39\n",
            "INFO:tensorflow:loss = 0.469146, step = 22601 (0.071 sec)\n",
            "INFO:tensorflow:global_step/sec: 1418.38\n",
            "INFO:tensorflow:loss = 0.39891165, step = 22701 (0.070 sec)\n",
            "INFO:tensorflow:global_step/sec: 1417.42\n",
            "INFO:tensorflow:loss = 0.61505556, step = 22801 (0.074 sec)\n",
            "INFO:tensorflow:global_step/sec: 1385.07\n",
            "INFO:tensorflow:loss = 0.5439371, step = 22901 (0.070 sec)\n",
            "INFO:tensorflow:global_step/sec: 1420.28\n",
            "INFO:tensorflow:loss = 0.5646622, step = 23001 (0.070 sec)\n",
            "INFO:tensorflow:global_step/sec: 1448.83\n",
            "INFO:tensorflow:loss = 0.7558235, step = 23101 (0.069 sec)\n",
            "INFO:tensorflow:global_step/sec: 1385.95\n",
            "INFO:tensorflow:loss = 0.5877862, step = 23201 (0.072 sec)\n",
            "INFO:tensorflow:global_step/sec: 1368.59\n",
            "INFO:tensorflow:loss = 0.59831226, step = 23301 (0.073 sec)\n",
            "INFO:tensorflow:global_step/sec: 1405.7\n",
            "INFO:tensorflow:loss = 0.5164999, step = 23401 (0.071 sec)\n",
            "INFO:tensorflow:global_step/sec: 1376.86\n",
            "INFO:tensorflow:loss = 0.57245904, step = 23501 (0.076 sec)\n",
            "INFO:tensorflow:global_step/sec: 1412.06\n",
            "INFO:tensorflow:loss = 0.873754, step = 23601 (0.067 sec)\n",
            "INFO:tensorflow:global_step/sec: 1433.13\n",
            "INFO:tensorflow:loss = 0.5350008, step = 23701 (0.071 sec)\n",
            "INFO:tensorflow:global_step/sec: 1454.34\n",
            "INFO:tensorflow:loss = 0.2774945, step = 23801 (0.068 sec)\n",
            "INFO:tensorflow:global_step/sec: 1399.53\n",
            "INFO:tensorflow:loss = 0.51326984, step = 23901 (0.071 sec)\n",
            "INFO:tensorflow:global_step/sec: 1418.71\n",
            "INFO:tensorflow:loss = 0.30336484, step = 24001 (0.070 sec)\n",
            "INFO:tensorflow:global_step/sec: 1445.89\n",
            "INFO:tensorflow:loss = 0.53097606, step = 24101 (0.069 sec)\n",
            "INFO:tensorflow:global_step/sec: 1384.05\n",
            "INFO:tensorflow:loss = 0.7625891, step = 24201 (0.073 sec)\n",
            "INFO:tensorflow:global_step/sec: 1461.07\n",
            "INFO:tensorflow:loss = 0.8841981, step = 24301 (0.071 sec)\n",
            "INFO:tensorflow:global_step/sec: 1446.14\n",
            "INFO:tensorflow:loss = 0.2783826, step = 24401 (0.066 sec)\n",
            "INFO:tensorflow:global_step/sec: 1359.26\n",
            "INFO:tensorflow:loss = 0.6087617, step = 24501 (0.074 sec)\n",
            "INFO:tensorflow:global_step/sec: 1414.12\n"
          ],
          "name": "stdout"
        },
        {
          "output_type": "stream",
          "text": [
            "INFO:tensorflow:loss = 0.5507034, step = 24601 (0.071 sec)\n",
            "INFO:tensorflow:global_step/sec: 1438.36\n",
            "INFO:tensorflow:loss = 0.64445436, step = 24701 (0.068 sec)\n",
            "INFO:tensorflow:global_step/sec: 1365.59\n",
            "INFO:tensorflow:loss = 0.42357156, step = 24801 (0.073 sec)\n",
            "INFO:tensorflow:global_step/sec: 1432.39\n",
            "INFO:tensorflow:loss = 0.65945995, step = 24901 (0.073 sec)\n",
            "INFO:tensorflow:global_step/sec: 1403.1\n",
            "INFO:tensorflow:loss = 0.4804027, step = 25001 (0.071 sec)\n",
            "INFO:tensorflow:global_step/sec: 1367.53\n",
            "INFO:tensorflow:loss = 0.5156088, step = 25101 (0.073 sec)\n",
            "INFO:tensorflow:global_step/sec: 1401.68\n",
            "INFO:tensorflow:loss = 0.46415776, step = 25201 (0.070 sec)\n",
            "INFO:tensorflow:global_step/sec: 1434.9\n",
            "INFO:tensorflow:loss = 0.73511076, step = 25301 (0.069 sec)\n",
            "INFO:tensorflow:global_step/sec: 1311.75\n",
            "INFO:tensorflow:loss = 0.5212866, step = 25401 (0.077 sec)\n",
            "INFO:tensorflow:global_step/sec: 1381.99\n",
            "INFO:tensorflow:loss = 0.71503115, step = 25501 (0.072 sec)\n",
            "INFO:tensorflow:global_step/sec: 1439.08\n",
            "INFO:tensorflow:loss = 0.32786697, step = 25601 (0.070 sec)\n",
            "INFO:tensorflow:global_step/sec: 1435.13\n",
            "INFO:tensorflow:loss = 0.4060891, step = 25701 (0.070 sec)\n",
            "INFO:tensorflow:global_step/sec: 1419.5\n",
            "INFO:tensorflow:loss = 0.7438387, step = 25801 (0.071 sec)\n",
            "INFO:tensorflow:global_step/sec: 1420.8\n",
            "INFO:tensorflow:loss = 0.5340774, step = 25901 (0.073 sec)\n",
            "INFO:tensorflow:global_step/sec: 1374.06\n",
            "INFO:tensorflow:loss = 0.35709476, step = 26001 (0.070 sec)\n",
            "INFO:tensorflow:global_step/sec: 1396.27\n",
            "INFO:tensorflow:loss = 0.598992, step = 26101 (0.072 sec)\n",
            "INFO:tensorflow:global_step/sec: 1422.3\n",
            "INFO:tensorflow:loss = 0.42944485, step = 26201 (0.070 sec)\n",
            "INFO:tensorflow:global_step/sec: 1397.84\n",
            "INFO:tensorflow:loss = 0.54262066, step = 26301 (0.071 sec)\n",
            "INFO:tensorflow:global_step/sec: 1340.8\n",
            "INFO:tensorflow:loss = 0.29605868, step = 26401 (0.077 sec)\n",
            "INFO:tensorflow:global_step/sec: 1405.96\n",
            "INFO:tensorflow:loss = 0.48554933, step = 26501 (0.069 sec)\n",
            "INFO:tensorflow:global_step/sec: 1428.72\n",
            "INFO:tensorflow:loss = 0.8584178, step = 26601 (0.070 sec)\n",
            "INFO:tensorflow:global_step/sec: 1416.88\n",
            "INFO:tensorflow:loss = 0.53019214, step = 26701 (0.070 sec)\n",
            "INFO:tensorflow:global_step/sec: 1376.41\n",
            "INFO:tensorflow:loss = 0.73701704, step = 26801 (0.075 sec)\n",
            "INFO:tensorflow:global_step/sec: 1389.58\n",
            "INFO:tensorflow:loss = 0.53744215, step = 26901 (0.069 sec)\n",
            "INFO:tensorflow:global_step/sec: 1470.53\n",
            "INFO:tensorflow:loss = 0.54957676, step = 27001 (0.068 sec)\n",
            "INFO:tensorflow:global_step/sec: 1364.99\n",
            "INFO:tensorflow:loss = 0.5886764, step = 27101 (0.073 sec)\n",
            "INFO:tensorflow:global_step/sec: 1391.93\n",
            "INFO:tensorflow:loss = 0.42742798, step = 27201 (0.072 sec)\n",
            "INFO:tensorflow:global_step/sec: 1412.3\n",
            "INFO:tensorflow:loss = 0.58142626, step = 27301 (0.072 sec)\n",
            "INFO:tensorflow:global_step/sec: 1416.34\n",
            "INFO:tensorflow:loss = 0.5626097, step = 27401 (0.069 sec)\n",
            "INFO:tensorflow:global_step/sec: 1415.32\n",
            "INFO:tensorflow:loss = 0.40213826, step = 27501 (0.071 sec)\n",
            "INFO:tensorflow:global_step/sec: 1402.31\n",
            "INFO:tensorflow:loss = 0.6360305, step = 27601 (0.072 sec)\n",
            "INFO:tensorflow:global_step/sec: 1404.11\n"
          ],
          "name": "stdout"
        },
        {
          "output_type": "stream",
          "text": [
            "INFO:tensorflow:loss = 0.53500515, step = 27701 (0.075 sec)\n",
            "INFO:tensorflow:global_step/sec: 1419.6\n",
            "INFO:tensorflow:loss = 0.58351874, step = 27801 (0.066 sec)\n",
            "INFO:tensorflow:global_step/sec: 1383.32\n",
            "INFO:tensorflow:loss = 0.44041926, step = 27901 (0.072 sec)\n",
            "INFO:tensorflow:global_step/sec: 1316.78\n",
            "INFO:tensorflow:loss = 0.5267982, step = 28001 (0.077 sec)\n",
            "INFO:tensorflow:global_step/sec: 1358.8\n",
            "INFO:tensorflow:loss = 0.636976, step = 28101 (0.073 sec)\n",
            "INFO:tensorflow:global_step/sec: 1365.13\n",
            "INFO:tensorflow:loss = 0.32016107, step = 28201 (0.073 sec)\n",
            "INFO:tensorflow:global_step/sec: 1441.1\n",
            "INFO:tensorflow:loss = 0.45424318, step = 28301 (0.070 sec)\n",
            "INFO:tensorflow:global_step/sec: 1399.86\n",
            "INFO:tensorflow:loss = 0.3891828, step = 28401 (0.074 sec)\n",
            "INFO:tensorflow:global_step/sec: 1403.4\n",
            "INFO:tensorflow:loss = 0.6217691, step = 28501 (0.070 sec)\n",
            "INFO:tensorflow:global_step/sec: 1424.67\n",
            "INFO:tensorflow:loss = 0.6512524, step = 28601 (0.069 sec)\n",
            "INFO:tensorflow:global_step/sec: 1403.2\n",
            "INFO:tensorflow:loss = 0.55530566, step = 28701 (0.071 sec)\n",
            "INFO:tensorflow:global_step/sec: 1441.62\n",
            "INFO:tensorflow:loss = 0.50150704, step = 28801 (0.072 sec)\n",
            "INFO:tensorflow:global_step/sec: 1412.07\n",
            "INFO:tensorflow:loss = 0.60254765, step = 28901 (0.068 sec)\n",
            "INFO:tensorflow:Saving checkpoints for 29000 into /tmp/tmppe9s28eg/model.ckpt.\n",
            "INFO:tensorflow:Loss for final step: 0.501504.\n"
          ],
          "name": "stdout"
        },
        {
          "output_type": "execute_result",
          "data": {
            "text/plain": [
              "<tensorflow.python.estimator.canned.linear.LinearClassifier at 0x7f2a44584630>"
            ]
          },
          "metadata": {
            "tags": []
          },
          "execution_count": 108
        }
      ]
    },
    {
      "metadata": {
        "id": "Mycdqye_b3Vi",
        "colab_type": "code",
        "colab": {
          "base_uri": "https://localhost:8080/",
          "height": 187
        },
        "outputId": "39098cfb-b684-4a22-ee11-bbc16c0830d0"
      },
      "cell_type": "code",
      "source": [
        "test = model.evaluate(steps=STEPS, input_fn=test_input_fn)"
      ],
      "execution_count": 109,
      "outputs": [
        {
          "output_type": "stream",
          "text": [
            "INFO:tensorflow:Calling model_fn.\n",
            "INFO:tensorflow:Done calling model_fn.\n",
            "INFO:tensorflow:Starting evaluation at 2018-07-26-10:03:20\n",
            "INFO:tensorflow:Graph was finalized.\n",
            "INFO:tensorflow:Restoring parameters from /tmp/tmppe9s28eg/model.ckpt-29000\n",
            "INFO:tensorflow:Running local_init_op.\n",
            "INFO:tensorflow:Done running local_init_op.\n",
            "INFO:tensorflow:Finished evaluation at 2018-07-26-10:03:20\n",
            "INFO:tensorflow:Saving dict for global step 29000: accuracy = 0.0, average_loss = 24.396887, global_step = 29000, loss = 24.396887\n",
            "INFO:tensorflow:Saving 'checkpoint_path' summary for global step 29000: /tmp/tmppe9s28eg/model.ckpt-29000\n"
          ],
          "name": "stdout"
        }
      ]
    }
  ]
}