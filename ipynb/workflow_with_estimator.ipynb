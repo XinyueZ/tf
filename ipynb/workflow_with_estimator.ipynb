{
  "nbformat": 4,
  "nbformat_minor": 0,
  "metadata": {
    "colab": {
      "name": "workflow-with-estimator.ipynb",
      "version": "0.3.2",
      "provenance": [],
      "collapsed_sections": [],
      "include_colab_link": true
    },
    "kernelspec": {
      "name": "python3",
      "display_name": "Python 3"
    }
  },
  "cells": [
    {
      "cell_type": "markdown",
      "metadata": {
        "id": "view-in-github",
        "colab_type": "text"
      },
      "source": [
        "[View in Colaboratory](https://colab.research.google.com/github/XinyueZ/tf/blob/master/ipynb/workflow_with_estimator.ipynb)"
      ]
    },
    {
      "metadata": {
        "id": "usywsvFLF2bo",
        "colab_type": "code",
        "colab": {}
      },
      "cell_type": "code",
      "source": [
        "import tensorflow as tf\n",
        "from tensorflow.python.data import Dataset\n",
        "import numpy as np\n",
        "import pandas as pd\n",
        "from sklearn.preprocessing import LabelBinarizer\n",
        "from sklearn.preprocessing import LabelEncoder"
      ],
      "execution_count": 0,
      "outputs": []
    },
    {
      "metadata": {
        "id": "6gRBSBTfiO1x",
        "colab_type": "code",
        "colab": {
          "base_uri": "https://localhost:8080/",
          "height": 204
        },
        "outputId": "f2d4173f-c379-42b6-b3fe-b64156649aeb"
      },
      "cell_type": "code",
      "source": [
        "df = pd.read_csv(\"https://dl.dropbox.com/s/84wg1c7055cl5ee/data.csv\", sep=\",\")\n",
        "df = df[pd.notnull(df[\"Name\"])]\n",
        "df = df[pd.notnull(df[\"Width\"])]\n",
        "df = df[pd.notnull(df[\"Height\"])]\n",
        "df.head()"
      ],
      "execution_count": 67,
      "outputs": [
        {
          "output_type": "execute_result",
          "data": {
            "text/html": [
              "<div>\n",
              "<style scoped>\n",
              "    .dataframe tbody tr th:only-of-type {\n",
              "        vertical-align: middle;\n",
              "    }\n",
              "\n",
              "    .dataframe tbody tr th {\n",
              "        vertical-align: top;\n",
              "    }\n",
              "\n",
              "    .dataframe thead th {\n",
              "        text-align: right;\n",
              "    }\n",
              "</style>\n",
              "<table border=\"1\" class=\"dataframe\">\n",
              "  <thead>\n",
              "    <tr style=\"text-align: right;\">\n",
              "      <th></th>\n",
              "      <th>Name</th>\n",
              "      <th>Width</th>\n",
              "      <th>Height</th>\n",
              "      <th>Length</th>\n",
              "      <th>Dense</th>\n",
              "    </tr>\n",
              "  </thead>\n",
              "  <tbody>\n",
              "    <tr>\n",
              "      <th>0</th>\n",
              "      <td>a small guy</td>\n",
              "      <td>10</td>\n",
              "      <td>23</td>\n",
              "      <td>12</td>\n",
              "      <td>6</td>\n",
              "    </tr>\n",
              "    <tr>\n",
              "      <th>1</th>\n",
              "      <td>a beautiful stage</td>\n",
              "      <td>11</td>\n",
              "      <td>24</td>\n",
              "      <td>11</td>\n",
              "      <td>7</td>\n",
              "    </tr>\n",
              "    <tr>\n",
              "      <th>2</th>\n",
              "      <td>the a length</td>\n",
              "      <td>4</td>\n",
              "      <td>56</td>\n",
              "      <td>15</td>\n",
              "      <td>1</td>\n",
              "    </tr>\n",
              "    <tr>\n",
              "      <th>3</th>\n",
              "      <td>zeros to</td>\n",
              "      <td>5</td>\n",
              "      <td>57</td>\n",
              "      <td>8</td>\n",
              "      <td>2</td>\n",
              "    </tr>\n",
              "    <tr>\n",
              "      <th>4</th>\n",
              "      <td>description</td>\n",
              "      <td>6</td>\n",
              "      <td>66</td>\n",
              "      <td>9</td>\n",
              "      <td>8</td>\n",
              "    </tr>\n",
              "  </tbody>\n",
              "</table>\n",
              "</div>"
            ],
            "text/plain": [
              "                Name  Width  Height  Length  Dense\n",
              "0        a small guy     10      23      12      6\n",
              "1  a beautiful stage     11      24      11      7\n",
              "2       the a length      4      56      15      1\n",
              "3           zeros to      5      57       8      2\n",
              "4        description      6      66       9      8"
            ]
          },
          "metadata": {
            "tags": []
          },
          "execution_count": 67
        }
      ]
    },
    {
      "metadata": {
        "id": "PWk86xsBDkch",
        "colab_type": "code",
        "colab": {}
      },
      "cell_type": "code",
      "source": [
        "def make_dataset_and_labels_and_class_num(df, label_name):\n",
        "  \"\"\"This method will prepare dataset, labels for train, test and classes count.\n",
        "     Args:\n",
        "      df: DataFrame format of datasource.\n",
        "      label_name: The name of column in datasource which will be as target for train.\n",
        "     Return: \n",
        "       Tuple of (ds_train, ds_test, y_train, y_test, class_num)\n",
        "      \n",
        "  \"\"\"\n",
        "  encoder = LabelEncoder()\n",
        "  labels = encoder.fit_transform(df[label_name])\n",
        "  class_num = np.max(labels) + 1\n",
        "   \n",
        "  random_seed = None\n",
        "  np.random.seed(random_seed)\n",
        "  \n",
        "  ds_train = df.sample(frac=0.5, random_state=random_seed)\n",
        "  lines = len(ds_train)\n",
        "  label_train = labels[:lines]\n",
        "  \n",
        "  ds_test = df.drop(ds_train.index)\n",
        "  label_test = labels[lines:]\n",
        "   \n",
        "  return ds_train, ds_test, label_train, label_test, class_num"
      ],
      "execution_count": 0,
      "outputs": []
    },
    {
      "metadata": {
        "id": "NgkHsXdun_dO",
        "colab_type": "code",
        "colab": {}
      },
      "cell_type": "code",
      "source": [
        "ds_train, ds_test, y_train, y_test, class_num = make_dataset_and_labels_and_class_num(df, \"Name\")"
      ],
      "execution_count": 0,
      "outputs": []
    },
    {
      "metadata": {
        "id": "b9A0YuJAxXFk",
        "colab_type": "code",
        "colab": {
          "base_uri": "https://localhost:8080/",
          "height": 34
        },
        "outputId": "2c429ef9-7021-4476-8de9-9855947f688e"
      },
      "cell_type": "code",
      "source": [
        "print(\"class: {}\".format(class_num))"
      ],
      "execution_count": 70,
      "outputs": [
        {
          "output_type": "stream",
          "text": [
            "class: 7\n"
          ],
          "name": "stdout"
        }
      ]
    },
    {
      "metadata": {
        "id": "mgVYA89XoHIV",
        "colab_type": "code",
        "colab": {
          "base_uri": "https://localhost:8080/",
          "height": 173
        },
        "outputId": "a58b67ff-0876-45a3-e6b6-9b92fae109a0"
      },
      "cell_type": "code",
      "source": [
        "ds_train.head()"
      ],
      "execution_count": 71,
      "outputs": [
        {
          "output_type": "execute_result",
          "data": {
            "text/html": [
              "<div>\n",
              "<style scoped>\n",
              "    .dataframe tbody tr th:only-of-type {\n",
              "        vertical-align: middle;\n",
              "    }\n",
              "\n",
              "    .dataframe tbody tr th {\n",
              "        vertical-align: top;\n",
              "    }\n",
              "\n",
              "    .dataframe thead th {\n",
              "        text-align: right;\n",
              "    }\n",
              "</style>\n",
              "<table border=\"1\" class=\"dataframe\">\n",
              "  <thead>\n",
              "    <tr style=\"text-align: right;\">\n",
              "      <th></th>\n",
              "      <th>Name</th>\n",
              "      <th>Width</th>\n",
              "      <th>Height</th>\n",
              "      <th>Length</th>\n",
              "      <th>Dense</th>\n",
              "    </tr>\n",
              "  </thead>\n",
              "  <tbody>\n",
              "    <tr>\n",
              "      <th>4</th>\n",
              "      <td>description</td>\n",
              "      <td>6</td>\n",
              "      <td>66</td>\n",
              "      <td>9</td>\n",
              "      <td>8</td>\n",
              "    </tr>\n",
              "    <tr>\n",
              "      <th>5</th>\n",
              "      <td>can learn</td>\n",
              "      <td>7</td>\n",
              "      <td>77</td>\n",
              "      <td>14</td>\n",
              "      <td>10</td>\n",
              "    </tr>\n",
              "    <tr>\n",
              "      <th>2</th>\n",
              "      <td>the a length</td>\n",
              "      <td>4</td>\n",
              "      <td>56</td>\n",
              "      <td>15</td>\n",
              "      <td>1</td>\n",
              "    </tr>\n",
              "    <tr>\n",
              "      <th>1</th>\n",
              "      <td>a beautiful stage</td>\n",
              "      <td>11</td>\n",
              "      <td>24</td>\n",
              "      <td>11</td>\n",
              "      <td>7</td>\n",
              "    </tr>\n",
              "  </tbody>\n",
              "</table>\n",
              "</div>"
            ],
            "text/plain": [
              "                Name  Width  Height  Length  Dense\n",
              "4        description      6      66       9      8\n",
              "5          can learn      7      77      14     10\n",
              "2       the a length      4      56      15      1\n",
              "1  a beautiful stage     11      24      11      7"
            ]
          },
          "metadata": {
            "tags": []
          },
          "execution_count": 71
        }
      ]
    },
    {
      "metadata": {
        "id": "oMlOOyPQoI1E",
        "colab_type": "code",
        "colab": {
          "base_uri": "https://localhost:8080/",
          "height": 142
        },
        "outputId": "286a2cc4-80ab-40cb-df4d-63a5076d78d1"
      },
      "cell_type": "code",
      "source": [
        "ds_test.head()"
      ],
      "execution_count": 72,
      "outputs": [
        {
          "output_type": "execute_result",
          "data": {
            "text/html": [
              "<div>\n",
              "<style scoped>\n",
              "    .dataframe tbody tr th:only-of-type {\n",
              "        vertical-align: middle;\n",
              "    }\n",
              "\n",
              "    .dataframe tbody tr th {\n",
              "        vertical-align: top;\n",
              "    }\n",
              "\n",
              "    .dataframe thead th {\n",
              "        text-align: right;\n",
              "    }\n",
              "</style>\n",
              "<table border=\"1\" class=\"dataframe\">\n",
              "  <thead>\n",
              "    <tr style=\"text-align: right;\">\n",
              "      <th></th>\n",
              "      <th>Name</th>\n",
              "      <th>Width</th>\n",
              "      <th>Height</th>\n",
              "      <th>Length</th>\n",
              "      <th>Dense</th>\n",
              "    </tr>\n",
              "  </thead>\n",
              "  <tbody>\n",
              "    <tr>\n",
              "      <th>0</th>\n",
              "      <td>a small guy</td>\n",
              "      <td>10</td>\n",
              "      <td>23</td>\n",
              "      <td>12</td>\n",
              "      <td>6</td>\n",
              "    </tr>\n",
              "    <tr>\n",
              "      <th>3</th>\n",
              "      <td>zeros to</td>\n",
              "      <td>5</td>\n",
              "      <td>57</td>\n",
              "      <td>8</td>\n",
              "      <td>2</td>\n",
              "    </tr>\n",
              "    <tr>\n",
              "      <th>6</th>\n",
              "      <td>performs better</td>\n",
              "      <td>8</td>\n",
              "      <td>88</td>\n",
              "      <td>7</td>\n",
              "      <td>8</td>\n",
              "    </tr>\n",
              "  </tbody>\n",
              "</table>\n",
              "</div>"
            ],
            "text/plain": [
              "              Name  Width  Height  Length  Dense\n",
              "0      a small guy     10      23      12      6\n",
              "3         zeros to      5      57       8      2\n",
              "6  performs better      8      88       7      8"
            ]
          },
          "metadata": {
            "tags": []
          },
          "execution_count": 72
        }
      ]
    },
    {
      "metadata": {
        "id": "JZavMq0Po3p1",
        "colab_type": "code",
        "colab": {}
      },
      "cell_type": "code",
      "source": [
        "x_train = ds_train[[\"Width\", \"Height\"]]\n",
        "x_test = ds_test[[\"Width\", \"Height\"]]"
      ],
      "execution_count": 0,
      "outputs": []
    },
    {
      "metadata": {
        "id": "Yi1g3htco3st",
        "colab_type": "code",
        "colab": {
          "base_uri": "https://localhost:8080/",
          "height": 173
        },
        "outputId": "6ac00532-6dc9-4492-c3a4-650a38cdb4ad"
      },
      "cell_type": "code",
      "source": [
        "x_train.head()"
      ],
      "execution_count": 74,
      "outputs": [
        {
          "output_type": "execute_result",
          "data": {
            "text/html": [
              "<div>\n",
              "<style scoped>\n",
              "    .dataframe tbody tr th:only-of-type {\n",
              "        vertical-align: middle;\n",
              "    }\n",
              "\n",
              "    .dataframe tbody tr th {\n",
              "        vertical-align: top;\n",
              "    }\n",
              "\n",
              "    .dataframe thead th {\n",
              "        text-align: right;\n",
              "    }\n",
              "</style>\n",
              "<table border=\"1\" class=\"dataframe\">\n",
              "  <thead>\n",
              "    <tr style=\"text-align: right;\">\n",
              "      <th></th>\n",
              "      <th>Width</th>\n",
              "      <th>Height</th>\n",
              "    </tr>\n",
              "  </thead>\n",
              "  <tbody>\n",
              "    <tr>\n",
              "      <th>4</th>\n",
              "      <td>6</td>\n",
              "      <td>66</td>\n",
              "    </tr>\n",
              "    <tr>\n",
              "      <th>5</th>\n",
              "      <td>7</td>\n",
              "      <td>77</td>\n",
              "    </tr>\n",
              "    <tr>\n",
              "      <th>2</th>\n",
              "      <td>4</td>\n",
              "      <td>56</td>\n",
              "    </tr>\n",
              "    <tr>\n",
              "      <th>1</th>\n",
              "      <td>11</td>\n",
              "      <td>24</td>\n",
              "    </tr>\n",
              "  </tbody>\n",
              "</table>\n",
              "</div>"
            ],
            "text/plain": [
              "   Width  Height\n",
              "4      6      66\n",
              "5      7      77\n",
              "2      4      56\n",
              "1     11      24"
            ]
          },
          "metadata": {
            "tags": []
          },
          "execution_count": 74
        }
      ]
    },
    {
      "metadata": {
        "id": "6VRcJQxqpInl",
        "colab_type": "code",
        "colab": {
          "base_uri": "https://localhost:8080/",
          "height": 142
        },
        "outputId": "8956b4fa-bb72-4eba-aa7a-64917392a84d"
      },
      "cell_type": "code",
      "source": [
        "x_test.head()"
      ],
      "execution_count": 75,
      "outputs": [
        {
          "output_type": "execute_result",
          "data": {
            "text/html": [
              "<div>\n",
              "<style scoped>\n",
              "    .dataframe tbody tr th:only-of-type {\n",
              "        vertical-align: middle;\n",
              "    }\n",
              "\n",
              "    .dataframe tbody tr th {\n",
              "        vertical-align: top;\n",
              "    }\n",
              "\n",
              "    .dataframe thead th {\n",
              "        text-align: right;\n",
              "    }\n",
              "</style>\n",
              "<table border=\"1\" class=\"dataframe\">\n",
              "  <thead>\n",
              "    <tr style=\"text-align: right;\">\n",
              "      <th></th>\n",
              "      <th>Width</th>\n",
              "      <th>Height</th>\n",
              "    </tr>\n",
              "  </thead>\n",
              "  <tbody>\n",
              "    <tr>\n",
              "      <th>0</th>\n",
              "      <td>10</td>\n",
              "      <td>23</td>\n",
              "    </tr>\n",
              "    <tr>\n",
              "      <th>3</th>\n",
              "      <td>5</td>\n",
              "      <td>57</td>\n",
              "    </tr>\n",
              "    <tr>\n",
              "      <th>6</th>\n",
              "      <td>8</td>\n",
              "      <td>88</td>\n",
              "    </tr>\n",
              "  </tbody>\n",
              "</table>\n",
              "</div>"
            ],
            "text/plain": [
              "   Width  Height\n",
              "0     10      23\n",
              "3      5      57\n",
              "6      8      88"
            ]
          },
          "metadata": {
            "tags": []
          },
          "execution_count": 75
        }
      ]
    },
    {
      "metadata": {
        "id": "aaY6YIFVD5yD",
        "colab_type": "code",
        "colab": {
          "base_uri": "https://localhost:8080/",
          "height": 34
        },
        "outputId": "556ce41c-7a03-4c94-b371-7700b4be9903"
      },
      "cell_type": "code",
      "source": [
        "y_train"
      ],
      "execution_count": 76,
      "outputs": [
        {
          "output_type": "execute_result",
          "data": {
            "text/plain": [
              "array([1, 0, 5, 6])"
            ]
          },
          "metadata": {
            "tags": []
          },
          "execution_count": 76
        }
      ]
    },
    {
      "metadata": {
        "id": "ewALDkKC_yxf",
        "colab_type": "code",
        "colab": {
          "base_uri": "https://localhost:8080/",
          "height": 34
        },
        "outputId": "f68dd19f-18b8-4c01-943e-fc03135a7a39"
      },
      "cell_type": "code",
      "source": [
        "type(y_train)"
      ],
      "execution_count": 77,
      "outputs": [
        {
          "output_type": "execute_result",
          "data": {
            "text/plain": [
              "numpy.ndarray"
            ]
          },
          "metadata": {
            "tags": []
          },
          "execution_count": 77
        }
      ]
    },
    {
      "metadata": {
        "id": "Fw2jDJj9D8JS",
        "colab_type": "code",
        "colab": {
          "base_uri": "https://localhost:8080/",
          "height": 34
        },
        "outputId": "3d165c83-38ba-42cf-a059-2f3b28321888"
      },
      "cell_type": "code",
      "source": [
        "y_test"
      ],
      "execution_count": 78,
      "outputs": [
        {
          "output_type": "execute_result",
          "data": {
            "text/plain": [
              "array([3, 2, 4])"
            ]
          },
          "metadata": {
            "tags": []
          },
          "execution_count": 78
        }
      ]
    },
    {
      "metadata": {
        "id": "RcsDdsA0_0GH",
        "colab_type": "code",
        "colab": {
          "base_uri": "https://localhost:8080/",
          "height": 34
        },
        "outputId": "eb97e242-50b4-4205-970e-320fd942cbcd"
      },
      "cell_type": "code",
      "source": [
        "type(y_test)"
      ],
      "execution_count": 79,
      "outputs": [
        {
          "output_type": "execute_result",
          "data": {
            "text/plain": [
              "numpy.ndarray"
            ]
          },
          "metadata": {
            "tags": []
          },
          "execution_count": 79
        }
      ]
    },
    {
      "metadata": {
        "id": "udjYU2TaCClX",
        "colab_type": "code",
        "colab": {}
      },
      "cell_type": "code",
      "source": [
        "def input_fn(features, targets, batch_size=1, shuffle=True, num_epochs=None):\n",
        "    \"\"\"Trains a linear regression model of one feature.\n",
        "  \n",
        "    Args:\n",
        "      features: pandas DataFrame of features\n",
        "      targets: pandas DataFrame of targets\n",
        "      batch_size: Size of batches to be passed to the model\n",
        "      shuffle: True or False. Whether to shuffle the data.\n",
        "      num_epochs: Number of epochs for which data should be repeated. None = repeat indefinitely\n",
        "    Returns:\n",
        "      Tuple of (features, labels) for next data batch\n",
        "    \"\"\"\n",
        " \n",
        "    # Construct a dataset, and configure batching/repeating\n",
        "    features = {key:np.array(value) for key,value in dict(features).items()} \n",
        "  \n",
        "    ds = Dataset.from_tensor_slices((features, targets))\n",
        "    ds = ds.batch(batch_size).repeat(num_epochs)\n",
        "    \n",
        "    # Shuffle the data, if specified\n",
        "    if shuffle:\n",
        "      ds = ds.shuffle(buffer_size=10000)\n",
        "    \n",
        "    # Return the next batch of data\n",
        "    features, labels = ds.make_one_shot_iterator().get_next()\n",
        "    return features, labels"
      ],
      "execution_count": 0,
      "outputs": []
    },
    {
      "metadata": {
        "id": "XauzWrcNCh0J",
        "colab_type": "code",
        "colab": {}
      },
      "cell_type": "code",
      "source": [
        "train_input_fn = lambda: input_fn(x_train, y_train)"
      ],
      "execution_count": 0,
      "outputs": []
    },
    {
      "metadata": {
        "id": "_QCb9zcOCf3A",
        "colab_type": "code",
        "colab": {}
      },
      "cell_type": "code",
      "source": [
        "test_input_fn =lambda: input_fn(x_test, y_test, num_epochs=1, shuffle=False)"
      ],
      "execution_count": 0,
      "outputs": []
    },
    {
      "metadata": {
        "id": "_rvAbHuFjCND",
        "colab_type": "code",
        "colab": {}
      },
      "cell_type": "code",
      "source": [
        "STEPS = 29000  # Steps of train loop."
      ],
      "execution_count": 0,
      "outputs": []
    },
    {
      "metadata": {
        "id": "O4Fyeywlz4dm",
        "colab_type": "code",
        "colab": {}
      },
      "cell_type": "code",
      "source": [
        "feature_cols = [\n",
        "  tf.feature_column.numeric_column(\"Width\"),\n",
        "  tf.feature_column.numeric_column(\"Height\")\n",
        "]"
      ],
      "execution_count": 0,
      "outputs": []
    },
    {
      "metadata": {
        "id": "xibCYiz3by1B",
        "colab_type": "code",
        "colab": {
          "base_uri": "https://localhost:8080/",
          "height": 88
        },
        "outputId": "2919fc2d-c93e-4e39-be99-97b14366657e"
      },
      "cell_type": "code",
      "source": [
        "# Set up a linear classifier.\n",
        "model = tf.estimator.LinearClassifier(\n",
        "    feature_columns = feature_cols,\n",
        "    n_classes = class_num\n",
        ")"
      ],
      "execution_count": 85,
      "outputs": [
        {
          "output_type": "stream",
          "text": [
            "INFO:tensorflow:Using default config.\n",
            "WARNING:tensorflow:Using temporary folder as model directory: /tmp/tmp1drs42rs\n",
            "INFO:tensorflow:Using config: {'_model_dir': '/tmp/tmp1drs42rs', '_tf_random_seed': None, '_save_summary_steps': 100, '_save_checkpoints_steps': None, '_save_checkpoints_secs': 600, '_session_config': None, '_keep_checkpoint_max': 5, '_keep_checkpoint_every_n_hours': 10000, '_log_step_count_steps': 100, '_train_distribute': None, '_device_fn': None, '_service': None, '_cluster_spec': <tensorflow.python.training.server_lib.ClusterSpec object at 0x7f2a44663940>, '_task_type': 'worker', '_task_id': 0, '_global_id_in_cluster': 0, '_master': '', '_evaluation_master': '', '_is_chief': True, '_num_ps_replicas': 0, '_num_worker_replicas': 1}\n"
          ],
          "name": "stdout"
        }
      ]
    },
    {
      "metadata": {
        "id": "-KYQzFW4b1cB",
        "colab_type": "code",
        "colab": {
          "base_uri": "https://localhost:8080/",
          "height": 10030
        },
        "outputId": "413b4acc-1331-4ae4-fb7c-36a6be1b5870"
      },
      "cell_type": "code",
      "source": [
        "model.train(input_fn=train_input_fn, steps=STEPS)"
      ],
      "execution_count": 86,
      "outputs": [
        {
          "output_type": "stream",
          "text": [
            "INFO:tensorflow:Calling model_fn.\n",
            "INFO:tensorflow:Done calling model_fn.\n",
            "INFO:tensorflow:Create CheckpointSaverHook.\n",
            "INFO:tensorflow:Graph was finalized.\n",
            "INFO:tensorflow:Running local_init_op.\n",
            "INFO:tensorflow:Done running local_init_op.\n",
            "INFO:tensorflow:Saving checkpoints for 0 into /tmp/tmp1drs42rs/model.ckpt.\n",
            "INFO:tensorflow:loss = 1.9459102, step = 1\n",
            "INFO:tensorflow:global_step/sec: 922.364\n",
            "INFO:tensorflow:loss = 0.030335533, step = 101 (0.113 sec)\n",
            "INFO:tensorflow:global_step/sec: 1469.07\n",
            "INFO:tensorflow:loss = 1.5158117, step = 201 (0.068 sec)\n",
            "INFO:tensorflow:global_step/sec: 1461.44\n",
            "INFO:tensorflow:loss = 0.07971874, step = 301 (0.066 sec)\n",
            "INFO:tensorflow:global_step/sec: 1407.37\n",
            "INFO:tensorflow:loss = 1.0155276, step = 401 (0.074 sec)\n",
            "INFO:tensorflow:global_step/sec: 1391.75\n",
            "INFO:tensorflow:loss = 0.014244661, step = 501 (0.069 sec)\n",
            "INFO:tensorflow:global_step/sec: 1453.58\n",
            "INFO:tensorflow:loss = 1.1547837, step = 601 (0.071 sec)\n",
            "INFO:tensorflow:global_step/sec: 1433.53\n",
            "INFO:tensorflow:loss = 0.009529459, step = 701 (0.067 sec)\n",
            "INFO:tensorflow:global_step/sec: 1382.43\n",
            "INFO:tensorflow:loss = 0.13937789, step = 801 (0.073 sec)\n",
            "INFO:tensorflow:global_step/sec: 1455.72\n",
            "INFO:tensorflow:loss = 0.010230365, step = 901 (0.069 sec)\n",
            "INFO:tensorflow:global_step/sec: 1517.03\n",
            "INFO:tensorflow:loss = 0.007801894, step = 1001 (0.066 sec)\n",
            "INFO:tensorflow:global_step/sec: 1454.58\n",
            "INFO:tensorflow:loss = 0.777562, step = 1101 (0.069 sec)\n",
            "INFO:tensorflow:global_step/sec: 1470.87\n",
            "INFO:tensorflow:loss = 2.4190836, step = 1201 (0.071 sec)\n",
            "INFO:tensorflow:global_step/sec: 1381.62\n",
            "INFO:tensorflow:loss = 0.8204472, step = 1301 (0.072 sec)\n",
            "INFO:tensorflow:global_step/sec: 1400.14\n",
            "INFO:tensorflow:loss = 0.53741395, step = 1401 (0.069 sec)\n",
            "INFO:tensorflow:global_step/sec: 1352.15\n",
            "INFO:tensorflow:loss = 1.5548892, step = 1501 (0.077 sec)\n",
            "INFO:tensorflow:global_step/sec: 1403.49\n",
            "INFO:tensorflow:loss = 0.809727, step = 1601 (0.071 sec)\n",
            "INFO:tensorflow:global_step/sec: 1387.76\n",
            "INFO:tensorflow:loss = 0.0069587734, step = 1701 (0.071 sec)\n",
            "INFO:tensorflow:global_step/sec: 1405.79\n",
            "INFO:tensorflow:loss = 1.3323326, step = 1801 (0.069 sec)\n",
            "INFO:tensorflow:global_step/sec: 1375.38\n",
            "INFO:tensorflow:loss = 0.005351741, step = 1901 (0.072 sec)\n",
            "INFO:tensorflow:global_step/sec: 1356.41\n",
            "INFO:tensorflow:loss = 0.5817155, step = 2001 (0.074 sec)\n",
            "INFO:tensorflow:global_step/sec: 1484.02\n",
            "INFO:tensorflow:loss = 0.5322385, step = 2101 (0.070 sec)\n",
            "INFO:tensorflow:global_step/sec: 1415.73\n",
            "INFO:tensorflow:loss = 0.7879521, step = 2201 (0.068 sec)\n",
            "INFO:tensorflow:global_step/sec: 1419.44\n",
            "INFO:tensorflow:loss = 0.58028233, step = 2301 (0.074 sec)\n",
            "INFO:tensorflow:global_step/sec: 1360.62\n",
            "INFO:tensorflow:loss = 1.4753622, step = 2401 (0.070 sec)\n",
            "INFO:tensorflow:global_step/sec: 1439.62\n",
            "INFO:tensorflow:loss = 0.5690621, step = 2501 (0.069 sec)\n",
            "INFO:tensorflow:global_step/sec: 1460.05\n",
            "INFO:tensorflow:loss = 0.538263, step = 2601 (0.068 sec)\n",
            "INFO:tensorflow:global_step/sec: 1340.59\n",
            "INFO:tensorflow:loss = 0.45415464, step = 2701 (0.075 sec)\n",
            "INFO:tensorflow:global_step/sec: 1476.79\n"
          ],
          "name": "stdout"
        },
        {
          "output_type": "stream",
          "text": [
            "INFO:tensorflow:loss = 0.29349995, step = 2801 (0.068 sec)\n",
            "INFO:tensorflow:global_step/sec: 1460.53\n",
            "INFO:tensorflow:loss = 0.2570638, step = 2901 (0.068 sec)\n",
            "INFO:tensorflow:global_step/sec: 1410.33\n",
            "INFO:tensorflow:loss = 0.005593719, step = 3001 (0.071 sec)\n",
            "INFO:tensorflow:global_step/sec: 1451.04\n",
            "INFO:tensorflow:loss = 0.004634117, step = 3101 (0.069 sec)\n",
            "INFO:tensorflow:global_step/sec: 1471.73\n",
            "INFO:tensorflow:loss = 1.7460806, step = 3201 (0.068 sec)\n",
            "INFO:tensorflow:global_step/sec: 1433.23\n",
            "INFO:tensorflow:loss = 0.56374353, step = 3301 (0.070 sec)\n",
            "INFO:tensorflow:global_step/sec: 1480.37\n",
            "INFO:tensorflow:loss = 0.35819095, step = 3401 (0.069 sec)\n",
            "INFO:tensorflow:global_step/sec: 1415.23\n",
            "INFO:tensorflow:loss = 0.5168103, step = 3501 (0.068 sec)\n",
            "INFO:tensorflow:global_step/sec: 1387.62\n",
            "INFO:tensorflow:loss = 0.34869426, step = 3601 (0.072 sec)\n",
            "INFO:tensorflow:global_step/sec: 1423.36\n",
            "INFO:tensorflow:loss = 0.0037037602, step = 3701 (0.071 sec)\n",
            "INFO:tensorflow:global_step/sec: 1422.25\n",
            "INFO:tensorflow:loss = 0.35446, step = 3801 (0.070 sec)\n",
            "INFO:tensorflow:global_step/sec: 1484.15\n",
            "INFO:tensorflow:loss = 0.9201399, step = 3901 (0.066 sec)\n",
            "INFO:tensorflow:global_step/sec: 1350.67\n",
            "INFO:tensorflow:loss = 0.9754824, step = 4001 (0.074 sec)\n",
            "INFO:tensorflow:global_step/sec: 1453.57\n",
            "INFO:tensorflow:loss = 0.2901823, step = 4101 (0.069 sec)\n",
            "INFO:tensorflow:global_step/sec: 1460.73\n",
            "INFO:tensorflow:loss = 0.0031616723, step = 4201 (0.069 sec)\n",
            "INFO:tensorflow:global_step/sec: 1295.19\n",
            "INFO:tensorflow:loss = 0.8582916, step = 4301 (0.077 sec)\n",
            "INFO:tensorflow:global_step/sec: 1442.11\n",
            "INFO:tensorflow:loss = 0.5006212, step = 4401 (0.070 sec)\n",
            "INFO:tensorflow:global_step/sec: 1432.89\n",
            "INFO:tensorflow:loss = 1.8442523, step = 4501 (0.070 sec)\n",
            "INFO:tensorflow:global_step/sec: 1428.07\n",
            "INFO:tensorflow:loss = 0.9086485, step = 4601 (0.070 sec)\n",
            "INFO:tensorflow:global_step/sec: 1436.65\n",
            "INFO:tensorflow:loss = 0.003061491, step = 4701 (0.069 sec)\n",
            "INFO:tensorflow:global_step/sec: 1452.31\n",
            "INFO:tensorflow:loss = 0.30259678, step = 4801 (0.069 sec)\n",
            "INFO:tensorflow:global_step/sec: 1395.05\n",
            "INFO:tensorflow:loss = 0.0029658163, step = 4901 (0.072 sec)\n",
            "INFO:tensorflow:global_step/sec: 1441.04\n",
            "INFO:tensorflow:loss = 0.7921726, step = 5001 (0.069 sec)\n",
            "INFO:tensorflow:global_step/sec: 1434.84\n",
            "INFO:tensorflow:loss = 0.0036423549, step = 5101 (0.070 sec)\n",
            "INFO:tensorflow:global_step/sec: 1432.55\n",
            "INFO:tensorflow:loss = 0.82360643, step = 5201 (0.069 sec)\n",
            "INFO:tensorflow:global_step/sec: 1421.27\n",
            "INFO:tensorflow:loss = 0.8394357, step = 5301 (0.071 sec)\n",
            "INFO:tensorflow:global_step/sec: 1418.79\n",
            "INFO:tensorflow:loss = 0.52007586, step = 5401 (0.071 sec)\n",
            "INFO:tensorflow:global_step/sec: 1353.3\n",
            "INFO:tensorflow:loss = 0.22284529, step = 5501 (0.076 sec)\n",
            "INFO:tensorflow:global_step/sec: 1432.22\n",
            "INFO:tensorflow:loss = 0.5130532, step = 5601 (0.067 sec)\n",
            "INFO:tensorflow:global_step/sec: 1463.99\n",
            "INFO:tensorflow:loss = 0.30033523, step = 5701 (0.068 sec)\n",
            "INFO:tensorflow:global_step/sec: 1424.39\n",
            "INFO:tensorflow:loss = 0.0023004753, step = 5801 (0.070 sec)\n",
            "INFO:tensorflow:global_step/sec: 1421.93\n"
          ],
          "name": "stdout"
        },
        {
          "output_type": "stream",
          "text": [
            "INFO:tensorflow:loss = 0.40848458, step = 5901 (0.073 sec)\n",
            "INFO:tensorflow:global_step/sec: 1418.21\n",
            "INFO:tensorflow:loss = 0.5153492, step = 6001 (0.069 sec)\n",
            "INFO:tensorflow:global_step/sec: 1500.23\n",
            "INFO:tensorflow:loss = 0.820462, step = 6101 (0.066 sec)\n",
            "INFO:tensorflow:global_step/sec: 1403.68\n",
            "INFO:tensorflow:loss = 0.68466175, step = 6201 (0.071 sec)\n",
            "INFO:tensorflow:global_step/sec: 1441.83\n",
            "INFO:tensorflow:loss = 0.27541628, step = 6301 (0.070 sec)\n",
            "INFO:tensorflow:global_step/sec: 1449.6\n",
            "INFO:tensorflow:loss = 0.33649784, step = 6401 (0.069 sec)\n",
            "INFO:tensorflow:global_step/sec: 1392.69\n",
            "INFO:tensorflow:loss = 0.00232783, step = 6501 (0.074 sec)\n",
            "INFO:tensorflow:global_step/sec: 1405.02\n",
            "INFO:tensorflow:loss = 0.6441235, step = 6601 (0.070 sec)\n",
            "INFO:tensorflow:global_step/sec: 1484.72\n",
            "INFO:tensorflow:loss = 0.26416495, step = 6701 (0.067 sec)\n",
            "INFO:tensorflow:global_step/sec: 1333.92\n",
            "INFO:tensorflow:loss = 0.0020932686, step = 6801 (0.078 sec)\n",
            "INFO:tensorflow:global_step/sec: 1468.1\n",
            "INFO:tensorflow:loss = 0.0021398996, step = 6901 (0.065 sec)\n",
            "INFO:tensorflow:global_step/sec: 1443.93\n",
            "INFO:tensorflow:loss = 0.20127648, step = 7001 (0.069 sec)\n",
            "INFO:tensorflow:global_step/sec: 1451.38\n",
            "INFO:tensorflow:loss = 1.5277206, step = 7101 (0.069 sec)\n",
            "INFO:tensorflow:global_step/sec: 1388.41\n",
            "INFO:tensorflow:loss = 0.002340318, step = 7201 (0.075 sec)\n",
            "INFO:tensorflow:global_step/sec: 1419.07\n",
            "INFO:tensorflow:loss = 0.9106813, step = 7301 (0.068 sec)\n",
            "INFO:tensorflow:global_step/sec: 1446.08\n",
            "INFO:tensorflow:loss = 0.26814172, step = 7401 (0.069 sec)\n",
            "INFO:tensorflow:global_step/sec: 1407.02\n",
            "INFO:tensorflow:loss = 0.0023060653, step = 7501 (0.071 sec)\n",
            "INFO:tensorflow:global_step/sec: 1418.45\n",
            "INFO:tensorflow:loss = 0.2234484, step = 7601 (0.071 sec)\n",
            "INFO:tensorflow:global_step/sec: 1446.09\n",
            "INFO:tensorflow:loss = 1.4812344, step = 7701 (0.070 sec)\n",
            "INFO:tensorflow:global_step/sec: 1476.18\n",
            "INFO:tensorflow:loss = 0.0024128628, step = 7801 (0.067 sec)\n",
            "INFO:tensorflow:global_step/sec: 1449.02\n",
            "INFO:tensorflow:loss = 0.0018700745, step = 7901 (0.070 sec)\n",
            "INFO:tensorflow:global_step/sec: 1460.79\n",
            "INFO:tensorflow:loss = 0.57643974, step = 8001 (0.071 sec)\n",
            "INFO:tensorflow:global_step/sec: 1400.62\n",
            "INFO:tensorflow:loss = 0.8095399, step = 8101 (0.068 sec)\n",
            "INFO:tensorflow:global_step/sec: 1381.44\n",
            "INFO:tensorflow:loss = 0.0019381326, step = 8201 (0.073 sec)\n",
            "INFO:tensorflow:global_step/sec: 1478.43\n",
            "INFO:tensorflow:loss = 0.47922674, step = 8301 (0.067 sec)\n",
            "INFO:tensorflow:global_step/sec: 1383.51\n",
            "INFO:tensorflow:loss = 0.39340943, step = 8401 (0.072 sec)\n",
            "INFO:tensorflow:global_step/sec: 1357.41\n",
            "INFO:tensorflow:loss = 0.38111433, step = 8501 (0.077 sec)\n",
            "INFO:tensorflow:global_step/sec: 1390.7\n",
            "INFO:tensorflow:loss = 0.0020588886, step = 8601 (0.070 sec)\n",
            "INFO:tensorflow:global_step/sec: 1392.26\n",
            "INFO:tensorflow:loss = 0.49224567, step = 8701 (0.071 sec)\n",
            "INFO:tensorflow:global_step/sec: 1347.47\n",
            "INFO:tensorflow:loss = 0.22189155, step = 8801 (0.074 sec)\n",
            "INFO:tensorflow:global_step/sec: 1287.98\n",
            "INFO:tensorflow:loss = 0.4461863, step = 8901 (0.077 sec)\n",
            "INFO:tensorflow:global_step/sec: 1417.73\n"
          ],
          "name": "stdout"
        },
        {
          "output_type": "stream",
          "text": [
            "INFO:tensorflow:loss = 0.0019783466, step = 9001 (0.071 sec)\n",
            "INFO:tensorflow:global_step/sec: 1384.33\n",
            "INFO:tensorflow:loss = 0.79214835, step = 9101 (0.071 sec)\n",
            "INFO:tensorflow:global_step/sec: 1318.41\n",
            "INFO:tensorflow:loss = 1.0824136, step = 9201 (0.076 sec)\n",
            "INFO:tensorflow:global_step/sec: 1427.24\n",
            "INFO:tensorflow:loss = 0.0016358816, step = 9301 (0.071 sec)\n",
            "INFO:tensorflow:global_step/sec: 1317.05\n",
            "INFO:tensorflow:loss = 0.0021277664, step = 9401 (0.076 sec)\n",
            "INFO:tensorflow:global_step/sec: 1436.06\n",
            "INFO:tensorflow:loss = 0.5934705, step = 9501 (0.069 sec)\n",
            "INFO:tensorflow:global_step/sec: 1399.81\n",
            "INFO:tensorflow:loss = 0.0015191216, step = 9601 (0.071 sec)\n",
            "INFO:tensorflow:global_step/sec: 1395.2\n",
            "INFO:tensorflow:loss = 0.861228, step = 9701 (0.072 sec)\n",
            "INFO:tensorflow:global_step/sec: 1448.1\n",
            "INFO:tensorflow:loss = 0.4629522, step = 9801 (0.072 sec)\n",
            "INFO:tensorflow:global_step/sec: 1420.15\n",
            "INFO:tensorflow:loss = 0.20992263, step = 9901 (0.067 sec)\n",
            "INFO:tensorflow:global_step/sec: 1438.12\n",
            "INFO:tensorflow:loss = 0.6877196, step = 10001 (0.070 sec)\n",
            "INFO:tensorflow:global_step/sec: 1478.46\n",
            "INFO:tensorflow:loss = 0.70471543, step = 10101 (0.067 sec)\n",
            "INFO:tensorflow:global_step/sec: 1412.86\n",
            "INFO:tensorflow:loss = 0.57839227, step = 10201 (0.071 sec)\n",
            "INFO:tensorflow:global_step/sec: 1373.73\n",
            "INFO:tensorflow:loss = 0.80186516, step = 10301 (0.077 sec)\n",
            "INFO:tensorflow:global_step/sec: 1422.61\n",
            "INFO:tensorflow:loss = 0.2755874, step = 10401 (0.067 sec)\n",
            "INFO:tensorflow:global_step/sec: 1437.04\n",
            "INFO:tensorflow:loss = 0.0013018713, step = 10501 (0.070 sec)\n",
            "INFO:tensorflow:global_step/sec: 1449.94\n",
            "INFO:tensorflow:loss = 1.3892939, step = 10601 (0.069 sec)\n",
            "INFO:tensorflow:global_step/sec: 1381.91\n",
            "INFO:tensorflow:loss = 0.0016371908, step = 10701 (0.073 sec)\n",
            "INFO:tensorflow:global_step/sec: 1438.49\n",
            "INFO:tensorflow:loss = 0.75493664, step = 10801 (0.069 sec)\n",
            "INFO:tensorflow:global_step/sec: 1396.52\n",
            "INFO:tensorflow:loss = 0.27970216, step = 10901 (0.072 sec)\n",
            "INFO:tensorflow:global_step/sec: 1396.83\n",
            "INFO:tensorflow:loss = 0.315735, step = 11001 (0.072 sec)\n",
            "INFO:tensorflow:global_step/sec: 1475.75\n",
            "INFO:tensorflow:loss = 0.53999835, step = 11101 (0.067 sec)\n",
            "INFO:tensorflow:global_step/sec: 1416.74\n",
            "INFO:tensorflow:loss = 1.1647881, step = 11201 (0.073 sec)\n",
            "INFO:tensorflow:global_step/sec: 1408.95\n",
            "INFO:tensorflow:loss = 1.0170774, step = 11301 (0.068 sec)\n",
            "INFO:tensorflow:global_step/sec: 1391.54\n",
            "INFO:tensorflow:loss = 0.0014754373, step = 11401 (0.075 sec)\n",
            "INFO:tensorflow:global_step/sec: 1418.25\n",
            "INFO:tensorflow:loss = 0.5345186, step = 11501 (0.068 sec)\n",
            "INFO:tensorflow:global_step/sec: 1403.27\n",
            "INFO:tensorflow:loss = 0.82379586, step = 11601 (0.071 sec)\n",
            "INFO:tensorflow:global_step/sec: 1489.54\n",
            "INFO:tensorflow:loss = 0.53537434, step = 11701 (0.069 sec)\n",
            "INFO:tensorflow:global_step/sec: 1448.98\n",
            "INFO:tensorflow:loss = 0.17441747, step = 11801 (0.067 sec)\n",
            "INFO:tensorflow:global_step/sec: 1399.92\n",
            "INFO:tensorflow:loss = 0.6599389, step = 11901 (0.071 sec)\n",
            "INFO:tensorflow:global_step/sec: 1450.48\n",
            "INFO:tensorflow:loss = 0.23193486, step = 12001 (0.069 sec)\n",
            "INFO:tensorflow:global_step/sec: 1405.2\n"
          ],
          "name": "stdout"
        },
        {
          "output_type": "stream",
          "text": [
            "INFO:tensorflow:loss = 0.7002422, step = 12101 (0.071 sec)\n",
            "INFO:tensorflow:global_step/sec: 1392.12\n",
            "INFO:tensorflow:loss = 0.8630097, step = 12201 (0.075 sec)\n",
            "INFO:tensorflow:global_step/sec: 1392.1\n",
            "INFO:tensorflow:loss = 0.8144072, step = 12301 (0.071 sec)\n",
            "INFO:tensorflow:global_step/sec: 1443.04\n",
            "INFO:tensorflow:loss = 0.001457463, step = 12401 (0.067 sec)\n",
            "INFO:tensorflow:global_step/sec: 1392.93\n",
            "INFO:tensorflow:loss = 0.0011600677, step = 12501 (0.072 sec)\n",
            "INFO:tensorflow:global_step/sec: 1443.52\n",
            "INFO:tensorflow:loss = 0.0012891324, step = 12601 (0.069 sec)\n",
            "INFO:tensorflow:global_step/sec: 1410.33\n",
            "INFO:tensorflow:loss = 0.001765837, step = 12701 (0.071 sec)\n",
            "INFO:tensorflow:global_step/sec: 1415.98\n",
            "INFO:tensorflow:loss = 1.0641587, step = 12801 (0.071 sec)\n",
            "INFO:tensorflow:global_step/sec: 1417.78\n",
            "INFO:tensorflow:loss = 0.12559493, step = 12901 (0.073 sec)\n",
            "INFO:tensorflow:global_step/sec: 1369.82\n",
            "INFO:tensorflow:loss = 0.12547591, step = 13001 (0.073 sec)\n",
            "INFO:tensorflow:global_step/sec: 1423.66\n",
            "INFO:tensorflow:loss = 0.67223847, step = 13101 (0.071 sec)\n",
            "INFO:tensorflow:global_step/sec: 1441.08\n",
            "INFO:tensorflow:loss = 0.0011791189, step = 13201 (0.067 sec)\n",
            "INFO:tensorflow:global_step/sec: 1351.19\n",
            "INFO:tensorflow:loss = 0.0012882991, step = 13301 (0.074 sec)\n",
            "INFO:tensorflow:global_step/sec: 1426.57\n",
            "INFO:tensorflow:loss = 0.1587096, step = 13401 (0.070 sec)\n",
            "INFO:tensorflow:global_step/sec: 1417.48\n",
            "INFO:tensorflow:loss = 0.0014524636, step = 13501 (0.071 sec)\n",
            "INFO:tensorflow:global_step/sec: 1381.29\n",
            "INFO:tensorflow:loss = 0.21427263, step = 13601 (0.073 sec)\n",
            "INFO:tensorflow:global_step/sec: 1485.75\n",
            "INFO:tensorflow:loss = 0.9219036, step = 13701 (0.067 sec)\n",
            "INFO:tensorflow:global_step/sec: 1451.92\n",
            "INFO:tensorflow:loss = 0.16318133, step = 13801 (0.069 sec)\n",
            "INFO:tensorflow:global_step/sec: 1363.7\n",
            "INFO:tensorflow:loss = 0.56799775, step = 13901 (0.073 sec)\n",
            "INFO:tensorflow:global_step/sec: 1428.63\n",
            "INFO:tensorflow:loss = 0.0011070797, step = 14001 (0.072 sec)\n",
            "INFO:tensorflow:global_step/sec: 1435.96\n",
            "INFO:tensorflow:loss = 0.0009941879, step = 14101 (0.068 sec)\n",
            "INFO:tensorflow:global_step/sec: 1391.85\n",
            "INFO:tensorflow:loss = 0.5680027, step = 14201 (0.072 sec)\n",
            "INFO:tensorflow:global_step/sec: 1488.01\n",
            "INFO:tensorflow:loss = 0.3701234, step = 14301 (0.067 sec)\n",
            "INFO:tensorflow:global_step/sec: 1490.39\n",
            "INFO:tensorflow:loss = 0.0013148481, step = 14401 (0.067 sec)\n",
            "INFO:tensorflow:global_step/sec: 1393.28\n",
            "INFO:tensorflow:loss = 0.48104244, step = 14501 (0.072 sec)\n",
            "INFO:tensorflow:global_step/sec: 1432.27\n",
            "INFO:tensorflow:loss = 0.13502662, step = 14601 (0.071 sec)\n",
            "INFO:tensorflow:global_step/sec: 1452.67\n",
            "INFO:tensorflow:loss = 0.0013274676, step = 14701 (0.069 sec)\n",
            "INFO:tensorflow:global_step/sec: 1483.8\n",
            "INFO:tensorflow:loss = 0.0010545652, step = 14801 (0.069 sec)\n",
            "INFO:tensorflow:global_step/sec: 1449.58\n",
            "INFO:tensorflow:loss = 0.6461711, step = 14901 (0.066 sec)\n",
            "INFO:tensorflow:global_step/sec: 1398.61\n",
            "INFO:tensorflow:loss = 0.001204123, step = 15001 (0.072 sec)\n",
            "INFO:tensorflow:global_step/sec: 1436.53\n",
            "INFO:tensorflow:loss = 0.3358724, step = 15101 (0.069 sec)\n",
            "INFO:tensorflow:global_step/sec: 1463.25\n"
          ],
          "name": "stdout"
        },
        {
          "output_type": "stream",
          "text": [
            "INFO:tensorflow:loss = 0.00091094, step = 15201 (0.069 sec)\n",
            "INFO:tensorflow:global_step/sec: 1423.5\n",
            "INFO:tensorflow:loss = 0.0011890016, step = 15301 (0.069 sec)\n",
            "INFO:tensorflow:global_step/sec: 1424.99\n",
            "INFO:tensorflow:loss = 0.35031292, step = 15401 (0.070 sec)\n",
            "INFO:tensorflow:global_step/sec: 1442.54\n",
            "INFO:tensorflow:loss = 0.0009889479, step = 15501 (0.069 sec)\n",
            "INFO:tensorflow:global_step/sec: 1417.41\n",
            "INFO:tensorflow:loss = 0.53164744, step = 15601 (0.071 sec)\n",
            "INFO:tensorflow:global_step/sec: 1484.62\n",
            "INFO:tensorflow:loss = 0.6357352, step = 15701 (0.068 sec)\n",
            "INFO:tensorflow:global_step/sec: 1446.4\n",
            "INFO:tensorflow:loss = 0.338771, step = 15801 (0.072 sec)\n",
            "INFO:tensorflow:global_step/sec: 1348.34\n",
            "INFO:tensorflow:loss = 0.8417874, step = 15901 (0.073 sec)\n",
            "INFO:tensorflow:global_step/sec: 1437.72\n",
            "INFO:tensorflow:loss = 0.0009234455, step = 16001 (0.067 sec)\n",
            "INFO:tensorflow:global_step/sec: 1481.74\n",
            "INFO:tensorflow:loss = 0.5354677, step = 16101 (0.067 sec)\n",
            "INFO:tensorflow:global_step/sec: 1481.32\n",
            "INFO:tensorflow:loss = 0.0011023165, step = 16201 (0.077 sec)\n",
            "INFO:tensorflow:global_step/sec: 1107.14\n",
            "INFO:tensorflow:loss = 0.121350825, step = 16301 (0.083 sec)\n",
            "INFO:tensorflow:global_step/sec: 1433.42\n",
            "INFO:tensorflow:loss = 0.34426564, step = 16401 (0.067 sec)\n",
            "INFO:tensorflow:global_step/sec: 1479.79\n",
            "INFO:tensorflow:loss = 0.4761161, step = 16501 (0.071 sec)\n",
            "INFO:tensorflow:global_step/sec: 1389.59\n",
            "INFO:tensorflow:loss = 0.0013559205, step = 16601 (0.069 sec)\n",
            "INFO:tensorflow:global_step/sec: 1389.16\n",
            "INFO:tensorflow:loss = 0.12842254, step = 16701 (0.072 sec)\n",
            "INFO:tensorflow:global_step/sec: 1470.59\n",
            "INFO:tensorflow:loss = 0.4750284, step = 16801 (0.069 sec)\n",
            "INFO:tensorflow:global_step/sec: 1417.94\n",
            "INFO:tensorflow:loss = 0.4190791, step = 16901 (0.072 sec)\n",
            "INFO:tensorflow:global_step/sec: 1436.56\n",
            "INFO:tensorflow:loss = 0.15496704, step = 17001 (0.068 sec)\n",
            "INFO:tensorflow:global_step/sec: 1443.57\n",
            "INFO:tensorflow:loss = 0.79440695, step = 17101 (0.068 sec)\n",
            "INFO:tensorflow:global_step/sec: 1202.7\n",
            "INFO:tensorflow:loss = 0.0009374991, step = 17201 (0.087 sec)\n",
            "INFO:tensorflow:global_step/sec: 1380.08\n",
            "INFO:tensorflow:loss = 0.0010463484, step = 17301 (0.069 sec)\n",
            "INFO:tensorflow:global_step/sec: 1437.07\n",
            "INFO:tensorflow:loss = 0.16346847, step = 17401 (0.070 sec)\n",
            "INFO:tensorflow:global_step/sec: 1459.55\n",
            "INFO:tensorflow:loss = 0.0010203876, step = 17501 (0.068 sec)\n",
            "INFO:tensorflow:global_step/sec: 1157.1\n",
            "INFO:tensorflow:loss = 0.11573828, step = 17601 (0.087 sec)\n",
            "INFO:tensorflow:global_step/sec: 1392.3\n",
            "INFO:tensorflow:loss = 0.0010734993, step = 17701 (0.072 sec)\n",
            "INFO:tensorflow:global_step/sec: 1376.61\n",
            "INFO:tensorflow:loss = 0.49309587, step = 17801 (0.073 sec)\n",
            "INFO:tensorflow:global_step/sec: 1300.02\n",
            "INFO:tensorflow:loss = 0.12606573, step = 17901 (0.079 sec)\n",
            "INFO:tensorflow:global_step/sec: 1326.87\n",
            "INFO:tensorflow:loss = 0.8763823, step = 18001 (0.076 sec)\n",
            "INFO:tensorflow:global_step/sec: 1359.05\n",
            "INFO:tensorflow:loss = 0.8333424, step = 18101 (0.073 sec)\n",
            "INFO:tensorflow:global_step/sec: 1382.49\n",
            "INFO:tensorflow:loss = 0.7603403, step = 18201 (0.069 sec)\n",
            "INFO:tensorflow:global_step/sec: 1451.38\n"
          ],
          "name": "stdout"
        },
        {
          "output_type": "stream",
          "text": [
            "INFO:tensorflow:loss = 0.90596116, step = 18301 (0.069 sec)\n",
            "INFO:tensorflow:global_step/sec: 1444.81\n",
            "INFO:tensorflow:loss = 0.921328, step = 18401 (0.070 sec)\n",
            "INFO:tensorflow:global_step/sec: 1410.46\n",
            "INFO:tensorflow:loss = 0.40690532, step = 18501 (0.070 sec)\n",
            "INFO:tensorflow:global_step/sec: 1391.49\n",
            "INFO:tensorflow:loss = 0.6945695, step = 18601 (0.073 sec)\n",
            "INFO:tensorflow:global_step/sec: 1222.89\n",
            "INFO:tensorflow:loss = 0.0008512687, step = 18701 (0.087 sec)\n",
            "INFO:tensorflow:global_step/sec: 1127.37\n",
            "INFO:tensorflow:loss = 0.14243805, step = 18801 (0.083 sec)\n",
            "INFO:tensorflow:global_step/sec: 1412.72\n",
            "INFO:tensorflow:loss = 0.7407271, step = 18901 (0.070 sec)\n",
            "INFO:tensorflow:global_step/sec: 1446.94\n",
            "INFO:tensorflow:loss = 0.6717281, step = 19001 (0.069 sec)\n",
            "INFO:tensorflow:global_step/sec: 1387.72\n",
            "INFO:tensorflow:loss = 0.10512149, step = 19101 (0.072 sec)\n",
            "INFO:tensorflow:global_step/sec: 1434.72\n",
            "INFO:tensorflow:loss = 0.48168677, step = 19201 (0.070 sec)\n",
            "INFO:tensorflow:global_step/sec: 1424.15\n",
            "INFO:tensorflow:loss = 0.100231275, step = 19301 (0.071 sec)\n",
            "INFO:tensorflow:global_step/sec: 1506.17\n",
            "INFO:tensorflow:loss = 1.1804976, step = 19401 (0.066 sec)\n",
            "INFO:tensorflow:global_step/sec: 1210.3\n",
            "INFO:tensorflow:loss = 0.12396057, step = 19501 (0.083 sec)\n",
            "INFO:tensorflow:global_step/sec: 1420.92\n",
            "INFO:tensorflow:loss = 0.12984267, step = 19601 (0.070 sec)\n",
            "INFO:tensorflow:global_step/sec: 1445.95\n",
            "INFO:tensorflow:loss = 0.70586157, step = 19701 (0.069 sec)\n",
            "INFO:tensorflow:global_step/sec: 1073.33\n",
            "INFO:tensorflow:loss = 0.42824134, step = 19801 (0.094 sec)\n",
            "INFO:tensorflow:global_step/sec: 1454.51\n",
            "INFO:tensorflow:loss = 0.0010297955, step = 19901 (0.068 sec)\n",
            "INFO:tensorflow:global_step/sec: 1323.39\n",
            "INFO:tensorflow:loss = 0.11516336, step = 20001 (0.075 sec)\n",
            "INFO:tensorflow:global_step/sec: 1417.01\n",
            "INFO:tensorflow:loss = 0.7147601, step = 20101 (0.071 sec)\n",
            "INFO:tensorflow:global_step/sec: 1424.57\n",
            "INFO:tensorflow:loss = 0.0009816834, step = 20201 (0.070 sec)\n",
            "INFO:tensorflow:global_step/sec: 1430.7\n",
            "INFO:tensorflow:loss = 0.8208241, step = 20301 (0.073 sec)\n",
            "INFO:tensorflow:global_step/sec: 1333.82\n",
            "INFO:tensorflow:loss = 0.66112226, step = 20401 (0.072 sec)\n",
            "INFO:tensorflow:global_step/sec: 1391.22\n",
            "INFO:tensorflow:loss = 0.6388131, step = 20501 (0.072 sec)\n",
            "INFO:tensorflow:global_step/sec: 1249.75\n",
            "INFO:tensorflow:loss = 0.00077491766, step = 20601 (0.080 sec)\n",
            "INFO:tensorflow:global_step/sec: 1411.71\n",
            "INFO:tensorflow:loss = 0.10614678, step = 20701 (0.071 sec)\n",
            "INFO:tensorflow:global_step/sec: 1394.21\n",
            "INFO:tensorflow:loss = 0.118696555, step = 20801 (0.076 sec)\n",
            "INFO:tensorflow:global_step/sec: 1397.41\n",
            "INFO:tensorflow:loss = 0.3397951, step = 20901 (0.067 sec)\n",
            "INFO:tensorflow:global_step/sec: 1401.46\n",
            "INFO:tensorflow:loss = 1.0948273, step = 21001 (0.072 sec)\n",
            "INFO:tensorflow:global_step/sec: 1446.28\n",
            "INFO:tensorflow:loss = 0.535604, step = 21101 (0.072 sec)\n",
            "INFO:tensorflow:global_step/sec: 1359.21\n",
            "INFO:tensorflow:loss = 0.38320026, step = 21201 (0.072 sec)\n",
            "INFO:tensorflow:global_step/sec: 1418.56\n",
            "INFO:tensorflow:loss = 0.2575977, step = 21301 (0.072 sec)\n",
            "INFO:tensorflow:global_step/sec: 1431.32\n"
          ],
          "name": "stdout"
        },
        {
          "output_type": "stream",
          "text": [
            "INFO:tensorflow:loss = 0.0007092821, step = 21401 (0.070 sec)\n",
            "INFO:tensorflow:global_step/sec: 1397.44\n",
            "INFO:tensorflow:loss = 0.8050558, step = 21501 (0.069 sec)\n",
            "INFO:tensorflow:global_step/sec: 1444.62\n",
            "INFO:tensorflow:loss = 0.14194076, step = 21601 (0.070 sec)\n",
            "INFO:tensorflow:global_step/sec: 1440.89\n",
            "INFO:tensorflow:loss = 0.0008261367, step = 21701 (0.071 sec)\n",
            "INFO:tensorflow:global_step/sec: 1357.14\n",
            "INFO:tensorflow:loss = 0.81721807, step = 21801 (0.072 sec)\n",
            "INFO:tensorflow:global_step/sec: 1429.71\n",
            "INFO:tensorflow:loss = 0.75381756, step = 21901 (0.069 sec)\n",
            "INFO:tensorflow:global_step/sec: 1412.55\n",
            "INFO:tensorflow:loss = 0.7077416, step = 22001 (0.071 sec)\n",
            "INFO:tensorflow:global_step/sec: 1391.26\n",
            "INFO:tensorflow:loss = 0.104470745, step = 22101 (0.072 sec)\n",
            "INFO:tensorflow:global_step/sec: 1450.21\n",
            "INFO:tensorflow:loss = 0.0007727736, step = 22201 (0.068 sec)\n",
            "INFO:tensorflow:global_step/sec: 1443.04\n",
            "INFO:tensorflow:loss = 0.5114203, step = 22301 (0.071 sec)\n",
            "INFO:tensorflow:global_step/sec: 1468.71\n",
            "INFO:tensorflow:loss = 0.5266983, step = 22401 (0.068 sec)\n",
            "INFO:tensorflow:global_step/sec: 1458.29\n",
            "INFO:tensorflow:loss = 0.67356557, step = 22501 (0.069 sec)\n",
            "INFO:tensorflow:global_step/sec: 1214.43\n",
            "INFO:tensorflow:loss = 0.4277735, step = 22601 (0.081 sec)\n",
            "INFO:tensorflow:global_step/sec: 1403.61\n",
            "INFO:tensorflow:loss = 0.061402854, step = 22701 (0.071 sec)\n",
            "INFO:tensorflow:global_step/sec: 1444.32\n",
            "INFO:tensorflow:loss = 0.5671568, step = 22801 (0.072 sec)\n",
            "INFO:tensorflow:global_step/sec: 1432.9\n",
            "INFO:tensorflow:loss = 0.46204442, step = 22901 (0.068 sec)\n",
            "INFO:tensorflow:global_step/sec: 1572.63\n",
            "INFO:tensorflow:loss = 0.6505527, step = 23001 (0.066 sec)\n",
            "INFO:tensorflow:global_step/sec: 1449.34\n",
            "INFO:tensorflow:loss = 0.2959789, step = 23101 (0.070 sec)\n",
            "INFO:tensorflow:global_step/sec: 1469.12\n",
            "INFO:tensorflow:loss = 0.61125696, step = 23201 (0.064 sec)\n",
            "INFO:tensorflow:global_step/sec: 1498.33\n",
            "INFO:tensorflow:loss = 0.07929563, step = 23301 (0.068 sec)\n",
            "INFO:tensorflow:global_step/sec: 1452.22\n",
            "INFO:tensorflow:loss = 0.59966123, step = 23401 (0.068 sec)\n",
            "INFO:tensorflow:global_step/sec: 1486.66\n",
            "INFO:tensorflow:loss = 0.33736336, step = 23501 (0.068 sec)\n",
            "INFO:tensorflow:global_step/sec: 1471.39\n",
            "INFO:tensorflow:loss = 0.7468427, step = 23601 (0.068 sec)\n",
            "INFO:tensorflow:global_step/sec: 1410.09\n",
            "INFO:tensorflow:loss = 0.42292777, step = 23701 (0.071 sec)\n",
            "INFO:tensorflow:global_step/sec: 1477.66\n",
            "INFO:tensorflow:loss = 0.08523345, step = 23801 (0.067 sec)\n",
            "INFO:tensorflow:global_step/sec: 1456.2\n",
            "INFO:tensorflow:loss = 0.0008752091, step = 23901 (0.069 sec)\n",
            "INFO:tensorflow:global_step/sec: 1409.38\n",
            "INFO:tensorflow:loss = 0.7203433, step = 24001 (0.072 sec)\n",
            "INFO:tensorflow:global_step/sec: 1420.91\n",
            "INFO:tensorflow:loss = 0.0009900198, step = 24101 (0.070 sec)\n",
            "INFO:tensorflow:global_step/sec: 1492.37\n",
            "INFO:tensorflow:loss = 0.087246105, step = 24201 (0.067 sec)\n",
            "INFO:tensorflow:global_step/sec: 1388.28\n",
            "INFO:tensorflow:loss = 0.08014958, step = 24301 (0.072 sec)\n",
            "INFO:tensorflow:global_step/sec: 1404.4\n",
            "INFO:tensorflow:loss = 0.99941635, step = 24401 (0.071 sec)\n"
          ],
          "name": "stdout"
        },
        {
          "output_type": "stream",
          "text": [
            "INFO:tensorflow:global_step/sec: 1463.4\n",
            "INFO:tensorflow:loss = 0.09286918, step = 24501 (0.069 sec)\n",
            "INFO:tensorflow:global_step/sec: 1412.65\n",
            "INFO:tensorflow:loss = 0.78122425, step = 24601 (0.070 sec)\n",
            "INFO:tensorflow:global_step/sec: 1413.33\n",
            "INFO:tensorflow:loss = 0.085641034, step = 24701 (0.074 sec)\n",
            "INFO:tensorflow:global_step/sec: 1400.8\n",
            "INFO:tensorflow:loss = 0.07337917, step = 24801 (0.068 sec)\n",
            "INFO:tensorflow:global_step/sec: 1434.67\n",
            "INFO:tensorflow:loss = 0.7693222, step = 24901 (0.073 sec)\n",
            "INFO:tensorflow:global_step/sec: 1397.47\n",
            "INFO:tensorflow:loss = 0.0007248873, step = 25001 (0.068 sec)\n",
            "INFO:tensorflow:global_step/sec: 1415.15\n",
            "INFO:tensorflow:loss = 0.10282223, step = 25101 (0.070 sec)\n",
            "INFO:tensorflow:global_step/sec: 1435.91\n",
            "INFO:tensorflow:loss = 0.6396071, step = 25201 (0.073 sec)\n",
            "INFO:tensorflow:global_step/sec: 1430.21\n",
            "INFO:tensorflow:loss = 0.3994486, step = 25301 (0.068 sec)\n",
            "INFO:tensorflow:global_step/sec: 1407.34\n",
            "INFO:tensorflow:loss = 0.31259412, step = 25401 (0.070 sec)\n",
            "INFO:tensorflow:global_step/sec: 1506.63\n",
            "INFO:tensorflow:loss = 0.39202398, step = 25501 (0.069 sec)\n",
            "INFO:tensorflow:global_step/sec: 1476.24\n",
            "INFO:tensorflow:loss = 0.95690775, step = 25601 (0.065 sec)\n",
            "INFO:tensorflow:global_step/sec: 1407.27\n",
            "INFO:tensorflow:loss = 0.56985444, step = 25701 (0.071 sec)\n",
            "INFO:tensorflow:global_step/sec: 1315.29\n",
            "INFO:tensorflow:loss = 0.34358597, step = 25801 (0.080 sec)\n",
            "INFO:tensorflow:global_step/sec: 1466\n",
            "INFO:tensorflow:loss = 0.09350505, step = 25901 (0.067 sec)\n",
            "INFO:tensorflow:global_step/sec: 1385.57\n",
            "INFO:tensorflow:loss = 0.09114863, step = 26001 (0.071 sec)\n",
            "INFO:tensorflow:global_step/sec: 1466.77\n",
            "INFO:tensorflow:loss = 0.0871021, step = 26101 (0.068 sec)\n",
            "INFO:tensorflow:global_step/sec: 1387.41\n",
            "INFO:tensorflow:loss = 0.5140064, step = 26201 (0.072 sec)\n",
            "INFO:tensorflow:global_step/sec: 1427.46\n",
            "INFO:tensorflow:loss = 0.120985, step = 26301 (0.070 sec)\n",
            "INFO:tensorflow:global_step/sec: 1440.3\n",
            "INFO:tensorflow:loss = 0.09818162, step = 26401 (0.069 sec)\n",
            "INFO:tensorflow:global_step/sec: 1453.66\n",
            "INFO:tensorflow:loss = 0.09010283, step = 26501 (0.069 sec)\n",
            "INFO:tensorflow:global_step/sec: 1405.84\n",
            "INFO:tensorflow:loss = 0.0007427556, step = 26601 (0.072 sec)\n",
            "INFO:tensorflow:global_step/sec: 1390.62\n",
            "INFO:tensorflow:loss = 0.67647815, step = 26701 (0.073 sec)\n",
            "INFO:tensorflow:global_step/sec: 1465.28\n",
            "INFO:tensorflow:loss = 0.0008007657, step = 26801 (0.067 sec)\n",
            "INFO:tensorflow:global_step/sec: 1381.35\n",
            "INFO:tensorflow:loss = 0.09914917, step = 26901 (0.072 sec)\n",
            "INFO:tensorflow:global_step/sec: 1454.99\n",
            "INFO:tensorflow:loss = 0.08502949, step = 27001 (0.069 sec)\n",
            "INFO:tensorflow:global_step/sec: 1501.58\n",
            "INFO:tensorflow:loss = 0.10284137, step = 27101 (0.066 sec)\n",
            "INFO:tensorflow:global_step/sec: 1481.27\n",
            "INFO:tensorflow:loss = 0.70002604, step = 27201 (0.068 sec)\n",
            "INFO:tensorflow:global_step/sec: 1430.79\n",
            "INFO:tensorflow:loss = 0.67809725, step = 27301 (0.069 sec)\n",
            "INFO:tensorflow:global_step/sec: 1485.01\n",
            "INFO:tensorflow:loss = 0.5567053, step = 27401 (0.068 sec)\n",
            "INFO:tensorflow:global_step/sec: 1397.29\n",
            "INFO:tensorflow:loss = 0.098232195, step = 27501 (0.072 sec)\n"
          ],
          "name": "stdout"
        },
        {
          "output_type": "stream",
          "text": [
            "INFO:tensorflow:global_step/sec: 1452.29\n",
            "INFO:tensorflow:loss = 0.70510906, step = 27601 (0.068 sec)\n",
            "INFO:tensorflow:global_step/sec: 1450.26\n",
            "INFO:tensorflow:loss = 0.0007522852, step = 27701 (0.069 sec)\n",
            "INFO:tensorflow:global_step/sec: 1423.19\n",
            "INFO:tensorflow:loss = 0.6112323, step = 27801 (0.070 sec)\n",
            "INFO:tensorflow:global_step/sec: 1323.47\n",
            "INFO:tensorflow:loss = 0.00070570834, step = 27901 (0.078 sec)\n",
            "INFO:tensorflow:global_step/sec: 1430.04\n",
            "INFO:tensorflow:loss = 0.90009654, step = 28001 (0.067 sec)\n",
            "INFO:tensorflow:global_step/sec: 1326.53\n",
            "INFO:tensorflow:loss = 0.40136304, step = 28101 (0.075 sec)\n",
            "INFO:tensorflow:global_step/sec: 1428.31\n",
            "INFO:tensorflow:loss = 0.00061040366, step = 28201 (0.070 sec)\n",
            "INFO:tensorflow:global_step/sec: 1448.06\n",
            "INFO:tensorflow:loss = 0.09757067, step = 28301 (0.069 sec)\n",
            "INFO:tensorflow:global_step/sec: 1397.71\n",
            "INFO:tensorflow:loss = 0.90998656, step = 28401 (0.071 sec)\n",
            "INFO:tensorflow:global_step/sec: 1380.4\n",
            "INFO:tensorflow:loss = 0.51440185, step = 28501 (0.073 sec)\n",
            "INFO:tensorflow:global_step/sec: 1438.15\n",
            "INFO:tensorflow:loss = 0.090455726, step = 28601 (0.070 sec)\n",
            "INFO:tensorflow:global_step/sec: 1420.43\n",
            "INFO:tensorflow:loss = 0.60336083, step = 28701 (0.071 sec)\n",
            "INFO:tensorflow:global_step/sec: 1481.33\n",
            "INFO:tensorflow:loss = 0.24969843, step = 28801 (0.067 sec)\n",
            "INFO:tensorflow:global_step/sec: 1449.62\n",
            "INFO:tensorflow:loss = 0.00077384565, step = 28901 (0.069 sec)\n",
            "INFO:tensorflow:Saving checkpoints for 29000 into /tmp/tmp1drs42rs/model.ckpt.\n",
            "INFO:tensorflow:Loss for final step: 0.49655962.\n"
          ],
          "name": "stdout"
        },
        {
          "output_type": "execute_result",
          "data": {
            "text/plain": [
              "<tensorflow.python.estimator.canned.linear.LinearClassifier at 0x7f2a44663668>"
            ]
          },
          "metadata": {
            "tags": []
          },
          "execution_count": 86
        }
      ]
    },
    {
      "metadata": {
        "id": "Mycdqye_b3Vi",
        "colab_type": "code",
        "colab": {
          "base_uri": "https://localhost:8080/",
          "height": 187
        },
        "outputId": "84107977-f228-4f60-e0ad-f5fefc3ab270"
      },
      "cell_type": "code",
      "source": [
        "test = model.evaluate(steps=STEPS, input_fn=test_input_fn)"
      ],
      "execution_count": 87,
      "outputs": [
        {
          "output_type": "stream",
          "text": [
            "INFO:tensorflow:Calling model_fn.\n",
            "INFO:tensorflow:Done calling model_fn.\n",
            "INFO:tensorflow:Starting evaluation at 2018-07-26-09:18:21\n",
            "INFO:tensorflow:Graph was finalized.\n",
            "INFO:tensorflow:Restoring parameters from /tmp/tmp1drs42rs/model.ckpt-29000\n",
            "INFO:tensorflow:Running local_init_op.\n",
            "INFO:tensorflow:Done running local_init_op.\n",
            "INFO:tensorflow:Finished evaluation at 2018-07-26-09:18:21\n",
            "INFO:tensorflow:Saving dict for global step 29000: accuracy = 0.0, average_loss = 17.444305, global_step = 29000, loss = 17.444305\n",
            "INFO:tensorflow:Saving 'checkpoint_path' summary for global step 29000: /tmp/tmp1drs42rs/model.ckpt-29000\n"
          ],
          "name": "stdout"
        }
      ]
    }
  ]
}