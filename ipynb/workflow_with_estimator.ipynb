{
  "nbformat": 4,
  "nbformat_minor": 0,
  "metadata": {
    "colab": {
      "name": "workflow-with-estimator.ipynb",
      "version": "0.3.2",
      "provenance": [],
      "collapsed_sections": [],
      "include_colab_link": true
    },
    "kernelspec": {
      "name": "python3",
      "display_name": "Python 3"
    }
  },
  "cells": [
    {
      "cell_type": "markdown",
      "metadata": {
        "id": "view-in-github",
        "colab_type": "text"
      },
      "source": [
        "[View in Colaboratory](https://colab.research.google.com/github/XinyueZ/tf/blob/master/ipynb/workflow_with_estimator.ipynb)"
      ]
    },
    {
      "metadata": {
        "id": "usywsvFLF2bo",
        "colab_type": "code",
        "colab": {}
      },
      "cell_type": "code",
      "source": [
        "import tensorflow as tf\n",
        "from tensorflow.python.data import Dataset\n",
        "import numpy as np\n",
        "import pandas as pd\n",
        "from sklearn.preprocessing import LabelBinarizer\n",
        "from sklearn.preprocessing import LabelEncoder"
      ],
      "execution_count": 0,
      "outputs": []
    },
    {
      "metadata": {
        "id": "6gRBSBTfiO1x",
        "colab_type": "code",
        "colab": {
          "base_uri": "https://localhost:8080/",
          "height": 204
        },
        "outputId": "a8d0c978-8605-4c9e-a547-c369aca7605b"
      },
      "cell_type": "code",
      "source": [
        "df = pd.read_csv(\"https://dl.dropbox.com/s/84wg1c7055cl5ee/data.csv\", sep=\",\")\n",
        "df = df[pd.notnull(df[\"Name\"])]\n",
        "df = df[pd.notnull(df[\"Width\"])]\n",
        "df = df[pd.notnull(df[\"Height\"])]\n",
        "df.head()"
      ],
      "execution_count": 23,
      "outputs": [
        {
          "output_type": "execute_result",
          "data": {
            "text/html": [
              "<div>\n",
              "<style scoped>\n",
              "    .dataframe tbody tr th:only-of-type {\n",
              "        vertical-align: middle;\n",
              "    }\n",
              "\n",
              "    .dataframe tbody tr th {\n",
              "        vertical-align: top;\n",
              "    }\n",
              "\n",
              "    .dataframe thead th {\n",
              "        text-align: right;\n",
              "    }\n",
              "</style>\n",
              "<table border=\"1\" class=\"dataframe\">\n",
              "  <thead>\n",
              "    <tr style=\"text-align: right;\">\n",
              "      <th></th>\n",
              "      <th>Name</th>\n",
              "      <th>Width</th>\n",
              "      <th>Height</th>\n",
              "      <th>Length</th>\n",
              "      <th>Dense</th>\n",
              "    </tr>\n",
              "  </thead>\n",
              "  <tbody>\n",
              "    <tr>\n",
              "      <th>0</th>\n",
              "      <td>a small guy</td>\n",
              "      <td>10</td>\n",
              "      <td>23</td>\n",
              "      <td>12</td>\n",
              "      <td>6</td>\n",
              "    </tr>\n",
              "    <tr>\n",
              "      <th>1</th>\n",
              "      <td>a beautiful stage</td>\n",
              "      <td>11</td>\n",
              "      <td>24</td>\n",
              "      <td>11</td>\n",
              "      <td>7</td>\n",
              "    </tr>\n",
              "    <tr>\n",
              "      <th>2</th>\n",
              "      <td>the a length</td>\n",
              "      <td>4</td>\n",
              "      <td>56</td>\n",
              "      <td>15</td>\n",
              "      <td>1</td>\n",
              "    </tr>\n",
              "    <tr>\n",
              "      <th>3</th>\n",
              "      <td>zeros to</td>\n",
              "      <td>5</td>\n",
              "      <td>57</td>\n",
              "      <td>8</td>\n",
              "      <td>2</td>\n",
              "    </tr>\n",
              "    <tr>\n",
              "      <th>4</th>\n",
              "      <td>description</td>\n",
              "      <td>6</td>\n",
              "      <td>66</td>\n",
              "      <td>9</td>\n",
              "      <td>8</td>\n",
              "    </tr>\n",
              "  </tbody>\n",
              "</table>\n",
              "</div>"
            ],
            "text/plain": [
              "                Name  Width  Height  Length  Dense\n",
              "0        a small guy     10      23      12      6\n",
              "1  a beautiful stage     11      24      11      7\n",
              "2       the a length      4      56      15      1\n",
              "3           zeros to      5      57       8      2\n",
              "4        description      6      66       9      8"
            ]
          },
          "metadata": {
            "tags": []
          },
          "execution_count": 23
        }
      ]
    },
    {
      "metadata": {
        "id": "PWk86xsBDkch",
        "colab_type": "code",
        "colab": {}
      },
      "cell_type": "code",
      "source": [
        "def make_dataset_and_labels_and_class_num(df, label_name):\n",
        "  \"\"\"This method will prepare dataset, labels for train, test and classes count.\n",
        "     Args:\n",
        "      df: DataFrame format of datasource.\n",
        "      label_name: The name of column in datasource which will be as target for train.\n",
        "     Return: \n",
        "       Tuple of (ds_train, ds_test, y_train, y_test, class_num)\n",
        "      \n",
        "  \"\"\"\n",
        "  encoder = LabelEncoder()\n",
        "  labels = encoder.fit_transform(df[label_name])\n",
        "  class_num = np.max(labels) + 1\n",
        "   \n",
        "  random_seed = None\n",
        "  np.random.seed(random_seed)\n",
        "  \n",
        "  ds_train = df.sample(frac=0.5, random_state=random_seed)\n",
        "  lines = len(ds_train)\n",
        "  label_train = labels[:lines]\n",
        "  \n",
        "  ds_test = df.drop(ds_train.index)\n",
        "  label_test = labels[lines:]\n",
        "   \n",
        "  return ds_train, ds_test, label_train, label_test, class_num"
      ],
      "execution_count": 0,
      "outputs": []
    },
    {
      "metadata": {
        "id": "NgkHsXdun_dO",
        "colab_type": "code",
        "colab": {}
      },
      "cell_type": "code",
      "source": [
        "ds_train, ds_test, y_train, y_test, class_num = make_dataset_and_labels_and_class_num(df, \"Name\")"
      ],
      "execution_count": 0,
      "outputs": []
    },
    {
      "metadata": {
        "id": "b9A0YuJAxXFk",
        "colab_type": "code",
        "colab": {
          "base_uri": "https://localhost:8080/",
          "height": 34
        },
        "outputId": "9039cf4e-1533-4ebf-f7ba-a781a1634806"
      },
      "cell_type": "code",
      "source": [
        "print(\"class: {}\".format(class_num))"
      ],
      "execution_count": 26,
      "outputs": [
        {
          "output_type": "stream",
          "text": [
            "class: 7\n"
          ],
          "name": "stdout"
        }
      ]
    },
    {
      "metadata": {
        "id": "mgVYA89XoHIV",
        "colab_type": "code",
        "colab": {
          "base_uri": "https://localhost:8080/",
          "height": 173
        },
        "outputId": "06384de4-3481-429f-db27-391cc68c896e"
      },
      "cell_type": "code",
      "source": [
        "ds_train.head()"
      ],
      "execution_count": 27,
      "outputs": [
        {
          "output_type": "execute_result",
          "data": {
            "text/html": [
              "<div>\n",
              "<style scoped>\n",
              "    .dataframe tbody tr th:only-of-type {\n",
              "        vertical-align: middle;\n",
              "    }\n",
              "\n",
              "    .dataframe tbody tr th {\n",
              "        vertical-align: top;\n",
              "    }\n",
              "\n",
              "    .dataframe thead th {\n",
              "        text-align: right;\n",
              "    }\n",
              "</style>\n",
              "<table border=\"1\" class=\"dataframe\">\n",
              "  <thead>\n",
              "    <tr style=\"text-align: right;\">\n",
              "      <th></th>\n",
              "      <th>Name</th>\n",
              "      <th>Width</th>\n",
              "      <th>Height</th>\n",
              "      <th>Length</th>\n",
              "      <th>Dense</th>\n",
              "    </tr>\n",
              "  </thead>\n",
              "  <tbody>\n",
              "    <tr>\n",
              "      <th>6</th>\n",
              "      <td>performs better</td>\n",
              "      <td>8</td>\n",
              "      <td>88</td>\n",
              "      <td>7</td>\n",
              "      <td>8</td>\n",
              "    </tr>\n",
              "    <tr>\n",
              "      <th>5</th>\n",
              "      <td>can learn</td>\n",
              "      <td>7</td>\n",
              "      <td>77</td>\n",
              "      <td>14</td>\n",
              "      <td>10</td>\n",
              "    </tr>\n",
              "    <tr>\n",
              "      <th>2</th>\n",
              "      <td>the a length</td>\n",
              "      <td>4</td>\n",
              "      <td>56</td>\n",
              "      <td>15</td>\n",
              "      <td>1</td>\n",
              "    </tr>\n",
              "    <tr>\n",
              "      <th>1</th>\n",
              "      <td>a beautiful stage</td>\n",
              "      <td>11</td>\n",
              "      <td>24</td>\n",
              "      <td>11</td>\n",
              "      <td>7</td>\n",
              "    </tr>\n",
              "  </tbody>\n",
              "</table>\n",
              "</div>"
            ],
            "text/plain": [
              "                Name  Width  Height  Length  Dense\n",
              "6    performs better      8      88       7      8\n",
              "5          can learn      7      77      14     10\n",
              "2       the a length      4      56      15      1\n",
              "1  a beautiful stage     11      24      11      7"
            ]
          },
          "metadata": {
            "tags": []
          },
          "execution_count": 27
        }
      ]
    },
    {
      "metadata": {
        "id": "oMlOOyPQoI1E",
        "colab_type": "code",
        "colab": {
          "base_uri": "https://localhost:8080/",
          "height": 142
        },
        "outputId": "26baf56c-e5ce-48a5-abe5-c0017f18038b"
      },
      "cell_type": "code",
      "source": [
        "ds_test.head()"
      ],
      "execution_count": 28,
      "outputs": [
        {
          "output_type": "execute_result",
          "data": {
            "text/html": [
              "<div>\n",
              "<style scoped>\n",
              "    .dataframe tbody tr th:only-of-type {\n",
              "        vertical-align: middle;\n",
              "    }\n",
              "\n",
              "    .dataframe tbody tr th {\n",
              "        vertical-align: top;\n",
              "    }\n",
              "\n",
              "    .dataframe thead th {\n",
              "        text-align: right;\n",
              "    }\n",
              "</style>\n",
              "<table border=\"1\" class=\"dataframe\">\n",
              "  <thead>\n",
              "    <tr style=\"text-align: right;\">\n",
              "      <th></th>\n",
              "      <th>Name</th>\n",
              "      <th>Width</th>\n",
              "      <th>Height</th>\n",
              "      <th>Length</th>\n",
              "      <th>Dense</th>\n",
              "    </tr>\n",
              "  </thead>\n",
              "  <tbody>\n",
              "    <tr>\n",
              "      <th>0</th>\n",
              "      <td>a small guy</td>\n",
              "      <td>10</td>\n",
              "      <td>23</td>\n",
              "      <td>12</td>\n",
              "      <td>6</td>\n",
              "    </tr>\n",
              "    <tr>\n",
              "      <th>3</th>\n",
              "      <td>zeros to</td>\n",
              "      <td>5</td>\n",
              "      <td>57</td>\n",
              "      <td>8</td>\n",
              "      <td>2</td>\n",
              "    </tr>\n",
              "    <tr>\n",
              "      <th>4</th>\n",
              "      <td>description</td>\n",
              "      <td>6</td>\n",
              "      <td>66</td>\n",
              "      <td>9</td>\n",
              "      <td>8</td>\n",
              "    </tr>\n",
              "  </tbody>\n",
              "</table>\n",
              "</div>"
            ],
            "text/plain": [
              "          Name  Width  Height  Length  Dense\n",
              "0  a small guy     10      23      12      6\n",
              "3     zeros to      5      57       8      2\n",
              "4  description      6      66       9      8"
            ]
          },
          "metadata": {
            "tags": []
          },
          "execution_count": 28
        }
      ]
    },
    {
      "metadata": {
        "id": "JZavMq0Po3p1",
        "colab_type": "code",
        "colab": {}
      },
      "cell_type": "code",
      "source": [
        "x_train = ds_train[[\"Width\", \"Height\"]]\n",
        "x_test = ds_test[[\"Width\", \"Height\"]]"
      ],
      "execution_count": 0,
      "outputs": []
    },
    {
      "metadata": {
        "id": "Yi1g3htco3st",
        "colab_type": "code",
        "colab": {
          "base_uri": "https://localhost:8080/",
          "height": 173
        },
        "outputId": "e669f776-f3ef-4ffb-954b-bb8b9b53ff98"
      },
      "cell_type": "code",
      "source": [
        "x_train.head()"
      ],
      "execution_count": 30,
      "outputs": [
        {
          "output_type": "execute_result",
          "data": {
            "text/html": [
              "<div>\n",
              "<style scoped>\n",
              "    .dataframe tbody tr th:only-of-type {\n",
              "        vertical-align: middle;\n",
              "    }\n",
              "\n",
              "    .dataframe tbody tr th {\n",
              "        vertical-align: top;\n",
              "    }\n",
              "\n",
              "    .dataframe thead th {\n",
              "        text-align: right;\n",
              "    }\n",
              "</style>\n",
              "<table border=\"1\" class=\"dataframe\">\n",
              "  <thead>\n",
              "    <tr style=\"text-align: right;\">\n",
              "      <th></th>\n",
              "      <th>Width</th>\n",
              "      <th>Height</th>\n",
              "    </tr>\n",
              "  </thead>\n",
              "  <tbody>\n",
              "    <tr>\n",
              "      <th>6</th>\n",
              "      <td>8</td>\n",
              "      <td>88</td>\n",
              "    </tr>\n",
              "    <tr>\n",
              "      <th>5</th>\n",
              "      <td>7</td>\n",
              "      <td>77</td>\n",
              "    </tr>\n",
              "    <tr>\n",
              "      <th>2</th>\n",
              "      <td>4</td>\n",
              "      <td>56</td>\n",
              "    </tr>\n",
              "    <tr>\n",
              "      <th>1</th>\n",
              "      <td>11</td>\n",
              "      <td>24</td>\n",
              "    </tr>\n",
              "  </tbody>\n",
              "</table>\n",
              "</div>"
            ],
            "text/plain": [
              "   Width  Height\n",
              "6      8      88\n",
              "5      7      77\n",
              "2      4      56\n",
              "1     11      24"
            ]
          },
          "metadata": {
            "tags": []
          },
          "execution_count": 30
        }
      ]
    },
    {
      "metadata": {
        "id": "6VRcJQxqpInl",
        "colab_type": "code",
        "colab": {
          "base_uri": "https://localhost:8080/",
          "height": 142
        },
        "outputId": "cb77184e-4fcd-499f-8c0c-649efcd217cc"
      },
      "cell_type": "code",
      "source": [
        "x_test.head()"
      ],
      "execution_count": 31,
      "outputs": [
        {
          "output_type": "execute_result",
          "data": {
            "text/html": [
              "<div>\n",
              "<style scoped>\n",
              "    .dataframe tbody tr th:only-of-type {\n",
              "        vertical-align: middle;\n",
              "    }\n",
              "\n",
              "    .dataframe tbody tr th {\n",
              "        vertical-align: top;\n",
              "    }\n",
              "\n",
              "    .dataframe thead th {\n",
              "        text-align: right;\n",
              "    }\n",
              "</style>\n",
              "<table border=\"1\" class=\"dataframe\">\n",
              "  <thead>\n",
              "    <tr style=\"text-align: right;\">\n",
              "      <th></th>\n",
              "      <th>Width</th>\n",
              "      <th>Height</th>\n",
              "    </tr>\n",
              "  </thead>\n",
              "  <tbody>\n",
              "    <tr>\n",
              "      <th>0</th>\n",
              "      <td>10</td>\n",
              "      <td>23</td>\n",
              "    </tr>\n",
              "    <tr>\n",
              "      <th>3</th>\n",
              "      <td>5</td>\n",
              "      <td>57</td>\n",
              "    </tr>\n",
              "    <tr>\n",
              "      <th>4</th>\n",
              "      <td>6</td>\n",
              "      <td>66</td>\n",
              "    </tr>\n",
              "  </tbody>\n",
              "</table>\n",
              "</div>"
            ],
            "text/plain": [
              "   Width  Height\n",
              "0     10      23\n",
              "3      5      57\n",
              "4      6      66"
            ]
          },
          "metadata": {
            "tags": []
          },
          "execution_count": 31
        }
      ]
    },
    {
      "metadata": {
        "id": "aaY6YIFVD5yD",
        "colab_type": "code",
        "colab": {
          "base_uri": "https://localhost:8080/",
          "height": 34
        },
        "outputId": "0868bff6-a4be-45fc-e6e7-485876b8b2b7"
      },
      "cell_type": "code",
      "source": [
        "y_train"
      ],
      "execution_count": 32,
      "outputs": [
        {
          "output_type": "execute_result",
          "data": {
            "text/plain": [
              "array([1, 0, 5, 6])"
            ]
          },
          "metadata": {
            "tags": []
          },
          "execution_count": 32
        }
      ]
    },
    {
      "metadata": {
        "id": "ewALDkKC_yxf",
        "colab_type": "code",
        "colab": {
          "base_uri": "https://localhost:8080/",
          "height": 34
        },
        "outputId": "27213d25-202a-4837-fced-0afb6054432b"
      },
      "cell_type": "code",
      "source": [
        "type(y_train)"
      ],
      "execution_count": 33,
      "outputs": [
        {
          "output_type": "execute_result",
          "data": {
            "text/plain": [
              "numpy.ndarray"
            ]
          },
          "metadata": {
            "tags": []
          },
          "execution_count": 33
        }
      ]
    },
    {
      "metadata": {
        "id": "Fw2jDJj9D8JS",
        "colab_type": "code",
        "colab": {
          "base_uri": "https://localhost:8080/",
          "height": 34
        },
        "outputId": "7e49b5dd-aca6-4e2a-8cb4-0449190bb84d"
      },
      "cell_type": "code",
      "source": [
        "y_test"
      ],
      "execution_count": 34,
      "outputs": [
        {
          "output_type": "execute_result",
          "data": {
            "text/plain": [
              "array([3, 2, 4])"
            ]
          },
          "metadata": {
            "tags": []
          },
          "execution_count": 34
        }
      ]
    },
    {
      "metadata": {
        "id": "RcsDdsA0_0GH",
        "colab_type": "code",
        "colab": {
          "base_uri": "https://localhost:8080/",
          "height": 34
        },
        "outputId": "281babc4-3df7-49c0-c2ec-b689fb529e67"
      },
      "cell_type": "code",
      "source": [
        "type(y_test)"
      ],
      "execution_count": 35,
      "outputs": [
        {
          "output_type": "execute_result",
          "data": {
            "text/plain": [
              "numpy.ndarray"
            ]
          },
          "metadata": {
            "tags": []
          },
          "execution_count": 35
        }
      ]
    },
    {
      "metadata": {
        "id": "udjYU2TaCClX",
        "colab_type": "code",
        "colab": {}
      },
      "cell_type": "code",
      "source": [
        "def input_fn(features, targets, batch_size=1, shuffle=True, num_epochs=None):\n",
        "    \"\"\"Trains a linear regression model of one feature.\n",
        "  \n",
        "    Args:\n",
        "      features: pandas DataFrame of features\n",
        "      targets: pandas DataFrame of targets\n",
        "      batch_size: Size of batches to be passed to the model\n",
        "      shuffle: True or False. Whether to shuffle the data.\n",
        "      num_epochs: Number of epochs for which data should be repeated. None = repeat indefinitely\n",
        "    Returns:\n",
        "      Tuple of (features, labels) for next data batch\n",
        "    \"\"\"\n",
        " \n",
        "    # Construct a dataset, and configure batching/repeating\n",
        "    features = {key:np.array(value) for key,value in dict(features).items()} \n",
        "  \n",
        "    ds = Dataset.from_tensor_slices((features, targets))\n",
        "    ds = ds.batch(batch_size).repeat(num_epochs)\n",
        "    \n",
        "    # Shuffle the data, if specified\n",
        "    if shuffle:\n",
        "      ds = ds.shuffle(buffer_size=10000)\n",
        "    \n",
        "    # Return the next batch of data\n",
        "    features, labels = ds.make_one_shot_iterator().get_next()\n",
        "    return features, labels"
      ],
      "execution_count": 0,
      "outputs": []
    },
    {
      "metadata": {
        "id": "XauzWrcNCh0J",
        "colab_type": "code",
        "colab": {}
      },
      "cell_type": "code",
      "source": [
        "train_input_fn = lambda: input_fn(x_train, y_train)"
      ],
      "execution_count": 0,
      "outputs": []
    },
    {
      "metadata": {
        "id": "_QCb9zcOCf3A",
        "colab_type": "code",
        "colab": {}
      },
      "cell_type": "code",
      "source": [
        "test_input_fn =lambda: input_fn(x_test, y_test, num_epochs=1, shuffle=False)"
      ],
      "execution_count": 0,
      "outputs": []
    },
    {
      "metadata": {
        "id": "_rvAbHuFjCND",
        "colab_type": "code",
        "colab": {}
      },
      "cell_type": "code",
      "source": [
        "STEPS = 29000  # Steps of train loop."
      ],
      "execution_count": 0,
      "outputs": []
    },
    {
      "metadata": {
        "id": "O4Fyeywlz4dm",
        "colab_type": "code",
        "colab": {}
      },
      "cell_type": "code",
      "source": [
        "feature_cols = [\n",
        "  tf.feature_column.numeric_column(\"Width\"),\n",
        "  tf.feature_column.numeric_column(\"Height\")\n",
        "]"
      ],
      "execution_count": 0,
      "outputs": []
    },
    {
      "metadata": {
        "id": "xibCYiz3by1B",
        "colab_type": "code",
        "colab": {
          "base_uri": "https://localhost:8080/",
          "height": 88
        },
        "outputId": "aae90cad-3f56-4701-b862-9c392adfabc7"
      },
      "cell_type": "code",
      "source": [
        "# Set up a linear classifier.\n",
        "model = tf.estimator.LinearClassifier(\n",
        "    feature_columns = feature_cols,\n",
        "    n_classes = class_num\n",
        ")"
      ],
      "execution_count": 41,
      "outputs": [
        {
          "output_type": "stream",
          "text": [
            "INFO:tensorflow:Using default config.\n",
            "WARNING:tensorflow:Using temporary folder as model directory: /tmp/tmp4njobtu9\n",
            "INFO:tensorflow:Using config: {'_model_dir': '/tmp/tmp4njobtu9', '_tf_random_seed': None, '_save_summary_steps': 100, '_save_checkpoints_steps': None, '_save_checkpoints_secs': 600, '_session_config': None, '_keep_checkpoint_max': 5, '_keep_checkpoint_every_n_hours': 10000, '_log_step_count_steps': 100, '_train_distribute': None, '_device_fn': None, '_service': None, '_cluster_spec': <tensorflow.python.training.server_lib.ClusterSpec object at 0x7f2a4820db00>, '_task_type': 'worker', '_task_id': 0, '_global_id_in_cluster': 0, '_master': '', '_evaluation_master': '', '_is_chief': True, '_num_ps_replicas': 0, '_num_worker_replicas': 1}\n"
          ],
          "name": "stdout"
        }
      ]
    },
    {
      "metadata": {
        "id": "-KYQzFW4b1cB",
        "colab_type": "code",
        "colab": {
          "base_uri": "https://localhost:8080/",
          "height": 10030
        },
        "outputId": "d2010cb6-bb10-4a0a-98ea-2fabcf384096"
      },
      "cell_type": "code",
      "source": [
        "model.train(input_fn=train_input_fn, steps=STEPS)"
      ],
      "execution_count": 42,
      "outputs": [
        {
          "output_type": "stream",
          "text": [
            "INFO:tensorflow:Calling model_fn.\n",
            "INFO:tensorflow:Done calling model_fn.\n",
            "INFO:tensorflow:Create CheckpointSaverHook.\n",
            "INFO:tensorflow:Graph was finalized.\n",
            "INFO:tensorflow:Running local_init_op.\n",
            "INFO:tensorflow:Done running local_init_op.\n",
            "INFO:tensorflow:Saving checkpoints for 0 into /tmp/tmp4njobtu9/model.ckpt.\n",
            "INFO:tensorflow:loss = 1.9459102, step = 1\n",
            "INFO:tensorflow:global_step/sec: 889.1\n",
            "INFO:tensorflow:loss = 0.04207887, step = 101 (0.114 sec)\n",
            "INFO:tensorflow:global_step/sec: 1426.53\n",
            "INFO:tensorflow:loss = 4.3899727, step = 201 (0.071 sec)\n",
            "INFO:tensorflow:global_step/sec: 1467.8\n",
            "INFO:tensorflow:loss = 1.7418668, step = 301 (0.068 sec)\n",
            "INFO:tensorflow:global_step/sec: 1397.86\n",
            "INFO:tensorflow:loss = 2.2818735, step = 401 (0.076 sec)\n",
            "INFO:tensorflow:global_step/sec: 1314.72\n",
            "INFO:tensorflow:loss = 0.59222823, step = 501 (0.076 sec)\n",
            "INFO:tensorflow:global_step/sec: 1305.25\n",
            "INFO:tensorflow:loss = 0.08641404, step = 601 (0.073 sec)\n",
            "INFO:tensorflow:global_step/sec: 1330.99\n",
            "INFO:tensorflow:loss = 0.18069525, step = 701 (0.074 sec)\n",
            "INFO:tensorflow:global_step/sec: 1400.42\n",
            "INFO:tensorflow:loss = 0.2230727, step = 801 (0.071 sec)\n",
            "INFO:tensorflow:global_step/sec: 1403.39\n",
            "INFO:tensorflow:loss = 0.81434244, step = 901 (0.072 sec)\n",
            "INFO:tensorflow:global_step/sec: 1398.29\n",
            "INFO:tensorflow:loss = 0.013326618, step = 1001 (0.072 sec)\n",
            "INFO:tensorflow:global_step/sec: 1466.68\n",
            "INFO:tensorflow:loss = 2.9792101, step = 1101 (0.068 sec)\n",
            "INFO:tensorflow:global_step/sec: 1416.96\n",
            "INFO:tensorflow:loss = 0.89895886, step = 1201 (0.074 sec)\n",
            "INFO:tensorflow:global_step/sec: 1361.5\n",
            "INFO:tensorflow:loss = 1.3304237, step = 1301 (0.069 sec)\n",
            "INFO:tensorflow:global_step/sec: 1407.42\n",
            "INFO:tensorflow:loss = 1.3037645, step = 1401 (0.071 sec)\n",
            "INFO:tensorflow:global_step/sec: 1398.05\n",
            "INFO:tensorflow:loss = 0.49137422, step = 1501 (0.073 sec)\n",
            "INFO:tensorflow:global_step/sec: 1345.62\n",
            "INFO:tensorflow:loss = 0.3026054, step = 1601 (0.073 sec)\n",
            "INFO:tensorflow:global_step/sec: 1391.44\n",
            "INFO:tensorflow:loss = 1.0716045, step = 1701 (0.074 sec)\n",
            "INFO:tensorflow:global_step/sec: 1433.8\n",
            "INFO:tensorflow:loss = 0.005975596, step = 1801 (0.068 sec)\n",
            "INFO:tensorflow:global_step/sec: 1409.64\n",
            "INFO:tensorflow:loss = 1.3612511, step = 1901 (0.073 sec)\n",
            "INFO:tensorflow:global_step/sec: 1380.03\n",
            "INFO:tensorflow:loss = 0.0056143454, step = 2001 (0.071 sec)\n",
            "INFO:tensorflow:global_step/sec: 1392.42\n",
            "INFO:tensorflow:loss = 0.0051523997, step = 2101 (0.073 sec)\n",
            "INFO:tensorflow:global_step/sec: 1379.01\n",
            "INFO:tensorflow:loss = 0.45017767, step = 2201 (0.072 sec)\n",
            "INFO:tensorflow:global_step/sec: 1415.51\n",
            "INFO:tensorflow:loss = 0.0067770393, step = 2301 (0.071 sec)\n",
            "INFO:tensorflow:global_step/sec: 1453.06\n",
            "INFO:tensorflow:loss = 0.2988417, step = 2401 (0.069 sec)\n",
            "INFO:tensorflow:global_step/sec: 1415.85\n",
            "INFO:tensorflow:loss = 0.0054880907, step = 2501 (0.071 sec)\n",
            "INFO:tensorflow:global_step/sec: 1375.1\n",
            "INFO:tensorflow:loss = 0.54682636, step = 2601 (0.076 sec)\n",
            "INFO:tensorflow:global_step/sec: 1410.61\n",
            "INFO:tensorflow:loss = 2.195786, step = 2701 (0.072 sec)\n",
            "INFO:tensorflow:global_step/sec: 1417.46\n"
          ],
          "name": "stdout"
        },
        {
          "output_type": "stream",
          "text": [
            "INFO:tensorflow:loss = 0.0054137525, step = 2801 (0.070 sec)\n",
            "INFO:tensorflow:global_step/sec: 1420.92\n",
            "INFO:tensorflow:loss = 0.003969291, step = 2901 (0.066 sec)\n",
            "INFO:tensorflow:global_step/sec: 1399.64\n",
            "INFO:tensorflow:loss = 0.21196239, step = 3001 (0.072 sec)\n",
            "INFO:tensorflow:global_step/sec: 1454.4\n",
            "INFO:tensorflow:loss = 0.38517135, step = 3101 (0.073 sec)\n",
            "INFO:tensorflow:global_step/sec: 1367.64\n",
            "INFO:tensorflow:loss = 0.004364845, step = 3201 (0.071 sec)\n",
            "INFO:tensorflow:global_step/sec: 1322.81\n",
            "INFO:tensorflow:loss = 0.004354875, step = 3301 (0.074 sec)\n",
            "INFO:tensorflow:global_step/sec: 1416.42\n",
            "INFO:tensorflow:loss = 0.36971578, step = 3401 (0.070 sec)\n",
            "INFO:tensorflow:global_step/sec: 1430.32\n",
            "INFO:tensorflow:loss = 0.26231122, step = 3501 (0.070 sec)\n",
            "INFO:tensorflow:global_step/sec: 1374.42\n",
            "INFO:tensorflow:loss = 0.9139075, step = 3601 (0.072 sec)\n",
            "INFO:tensorflow:global_step/sec: 1379.23\n",
            "INFO:tensorflow:loss = 0.8252488, step = 3701 (0.075 sec)\n",
            "INFO:tensorflow:global_step/sec: 1419.68\n",
            "INFO:tensorflow:loss = 0.6929807, step = 3801 (0.068 sec)\n",
            "INFO:tensorflow:global_step/sec: 1341.68\n",
            "INFO:tensorflow:loss = 1.5873969, step = 3901 (0.075 sec)\n",
            "INFO:tensorflow:global_step/sec: 1426.28\n",
            "INFO:tensorflow:loss = 0.7048606, step = 4001 (0.069 sec)\n",
            "INFO:tensorflow:global_step/sec: 1415.09\n",
            "INFO:tensorflow:loss = 0.0042171837, step = 4101 (0.071 sec)\n",
            "INFO:tensorflow:global_step/sec: 1416.43\n",
            "INFO:tensorflow:loss = 0.2851019, step = 4201 (0.071 sec)\n",
            "INFO:tensorflow:global_step/sec: 1475.06\n",
            "INFO:tensorflow:loss = 0.28571734, step = 4301 (0.068 sec)\n",
            "INFO:tensorflow:global_step/sec: 1468.42\n",
            "INFO:tensorflow:loss = 0.36396798, step = 4401 (0.067 sec)\n",
            "INFO:tensorflow:global_step/sec: 1413.2\n",
            "INFO:tensorflow:loss = 0.28463888, step = 4501 (0.073 sec)\n",
            "INFO:tensorflow:global_step/sec: 1383.94\n",
            "INFO:tensorflow:loss = 0.33195558, step = 4601 (0.071 sec)\n",
            "INFO:tensorflow:global_step/sec: 1488.15\n",
            "INFO:tensorflow:loss = 1.0216473, step = 4701 (0.070 sec)\n",
            "INFO:tensorflow:global_step/sec: 1372.37\n",
            "INFO:tensorflow:loss = 0.31109914, step = 4801 (0.070 sec)\n",
            "INFO:tensorflow:global_step/sec: 1420.33\n",
            "INFO:tensorflow:loss = 0.44984132, step = 4901 (0.070 sec)\n",
            "INFO:tensorflow:global_step/sec: 1376.28\n",
            "INFO:tensorflow:loss = 0.0026831361, step = 5001 (0.073 sec)\n",
            "INFO:tensorflow:global_step/sec: 1454.67\n",
            "INFO:tensorflow:loss = 1.2419076, step = 5101 (0.072 sec)\n",
            "INFO:tensorflow:global_step/sec: 1305.59\n",
            "INFO:tensorflow:loss = 0.50125825, step = 5201 (0.077 sec)\n",
            "INFO:tensorflow:global_step/sec: 1334.69\n",
            "INFO:tensorflow:loss = 0.0033488167, step = 5301 (0.071 sec)\n",
            "INFO:tensorflow:global_step/sec: 1423.91\n",
            "INFO:tensorflow:loss = 1.694704, step = 5401 (0.073 sec)\n",
            "INFO:tensorflow:global_step/sec: 1311.59\n",
            "INFO:tensorflow:loss = 0.0023731422, step = 5501 (0.076 sec)\n",
            "INFO:tensorflow:global_step/sec: 1367.02\n",
            "INFO:tensorflow:loss = 0.5655326, step = 5601 (0.071 sec)\n",
            "INFO:tensorflow:global_step/sec: 1356.5\n",
            "INFO:tensorflow:loss = 0.6754472, step = 5701 (0.073 sec)\n",
            "INFO:tensorflow:global_step/sec: 1392.37\n",
            "INFO:tensorflow:loss = 1.2194698, step = 5801 (0.072 sec)\n",
            "INFO:tensorflow:global_step/sec: 1462.53\n"
          ],
          "name": "stdout"
        },
        {
          "output_type": "stream",
          "text": [
            "INFO:tensorflow:loss = 0.20587523, step = 5901 (0.068 sec)\n",
            "INFO:tensorflow:global_step/sec: 1436.3\n",
            "INFO:tensorflow:loss = 0.00212277, step = 6001 (0.072 sec)\n",
            "INFO:tensorflow:global_step/sec: 1283.01\n",
            "INFO:tensorflow:loss = 1.107688, step = 6101 (0.079 sec)\n",
            "INFO:tensorflow:global_step/sec: 1395.12\n",
            "INFO:tensorflow:loss = 2.0369956, step = 6201 (0.068 sec)\n",
            "INFO:tensorflow:global_step/sec: 1398.49\n",
            "INFO:tensorflow:loss = 0.4399044, step = 6301 (0.072 sec)\n",
            "INFO:tensorflow:global_step/sec: 1452.56\n",
            "INFO:tensorflow:loss = 0.4448483, step = 6401 (0.072 sec)\n",
            "INFO:tensorflow:global_step/sec: 1361.67\n",
            "INFO:tensorflow:loss = 0.0019035093, step = 6501 (0.069 sec)\n",
            "INFO:tensorflow:global_step/sec: 1386.73\n",
            "INFO:tensorflow:loss = 1.28102, step = 6601 (0.074 sec)\n",
            "INFO:tensorflow:global_step/sec: 1407.6\n",
            "INFO:tensorflow:loss = 0.15948406, step = 6701 (0.070 sec)\n",
            "INFO:tensorflow:global_step/sec: 1403.36\n",
            "INFO:tensorflow:loss = 0.21511513, step = 6801 (0.071 sec)\n",
            "INFO:tensorflow:global_step/sec: 1422.74\n",
            "INFO:tensorflow:loss = 1.1204379, step = 6901 (0.070 sec)\n",
            "INFO:tensorflow:global_step/sec: 1408.52\n",
            "INFO:tensorflow:loss = 0.7385464, step = 7001 (0.075 sec)\n",
            "INFO:tensorflow:global_step/sec: 1380.87\n",
            "INFO:tensorflow:loss = 0.7239882, step = 7101 (0.069 sec)\n",
            "INFO:tensorflow:global_step/sec: 1405.3\n",
            "INFO:tensorflow:loss = 0.0022758555, step = 7201 (0.074 sec)\n",
            "INFO:tensorflow:global_step/sec: 1396.54\n",
            "INFO:tensorflow:loss = 0.002350546, step = 7301 (0.068 sec)\n",
            "INFO:tensorflow:global_step/sec: 1453.72\n",
            "INFO:tensorflow:loss = 0.411571, step = 7401 (0.073 sec)\n",
            "INFO:tensorflow:global_step/sec: 1314.46\n",
            "INFO:tensorflow:loss = 0.0019608573, step = 7501 (0.076 sec)\n",
            "INFO:tensorflow:global_step/sec: 1381.96\n",
            "INFO:tensorflow:loss = 0.5232351, step = 7601 (0.068 sec)\n",
            "INFO:tensorflow:global_step/sec: 1414.25\n",
            "INFO:tensorflow:loss = 0.4242625, step = 7701 (0.075 sec)\n",
            "INFO:tensorflow:global_step/sec: 1378.54\n",
            "INFO:tensorflow:loss = 0.22726531, step = 7801 (0.072 sec)\n",
            "INFO:tensorflow:global_step/sec: 1347.95\n",
            "INFO:tensorflow:loss = 0.8837513, step = 7901 (0.075 sec)\n",
            "INFO:tensorflow:global_step/sec: 1387.41\n",
            "INFO:tensorflow:loss = 0.0017808307, step = 8001 (0.071 sec)\n",
            "INFO:tensorflow:global_step/sec: 1332.42\n",
            "INFO:tensorflow:loss = 0.5109165, step = 8101 (0.073 sec)\n",
            "INFO:tensorflow:global_step/sec: 1387.78\n",
            "INFO:tensorflow:loss = 0.6487806, step = 8201 (0.074 sec)\n",
            "INFO:tensorflow:global_step/sec: 1443.41\n",
            "INFO:tensorflow:loss = 0.91684896, step = 8301 (0.067 sec)\n",
            "INFO:tensorflow:global_step/sec: 1389.27\n",
            "INFO:tensorflow:loss = 0.0019528858, step = 8401 (0.072 sec)\n",
            "INFO:tensorflow:global_step/sec: 1384.72\n",
            "INFO:tensorflow:loss = 0.9030609, step = 8501 (0.071 sec)\n",
            "INFO:tensorflow:global_step/sec: 1421.62\n",
            "INFO:tensorflow:loss = 0.63307935, step = 8601 (0.073 sec)\n",
            "INFO:tensorflow:global_step/sec: 1428.3\n",
            "INFO:tensorflow:loss = 0.7465184, step = 8701 (0.070 sec)\n",
            "INFO:tensorflow:global_step/sec: 1381.32\n",
            "INFO:tensorflow:loss = 0.5976101, step = 8801 (0.072 sec)\n",
            "INFO:tensorflow:global_step/sec: 1402.66\n",
            "INFO:tensorflow:loss = 1.3301795, step = 8901 (0.069 sec)\n",
            "INFO:tensorflow:global_step/sec: 1427.94\n"
          ],
          "name": "stdout"
        },
        {
          "output_type": "stream",
          "text": [
            "INFO:tensorflow:loss = 0.64655924, step = 9001 (0.069 sec)\n",
            "INFO:tensorflow:global_step/sec: 1384.78\n",
            "INFO:tensorflow:loss = 0.49456277, step = 9101 (0.072 sec)\n",
            "INFO:tensorflow:global_step/sec: 1416.37\n",
            "INFO:tensorflow:loss = 0.35537645, step = 9201 (0.071 sec)\n",
            "INFO:tensorflow:global_step/sec: 1443.03\n",
            "INFO:tensorflow:loss = 0.13777465, step = 9301 (0.073 sec)\n",
            "INFO:tensorflow:global_step/sec: 1385.85\n",
            "INFO:tensorflow:loss = 0.17232567, step = 9401 (0.071 sec)\n",
            "INFO:tensorflow:global_step/sec: 1331.25\n",
            "INFO:tensorflow:loss = 0.12065931, step = 9501 (0.072 sec)\n",
            "INFO:tensorflow:global_step/sec: 1485.7\n",
            "INFO:tensorflow:loss = 0.13585554, step = 9601 (0.067 sec)\n",
            "INFO:tensorflow:global_step/sec: 1449.31\n",
            "INFO:tensorflow:loss = 0.49039876, step = 9701 (0.069 sec)\n",
            "INFO:tensorflow:global_step/sec: 1403.87\n",
            "INFO:tensorflow:loss = 1.0306761, step = 9801 (0.075 sec)\n",
            "INFO:tensorflow:global_step/sec: 1315.62\n",
            "INFO:tensorflow:loss = 0.0016563518, step = 9901 (0.073 sec)\n",
            "INFO:tensorflow:global_step/sec: 1403.2\n",
            "INFO:tensorflow:loss = 0.0017955862, step = 10001 (0.072 sec)\n",
            "INFO:tensorflow:global_step/sec: 1467.29\n",
            "INFO:tensorflow:loss = 0.3703823, step = 10101 (0.070 sec)\n",
            "INFO:tensorflow:global_step/sec: 1338.99\n",
            "INFO:tensorflow:loss = 0.0015561387, step = 10201 (0.075 sec)\n",
            "INFO:tensorflow:global_step/sec: 1348.42\n",
            "INFO:tensorflow:loss = 0.41071913, step = 10301 (0.072 sec)\n",
            "INFO:tensorflow:global_step/sec: 1451.19\n",
            "INFO:tensorflow:loss = 0.3801868, step = 10401 (0.073 sec)\n",
            "INFO:tensorflow:global_step/sec: 1379.01\n",
            "INFO:tensorflow:loss = 1.0994487, step = 10501 (0.072 sec)\n",
            "INFO:tensorflow:global_step/sec: 1361.84\n",
            "INFO:tensorflow:loss = 0.27574885, step = 10601 (0.070 sec)\n",
            "INFO:tensorflow:global_step/sec: 1436.58\n",
            "INFO:tensorflow:loss = 0.0017425128, step = 10701 (0.074 sec)\n",
            "INFO:tensorflow:global_step/sec: 1404.35\n",
            "INFO:tensorflow:loss = 0.9563136, step = 10801 (0.067 sec)\n",
            "INFO:tensorflow:global_step/sec: 1423.63\n",
            "INFO:tensorflow:loss = 1.182189, step = 10901 (0.070 sec)\n",
            "INFO:tensorflow:global_step/sec: 1350.03\n",
            "INFO:tensorflow:loss = 0.0016638496, step = 11001 (0.074 sec)\n",
            "INFO:tensorflow:global_step/sec: 1462.28\n",
            "INFO:tensorflow:loss = 0.631235, step = 11101 (0.068 sec)\n",
            "INFO:tensorflow:global_step/sec: 1388.26\n",
            "INFO:tensorflow:loss = 0.0014754373, step = 11201 (0.073 sec)\n",
            "INFO:tensorflow:global_step/sec: 1432.16\n",
            "INFO:tensorflow:loss = 1.5468488, step = 11301 (0.069 sec)\n",
            "INFO:tensorflow:global_step/sec: 1386.03\n",
            "INFO:tensorflow:loss = 0.1418426, step = 11401 (0.073 sec)\n",
            "INFO:tensorflow:global_step/sec: 1409.71\n",
            "INFO:tensorflow:loss = 1.310965, step = 11501 (0.071 sec)\n",
            "INFO:tensorflow:global_step/sec: 1406.69\n",
            "INFO:tensorflow:loss = 0.26335236, step = 11601 (0.074 sec)\n",
            "INFO:tensorflow:global_step/sec: 1353.87\n",
            "INFO:tensorflow:loss = 0.0015325717, step = 11701 (0.070 sec)\n",
            "INFO:tensorflow:global_step/sec: 1436.46\n",
            "INFO:tensorflow:loss = 0.41376024, step = 11801 (0.070 sec)\n",
            "INFO:tensorflow:global_step/sec: 1465.05\n",
            "INFO:tensorflow:loss = 0.0011318475, step = 11901 (0.068 sec)\n",
            "INFO:tensorflow:global_step/sec: 1410.02\n",
            "INFO:tensorflow:loss = 0.10471072, step = 12001 (0.075 sec)\n",
            "INFO:tensorflow:global_step/sec: 1380.96\n"
          ],
          "name": "stdout"
        },
        {
          "output_type": "stream",
          "text": [
            "INFO:tensorflow:loss = 1.0490785, step = 12101 (0.072 sec)\n",
            "INFO:tensorflow:global_step/sec: 1391.04\n",
            "INFO:tensorflow:loss = 0.6593343, step = 12201 (0.070 sec)\n",
            "INFO:tensorflow:global_step/sec: 1432.4\n",
            "INFO:tensorflow:loss = 0.34381515, step = 12301 (0.072 sec)\n",
            "INFO:tensorflow:global_step/sec: 1355.08\n",
            "INFO:tensorflow:loss = 1.4760182, step = 12401 (0.070 sec)\n",
            "INFO:tensorflow:global_step/sec: 1439.97\n",
            "INFO:tensorflow:loss = 0.17057714, step = 12501 (0.072 sec)\n",
            "INFO:tensorflow:global_step/sec: 1417.73\n",
            "INFO:tensorflow:loss = 0.54470116, step = 12601 (0.068 sec)\n",
            "INFO:tensorflow:global_step/sec: 1443.46\n",
            "INFO:tensorflow:loss = 0.5733899, step = 12701 (0.069 sec)\n",
            "INFO:tensorflow:global_step/sec: 1379.91\n",
            "INFO:tensorflow:loss = 0.31003684, step = 12801 (0.073 sec)\n",
            "INFO:tensorflow:global_step/sec: 1413.78\n",
            "INFO:tensorflow:loss = 0.5803157, step = 12901 (0.074 sec)\n",
            "INFO:tensorflow:global_step/sec: 1410.5\n",
            "INFO:tensorflow:loss = 0.00134973, step = 13001 (0.068 sec)\n",
            "INFO:tensorflow:global_step/sec: 1396.41\n",
            "INFO:tensorflow:loss = 0.12276236, step = 13101 (0.071 sec)\n",
            "INFO:tensorflow:global_step/sec: 1420.94\n",
            "INFO:tensorflow:loss = 0.11523189, step = 13201 (0.071 sec)\n",
            "INFO:tensorflow:global_step/sec: 1409.53\n",
            "INFO:tensorflow:loss = 0.0905509, step = 13301 (0.071 sec)\n",
            "INFO:tensorflow:global_step/sec: 1354.21\n",
            "INFO:tensorflow:loss = 0.9918395, step = 13401 (0.077 sec)\n",
            "INFO:tensorflow:global_step/sec: 1418.82\n",
            "INFO:tensorflow:loss = 0.0011225597, step = 13501 (0.067 sec)\n",
            "INFO:tensorflow:global_step/sec: 1435.07\n",
            "INFO:tensorflow:loss = 0.5378821, step = 13601 (0.069 sec)\n",
            "INFO:tensorflow:global_step/sec: 1366.64\n",
            "INFO:tensorflow:loss = 0.0013267533, step = 13701 (0.074 sec)\n",
            "INFO:tensorflow:global_step/sec: 1414.54\n",
            "INFO:tensorflow:loss = 0.0014879357, step = 13801 (0.073 sec)\n",
            "INFO:tensorflow:global_step/sec: 1390.25\n",
            "INFO:tensorflow:loss = 0.0012426997, step = 13901 (0.069 sec)\n",
            "INFO:tensorflow:global_step/sec: 1457.9\n",
            "INFO:tensorflow:loss = 0.12193623, step = 14001 (0.071 sec)\n",
            "INFO:tensorflow:global_step/sec: 1389.75\n",
            "INFO:tensorflow:loss = 0.4445198, step = 14101 (0.069 sec)\n",
            "INFO:tensorflow:global_step/sec: 1450.61\n",
            "INFO:tensorflow:loss = 0.10274478, step = 14201 (0.070 sec)\n",
            "INFO:tensorflow:global_step/sec: 1469.57\n",
            "INFO:tensorflow:loss = 0.40839946, step = 14301 (0.067 sec)\n",
            "INFO:tensorflow:global_step/sec: 1428.29\n",
            "INFO:tensorflow:loss = 0.5126971, step = 14401 (0.072 sec)\n",
            "INFO:tensorflow:global_step/sec: 1295.07\n",
            "INFO:tensorflow:loss = 0.11755869, step = 14501 (0.080 sec)\n",
            "INFO:tensorflow:global_step/sec: 1379.94\n",
            "INFO:tensorflow:loss = 0.106661014, step = 14601 (0.068 sec)\n",
            "INFO:tensorflow:global_step/sec: 1423.78\n",
            "INFO:tensorflow:loss = 0.0009517907, step = 14701 (0.071 sec)\n",
            "INFO:tensorflow:global_step/sec: 1361.12\n",
            "INFO:tensorflow:loss = 0.45192176, step = 14801 (0.075 sec)\n",
            "INFO:tensorflow:global_step/sec: 1411.82\n",
            "INFO:tensorflow:loss = 0.3760261, step = 14901 (0.069 sec)\n",
            "INFO:tensorflow:global_step/sec: 1441.63\n",
            "INFO:tensorflow:loss = 0.40342137, step = 15001 (0.070 sec)\n",
            "INFO:tensorflow:global_step/sec: 1368.77\n",
            "INFO:tensorflow:loss = 0.34955952, step = 15101 (0.072 sec)\n",
            "INFO:tensorflow:global_step/sec: 1367.19\n"
          ],
          "name": "stdout"
        },
        {
          "output_type": "stream",
          "text": [
            "INFO:tensorflow:loss = 0.00092940044, step = 15201 (0.073 sec)\n",
            "INFO:tensorflow:global_step/sec: 1438.8\n",
            "INFO:tensorflow:loss = 0.5503292, step = 15301 (0.070 sec)\n",
            "INFO:tensorflow:global_step/sec: 1408.3\n",
            "INFO:tensorflow:loss = 0.09970639, step = 15401 (0.071 sec)\n",
            "INFO:tensorflow:global_step/sec: 1463.42\n",
            "INFO:tensorflow:loss = 1.2614028, step = 15501 (0.068 sec)\n",
            "INFO:tensorflow:global_step/sec: 1443.82\n",
            "INFO:tensorflow:loss = 0.09788214, step = 15601 (0.070 sec)\n",
            "INFO:tensorflow:global_step/sec: 1420.08\n",
            "INFO:tensorflow:loss = 0.7472572, step = 15701 (0.070 sec)\n",
            "INFO:tensorflow:global_step/sec: 1485.2\n",
            "INFO:tensorflow:loss = 0.0011626873, step = 15801 (0.068 sec)\n",
            "INFO:tensorflow:global_step/sec: 1404.2\n",
            "INFO:tensorflow:loss = 0.7182027, step = 15901 (0.071 sec)\n",
            "INFO:tensorflow:global_step/sec: 1422.74\n",
            "INFO:tensorflow:loss = 0.001107675, step = 16001 (0.069 sec)\n",
            "INFO:tensorflow:global_step/sec: 1439.61\n",
            "INFO:tensorflow:loss = 0.0010106224, step = 16101 (0.070 sec)\n",
            "INFO:tensorflow:global_step/sec: 1456.7\n",
            "INFO:tensorflow:loss = 0.7400369, step = 16201 (0.071 sec)\n",
            "INFO:tensorflow:global_step/sec: 1395.75\n",
            "INFO:tensorflow:loss = 0.42888668, step = 16301 (0.069 sec)\n",
            "INFO:tensorflow:global_step/sec: 1418.73\n",
            "INFO:tensorflow:loss = 0.7591419, step = 16401 (0.071 sec)\n",
            "INFO:tensorflow:global_step/sec: 1488.18\n",
            "INFO:tensorflow:loss = 0.11640816, step = 16501 (0.069 sec)\n",
            "INFO:tensorflow:global_step/sec: 1369.47\n",
            "INFO:tensorflow:loss = 0.57275677, step = 16601 (0.071 sec)\n",
            "INFO:tensorflow:global_step/sec: 1442.55\n",
            "INFO:tensorflow:loss = 0.43691024, step = 16701 (0.069 sec)\n",
            "INFO:tensorflow:global_step/sec: 1368.12\n",
            "INFO:tensorflow:loss = 0.7261114, step = 16801 (0.074 sec)\n",
            "INFO:tensorflow:global_step/sec: 1414.13\n",
            "INFO:tensorflow:loss = 0.0011330382, step = 16901 (0.073 sec)\n",
            "INFO:tensorflow:global_step/sec: 1417.72\n",
            "INFO:tensorflow:loss = 0.10815506, step = 17001 (0.070 sec)\n",
            "INFO:tensorflow:global_step/sec: 1310.59\n",
            "INFO:tensorflow:loss = 0.07871248, step = 17101 (0.076 sec)\n",
            "INFO:tensorflow:global_step/sec: 1389.2\n",
            "INFO:tensorflow:loss = 0.00087580463, step = 17201 (0.070 sec)\n",
            "INFO:tensorflow:global_step/sec: 1415.84\n",
            "INFO:tensorflow:loss = 0.09107539, step = 17301 (0.073 sec)\n",
            "INFO:tensorflow:global_step/sec: 1397.91\n",
            "INFO:tensorflow:loss = 0.39637265, step = 17401 (0.072 sec)\n",
            "INFO:tensorflow:global_step/sec: 1424.24\n",
            "INFO:tensorflow:loss = 0.0012182918, step = 17501 (0.067 sec)\n",
            "INFO:tensorflow:global_step/sec: 1470.59\n",
            "INFO:tensorflow:loss = 0.0012435331, step = 17601 (0.068 sec)\n",
            "INFO:tensorflow:global_step/sec: 1369.14\n",
            "INFO:tensorflow:loss = 0.929512, step = 17701 (0.075 sec)\n",
            "INFO:tensorflow:global_step/sec: 1367.2\n",
            "INFO:tensorflow:loss = 0.0696901, step = 17801 (0.071 sec)\n",
            "INFO:tensorflow:global_step/sec: 1440.09\n",
            "INFO:tensorflow:loss = 0.10317583, step = 17901 (0.069 sec)\n",
            "INFO:tensorflow:global_step/sec: 1368.59\n",
            "INFO:tensorflow:loss = 1.068674, step = 18001 (0.074 sec)\n",
            "INFO:tensorflow:global_step/sec: 1456.45\n",
            "INFO:tensorflow:loss = 0.10064551, step = 18101 (0.068 sec)\n",
            "INFO:tensorflow:global_step/sec: 1488.25\n",
            "INFO:tensorflow:loss = 0.32700998, step = 18201 (0.070 sec)\n",
            "INFO:tensorflow:global_step/sec: 1349.15\n"
          ],
          "name": "stdout"
        },
        {
          "output_type": "stream",
          "text": [
            "INFO:tensorflow:loss = 0.19825222, step = 18301 (0.072 sec)\n",
            "INFO:tensorflow:global_step/sec: 1437.12\n",
            "INFO:tensorflow:loss = 0.41012508, step = 18401 (0.070 sec)\n",
            "INFO:tensorflow:global_step/sec: 1432.7\n",
            "INFO:tensorflow:loss = 0.59428847, step = 18501 (0.070 sec)\n",
            "INFO:tensorflow:global_step/sec: 1410.43\n",
            "INFO:tensorflow:loss = 0.0009423821, step = 18601 (0.071 sec)\n",
            "INFO:tensorflow:global_step/sec: 1403.03\n",
            "INFO:tensorflow:loss = 0.0009924016, step = 18701 (0.071 sec)\n",
            "INFO:tensorflow:global_step/sec: 1395.13\n",
            "INFO:tensorflow:loss = 0.58220863, step = 18801 (0.071 sec)\n",
            "INFO:tensorflow:global_step/sec: 1380.62\n",
            "INFO:tensorflow:loss = 0.09800557, step = 18901 (0.072 sec)\n",
            "INFO:tensorflow:global_step/sec: 1426.11\n",
            "INFO:tensorflow:loss = 0.0010537315, step = 19001 (0.070 sec)\n",
            "INFO:tensorflow:global_step/sec: 1405.42\n",
            "INFO:tensorflow:loss = 0.0008721124, step = 19101 (0.071 sec)\n",
            "INFO:tensorflow:global_step/sec: 1416.69\n",
            "INFO:tensorflow:loss = 0.092276715, step = 19201 (0.070 sec)\n",
            "INFO:tensorflow:global_step/sec: 1457.46\n",
            "INFO:tensorflow:loss = 0.8046154, step = 19301 (0.069 sec)\n",
            "INFO:tensorflow:global_step/sec: 1401.1\n",
            "INFO:tensorflow:loss = 0.0007689618, step = 19401 (0.071 sec)\n",
            "INFO:tensorflow:global_step/sec: 1443.89\n",
            "INFO:tensorflow:loss = 0.09140346, step = 19501 (0.069 sec)\n",
            "INFO:tensorflow:global_step/sec: 1370.15\n",
            "INFO:tensorflow:loss = 0.3415488, step = 19601 (0.073 sec)\n",
            "INFO:tensorflow:global_step/sec: 1442.75\n",
            "INFO:tensorflow:loss = 0.0009202298, step = 19701 (0.069 sec)\n",
            "INFO:tensorflow:global_step/sec: 1462.71\n",
            "INFO:tensorflow:loss = 0.8264598, step = 19801 (0.068 sec)\n",
            "INFO:tensorflow:global_step/sec: 1461.73\n",
            "INFO:tensorflow:loss = 0.47359025, step = 19901 (0.071 sec)\n",
            "INFO:tensorflow:global_step/sec: 1179.33\n",
            "INFO:tensorflow:loss = 0.80801845, step = 20001 (0.082 sec)\n",
            "INFO:tensorflow:global_step/sec: 1400.8\n",
            "INFO:tensorflow:loss = 1.0219848, step = 20101 (0.072 sec)\n",
            "INFO:tensorflow:global_step/sec: 1420.11\n",
            "INFO:tensorflow:loss = 0.5110069, step = 20201 (0.070 sec)\n",
            "INFO:tensorflow:global_step/sec: 1451.25\n",
            "INFO:tensorflow:loss = 0.3524139, step = 20301 (0.069 sec)\n",
            "INFO:tensorflow:global_step/sec: 1427.47\n",
            "INFO:tensorflow:loss = 0.0010050251, step = 20401 (0.071 sec)\n",
            "INFO:tensorflow:global_step/sec: 1478.49\n",
            "INFO:tensorflow:loss = 0.98546356, step = 20501 (0.069 sec)\n",
            "INFO:tensorflow:global_step/sec: 1380.52\n",
            "INFO:tensorflow:loss = 0.38735902, step = 20601 (0.071 sec)\n",
            "INFO:tensorflow:global_step/sec: 1420.29\n",
            "INFO:tensorflow:loss = 0.54104143, step = 20701 (0.070 sec)\n",
            "INFO:tensorflow:global_step/sec: 1426.79\n",
            "INFO:tensorflow:loss = 0.0010807632, step = 20801 (0.070 sec)\n",
            "INFO:tensorflow:global_step/sec: 1444.93\n",
            "INFO:tensorflow:loss = 0.000752047, step = 20901 (0.070 sec)\n",
            "INFO:tensorflow:global_step/sec: 1449.12\n",
            "INFO:tensorflow:loss = 0.066908404, step = 21001 (0.068 sec)\n",
            "INFO:tensorflow:global_step/sec: 1451.98\n",
            "INFO:tensorflow:loss = 0.29465216, step = 21101 (0.069 sec)\n",
            "INFO:tensorflow:global_step/sec: 1458.95\n",
            "INFO:tensorflow:loss = 0.0007859955, step = 21201 (0.069 sec)\n",
            "INFO:tensorflow:global_step/sec: 1479.38\n",
            "INFO:tensorflow:loss = 0.00083411706, step = 21301 (0.068 sec)\n",
            "INFO:tensorflow:global_step/sec: 1325.33\n"
          ],
          "name": "stdout"
        },
        {
          "output_type": "stream",
          "text": [
            "INFO:tensorflow:loss = 0.83300793, step = 21401 (0.075 sec)\n",
            "INFO:tensorflow:global_step/sec: 1413.92\n",
            "INFO:tensorflow:loss = 0.078834444, step = 21501 (0.071 sec)\n",
            "INFO:tensorflow:global_step/sec: 1453.28\n",
            "INFO:tensorflow:loss = 0.8091438, step = 21601 (0.069 sec)\n",
            "INFO:tensorflow:global_step/sec: 1283.2\n",
            "INFO:tensorflow:loss = 0.67621416, step = 21701 (0.081 sec)\n",
            "INFO:tensorflow:global_step/sec: 1362.59\n",
            "INFO:tensorflow:loss = 0.16096471, step = 21801 (0.071 sec)\n",
            "INFO:tensorflow:global_step/sec: 1327.5\n",
            "INFO:tensorflow:loss = 1.0974065, step = 21901 (0.077 sec)\n",
            "INFO:tensorflow:global_step/sec: 1395.96\n",
            "INFO:tensorflow:loss = 0.4521209, step = 22001 (0.069 sec)\n",
            "INFO:tensorflow:global_step/sec: 1465.53\n",
            "INFO:tensorflow:loss = 0.076141074, step = 22101 (0.071 sec)\n",
            "INFO:tensorflow:global_step/sec: 1332.14\n",
            "INFO:tensorflow:loss = 0.0009837078, step = 22201 (0.072 sec)\n",
            "INFO:tensorflow:global_step/sec: 1411.71\n",
            "INFO:tensorflow:loss = 1.3467596, step = 22301 (0.071 sec)\n",
            "INFO:tensorflow:global_step/sec: 1402.69\n",
            "INFO:tensorflow:loss = 0.10136996, step = 22401 (0.071 sec)\n",
            "INFO:tensorflow:global_step/sec: 1391.33\n",
            "INFO:tensorflow:loss = 0.00079481, step = 22501 (0.072 sec)\n",
            "INFO:tensorflow:global_step/sec: 1424.45\n",
            "INFO:tensorflow:loss = 0.56433743, step = 22601 (0.075 sec)\n",
            "INFO:tensorflow:global_step/sec: 1375.84\n",
            "INFO:tensorflow:loss = 0.07923815, step = 22701 (0.068 sec)\n",
            "INFO:tensorflow:global_step/sec: 1330.12\n",
            "INFO:tensorflow:loss = 0.8020085, step = 22801 (0.075 sec)\n",
            "INFO:tensorflow:global_step/sec: 1416.26\n",
            "INFO:tensorflow:loss = 0.09961899, step = 22901 (0.070 sec)\n",
            "INFO:tensorflow:global_step/sec: 1397.49\n",
            "INFO:tensorflow:loss = 0.0006891498, step = 23001 (0.072 sec)\n",
            "INFO:tensorflow:global_step/sec: 1349.03\n",
            "INFO:tensorflow:loss = 0.00068843504, step = 23101 (0.079 sec)\n",
            "INFO:tensorflow:global_step/sec: 1365.25\n",
            "INFO:tensorflow:loss = 0.08270831, step = 23201 (0.069 sec)\n",
            "INFO:tensorflow:global_step/sec: 1413.55\n",
            "INFO:tensorflow:loss = 0.3486337, step = 23301 (0.071 sec)\n",
            "INFO:tensorflow:global_step/sec: 1361.75\n",
            "INFO:tensorflow:loss = 0.46347204, step = 23401 (0.074 sec)\n",
            "INFO:tensorflow:global_step/sec: 1370.83\n",
            "INFO:tensorflow:loss = 0.00088628585, step = 23501 (0.072 sec)\n",
            "INFO:tensorflow:global_step/sec: 1401.42\n",
            "INFO:tensorflow:loss = 0.0006432848, step = 23601 (0.076 sec)\n",
            "INFO:tensorflow:global_step/sec: 1300.18\n",
            "INFO:tensorflow:loss = 0.47358578, step = 23701 (0.077 sec)\n",
            "INFO:tensorflow:global_step/sec: 1396.04\n",
            "INFO:tensorflow:loss = 0.62457633, step = 23801 (0.067 sec)\n",
            "INFO:tensorflow:global_step/sec: 1436.79\n",
            "INFO:tensorflow:loss = 0.07197256, step = 23901 (0.074 sec)\n",
            "INFO:tensorflow:global_step/sec: 1327.04\n",
            "INFO:tensorflow:loss = 0.48036125, step = 24001 (0.071 sec)\n",
            "INFO:tensorflow:global_step/sec: 1392.17\n",
            "INFO:tensorflow:loss = 0.06613109, step = 24101 (0.074 sec)\n",
            "INFO:tensorflow:global_step/sec: 1387.46\n",
            "INFO:tensorflow:loss = 1.4088448, step = 24201 (0.070 sec)\n",
            "INFO:tensorflow:global_step/sec: 1347.26\n",
            "INFO:tensorflow:loss = 0.0008249456, step = 24301 (0.075 sec)\n",
            "INFO:tensorflow:global_step/sec: 1411.03\n",
            "INFO:tensorflow:loss = 0.09247518, step = 24401 (0.070 sec)\n",
            "INFO:tensorflow:global_step/sec: 1399.36\n"
          ],
          "name": "stdout"
        },
        {
          "output_type": "stream",
          "text": [
            "INFO:tensorflow:loss = 0.00072262395, step = 24501 (0.072 sec)\n",
            "INFO:tensorflow:global_step/sec: 1254.95\n",
            "INFO:tensorflow:loss = 0.06720382, step = 24601 (0.080 sec)\n",
            "INFO:tensorflow:global_step/sec: 1296.82\n",
            "INFO:tensorflow:loss = 0.29872674, step = 24701 (0.079 sec)\n",
            "INFO:tensorflow:global_step/sec: 1331.6\n",
            "INFO:tensorflow:loss = 0.51530164, step = 24801 (0.073 sec)\n",
            "INFO:tensorflow:global_step/sec: 1336.1\n",
            "INFO:tensorflow:loss = 0.50854117, step = 24901 (0.075 sec)\n",
            "INFO:tensorflow:global_step/sec: 1318.79\n",
            "INFO:tensorflow:loss = 0.6529239, step = 25001 (0.076 sec)\n",
            "INFO:tensorflow:global_step/sec: 1379.86\n",
            "INFO:tensorflow:loss = 0.31278843, step = 25101 (0.072 sec)\n",
            "INFO:tensorflow:global_step/sec: 1400.17\n",
            "INFO:tensorflow:loss = 0.61988264, step = 25201 (0.072 sec)\n",
            "INFO:tensorflow:global_step/sec: 1363.42\n",
            "INFO:tensorflow:loss = 0.06508961, step = 25301 (0.073 sec)\n",
            "INFO:tensorflow:global_step/sec: 1306.48\n",
            "INFO:tensorflow:loss = 0.00074025407, step = 25401 (0.079 sec)\n",
            "INFO:tensorflow:global_step/sec: 1350.86\n",
            "INFO:tensorflow:loss = 1.1813474, step = 25501 (0.074 sec)\n",
            "INFO:tensorflow:global_step/sec: 1350.87\n",
            "INFO:tensorflow:loss = 0.09693371, step = 25601 (0.074 sec)\n",
            "INFO:tensorflow:global_step/sec: 1379.28\n",
            "INFO:tensorflow:loss = 0.3728577, step = 25701 (0.070 sec)\n",
            "INFO:tensorflow:global_step/sec: 1300.58\n",
            "INFO:tensorflow:loss = 0.5660434, step = 25801 (0.077 sec)\n",
            "INFO:tensorflow:global_step/sec: 1382.72\n",
            "INFO:tensorflow:loss = 0.08505839, step = 25901 (0.072 sec)\n",
            "INFO:tensorflow:global_step/sec: 1399.57\n",
            "INFO:tensorflow:loss = 0.67897594, step = 26001 (0.071 sec)\n",
            "INFO:tensorflow:global_step/sec: 1357.5\n",
            "INFO:tensorflow:loss = 0.00066591974, step = 26101 (0.074 sec)\n",
            "INFO:tensorflow:global_step/sec: 1366.68\n",
            "INFO:tensorflow:loss = 0.84134746, step = 26201 (0.073 sec)\n",
            "INFO:tensorflow:global_step/sec: 1425.13\n",
            "INFO:tensorflow:loss = 0.070831865, step = 26301 (0.070 sec)\n",
            "INFO:tensorflow:global_step/sec: 1293.42\n",
            "INFO:tensorflow:loss = 0.40398112, step = 26401 (0.077 sec)\n",
            "INFO:tensorflow:global_step/sec: 1382.96\n",
            "INFO:tensorflow:loss = 0.4053582, step = 26501 (0.073 sec)\n",
            "INFO:tensorflow:global_step/sec: 1451.51\n",
            "INFO:tensorflow:loss = 0.0007565735, step = 26601 (0.069 sec)\n",
            "INFO:tensorflow:global_step/sec: 1366.79\n",
            "INFO:tensorflow:loss = 0.00065102836, step = 26701 (0.072 sec)\n",
            "INFO:tensorflow:global_step/sec: 1472.6\n",
            "INFO:tensorflow:loss = 0.33547437, step = 26801 (0.069 sec)\n",
            "INFO:tensorflow:global_step/sec: 1428.4\n",
            "INFO:tensorflow:loss = 0.064912334, step = 26901 (0.069 sec)\n",
            "INFO:tensorflow:global_step/sec: 1362.42\n",
            "INFO:tensorflow:loss = 0.00063041836, step = 27001 (0.074 sec)\n",
            "INFO:tensorflow:global_step/sec: 1443.22\n",
            "INFO:tensorflow:loss = 0.07087862, step = 27101 (0.069 sec)\n",
            "INFO:tensorflow:global_step/sec: 1437.25\n",
            "INFO:tensorflow:loss = 1.2343627, step = 27201 (0.070 sec)\n",
            "INFO:tensorflow:global_step/sec: 1467\n",
            "INFO:tensorflow:loss = 0.4342846, step = 27301 (0.069 sec)\n",
            "INFO:tensorflow:global_step/sec: 1347.26\n",
            "INFO:tensorflow:loss = 0.16298416, step = 27401 (0.073 sec)\n",
            "INFO:tensorflow:global_step/sec: 1386.95\n",
            "INFO:tensorflow:loss = 0.71129584, step = 27501 (0.076 sec)\n",
            "INFO:tensorflow:global_step/sec: 1348.92\n"
          ],
          "name": "stdout"
        },
        {
          "output_type": "stream",
          "text": [
            "INFO:tensorflow:loss = 0.8875049, step = 27601 (0.071 sec)\n",
            "INFO:tensorflow:global_step/sec: 1438.6\n",
            "INFO:tensorflow:loss = 0.09224899, step = 27701 (0.069 sec)\n",
            "INFO:tensorflow:global_step/sec: 1376.21\n",
            "INFO:tensorflow:loss = 0.5841892, step = 27801 (0.073 sec)\n",
            "INFO:tensorflow:global_step/sec: 1365.71\n",
            "INFO:tensorflow:loss = 0.9635234, step = 27901 (0.073 sec)\n",
            "INFO:tensorflow:global_step/sec: 1389.7\n",
            "INFO:tensorflow:loss = 0.065546796, step = 28001 (0.076 sec)\n",
            "INFO:tensorflow:global_step/sec: 1366.63\n",
            "INFO:tensorflow:loss = 0.00073036697, step = 28101 (0.069 sec)\n",
            "INFO:tensorflow:global_step/sec: 1343.97\n",
            "INFO:tensorflow:loss = 0.47682518, step = 28201 (0.075 sec)\n",
            "INFO:tensorflow:global_step/sec: 1384.34\n",
            "INFO:tensorflow:loss = 0.060680047, step = 28301 (0.074 sec)\n",
            "INFO:tensorflow:global_step/sec: 1474.25\n",
            "INFO:tensorflow:loss = 0.06758372, step = 28401 (0.066 sec)\n",
            "INFO:tensorflow:global_step/sec: 1363.87\n",
            "INFO:tensorflow:loss = 0.535323, step = 28501 (0.073 sec)\n",
            "INFO:tensorflow:global_step/sec: 1489.28\n",
            "INFO:tensorflow:loss = 0.33138347, step = 28601 (0.067 sec)\n",
            "INFO:tensorflow:global_step/sec: 1466.53\n",
            "INFO:tensorflow:loss = 0.061497357, step = 28701 (0.068 sec)\n",
            "INFO:tensorflow:global_step/sec: 1323.46\n",
            "INFO:tensorflow:loss = 0.79939145, step = 28801 (0.077 sec)\n",
            "INFO:tensorflow:global_step/sec: 1405.68\n",
            "INFO:tensorflow:loss = 0.60447174, step = 28901 (0.070 sec)\n",
            "INFO:tensorflow:Saving checkpoints for 29000 into /tmp/tmp4njobtu9/model.ckpt.\n",
            "INFO:tensorflow:Loss for final step: 0.92955273.\n"
          ],
          "name": "stdout"
        },
        {
          "output_type": "execute_result",
          "data": {
            "text/plain": [
              "<tensorflow.python.estimator.canned.linear.LinearClassifier at 0x7f2a4820d7b8>"
            ]
          },
          "metadata": {
            "tags": []
          },
          "execution_count": 42
        }
      ]
    },
    {
      "metadata": {
        "id": "Mycdqye_b3Vi",
        "colab_type": "code",
        "colab": {
          "base_uri": "https://localhost:8080/",
          "height": 187
        },
        "outputId": "b08cbf08-0450-452a-a9bb-ef4fb2361322"
      },
      "cell_type": "code",
      "source": [
        "# Use it to predict.\n",
        "test = model.evaluate(steps=STEPS, input_fn=test_input_fn)"
      ],
      "execution_count": 43,
      "outputs": [
        {
          "output_type": "stream",
          "text": [
            "INFO:tensorflow:Calling model_fn.\n",
            "INFO:tensorflow:Done calling model_fn.\n",
            "INFO:tensorflow:Starting evaluation at 2018-07-26-07:45:41\n",
            "INFO:tensorflow:Graph was finalized.\n",
            "INFO:tensorflow:Restoring parameters from /tmp/tmp4njobtu9/model.ckpt-29000\n",
            "INFO:tensorflow:Running local_init_op.\n",
            "INFO:tensorflow:Done running local_init_op.\n",
            "INFO:tensorflow:Finished evaluation at 2018-07-26-07:45:42\n",
            "INFO:tensorflow:Saving dict for global step 29000: accuracy = 0.0, average_loss = 15.7104645, global_step = 29000, loss = 15.7104645\n",
            "INFO:tensorflow:Saving 'checkpoint_path' summary for global step 29000: /tmp/tmp4njobtu9/model.ckpt-29000\n"
          ],
          "name": "stdout"
        }
      ]
    }
  ]
}