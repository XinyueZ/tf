{
  "nbformat": 4,
  "nbformat_minor": 0,
  "metadata": {
    "colab": {
      "name": "price_rooms_estimator.ipynb",
      "version": "0.3.2",
      "provenance": [],
      "collapsed_sections": [],
      "include_colab_link": true
    },
    "kernelspec": {
      "name": "python3",
      "display_name": "Python 3"
    },
    "accelerator": "GPU"
  },
  "cells": [
    {
      "cell_type": "markdown",
      "metadata": {
        "id": "view-in-github",
        "colab_type": "text"
      },
      "source": [
        "[View in Colaboratory](https://colab.research.google.com/github/XinyueZ/tf/blob/master/ipynb/price_rooms_estimator.ipynb)"
      ]
    },
    {
      "metadata": {
        "id": "usywsvFLF2bo",
        "colab_type": "code",
        "colab": {}
      },
      "cell_type": "code",
      "source": [
        "import tensorflow as tf\n",
        "from tensorflow.python.data import Dataset\n",
        "import numpy as np\n",
        "import pandas as pd\n",
        "from sklearn.preprocessing import LabelEncoder"
      ],
      "execution_count": 0,
      "outputs": []
    },
    {
      "metadata": {
        "id": "M1XjwLH4P00k",
        "colab_type": "code",
        "colab": {}
      },
      "cell_type": "code",
      "source": [
        "tf.logging.set_verbosity(tf.logging.INFO)"
      ],
      "execution_count": 0,
      "outputs": []
    },
    {
      "metadata": {
        "id": "6gRBSBTfiO1x",
        "colab_type": "code",
        "colab": {
          "base_uri": "https://localhost:8080/",
          "height": 204
        },
        "outputId": "cb24bc7a-d2b5-41f6-802b-fa4a6106691c"
      },
      "cell_type": "code",
      "source": [
        "df = pd.read_csv(\"https://dl.dropbox.com/s/e2tcsgbcp2in5h5/price_rooms_area.tsv\", sep=\"\\t\")\n",
        "df = df[pd.notnull(df[\"PRICE\"])]\n",
        "df = df[pd.notnull(df[\"ROOMS\"])]\n",
        "df = df[pd.notnull(df[\"AREA\"])]\n",
        "df = df.drop([\"OBJECTCAT\"], axis=1)\n",
        "df = df[~df[\"MARKETINGTYPE\"].isin([\"Miete\"])]\n",
        "df.head()"
      ],
      "execution_count": 9,
      "outputs": [
        {
          "output_type": "execute_result",
          "data": {
            "text/html": [
              "<div>\n",
              "<style scoped>\n",
              "    .dataframe tbody tr th:only-of-type {\n",
              "        vertical-align: middle;\n",
              "    }\n",
              "\n",
              "    .dataframe tbody tr th {\n",
              "        vertical-align: top;\n",
              "    }\n",
              "\n",
              "    .dataframe thead th {\n",
              "        text-align: right;\n",
              "    }\n",
              "</style>\n",
              "<table border=\"1\" class=\"dataframe\">\n",
              "  <thead>\n",
              "    <tr style=\"text-align: right;\">\n",
              "      <th></th>\n",
              "      <th>PRICE</th>\n",
              "      <th>ROOMS</th>\n",
              "      <th>AREA</th>\n",
              "      <th>MARKETINGTYPE</th>\n",
              "    </tr>\n",
              "  </thead>\n",
              "  <tbody>\n",
              "    <tr>\n",
              "      <th>1</th>\n",
              "      <td>595000</td>\n",
              "      <td>9</td>\n",
              "      <td>440</td>\n",
              "      <td>Kauf</td>\n",
              "    </tr>\n",
              "    <tr>\n",
              "      <th>2</th>\n",
              "      <td>199000</td>\n",
              "      <td>6</td>\n",
              "      <td>135,75</td>\n",
              "      <td>Kauf</td>\n",
              "    </tr>\n",
              "    <tr>\n",
              "      <th>3</th>\n",
              "      <td>269000</td>\n",
              "      <td>9</td>\n",
              "      <td>203,57</td>\n",
              "      <td>Kauf</td>\n",
              "    </tr>\n",
              "    <tr>\n",
              "      <th>5</th>\n",
              "      <td>299000</td>\n",
              "      <td>5</td>\n",
              "      <td>140</td>\n",
              "      <td>Kauf</td>\n",
              "    </tr>\n",
              "    <tr>\n",
              "      <th>6</th>\n",
              "      <td>685000</td>\n",
              "      <td>8</td>\n",
              "      <td>380</td>\n",
              "      <td>Kauf</td>\n",
              "    </tr>\n",
              "  </tbody>\n",
              "</table>\n",
              "</div>"
            ],
            "text/plain": [
              "    PRICE ROOMS    AREA MARKETINGTYPE\n",
              "1  595000     9     440          Kauf\n",
              "2  199000     6  135,75          Kauf\n",
              "3  269000     9  203,57          Kauf\n",
              "5  299000     5     140          Kauf\n",
              "6  685000     8     380          Kauf"
            ]
          },
          "metadata": {
            "tags": []
          },
          "execution_count": 9
        }
      ]
    },
    {
      "metadata": {
        "id": "PWk86xsBDkch",
        "colab_type": "code",
        "colab": {}
      },
      "cell_type": "code",
      "source": [
        "def make_dataset_and_labels_and_class_num(df, label_name):\n",
        "  \"\"\"This method will prepare dataset, labels for train, evaluation, test and classes.\n",
        "     Args:\n",
        "      df: DataFrame format of datasource.\n",
        "      label_name: The name of column in datasource which will be as target for train.\n",
        "     Return: \n",
        "       Tuple of (ds_train, ds_eval, ds_test, label_train, label_eval, label_test, classes)\n",
        "      \n",
        "  \"\"\"\n",
        "  target_label_col = \"label\" #New column name in original table.\n",
        "  \n",
        "  encoder = LabelEncoder()\n",
        "  label = encoder.fit_transform(df[label_name])\n",
        "  df.insert(8, target_label_col, label) \n",
        "  result_fit = encoder.fit(df[label_name])\n",
        "  \n",
        "  random_seed = None\n",
        "  np.random.seed(random_seed)\n",
        "  \n",
        "  ds_train = df.sample(frac=0.9, random_state=random_seed)\n",
        "  label_train = ds_train[target_label_col]\n",
        "  \n",
        "  ds_rest = df.drop(ds_train.index)\n",
        "  \n",
        "  ds_eval = ds_rest.sample(frac=0.8, random_state=random_seed)\n",
        "  label_eval = ds_eval[target_label_col]\n",
        "  \n",
        "  ds_test = ds_rest.drop(ds_eval.index)\n",
        "  label_test = ds_test[target_label_col]\n",
        "  \n",
        "  return ds_train[[\"FTHG\", \"FTAG\"]], ds_eval[[\"FTHG\", \"FTAG\"]], ds_test[[\"FTHG\", \"FTAG\"]], label_train, label_eval, label_test, result_fit.classes_"
      ],
      "execution_count": 0,
      "outputs": []
    },
    {
      "metadata": {
        "id": "NgkHsXdun_dO",
        "colab_type": "code",
        "colab": {}
      },
      "cell_type": "code",
      "source": [
        "x_train, x_eval, x_test, y_train, y_eval, y_test, result_classes = make_dataset_and_labels_and_class_num(df, \"FTR\")"
      ],
      "execution_count": 0,
      "outputs": []
    },
    {
      "metadata": {
        "id": "akLoHfAXAqOi",
        "colab_type": "code",
        "colab": {
          "base_uri": "https://localhost:8080/",
          "height": 34
        },
        "outputId": "fb1d269d-8503-42d4-a845-7ebe3b650e58"
      },
      "cell_type": "code",
      "source": [
        "result_classes"
      ],
      "execution_count": 0,
      "outputs": [
        {
          "output_type": "execute_result",
          "data": {
            "text/plain": [
              "array(['A', 'D', 'H'], dtype=object)"
            ]
          },
          "metadata": {
            "tags": []
          },
          "execution_count": 106
        }
      ]
    },
    {
      "metadata": {
        "id": "mgVYA89XoHIV",
        "colab_type": "code",
        "colab": {
          "base_uri": "https://localhost:8080/",
          "height": 297
        },
        "outputId": "8c2203ae-589e-450e-e3cb-d3f2f285bebc"
      },
      "cell_type": "code",
      "source": [
        "x_train.describe()"
      ],
      "execution_count": 0,
      "outputs": [
        {
          "output_type": "execute_result",
          "data": {
            "text/html": [
              "<div>\n",
              "<style scoped>\n",
              "    .dataframe tbody tr th:only-of-type {\n",
              "        vertical-align: middle;\n",
              "    }\n",
              "\n",
              "    .dataframe tbody tr th {\n",
              "        vertical-align: top;\n",
              "    }\n",
              "\n",
              "    .dataframe thead th {\n",
              "        text-align: right;\n",
              "    }\n",
              "</style>\n",
              "<table border=\"1\" class=\"dataframe\">\n",
              "  <thead>\n",
              "    <tr style=\"text-align: right;\">\n",
              "      <th></th>\n",
              "      <th>FTHG</th>\n",
              "      <th>FTAG</th>\n",
              "    </tr>\n",
              "  </thead>\n",
              "  <tbody>\n",
              "    <tr>\n",
              "      <th>count</th>\n",
              "      <td>6885.000000</td>\n",
              "      <td>6885.000000</td>\n",
              "    </tr>\n",
              "    <tr>\n",
              "      <th>mean</th>\n",
              "      <td>1.664052</td>\n",
              "      <td>1.218010</td>\n",
              "    </tr>\n",
              "    <tr>\n",
              "      <th>std</th>\n",
              "      <td>1.335278</td>\n",
              "      <td>1.157785</td>\n",
              "    </tr>\n",
              "    <tr>\n",
              "      <th>min</th>\n",
              "      <td>0.000000</td>\n",
              "      <td>0.000000</td>\n",
              "    </tr>\n",
              "    <tr>\n",
              "      <th>25%</th>\n",
              "      <td>1.000000</td>\n",
              "      <td>0.000000</td>\n",
              "    </tr>\n",
              "    <tr>\n",
              "      <th>50%</th>\n",
              "      <td>1.000000</td>\n",
              "      <td>1.000000</td>\n",
              "    </tr>\n",
              "    <tr>\n",
              "      <th>75%</th>\n",
              "      <td>2.000000</td>\n",
              "      <td>2.000000</td>\n",
              "    </tr>\n",
              "    <tr>\n",
              "      <th>max</th>\n",
              "      <td>9.000000</td>\n",
              "      <td>9.000000</td>\n",
              "    </tr>\n",
              "  </tbody>\n",
              "</table>\n",
              "</div>"
            ],
            "text/plain": [
              "              FTHG         FTAG\n",
              "count  6885.000000  6885.000000\n",
              "mean      1.664052     1.218010\n",
              "std       1.335278     1.157785\n",
              "min       0.000000     0.000000\n",
              "25%       1.000000     0.000000\n",
              "50%       1.000000     1.000000\n",
              "75%       2.000000     2.000000\n",
              "max       9.000000     9.000000"
            ]
          },
          "metadata": {
            "tags": []
          },
          "execution_count": 107
        }
      ]
    },
    {
      "metadata": {
        "id": "oMlOOyPQoI1E",
        "colab_type": "code",
        "colab": {
          "base_uri": "https://localhost:8080/",
          "height": 297
        },
        "outputId": "db214d2f-6107-4a7a-f7a6-ad55ba0d4520"
      },
      "cell_type": "code",
      "source": [
        "x_eval.describe()"
      ],
      "execution_count": 0,
      "outputs": [
        {
          "output_type": "execute_result",
          "data": {
            "text/html": [
              "<div>\n",
              "<style scoped>\n",
              "    .dataframe tbody tr th:only-of-type {\n",
              "        vertical-align: middle;\n",
              "    }\n",
              "\n",
              "    .dataframe tbody tr th {\n",
              "        vertical-align: top;\n",
              "    }\n",
              "\n",
              "    .dataframe thead th {\n",
              "        text-align: right;\n",
              "    }\n",
              "</style>\n",
              "<table border=\"1\" class=\"dataframe\">\n",
              "  <thead>\n",
              "    <tr style=\"text-align: right;\">\n",
              "      <th></th>\n",
              "      <th>FTHG</th>\n",
              "      <th>FTAG</th>\n",
              "    </tr>\n",
              "  </thead>\n",
              "  <tbody>\n",
              "    <tr>\n",
              "      <th>count</th>\n",
              "      <td>612.000000</td>\n",
              "      <td>612.000000</td>\n",
              "    </tr>\n",
              "    <tr>\n",
              "      <th>mean</th>\n",
              "      <td>1.596405</td>\n",
              "      <td>1.151961</td>\n",
              "    </tr>\n",
              "    <tr>\n",
              "      <th>std</th>\n",
              "      <td>1.307984</td>\n",
              "      <td>1.146308</td>\n",
              "    </tr>\n",
              "    <tr>\n",
              "      <th>min</th>\n",
              "      <td>0.000000</td>\n",
              "      <td>0.000000</td>\n",
              "    </tr>\n",
              "    <tr>\n",
              "      <th>25%</th>\n",
              "      <td>1.000000</td>\n",
              "      <td>0.000000</td>\n",
              "    </tr>\n",
              "    <tr>\n",
              "      <th>50%</th>\n",
              "      <td>1.000000</td>\n",
              "      <td>1.000000</td>\n",
              "    </tr>\n",
              "    <tr>\n",
              "      <th>75%</th>\n",
              "      <td>2.000000</td>\n",
              "      <td>2.000000</td>\n",
              "    </tr>\n",
              "    <tr>\n",
              "      <th>max</th>\n",
              "      <td>7.000000</td>\n",
              "      <td>6.000000</td>\n",
              "    </tr>\n",
              "  </tbody>\n",
              "</table>\n",
              "</div>"
            ],
            "text/plain": [
              "             FTHG        FTAG\n",
              "count  612.000000  612.000000\n",
              "mean     1.596405    1.151961\n",
              "std      1.307984    1.146308\n",
              "min      0.000000    0.000000\n",
              "25%      1.000000    0.000000\n",
              "50%      1.000000    1.000000\n",
              "75%      2.000000    2.000000\n",
              "max      7.000000    6.000000"
            ]
          },
          "metadata": {
            "tags": []
          },
          "execution_count": 108
        }
      ]
    },
    {
      "metadata": {
        "id": "xciCTqS2ageV",
        "colab_type": "code",
        "colab": {
          "base_uri": "https://localhost:8080/",
          "height": 297
        },
        "outputId": "ed9b1181-ab43-4f96-9c72-fec7b1b9aad8"
      },
      "cell_type": "code",
      "source": [
        "x_test.describe()"
      ],
      "execution_count": 0,
      "outputs": [
        {
          "output_type": "execute_result",
          "data": {
            "text/html": [
              "<div>\n",
              "<style scoped>\n",
              "    .dataframe tbody tr th:only-of-type {\n",
              "        vertical-align: middle;\n",
              "    }\n",
              "\n",
              "    .dataframe tbody tr th {\n",
              "        vertical-align: top;\n",
              "    }\n",
              "\n",
              "    .dataframe thead th {\n",
              "        text-align: right;\n",
              "    }\n",
              "</style>\n",
              "<table border=\"1\" class=\"dataframe\">\n",
              "  <thead>\n",
              "    <tr style=\"text-align: right;\">\n",
              "      <th></th>\n",
              "      <th>FTHG</th>\n",
              "      <th>FTAG</th>\n",
              "    </tr>\n",
              "  </thead>\n",
              "  <tbody>\n",
              "    <tr>\n",
              "      <th>count</th>\n",
              "      <td>153.000000</td>\n",
              "      <td>153.000000</td>\n",
              "    </tr>\n",
              "    <tr>\n",
              "      <th>mean</th>\n",
              "      <td>1.732026</td>\n",
              "      <td>1.320261</td>\n",
              "    </tr>\n",
              "    <tr>\n",
              "      <th>std</th>\n",
              "      <td>1.292725</td>\n",
              "      <td>1.222883</td>\n",
              "    </tr>\n",
              "    <tr>\n",
              "      <th>min</th>\n",
              "      <td>0.000000</td>\n",
              "      <td>0.000000</td>\n",
              "    </tr>\n",
              "    <tr>\n",
              "      <th>25%</th>\n",
              "      <td>1.000000</td>\n",
              "      <td>0.000000</td>\n",
              "    </tr>\n",
              "    <tr>\n",
              "      <th>50%</th>\n",
              "      <td>2.000000</td>\n",
              "      <td>1.000000</td>\n",
              "    </tr>\n",
              "    <tr>\n",
              "      <th>75%</th>\n",
              "      <td>2.000000</td>\n",
              "      <td>2.000000</td>\n",
              "    </tr>\n",
              "    <tr>\n",
              "      <th>max</th>\n",
              "      <td>6.000000</td>\n",
              "      <td>5.000000</td>\n",
              "    </tr>\n",
              "  </tbody>\n",
              "</table>\n",
              "</div>"
            ],
            "text/plain": [
              "             FTHG        FTAG\n",
              "count  153.000000  153.000000\n",
              "mean     1.732026    1.320261\n",
              "std      1.292725    1.222883\n",
              "min      0.000000    0.000000\n",
              "25%      1.000000    0.000000\n",
              "50%      2.000000    1.000000\n",
              "75%      2.000000    2.000000\n",
              "max      6.000000    5.000000"
            ]
          },
          "metadata": {
            "tags": []
          },
          "execution_count": 109
        }
      ]
    },
    {
      "metadata": {
        "id": "Yi1g3htco3st",
        "colab_type": "code",
        "colab": {
          "base_uri": "https://localhost:8080/",
          "height": 204
        },
        "outputId": "ef98f8b7-b792-451c-d305-6486a816a1c4"
      },
      "cell_type": "code",
      "source": [
        "x_train.head()"
      ],
      "execution_count": 0,
      "outputs": [
        {
          "output_type": "execute_result",
          "data": {
            "text/html": [
              "<div>\n",
              "<style scoped>\n",
              "    .dataframe tbody tr th:only-of-type {\n",
              "        vertical-align: middle;\n",
              "    }\n",
              "\n",
              "    .dataframe tbody tr th {\n",
              "        vertical-align: top;\n",
              "    }\n",
              "\n",
              "    .dataframe thead th {\n",
              "        text-align: right;\n",
              "    }\n",
              "</style>\n",
              "<table border=\"1\" class=\"dataframe\">\n",
              "  <thead>\n",
              "    <tr style=\"text-align: right;\">\n",
              "      <th></th>\n",
              "      <th>FTHG</th>\n",
              "      <th>FTAG</th>\n",
              "    </tr>\n",
              "  </thead>\n",
              "  <tbody>\n",
              "    <tr>\n",
              "      <th>1286</th>\n",
              "      <td>3</td>\n",
              "      <td>0</td>\n",
              "    </tr>\n",
              "    <tr>\n",
              "      <th>4384</th>\n",
              "      <td>0</td>\n",
              "      <td>0</td>\n",
              "    </tr>\n",
              "    <tr>\n",
              "      <th>1833</th>\n",
              "      <td>4</td>\n",
              "      <td>5</td>\n",
              "    </tr>\n",
              "    <tr>\n",
              "      <th>7303</th>\n",
              "      <td>1</td>\n",
              "      <td>0</td>\n",
              "    </tr>\n",
              "    <tr>\n",
              "      <th>5365</th>\n",
              "      <td>5</td>\n",
              "      <td>1</td>\n",
              "    </tr>\n",
              "  </tbody>\n",
              "</table>\n",
              "</div>"
            ],
            "text/plain": [
              "      FTHG  FTAG\n",
              "1286     3     0\n",
              "4384     0     0\n",
              "1833     4     5\n",
              "7303     1     0\n",
              "5365     5     1"
            ]
          },
          "metadata": {
            "tags": []
          },
          "execution_count": 110
        }
      ]
    },
    {
      "metadata": {
        "id": "6VRcJQxqpInl",
        "colab_type": "code",
        "colab": {
          "base_uri": "https://localhost:8080/",
          "height": 204
        },
        "outputId": "4d897ddd-4f19-4e7b-b985-6a0b738b615a"
      },
      "cell_type": "code",
      "source": [
        "x_eval.head()"
      ],
      "execution_count": 0,
      "outputs": [
        {
          "output_type": "execute_result",
          "data": {
            "text/html": [
              "<div>\n",
              "<style scoped>\n",
              "    .dataframe tbody tr th:only-of-type {\n",
              "        vertical-align: middle;\n",
              "    }\n",
              "\n",
              "    .dataframe tbody tr th {\n",
              "        vertical-align: top;\n",
              "    }\n",
              "\n",
              "    .dataframe thead th {\n",
              "        text-align: right;\n",
              "    }\n",
              "</style>\n",
              "<table border=\"1\" class=\"dataframe\">\n",
              "  <thead>\n",
              "    <tr style=\"text-align: right;\">\n",
              "      <th></th>\n",
              "      <th>FTHG</th>\n",
              "      <th>FTAG</th>\n",
              "    </tr>\n",
              "  </thead>\n",
              "  <tbody>\n",
              "    <tr>\n",
              "      <th>2946</th>\n",
              "      <td>2</td>\n",
              "      <td>0</td>\n",
              "    </tr>\n",
              "    <tr>\n",
              "      <th>3899</th>\n",
              "      <td>1</td>\n",
              "      <td>0</td>\n",
              "    </tr>\n",
              "    <tr>\n",
              "      <th>744</th>\n",
              "      <td>0</td>\n",
              "      <td>2</td>\n",
              "    </tr>\n",
              "    <tr>\n",
              "      <th>3389</th>\n",
              "      <td>0</td>\n",
              "      <td>2</td>\n",
              "    </tr>\n",
              "    <tr>\n",
              "      <th>5859</th>\n",
              "      <td>2</td>\n",
              "      <td>2</td>\n",
              "    </tr>\n",
              "  </tbody>\n",
              "</table>\n",
              "</div>"
            ],
            "text/plain": [
              "      FTHG  FTAG\n",
              "2946     2     0\n",
              "3899     1     0\n",
              "744      0     2\n",
              "3389     0     2\n",
              "5859     2     2"
            ]
          },
          "metadata": {
            "tags": []
          },
          "execution_count": 111
        }
      ]
    },
    {
      "metadata": {
        "id": "g5fkf_HZaj2u",
        "colab_type": "code",
        "colab": {
          "base_uri": "https://localhost:8080/",
          "height": 204
        },
        "outputId": "ae09a046-05af-4988-b446-b5bc3e47ffbf"
      },
      "cell_type": "code",
      "source": [
        "x_test.head()"
      ],
      "execution_count": 0,
      "outputs": [
        {
          "output_type": "execute_result",
          "data": {
            "text/html": [
              "<div>\n",
              "<style scoped>\n",
              "    .dataframe tbody tr th:only-of-type {\n",
              "        vertical-align: middle;\n",
              "    }\n",
              "\n",
              "    .dataframe tbody tr th {\n",
              "        vertical-align: top;\n",
              "    }\n",
              "\n",
              "    .dataframe thead th {\n",
              "        text-align: right;\n",
              "    }\n",
              "</style>\n",
              "<table border=\"1\" class=\"dataframe\">\n",
              "  <thead>\n",
              "    <tr style=\"text-align: right;\">\n",
              "      <th></th>\n",
              "      <th>FTHG</th>\n",
              "      <th>FTAG</th>\n",
              "    </tr>\n",
              "  </thead>\n",
              "  <tbody>\n",
              "    <tr>\n",
              "      <th>70</th>\n",
              "      <td>1</td>\n",
              "      <td>2</td>\n",
              "    </tr>\n",
              "    <tr>\n",
              "      <th>92</th>\n",
              "      <td>2</td>\n",
              "      <td>1</td>\n",
              "    </tr>\n",
              "    <tr>\n",
              "      <th>97</th>\n",
              "      <td>1</td>\n",
              "      <td>3</td>\n",
              "    </tr>\n",
              "    <tr>\n",
              "      <th>318</th>\n",
              "      <td>1</td>\n",
              "      <td>1</td>\n",
              "    </tr>\n",
              "    <tr>\n",
              "      <th>334</th>\n",
              "      <td>1</td>\n",
              "      <td>3</td>\n",
              "    </tr>\n",
              "  </tbody>\n",
              "</table>\n",
              "</div>"
            ],
            "text/plain": [
              "     FTHG  FTAG\n",
              "70      1     2\n",
              "92      2     1\n",
              "97      1     3\n",
              "318     1     1\n",
              "334     1     3"
            ]
          },
          "metadata": {
            "tags": []
          },
          "execution_count": 112
        }
      ]
    },
    {
      "metadata": {
        "id": "udjYU2TaCClX",
        "colab_type": "code",
        "colab": {}
      },
      "cell_type": "code",
      "source": [
        "def input_fn(features, targets, batch_size=1, shuffle=True, num_epochs=None):\n",
        "    \"\"\"Trains a linear regression model of one feature.\n",
        "  \n",
        "    Args:\n",
        "      features: pandas DataFrame of features\n",
        "      targets: pandas DataFrame of targets\n",
        "      batch_size: Size of batches to be passed to the model\n",
        "      shuffle: True or False. Whether to shuffle the data.\n",
        "      num_epochs: Number of epochs for which data should be repeated. None = repeat indefinitely\n",
        "    Returns:\n",
        "      Tuple of (features, labels) for next data batch\n",
        "    \"\"\"\n",
        " \n",
        "    # Construct a dataset, and configure batching/repeating\n",
        "    features = {key:np.array(value) for key,value in dict(features).items()} \n",
        "  \n",
        "    ds = Dataset.from_tensor_slices((features, targets))\n",
        "    ds = ds.batch(batch_size).repeat(num_epochs)\n",
        "    \n",
        "    # Shuffle the data, if specified\n",
        "    if shuffle:\n",
        "      ds = ds.shuffle(buffer_size=10000)\n",
        "    \n",
        "    # Return the next batch of data\n",
        "    features, labels = ds.make_one_shot_iterator().get_next()\n",
        "    return features, labels"
      ],
      "execution_count": 0,
      "outputs": []
    },
    {
      "metadata": {
        "id": "XauzWrcNCh0J",
        "colab_type": "code",
        "colab": {}
      },
      "cell_type": "code",
      "source": [
        "train_input_fn = lambda: input_fn(x_train, y_train)"
      ],
      "execution_count": 0,
      "outputs": []
    },
    {
      "metadata": {
        "id": "MUKqyBqocZJ_",
        "colab_type": "code",
        "colab": {}
      },
      "cell_type": "code",
      "source": [
        "train_perdict_input_fn = lambda: input_fn(x_eval, y_eval, num_epochs=1, shuffle=False)"
      ],
      "execution_count": 0,
      "outputs": []
    },
    {
      "metadata": {
        "id": "_QCb9zcOCf3A",
        "colab_type": "code",
        "colab": {}
      },
      "cell_type": "code",
      "source": [
        "eval_perdict_input_fn = lambda: input_fn(x_eval, y_eval, num_epochs=1, shuffle=False)"
      ],
      "execution_count": 0,
      "outputs": []
    },
    {
      "metadata": {
        "id": "YXjdJK8zbfW5",
        "colab_type": "code",
        "colab": {}
      },
      "cell_type": "code",
      "source": [
        "test_perdict_input_fun = lambda: input_fn(x_test, y_test, num_epochs=1, shuffle=False)"
      ],
      "execution_count": 0,
      "outputs": []
    },
    {
      "metadata": {
        "id": "_rvAbHuFjCND",
        "colab_type": "code",
        "colab": {}
      },
      "cell_type": "code",
      "source": [
        "STEPS = 5000  # Steps of train loop.\n",
        "HIDDEN = [1000, 1000, 1000, 1000]\n",
        "PERIODS = 10\n",
        "STEPS_PER_PERIOD = STEPS / PERIODS"
      ],
      "execution_count": 0,
      "outputs": []
    },
    {
      "metadata": {
        "id": "3AkQHk0ObqPJ",
        "colab_type": "code",
        "colab": {}
      },
      "cell_type": "code",
      "source": [
        ""
      ],
      "execution_count": 0,
      "outputs": []
    },
    {
      "metadata": {
        "id": "O4Fyeywlz4dm",
        "colab_type": "code",
        "colab": {}
      },
      "cell_type": "code",
      "source": [
        "feature_cols = [\n",
        "  tf.feature_column.numeric_column(\"FTHG\"),\n",
        "  tf.feature_column.numeric_column(\"FTAG\")\n",
        "]"
      ],
      "execution_count": 0,
      "outputs": []
    },
    {
      "metadata": {
        "id": "wR1wAHC0b8R5",
        "colab_type": "code",
        "colab": {
          "base_uri": "https://localhost:8080/",
          "height": 88
        },
        "outputId": "d046d9f2-6db8-4ec7-b8be-f3a856662f19"
      },
      "cell_type": "code",
      "source": [
        "model = tf.estimator.DNNClassifier(\n",
        "    feature_columns = feature_cols,\n",
        "    hidden_units = HIDDEN,\n",
        "    n_classes = len(result_classes)\n",
        ")"
      ],
      "execution_count": 0,
      "outputs": [
        {
          "output_type": "stream",
          "text": [
            "INFO:tensorflow:Using default config.\n",
            "WARNING:tensorflow:Using temporary folder as model directory: /tmp/tmp6kfudqxm\n",
            "INFO:tensorflow:Using config: {'_model_dir': '/tmp/tmp6kfudqxm', '_tf_random_seed': None, '_save_summary_steps': 100, '_save_checkpoints_steps': None, '_save_checkpoints_secs': 600, '_session_config': None, '_keep_checkpoint_max': 5, '_keep_checkpoint_every_n_hours': 10000, '_log_step_count_steps': 100, '_train_distribute': None, '_device_fn': None, '_service': None, '_cluster_spec': <tensorflow.python.training.server_lib.ClusterSpec object at 0x7fbd9dc44518>, '_task_type': 'worker', '_task_id': 0, '_global_id_in_cluster': 0, '_master': '', '_evaluation_master': '', '_is_chief': True, '_num_ps_replicas': 0, '_num_worker_replicas': 1}\n"
          ],
          "name": "stdout"
        }
      ]
    },
    {
      "metadata": {
        "id": "xibCYiz3by1B",
        "colab_type": "code",
        "colab": {
          "base_uri": "https://localhost:8080/",
          "height": 2516
        },
        "outputId": "57c9d6c7-dab6-4e9e-8417-031de32f2b37"
      },
      "cell_type": "code",
      "source": [
        "for period in range(0, PERIODS):\n",
        "  model.train(input_fn=train_input_fn, steps=STEPS)\n",
        "  train_predict = model.predict(input_fn=train_perdict_input_fn)\n",
        "  eval_predict = model.predict(input_fn=eval_perdict_input_fn)"
      ],
      "execution_count": 0,
      "outputs": [
        {
          "output_type": "stream",
          "text": [
            "INFO:tensorflow:Calling model_fn.\n",
            "INFO:tensorflow:Done calling model_fn.\n",
            "INFO:tensorflow:Create CheckpointSaverHook.\n",
            "INFO:tensorflow:Graph was finalized.\n",
            "INFO:tensorflow:Running local_init_op.\n",
            "INFO:tensorflow:Done running local_init_op.\n",
            "INFO:tensorflow:Saving checkpoints for 0 into /tmp/tmp6kfudqxm/model.ckpt.\n",
            "INFO:tensorflow:loss = 1.094349, step = 0\n",
            "INFO:tensorflow:global_step/sec: 170.772\n",
            "INFO:tensorflow:loss = 0.024890399, step = 100 (0.593 sec)\n",
            "INFO:tensorflow:global_step/sec: 191.328\n",
            "INFO:tensorflow:loss = 0.008236253, step = 200 (0.517 sec)\n",
            "INFO:tensorflow:global_step/sec: 186.963\n",
            "INFO:tensorflow:loss = 1.2636105e-05, step = 300 (0.538 sec)\n",
            "INFO:tensorflow:global_step/sec: 190.378\n",
            "INFO:tensorflow:loss = 0.0019343253, step = 400 (0.529 sec)\n",
            "INFO:tensorflow:global_step/sec: 195.558\n",
            "INFO:tensorflow:loss = 0.0012399612, step = 500 (0.508 sec)\n",
            "INFO:tensorflow:global_step/sec: 198.526\n",
            "INFO:tensorflow:loss = 0.0, step = 600 (0.503 sec)\n",
            "INFO:tensorflow:global_step/sec: 201.234\n",
            "INFO:tensorflow:loss = 0.00034552804, step = 700 (0.494 sec)\n",
            "INFO:tensorflow:global_step/sec: 193.487\n",
            "INFO:tensorflow:loss = 0.0, step = 800 (0.520 sec)\n",
            "INFO:tensorflow:global_step/sec: 185.241\n",
            "INFO:tensorflow:loss = 0.00038032452, step = 900 (0.536 sec)\n",
            "INFO:tensorflow:global_step/sec: 189.234\n",
            "INFO:tensorflow:loss = 6.4490145e-05, step = 1000 (0.533 sec)\n",
            "INFO:tensorflow:global_step/sec: 191.709\n",
            "INFO:tensorflow:loss = 0.0, step = 1100 (0.518 sec)\n",
            "INFO:tensorflow:global_step/sec: 185.7\n",
            "INFO:tensorflow:loss = 0.00012313561, step = 1200 (0.544 sec)\n",
            "INFO:tensorflow:global_step/sec: 190.527\n",
            "INFO:tensorflow:loss = 5.0662664e-05, step = 1300 (0.521 sec)\n",
            "INFO:tensorflow:global_step/sec: 187.188\n",
            "INFO:tensorflow:loss = 0.00019298121, step = 1400 (0.532 sec)\n",
            "INFO:tensorflow:global_step/sec: 191.086\n",
            "INFO:tensorflow:loss = 3.8623064e-05, step = 1500 (0.529 sec)\n",
            "INFO:tensorflow:global_step/sec: 182.604\n",
            "INFO:tensorflow:loss = 3.3020428e-05, step = 1600 (0.543 sec)\n",
            "INFO:tensorflow:global_step/sec: 192.522\n",
            "INFO:tensorflow:loss = 0.0, step = 1700 (0.524 sec)\n",
            "INFO:tensorflow:global_step/sec: 171.006\n",
            "INFO:tensorflow:loss = 4.482169e-05, step = 1800 (0.580 sec)\n",
            "INFO:tensorflow:global_step/sec: 185.429\n",
            "INFO:tensorflow:loss = 8.60654e-05, step = 1900 (0.544 sec)\n",
            "INFO:tensorflow:global_step/sec: 187.524\n",
            "INFO:tensorflow:loss = 3.886147e-05, step = 2000 (0.533 sec)\n",
            "INFO:tensorflow:global_step/sec: 189.219\n",
            "INFO:tensorflow:loss = 1.1920928e-07, step = 2100 (0.528 sec)\n",
            "INFO:tensorflow:global_step/sec: 186.133\n",
            "INFO:tensorflow:loss = 1.883489e-05, step = 2200 (0.533 sec)\n",
            "INFO:tensorflow:global_step/sec: 195.768\n",
            "INFO:tensorflow:loss = 0.0, step = 2300 (0.512 sec)\n",
            "INFO:tensorflow:global_step/sec: 192.162\n",
            "INFO:tensorflow:loss = 0.0, step = 2400 (0.523 sec)\n",
            "INFO:tensorflow:global_step/sec: 184.789\n",
            "INFO:tensorflow:loss = 1.3708975e-05, step = 2500 (0.539 sec)\n",
            "INFO:tensorflow:global_step/sec: 191.545\n",
            "INFO:tensorflow:loss = 1.633154e-05, step = 2600 (0.526 sec)\n",
            "INFO:tensorflow:global_step/sec: 184.277\n",
            "INFO:tensorflow:loss = 0.00015817821, step = 2700 (0.544 sec)\n",
            "INFO:tensorflow:global_step/sec: 190.886\n"
          ],
          "name": "stdout"
        },
        {
          "output_type": "stream",
          "text": [
            "INFO:tensorflow:loss = 0.0, step = 2800 (0.524 sec)\n",
            "INFO:tensorflow:global_step/sec: 182.276\n",
            "INFO:tensorflow:loss = 6.6158966e-05, step = 2900 (0.548 sec)\n",
            "INFO:tensorflow:global_step/sec: 191.565\n",
            "INFO:tensorflow:loss = 4.9709037e-05, step = 3000 (0.517 sec)\n",
            "INFO:tensorflow:global_step/sec: 186.838\n",
            "INFO:tensorflow:loss = 4.8636208e-05, step = 3100 (0.536 sec)\n",
            "INFO:tensorflow:global_step/sec: 195.556\n",
            "INFO:tensorflow:loss = 1.1682442e-05, step = 3200 (0.516 sec)\n",
            "INFO:tensorflow:global_step/sec: 188.53\n",
            "INFO:tensorflow:loss = 9.417489e-06, step = 3300 (0.530 sec)\n",
            "INFO:tensorflow:global_step/sec: 195.091\n",
            "INFO:tensorflow:loss = 0.0, step = 3400 (0.510 sec)\n",
            "INFO:tensorflow:global_step/sec: 187.928\n",
            "INFO:tensorflow:loss = 0.00011789104, step = 3500 (0.536 sec)\n",
            "INFO:tensorflow:global_step/sec: 188.696\n",
            "INFO:tensorflow:loss = 4.6252135e-05, step = 3600 (0.524 sec)\n",
            "INFO:tensorflow:global_step/sec: 187.343\n",
            "INFO:tensorflow:loss = 9.7751135e-06, step = 3700 (0.536 sec)\n",
            "INFO:tensorflow:global_step/sec: 185.465\n",
            "INFO:tensorflow:loss = 0.0, step = 3800 (0.540 sec)\n",
            "INFO:tensorflow:global_step/sec: 185.267\n",
            "INFO:tensorflow:loss = 1.5020258e-05, step = 3900 (0.541 sec)\n",
            "INFO:tensorflow:global_step/sec: 186.448\n",
            "INFO:tensorflow:loss = 0.0, step = 4000 (0.536 sec)\n",
            "INFO:tensorflow:global_step/sec: 185.667\n",
            "INFO:tensorflow:loss = 1.442422e-05, step = 4100 (0.540 sec)\n",
            "INFO:tensorflow:global_step/sec: 188.621\n",
            "INFO:tensorflow:loss = 0.0, step = 4200 (0.531 sec)\n",
            "INFO:tensorflow:global_step/sec: 191.934\n",
            "INFO:tensorflow:loss = 0.0, step = 4300 (0.515 sec)\n",
            "INFO:tensorflow:global_step/sec: 192.537\n",
            "INFO:tensorflow:loss = 0.0, step = 4400 (0.524 sec)\n",
            "INFO:tensorflow:global_step/sec: 187.32\n",
            "INFO:tensorflow:loss = 0.0, step = 4500 (0.532 sec)\n",
            "INFO:tensorflow:global_step/sec: 191.488\n",
            "INFO:tensorflow:loss = 1.2159274e-05, step = 4600 (0.520 sec)\n",
            "INFO:tensorflow:global_step/sec: 187.527\n",
            "INFO:tensorflow:loss = 0.00027092602, step = 4700 (0.533 sec)\n",
            "INFO:tensorflow:global_step/sec: 175.073\n",
            "INFO:tensorflow:loss = 3.564294e-05, step = 4800 (0.573 sec)\n",
            "INFO:tensorflow:global_step/sec: 200.479\n",
            "INFO:tensorflow:loss = 1.0847986e-05, step = 4900 (0.500 sec)\n",
            "INFO:tensorflow:Saving checkpoints for 5000 into /tmp/tmp6kfudqxm/model.ckpt.\n",
            "INFO:tensorflow:Loss for final step: 5.245195e-06.\n",
            "INFO:tensorflow:Calling model_fn.\n",
            "INFO:tensorflow:Done calling model_fn.\n",
            "INFO:tensorflow:Create CheckpointSaverHook.\n",
            "INFO:tensorflow:Graph was finalized.\n",
            "INFO:tensorflow:Restoring parameters from /tmp/tmp6kfudqxm/model.ckpt-5000\n",
            "INFO:tensorflow:Running local_init_op.\n",
            "INFO:tensorflow:Done running local_init_op.\n",
            "INFO:tensorflow:Saving checkpoints for 5000 into /tmp/tmp6kfudqxm/model.ckpt.\n",
            "INFO:tensorflow:loss = 2.6940936e-05, step = 5000\n",
            "INFO:tensorflow:global_step/sec: 158.069\n",
            "INFO:tensorflow:loss = 7.2715025e-05, step = 5100 (0.635 sec)\n",
            "INFO:tensorflow:global_step/sec: 203.813\n",
            "INFO:tensorflow:loss = 0.0, step = 5200 (0.495 sec)\n",
            "INFO:tensorflow:global_step/sec: 199.179\n",
            "INFO:tensorflow:loss = 0.0, step = 5300 (0.497 sec)\n",
            "INFO:tensorflow:global_step/sec: 198.222\n",
            "INFO:tensorflow:loss = 2.5629668e-05, step = 5400 (0.510 sec)\n"
          ],
          "name": "stdout"
        },
        {
          "output_type": "stream",
          "text": [
            "INFO:tensorflow:global_step/sec: 200.791\n",
            "INFO:tensorflow:loss = 0.0, step = 5500 (0.498 sec)\n",
            "INFO:tensorflow:global_step/sec: 192.661\n",
            "INFO:tensorflow:loss = 6.413254e-05, step = 5600 (0.515 sec)\n",
            "INFO:tensorflow:global_step/sec: 198.571\n",
            "INFO:tensorflow:loss = 2.396078e-05, step = 5700 (0.503 sec)\n",
            "INFO:tensorflow:global_step/sec: 195.975\n",
            "INFO:tensorflow:loss = 0.0, step = 5800 (0.512 sec)\n",
            "INFO:tensorflow:global_step/sec: 193.5\n",
            "INFO:tensorflow:loss = 4.6491514e-06, step = 5900 (0.520 sec)\n",
            "INFO:tensorflow:global_step/sec: 195.217\n",
            "INFO:tensorflow:loss = 0.0, step = 6000 (0.508 sec)\n",
            "INFO:tensorflow:global_step/sec: 182.515\n",
            "INFO:tensorflow:loss = 0.00018249277, step = 6100 (0.548 sec)\n",
            "INFO:tensorflow:global_step/sec: 191.352\n",
            "INFO:tensorflow:loss = 0.00018058576, step = 6200 (0.527 sec)\n",
            "INFO:tensorflow:global_step/sec: 191.905\n",
            "INFO:tensorflow:loss = 0.0, step = 6300 (0.521 sec)\n",
            "INFO:tensorflow:global_step/sec: 188.264\n",
            "INFO:tensorflow:loss = 2.324554e-05, step = 6400 (0.529 sec)\n",
            "INFO:tensorflow:global_step/sec: 194.596\n",
            "INFO:tensorflow:loss = 2.3483954e-05, step = 6500 (0.512 sec)\n"
          ],
          "name": "stdout"
        }
      ]
    },
    {
      "metadata": {
        "id": "-2swRvPBdXvZ",
        "colab_type": "code",
        "colab": {}
      },
      "cell_type": "code",
      "source": [
        "test_predict = model.predict(input_fn=test_perdict_input_fun)"
      ],
      "execution_count": 0,
      "outputs": []
    },
    {
      "metadata": {
        "id": "GWsXI3wpeins",
        "colab_type": "code",
        "colab": {
          "base_uri": "https://localhost:8080/",
          "height": 119
        },
        "outputId": "e0cf8f2f-8f48-4216-d6d3-9771912f5fa6"
      },
      "cell_type": "code",
      "source": [
        "test_predict = np.array([item['classes'][0] for item in test_predict])"
      ],
      "execution_count": 0,
      "outputs": [
        {
          "output_type": "stream",
          "text": [
            "INFO:tensorflow:Calling model_fn.\n",
            "INFO:tensorflow:Done calling model_fn.\n",
            "INFO:tensorflow:Graph was finalized.\n",
            "INFO:tensorflow:Restoring parameters from /tmp/tmpcvz6rcu9/model.ckpt-50000\n",
            "INFO:tensorflow:Running local_init_op.\n",
            "INFO:tensorflow:Done running local_init_op.\n"
          ],
          "name": "stdout"
        }
      ]
    },
    {
      "metadata": {
        "id": "89JkWcZBfzd6",
        "colab_type": "code",
        "colab": {
          "base_uri": "https://localhost:8080/",
          "height": 2618
        },
        "outputId": "bd823538-a851-47cc-de90-fbc85ffe961f"
      },
      "cell_type": "code",
      "source": [
        "for clazz in test_predict:\n",
        "  result = result_classes[int(clazz)]\n",
        "  print(result)"
      ],
      "execution_count": 0,
      "outputs": [
        {
          "output_type": "stream",
          "text": [
            "H\n",
            "A\n",
            "D\n",
            "D\n",
            "H\n",
            "D\n",
            "H\n",
            "H\n",
            "A\n",
            "A\n",
            "H\n",
            "D\n",
            "H\n",
            "D\n",
            "A\n",
            "H\n",
            "H\n",
            "H\n",
            "D\n",
            "H\n",
            "H\n",
            "D\n",
            "A\n",
            "H\n",
            "H\n",
            "H\n",
            "A\n",
            "D\n",
            "H\n",
            "H\n",
            "H\n",
            "H\n",
            "D\n",
            "A\n",
            "A\n",
            "A\n",
            "H\n",
            "H\n",
            "D\n",
            "A\n",
            "D\n",
            "D\n",
            "H\n",
            "A\n",
            "H\n",
            "A\n",
            "H\n",
            "D\n",
            "H\n",
            "H\n",
            "A\n",
            "H\n",
            "H\n",
            "A\n",
            "A\n",
            "A\n",
            "D\n",
            "D\n",
            "H\n",
            "A\n",
            "H\n",
            "D\n",
            "H\n",
            "D\n",
            "H\n",
            "A\n",
            "A\n",
            "D\n",
            "H\n",
            "H\n",
            "D\n",
            "H\n",
            "H\n",
            "H\n",
            "H\n",
            "H\n",
            "H\n",
            "D\n",
            "H\n",
            "D\n",
            "H\n",
            "H\n",
            "H\n",
            "H\n",
            "H\n",
            "H\n",
            "D\n",
            "H\n",
            "D\n",
            "H\n",
            "H\n",
            "H\n",
            "H\n",
            "D\n",
            "D\n",
            "H\n",
            "H\n",
            "H\n",
            "A\n",
            "D\n",
            "D\n",
            "H\n",
            "H\n",
            "A\n",
            "H\n",
            "H\n",
            "D\n",
            "A\n",
            "H\n",
            "A\n",
            "H\n",
            "H\n",
            "D\n",
            "A\n",
            "D\n",
            "H\n",
            "A\n",
            "A\n",
            "H\n",
            "D\n",
            "A\n",
            "D\n",
            "H\n",
            "H\n",
            "H\n",
            "D\n",
            "A\n",
            "A\n",
            "H\n",
            "A\n",
            "A\n",
            "H\n",
            "A\n",
            "H\n",
            "D\n",
            "H\n",
            "A\n",
            "A\n",
            "A\n",
            "H\n",
            "H\n",
            "A\n",
            "H\n",
            "H\n",
            "H\n",
            "D\n",
            "H\n",
            "H\n",
            "H\n",
            "A\n",
            "D\n",
            "H\n",
            "A\n"
          ],
          "name": "stdout"
        }
      ]
    }
  ]
}